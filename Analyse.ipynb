{
 "cells": [
  {
   "cell_type": "markdown",
   "metadata": {},
   "source": [
    "# TODO\n",
    "\n",
    "## Basics:\n",
    "* plotting mit pandas, matplotlib, seaborn und bokeh wdh\n",
    "* revisions verstehen! ist im state immer die letzte? wo sind die ersten? history?\n",
    "  * false attempts bei textfelder\n",
    "\n",
    "## Analyse\n",
    "### Paket\n",
    "* wie viele SuS wie weit gekommen (bedenken, dass kein Präsenz)\n",
    "  * grafik fürs ganze paket in prozent\n",
    "  * anzahl einzelner aufgaben --> boxplot von df[\"_id\"].value_counts()\n",
    "\n",
    "### Items (für alle Aufgaben, aber besonders MA)\n",
    "* [x] für Selbsteinschätzung:\n",
    "  * [x] min, max mean, median, streuung (IQD, std)\n",
    "  * [x] boxplot\n",
    "  * violinplot\n",
    "  * ausreißer\n",
    "  * selbsteinschätzung korrelieren mit Antworten?\n",
    "* MC\n",
    "  * [x] balkendiagramm\n",
    "  * false attempts? historie? \n",
    "  * ratio richtig zu falsch\n",
    "  * prozent als tortendiagramm?\n",
    "  * welche Antworten war die schweren? wo haben SuS fehler gemacht? --> misskonzepte / schlechte formulierungen?\n",
    "* freetext\n",
    "  * prozent angenommen vs zurückgegeben, wie oft zurückgegeben --> wo am öftesten?\n",
    "  * wie lang im durchschnitt die antworten\n",
    "  * bewertung der lehrer\n",
    "  * nach eigenen kategorien checken\n",
    "  * wie oft revisions\n",
    "  * historie\n",
    "  * (response time lehrer)\n",
    "* textfelder (wie mc?)\n",
    "* (surveys)\n",
    " \n",
    "#### Durations\n",
    "* Dauer\n",
    "  * jeder Aufgabe: \n",
    "    * mean, median, std\n",
    "    * histogram dauer für jede aufgabe\n",
    "    * längste aufgabe\n",
    "  * jedes Aufgabentyps (siehe oben)\n",
    "\n",
    "#### Rest\n",
    "* Anzahl Hilfeanfragen?\n",
    "* (wie wird der chat genutzt?)\n",
    "\n",
    "### Lernfortschrittsanalyse der Schüler\n",
    "* T0 und T1 vergleich\n",
    "  * selbsteinschätzung vorher nachher\n",
    "  * freitext einer Klasse / random gezogen aus allen. nach Kategorien?\n",
    "  * MC antworten & transfer --> wirklich verstanden?\n",
    "* (Dauer für Schüler vergleichen)\n",
    "  * hist aller Aufgaben, bzw nach Aufgabentyp, bzw relativ zum Klassendurchschnitt dieser Aufgaben!\n",
    "* (stärke eines schülers evaluieren: duration. richtig vs falsch/false attempts. hilfe rufen vs hilfe geben.)\n",
    "\n",
    "## Aufbereitung\n",
    "* Code cleanen\n",
    "* vllt eine interactive bokeh app machen, die ich den profs noch zur verfügung stelle?\n",
    "* öffentlich machen?"
   ]
  },
  {
   "cell_type": "code",
   "execution_count": 1,
   "metadata": {},
   "outputs": [],
   "source": [
    "import json\n",
    "import math\n",
    "import numpy as np\n",
    "import pandas as pd\n",
    "import matplotlib.pyplot as plt\n",
    "import statistics \n",
    "import seaborn as sns\n",
    "from numpy.random import randn\n",
    "from statistics import mode\n",
    "%matplotlib inline"
   ]
  },
  {
   "cell_type": "code",
   "execution_count": 2,
   "metadata": {},
   "outputs": [
    {
     "data": {
      "text/plain": [
       "2946"
      ]
     },
     "execution_count": 2,
     "metadata": {},
     "output_type": "execute_result"
    }
   ],
   "source": [
    "pupils = json.load(open('pupils.json', 'r'))    # result will be a python dictionary\n",
    "\n",
    "#jeder entry ist ein schüler: zB data[0]\n",
    "len(pupils)\n",
    "#2715"
   ]
  },
  {
   "cell_type": "markdown",
   "metadata": {},
   "source": [
    "# Aufbau der Daten\n",
    "\n",
    "* _id\n",
    "* classId\n",
    "* userId\n",
    "* companyId\n",
    "* partner\n",
    "* lang\n",
    "* username\n",
    "* shownTaskSeries\n",
    "* currentTaskSeries\n",
    "* solvedTaskSeries\n",
    "    * [] liste mit allen solvedTaskSeries\n",
    "       * taskSeriesId\n",
    "       * currentSections\n",
    "          * [] Liste mit allen Sections\n",
    "             * currentSubSections\n",
    "                * []\n",
    "                   * duration (in sekunden)\n",
    "                   * exercise\n",
    "                      * state:\n",
    "                         * text bei freitext in p tags\n",
    "                         * 0, 1, 0... bei survey\n",
    "                         * false, true, false bei MC\n",
    "                      * submitted: true\n",
    "                      * history: wahrscheinlich alte versionen bei freetext\n",
    "                      * subType “freetext”, “survey”, “multipleChoice”\n",
    "                      * falseAttempts bei MC: bool array mit erster lösung\n",
    "                      * evaluation: (bool) bei freetext und MC\n",
    "                         * “false” bei mc wenn falsche lösung und keine tipps → direkt musterlösung\n",
    "                         * “correct” bei mc wenn richtige lösung\n",
    "                         * “pending” bei freitext, wenn lehrer noch nicht bewertet\n",
    "                      * rating: bei freetext\n",
    "      * sectionIdx\n",
    "      * subSectionIdx\n",
    "      * stage\n",
    "      * wentActive\n",
    "      * lastActive\n",
    "      * created\n",
    "* revisions\n",
    "   * _id\n",
    "   * taskSeriesId\n",
    "   * sectionIdx\n",
    "   * subSectionIdx\n",
    "   * begin\n",
    "   * accepted\n",
    "* workspaceContent\n",
    "   * type: 'revision'\n",
    "   * 'id': 'For-1_0_1'\n",
    "* chat\n",
    "   * messages\n",
    "      * [] liste mit allen messages\n",
    "         * date\n",
    "         * sentBy: zB \"auto\"\n",
    "         * message: string mit message\n",
    "   * readUpTo\n",
    "* assists\n",
    "* experience\n",
    "* lastNotificationUpdate"
   ]
  },
  {
   "cell_type": "markdown",
   "metadata": {},
   "source": [
    "# Klassen wählen, die das KI Paket gemacht haben"
   ]
  },
  {
   "cell_type": "code",
   "execution_count": 3,
   "metadata": {},
   "outputs": [
    {
     "name": "stdout",
     "output_type": "stream",
     "text": [
      "{'uxfuiLT4xZA6yvE6L': {'count': 2}, 'qFEyvypMn4sAwLwtc': {'count': 26}, 'y7j9eKDPsqNkAycuy': {'count': 1}, '6Z2MmkKQKebb7nz8P': {'count': 3}, '4fyXxCKaLbCBaPbYE': {'count': 1}, 'xYWgeSPkADwSmhdmm': {'count': 1}, 'GkQSJvPTRWsLnpyR9': {'count': 14}}\n",
      "\n",
      "Zur Zeit gibt es 40 sus, die das KI Paket bearbeitet haben\n"
     ]
    }
   ],
   "source": [
    "# taskseriesIDs vom KI Paket:\n",
    "KI_taskseries_ids = [\"AI-1-v2\", \"AI-2-v2\", \"AI-3-v2\", \"AI-4-v2\", \"ML-1\", \"ML-2\", \"ML-3\", \"Classification-1\", \"Clustering-1\", \"Classification-2\", \"Clustering-2\", \"LimitsML\", \"EvalML\", \"Impact-1\", \"Impact-2\", \"Impact-3\", \"Impact-4\", \"AIClosing\"]\n",
    "\n",
    "classIDsKI = []\n",
    "pupilsKI = []\n",
    "\n",
    "for pupilnumber in range(len(pupils)): #für jeden schüler\n",
    "    for tasknumber in range(len(pupils[pupilnumber][\"solvedTaskSeries\"])): #für jede seiner tasks\n",
    "        if(pupils[pupilnumber][\"solvedTaskSeries\"][tasknumber][\"taskSeriesId\"] in KI_taskseries_ids):\n",
    "            for sectionnumber in range(len(pupils[pupilnumber][\"solvedTaskSeries\"][tasknumber][\"currentSections\"])): #für diese tasks, alle sections\n",
    "                for subsectionnumber in range(len(pupils[pupilnumber][\"solvedTaskSeries\"][tasknumber][\"currentSections\"][sectionnumber][\"currentSubSections\"])):\n",
    "                    if(\"exercise\" in pupils[pupilnumber][\"solvedTaskSeries\"][tasknumber][\"currentSections\"][sectionnumber][\"currentSubSections\"][subsectionnumber].keys()):\n",
    "                        if pupils[pupilnumber][\"classId\"] not in classIDsKI:\n",
    "                            classIDsKI.append(pupils[pupilnumber][\"classId\"])\n",
    "                        if pupils[pupilnumber] not in pupilsKI:\n",
    "                            pupilsKI.append(pupils[pupilnumber])\n",
    "\n",
    "KI_classes = {classID: {\"count\": 0} for classID in classIDsKI}\n",
    "\n",
    "for pupil in pupilsKI:\n",
    "    KI_classes[pupil[\"classId\"]][\"count\"] += 1\n",
    "\n",
    "print(KI_classes)\n",
    "print(\"\")\n",
    "\n",
    "# Jetzt nur die Klassen mit genügend SuS auswählen\n",
    "final_pupils_KI = []\n",
    "min_class_size = 10\n",
    "\n",
    "for pupil in pupilsKI:\n",
    "    if(KI_classes[pupil[\"classId\"]][\"count\"] >= min_class_size):\n",
    "        final_pupils_KI.append(pupil)\n",
    "\n",
    "print(\"Zur Zeit gibt es \" + str(len(final_pupils_KI)) + \" sus, die das KI Paket bearbeitet haben\")"
   ]
  },
  {
   "cell_type": "markdown",
   "metadata": {},
   "source": [
    "# Alle von SuS bearbeitete Aufgaben im KI Paket in einen DF"
   ]
  },
  {
   "cell_type": "code",
   "execution_count": 16,
   "metadata": {},
   "outputs": [
    {
     "data": {
      "text/html": [
       "<div>\n",
       "<style scoped>\n",
       "    .dataframe tbody tr th:only-of-type {\n",
       "        vertical-align: middle;\n",
       "    }\n",
       "\n",
       "    .dataframe tbody tr th {\n",
       "        vertical-align: top;\n",
       "    }\n",
       "\n",
       "    .dataframe thead th {\n",
       "        text-align: right;\n",
       "    }\n",
       "</style>\n",
       "<table border=\"1\" class=\"dataframe\">\n",
       "  <thead>\n",
       "    <tr style=\"text-align: right;\">\n",
       "      <th></th>\n",
       "      <th>pupilId</th>\n",
       "      <th>taskId</th>\n",
       "      <th>taskSeriesId</th>\n",
       "      <th>state</th>\n",
       "      <th>submitted</th>\n",
       "      <th>history</th>\n",
       "      <th>subType</th>\n",
       "      <th>evaluation</th>\n",
       "      <th>falseAttempts</th>\n",
       "      <th>hintsTaken</th>\n",
       "      <th>rating</th>\n",
       "      <th>teacherFeedback</th>\n",
       "    </tr>\n",
       "  </thead>\n",
       "  <tbody>\n",
       "    <tr>\n",
       "      <th>0</th>\n",
       "      <td>bniRycMi5bwrXjvGy</td>\n",
       "      <td>AI-1-v2-1-1</td>\n",
       "      <td>AI-1-v2</td>\n",
       "      <td>92</td>\n",
       "      <td>True</td>\n",
       "      <td>[]</td>\n",
       "      <td>surveySlider</td>\n",
       "      <td>NaN</td>\n",
       "      <td>NaN</td>\n",
       "      <td>NaN</td>\n",
       "      <td>NaN</td>\n",
       "      <td>NaN</td>\n",
       "    </tr>\n",
       "    <tr>\n",
       "      <th>1</th>\n",
       "      <td>bniRycMi5bwrXjvGy</td>\n",
       "      <td>AI-1-v2-1-2</td>\n",
       "      <td>AI-1-v2</td>\n",
       "      <td>&lt;p&gt;Künstliche Intelligenz ist ein Algorithmus,...</td>\n",
       "      <td>True</td>\n",
       "      <td>[]</td>\n",
       "      <td>freetext</td>\n",
       "      <td>correct</td>\n",
       "      <td>NaN</td>\n",
       "      <td>NaN</td>\n",
       "      <td>{'content': 3, 'format': 5, 'creativity': 4}</td>\n",
       "      <td>Inhaltlich gut, etwas genauer antworten. Muste...</td>\n",
       "    </tr>\n",
       "    <tr>\n",
       "      <th>2</th>\n",
       "      <td>bniRycMi5bwrXjvGy</td>\n",
       "      <td>AI-1-v2-2-1</td>\n",
       "      <td>AI-1-v2</td>\n",
       "      <td>[0, 0, 1, 0, 0]</td>\n",
       "      <td>True</td>\n",
       "      <td>[]</td>\n",
       "      <td>survey</td>\n",
       "      <td>NaN</td>\n",
       "      <td>NaN</td>\n",
       "      <td>NaN</td>\n",
       "      <td>NaN</td>\n",
       "      <td>NaN</td>\n",
       "    </tr>\n",
       "    <tr>\n",
       "      <th>4</th>\n",
       "      <td>bniRycMi5bwrXjvGy</td>\n",
       "      <td>AI-2-v2-1-1</td>\n",
       "      <td>AI-2-v2</td>\n",
       "      <td>[True, True, False, True]</td>\n",
       "      <td>True</td>\n",
       "      <td>[]</td>\n",
       "      <td>multipleChoice</td>\n",
       "      <td>correct</td>\n",
       "      <td>NaN</td>\n",
       "      <td>NaN</td>\n",
       "      <td>NaN</td>\n",
       "      <td>NaN</td>\n",
       "    </tr>\n",
       "    <tr>\n",
       "      <th>6</th>\n",
       "      <td>bniRycMi5bwrXjvGy</td>\n",
       "      <td>AI-3-v2-1-1</td>\n",
       "      <td>AI-3-v2</td>\n",
       "      <td>[False, False, False]</td>\n",
       "      <td>True</td>\n",
       "      <td>[]</td>\n",
       "      <td>multipleChoice</td>\n",
       "      <td>correct</td>\n",
       "      <td>NaN</td>\n",
       "      <td>NaN</td>\n",
       "      <td>NaN</td>\n",
       "      <td>NaN</td>\n",
       "    </tr>\n",
       "  </tbody>\n",
       "</table>\n",
       "</div>"
      ],
      "text/plain": [
       "             pupilId       taskId taskSeriesId  \\\n",
       "0  bniRycMi5bwrXjvGy  AI-1-v2-1-1      AI-1-v2   \n",
       "1  bniRycMi5bwrXjvGy  AI-1-v2-1-2      AI-1-v2   \n",
       "2  bniRycMi5bwrXjvGy  AI-1-v2-2-1      AI-1-v2   \n",
       "4  bniRycMi5bwrXjvGy  AI-2-v2-1-1      AI-2-v2   \n",
       "6  bniRycMi5bwrXjvGy  AI-3-v2-1-1      AI-3-v2   \n",
       "\n",
       "                                               state submitted history  \\\n",
       "0                                                 92      True      []   \n",
       "1  <p>Künstliche Intelligenz ist ein Algorithmus,...      True      []   \n",
       "2                                    [0, 0, 1, 0, 0]      True      []   \n",
       "4                          [True, True, False, True]      True      []   \n",
       "6                              [False, False, False]      True      []   \n",
       "\n",
       "          subType evaluation falseAttempts hintsTaken  \\\n",
       "0    surveySlider        NaN           NaN        NaN   \n",
       "1        freetext    correct           NaN        NaN   \n",
       "2          survey        NaN           NaN        NaN   \n",
       "4  multipleChoice    correct           NaN        NaN   \n",
       "6  multipleChoice    correct           NaN        NaN   \n",
       "\n",
       "                                         rating  \\\n",
       "0                                           NaN   \n",
       "1  {'content': 3, 'format': 5, 'creativity': 4}   \n",
       "2                                           NaN   \n",
       "4                                           NaN   \n",
       "6                                           NaN   \n",
       "\n",
       "                                     teacherFeedback  \n",
       "0                                                NaN  \n",
       "1  Inhaltlich gut, etwas genauer antworten. Muste...  \n",
       "2                                                NaN  \n",
       "4                                                NaN  \n",
       "6                                                NaN  "
      ]
     },
     "execution_count": 16,
     "metadata": {},
     "output_type": "execute_result"
    }
   ],
   "source": [
    "tasktypes = [\"blockly\", \"multipleChoice\", \"freetext\", \"survey\", \"inputField\", \"surveySlider\", \"noTask\"]\n",
    "exercise_keys = ['state', 'submitted', 'history', 'subType', 'evaluation', 'falseAttempts', 'hintsTaken', 'rating', 'teacherFeedback']\n",
    "\n",
    "# TODO: nehme hier alle Aufgaben von SuS, die das KI Paket bearbeitet haben, nicht nur diese Inhalte --> einschränken?\n",
    "\n",
    "columns = [\"pupilId\", \"taskId\", \"taskSeriesId\"] + exercise_keys\n",
    "pupil_df = pd.DataFrame(columns=columns)\n",
    "\n",
    "row_nr = 0\n",
    "for pupil in final_pupils_KI:\n",
    "    for task in pupil[\"solvedTaskSeries\"]:\n",
    "        sec_nr = 1\n",
    "        for section in task[\"currentSections\"]:\n",
    "            subsec_nr = 1\n",
    "            for subsection in section[\"currentSubSections\"]:\n",
    "                # eine neue Zeile hinzufügen für jede bearbeitete Aufgabe und id columns füllen\n",
    "                #df = df.append({\"pupilId\": pupil[\"_id\"], \"taskId\": str(task[\"taskSeriesId\"])+\"-\"+str(sec_nr)+\"-\"+str(subsec_nr),'taskSeriesId': task[\"taskSeriesId\"], \"sec_nr\": sec_nr, \"subsec_nr\": subsec_nr}, ignore_index=True)\n",
    "                pupil_df = pupil_df.append({\"pupilId\": pupil[\"_id\"], \"taskId\": str(task[\"taskSeriesId\"])+\"-\"+str(sec_nr)+\"-\"+str(subsec_nr),'taskSeriesId': task[\"taskSeriesId\"]}, ignore_index=True)\n",
    "                subsec_nr += 1\n",
    "                if(\"exercise\" in subsection.keys()):\n",
    "                    # hier wird der eigentliche state der aufgabe in die reihe eingetragen\n",
    "                    for key in subsection[\"exercise\"].keys():\n",
    "                        pupil_df.at[row_nr, key] = subsection[\"exercise\"][key]\n",
    "                row_nr += 1\n",
    "            sec_nr +=1\n",
    "    \n",
    "# aufgaben loswerden, die nicht submitted wurden!\n",
    "pupil_df.dropna(subset=['submitted'], inplace=True)\n",
    "\n",
    "#die antworten der einen falschen aufgabe berichtigen\n",
    "for index in pupil_df.index:\n",
    "    if(pupil_df.loc[index, \"taskId\"] == \"Classification-2-1-5\"):\n",
    "        if (\"2\" in str(pupil_df.loc[index, \"falseAttempts\"])): #die SuS, die es eigentlich richtig hatten\n",
    "            pupil_df.loc[index, \"falseAttempts\"] = np.nan\n",
    "            pupil_df.loc[index, \"evaluation\"] = \"correct\"\n",
    "        elif(pupil_df.loc[index, \"pupilId\"]==\"gooproPtWeTH6dtcB\"): #der eine schüler, der es falsch hatte\n",
    "            pupil_df.loc[index, \"falseAttempts\"] = [str(df.loc[index, \"state\"])]\n",
    "            pupil_df.loc[index, \"evaluation\"] = \"false\"\n",
    "\n",
    "pupil_df.head()\n",
    "\n"
   ]
  },
  {
   "cell_type": "code",
   "execution_count": 5,
   "metadata": {},
   "outputs": [],
   "source": [
    "#taskSeries Laden\n",
    "taskSeries = json.load(open('taskSeries.json', 'r'))    # result will be a python dictionary"
   ]
  },
  {
   "cell_type": "code",
   "execution_count": 71,
   "metadata": {},
   "outputs": [],
   "source": [
    "#KI_taskseries_ids = [\"AI-1-v2\", \"AI-2-v2\", \"AI-3-v2\", \"AI-4-v2\", \"ML-1\", \"ML-2\", \"ML-3\", \"Classification-1\", \"Clustering-1\", \"Classification-2\", \"Clustering-2\", \"LimitsML\", \"EvalML\", \"Impact-1\", \"Impact-2\", \"Impact-3\", \"Impact-4\", \"AIClosing\"]\n",
    "\"\"\"\n",
    "'AI-1-v2-1-1', 'AI-1-v2-1-2', 'AI-1-v2-2-1', 'AI-2-v2-1-1',\n",
    "       'AI-3-v2-1-1', 'AI-3-v2-1-2', 'AI-4-v2-1-1', 'AI-4-v2-1-2',\n",
    "       'AI-4-v2-1-3', 'AI-4-v2-1-4', 'AI-4-v2-1-5', 'ML-1-1-1',\n",
    "       'ML-1-1-2', 'ML-1-1-3', 'ML-1-1-4', 'ML-2-1-1', 'ML-2-1-2',\n",
    "       'ML-2-1-3', 'ML-3-1-1', 'ML-3-1-2', 'ML-3-1-3', 'ML-3-1-4',\n",
    "       'Classification-1-1-1', 'Clustering-1-1-1', 'Clustering-1-1-2',\n",
    "       'Clustering-1-1-3', 'Clustering-1-1-4', 'Classification-2-1-1',\n",
    "       'Classification-2-1-2', 'Classification-2-1-3',\n",
    "       'Classification-2-1-4', 'Classification-2-1-5',\n",
    "       'Classification-2-1-6', 'Classification-2-1-7',\n",
    "       'Classification-2-1-8', 'Clustering-2-1-1', 'LimitsML-1-1',\n",
    "       'LimitsML-1-2', 'EvalML-1-1', 'EvalML-1-2', 'EvalML-1-3',\n",
    "       'EvalML-1-4', 'EvalML-1-5', 'EvalML-1-6', 'EvalML-1-7',\n",
    "       'EvalML-1-8', 'EvalML-1-9', 'Impact-1-1-1', 'Impact-2-1-1',\n",
    "       'Impact-2-1-2', 'Impact-2-1-3', 'Impact-2-1-4', 'Impact-2-1-5',\n",
    "       'Impact-2-1-6', 'Impact-2-1-7', 'Impact-3-1-1', 'Impact-3-1-2',\n",
    "       'Impact-3-1-3', 'Impact-4-1-1', 'AIClosing-1-1', 'AIClosing-1-2',\n",
    "       'AIClosing-1-3', 'AIClosing-1-4', 'AIClosing-1-5', 'AIClosing-1-6',\n",
    "       'AIClosing-1-7', 'AIClosing-1-8'\n",
    "\"\"\"\n",
    "interaction_subtypes = ['multipleChoice', 'blockly', 'surveySlider', 'survey', 'inputField', 'freetext']\n",
    "\n",
    "columns = [\"taskId\", \"question\", \"answers\", \"minLabel\", \"maxLabel\", \"hints\", \"sampleSolution\"]\n",
    "task_df = pd.DataFrame(columns=columns)\n",
    "\n",
    "row_nr = 0\n",
    "for taskSerie in taskSeries:\n",
    "    sec_nr = 1\n",
    "    if taskSerie[\"_id\"] in KI_taskseries_ids:\n",
    "        for section in taskSerie[\"sections\"]:\n",
    "            subsec_nr = 1\n",
    "            for subsection in section[\"subSections\"]:\n",
    "                for elem in subsection[\"elements\"]:\n",
    "                    if(elem[\"subType\"] in interaction_subtypes):\n",
    "                        task_df = task_df.append({\"taskId\": str(taskSerie[\"_id\"])+\"-\"+str(sec_nr)+\"-\"+str(subsec_nr), \"question\": elem[\"question\"][\"de\"]}, ignore_index=True)\n",
    "                        #task_df = task_df.append({\"taskId\": str(taskSerie[\"_id\"])+\"-\"+str(sec_nr)+\"-\"+str(subsec_nr),'taskSeriesId': taskSerie[\"_id\"], \"sec_nr\": sec_nr, \"subsec_nr\": subsec_nr, \"subType\": elem[\"subType\"], \"question\": elem[\"question\"][\"de\"]}, ignore_index=True)\n",
    "                        if(elem[\"subType\"] == \"surveySlider\"):\n",
    "                            task_df.at[row_nr, \"minLabel\"] = elem[\"specificData\"][\"minLabel\"][\"de\"]\n",
    "                            task_df.at[row_nr, \"maxLabel\"] = elem[\"specificData\"][\"maxLabel\"][\"de\"]\n",
    "                        elif(elem[\"subType\"] == \"freetext\"):\n",
    "                            task_df.at[row_nr, \"sampleSolution\"] = elem[\"sampleSolution\"][\"de\"]\n",
    "                        elif(elem[\"subType\"] == \"survey\"):\n",
    "                            task_df.at[row_nr, \"answers\"] = elem[\"specificData\"][\"answers\"]\n",
    "                        elif(elem[\"subType\"] == \"multipleChoice\"):\n",
    "                            task_df.at[row_nr, \"answers\"] = elem[\"specificData\"][\"answers\"]\n",
    "                            task_df.at[row_nr, \"sampleSolution\"] = elem[\"sampleSolution\"][\"universal\"]\n",
    "                            if(len(elem[\"hints\"]) > 0):\n",
    "                                task_df.at[row_nr, \"hints\"] = elem[\"hints\"][0][\"de\"]\n",
    "                        elif(elem[\"subType\"] == \"inputField\"):\n",
    "                            task_df.at[row_nr, \"sampleSolution\"] = elem[\"sampleSolution\"][\"universal\"]\n",
    "                            if(len(elem[\"hints\"]) > 0):\n",
    "                                task_df.at[row_nr, \"hints\"] = elem[\"hints\"][0][\"de\"]\n",
    "                        row_nr += 1\n",
    "                subsec_nr +=1\n",
    "            sec_nr +=1"
   ]
  },
  {
   "cell_type": "code",
   "execution_count": 72,
   "metadata": {},
   "outputs": [
    {
     "data": {
      "text/html": [
       "<div>\n",
       "<style scoped>\n",
       "    .dataframe tbody tr th:only-of-type {\n",
       "        vertical-align: middle;\n",
       "    }\n",
       "\n",
       "    .dataframe tbody tr th {\n",
       "        vertical-align: top;\n",
       "    }\n",
       "\n",
       "    .dataframe thead th {\n",
       "        text-align: right;\n",
       "    }\n",
       "</style>\n",
       "<table border=\"1\" class=\"dataframe\">\n",
       "  <thead>\n",
       "    <tr style=\"text-align: right;\">\n",
       "      <th></th>\n",
       "      <th>taskId</th>\n",
       "      <th>question</th>\n",
       "      <th>answers</th>\n",
       "      <th>minLabel</th>\n",
       "      <th>maxLabel</th>\n",
       "      <th>hints</th>\n",
       "      <th>sampleSolution</th>\n",
       "    </tr>\n",
       "  </thead>\n",
       "  <tbody>\n",
       "    <tr>\n",
       "      <th>0</th>\n",
       "      <td>AI-1-v2-1-1</td>\n",
       "      <td>Wie gut weißt du schon, was KI ist?</td>\n",
       "      <td>NaN</td>\n",
       "      <td>Gar nicht</td>\n",
       "      <td>Sehr gut</td>\n",
       "      <td>NaN</td>\n",
       "      <td>NaN</td>\n",
       "    </tr>\n",
       "    <tr>\n",
       "      <th>1</th>\n",
       "      <td>AI-1-v2-1-2</td>\n",
       "      <td>Was ist deiner Meinung nach Künstliche Intelli...</td>\n",
       "      <td>NaN</td>\n",
       "      <td>NaN</td>\n",
       "      <td>NaN</td>\n",
       "      <td>NaN</td>\n",
       "      <td>Die Schülerinnen und Schüler (SuS) sollen besc...</td>\n",
       "    </tr>\n",
       "    <tr>\n",
       "      <th>2</th>\n",
       "      <td>AI-1-v2-2-1</td>\n",
       "      <td>Wie viele deiner Zeichnungen hat die KI erkann...</td>\n",
       "      <td>[{'de': '0', 'en-US': '0'}, {'de': '1-2', 'en-...</td>\n",
       "      <td>NaN</td>\n",
       "      <td>NaN</td>\n",
       "      <td>NaN</td>\n",
       "      <td>NaN</td>\n",
       "    </tr>\n",
       "    <tr>\n",
       "      <th>3</th>\n",
       "      <td>AI-2-v2-1-1</td>\n",
       "      <td>Kannst du erkennen, wo KI überall drin steckt?...</td>\n",
       "      <td>[{'de': 'Der Newsfeed eines Social Network nut...</td>\n",
       "      <td>NaN</td>\n",
       "      <td>NaN</td>\n",
       "      <td>Denk an die Beispiele, die wir uns am Anfang a...</td>\n",
       "      <td>[True, True, False, True]</td>\n",
       "    </tr>\n",
       "    <tr>\n",
       "      <th>4</th>\n",
       "      <td>AI-3-v2-1-1</td>\n",
       "      <td>Was für Sachen können KI-Anwendungen?</td>\n",
       "      <td>[{'de': 'Die Anwendung, die den Facebook-Feed ...</td>\n",
       "      <td>NaN</td>\n",
       "      <td>NaN</td>\n",
       "      <td>Kann überhaupt eine dieser Anwendungen etwas, ...</td>\n",
       "      <td>[False, False, False]</td>\n",
       "    </tr>\n",
       "    <tr>\n",
       "      <th>...</th>\n",
       "      <td>...</td>\n",
       "      <td>...</td>\n",
       "      <td>...</td>\n",
       "      <td>...</td>\n",
       "      <td>...</td>\n",
       "      <td>...</td>\n",
       "      <td>...</td>\n",
       "    </tr>\n",
       "    <tr>\n",
       "      <th>62</th>\n",
       "      <td>ML-2-1-3</td>\n",
       "      <td>Lass uns das Wichtigste nochmal wiederholen:</td>\n",
       "      <td>[{'de': 'Unser Ziel ist es, einen Algorithmus ...</td>\n",
       "      <td>NaN</td>\n",
       "      <td>NaN</td>\n",
       "      <td>Wenn du bei einer Antwort nicht weiter weißt, ...</td>\n",
       "      <td>[True, False, True, True]</td>\n",
       "    </tr>\n",
       "    <tr>\n",
       "      <th>63</th>\n",
       "      <td>ML-3-1-1</td>\n",
       "      <td>Welche Aussagen stimmen?</td>\n",
       "      <td>[{'de': 'Maschinelles Lernen ist ein Teilberei...</td>\n",
       "      <td>NaN</td>\n",
       "      <td>NaN</td>\n",
       "      <td>Lies die Antworten ganz genau durch.</td>\n",
       "      <td>[True, True, True, False]</td>\n",
       "    </tr>\n",
       "    <tr>\n",
       "      <th>64</th>\n",
       "      <td>ML-3-1-2</td>\n",
       "      <td>Ein Empfehlungssystem für Musik, das lernt, wa...</td>\n",
       "      <td>[{'de': 'Überwachtes Lernen', 'en-US': 'Superv...</td>\n",
       "      <td>NaN</td>\n",
       "      <td>NaN</td>\n",
       "      <td>NaN</td>\n",
       "      <td>[True, False]</td>\n",
       "    </tr>\n",
       "    <tr>\n",
       "      <th>65</th>\n",
       "      <td>ML-3-1-3</td>\n",
       "      <td>Die Gesichtserkennung von deinem Handy. Anfang...</td>\n",
       "      <td>[{'de': 'Überwachtes Lernen', 'en-US': 'Superv...</td>\n",
       "      <td>NaN</td>\n",
       "      <td>NaN</td>\n",
       "      <td>NaN</td>\n",
       "      <td>[True, False]</td>\n",
       "    </tr>\n",
       "    <tr>\n",
       "      <th>66</th>\n",
       "      <td>ML-3-1-4</td>\n",
       "      <td>Wenn wir Youtuber nach der Anzahl ihrer Follow...</td>\n",
       "      <td>[{'de': 'Überwachtes Lernen', 'en-US': 'Superv...</td>\n",
       "      <td>NaN</td>\n",
       "      <td>NaN</td>\n",
       "      <td>NaN</td>\n",
       "      <td>[False, True]</td>\n",
       "    </tr>\n",
       "  </tbody>\n",
       "</table>\n",
       "<p>67 rows × 7 columns</p>\n",
       "</div>"
      ],
      "text/plain": [
       "         taskId                                           question  \\\n",
       "0   AI-1-v2-1-1                Wie gut weißt du schon, was KI ist?   \n",
       "1   AI-1-v2-1-2  Was ist deiner Meinung nach Künstliche Intelli...   \n",
       "2   AI-1-v2-2-1  Wie viele deiner Zeichnungen hat die KI erkann...   \n",
       "3   AI-2-v2-1-1  Kannst du erkennen, wo KI überall drin steckt?...   \n",
       "4   AI-3-v2-1-1              Was für Sachen können KI-Anwendungen?   \n",
       "..          ...                                                ...   \n",
       "62     ML-2-1-3       Lass uns das Wichtigste nochmal wiederholen:   \n",
       "63     ML-3-1-1                           Welche Aussagen stimmen?   \n",
       "64     ML-3-1-2  Ein Empfehlungssystem für Musik, das lernt, wa...   \n",
       "65     ML-3-1-3  Die Gesichtserkennung von deinem Handy. Anfang...   \n",
       "66     ML-3-1-4  Wenn wir Youtuber nach der Anzahl ihrer Follow...   \n",
       "\n",
       "                                              answers   minLabel  maxLabel  \\\n",
       "0                                                 NaN  Gar nicht  Sehr gut   \n",
       "1                                                 NaN        NaN       NaN   \n",
       "2   [{'de': '0', 'en-US': '0'}, {'de': '1-2', 'en-...        NaN       NaN   \n",
       "3   [{'de': 'Der Newsfeed eines Social Network nut...        NaN       NaN   \n",
       "4   [{'de': 'Die Anwendung, die den Facebook-Feed ...        NaN       NaN   \n",
       "..                                                ...        ...       ...   \n",
       "62  [{'de': 'Unser Ziel ist es, einen Algorithmus ...        NaN       NaN   \n",
       "63  [{'de': 'Maschinelles Lernen ist ein Teilberei...        NaN       NaN   \n",
       "64  [{'de': 'Überwachtes Lernen', 'en-US': 'Superv...        NaN       NaN   \n",
       "65  [{'de': 'Überwachtes Lernen', 'en-US': 'Superv...        NaN       NaN   \n",
       "66  [{'de': 'Überwachtes Lernen', 'en-US': 'Superv...        NaN       NaN   \n",
       "\n",
       "                                                hints  \\\n",
       "0                                                 NaN   \n",
       "1                                                 NaN   \n",
       "2                                                 NaN   \n",
       "3   Denk an die Beispiele, die wir uns am Anfang a...   \n",
       "4   Kann überhaupt eine dieser Anwendungen etwas, ...   \n",
       "..                                                ...   \n",
       "62  Wenn du bei einer Antwort nicht weiter weißt, ...   \n",
       "63               Lies die Antworten ganz genau durch.   \n",
       "64                                                NaN   \n",
       "65                                                NaN   \n",
       "66                                                NaN   \n",
       "\n",
       "                                       sampleSolution  \n",
       "0                                                 NaN  \n",
       "1   Die Schülerinnen und Schüler (SuS) sollen besc...  \n",
       "2                                                 NaN  \n",
       "3                           [True, True, False, True]  \n",
       "4                               [False, False, False]  \n",
       "..                                                ...  \n",
       "62                          [True, False, True, True]  \n",
       "63                          [True, True, True, False]  \n",
       "64                                      [True, False]  \n",
       "65                                      [True, False]  \n",
       "66                                      [False, True]  \n",
       "\n",
       "[67 rows x 7 columns]"
      ]
     },
     "execution_count": 72,
     "metadata": {},
     "output_type": "execute_result"
    }
   ],
   "source": [
    "task_df"
   ]
  },
  {
   "cell_type": "code",
   "execution_count": null,
   "metadata": {},
   "outputs": [],
   "source": []
  },
  {
   "cell_type": "code",
   "execution_count": 73,
   "metadata": {},
   "outputs": [],
   "source": [
    "#df.join(task_df.set_index('key'), on='key')\n",
    "#new_df = df.join(task_df, on='taskId')\n",
    "df = pd.merge(pupil_df, task_df, on='taskId')\n"
   ]
  },
  {
   "cell_type": "code",
   "execution_count": 74,
   "metadata": {},
   "outputs": [
    {
     "data": {
      "text/plain": [
       "array(['AI-1-v2-1-1', 'AI-1-v2-1-2', 'AI-1-v2-2-1', 'AI-2-v2-1-1',\n",
       "       'AI-3-v2-1-1', 'AI-3-v2-1-2', 'AI-4-v2-1-1', 'AI-4-v2-1-2',\n",
       "       'AI-4-v2-1-3', 'AI-4-v2-1-4', 'AI-4-v2-1-5', 'ML-1-1-1',\n",
       "       'ML-1-1-2', 'ML-1-1-3', 'ML-1-1-4', 'ML-2-1-1', 'ML-2-1-2',\n",
       "       'ML-2-1-3', 'ML-3-1-1', 'ML-3-1-2', 'ML-3-1-3', 'ML-3-1-4',\n",
       "       'Classification-1-1-1', 'Clustering-1-1-1', 'Clustering-1-1-2',\n",
       "       'Clustering-1-1-3', 'Clustering-1-1-4', 'Classification-2-1-1',\n",
       "       'Classification-2-1-2', 'Classification-2-1-3',\n",
       "       'Classification-2-1-4', 'Classification-2-1-5',\n",
       "       'Classification-2-1-6', 'Classification-2-1-7',\n",
       "       'Classification-2-1-8', 'Clustering-2-1-1', 'LimitsML-1-1',\n",
       "       'LimitsML-1-2', 'EvalML-1-1', 'EvalML-1-2', 'EvalML-1-3',\n",
       "       'EvalML-1-4', 'EvalML-1-5', 'EvalML-1-6', 'EvalML-1-7',\n",
       "       'EvalML-1-8', 'EvalML-1-9', 'Impact-1-1-1', 'Impact-2-1-1',\n",
       "       'Impact-2-1-2', 'Impact-2-1-3', 'Impact-2-1-4', 'Impact-2-1-5',\n",
       "       'Impact-2-1-6', 'Impact-2-1-7', 'Impact-3-1-1', 'Impact-3-1-2',\n",
       "       'Impact-3-1-3', 'Impact-4-1-1', 'AIClosing-1-1', 'AIClosing-1-2',\n",
       "       'AIClosing-1-3', 'AIClosing-1-4', 'AIClosing-1-5', 'AIClosing-1-6',\n",
       "       'AIClosing-1-7', 'AIClosing-1-8'], dtype=object)"
      ]
     },
     "execution_count": 74,
     "metadata": {},
     "output_type": "execute_result"
    }
   ],
   "source": [
    "#print(df[\"taskId\"].value_counts())\n",
    "#print(df.iloc[0])\n",
    "#df[df[\"subType\"]==\"multipleChoice\"]\n",
    "df[\"taskId\"].unique()"
   ]
  },
  {
   "cell_type": "markdown",
   "metadata": {},
   "source": [
    "# Itemanalyse\n",
    "## Surveyslider"
   ]
  },
  {
   "cell_type": "code",
   "execution_count": 9,
   "metadata": {},
   "outputs": [
    {
     "name": "stdout",
     "output_type": "stream",
     "text": [
      "AI-1-v2-1-1: Wie gut weißt du schon, was KI ist?\n",
      "min: 5\n",
      "max: 100\n",
      "median: 71.5\n",
      "mean: 69.0\n",
      "std: 21.238571587489663\n"
     ]
    },
    {
     "data": {
      "image/png": "[encoded data removed]",
      "text/plain": [
       "<Figure size 432x288 with 1 Axes>"
      ]
     },
     "metadata": {
      "needs_background": "light"
     },
     "output_type": "display_data"
    },
    {
     "name": "stdout",
     "output_type": "stream",
     "text": [
      "AI-4-v2-1-4: Wie gut hast du jetzt verstanden, was KI ist?\n",
      "min: 40\n",
      "max: 100\n",
      "median: 86.0\n",
      "mean: 79.06451612903226\n",
      "std: 19.131014058975836\n"
     ]
    },
    {
     "data": {
      "image/png": "[encoded data removed]",
      "text/plain": [
       "<Figure size 432x288 with 1 Axes>"
      ]
     },
     "metadata": {
      "needs_background": "light"
     },
     "output_type": "display_data"
    },
    {
     "name": "stdout",
     "output_type": "stream",
     "text": [
      "AI-4-v2-1-5: Wie gut hast du den Unterschied zwischen spezifischer und allgemeiner KI verstanden?\n",
      "min: 33\n",
      "max: 100\n",
      "median: 88.0\n",
      "mean: 78.96774193548387\n",
      "std: 23.08749137659863\n"
     ]
    },
    {
     "data": {
      "image/png": "[encoded data removed]",
      "text/plain": [
       "<Figure size 432x288 with 1 Axes>"
      ]
     },
     "metadata": {
      "needs_background": "light"
     },
     "output_type": "display_data"
    },
    {
     "name": "stdout",
     "output_type": "stream",
     "text": [
      "ML-2-1-1: Wie gut weißt du schon, was Maschinelles Lernen ist?\n",
      "min: 47\n",
      "max: 100\n",
      "median: 68.5\n",
      "mean: 70.21428571428571\n",
      "std: 17.531679564713368\n"
     ]
    },
    {
     "data": {
      "image/png": "[encoded data removed]",
      "text/plain": [
       "<Figure size 432x288 with 1 Axes>"
      ]
     },
     "metadata": {
      "needs_background": "light"
     },
     "output_type": "display_data"
    },
    {
     "name": "stdout",
     "output_type": "stream",
     "text": [
      "EvalML-1-1: Wie gut hast du verstanden, was KI ist? Sei dabei so ehrlich es geht damit wir diese Inhalte noch verbessern können.\n",
      "min: 31\n",
      "max: 100\n",
      "median: 77.5\n",
      "mean: 71.5\n",
      "std: 24.339742745622374\n"
     ]
    },
    {
     "data": {
      "image/png": "[encoded data removed]",
      "text/plain": [
       "<Figure size 432x288 with 1 Axes>"
      ]
     },
     "metadata": {
      "needs_background": "light"
     },
     "output_type": "display_data"
    },
    {
     "name": "stdout",
     "output_type": "stream",
     "text": [
      "EvalML-1-2: Wie gut hast du den Unterschied zwischen spezifischer und allgemeiner KI verstanden?\n",
      "min: 1\n",
      "max: 100\n",
      "median: 87.0\n",
      "mean: 73.78571428571429\n",
      "std: 32.232755846352156\n"
     ]
    },
    {
     "data": {
      "image/png": "[encoded data removed]",
      "text/plain": [
       "<Figure size 432x288 with 1 Axes>"
      ]
     },
     "metadata": {
      "needs_background": "light"
     },
     "output_type": "display_data"
    },
    {
     "name": "stdout",
     "output_type": "stream",
     "text": [
      "EvalML-1-5: Wie gut hast du verstanden, was maschinelles Lernen ist? Sei dabei so ehrlich es geht, damit wir diese Inhalte noch verbessern können.\n",
      "min: 24\n",
      "max: 100\n",
      "median: 74.5\n",
      "mean: 69.78571428571429\n",
      "std: 23.855909029093727\n"
     ]
    },
    {
     "data": {
      "image/png": "[encoded data removed]",
      "text/plain": [
       "<Figure size 432x288 with 1 Axes>"
      ]
     },
     "metadata": {
      "needs_background": "light"
     },
     "output_type": "display_data"
    },
    {
     "name": "stdout",
     "output_type": "stream",
     "text": [
      "EvalML-1-6: Wie sehr hast du das Gefühl, verstanden zu haben, was der Unterschied zwischen überwachtem und unüberwachtem Lernen ist?\n",
      "min: 37\n",
      "max: 100\n",
      "median: 79.5\n",
      "mean: 76.21428571428571\n",
      "std: 22.112226243654195\n"
     ]
    },
    {
     "data": {
      "image/png": "[encoded data removed]",
      "text/plain": [
       "<Figure size 432x288 with 1 Axes>"
      ]
     },
     "metadata": {
      "needs_background": "light"
     },
     "output_type": "display_data"
    },
    {
     "name": "stdout",
     "output_type": "stream",
     "text": [
      "Impact-2-1-2: Ich würde gerne in einem Land leben, dass den Alltag aller Bürger mit KI überwacht.\n",
      "min: 1\n",
      "max: 100\n",
      "median: 16.5\n",
      "mean: 21.181818181818183\n",
      "std: 23.613225437970463\n"
     ]
    },
    {
     "data": {
      "image/png": "[encoded data removed]",
      "text/plain": [
       "<Figure size 432x288 with 1 Axes>"
      ]
     },
     "metadata": {
      "needs_background": "light"
     },
     "output_type": "display_data"
    },
    {
     "name": "stdout",
     "output_type": "stream",
     "text": [
      "Impact-2-1-3: Die Überwachung des Alltags aller Bürger sehe ich sehr kritisch.\n",
      "min: 15\n",
      "max: 100\n",
      "median: 80.5\n",
      "mean: 78.13636363636364\n",
      "std: 22.476009335978567\n"
     ]
    },
    {
     "data": {
      "image/png": "[encoded data removed]",
      "text/plain": [
       "<Figure size 432x288 with 1 Axes>"
      ]
     },
     "metadata": {
      "needs_background": "light"
     },
     "output_type": "display_data"
    },
    {
     "name": "stdout",
     "output_type": "stream",
     "text": [
      "Impact-2-1-4: Mich würde es stören, mittels KI-Technologien überwacht zu werden.\n",
      "min: 15\n",
      "max: 100\n",
      "median: 83.0\n",
      "mean: 77.72727272727273\n",
      "std: 24.765917090845825\n"
     ]
    },
    {
     "data": {
      "image/png": "[encoded data removed]",
      "text/plain": [
       "<Figure size 432x288 with 1 Axes>"
      ]
     },
     "metadata": {
      "needs_background": "light"
     },
     "output_type": "display_data"
    },
    {
     "name": "stdout",
     "output_type": "stream",
     "text": [
      "Impact-2-1-5: Die Überwachung durch die Regierung bietet viele Vorteile für die Gesellschaft.\n",
      "min: 1\n",
      "max: 85\n",
      "median: 39.5\n",
      "mean: 38.13636363636363\n",
      "std: 27.18244436001445\n"
     ]
    },
    {
     "data": {
      "image/png": "[encoded data removed]",
      "text/plain": [
       "<Figure size 432x288 with 1 Axes>"
      ]
     },
     "metadata": {
      "needs_background": "light"
     },
     "output_type": "display_data"
    },
    {
     "name": "stdout",
     "output_type": "stream",
     "text": [
      "Impact-2-1-6: Ich würde nicht in einem Land leben wollen, dass meinen Alltag überwacht.\n",
      "min: 1\n",
      "max: 100\n",
      "median: 84.0\n",
      "mean: 75.95454545454545\n",
      "std: 28.36744826754992\n"
     ]
    },
    {
     "data": {
      "image/png": "[encoded data removed]",
      "text/plain": [
       "<Figure size 432x288 with 1 Axes>"
      ]
     },
     "metadata": {
      "needs_background": "light"
     },
     "output_type": "display_data"
    },
    {
     "name": "stdout",
     "output_type": "stream",
     "text": [
      "Impact-2-1-7: In einem Land mit Überwachung würde ich mich sehr sicher fühlen.\n",
      "min: 1\n",
      "max: 83\n",
      "median: 41.5\n",
      "mean: 39.81818181818182\n",
      "std: 26.865868528206786\n"
     ]
    },
    {
     "data": {
      "image/png": "[encoded data removed]",
      "text/plain": [
       "<Figure size 432x288 with 1 Axes>"
      ]
     },
     "metadata": {
      "needs_background": "light"
     },
     "output_type": "display_data"
    },
    {
     "name": "stdout",
     "output_type": "stream",
     "text": [
      "AIClosing-1-1: KI wird das Leben der Menschen verbessern.\n",
      "min: 1\n",
      "max: 100\n",
      "median: 73.0\n",
      "mean: 67.26315789473684\n",
      "std: 30.28722155420804\n"
     ]
    },
    {
     "data": {
      "image/png": "[encoded data removed]",
      "text/plain": [
       "<Figure size 432x288 with 1 Axes>"
      ]
     },
     "metadata": {
      "needs_background": "light"
     },
     "output_type": "display_data"
    },
    {
     "name": "stdout",
     "output_type": "stream",
     "text": [
      "AIClosing-1-2: Bei der Entwicklung von KI gibt es Risiken, die bedacht werden müssen\n",
      "min: 55\n",
      "max: 100\n",
      "median: 71.0\n",
      "mean: 76.57894736842105\n",
      "std: 17.014098041440302\n"
     ]
    },
    {
     "data": {
      "image/png": "[encoded data removed]",
      "text/plain": [
       "<Figure size 432x288 with 1 Axes>"
      ]
     },
     "metadata": {
      "needs_background": "light"
     },
     "output_type": "display_data"
    },
    {
     "name": "stdout",
     "output_type": "stream",
     "text": [
      "AIClosing-1-3: KI birgt eine Gefahr für die Menschheit.\n",
      "min: 21\n",
      "max: 100\n",
      "median: 54.0\n",
      "mean: 54.0\n",
      "std: 22.698507048310958\n"
     ]
    },
    {
     "data": {
      "image/png": "[encoded data removed]",
      "text/plain": [
       "<Figure size 432x288 with 1 Axes>"
      ]
     },
     "metadata": {
      "needs_background": "light"
     },
     "output_type": "display_data"
    },
    {
     "name": "stdout",
     "output_type": "stream",
     "text": [
      "AIClosing-1-4: Die Vorteile durch die Entwicklung von KI überwiegen die Risiken.\n",
      "min: 1\n",
      "max: 100\n",
      "median: 54.0\n",
      "mean: 56.89473684210526\n",
      "std: 29.542614675606238\n"
     ]
    },
    {
     "data": {
      "image/png": "[encoded data removed]",
      "text/plain": [
       "<Figure size 432x288 with 1 Axes>"
      ]
     },
     "metadata": {
      "needs_background": "light"
     },
     "output_type": "display_data"
    },
    {
     "name": "stdout",
     "output_type": "stream",
     "text": [
      "AIClosing-1-6: Hattest du Spaß?\n",
      "min: 36\n",
      "max: 100\n",
      "median: 67.0\n",
      "mean: 69.6842105263158\n",
      "std: 20.0860720997825\n"
     ]
    },
    {
     "data": {
      "image/png": "[encoded data removed]",
      "text/plain": [
       "<Figure size 432x288 with 1 Axes>"
      ]
     },
     "metadata": {
      "needs_background": "light"
     },
     "output_type": "display_data"
    },
    {
     "name": "stdout",
     "output_type": "stream",
     "text": [
      "AIClosing-1-7: Hast du etwas gelernt?\n",
      "min: 1\n",
      "max: 100\n",
      "median: 75.0\n",
      "mean: 75.94736842105263\n",
      "std: 23.02045873712851\n"
     ]
    },
    {
     "data": {
      "image/png": "[encoded data removed]",
      "text/plain": [
       "<Figure size 432x288 with 1 Axes>"
      ]
     },
     "metadata": {
      "needs_background": "light"
     },
     "output_type": "display_data"
    }
   ],
   "source": [
    "surveysliders = df[df[\"subType\"]==\"surveySlider\"]\n",
    "#surveysliders_by_taskId = df[df[\"subType\"]==\"surveySlider\"].groupby(\"taskId\")\n",
    "\n",
    "for i in surveysliders[\"taskId\"].unique():\n",
    "    print(surveysliders[surveysliders[\"taskId\"] == i][\"taskId\"].unique()[0] + \": \" + surveysliders[surveysliders[\"taskId\"] == i][\"question\"].unique()[0])\n",
    "    print(\"min: \" + str(surveysliders[surveysliders[\"taskId\"] == i][\"state\"].min()))\n",
    "    print(\"max: \" + str(surveysliders[surveysliders[\"taskId\"] == i][\"state\"].max()))\n",
    "    print(\"median: \" + str(surveysliders[surveysliders[\"taskId\"] == i][\"state\"].median()))\n",
    "    print(\"mean: \" + str(surveysliders[surveysliders[\"taskId\"] == i][\"state\"].mean()))\n",
    "    print(\"std: \" + str(surveysliders[surveysliders[\"taskId\"] == i][\"state\"].std()))\n",
    "    ax = sns.boxplot(x=surveysliders[surveysliders[\"taskId\"] == i][\"state\"])\n",
    "    plt.show()\n"
   ]
  },
  {
   "cell_type": "markdown",
   "metadata": {},
   "source": [
    "## MC\n",
    "### Barplot"
   ]
  },
  {
   "cell_type": "code",
   "execution_count": 62,
   "metadata": {},
   "outputs": [
    {
     "name": "stdout",
     "output_type": "stream",
     "text": [
      "['Die Startseite einer Webseite, die jedem Besucher die gleichen Inhalte anzeigt nutzt KI', 'Die Personalisierung einer Google-Anfrage nutzt KI', 'Gesichtserkennung nutzt KI', 'Der Newsfeed eines Social Network nutzt KI']\n"
     ]
    },
    {
     "data": {
      "image/png": "[encoded data removed]",
      "text/plain": [
       "<Figure size 432x288 with 1 Axes>"
      ]
     },
     "metadata": {
      "needs_background": "light"
     },
     "output_type": "display_data"
    },
    {
     "name": "stdout",
     "output_type": "stream",
     "text": [
      "['Die Anwendung, die den Facebook-Feed erstellt, kann auch Schach spielen', 'Eine Sprachsteuerung wie Siri oder Alexa kann auch Gesichter erkennen', 'Das Programm zur Gesichtserkennung auf deinem Handy kann auch Auto fahren']\n"
     ]
    },
    {
     "data": {
      "image/png": "[encoded data removed]",
      "text/plain": [
       "<Figure size 432x288 with 1 Axes>"
      ]
     },
     "metadata": {
      "needs_background": "light"
     },
     "output_type": "display_data"
    },
    {
     "name": "stdout",
     "output_type": "stream",
     "text": [
      "['Empfehlungssysteme gehören zur spezifischen KI', 'Programme zur Bilderkennung gehören zur allgemeinen KI', 'Eine KI aus einem Film, die eigenständige Entscheidungen trifft, mit Menschen spricht und sich am Ende gegen sie wendet, gehört zur allgemeinen KI']\n"
     ]
    },
    {
     "data": {
      "image/png": "[encoded data removed]",
      "text/plain": [
       "<Figure size 432x288 with 1 Axes>"
      ]
     },
     "metadata": {
      "needs_background": "light"
     },
     "output_type": "display_data"
    },
    {
     "name": "stdout",
     "output_type": "stream",
     "text": [
      "['Intelligentes Verhalten in einem spezifischen Bereich muss nicht gleich allgemeine Intelligenz bedeuten', 'KI-Anwendungen sind allgemein intelligent', 'KI-Anwendungen zeigen intelligentes Verhalten in einem kleinen Bereich', 'Eine KI, die sich in einem einzigen Bereich so intelligent verhält wie ein Mensch, muss allgemeine Intelligenz besitzen']\n"
     ]
    },
    {
     "data": {
      "image/png": "[encoded data removed]",
      "text/plain": [
       "<Figure size 432x288 with 1 Axes>"
      ]
     },
     "metadata": {
      "needs_background": "light"
     },
     "output_type": "display_data"
    },
    {
     "name": "stdout",
     "output_type": "stream",
     "text": [
      "['KI-Anwendungen treffen eigenständige Entscheidungen', 'Heutige KI-Anwendungen gehören alle zur spezifischen KI', 'Spezifische KI umfasst Anwendungen, die menschenähnliche Intelligenz in einem kleinen Bereich zeigen', 'Eine KI, die in allen Bereichen so schlau ist wie ein Mensch, gibt es noch nicht', 'Ein Spam-Filter ist eine allgemeinen KI', 'Intelligentes Verhalten setzt allgemeine Intelligenz voraus', 'KI-Anwendungen lernen durch Erfahrung']\n"
     ]
    },
    {
     "data": {
      "image/png": "[encoded data removed]",
      "text/plain": [
       "<Figure size 432x288 with 1 Axes>"
      ]
     },
     "metadata": {
      "needs_background": "light"
     },
     "output_type": "display_data"
    },
    {
     "name": "stdout",
     "output_type": "stream",
     "text": [
      "['Unser Ziel ist es, einen Algorithmus zu trainieren, der für neue Bilder das richtige Label vorhersagen kann. Also zu sagen, ob ein Bild einen Hund oder eine Katze zeigt', 'Für das Training nutzen wir Daten ohne Label', 'Nach dem Training testen wir nochmal auf ein paar neuen Daten, wie gut die Vorhersagen des Algorithmus sind', 'Die Daten, die wir für das Training benutzen, heißen Trainingsdaten']\n"
     ]
    },
    {
     "data": {
      "image/png": "[encoded data removed]",
      "text/plain": [
       "<Figure size 432x288 with 1 Axes>"
      ]
     },
     "metadata": {
      "needs_background": "light"
     },
     "output_type": "display_data"
    },
    {
     "name": "stdout",
     "output_type": "stream",
     "text": [
      "['Das überwachte und das unüberwachte Lernen unterscheiden sich zum Beispiel daran, dass wir einmal Daten mit und einmal Daten ohne Label nutzen', 'Maschinelles Lernen ist ein Teilbereich der KI', 'Das maschinelle Lernen beschäftigt sich mit Programmen, die selbständig in großen Datenmengen Gesetzmäßigkeiten erkennen können', 'Beim unüberwachten Lernen wollen wir lernen, für neue Daten das richtige Label vorherzusagen']\n"
     ]
    },
    {
     "data": {
      "image/png": "[encoded data removed]",
      "text/plain": [
       "<Figure size 432x288 with 1 Axes>"
      ]
     },
     "metadata": {
      "needs_background": "light"
     },
     "output_type": "display_data"
    },
    {
     "name": "stdout",
     "output_type": "stream",
     "text": [
      "['Unüberwachtes Lernen', 'Überwachtes Lernen']\n"
     ]
    },
    {
     "data": {
      "image/png": "[encoded data removed]",
      "text/plain": [
       "<Figure size 432x288 with 1 Axes>"
      ]
     },
     "metadata": {
      "needs_background": "light"
     },
     "output_type": "display_data"
    },
    {
     "name": "stdout",
     "output_type": "stream",
     "text": [
      "['Unüberwachtes Lernen', 'Überwachtes Lernen']\n"
     ]
    },
    {
     "data": {
      "image/png": "[encoded data removed]",
      "text/plain": [
       "<Figure size 432x288 with 1 Axes>"
      ]
     },
     "metadata": {
      "needs_background": "light"
     },
     "output_type": "display_data"
    },
    {
     "name": "stdout",
     "output_type": "stream",
     "text": [
      "['Unüberwachtes Lernen', 'Überwachtes Lernen']\n"
     ]
    },
    {
     "data": {
      "image/png": "[encoded data removed]",
      "text/plain": [
       "<Figure size 432x288 with 1 Axes>"
      ]
     },
     "metadata": {
      "needs_background": "light"
     },
     "output_type": "display_data"
    },
    {
     "name": "stdout",
     "output_type": "stream",
     "text": [
      "['Beim überwachten Lernen versucht man Struktur in Daten zu finden', 'Einen Algorithmus zu trainieren, der Bildern mit Hunden das Label “Hund” gibt, wäre ein Fall für überwachtes Lernen', 'Beim überwachten Lernen braucht man Daten ohne Label']\n"
     ]
    },
    {
     "data": {
      "image/png": "[encoded data removed]",
      "text/plain": [
       "<Figure size 432x288 with 1 Axes>"
      ]
     },
     "metadata": {
      "needs_background": "light"
     },
     "output_type": "display_data"
    },
    {
     "name": "stdout",
     "output_type": "stream",
     "text": [
      "['Beim unüberwachten Lernen nutzt man Daten mit Label', 'Beim unüberwachten Lernen hat man keine Label für die Daten', 'Beim unüberwachten Lernen geht es darum, Struktur in den Daten zu finden', 'Beim unüberwachten Lernen wollen wir die richtigen Label für neue Daten vorhersagen']\n"
     ]
    },
    {
     "data": {
      "image/png": "[encoded data removed]",
      "text/plain": [
       "<Figure size 432x288 with 1 Axes>"
      ]
     },
     "metadata": {
      "needs_background": "light"
     },
     "output_type": "display_data"
    },
    {
     "name": "stdout",
     "output_type": "stream",
     "text": [
      "['Die Youtuber im roten Cluster laden öfter Videos hoch', 'Die Youtuber im blauen Cluster laden öfter Videos hoch']\n"
     ]
    },
    {
     "data": {
      "image/png": "[encoded data removed]",
      "text/plain": [
       "<Figure size 432x288 with 1 Axes>"
      ]
     },
     "metadata": {
      "needs_background": "light"
     },
     "output_type": "display_data"
    },
    {
     "name": "stdout",
     "output_type": "stream",
     "text": [
      "['Anna', 'Isa', 'Paul', 'Josi', 'Mahmud']\n"
     ]
    },
    {
     "data": {
      "image/png": "[encoded data removed]",
      "text/plain": [
       "<Figure size 432x288 with 1 Axes>"
      ]
     },
     "metadata": {
      "needs_background": "light"
     },
     "output_type": "display_data"
    },
    {
     "name": "stdout",
     "output_type": "stream",
     "text": [
      "['James Bond', 'Hangover', 'Herr der Ringe', 'Fluch der Karibik', 'Avengers Endgame']\n"
     ]
    },
    {
     "data": {
      "image/png": "[encoded data removed]",
      "text/plain": [
       "<Figure size 432x288 with 1 Axes>"
      ]
     },
     "metadata": {
      "needs_background": "light"
     },
     "output_type": "display_data"
    },
    {
     "name": "stdout",
     "output_type": "stream",
     "text": [
      "['Ein Algorithmus, der anhand vieler alter Fälle gelernt hat, medizinische Diagnosen zu stellen, gehört zum überwachten Lernen', 'Ein Algorithmus, der ähnliche Berufe gruppiert, gehört zum überwachten Lernen', 'Ein Algorithmus, der dir basierend auf deinen Lieblingsfächern einen Beruf vorschlägt, könnte man mittels überwachtem Lernen umsetzen']\n"
     ]
    },
    {
     "data": {
      "image/png": "[encoded data removed]",
      "text/plain": [
       "<Figure size 432x288 with 1 Axes>"
      ]
     },
     "metadata": {
      "needs_background": "light"
     },
     "output_type": "display_data"
    },
    {
     "name": "stdout",
     "output_type": "stream",
     "text": [
      "['Bei Hunden anderer Rassen ist es schwer zu sagen, ob er sie erkennen würde, aber sehr wahrscheinlich nicht so zuverlässig', 'Der Algorithmus würde immer noch alle Hunderassen als Hunde erkennen, weil es keine Katzen sind', 'Der Algorithmus würde nur Hunde dieser Rasse zuverlässig als Hunde erkennen']\n"
     ]
    },
    {
     "data": {
      "image/png": "[encoded data removed]",
      "text/plain": [
       "<Figure size 432x288 with 1 Axes>"
      ]
     },
     "metadata": {
      "needs_background": "light"
     },
     "output_type": "display_data"
    },
    {
     "name": "stdout",
     "output_type": "stream",
     "text": [
      "['KI kann irgendwann alles besser als der Mensch', 'Jeder Mensch wird zukünftig eine Vielzahl verschiedener KIs in seinem Alltag nutzen', 'Jede KI hat allgemeine Intelligenz. Damit ist jede KI eine allgemeine KI', 'Derzeit gibt es sowohl Anwendungen, die zur spezifischen, als auch welche, die zur allgemeinen KI gehören', 'Ein Programm, dass so gut Schach spielen kann, wie Menschen, ist ein Beispiel für eine spezifische KI', 'Eine fertige KI-Anwendung kann nicht mit Erfahrung lernen, sie bleibt, wie sie ist', 'Eine fertige KI-Anwendung kann nicht ohne Hilfe von einem Menschen funktionieren', 'KI-Anwendungen zeichnen sich dadurch aus, dass sie intelligentes Verhalten zeigen, autonom funktionieren und mit Erfahrung lernen', 'Eine spezifische KI zeigt intelligentes Verhalten in einem kleinen Bereich']\n"
     ]
    },
    {
     "data": {
      "image/png": "[encoded data removed]",
      "text/plain": [
       "<Figure size 432x288 with 1 Axes>"
      ]
     },
     "metadata": {
      "needs_background": "light"
     },
     "output_type": "display_data"
    },
    {
     "name": "stdout",
     "output_type": "stream",
     "text": [
      "['Die Erkennung von Gegenständen auf Bildern', 'Ein personalisiertes Empfehlungssystem für Musik', 'Das Sortieren von Bildern nach Datum', 'Eine Nachrichtenseite, die jedem Nutzer den gleichen Inhalt präsentiert']\n"
     ]
    },
    {
     "data": {
      "image/png": "[encoded data removed]",
      "text/plain": [
       "<Figure size 432x288 with 1 Axes>"
      ]
     },
     "metadata": {
      "needs_background": "light"
     },
     "output_type": "display_data"
    },
    {
     "name": "stdout",
     "output_type": "stream",
     "text": [
      "['Wenn wir für Daten Label vorhersagen wollen, betreiben wir Clustering', 'Algorithmen des maschinellen Lernens können aus vorhandenen Daten selbständig lernen', 'Algorithmen des maschinellen Lernens benötigen oft große Mengen an Daten, damit sie gute Ergebnisse erzielen', 'Algorithmen des maschinellen Lernens lernen nur, was in den Daten vorhanden ist. Daher ist die Auswahl an Trainingsdaten sehr wichtig', 'Beim unüberwachten Lernen versuchen wir, Strukturen in den Daten zu entdecken', 'Clustering ist ein Beispiel für unüberwachtes Lernen', 'Wenn wir für Daten Label vorhersagen wollen, betreiben wir überwachtes Lernen', 'Beim überwachten Lernen nutzen wir Daten ohne Label']\n"
     ]
    },
    {
     "data": {
      "image/png": "[encoded data removed]",
      "text/plain": [
       "<Figure size 432x288 with 1 Axes>"
      ]
     },
     "metadata": {
      "needs_background": "light"
     },
     "output_type": "display_data"
    },
    {
     "name": "stdout",
     "output_type": "stream",
     "text": [
      "['Eine Webseite, die ähnliche Rezepte gruppiert, wäre eine Aufgabe für das Clustering', 'Eine Webseite, die für neue Rezepte vorhersagt, ob sie dir “gefallen” oder “nicht gefallen”, ist eine Aufgabe für das überwachte Lernen']\n"
     ]
    },
    {
     "data": {
      "image/png": "[encoded data removed]",
      "text/plain": [
       "<Figure size 432x288 with 1 Axes>"
      ]
     },
     "metadata": {
      "needs_background": "light"
     },
     "output_type": "display_data"
    },
    {
     "name": "stdout",
     "output_type": "stream",
     "text": [
      "['Die Trainingsdaten, mit denen der Algorithmus gelernt hat, enthielten keine oder kaum Bilder von dunkelhäutigen Menschen', 'Der Algorithmus wurde falsch programmiert']\n"
     ]
    },
    {
     "data": {
      "image/png": "[encoded data removed]",
      "text/plain": [
       "<Figure size 432x288 with 1 Axes>"
      ]
     },
     "metadata": {
      "needs_background": "light"
     },
     "output_type": "display_data"
    },
    {
     "name": "stdout",
     "output_type": "stream",
     "text": [
      "['LKW- und Taxifahrer', 'Lehrer', 'Wissenschaftler', 'Angestellte bei einer Bank oder Versicherung', 'Angestellte im Kundenservice', 'Pflegepersonal']\n"
     ]
    },
    {
     "data": {
      "image/png": "[encoded data removed]",
      "text/plain": [
       "<Figure size 432x288 with 1 Axes>"
      ]
     },
     "metadata": {
      "needs_background": "light"
     },
     "output_type": "display_data"
    },
    {
     "name": "stdout",
     "output_type": "stream",
     "text": [
      "['KI kann helfen, die Behandlungen besser an jeden einzelnen Patienten anzupassen', 'KI kann helfen, die richtigen Behandlungen zu empfehlen', 'KI kann die medizinische Versorgung günstiger machen', 'KI kann helfen, bessere Diagnosen zu stellen', 'KI-Methoden werden Ärzte komplett ersetzen', 'KI kann die Erkennung von Tumoren auf Scans verbessern', 'KI-Methoden können immer die richtige Diagnose stellen']\n"
     ]
    },
    {
     "data": {
      "image/png": "[encoded data removed]",
      "text/plain": [
       "<Figure size 432x288 with 1 Axes>"
      ]
     },
     "metadata": {
      "needs_background": "light"
     },
     "output_type": "display_data"
    },
    {
     "name": "stdout",
     "output_type": "stream",
     "text": [
      "['Drehe nach links', 'Bremsen', 'Gib Gas', 'Gehe Vorwärts']\n"
     ]
    },
    {
     "data": {
      "image/png": "[encoded data removed]",
      "text/plain": [
       "<Figure size 432x288 with 1 Axes>"
      ]
     },
     "metadata": {
      "needs_background": "light"
     },
     "output_type": "display_data"
    },
    {
     "name": "stdout",
     "output_type": "stream",
     "text": [
      "['Ein Programm ist eine Abfolge von Anweisungen, um mithilfe eines Computers ein bestimmtes Ziel zu erreichen oder Problem zu lösen', 'Ein Programm besteht aus Blöcken, die Fahrzeuge zum Ziel führen']\n"
     ]
    },
    {
     "data": {
      "image/png": "[encoded data removed]",
      "text/plain": [
       "<Figure size 432x288 with 1 Axes>"
      ]
     },
     "metadata": {
      "needs_background": "light"
     },
     "output_type": "display_data"
    },
    {
     "name": "stdout",
     "output_type": "stream",
     "text": [
      "['Sie bestehen aus einzelnen Schritten, die nacheinander ausgeführt werden', 'Algorithmen werden nur von Computern ausgeführt', 'Programme werden nur von Computern ausgeführt', 'Algorithmen gibt es schon viel länger als Programme']\n"
     ]
    },
    {
     "data": {
      "image/png": "[encoded data removed]",
      "text/plain": [
       "<Figure size 432x288 with 1 Axes>"
      ]
     },
     "metadata": {
      "needs_background": "light"
     },
     "output_type": "display_data"
    },
    {
     "name": "stdout",
     "output_type": "stream",
     "text": [
      "['Es könnte zu unterschiedlichen Ergebnissen kommen', 'Es wird immer zum gleichen Ergebnis kommen']\n"
     ]
    },
    {
     "data": {
      "image/png": "[encoded data removed]",
      "text/plain": [
       "<Figure size 432x288 with 1 Axes>"
      ]
     },
     "metadata": {
      "needs_background": "light"
     },
     "output_type": "display_data"
    },
    {
     "ename": "KeyError",
     "evalue": "'de'",
     "output_type": "error",
     "traceback": [
      "\u001b[0;31m---------------------------------------------------------------------------\u001b[0m",
      "\u001b[0;31mKeyError\u001b[0m                                  Traceback (most recent call last)",
      "\u001b[0;32m<ipython-input-62-62c0b675ac9a>\u001b[0m in \u001b[0;36m<module>\u001b[0;34m\u001b[0m\n\u001b[1;32m     10\u001b[0m         \u001b[0;32mfor\u001b[0m \u001b[0mansweritem\u001b[0m \u001b[0;32min\u001b[0m \u001b[0manswer\u001b[0m\u001b[0;34m:\u001b[0m\u001b[0;34m\u001b[0m\u001b[0;34m\u001b[0m\u001b[0m\n\u001b[1;32m     11\u001b[0m             \u001b[0;31m#print(answeritem)\u001b[0m\u001b[0;34m\u001b[0m\u001b[0;34m\u001b[0m\u001b[0;34m\u001b[0m\u001b[0m\n\u001b[0;32m---> 12\u001b[0;31m             \u001b[0manswers\u001b[0m\u001b[0;34m.\u001b[0m\u001b[0mappend\u001b[0m\u001b[0;34m(\u001b[0m\u001b[0mansweritem\u001b[0m\u001b[0;34m[\u001b[0m\u001b[0;34m\"de\"\u001b[0m\u001b[0;34m]\u001b[0m\u001b[0;34m)\u001b[0m\u001b[0;34m\u001b[0m\u001b[0;34m\u001b[0m\u001b[0m\n\u001b[0m\u001b[1;32m     13\u001b[0m     \u001b[0;31m#print(len(answers))\u001b[0m\u001b[0;34m\u001b[0m\u001b[0;34m\u001b[0m\u001b[0;34m\u001b[0m\u001b[0m\n\u001b[1;32m     14\u001b[0m     \u001b[0mprint\u001b[0m\u001b[0;34m(\u001b[0m\u001b[0mlist\u001b[0m\u001b[0;34m(\u001b[0m\u001b[0mset\u001b[0m\u001b[0;34m(\u001b[0m\u001b[0manswers\u001b[0m\u001b[0;34m)\u001b[0m\u001b[0;34m)\u001b[0m\u001b[0;34m)\u001b[0m\u001b[0;34m\u001b[0m\u001b[0;34m\u001b[0m\u001b[0m\n",
      "\u001b[0;31mKeyError\u001b[0m: 'de'"
     ]
    }
   ],
   "source": [
    "multipleChoice = df[df[\"subType\"]==\"multipleChoice\"]\n",
    "#surveysliders_by_taskId = df[df[\"subType\"]==\"surveySlider\"].groupby(\"taskId\")\n",
    "\n",
    "for i in multipleChoice[\"taskId\"].unique():\n",
    "    #print(multipleChoice[multipleChoice[\"taskId\"] == i][\"question\"].unique()[0])\n",
    "    answers = []\n",
    "    #print(multipleChoice[multipleChoice[\"taskId\"] == i][\"answers\"])\n",
    "    #print(len(multipleChoice[multipleChoice[\"taskId\"] == i][\"answers\"]))\n",
    "    for answer in multipleChoice[multipleChoice[\"taskId\"] == i][\"answers\"]:\n",
    "        for answeritem in answer:\n",
    "            #print(answeritem)\n",
    "            answers.append(answeritem[\"de\"])\n",
    "    #print(len(answers))\n",
    "    print(list(set(answers)))\n",
    "    #sns.barplot(x=\"day\", y=\"total_bill\", data=tips)\n",
    "    #sns.barplot(data=np.array(multipleChoice[multipleChoice[\"taskId\"] == i][\"evaluation\"].value_counts()))\n",
    "    plt.bar([\"correct\", \"false\"], np.array(multipleChoice[multipleChoice[\"taskId\"] == i][\"evaluation\"].value_counts()))\n",
    "    plt.show()"
   ]
  },
  {
   "cell_type": "markdown",
   "metadata": {},
   "source": [
    "### True - False Ratio, Torten"
   ]
  },
  {
   "cell_type": "code",
   "execution_count": 88,
   "metadata": {},
   "outputs": [
    {
     "name": "stdout",
     "output_type": "stream",
     "text": [
      "7.333333333333333\n",
      "2.0\n",
      "5.0\n",
      "2.6666666666666665\n",
      "1.4444444444444444\n",
      "9.0\n",
      "2.6\n",
      "1.0\n",
      "0.8\n",
      "8.0\n",
      "15.0\n",
      "3.5\n",
      "Index(['correct'], dtype='object')\n",
      "15.0\n",
      "4.333333333333333\n",
      "7.0\n",
      "4.5\n",
      "0.25\n",
      "9.0\n",
      "0.6666666666666666\n",
      "9.0\n",
      "Index(['correct'], dtype='object')\n",
      "6.0\n",
      "1.3333333333333333\n"
     ]
    }
   ],
   "source": [
    "for i in multipleChoice[\"taskId\"].unique():\n",
    "    if(\"correct\" in multipleChoice[multipleChoice[\"taskId\"] == i][\"evaluation\"].value_counts().keys() and \"false\" in multipleChoice[multipleChoice[\"taskId\"] == i][\"evaluation\"].value_counts().keys()):\n",
    "        print(multipleChoice[multipleChoice[\"taskId\"] == i][\"evaluation\"].value_counts()[\"correct\"]/multipleChoice[multipleChoice[\"taskId\"] == i][\"evaluation\"].value_counts()[\"false\"])\n",
    "    elif(\"correct\" in multipleChoice[multipleChoice[\"taskId\"] == i][\"evaluation\"].value_counts().keys() and not \"false\" in multipleChoice[multipleChoice[\"taskId\"] == i][\"evaluation\"].value_counts().keys()):\n",
    "        print(multipleChoice[multipleChoice[\"taskId\"] == i][\"evaluation\"].value_counts().keys())\n",
    "    elif(\"correct\" not in multipleChoice[multipleChoice[\"taskId\"] == i][\"evaluation\"].value_counts().keys() and \"false\" in multipleChoice[multipleChoice[\"taskId\"] == i][\"evaluation\"].value_counts().keys()):\n",
    "        print(multipleChoice[multipleChoice[\"taskId\"] == i][\"evaluation\"].value_counts().keys())"
   ]
  },
  {
   "cell_type": "code",
   "execution_count": null,
   "metadata": {},
   "outputs": [],
   "source": []
  },
  {
   "cell_type": "code",
   "execution_count": null,
   "metadata": {},
   "outputs": [],
   "source": []
  },
  {
   "cell_type": "code",
   "execution_count": null,
   "metadata": {},
   "outputs": [],
   "source": []
  },
  {
   "cell_type": "code",
   "execution_count": null,
   "metadata": {},
   "outputs": [],
   "source": []
  },
  {
   "cell_type": "code",
   "execution_count": null,
   "metadata": {},
   "outputs": [],
   "source": []
  },
  {
   "cell_type": "code",
   "execution_count": null,
   "metadata": {},
   "outputs": [],
   "source": []
  },
  {
   "cell_type": "code",
   "execution_count": null,
   "metadata": {},
   "outputs": [],
   "source": []
  },
  {
   "cell_type": "code",
   "execution_count": null,
   "metadata": {},
   "outputs": [],
   "source": []
  },
  {
   "cell_type": "code",
   "execution_count": null,
   "metadata": {},
   "outputs": [],
   "source": []
  },
  {
   "cell_type": "code",
   "execution_count": null,
   "metadata": {},
   "outputs": [],
   "source": []
  },
  {
   "cell_type": "code",
   "execution_count": null,
   "metadata": {},
   "outputs": [],
   "source": []
  }
 ],
 "metadata": {
  "kernelspec": {
   "display_name": "Python 3",
   "language": "python",
   "name": "python3"
  },
  "language_info": {
   "codemirror_mode": {
    "name": "ipython",
    "version": 3
   },
   "file_extension": ".py",
   "mimetype": "text/x-python",
   "name": "python",
   "nbconvert_exporter": "python",
   "pygments_lexer": "ipython3",
   "version": "3.7.6"
  }
 },
 "nbformat": 4,
 "nbformat_minor": 4
}
