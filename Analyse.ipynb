{
 "cells": [
  {
   "cell_type": "markdown",
   "metadata": {},
   "source": [
    "# TODO\n",
    "\n",
    "## Analyse\n",
    "\n",
    "### Nach Aufgabentyp\n",
    "* für Selbsteinschätzung:\n",
    "  * [x] min, max mean, median, streuung (IQD, std)\n",
    "  * [x] boxplot\n",
    "  * violinplot\n",
    "  * ausreißer\n",
    "  * selbsteinschätzung korrelieren mit Antworten?\n",
    "  * durations (mean, median, std) + hist\n",
    "* MC\n",
    "  * [x] balkendiagramm\n",
    "  * false attempts für erste antworten! \n",
    "  * ratio richtig zu falsch\n",
    "  * prozent als tortendiagramm?\n",
    "  * welche Antworten war die schweren? wo haben SuS fehler gemacht? --> misskonzepte / schlechte formulierungen?\n",
    "  * durations(mean, median, std) + hist\n",
    "* freetext\n",
    "  * revisions\n",
    "  * prozent angenommen vs zurückgegeben, wie oft zurückgegeben --> wo am öftesten?\n",
    "  * [x] wie lang die antworten: mean, median, IQR, hist\n",
    "  * bewertung der lehrer\n",
    "  * nach eigenen kategorien checken\n",
    "  * wie oft revisions\n",
    "  * historie\n",
    "  * (response time lehrer)\n",
    "  * durations(mean, median, std) + hist\n",
    "* textfelder (wie mc?)\n",
    "  * false attempts\n",
    "  * richtig vs falsch etc wie mc (torten...)\n",
    "  * durations(mean, median, std) + hist\n",
    "* (surveys)\n",
    "\n",
    "### Weiteres\n",
    "* Dauer\n",
    "  * längste Aufgabe & kürzeste Aufgabe\n",
    "  * jedes Aufgabentyps, vllt sogar 3D histogram\n",
    "* Hilfeanfragen\n",
    "  * anzahl Hilfeanfragen?\n",
    "\n",
    "\n",
    "#### brainstorming\n",
    "* distributions of a variable (duration) --> distplot and kde or just KDE\n",
    "* jointplots (fe durations vs anzahl falsche aufgaben? anzahl hilfeanfragen...) --> joint mit regression\n",
    "* ich glaube, ich msus aggregieren --> nach Schüler, nach aufgabe\n",
    "* oder neue columns mit engineered features. dann zB df.corr() und sns.heatmap(df.corr())\n",
    "* plot types:\n",
    "  * #df.corr()\n",
    "  * #df.pivot_table(values='duration',index='pupilId',columns='taskId') # plus heatmap davon!\n",
    "  * #sns.pairplot(df) # gibt viele fancy pairplots!\n",
    "  * #g = sns.FacetGrid(tips, col=\"time\",  row=\"smoker\") # vllt facet grids?\n",
    "  * #lmplot for regression\n",
    "\n",
    "\n",
    "### Paket\n",
    "* [x] wie viele SuS wie weit gekommen\n",
    "  * [x] grafik fürs ganze paket in prozent\n",
    "  * [x] anzahl einzelner aufgaben\n",
    "\n",
    "### Lernfortschrittsanalyse der Schüler\n",
    "* T0 und T1 vergleich\n",
    "  * selbsteinschätzung vorher nachher\n",
    "  * freitext einer Klasse / random gezogen aus allen. nach Kategorien?\n",
    "  * MC antworten & transfer --> wirklich verstanden?\n",
    "* (Dauer für Schüler vergleichen)\n",
    "  * hist aller Aufgaben, bzw nach Aufgabentyp, bzw relativ zum Klassendurchschnitt dieser Aufgaben!\n",
    "* (stärke eines schülers evaluieren: duration. richtig vs falsch/false attempts. hilfe rufen vs hilfe geben.)\n",
    "\n",
    "## Aufbereitung\n",
    "* Code cleanen\n",
    "* vllt eine interactive bokeh app machen, die ich den profs noch zur verfügung stelle?\n",
    "* öffentlich machen?\n",
    "\n",
    "## PP:\n",
    "* wie wird der chat genutzt?\n",
    "* zeitpunkte der aufgaben"
   ]
  },
  {
   "cell_type": "code",
   "execution_count": 1,
   "metadata": {},
   "outputs": [],
   "source": [
    "import json\n",
    "import math\n",
    "import numpy as np\n",
    "import pandas as pd\n",
    "import matplotlib.pyplot as plt\n",
    "import statistics \n",
    "import seaborn as sns\n",
    "from numpy.random import randn\n",
    "from statistics import mode\n",
    "%matplotlib inline"
   ]
  },
  {
   "cell_type": "code",
   "execution_count": 2,
   "metadata": {},
   "outputs": [
    {
     "data": {
      "text/plain": [
       "2996"
      ]
     },
     "execution_count": 2,
     "metadata": {},
     "output_type": "execute_result"
    }
   ],
   "source": [
    "pupils = json.load(open('pupils.json', 'r'))    # result will be a python dictionary\n",
    "\n",
    "#jeder entry ist ein schüler: zB data[0]\n",
    "len(pupils)\n",
    "#2715"
   ]
  },
  {
   "cell_type": "markdown",
   "metadata": {},
   "source": [
    "# Aufbau der Daten\n",
    "\n",
    "* _id\n",
    "* classId\n",
    "* userId\n",
    "* companyId\n",
    "* partner\n",
    "* lang\n",
    "* username\n",
    "* shownTaskSeries\n",
    "* currentTaskSeries\n",
    "* solvedTaskSeries\n",
    "    * [] liste mit allen solvedTaskSeries\n",
    "       * taskSeriesId\n",
    "       * currentSections\n",
    "          * [] Liste mit allen Sections\n",
    "             * currentSubSections\n",
    "                * []\n",
    "                   * duration (in sekunden)\n",
    "                   * exercise\n",
    "                      * state:\n",
    "                         * text bei freitext in p tags\n",
    "                         * 0, 1, 0... bei survey\n",
    "                         * false, true, false bei MC\n",
    "                      * submitted: true\n",
    "                      * history: wahrscheinlich alte versionen bei freetext\n",
    "                      * subType “freetext”, “survey”, “multipleChoice”\n",
    "                      * falseAttempts bei MC: bool array mit erster lösung\n",
    "                      * evaluation: (bool) bei freetext und MC\n",
    "                         * “false” bei mc wenn falsche lösung und keine tipps → direkt musterlösung\n",
    "                         * “correct” bei mc wenn richtige lösung\n",
    "                         * “pending” bei freitext, wenn lehrer noch nicht bewertet\n",
    "                      * rating: bei freetext\n",
    "      * sectionIdx\n",
    "      * subSectionIdx\n",
    "      * stage\n",
    "      * wentActive\n",
    "      * lastActive\n",
    "      * created\n",
    "* revisions\n",
    "   * _id\n",
    "   * taskSeriesId\n",
    "   * sectionIdx\n",
    "   * subSectionIdx\n",
    "   * begin\n",
    "   * accepted\n",
    "* workspaceContent\n",
    "   * type: 'revision'\n",
    "   * 'id': 'For-1_0_1'\n",
    "* chat\n",
    "   * messages\n",
    "      * [] liste mit allen messages\n",
    "         * date\n",
    "         * sentBy: zB \"auto\"\n",
    "         * message: string mit message\n",
    "   * readUpTo\n",
    "* assists\n",
    "* experience\n",
    "* lastNotificationUpdate"
   ]
  },
  {
   "cell_type": "markdown",
   "metadata": {},
   "source": [
    "# Klassen wählen, die das KI Paket gemacht haben"
   ]
  },
  {
   "cell_type": "code",
   "execution_count": 10,
   "metadata": {},
   "outputs": [
    {
     "name": "stdout",
     "output_type": "stream",
     "text": [
      "{'uxfuiLT4xZA6yvE6L': {'count': 2}, 'qFEyvypMn4sAwLwtc': {'count': 26}, 'y7j9eKDPsqNkAycuy': {'count': 1}, 'NXCw6MMERYbnzdTjc': {'count': 1}, '6Z2MmkKQKebb7nz8P': {'count': 3}, '4fyXxCKaLbCBaPbYE': {'count': 1}, 'xYWgeSPkADwSmhdmm': {'count': 2}, 'GkQSJvPTRWsLnpyR9': {'count': 14}, '7cWBWtLEcLSYDygDc': {'count': 1}}\n",
      "\n",
      "Zur Zeit gibt es 40 sus, die das KI Paket bearbeitet haben\n"
     ]
    }
   ],
   "source": [
    "# taskseriesIDs vom KI Paket:\n",
    "KI_taskseries_ids = [\"AI-1-v2\", \"AI-2-v2\", \"AI-3-v2\", \"AI-4-v2\", \"ML-1\", \"ML-2\", \"ML-3\", \"Classification-1\", \"Clustering-1\", \"Classification-2\", \"Clustering-2\", \"LimitsML\", \"EvalML\", \"Impact-1\", \"Impact-2\", \"Impact-3\", \"Impact-4\", \"AIClosing\"]\n",
    "\n",
    "classIDsKI = []\n",
    "pupilsKI = []\n",
    "\n",
    "for pupilnumber in range(len(pupils)): #für jeden schüler\n",
    "    for tasknumber in range(len(pupils[pupilnumber][\"solvedTaskSeries\"])): #für jede seiner tasks\n",
    "        if(\"taskSeriesId\" in pupils[pupilnumber][\"solvedTaskSeries\"][tasknumber].keys()):\n",
    "            if(pupils[pupilnumber][\"solvedTaskSeries\"][tasknumber][\"taskSeriesId\"] in KI_taskseries_ids):\n",
    "                for sectionnumber in range(len(pupils[pupilnumber][\"solvedTaskSeries\"][tasknumber][\"currentSections\"])): #für diese tasks, alle sections\n",
    "                    for subsectionnumber in range(len(pupils[pupilnumber][\"solvedTaskSeries\"][tasknumber][\"currentSections\"][sectionnumber][\"currentSubSections\"])):\n",
    "                        if(\"exercise\" in pupils[pupilnumber][\"solvedTaskSeries\"][tasknumber][\"currentSections\"][sectionnumber][\"currentSubSections\"][subsectionnumber].keys()):\n",
    "                            if pupils[pupilnumber][\"classId\"] not in classIDsKI:\n",
    "                                classIDsKI.append(pupils[pupilnumber][\"classId\"])\n",
    "                            if pupils[pupilnumber] not in pupilsKI:\n",
    "                                pupilsKI.append(pupils[pupilnumber])\n",
    "\n",
    "KI_classes = {classID: {\"count\": 0} for classID in classIDsKI}\n",
    "\n",
    "for pupil in pupilsKI:\n",
    "    KI_classes[pupil[\"classId\"]][\"count\"] += 1\n",
    "\n",
    "print(KI_classes)\n",
    "print(\"\")\n",
    "\n",
    "# Jetzt nur die Klassen mit genügend SuS auswählen\n",
    "final_pupils_KI = []\n",
    "min_class_size = 10\n",
    "\n",
    "for pupil in pupilsKI:\n",
    "    if(KI_classes[pupil[\"classId\"]][\"count\"] >= min_class_size):\n",
    "        final_pupils_KI.append(pupil)\n",
    "\n",
    "print(\"Zur Zeit gibt es \" + str(len(final_pupils_KI)) + \" sus, die das KI Paket bearbeitet haben\")"
   ]
  },
  {
   "cell_type": "markdown",
   "metadata": {},
   "source": [
    "## DF mit classId und pupilId konstruieren"
   ]
  },
  {
   "cell_type": "code",
   "execution_count": 11,
   "metadata": {},
   "outputs": [
    {
     "data": {
      "text/html": [
       "<div>\n",
       "<style scoped>\n",
       "    .dataframe tbody tr th:only-of-type {\n",
       "        vertical-align: middle;\n",
       "    }\n",
       "\n",
       "    .dataframe tbody tr th {\n",
       "        vertical-align: top;\n",
       "    }\n",
       "\n",
       "    .dataframe thead th {\n",
       "        text-align: right;\n",
       "    }\n",
       "</style>\n",
       "<table border=\"1\" class=\"dataframe\">\n",
       "  <thead>\n",
       "    <tr style=\"text-align: right;\">\n",
       "      <th></th>\n",
       "      <th>pupilId</th>\n",
       "      <th>classId</th>\n",
       "    </tr>\n",
       "  </thead>\n",
       "  <tbody>\n",
       "    <tr>\n",
       "      <th>0</th>\n",
       "      <td>bniRycMi5bwrXjvGy</td>\n",
       "      <td>qFEyvypMn4sAwLwtc</td>\n",
       "    </tr>\n",
       "    <tr>\n",
       "      <th>1</th>\n",
       "      <td>sqBXKssFvS8pFYAMv</td>\n",
       "      <td>qFEyvypMn4sAwLwtc</td>\n",
       "    </tr>\n",
       "    <tr>\n",
       "      <th>2</th>\n",
       "      <td>Kd6FuRsrq6QvPrkKp</td>\n",
       "      <td>qFEyvypMn4sAwLwtc</td>\n",
       "    </tr>\n",
       "    <tr>\n",
       "      <th>3</th>\n",
       "      <td>6bBwnX2mwAp2NAwNR</td>\n",
       "      <td>qFEyvypMn4sAwLwtc</td>\n",
       "    </tr>\n",
       "    <tr>\n",
       "      <th>4</th>\n",
       "      <td>ZTvPk2i77LDC8pFmu</td>\n",
       "      <td>qFEyvypMn4sAwLwtc</td>\n",
       "    </tr>\n",
       "  </tbody>\n",
       "</table>\n",
       "</div>"
      ],
      "text/plain": [
       "             pupilId            classId\n",
       "0  bniRycMi5bwrXjvGy  qFEyvypMn4sAwLwtc\n",
       "1  sqBXKssFvS8pFYAMv  qFEyvypMn4sAwLwtc\n",
       "2  Kd6FuRsrq6QvPrkKp  qFEyvypMn4sAwLwtc\n",
       "3  6bBwnX2mwAp2NAwNR  qFEyvypMn4sAwLwtc\n",
       "4  ZTvPk2i77LDC8pFmu  qFEyvypMn4sAwLwtc"
      ]
     },
     "execution_count": 11,
     "metadata": {},
     "output_type": "execute_result"
    }
   ],
   "source": [
    "class_list = [{\"pupilId\": pupil[\"_id\"], \"classId\": pupil[\"classId\"]} for pupil in final_pupils_KI]\n",
    "class_df = pd.DataFrame(class_list)\n",
    "\n",
    "class_df.head()"
   ]
  },
  {
   "cell_type": "markdown",
   "metadata": {},
   "source": [
    "# Alle von SuS bearbeitete Aufgaben im KI Paket in einen DF"
   ]
  },
  {
   "cell_type": "code",
   "execution_count": 21,
   "metadata": {},
   "outputs": [
    {
     "data": {
      "text/html": [
       "<div>\n",
       "<style scoped>\n",
       "    .dataframe tbody tr th:only-of-type {\n",
       "        vertical-align: middle;\n",
       "    }\n",
       "\n",
       "    .dataframe tbody tr th {\n",
       "        vertical-align: top;\n",
       "    }\n",
       "\n",
       "    .dataframe thead th {\n",
       "        text-align: right;\n",
       "    }\n",
       "</style>\n",
       "<table border=\"1\" class=\"dataframe\">\n",
       "  <thead>\n",
       "    <tr style=\"text-align: right;\">\n",
       "      <th></th>\n",
       "      <th>pupilId</th>\n",
       "      <th>taskId</th>\n",
       "      <th>taskSeriesId</th>\n",
       "      <th>duration</th>\n",
       "      <th>state</th>\n",
       "      <th>submitted</th>\n",
       "      <th>subType</th>\n",
       "      <th>evaluation</th>\n",
       "      <th>falseAttempts</th>\n",
       "      <th>hintsTaken</th>\n",
       "      <th>rating</th>\n",
       "      <th>teacherFeedback</th>\n",
       "      <th>history</th>\n",
       "    </tr>\n",
       "  </thead>\n",
       "  <tbody>\n",
       "    <tr>\n",
       "      <th>0</th>\n",
       "      <td>bniRycMi5bwrXjvGy</td>\n",
       "      <td>AI-1-v2-1-1</td>\n",
       "      <td>AI-1-v2</td>\n",
       "      <td>40</td>\n",
       "      <td>92</td>\n",
       "      <td>True</td>\n",
       "      <td>surveySlider</td>\n",
       "      <td>NaN</td>\n",
       "      <td>NaN</td>\n",
       "      <td>NaN</td>\n",
       "      <td>NaN</td>\n",
       "      <td>NaN</td>\n",
       "      <td>[]</td>\n",
       "    </tr>\n",
       "    <tr>\n",
       "      <th>1</th>\n",
       "      <td>bniRycMi5bwrXjvGy</td>\n",
       "      <td>AI-1-v2-1-2</td>\n",
       "      <td>AI-1-v2</td>\n",
       "      <td>119</td>\n",
       "      <td>&lt;p&gt;Künstliche Intelligenz ist ein Algorithmus,...</td>\n",
       "      <td>True</td>\n",
       "      <td>freetext</td>\n",
       "      <td>correct</td>\n",
       "      <td>NaN</td>\n",
       "      <td>NaN</td>\n",
       "      <td>{'content': 3, 'format': 5, 'creativity': 4}</td>\n",
       "      <td>Inhaltlich gut, etwas genauer antworten. Muste...</td>\n",
       "      <td>[]</td>\n",
       "    </tr>\n",
       "    <tr>\n",
       "      <th>2</th>\n",
       "      <td>bniRycMi5bwrXjvGy</td>\n",
       "      <td>AI-1-v2-2-1</td>\n",
       "      <td>AI-1-v2</td>\n",
       "      <td>268</td>\n",
       "      <td>[0, 0, 1, 0, 0]</td>\n",
       "      <td>True</td>\n",
       "      <td>survey</td>\n",
       "      <td>NaN</td>\n",
       "      <td>NaN</td>\n",
       "      <td>NaN</td>\n",
       "      <td>NaN</td>\n",
       "      <td>NaN</td>\n",
       "      <td>[]</td>\n",
       "    </tr>\n",
       "    <tr>\n",
       "      <th>4</th>\n",
       "      <td>bniRycMi5bwrXjvGy</td>\n",
       "      <td>AI-2-v2-1-1</td>\n",
       "      <td>AI-2-v2</td>\n",
       "      <td>94</td>\n",
       "      <td>[True, True, False, True]</td>\n",
       "      <td>True</td>\n",
       "      <td>multipleChoice</td>\n",
       "      <td>correct</td>\n",
       "      <td>NaN</td>\n",
       "      <td>NaN</td>\n",
       "      <td>NaN</td>\n",
       "      <td>NaN</td>\n",
       "      <td>[]</td>\n",
       "    </tr>\n",
       "    <tr>\n",
       "      <th>6</th>\n",
       "      <td>bniRycMi5bwrXjvGy</td>\n",
       "      <td>AI-3-v2-1-1</td>\n",
       "      <td>AI-3-v2</td>\n",
       "      <td>43</td>\n",
       "      <td>[False, False, False]</td>\n",
       "      <td>True</td>\n",
       "      <td>multipleChoice</td>\n",
       "      <td>correct</td>\n",
       "      <td>NaN</td>\n",
       "      <td>NaN</td>\n",
       "      <td>NaN</td>\n",
       "      <td>NaN</td>\n",
       "      <td>[]</td>\n",
       "    </tr>\n",
       "  </tbody>\n",
       "</table>\n",
       "</div>"
      ],
      "text/plain": [
       "             pupilId       taskId taskSeriesId duration  \\\n",
       "0  bniRycMi5bwrXjvGy  AI-1-v2-1-1      AI-1-v2       40   \n",
       "1  bniRycMi5bwrXjvGy  AI-1-v2-1-2      AI-1-v2      119   \n",
       "2  bniRycMi5bwrXjvGy  AI-1-v2-2-1      AI-1-v2      268   \n",
       "4  bniRycMi5bwrXjvGy  AI-2-v2-1-1      AI-2-v2       94   \n",
       "6  bniRycMi5bwrXjvGy  AI-3-v2-1-1      AI-3-v2       43   \n",
       "\n",
       "                                               state submitted  \\\n",
       "0                                                 92      True   \n",
       "1  <p>Künstliche Intelligenz ist ein Algorithmus,...      True   \n",
       "2                                    [0, 0, 1, 0, 0]      True   \n",
       "4                          [True, True, False, True]      True   \n",
       "6                              [False, False, False]      True   \n",
       "\n",
       "          subType evaluation falseAttempts hintsTaken  \\\n",
       "0    surveySlider        NaN           NaN        NaN   \n",
       "1        freetext    correct           NaN        NaN   \n",
       "2          survey        NaN           NaN        NaN   \n",
       "4  multipleChoice    correct           NaN        NaN   \n",
       "6  multipleChoice    correct           NaN        NaN   \n",
       "\n",
       "                                         rating  \\\n",
       "0                                           NaN   \n",
       "1  {'content': 3, 'format': 5, 'creativity': 4}   \n",
       "2                                           NaN   \n",
       "4                                           NaN   \n",
       "6                                           NaN   \n",
       "\n",
       "                                     teacherFeedback history  \n",
       "0                                                NaN      []  \n",
       "1  Inhaltlich gut, etwas genauer antworten. Muste...      []  \n",
       "2                                                NaN      []  \n",
       "4                                                NaN      []  \n",
       "6                                                NaN      []  "
      ]
     },
     "execution_count": 21,
     "metadata": {},
     "output_type": "execute_result"
    }
   ],
   "source": [
    "tasktypes = [\"blockly\", \"multipleChoice\", \"freetext\", \"survey\", \"inputField\", \"surveySlider\", \"noTask\"]\n",
    "exercise_keys = ['state', 'submitted', 'subType', 'evaluation', 'falseAttempts', 'hintsTaken', 'rating', 'teacherFeedback', \"history\"]\n",
    "\n",
    "# TODO: nehme hier alle Aufgaben von SuS, die das KI Paket bearbeitet haben, nicht nur diese Inhalte --> einschränken?\n",
    "\n",
    "columns = [\"pupilId\", \"taskId\", \"taskSeriesId\", \"duration\"] + exercise_keys\n",
    "pupil_df = pd.DataFrame(columns=columns)\n",
    "\n",
    "row_nr = 0\n",
    "for pupil in final_pupils_KI:\n",
    "    for task in pupil[\"solvedTaskSeries\"]:\n",
    "        sec_nr = 1\n",
    "        for section in task[\"currentSections\"]:\n",
    "            subsec_nr = 1\n",
    "            for subsection in section[\"currentSubSections\"]:\n",
    "                # eine neue Zeile hinzufügen für jede bearbeitete Aufgabe und id columns füllen\n",
    "                #df = df.append({\"pupilId\": pupil[\"_id\"], \"taskId\": str(task[\"taskSeriesId\"])+\"-\"+str(sec_nr)+\"-\"+str(subsec_nr),'taskSeriesId': task[\"taskSeriesId\"], \"sec_nr\": sec_nr, \"subsec_nr\": subsec_nr}, ignore_index=True)\n",
    "                pupil_df = pupil_df.append({\"pupilId\": pupil[\"_id\"], \"taskId\": str(task[\"taskSeriesId\"])+\"-\"+str(sec_nr)+\"-\"+str(subsec_nr),'taskSeriesId': task[\"taskSeriesId\"], \"duration\": subsection[\"duration\"]}, ignore_index=True)\n",
    "                subsec_nr += 1\n",
    "                if(\"exercise\" in subsection.keys()):\n",
    "                    # hier wird der eigentliche state der aufgabe in die reihe eingetragen\n",
    "                    for key in subsection[\"exercise\"].keys():\n",
    "                        pupil_df.at[row_nr, key] = subsection[\"exercise\"][key]\n",
    "                row_nr += 1\n",
    "            sec_nr +=1\n",
    "    \n",
    "# aufgaben loswerden, die nicht submitted wurden!\n",
    "pupil_df.dropna(subset=['submitted'], inplace=True)\n",
    "\n",
    "#die antworten der einen falschen aufgabe berichtigen\n",
    "for index in pupil_df.index:\n",
    "    if(pupil_df.loc[index, \"taskId\"] == \"Classification-2-1-5\"):\n",
    "        if (\"2\" in str(pupil_df.loc[index, \"falseAttempts\"])): #die SuS, die es eigentlich richtig hatten\n",
    "            pupil_df.loc[index, \"falseAttempts\"] = np.nan\n",
    "            pupil_df.loc[index, \"evaluation\"] = \"correct\"\n",
    "        elif(pupil_df.loc[index, \"pupilId\"]==\"gooproPtWeTH6dtcB\"): #der eine schüler, der es falsch hatte\n",
    "            pupil_df.loc[index, \"falseAttempts\"] = [str(pupil_df.loc[index, \"state\"])]\n",
    "            pupil_df.loc[index, \"evaluation\"] = \"false\"\n",
    "\n",
    "pupil_df.head()\n",
    "\n"
   ]
  },
  {
   "cell_type": "markdown",
   "metadata": {},
   "source": [
    "## DF mit taskSeries bauen"
   ]
  },
  {
   "cell_type": "code",
   "execution_count": 13,
   "metadata": {},
   "outputs": [],
   "source": [
    "#taskSeries Laden\n",
    "taskSeries = json.load(open('taskSeries.json', 'r'))    # result will be a python dictionary"
   ]
  },
  {
   "cell_type": "code",
   "execution_count": 37,
   "metadata": {},
   "outputs": [
    {
     "data": {
      "text/html": [
       "<div>\n",
       "<style scoped>\n",
       "    .dataframe tbody tr th:only-of-type {\n",
       "        vertical-align: middle;\n",
       "    }\n",
       "\n",
       "    .dataframe tbody tr th {\n",
       "        vertical-align: top;\n",
       "    }\n",
       "\n",
       "    .dataframe thead th {\n",
       "        text-align: right;\n",
       "    }\n",
       "</style>\n",
       "<table border=\"1\" class=\"dataframe\">\n",
       "  <thead>\n",
       "    <tr style=\"text-align: right;\">\n",
       "      <th></th>\n",
       "      <th>taskId</th>\n",
       "      <th>question</th>\n",
       "      <th>answers</th>\n",
       "      <th>minLabel</th>\n",
       "      <th>maxLabel</th>\n",
       "      <th>hints</th>\n",
       "      <th>sampleSolution</th>\n",
       "    </tr>\n",
       "  </thead>\n",
       "  <tbody>\n",
       "    <tr>\n",
       "      <th>0</th>\n",
       "      <td>AI-1-v2-1-1</td>\n",
       "      <td>Wie gut weißt du schon, was KI ist?</td>\n",
       "      <td>NaN</td>\n",
       "      <td>Gar nicht</td>\n",
       "      <td>Sehr gut</td>\n",
       "      <td>NaN</td>\n",
       "      <td>NaN</td>\n",
       "    </tr>\n",
       "    <tr>\n",
       "      <th>1</th>\n",
       "      <td>AI-1-v2-1-2</td>\n",
       "      <td>Was ist deiner Meinung nach Künstliche Intelli...</td>\n",
       "      <td>NaN</td>\n",
       "      <td>NaN</td>\n",
       "      <td>NaN</td>\n",
       "      <td>NaN</td>\n",
       "      <td>Die Schülerinnen und Schüler (SuS) sollen besc...</td>\n",
       "    </tr>\n",
       "    <tr>\n",
       "      <th>2</th>\n",
       "      <td>AI-1-v2-2-1</td>\n",
       "      <td>Wie viele deiner Zeichnungen hat die KI erkann...</td>\n",
       "      <td>[{'de': '0', 'en-US': '0'}, {'de': '1-2', 'en-...</td>\n",
       "      <td>NaN</td>\n",
       "      <td>NaN</td>\n",
       "      <td>NaN</td>\n",
       "      <td>NaN</td>\n",
       "    </tr>\n",
       "    <tr>\n",
       "      <th>3</th>\n",
       "      <td>AI-2-v2-1-1</td>\n",
       "      <td>Kannst du erkennen, wo KI überall drin steckt?...</td>\n",
       "      <td>[{'de': 'Der Newsfeed eines Social Network nut...</td>\n",
       "      <td>NaN</td>\n",
       "      <td>NaN</td>\n",
       "      <td>Denk an die Beispiele, die wir uns am Anfang a...</td>\n",
       "      <td>[True, True, False, True]</td>\n",
       "    </tr>\n",
       "    <tr>\n",
       "      <th>4</th>\n",
       "      <td>AI-3-v2-1-1</td>\n",
       "      <td>Was für Sachen können KI-Anwendungen?</td>\n",
       "      <td>[{'de': 'Die Anwendung, die den Facebook-Feed ...</td>\n",
       "      <td>NaN</td>\n",
       "      <td>NaN</td>\n",
       "      <td>Kann überhaupt eine dieser Anwendungen etwas, ...</td>\n",
       "      <td>[False, False, False]</td>\n",
       "    </tr>\n",
       "  </tbody>\n",
       "</table>\n",
       "</div>"
      ],
      "text/plain": [
       "        taskId                                           question  \\\n",
       "0  AI-1-v2-1-1                Wie gut weißt du schon, was KI ist?   \n",
       "1  AI-1-v2-1-2  Was ist deiner Meinung nach Künstliche Intelli...   \n",
       "2  AI-1-v2-2-1  Wie viele deiner Zeichnungen hat die KI erkann...   \n",
       "3  AI-2-v2-1-1  Kannst du erkennen, wo KI überall drin steckt?...   \n",
       "4  AI-3-v2-1-1              Was für Sachen können KI-Anwendungen?   \n",
       "\n",
       "                                             answers   minLabel  maxLabel  \\\n",
       "0                                                NaN  Gar nicht  Sehr gut   \n",
       "1                                                NaN        NaN       NaN   \n",
       "2  [{'de': '0', 'en-US': '0'}, {'de': '1-2', 'en-...        NaN       NaN   \n",
       "3  [{'de': 'Der Newsfeed eines Social Network nut...        NaN       NaN   \n",
       "4  [{'de': 'Die Anwendung, die den Facebook-Feed ...        NaN       NaN   \n",
       "\n",
       "                                               hints  \\\n",
       "0                                                NaN   \n",
       "1                                                NaN   \n",
       "2                                                NaN   \n",
       "3  Denk an die Beispiele, die wir uns am Anfang a...   \n",
       "4  Kann überhaupt eine dieser Anwendungen etwas, ...   \n",
       "\n",
       "                                      sampleSolution  \n",
       "0                                                NaN  \n",
       "1  Die Schülerinnen und Schüler (SuS) sollen besc...  \n",
       "2                                                NaN  \n",
       "3                          [True, True, False, True]  \n",
       "4                              [False, False, False]  "
      ]
     },
     "execution_count": 37,
     "metadata": {},
     "output_type": "execute_result"
    }
   ],
   "source": [
    "#KI_taskseries_ids = [\"AI-1-v2\", \"AI-2-v2\", \"AI-3-v2\", \"AI-4-v2\", \"ML-1\", \"ML-2\", \"ML-3\", \"Classification-1\", \"Clustering-1\", \"Classification-2\", \"Clustering-2\", \"LimitsML\", \"EvalML\", \"Impact-1\", \"Impact-2\", \"Impact-3\", \"Impact-4\", \"AIClosing\"]\n",
    "\n",
    "interaction_subtypes = ['multipleChoice', 'blockly', 'surveySlider', 'survey', 'inputField', 'freetext']\n",
    "columns = [\"taskId\", \"question\", \"answers\", \"minLabel\", \"maxLabel\", \"hints\", \"sampleSolution\"]\n",
    "task_df = pd.DataFrame(columns=columns)\n",
    "\n",
    "row_nr = 0\n",
    "for taskSerie in taskSeries:\n",
    "    sec_nr = 1\n",
    "    if taskSerie[\"_id\"] in KI_taskseries_ids:\n",
    "        for section in taskSerie[\"sections\"]:\n",
    "            subsec_nr = 1\n",
    "            for subsection in section[\"subSections\"]:\n",
    "                for elem in subsection[\"elements\"]:\n",
    "                    if(elem[\"subType\"] in interaction_subtypes):\n",
    "                        task_df = task_df.append({\"taskId\": str(taskSerie[\"_id\"])+\"-\"+str(sec_nr)+\"-\"+str(subsec_nr), \"question\": elem[\"question\"][\"de\"]}, ignore_index=True)\n",
    "                        #task_df = task_df.append({\"taskId\": str(taskSerie[\"_id\"])+\"-\"+str(sec_nr)+\"-\"+str(subsec_nr),'taskSeriesId': taskSerie[\"_id\"], \"sec_nr\": sec_nr, \"subsec_nr\": subsec_nr, \"subType\": elem[\"subType\"], \"question\": elem[\"question\"][\"de\"]}, ignore_index=True)\n",
    "                        if(elem[\"subType\"] == \"surveySlider\"):\n",
    "                            task_df.at[row_nr, \"minLabel\"] = elem[\"specificData\"][\"minLabel\"][\"de\"]\n",
    "                            task_df.at[row_nr, \"maxLabel\"] = elem[\"specificData\"][\"maxLabel\"][\"de\"]\n",
    "                        elif(elem[\"subType\"] == \"freetext\"):\n",
    "                            task_df.at[row_nr, \"sampleSolution\"] = elem[\"sampleSolution\"][\"de\"]\n",
    "                        elif(elem[\"subType\"] == \"survey\"):\n",
    "                            task_df.at[row_nr, \"answers\"] = elem[\"specificData\"][\"answers\"]\n",
    "                        elif(elem[\"subType\"] == \"multipleChoice\"):\n",
    "                            task_df.at[row_nr, \"answers\"] = elem[\"specificData\"][\"answers\"]\n",
    "                            task_df.at[row_nr, \"sampleSolution\"] = elem[\"sampleSolution\"][\"universal\"]\n",
    "                            if(len(elem[\"hints\"]) > 0):\n",
    "                                task_df.at[row_nr, \"hints\"] = elem[\"hints\"][0][\"de\"]\n",
    "                        elif(elem[\"subType\"] == \"inputField\"):\n",
    "                            task_df.at[row_nr, \"sampleSolution\"] = elem[\"sampleSolution\"][\"universal\"]\n",
    "                            if(len(elem[\"hints\"]) > 0):\n",
    "                                task_df.at[row_nr, \"hints\"] = elem[\"hints\"][0][\"de\"]\n",
    "                        row_nr += 1\n",
    "                subsec_nr +=1\n",
    "            sec_nr +=1\n",
    "            \n",
    "task_df.head()"
   ]
  },
  {
   "cell_type": "markdown",
   "metadata": {},
   "source": [
    "## DF mergen"
   ]
  },
  {
   "cell_type": "code",
   "execution_count": 23,
   "metadata": {},
   "outputs": [],
   "source": [
    "new_df = pd.merge(pupil_df, task_df, on='taskId')\n",
    "new_df.drop(columns=['history'], inplace=True)"
   ]
  },
  {
   "cell_type": "code",
   "execution_count": 24,
   "metadata": {},
   "outputs": [
    {
     "data": {
      "text/html": [
       "<div>\n",
       "<style scoped>\n",
       "    .dataframe tbody tr th:only-of-type {\n",
       "        vertical-align: middle;\n",
       "    }\n",
       "\n",
       "    .dataframe tbody tr th {\n",
       "        vertical-align: top;\n",
       "    }\n",
       "\n",
       "    .dataframe thead th {\n",
       "        text-align: right;\n",
       "    }\n",
       "</style>\n",
       "<table border=\"1\" class=\"dataframe\">\n",
       "  <thead>\n",
       "    <tr style=\"text-align: right;\">\n",
       "      <th></th>\n",
       "      <th>pupilId</th>\n",
       "      <th>classId</th>\n",
       "      <th>taskId</th>\n",
       "      <th>taskSeriesId</th>\n",
       "      <th>duration</th>\n",
       "      <th>state</th>\n",
       "      <th>submitted</th>\n",
       "      <th>subType</th>\n",
       "      <th>evaluation</th>\n",
       "      <th>falseAttempts</th>\n",
       "      <th>hintsTaken</th>\n",
       "      <th>rating</th>\n",
       "      <th>teacherFeedback</th>\n",
       "      <th>question</th>\n",
       "      <th>answers</th>\n",
       "      <th>minLabel</th>\n",
       "      <th>maxLabel</th>\n",
       "      <th>hints</th>\n",
       "      <th>sampleSolution</th>\n",
       "    </tr>\n",
       "  </thead>\n",
       "  <tbody>\n",
       "    <tr>\n",
       "      <th>0</th>\n",
       "      <td>bniRycMi5bwrXjvGy</td>\n",
       "      <td>qFEyvypMn4sAwLwtc</td>\n",
       "      <td>AI-1-v2-1-1</td>\n",
       "      <td>AI-1-v2</td>\n",
       "      <td>40</td>\n",
       "      <td>92</td>\n",
       "      <td>True</td>\n",
       "      <td>surveySlider</td>\n",
       "      <td>NaN</td>\n",
       "      <td>NaN</td>\n",
       "      <td>NaN</td>\n",
       "      <td>NaN</td>\n",
       "      <td>NaN</td>\n",
       "      <td>Wie gut weißt du schon, was KI ist?</td>\n",
       "      <td>NaN</td>\n",
       "      <td>Gar nicht</td>\n",
       "      <td>Sehr gut</td>\n",
       "      <td>NaN</td>\n",
       "      <td>NaN</td>\n",
       "    </tr>\n",
       "    <tr>\n",
       "      <th>1</th>\n",
       "      <td>bniRycMi5bwrXjvGy</td>\n",
       "      <td>qFEyvypMn4sAwLwtc</td>\n",
       "      <td>AI-1-v2-1-2</td>\n",
       "      <td>AI-1-v2</td>\n",
       "      <td>119</td>\n",
       "      <td>&lt;p&gt;Künstliche Intelligenz ist ein Algorithmus,...</td>\n",
       "      <td>True</td>\n",
       "      <td>freetext</td>\n",
       "      <td>correct</td>\n",
       "      <td>NaN</td>\n",
       "      <td>NaN</td>\n",
       "      <td>{'content': 3, 'format': 5, 'creativity': 4}</td>\n",
       "      <td>Inhaltlich gut, etwas genauer antworten. Muste...</td>\n",
       "      <td>Was ist deiner Meinung nach Künstliche Intelli...</td>\n",
       "      <td>NaN</td>\n",
       "      <td>NaN</td>\n",
       "      <td>NaN</td>\n",
       "      <td>NaN</td>\n",
       "      <td>Die Schülerinnen und Schüler (SuS) sollen besc...</td>\n",
       "    </tr>\n",
       "    <tr>\n",
       "      <th>2</th>\n",
       "      <td>bniRycMi5bwrXjvGy</td>\n",
       "      <td>qFEyvypMn4sAwLwtc</td>\n",
       "      <td>AI-1-v2-2-1</td>\n",
       "      <td>AI-1-v2</td>\n",
       "      <td>268</td>\n",
       "      <td>[0, 0, 1, 0, 0]</td>\n",
       "      <td>True</td>\n",
       "      <td>survey</td>\n",
       "      <td>NaN</td>\n",
       "      <td>NaN</td>\n",
       "      <td>NaN</td>\n",
       "      <td>NaN</td>\n",
       "      <td>NaN</td>\n",
       "      <td>Wie viele deiner Zeichnungen hat die KI erkann...</td>\n",
       "      <td>[{'de': '0', 'en-US': '0'}, {'de': '1-2', 'en-...</td>\n",
       "      <td>NaN</td>\n",
       "      <td>NaN</td>\n",
       "      <td>NaN</td>\n",
       "      <td>NaN</td>\n",
       "    </tr>\n",
       "    <tr>\n",
       "      <th>3</th>\n",
       "      <td>bniRycMi5bwrXjvGy</td>\n",
       "      <td>qFEyvypMn4sAwLwtc</td>\n",
       "      <td>AI-2-v2-1-1</td>\n",
       "      <td>AI-2-v2</td>\n",
       "      <td>94</td>\n",
       "      <td>[True, True, False, True]</td>\n",
       "      <td>True</td>\n",
       "      <td>multipleChoice</td>\n",
       "      <td>correct</td>\n",
       "      <td>NaN</td>\n",
       "      <td>NaN</td>\n",
       "      <td>NaN</td>\n",
       "      <td>NaN</td>\n",
       "      <td>Kannst du erkennen, wo KI überall drin steckt?...</td>\n",
       "      <td>[{'de': 'Der Newsfeed eines Social Network nut...</td>\n",
       "      <td>NaN</td>\n",
       "      <td>NaN</td>\n",
       "      <td>Denk an die Beispiele, die wir uns am Anfang a...</td>\n",
       "      <td>[True, True, False, True]</td>\n",
       "    </tr>\n",
       "    <tr>\n",
       "      <th>4</th>\n",
       "      <td>bniRycMi5bwrXjvGy</td>\n",
       "      <td>qFEyvypMn4sAwLwtc</td>\n",
       "      <td>AI-3-v2-1-1</td>\n",
       "      <td>AI-3-v2</td>\n",
       "      <td>43</td>\n",
       "      <td>[False, False, False]</td>\n",
       "      <td>True</td>\n",
       "      <td>multipleChoice</td>\n",
       "      <td>correct</td>\n",
       "      <td>NaN</td>\n",
       "      <td>NaN</td>\n",
       "      <td>NaN</td>\n",
       "      <td>NaN</td>\n",
       "      <td>Was für Sachen können KI-Anwendungen?</td>\n",
       "      <td>[{'de': 'Die Anwendung, die den Facebook-Feed ...</td>\n",
       "      <td>NaN</td>\n",
       "      <td>NaN</td>\n",
       "      <td>Kann überhaupt eine dieser Anwendungen etwas, ...</td>\n",
       "      <td>[False, False, False]</td>\n",
       "    </tr>\n",
       "  </tbody>\n",
       "</table>\n",
       "</div>"
      ],
      "text/plain": [
       "             pupilId            classId       taskId taskSeriesId duration  \\\n",
       "0  bniRycMi5bwrXjvGy  qFEyvypMn4sAwLwtc  AI-1-v2-1-1      AI-1-v2       40   \n",
       "1  bniRycMi5bwrXjvGy  qFEyvypMn4sAwLwtc  AI-1-v2-1-2      AI-1-v2      119   \n",
       "2  bniRycMi5bwrXjvGy  qFEyvypMn4sAwLwtc  AI-1-v2-2-1      AI-1-v2      268   \n",
       "3  bniRycMi5bwrXjvGy  qFEyvypMn4sAwLwtc  AI-2-v2-1-1      AI-2-v2       94   \n",
       "4  bniRycMi5bwrXjvGy  qFEyvypMn4sAwLwtc  AI-3-v2-1-1      AI-3-v2       43   \n",
       "\n",
       "                                               state submitted  \\\n",
       "0                                                 92      True   \n",
       "1  <p>Künstliche Intelligenz ist ein Algorithmus,...      True   \n",
       "2                                    [0, 0, 1, 0, 0]      True   \n",
       "3                          [True, True, False, True]      True   \n",
       "4                              [False, False, False]      True   \n",
       "\n",
       "          subType evaluation falseAttempts hintsTaken  \\\n",
       "0    surveySlider        NaN           NaN        NaN   \n",
       "1        freetext    correct           NaN        NaN   \n",
       "2          survey        NaN           NaN        NaN   \n",
       "3  multipleChoice    correct           NaN        NaN   \n",
       "4  multipleChoice    correct           NaN        NaN   \n",
       "\n",
       "                                         rating  \\\n",
       "0                                           NaN   \n",
       "1  {'content': 3, 'format': 5, 'creativity': 4}   \n",
       "2                                           NaN   \n",
       "3                                           NaN   \n",
       "4                                           NaN   \n",
       "\n",
       "                                     teacherFeedback  \\\n",
       "0                                                NaN   \n",
       "1  Inhaltlich gut, etwas genauer antworten. Muste...   \n",
       "2                                                NaN   \n",
       "3                                                NaN   \n",
       "4                                                NaN   \n",
       "\n",
       "                                            question  \\\n",
       "0                Wie gut weißt du schon, was KI ist?   \n",
       "1  Was ist deiner Meinung nach Künstliche Intelli...   \n",
       "2  Wie viele deiner Zeichnungen hat die KI erkann...   \n",
       "3  Kannst du erkennen, wo KI überall drin steckt?...   \n",
       "4              Was für Sachen können KI-Anwendungen?   \n",
       "\n",
       "                                             answers   minLabel  maxLabel  \\\n",
       "0                                                NaN  Gar nicht  Sehr gut   \n",
       "1                                                NaN        NaN       NaN   \n",
       "2  [{'de': '0', 'en-US': '0'}, {'de': '1-2', 'en-...        NaN       NaN   \n",
       "3  [{'de': 'Der Newsfeed eines Social Network nut...        NaN       NaN   \n",
       "4  [{'de': 'Die Anwendung, die den Facebook-Feed ...        NaN       NaN   \n",
       "\n",
       "                                               hints  \\\n",
       "0                                                NaN   \n",
       "1                                                NaN   \n",
       "2                                                NaN   \n",
       "3  Denk an die Beispiele, die wir uns am Anfang a...   \n",
       "4  Kann überhaupt eine dieser Anwendungen etwas, ...   \n",
       "\n",
       "                                      sampleSolution  \n",
       "0                                                NaN  \n",
       "1  Die Schülerinnen und Schüler (SuS) sollen besc...  \n",
       "2                                                NaN  \n",
       "3                          [True, True, False, True]  \n",
       "4                              [False, False, False]  "
      ]
     },
     "execution_count": 24,
     "metadata": {},
     "output_type": "execute_result"
    }
   ],
   "source": [
    "df = pd.merge(class_df, new_df, on=\"pupilId\")\n",
    "df.head()"
   ]
  },
  {
   "cell_type": "code",
   "execution_count": null,
   "metadata": {},
   "outputs": [],
   "source": []
  },
  {
   "cell_type": "markdown",
   "metadata": {},
   "source": [
    "# Itemanalyse\n",
    "## Surveyslider"
   ]
  },
  {
   "cell_type": "code",
   "execution_count": 9,
   "metadata": {},
   "outputs": [
    {
     "name": "stdout",
     "output_type": "stream",
     "text": [
      "AI-1-v2-1-1: Wie gut weißt du schon, was KI ist?\n",
      "min: 5\n",
      "max: 100\n",
      "median: 71.5\n",
      "mean: 69.0\n",
      "std: 21.238571587489663\n"
     ]
    },
    {
     "data": {
      "image/png": "[encoded data removed]",
      "text/plain": [
       "<Figure size 432x288 with 1 Axes>"
      ]
     },
     "metadata": {
      "needs_background": "light"
     },
     "output_type": "display_data"
    },
    {
     "name": "stdout",
     "output_type": "stream",
     "text": [
      "AI-4-v2-1-4: Wie gut hast du jetzt verstanden, was KI ist?\n",
      "min: 40\n",
      "max: 100\n",
      "median: 86.0\n",
      "mean: 79.06451612903226\n",
      "std: 19.131014058975836\n"
     ]
    },
    {
     "data": {
      "image/png": "[encoded data removed]",
      "text/plain": [
       "<Figure size 432x288 with 1 Axes>"
      ]
     },
     "metadata": {
      "needs_background": "light"
     },
     "output_type": "display_data"
    },
    {
     "name": "stdout",
     "output_type": "stream",
     "text": [
      "AI-4-v2-1-5: Wie gut hast du den Unterschied zwischen spezifischer und allgemeiner KI verstanden?\n",
      "min: 33\n",
      "max: 100\n",
      "median: 88.0\n",
      "mean: 78.96774193548387\n",
      "std: 23.08749137659863\n"
     ]
    },
    {
     "data": {
      "image/png": "[encoded data removed]",
      "text/plain": [
       "<Figure size 432x288 with 1 Axes>"
      ]
     },
     "metadata": {
      "needs_background": "light"
     },
     "output_type": "display_data"
    },
    {
     "name": "stdout",
     "output_type": "stream",
     "text": [
      "ML-2-1-1: Wie gut weißt du schon, was Maschinelles Lernen ist?\n",
      "min: 47\n",
      "max: 100\n",
      "median: 68.5\n",
      "mean: 70.21428571428571\n",
      "std: 17.531679564713368\n"
     ]
    },
    {
     "data": {
      "image/png": "[encoded data removed]",
      "text/plain": [
       "<Figure size 432x288 with 1 Axes>"
      ]
     },
     "metadata": {
      "needs_background": "light"
     },
     "output_type": "display_data"
    },
    {
     "name": "stdout",
     "output_type": "stream",
     "text": [
      "EvalML-1-1: Wie gut hast du verstanden, was KI ist? Sei dabei so ehrlich es geht damit wir diese Inhalte noch verbessern können.\n",
      "min: 31\n",
      "max: 100\n",
      "median: 77.5\n",
      "mean: 71.5\n",
      "std: 24.339742745622374\n"
     ]
    },
    {
     "data": {
      "image/png": "[encoded data removed]",
      "text/plain": [
       "<Figure size 432x288 with 1 Axes>"
      ]
     },
     "metadata": {
      "needs_background": "light"
     },
     "output_type": "display_data"
    },
    {
     "name": "stdout",
     "output_type": "stream",
     "text": [
      "EvalML-1-2: Wie gut hast du den Unterschied zwischen spezifischer und allgemeiner KI verstanden?\n",
      "min: 1\n",
      "max: 100\n",
      "median: 87.0\n",
      "mean: 73.78571428571429\n",
      "std: 32.232755846352156\n"
     ]
    },
    {
     "data": {
      "image/png": "[encoded data removed]",
      "text/plain": [
       "<Figure size 432x288 with 1 Axes>"
      ]
     },
     "metadata": {
      "needs_background": "light"
     },
     "output_type": "display_data"
    },
    {
     "name": "stdout",
     "output_type": "stream",
     "text": [
      "EvalML-1-5: Wie gut hast du verstanden, was maschinelles Lernen ist? Sei dabei so ehrlich es geht, damit wir diese Inhalte noch verbessern können.\n",
      "min: 24\n",
      "max: 100\n",
      "median: 74.5\n",
      "mean: 69.78571428571429\n",
      "std: 23.855909029093727\n"
     ]
    },
    {
     "data": {
      "image/png": "[encoded data removed]",
      "text/plain": [
       "<Figure size 432x288 with 1 Axes>"
      ]
     },
     "metadata": {
      "needs_background": "light"
     },
     "output_type": "display_data"
    },
    {
     "name": "stdout",
     "output_type": "stream",
     "text": [
      "EvalML-1-6: Wie sehr hast du das Gefühl, verstanden zu haben, was der Unterschied zwischen überwachtem und unüberwachtem Lernen ist?\n",
      "min: 37\n",
      "max: 100\n",
      "median: 79.5\n",
      "mean: 76.21428571428571\n",
      "std: 22.112226243654195\n"
     ]
    },
    {
     "data": {
      "image/png": "[encoded data removed]",
      "text/plain": [
       "<Figure size 432x288 with 1 Axes>"
      ]
     },
     "metadata": {
      "needs_background": "light"
     },
     "output_type": "display_data"
    },
    {
     "name": "stdout",
     "output_type": "stream",
     "text": [
      "Impact-2-1-2: Ich würde gerne in einem Land leben, dass den Alltag aller Bürger mit KI überwacht.\n",
      "min: 1\n",
      "max: 100\n",
      "median: 16.5\n",
      "mean: 21.181818181818183\n",
      "std: 23.613225437970463\n"
     ]
    },
    {
     "data": {
      "image/png": "[encoded data removed]",
      "text/plain": [
       "<Figure size 432x288 with 1 Axes>"
      ]
     },
     "metadata": {
      "needs_background": "light"
     },
     "output_type": "display_data"
    },
    {
     "name": "stdout",
     "output_type": "stream",
     "text": [
      "Impact-2-1-3: Die Überwachung des Alltags aller Bürger sehe ich sehr kritisch.\n",
      "min: 15\n",
      "max: 100\n",
      "median: 80.5\n",
      "mean: 78.13636363636364\n",
      "std: 22.476009335978567\n"
     ]
    },
    {
     "data": {
      "image/png": "[encoded data removed]",
      "text/plain": [
       "<Figure size 432x288 with 1 Axes>"
      ]
     },
     "metadata": {
      "needs_background": "light"
     },
     "output_type": "display_data"
    },
    {
     "name": "stdout",
     "output_type": "stream",
     "text": [
      "Impact-2-1-4: Mich würde es stören, mittels KI-Technologien überwacht zu werden.\n",
      "min: 15\n",
      "max: 100\n",
      "median: 83.0\n",
      "mean: 77.72727272727273\n",
      "std: 24.765917090845825\n"
     ]
    },
    {
     "data": {
      "image/png": "[encoded data removed]",
      "text/plain": [
       "<Figure size 432x288 with 1 Axes>"
      ]
     },
     "metadata": {
      "needs_background": "light"
     },
     "output_type": "display_data"
    },
    {
     "name": "stdout",
     "output_type": "stream",
     "text": [
      "Impact-2-1-5: Die Überwachung durch die Regierung bietet viele Vorteile für die Gesellschaft.\n",
      "min: 1\n",
      "max: 85\n",
      "median: 39.5\n",
      "mean: 38.13636363636363\n",
      "std: 27.18244436001445\n"
     ]
    },
    {
     "data": {
      "image/png": "[encoded data removed]",
      "text/plain": [
       "<Figure size 432x288 with 1 Axes>"
      ]
     },
     "metadata": {
      "needs_background": "light"
     },
     "output_type": "display_data"
    },
    {
     "name": "stdout",
     "output_type": "stream",
     "text": [
      "Impact-2-1-6: Ich würde nicht in einem Land leben wollen, dass meinen Alltag überwacht.\n",
      "min: 1\n",
      "max: 100\n",
      "median: 84.0\n",
      "mean: 75.95454545454545\n",
      "std: 28.36744826754992\n"
     ]
    },
    {
     "data": {
      "image/png": "[encoded data removed]",
      "text/plain": [
       "<Figure size 432x288 with 1 Axes>"
      ]
     },
     "metadata": {
      "needs_background": "light"
     },
     "output_type": "display_data"
    },
    {
     "name": "stdout",
     "output_type": "stream",
     "text": [
      "Impact-2-1-7: In einem Land mit Überwachung würde ich mich sehr sicher fühlen.\n",
      "min: 1\n",
      "max: 83\n",
      "median: 41.5\n",
      "mean: 39.81818181818182\n",
      "std: 26.865868528206786\n"
     ]
    },
    {
     "data": {
      "image/png": "[encoded data removed]",
      "text/plain": [
       "<Figure size 432x288 with 1 Axes>"
      ]
     },
     "metadata": {
      "needs_background": "light"
     },
     "output_type": "display_data"
    },
    {
     "name": "stdout",
     "output_type": "stream",
     "text": [
      "AIClosing-1-1: KI wird das Leben der Menschen verbessern.\n",
      "min: 1\n",
      "max: 100\n",
      "median: 73.0\n",
      "mean: 67.26315789473684\n",
      "std: 30.28722155420804\n"
     ]
    },
    {
     "data": {
      "image/png": "[encoded data removed]",
      "text/plain": [
       "<Figure size 432x288 with 1 Axes>"
      ]
     },
     "metadata": {
      "needs_background": "light"
     },
     "output_type": "display_data"
    },
    {
     "name": "stdout",
     "output_type": "stream",
     "text": [
      "AIClosing-1-2: Bei der Entwicklung von KI gibt es Risiken, die bedacht werden müssen\n",
      "min: 55\n",
      "max: 100\n",
      "median: 71.0\n",
      "mean: 76.57894736842105\n",
      "std: 17.014098041440302\n"
     ]
    },
    {
     "data": {
      "image/png": "[encoded data removed]",
      "text/plain": [
       "<Figure size 432x288 with 1 Axes>"
      ]
     },
     "metadata": {
      "needs_background": "light"
     },
     "output_type": "display_data"
    },
    {
     "name": "stdout",
     "output_type": "stream",
     "text": [
      "AIClosing-1-3: KI birgt eine Gefahr für die Menschheit.\n",
      "min: 21\n",
      "max: 100\n",
      "median: 54.0\n",
      "mean: 54.0\n",
      "std: 22.698507048310958\n"
     ]
    },
    {
     "data": {
      "image/png": "[encoded data removed]",
      "text/plain": [
       "<Figure size 432x288 with 1 Axes>"
      ]
     },
     "metadata": {
      "needs_background": "light"
     },
     "output_type": "display_data"
    },
    {
     "name": "stdout",
     "output_type": "stream",
     "text": [
      "AIClosing-1-4: Die Vorteile durch die Entwicklung von KI überwiegen die Risiken.\n",
      "min: 1\n",
      "max: 100\n",
      "median: 54.0\n",
      "mean: 56.89473684210526\n",
      "std: 29.542614675606238\n"
     ]
    },
    {
     "data": {
      "image/png": "[encoded data removed]",
      "text/plain": [
       "<Figure size 432x288 with 1 Axes>"
      ]
     },
     "metadata": {
      "needs_background": "light"
     },
     "output_type": "display_data"
    },
    {
     "name": "stdout",
     "output_type": "stream",
     "text": [
      "AIClosing-1-6: Hattest du Spaß?\n",
      "min: 36\n",
      "max: 100\n",
      "median: 67.0\n",
      "mean: 69.6842105263158\n",
      "std: 20.0860720997825\n"
     ]
    },
    {
     "data": {
      "image/png": "[encoded data removed]",
      "text/plain": [
       "<Figure size 432x288 with 1 Axes>"
      ]
     },
     "metadata": {
      "needs_background": "light"
     },
     "output_type": "display_data"
    },
    {
     "name": "stdout",
     "output_type": "stream",
     "text": [
      "AIClosing-1-7: Hast du etwas gelernt?\n",
      "min: 1\n",
      "max: 100\n",
      "median: 75.0\n",
      "mean: 75.94736842105263\n",
      "std: 23.02045873712851\n"
     ]
    },
    {
     "data": {
      "image/png": "[encoded data removed]",
      "text/plain": [
       "<Figure size 432x288 with 1 Axes>"
      ]
     },
     "metadata": {
      "needs_background": "light"
     },
     "output_type": "display_data"
    }
   ],
   "source": [
    "surveysliders = df[df[\"subType\"]==\"surveySlider\"]\n",
    "#surveysliders_by_taskId = df[df[\"subType\"]==\"surveySlider\"].groupby(\"taskId\")\n",
    "\n",
    "for i in surveysliders[\"taskId\"].unique():\n",
    "    print(surveysliders[surveysliders[\"taskId\"] == i][\"taskId\"].unique()[0] + \": \" + surveysliders[surveysliders[\"taskId\"] == i][\"question\"].unique()[0])\n",
    "    print(\"min: \" + str(surveysliders[surveysliders[\"taskId\"] == i][\"state\"].min()))\n",
    "    print(\"max: \" + str(surveysliders[surveysliders[\"taskId\"] == i][\"state\"].max()))\n",
    "    print(\"median: \" + str(surveysliders[surveysliders[\"taskId\"] == i][\"state\"].median()))\n",
    "    print(\"mean: \" + str(surveysliders[surveysliders[\"taskId\"] == i][\"state\"].mean()))\n",
    "    print(\"std: \" + str(surveysliders[surveysliders[\"taskId\"] == i][\"state\"].std()))\n",
    "    ax = sns.boxplot(x=surveysliders[surveysliders[\"taskId\"] == i][\"state\"])\n",
    "    plt.show()\n"
   ]
  },
  {
   "cell_type": "markdown",
   "metadata": {},
   "source": [
    "## MC\n",
    "### Barplot"
   ]
  },
  {
   "cell_type": "code",
   "execution_count": 62,
   "metadata": {},
   "outputs": [
    {
     "name": "stdout",
     "output_type": "stream",
     "text": [
      "['Die Startseite einer Webseite, die jedem Besucher die gleichen Inhalte anzeigt nutzt KI', 'Die Personalisierung einer Google-Anfrage nutzt KI', 'Gesichtserkennung nutzt KI', 'Der Newsfeed eines Social Network nutzt KI']\n"
     ]
    },
    {
     "data": {
      "image/png": "[encoded data removed]",
      "text/plain": [
       "<Figure size 432x288 with 1 Axes>"
      ]
     },
     "metadata": {
      "needs_background": "light"
     },
     "output_type": "display_data"
    },
    {
     "name": "stdout",
     "output_type": "stream",
     "text": [
      "['Die Anwendung, die den Facebook-Feed erstellt, kann auch Schach spielen', 'Eine Sprachsteuerung wie Siri oder Alexa kann auch Gesichter erkennen', 'Das Programm zur Gesichtserkennung auf deinem Handy kann auch Auto fahren']\n"
     ]
    },
    {
     "data": {
      "image/png": "[encoded data removed]",
      "text/plain": [
       "<Figure size 432x288 with 1 Axes>"
      ]
     },
     "metadata": {
      "needs_background": "light"
     },
     "output_type": "display_data"
    },
    {
     "name": "stdout",
     "output_type": "stream",
     "text": [
      "['Empfehlungssysteme gehören zur spezifischen KI', 'Programme zur Bilderkennung gehören zur allgemeinen KI', 'Eine KI aus einem Film, die eigenständige Entscheidungen trifft, mit Menschen spricht und sich am Ende gegen sie wendet, gehört zur allgemeinen KI']\n"
     ]
    },
    {
     "data": {
      "image/png": "[encoded data removed]",
      "text/plain": [
       "<Figure size 432x288 with 1 Axes>"
      ]
     },
     "metadata": {
      "needs_background": "light"
     },
     "output_type": "display_data"
    },
    {
     "name": "stdout",
     "output_type": "stream",
     "text": [
      "['Intelligentes Verhalten in einem spezifischen Bereich muss nicht gleich allgemeine Intelligenz bedeuten', 'KI-Anwendungen sind allgemein intelligent', 'KI-Anwendungen zeigen intelligentes Verhalten in einem kleinen Bereich', 'Eine KI, die sich in einem einzigen Bereich so intelligent verhält wie ein Mensch, muss allgemeine Intelligenz besitzen']\n"
     ]
    },
    {
     "data": {
      "image/png": "[encoded data removed]",
      "text/plain": [
       "<Figure size 432x288 with 1 Axes>"
      ]
     },
     "metadata": {
      "needs_background": "light"
     },
     "output_type": "display_data"
    },
    {
     "name": "stdout",
     "output_type": "stream",
     "text": [
      "['KI-Anwendungen treffen eigenständige Entscheidungen', 'Heutige KI-Anwendungen gehören alle zur spezifischen KI', 'Spezifische KI umfasst Anwendungen, die menschenähnliche Intelligenz in einem kleinen Bereich zeigen', 'Eine KI, die in allen Bereichen so schlau ist wie ein Mensch, gibt es noch nicht', 'Ein Spam-Filter ist eine allgemeinen KI', 'Intelligentes Verhalten setzt allgemeine Intelligenz voraus', 'KI-Anwendungen lernen durch Erfahrung']\n"
     ]
    },
    {
     "data": {
      "image/png": "[encoded data removed]",
      "text/plain": [
       "<Figure size 432x288 with 1 Axes>"
      ]
     },
     "metadata": {
      "needs_background": "light"
     },
     "output_type": "display_data"
    },
    {
     "name": "stdout",
     "output_type": "stream",
     "text": [
      "['Unser Ziel ist es, einen Algorithmus zu trainieren, der für neue Bilder das richtige Label vorhersagen kann. Also zu sagen, ob ein Bild einen Hund oder eine Katze zeigt', 'Für das Training nutzen wir Daten ohne Label', 'Nach dem Training testen wir nochmal auf ein paar neuen Daten, wie gut die Vorhersagen des Algorithmus sind', 'Die Daten, die wir für das Training benutzen, heißen Trainingsdaten']\n"
     ]
    },
    {
     "data": {
      "image/png": "[encoded data removed]",
      "text/plain": [
       "<Figure size 432x288 with 1 Axes>"
      ]
     },
     "metadata": {
      "needs_background": "light"
     },
     "output_type": "display_data"
    },
    {
     "name": "stdout",
     "output_type": "stream",
     "text": [
      "['Das überwachte und das unüberwachte Lernen unterscheiden sich zum Beispiel daran, dass wir einmal Daten mit und einmal Daten ohne Label nutzen', 'Maschinelles Lernen ist ein Teilbereich der KI', 'Das maschinelle Lernen beschäftigt sich mit Programmen, die selbständig in großen Datenmengen Gesetzmäßigkeiten erkennen können', 'Beim unüberwachten Lernen wollen wir lernen, für neue Daten das richtige Label vorherzusagen']\n"
     ]
    },
    {
     "data": {
      "image/png": "[encoded data removed]",
      "text/plain": [
       "<Figure size 432x288 with 1 Axes>"
      ]
     },
     "metadata": {
      "needs_background": "light"
     },
     "output_type": "display_data"
    },
    {
     "name": "stdout",
     "output_type": "stream",
     "text": [
      "['Unüberwachtes Lernen', 'Überwachtes Lernen']\n"
     ]
    },
    {
     "data": {
      "image/png": "[encoded data removed]",
      "text/plain": [
       "<Figure size 432x288 with 1 Axes>"
      ]
     },
     "metadata": {
      "needs_background": "light"
     },
     "output_type": "display_data"
    },
    {
     "name": "stdout",
     "output_type": "stream",
     "text": [
      "['Unüberwachtes Lernen', 'Überwachtes Lernen']\n"
     ]
    },
    {
     "data": {
      "image/png": "[encoded data removed]",
      "text/plain": [
       "<Figure size 432x288 with 1 Axes>"
      ]
     },
     "metadata": {
      "needs_background": "light"
     },
     "output_type": "display_data"
    },
    {
     "name": "stdout",
     "output_type": "stream",
     "text": [
      "['Unüberwachtes Lernen', 'Überwachtes Lernen']\n"
     ]
    },
    {
     "data": {
      "image/png": "[encoded data removed]",
      "text/plain": [
       "<Figure size 432x288 with 1 Axes>"
      ]
     },
     "metadata": {
      "needs_background": "light"
     },
     "output_type": "display_data"
    },
    {
     "name": "stdout",
     "output_type": "stream",
     "text": [
      "['Beim überwachten Lernen versucht man Struktur in Daten zu finden', 'Einen Algorithmus zu trainieren, der Bildern mit Hunden das Label “Hund” gibt, wäre ein Fall für überwachtes Lernen', 'Beim überwachten Lernen braucht man Daten ohne Label']\n"
     ]
    },
    {
     "data": {
      "image/png": "[encoded data removed]",
      "text/plain": [
       "<Figure size 432x288 with 1 Axes>"
      ]
     },
     "metadata": {
      "needs_background": "light"
     },
     "output_type": "display_data"
    },
    {
     "name": "stdout",
     "output_type": "stream",
     "text": [
      "['Beim unüberwachten Lernen nutzt man Daten mit Label', 'Beim unüberwachten Lernen hat man keine Label für die Daten', 'Beim unüberwachten Lernen geht es darum, Struktur in den Daten zu finden', 'Beim unüberwachten Lernen wollen wir die richtigen Label für neue Daten vorhersagen']\n"
     ]
    },
    {
     "data": {
      "image/png": "[encoded data removed]",
      "text/plain": [
       "<Figure size 432x288 with 1 Axes>"
      ]
     },
     "metadata": {
      "needs_background": "light"
     },
     "output_type": "display_data"
    },
    {
     "name": "stdout",
     "output_type": "stream",
     "text": [
      "['Die Youtuber im roten Cluster laden öfter Videos hoch', 'Die Youtuber im blauen Cluster laden öfter Videos hoch']\n"
     ]
    },
    {
     "data": {
      "image/png": "[encoded data removed]",
      "text/plain": [
       "<Figure size 432x288 with 1 Axes>"
      ]
     },
     "metadata": {
      "needs_background": "light"
     },
     "output_type": "display_data"
    },
    {
     "name": "stdout",
     "output_type": "stream",
     "text": [
      "['Anna', 'Isa', 'Paul', 'Josi', 'Mahmud']\n"
     ]
    },
    {
     "data": {
      "image/png": "[encoded data removed]",
      "text/plain": [
       "<Figure size 432x288 with 1 Axes>"
      ]
     },
     "metadata": {
      "needs_background": "light"
     },
     "output_type": "display_data"
    },
    {
     "name": "stdout",
     "output_type": "stream",
     "text": [
      "['James Bond', 'Hangover', 'Herr der Ringe', 'Fluch der Karibik', 'Avengers Endgame']\n"
     ]
    },
    {
     "data": {
      "image/png": "[encoded data removed]",
      "text/plain": [
       "<Figure size 432x288 with 1 Axes>"
      ]
     },
     "metadata": {
      "needs_background": "light"
     },
     "output_type": "display_data"
    },
    {
     "name": "stdout",
     "output_type": "stream",
     "text": [
      "['Ein Algorithmus, der anhand vieler alter Fälle gelernt hat, medizinische Diagnosen zu stellen, gehört zum überwachten Lernen', 'Ein Algorithmus, der ähnliche Berufe gruppiert, gehört zum überwachten Lernen', 'Ein Algorithmus, der dir basierend auf deinen Lieblingsfächern einen Beruf vorschlägt, könnte man mittels überwachtem Lernen umsetzen']\n"
     ]
    },
    {
     "data": {
      "image/png": "[encoded data removed]",
      "text/plain": [
       "<Figure size 432x288 with 1 Axes>"
      ]
     },
     "metadata": {
      "needs_background": "light"
     },
     "output_type": "display_data"
    },
    {
     "name": "stdout",
     "output_type": "stream",
     "text": [
      "['Bei Hunden anderer Rassen ist es schwer zu sagen, ob er sie erkennen würde, aber sehr wahrscheinlich nicht so zuverlässig', 'Der Algorithmus würde immer noch alle Hunderassen als Hunde erkennen, weil es keine Katzen sind', 'Der Algorithmus würde nur Hunde dieser Rasse zuverlässig als Hunde erkennen']\n"
     ]
    },
    {
     "data": {
      "image/png": "[encoded data removed]",
      "text/plain": [
       "<Figure size 432x288 with 1 Axes>"
      ]
     },
     "metadata": {
      "needs_background": "light"
     },
     "output_type": "display_data"
    },
    {
     "name": "stdout",
     "output_type": "stream",
     "text": [
      "['KI kann irgendwann alles besser als der Mensch', 'Jeder Mensch wird zukünftig eine Vielzahl verschiedener KIs in seinem Alltag nutzen', 'Jede KI hat allgemeine Intelligenz. Damit ist jede KI eine allgemeine KI', 'Derzeit gibt es sowohl Anwendungen, die zur spezifischen, als auch welche, die zur allgemeinen KI gehören', 'Ein Programm, dass so gut Schach spielen kann, wie Menschen, ist ein Beispiel für eine spezifische KI', 'Eine fertige KI-Anwendung kann nicht mit Erfahrung lernen, sie bleibt, wie sie ist', 'Eine fertige KI-Anwendung kann nicht ohne Hilfe von einem Menschen funktionieren', 'KI-Anwendungen zeichnen sich dadurch aus, dass sie intelligentes Verhalten zeigen, autonom funktionieren und mit Erfahrung lernen', 'Eine spezifische KI zeigt intelligentes Verhalten in einem kleinen Bereich']\n"
     ]
    },
    {
     "data": {
      "image/png": "[encoded data removed]",
      "text/plain": [
       "<Figure size 432x288 with 1 Axes>"
      ]
     },
     "metadata": {
      "needs_background": "light"
     },
     "output_type": "display_data"
    },
    {
     "name": "stdout",
     "output_type": "stream",
     "text": [
      "['Die Erkennung von Gegenständen auf Bildern', 'Ein personalisiertes Empfehlungssystem für Musik', 'Das Sortieren von Bildern nach Datum', 'Eine Nachrichtenseite, die jedem Nutzer den gleichen Inhalt präsentiert']\n"
     ]
    },
    {
     "data": {
      "image/png": "[encoded data removed]",
      "text/plain": [
       "<Figure size 432x288 with 1 Axes>"
      ]
     },
     "metadata": {
      "needs_background": "light"
     },
     "output_type": "display_data"
    },
    {
     "name": "stdout",
     "output_type": "stream",
     "text": [
      "['Wenn wir für Daten Label vorhersagen wollen, betreiben wir Clustering', 'Algorithmen des maschinellen Lernens können aus vorhandenen Daten selbständig lernen', 'Algorithmen des maschinellen Lernens benötigen oft große Mengen an Daten, damit sie gute Ergebnisse erzielen', 'Algorithmen des maschinellen Lernens lernen nur, was in den Daten vorhanden ist. Daher ist die Auswahl an Trainingsdaten sehr wichtig', 'Beim unüberwachten Lernen versuchen wir, Strukturen in den Daten zu entdecken', 'Clustering ist ein Beispiel für unüberwachtes Lernen', 'Wenn wir für Daten Label vorhersagen wollen, betreiben wir überwachtes Lernen', 'Beim überwachten Lernen nutzen wir Daten ohne Label']\n"
     ]
    },
    {
     "data": {
      "image/png": "[encoded data removed]",
      "text/plain": [
       "<Figure size 432x288 with 1 Axes>"
      ]
     },
     "metadata": {
      "needs_background": "light"
     },
     "output_type": "display_data"
    },
    {
     "name": "stdout",
     "output_type": "stream",
     "text": [
      "['Eine Webseite, die ähnliche Rezepte gruppiert, wäre eine Aufgabe für das Clustering', 'Eine Webseite, die für neue Rezepte vorhersagt, ob sie dir “gefallen” oder “nicht gefallen”, ist eine Aufgabe für das überwachte Lernen']\n"
     ]
    },
    {
     "data": {
      "image/png": "[encoded data removed]",
      "text/plain": [
       "<Figure size 432x288 with 1 Axes>"
      ]
     },
     "metadata": {
      "needs_background": "light"
     },
     "output_type": "display_data"
    },
    {
     "name": "stdout",
     "output_type": "stream",
     "text": [
      "['Die Trainingsdaten, mit denen der Algorithmus gelernt hat, enthielten keine oder kaum Bilder von dunkelhäutigen Menschen', 'Der Algorithmus wurde falsch programmiert']\n"
     ]
    },
    {
     "data": {
      "image/png": "[encoded data removed]",
      "text/plain": [
       "<Figure size 432x288 with 1 Axes>"
      ]
     },
     "metadata": {
      "needs_background": "light"
     },
     "output_type": "display_data"
    },
    {
     "name": "stdout",
     "output_type": "stream",
     "text": [
      "['LKW- und Taxifahrer', 'Lehrer', 'Wissenschaftler', 'Angestellte bei einer Bank oder Versicherung', 'Angestellte im Kundenservice', 'Pflegepersonal']\n"
     ]
    },
    {
     "data": {
      "image/png": "[encoded data removed]",
      "text/plain": [
       "<Figure size 432x288 with 1 Axes>"
      ]
     },
     "metadata": {
      "needs_background": "light"
     },
     "output_type": "display_data"
    },
    {
     "name": "stdout",
     "output_type": "stream",
     "text": [
      "['KI kann helfen, die Behandlungen besser an jeden einzelnen Patienten anzupassen', 'KI kann helfen, die richtigen Behandlungen zu empfehlen', 'KI kann die medizinische Versorgung günstiger machen', 'KI kann helfen, bessere Diagnosen zu stellen', 'KI-Methoden werden Ärzte komplett ersetzen', 'KI kann die Erkennung von Tumoren auf Scans verbessern', 'KI-Methoden können immer die richtige Diagnose stellen']\n"
     ]
    },
    {
     "data": {
      "image/png": "[encoded data removed]",
      "text/plain": [
       "<Figure size 432x288 with 1 Axes>"
      ]
     },
     "metadata": {
      "needs_background": "light"
     },
     "output_type": "display_data"
    },
    {
     "name": "stdout",
     "output_type": "stream",
     "text": [
      "['Drehe nach links', 'Bremsen', 'Gib Gas', 'Gehe Vorwärts']\n"
     ]
    },
    {
     "data": {
      "image/png": "[encoded data removed]",
      "text/plain": [
       "<Figure size 432x288 with 1 Axes>"
      ]
     },
     "metadata": {
      "needs_background": "light"
     },
     "output_type": "display_data"
    },
    {
     "name": "stdout",
     "output_type": "stream",
     "text": [
      "['Ein Programm ist eine Abfolge von Anweisungen, um mithilfe eines Computers ein bestimmtes Ziel zu erreichen oder Problem zu lösen', 'Ein Programm besteht aus Blöcken, die Fahrzeuge zum Ziel führen']\n"
     ]
    },
    {
     "data": {
      "image/png": "[encoded data removed]",
      "text/plain": [
       "<Figure size 432x288 with 1 Axes>"
      ]
     },
     "metadata": {
      "needs_background": "light"
     },
     "output_type": "display_data"
    },
    {
     "name": "stdout",
     "output_type": "stream",
     "text": [
      "['Sie bestehen aus einzelnen Schritten, die nacheinander ausgeführt werden', 'Algorithmen werden nur von Computern ausgeführt', 'Programme werden nur von Computern ausgeführt', 'Algorithmen gibt es schon viel länger als Programme']\n"
     ]
    },
    {
     "data": {
      "image/png": "[encoded data removed]",
      "text/plain": [
       "<Figure size 432x288 with 1 Axes>"
      ]
     },
     "metadata": {
      "needs_background": "light"
     },
     "output_type": "display_data"
    },
    {
     "name": "stdout",
     "output_type": "stream",
     "text": [
      "['Es könnte zu unterschiedlichen Ergebnissen kommen', 'Es wird immer zum gleichen Ergebnis kommen']\n"
     ]
    },
    {
     "data": {
      "image/png": "[encoded data removed]",
      "text/plain": [
       "<Figure size 432x288 with 1 Axes>"
      ]
     },
     "metadata": {
      "needs_background": "light"
     },
     "output_type": "display_data"
    },
    {
     "ename": "KeyError",
     "evalue": "'de'",
     "output_type": "error",
     "traceback": [
      "\u001b[0;31m---------------------------------------------------------------------------\u001b[0m",
      "\u001b[0;31mKeyError\u001b[0m                                  Traceback (most recent call last)",
      "\u001b[0;32m<ipython-input-62-62c0b675ac9a>\u001b[0m in \u001b[0;36m<module>\u001b[0;34m\u001b[0m\n\u001b[1;32m     10\u001b[0m         \u001b[0;32mfor\u001b[0m \u001b[0mansweritem\u001b[0m \u001b[0;32min\u001b[0m \u001b[0manswer\u001b[0m\u001b[0;34m:\u001b[0m\u001b[0;34m\u001b[0m\u001b[0;34m\u001b[0m\u001b[0m\n\u001b[1;32m     11\u001b[0m             \u001b[0;31m#print(answeritem)\u001b[0m\u001b[0;34m\u001b[0m\u001b[0;34m\u001b[0m\u001b[0;34m\u001b[0m\u001b[0m\n\u001b[0;32m---> 12\u001b[0;31m             \u001b[0manswers\u001b[0m\u001b[0;34m.\u001b[0m\u001b[0mappend\u001b[0m\u001b[0;34m(\u001b[0m\u001b[0mansweritem\u001b[0m\u001b[0;34m[\u001b[0m\u001b[0;34m\"de\"\u001b[0m\u001b[0;34m]\u001b[0m\u001b[0;34m)\u001b[0m\u001b[0;34m\u001b[0m\u001b[0;34m\u001b[0m\u001b[0m\n\u001b[0m\u001b[1;32m     13\u001b[0m     \u001b[0;31m#print(len(answers))\u001b[0m\u001b[0;34m\u001b[0m\u001b[0;34m\u001b[0m\u001b[0;34m\u001b[0m\u001b[0m\n\u001b[1;32m     14\u001b[0m     \u001b[0mprint\u001b[0m\u001b[0;34m(\u001b[0m\u001b[0mlist\u001b[0m\u001b[0;34m(\u001b[0m\u001b[0mset\u001b[0m\u001b[0;34m(\u001b[0m\u001b[0manswers\u001b[0m\u001b[0;34m)\u001b[0m\u001b[0;34m)\u001b[0m\u001b[0;34m)\u001b[0m\u001b[0;34m\u001b[0m\u001b[0;34m\u001b[0m\u001b[0m\n",
      "\u001b[0;31mKeyError\u001b[0m: 'de'"
     ]
    }
   ],
   "source": [
    "multipleChoice = df[df[\"subType\"]==\"multipleChoice\"]\n",
    "\n",
    "for i in multipleChoice[\"taskId\"].unique():\n",
    "    answers = []\n",
    "    for answer in multipleChoice[multipleChoice[\"taskId\"] == i][\"answers\"]:\n",
    "        for answeritem in answer:\n",
    "            #print(answeritem)\n",
    "            answers.append(answeritem[\"de\"])\n",
    "    print(list(set(answers)))\n",
    "    #sns.barplot(x=\"day\", y=\"total_bill\", data=tips)\n",
    "    #sns.barplot(data=np.array(multipleChoice[multipleChoice[\"taskId\"] == i][\"evaluation\"].value_counts()))\n",
    "    plt.bar([\"correct\", \"false\"], np.array(multipleChoice[multipleChoice[\"taskId\"] == i][\"evaluation\"].value_counts()))\n",
    "    plt.show()"
   ]
  },
  {
   "cell_type": "markdown",
   "metadata": {},
   "source": [
    "### True - False Ratio, Torten"
   ]
  },
  {
   "cell_type": "code",
   "execution_count": 88,
   "metadata": {},
   "outputs": [
    {
     "name": "stdout",
     "output_type": "stream",
     "text": [
      "7.333333333333333\n",
      "2.0\n",
      "5.0\n",
      "2.6666666666666665\n",
      "1.4444444444444444\n",
      "9.0\n",
      "2.6\n",
      "1.0\n",
      "0.8\n",
      "8.0\n",
      "15.0\n",
      "3.5\n",
      "Index(['correct'], dtype='object')\n",
      "15.0\n",
      "4.333333333333333\n",
      "7.0\n",
      "4.5\n",
      "0.25\n",
      "9.0\n",
      "0.6666666666666666\n",
      "9.0\n",
      "Index(['correct'], dtype='object')\n",
      "6.0\n",
      "1.3333333333333333\n"
     ]
    }
   ],
   "source": [
    "for i in multipleChoice[\"taskId\"].unique():\n",
    "    if(\"correct\" in multipleChoice[multipleChoice[\"taskId\"] == i][\"evaluation\"].value_counts().keys() and \"false\" in multipleChoice[multipleChoice[\"taskId\"] == i][\"evaluation\"].value_counts().keys()):\n",
    "        print(multipleChoice[multipleChoice[\"taskId\"] == i][\"evaluation\"].value_counts()[\"correct\"]/multipleChoice[multipleChoice[\"taskId\"] == i][\"evaluation\"].value_counts()[\"false\"])\n",
    "    elif(\"correct\" in multipleChoice[multipleChoice[\"taskId\"] == i][\"evaluation\"].value_counts().keys() and not \"false\" in multipleChoice[multipleChoice[\"taskId\"] == i][\"evaluation\"].value_counts().keys()):\n",
    "        print(multipleChoice[multipleChoice[\"taskId\"] == i][\"evaluation\"].value_counts().keys())\n",
    "    elif(\"correct\" not in multipleChoice[multipleChoice[\"taskId\"] == i][\"evaluation\"].value_counts().keys() and \"false\" in multipleChoice[multipleChoice[\"taskId\"] == i][\"evaluation\"].value_counts().keys()):\n",
    "        print(multipleChoice[multipleChoice[\"taskId\"] == i][\"evaluation\"].value_counts().keys())"
   ]
  },
  {
   "cell_type": "markdown",
   "metadata": {},
   "source": [
    "## Freitext"
   ]
  },
  {
   "cell_type": "code",
   "execution_count": 141,
   "metadata": {},
   "outputs": [
    {
     "name": "stdout",
     "output_type": "stream",
     "text": [
      "268 freetext tasks have been submitted\n"
     ]
    },
    {
     "name": "stderr",
     "output_type": "stream",
     "text": [
      "/Users/jean-philipp/Documents/anaconda3/lib/python3.7/site-packages/ipykernel_launcher.py:2: SettingWithCopyWarning: \n",
      "A value is trying to be set on a copy of a slice from a DataFrame.\n",
      "Try using .loc[row_indexer,col_indexer] = value instead\n",
      "\n",
      "See the caveats in the documentation: https://pandas.pydata.org/pandas-docs/stable/user_guide/indexing.html#returning-a-view-versus-a-copy\n",
      "  \n",
      "/Users/jean-philipp/Documents/anaconda3/lib/python3.7/site-packages/ipykernel_launcher.py:3: SettingWithCopyWarning: \n",
      "A value is trying to be set on a copy of a slice from a DataFrame.\n",
      "Try using .loc[row_indexer,col_indexer] = value instead\n",
      "\n",
      "See the caveats in the documentation: https://pandas.pydata.org/pandas-docs/stable/user_guide/indexing.html#returning-a-view-versus-a-copy\n",
      "  This is separate from the ipykernel package so we can avoid doing imports until\n"
     ]
    }
   ],
   "source": [
    "freetext = df[df[\"subType\"]==\"freetext\"]\n",
    "freetext[\"state\"]=freetext[\"state\"].str.replace(\"<p>\",\"\")\n",
    "freetext[\"state\"]=freetext[\"state\"].str.replace(\"</p>\",\"\")\n",
    "print(str(len(freetext)) + \" freetext tasks have been submitted\")"
   ]
  },
  {
   "cell_type": "code",
   "execution_count": 142,
   "metadata": {},
   "outputs": [
    {
     "name": "stdout",
     "output_type": "stream",
     "text": [
      "Künstliche Intelligenz ist ein Algorithmus, der immer weiter dazu lernt um Aufgaben in den verschiedenste Bereichen zu erledigen.\n"
     ]
    }
   ],
   "source": [
    "print(freetext.iloc[0][\"state\"])"
   ]
  },
  {
   "cell_type": "code",
   "execution_count": 143,
   "metadata": {},
   "outputs": [
    {
     "data": {
      "text/html": [
       "<div>\n",
       "<style scoped>\n",
       "    .dataframe tbody tr th:only-of-type {\n",
       "        vertical-align: middle;\n",
       "    }\n",
       "\n",
       "    .dataframe tbody tr th {\n",
       "        vertical-align: top;\n",
       "    }\n",
       "\n",
       "    .dataframe thead th {\n",
       "        text-align: right;\n",
       "    }\n",
       "</style>\n",
       "<table border=\"1\" class=\"dataframe\">\n",
       "  <thead>\n",
       "    <tr style=\"text-align: right;\">\n",
       "      <th></th>\n",
       "      <th>pupilId</th>\n",
       "      <th>classId</th>\n",
       "      <th>taskId</th>\n",
       "      <th>taskSeriesId</th>\n",
       "      <th>duration</th>\n",
       "      <th>state</th>\n",
       "      <th>submitted</th>\n",
       "      <th>subType</th>\n",
       "      <th>evaluation</th>\n",
       "      <th>falseAttempts</th>\n",
       "      <th>hintsTaken</th>\n",
       "      <th>rating</th>\n",
       "      <th>teacherFeedback</th>\n",
       "      <th>question</th>\n",
       "      <th>answers</th>\n",
       "      <th>minLabel</th>\n",
       "      <th>maxLabel</th>\n",
       "      <th>hints</th>\n",
       "      <th>sampleSolution</th>\n",
       "    </tr>\n",
       "  </thead>\n",
       "  <tbody>\n",
       "    <tr>\n",
       "      <th>1</th>\n",
       "      <td>bniRycMi5bwrXjvGy</td>\n",
       "      <td>qFEyvypMn4sAwLwtc</td>\n",
       "      <td>AI-1-v2-1-2</td>\n",
       "      <td>AI-1-v2</td>\n",
       "      <td>119</td>\n",
       "      <td>Künstliche Intelligenz ist ein Algorithmus, de...</td>\n",
       "      <td>True</td>\n",
       "      <td>freetext</td>\n",
       "      <td>correct</td>\n",
       "      <td>NaN</td>\n",
       "      <td>NaN</td>\n",
       "      <td>{'content': 3, 'format': 5, 'creativity': 4}</td>\n",
       "      <td>Inhaltlich gut, etwas genauer antworten. Muste...</td>\n",
       "      <td>Was ist deiner Meinung nach Künstliche Intelli...</td>\n",
       "      <td>NaN</td>\n",
       "      <td>NaN</td>\n",
       "      <td>NaN</td>\n",
       "      <td>NaN</td>\n",
       "      <td>Die Schülerinnen und Schüler (SuS) sollen besc...</td>\n",
       "    </tr>\n",
       "    <tr>\n",
       "      <th>8</th>\n",
       "      <td>bniRycMi5bwrXjvGy</td>\n",
       "      <td>qFEyvypMn4sAwLwtc</td>\n",
       "      <td>AI-4-v2-1-3</td>\n",
       "      <td>AI-4-v2</td>\n",
       "      <td>285</td>\n",
       "      <td>Eine KI ist ein Algorithmus, der auf eine best...</td>\n",
       "      <td>True</td>\n",
       "      <td>freetext</td>\n",
       "      <td>correct</td>\n",
       "      <td>NaN</td>\n",
       "      <td>NaN</td>\n",
       "      <td>{'content': 5, 'format': 5, 'creativity': 5}</td>\n",
       "      <td></td>\n",
       "      <td>Jetzt weißt du schon mehr über KI. Sag nochmal...</td>\n",
       "      <td>NaN</td>\n",
       "      <td>NaN</td>\n",
       "      <td>NaN</td>\n",
       "      <td>NaN</td>\n",
       "      <td>KI-Anwendungen zeichnen sich aus durch intelli...</td>\n",
       "    </tr>\n",
       "    <tr>\n",
       "      <th>11</th>\n",
       "      <td>bniRycMi5bwrXjvGy</td>\n",
       "      <td>qFEyvypMn4sAwLwtc</td>\n",
       "      <td>ML-1-1-1</td>\n",
       "      <td>ML-1</td>\n",
       "      <td>203</td>\n",
       "      <td>Einem Algorithmus, der Hunde auf Bildern erken...</td>\n",
       "      <td>True</td>\n",
       "      <td>freetext</td>\n",
       "      <td>correct</td>\n",
       "      <td>NaN</td>\n",
       "      <td>NaN</td>\n",
       "      <td>{'content': 4, 'format': 5, 'creativity': 4}</td>\n",
       "      <td></td>\n",
       "      <td>Kannst du einen Algorithmus schreiben, der Hun...</td>\n",
       "      <td>NaN</td>\n",
       "      <td>NaN</td>\n",
       "      <td>NaN</td>\n",
       "      <td>NaN</td>\n",
       "      <td>Die SuS sollen sinnvolle Wenn-Dann-Regeln find...</td>\n",
       "    </tr>\n",
       "    <tr>\n",
       "      <th>16</th>\n",
       "      <td>bniRycMi5bwrXjvGy</td>\n",
       "      <td>qFEyvypMn4sAwLwtc</td>\n",
       "      <td>ML-2-1-2</td>\n",
       "      <td>ML-2</td>\n",
       "      <td>219</td>\n",
       "      <td>Beim maschinellen Lernen wird der Algorithmus ...</td>\n",
       "      <td>True</td>\n",
       "      <td>freetext</td>\n",
       "      <td>correct</td>\n",
       "      <td>NaN</td>\n",
       "      <td>NaN</td>\n",
       "      <td>{'content': 4, 'format': 5, 'creativity': 4}</td>\n",
       "      <td></td>\n",
       "      <td>Weißt du vielleicht schon etwas über das masch...</td>\n",
       "      <td>NaN</td>\n",
       "      <td>NaN</td>\n",
       "      <td>NaN</td>\n",
       "      <td>NaN</td>\n",
       "      <td>Das ist nur eine Abfrage, um über das Vorwisse...</td>\n",
       "    </tr>\n",
       "    <tr>\n",
       "      <th>35</th>\n",
       "      <td>bniRycMi5bwrXjvGy</td>\n",
       "      <td>qFEyvypMn4sAwLwtc</td>\n",
       "      <td>Clustering-2-1-1</td>\n",
       "      <td>Clustering-2</td>\n",
       "      <td>509</td>\n",
       "      <td>Für eine Make-Up-Marke würde ich am ehesten de...</td>\n",
       "      <td>True</td>\n",
       "      <td>freetext</td>\n",
       "      <td>correct</td>\n",
       "      <td>NaN</td>\n",
       "      <td>NaN</td>\n",
       "      <td>{'content': 5, 'format': 4, 'creativity': 4}</td>\n",
       "      <td></td>\n",
       "      <td>Schau dir die Mittelpunkte der Cluster genau a...</td>\n",
       "      <td>NaN</td>\n",
       "      <td>NaN</td>\n",
       "      <td>NaN</td>\n",
       "      <td>NaN</td>\n",
       "      <td>Make-Up: Cluster 1 repräsentiert es am besten....</td>\n",
       "    </tr>\n",
       "  </tbody>\n",
       "</table>\n",
       "</div>"
      ],
      "text/plain": [
       "              pupilId            classId            taskId  taskSeriesId  \\\n",
       "1   bniRycMi5bwrXjvGy  qFEyvypMn4sAwLwtc       AI-1-v2-1-2       AI-1-v2   \n",
       "8   bniRycMi5bwrXjvGy  qFEyvypMn4sAwLwtc       AI-4-v2-1-3       AI-4-v2   \n",
       "11  bniRycMi5bwrXjvGy  qFEyvypMn4sAwLwtc          ML-1-1-1          ML-1   \n",
       "16  bniRycMi5bwrXjvGy  qFEyvypMn4sAwLwtc          ML-2-1-2          ML-2   \n",
       "35  bniRycMi5bwrXjvGy  qFEyvypMn4sAwLwtc  Clustering-2-1-1  Clustering-2   \n",
       "\n",
       "   duration                                              state submitted  \\\n",
       "1       119  Künstliche Intelligenz ist ein Algorithmus, de...      True   \n",
       "8       285  Eine KI ist ein Algorithmus, der auf eine best...      True   \n",
       "11      203  Einem Algorithmus, der Hunde auf Bildern erken...      True   \n",
       "16      219  Beim maschinellen Lernen wird der Algorithmus ...      True   \n",
       "35      509  Für eine Make-Up-Marke würde ich am ehesten de...      True   \n",
       "\n",
       "     subType evaluation falseAttempts hintsTaken  \\\n",
       "1   freetext    correct           NaN        NaN   \n",
       "8   freetext    correct           NaN        NaN   \n",
       "11  freetext    correct           NaN        NaN   \n",
       "16  freetext    correct           NaN        NaN   \n",
       "35  freetext    correct           NaN        NaN   \n",
       "\n",
       "                                          rating  \\\n",
       "1   {'content': 3, 'format': 5, 'creativity': 4}   \n",
       "8   {'content': 5, 'format': 5, 'creativity': 5}   \n",
       "11  {'content': 4, 'format': 5, 'creativity': 4}   \n",
       "16  {'content': 4, 'format': 5, 'creativity': 4}   \n",
       "35  {'content': 5, 'format': 4, 'creativity': 4}   \n",
       "\n",
       "                                      teacherFeedback  \\\n",
       "1   Inhaltlich gut, etwas genauer antworten. Muste...   \n",
       "8                                                       \n",
       "11                                                      \n",
       "16                                                      \n",
       "35                                                      \n",
       "\n",
       "                                             question answers minLabel  \\\n",
       "1   Was ist deiner Meinung nach Künstliche Intelli...     NaN      NaN   \n",
       "8   Jetzt weißt du schon mehr über KI. Sag nochmal...     NaN      NaN   \n",
       "11  Kannst du einen Algorithmus schreiben, der Hun...     NaN      NaN   \n",
       "16  Weißt du vielleicht schon etwas über das masch...     NaN      NaN   \n",
       "35  Schau dir die Mittelpunkte der Cluster genau a...     NaN      NaN   \n",
       "\n",
       "   maxLabel hints                                     sampleSolution  \n",
       "1       NaN   NaN  Die Schülerinnen und Schüler (SuS) sollen besc...  \n",
       "8       NaN   NaN  KI-Anwendungen zeichnen sich aus durch intelli...  \n",
       "11      NaN   NaN  Die SuS sollen sinnvolle Wenn-Dann-Regeln find...  \n",
       "16      NaN   NaN  Das ist nur eine Abfrage, um über das Vorwisse...  \n",
       "35      NaN   NaN  Make-Up: Cluster 1 repräsentiert es am besten....  "
      ]
     },
     "execution_count": 143,
     "metadata": {},
     "output_type": "execute_result"
    }
   ],
   "source": [
    "freetext.head()"
   ]
  },
  {
   "cell_type": "code",
   "execution_count": 164,
   "metadata": {},
   "outputs": [
    {
     "name": "stdout",
     "output_type": "stream",
     "text": [
      "median length of freetext antwort: 20.5\n",
      "mean length of freetext antwort: 27.813432835820894\n",
      "std of length of freetext antwort: 23.631078673230604\n",
      "50% are between 9.0 and 44.25 words long\n",
      "min number of words: 1\n",
      "max number of words: 119\n",
      "Das sind nur die Längen der akzeptierten Antworten\n"
     ]
    },
    {
     "data": {
      "image/png": "[encoded data removed]",
      "text/plain": [
       "<Figure size 432x288 with 1 Axes>"
      ]
     },
     "metadata": {
      "needs_background": "light"
     },
     "output_type": "display_data"
    },
    {
     "data": {
      "image/png": "[encoded data removed]",
      "text/plain": [
       "<Figure size 432x288 with 1 Axes>"
      ]
     },
     "metadata": {
      "needs_background": "light"
     },
     "output_type": "display_data"
    },
    {
     "data": {
      "image/png": "[encoded data removed]",
      "text/plain": [
       "<Figure size 432x288 with 1 Axes>"
      ]
     },
     "metadata": {
      "needs_background": "light"
     },
     "output_type": "display_data"
    },
    {
     "data": {
      "image/png": "[encoded data removed]",
      "text/plain": [
       "<Figure size 432x288 with 1 Axes>"
      ]
     },
     "metadata": {
      "needs_background": "light"
     },
     "output_type": "display_data"
    }
   ],
   "source": [
    "# Länge der Abgabe\n",
    "\n",
    "freetext_length_characters = []\n",
    "freetext_length_words = []\n",
    "\n",
    "for index, task in freetext.iterrows():\n",
    "    freetext_length_characters.append(len(task[\"state\"]))\n",
    "    freetext_length_words.append(len(task[\"state\"].split()))\n",
    "\n",
    "print(\"median length of freetext antwort: \" + str(np.median(freetext_length_words)))\n",
    "print(\"mean length of freetext antwort: \" + str(np.mean(freetext_length_words)))\n",
    "print(\"std of length of freetext antwort: \" + str(np.std(freetext_length_words)))\n",
    "\n",
    "q75, q25 = np.percentile(freetext_length_words, [75 ,25])\n",
    "print(\"50% are between \" + str(q25) + \" and \" + str(q75) + \" words long\")\n",
    "\n",
    "print(\"min number of words: \" + str(np.min(freetext_length_words)))\n",
    "print(\"max number of words: \" + str(np.max(freetext_length_words)))\n",
    "print(\"Das sind nur die Längen der akzeptierten Antworten\")\n",
    "\n",
    "plt.hist(freetext_length_words, bins=np.max(freetext_length_words))\n",
    "plt.title(\"Anzahl Wörter in Freitext-Antworten\")\n",
    "plt.show()\n",
    "\n",
    "plt.hist(freetext_length_characters)\n",
    "plt.title(\"Anzahl Zeichen in Freitext-Antworten\")\n",
    "plt.show()\n",
    "\n",
    "sns.boxplot(freetext_length_words)\n",
    "plt.show()\n",
    "\n",
    "kde_length = sns.kdeplot(freetext_length_words)\n",
    "kde_length.set_xlim(left=0, right=np.max(freetext_length_words))\n",
    "#kde_length.set_ylim(bottom=0, top=200);\n",
    "plt.show()"
   ]
  },
  {
   "cell_type": "code",
   "execution_count": 196,
   "metadata": {},
   "outputs": [
    {
     "name": "stderr",
     "output_type": "stream",
     "text": [
      "/Users/jean-philipp/Documents/anaconda3/lib/python3.7/site-packages/ipykernel_launcher.py:1: SettingWithCopyWarning: \n",
      "A value is trying to be set on a copy of a slice from a DataFrame.\n",
      "Try using .loc[row_indexer,col_indexer] = value instead\n",
      "\n",
      "See the caveats in the documentation: https://pandas.pydata.org/pandas-docs/stable/user_guide/indexing.html#returning-a-view-versus-a-copy\n",
      "  \"\"\"Entry point for launching an IPython kernel.\n"
     ]
    },
    {
     "data": {
      "text/html": [
       "<div>\n",
       "<style scoped>\n",
       "    .dataframe tbody tr th:only-of-type {\n",
       "        vertical-align: middle;\n",
       "    }\n",
       "\n",
       "    .dataframe tbody tr th {\n",
       "        vertical-align: top;\n",
       "    }\n",
       "\n",
       "    .dataframe thead th {\n",
       "        text-align: right;\n",
       "    }\n",
       "</style>\n",
       "<table border=\"1\" class=\"dataframe\">\n",
       "  <thead>\n",
       "    <tr style=\"text-align: right;\">\n",
       "      <th></th>\n",
       "      <th>pupilId</th>\n",
       "      <th>classId</th>\n",
       "      <th>taskId</th>\n",
       "      <th>taskSeriesId</th>\n",
       "      <th>duration</th>\n",
       "      <th>state</th>\n",
       "      <th>submitted</th>\n",
       "      <th>subType</th>\n",
       "      <th>evaluation</th>\n",
       "      <th>falseAttempts</th>\n",
       "      <th>...</th>\n",
       "      <th>rating</th>\n",
       "      <th>teacherFeedback</th>\n",
       "      <th>question</th>\n",
       "      <th>answers</th>\n",
       "      <th>minLabel</th>\n",
       "      <th>maxLabel</th>\n",
       "      <th>hints</th>\n",
       "      <th>sampleSolution</th>\n",
       "      <th>length</th>\n",
       "      <th>number words in answer</th>\n",
       "    </tr>\n",
       "  </thead>\n",
       "  <tbody>\n",
       "    <tr>\n",
       "      <th>66</th>\n",
       "      <td>bniRycMi5bwrXjvGy</td>\n",
       "      <td>qFEyvypMn4sAwLwtc</td>\n",
       "      <td>AIClosing-1-8</td>\n",
       "      <td>AIClosing</td>\n",
       "      <td>14</td>\n",
       "      <td>War alles gut.</td>\n",
       "      <td>True</td>\n",
       "      <td>freetext</td>\n",
       "      <td>correct</td>\n",
       "      <td>NaN</td>\n",
       "      <td>...</td>\n",
       "      <td>{'content': 5, 'format': 5, 'creativity': 5}</td>\n",
       "      <td></td>\n",
       "      <td>Wir wollen diesen Kurs natürlich noch verbesse...</td>\n",
       "      <td>NaN</td>\n",
       "      <td>NaN</td>\n",
       "      <td>NaN</td>\n",
       "      <td>NaN</td>\n",
       "      <td>Die SuS können hier noch etwas loswerden. Ist ...</td>\n",
       "      <td>3</td>\n",
       "      <td>3</td>\n",
       "    </tr>\n",
       "    <tr>\n",
       "      <th>885</th>\n",
       "      <td>gooproPtWeTH6dtcB</td>\n",
       "      <td>qFEyvypMn4sAwLwtc</td>\n",
       "      <td>Impact-2-1-1</td>\n",
       "      <td>Impact-2</td>\n",
       "      <td>45</td>\n",
       "      <td>das Gesicht ist unscharf</td>\n",
       "      <td>True</td>\n",
       "      <td>freetext</td>\n",
       "      <td>correct</td>\n",
       "      <td>NaN</td>\n",
       "      <td>...</td>\n",
       "      <td>{'content': 2, 'format': 2, 'creativity': 2}</td>\n",
       "      <td></td>\n",
       "      <td>Was für Probleme könnten durch den Einsatz von...</td>\n",
       "      <td>NaN</td>\n",
       "      <td>NaN</td>\n",
       "      <td>NaN</td>\n",
       "      <td>NaN</td>\n",
       "      <td>Mögliche Probleme: Der Ruf und die Privatsphär...</td>\n",
       "      <td>4</td>\n",
       "      <td>4</td>\n",
       "    </tr>\n",
       "    <tr>\n",
       "      <th>1031</th>\n",
       "      <td>TWes7DiBwCuCzS2px</td>\n",
       "      <td>GkQSJvPTRWsLnpyR9</td>\n",
       "      <td>AIClosing-1-8</td>\n",
       "      <td>AIClosing</td>\n",
       "      <td>66</td>\n",
       "      <td>es gibt nichts&lt;br&gt;</td>\n",
       "      <td>True</td>\n",
       "      <td>freetext</td>\n",
       "      <td>correct</td>\n",
       "      <td>NaN</td>\n",
       "      <td>...</td>\n",
       "      <td>{'content': 5, 'format': 5, 'creativity': 5}</td>\n",
       "      <td></td>\n",
       "      <td>Wir wollen diesen Kurs natürlich noch verbesse...</td>\n",
       "      <td>NaN</td>\n",
       "      <td>NaN</td>\n",
       "      <td>NaN</td>\n",
       "      <td>NaN</td>\n",
       "      <td>Die SuS können hier noch etwas loswerden. Ist ...</td>\n",
       "      <td>3</td>\n",
       "      <td>3</td>\n",
       "    </tr>\n",
       "    <tr>\n",
       "      <th>1057</th>\n",
       "      <td>T4iugPHxim5gX8M4i</td>\n",
       "      <td>GkQSJvPTRWsLnpyR9</td>\n",
       "      <td>AIClosing-1-8</td>\n",
       "      <td>AIClosing</td>\n",
       "      <td>30</td>\n",
       "      <td>nichts</td>\n",
       "      <td>True</td>\n",
       "      <td>freetext</td>\n",
       "      <td>correct</td>\n",
       "      <td>NaN</td>\n",
       "      <td>...</td>\n",
       "      <td>{'content': 5, 'format': 5, 'creativity': 5}</td>\n",
       "      <td></td>\n",
       "      <td>Wir wollen diesen Kurs natürlich noch verbesse...</td>\n",
       "      <td>NaN</td>\n",
       "      <td>NaN</td>\n",
       "      <td>NaN</td>\n",
       "      <td>NaN</td>\n",
       "      <td>Die SuS können hier noch etwas loswerden. Ist ...</td>\n",
       "      <td>1</td>\n",
       "      <td>1</td>\n",
       "    </tr>\n",
       "    <tr>\n",
       "      <th>1059</th>\n",
       "      <td>iHYe2TGnR9zgGZ6zh</td>\n",
       "      <td>GkQSJvPTRWsLnpyR9</td>\n",
       "      <td>AI-1-v2-1-2</td>\n",
       "      <td>AI-1-v2</td>\n",
       "      <td>57</td>\n",
       "      <td>jo</td>\n",
       "      <td>True</td>\n",
       "      <td>freetext</td>\n",
       "      <td>correct</td>\n",
       "      <td>NaN</td>\n",
       "      <td>...</td>\n",
       "      <td>{'content': 5, 'format': 5, 'creativity': 5}</td>\n",
       "      <td></td>\n",
       "      <td>Was ist deiner Meinung nach Künstliche Intelli...</td>\n",
       "      <td>NaN</td>\n",
       "      <td>NaN</td>\n",
       "      <td>NaN</td>\n",
       "      <td>NaN</td>\n",
       "      <td>Die Schülerinnen und Schüler (SuS) sollen besc...</td>\n",
       "      <td>1</td>\n",
       "      <td>1</td>\n",
       "    </tr>\n",
       "    <tr>\n",
       "      <th>1066</th>\n",
       "      <td>iHYe2TGnR9zgGZ6zh</td>\n",
       "      <td>GkQSJvPTRWsLnpyR9</td>\n",
       "      <td>AI-4-v2-1-3</td>\n",
       "      <td>AI-4-v2</td>\n",
       "      <td>8</td>\n",
       "      <td>ja&lt;br&gt;</td>\n",
       "      <td>True</td>\n",
       "      <td>freetext</td>\n",
       "      <td>correct</td>\n",
       "      <td>NaN</td>\n",
       "      <td>...</td>\n",
       "      <td>{'content': 5, 'format': 5, 'creativity': 5}</td>\n",
       "      <td></td>\n",
       "      <td>Jetzt weißt du schon mehr über KI. Sag nochmal...</td>\n",
       "      <td>NaN</td>\n",
       "      <td>NaN</td>\n",
       "      <td>NaN</td>\n",
       "      <td>NaN</td>\n",
       "      <td>KI-Anwendungen zeichnen sich aus durch intelli...</td>\n",
       "      <td>1</td>\n",
       "      <td>1</td>\n",
       "    </tr>\n",
       "    <tr>\n",
       "      <th>1069</th>\n",
       "      <td>iHYe2TGnR9zgGZ6zh</td>\n",
       "      <td>GkQSJvPTRWsLnpyR9</td>\n",
       "      <td>ML-1-1-1</td>\n",
       "      <td>ML-1</td>\n",
       "      <td>10</td>\n",
       "      <td>nö&lt;br&gt;</td>\n",
       "      <td>True</td>\n",
       "      <td>freetext</td>\n",
       "      <td>correct</td>\n",
       "      <td>NaN</td>\n",
       "      <td>...</td>\n",
       "      <td>{'content': 5, 'format': 5, 'creativity': 5}</td>\n",
       "      <td></td>\n",
       "      <td>Kannst du einen Algorithmus schreiben, der Hun...</td>\n",
       "      <td>NaN</td>\n",
       "      <td>NaN</td>\n",
       "      <td>NaN</td>\n",
       "      <td>NaN</td>\n",
       "      <td>Die SuS sollen sinnvolle Wenn-Dann-Regeln find...</td>\n",
       "      <td>1</td>\n",
       "      <td>1</td>\n",
       "    </tr>\n",
       "    <tr>\n",
       "      <th>1074</th>\n",
       "      <td>iHYe2TGnR9zgGZ6zh</td>\n",
       "      <td>GkQSJvPTRWsLnpyR9</td>\n",
       "      <td>ML-2-1-2</td>\n",
       "      <td>ML-2</td>\n",
       "      <td>10</td>\n",
       "      <td>lul&lt;br&gt;</td>\n",
       "      <td>True</td>\n",
       "      <td>freetext</td>\n",
       "      <td>correct</td>\n",
       "      <td>NaN</td>\n",
       "      <td>...</td>\n",
       "      <td>{'content': 5, 'format': 5, 'creativity': 5}</td>\n",
       "      <td></td>\n",
       "      <td>Weißt du vielleicht schon etwas über das masch...</td>\n",
       "      <td>NaN</td>\n",
       "      <td>NaN</td>\n",
       "      <td>NaN</td>\n",
       "      <td>NaN</td>\n",
       "      <td>Das ist nur eine Abfrage, um über das Vorwisse...</td>\n",
       "      <td>1</td>\n",
       "      <td>1</td>\n",
       "    </tr>\n",
       "    <tr>\n",
       "      <th>1093</th>\n",
       "      <td>iHYe2TGnR9zgGZ6zh</td>\n",
       "      <td>GkQSJvPTRWsLnpyR9</td>\n",
       "      <td>Clustering-2-1-1</td>\n",
       "      <td>Clustering-2</td>\n",
       "      <td>6</td>\n",
       "      <td>.</td>\n",
       "      <td>True</td>\n",
       "      <td>freetext</td>\n",
       "      <td>false</td>\n",
       "      <td>[&lt;p&gt;.&lt;/p&gt;]</td>\n",
       "      <td>...</td>\n",
       "      <td>{'content': 0, 'format': 0, 'creativity': 0}</td>\n",
       "      <td></td>\n",
       "      <td>Schau dir die Mittelpunkte der Cluster genau a...</td>\n",
       "      <td>NaN</td>\n",
       "      <td>NaN</td>\n",
       "      <td>NaN</td>\n",
       "      <td>NaN</td>\n",
       "      <td>Make-Up: Cluster 1 repräsentiert es am besten....</td>\n",
       "      <td>1</td>\n",
       "      <td>1</td>\n",
       "    </tr>\n",
       "    <tr>\n",
       "      <th>1126</th>\n",
       "      <td>5GPMWTgF29JDyeXoG</td>\n",
       "      <td>GkQSJvPTRWsLnpyR9</td>\n",
       "      <td>AI-1-v2-1-2</td>\n",
       "      <td>AI-1-v2</td>\n",
       "      <td>5</td>\n",
       "      <td>.</td>\n",
       "      <td>True</td>\n",
       "      <td>freetext</td>\n",
       "      <td>correct</td>\n",
       "      <td>NaN</td>\n",
       "      <td>...</td>\n",
       "      <td>{'content': 5, 'format': 5, 'creativity': 5}</td>\n",
       "      <td></td>\n",
       "      <td>Was ist deiner Meinung nach Künstliche Intelli...</td>\n",
       "      <td>NaN</td>\n",
       "      <td>NaN</td>\n",
       "      <td>NaN</td>\n",
       "      <td>NaN</td>\n",
       "      <td>Die Schülerinnen und Schüler (SuS) sollen besc...</td>\n",
       "      <td>1</td>\n",
       "      <td>1</td>\n",
       "    </tr>\n",
       "    <tr>\n",
       "      <th>1133</th>\n",
       "      <td>5GPMWTgF29JDyeXoG</td>\n",
       "      <td>GkQSJvPTRWsLnpyR9</td>\n",
       "      <td>AI-4-v2-1-3</td>\n",
       "      <td>AI-4-v2</td>\n",
       "      <td>6</td>\n",
       "      <td>.</td>\n",
       "      <td>True</td>\n",
       "      <td>freetext</td>\n",
       "      <td>correct</td>\n",
       "      <td>NaN</td>\n",
       "      <td>...</td>\n",
       "      <td>{'content': 5, 'format': 5, 'creativity': 5}</td>\n",
       "      <td></td>\n",
       "      <td>Jetzt weißt du schon mehr über KI. Sag nochmal...</td>\n",
       "      <td>NaN</td>\n",
       "      <td>NaN</td>\n",
       "      <td>NaN</td>\n",
       "      <td>NaN</td>\n",
       "      <td>KI-Anwendungen zeichnen sich aus durch intelli...</td>\n",
       "      <td>1</td>\n",
       "      <td>1</td>\n",
       "    </tr>\n",
       "    <tr>\n",
       "      <th>1136</th>\n",
       "      <td>5GPMWTgF29JDyeXoG</td>\n",
       "      <td>GkQSJvPTRWsLnpyR9</td>\n",
       "      <td>ML-1-1-1</td>\n",
       "      <td>ML-1</td>\n",
       "      <td>6</td>\n",
       "      <td>.</td>\n",
       "      <td>True</td>\n",
       "      <td>freetext</td>\n",
       "      <td>correct</td>\n",
       "      <td>NaN</td>\n",
       "      <td>...</td>\n",
       "      <td>{'content': 5, 'format': 5, 'creativity': 5}</td>\n",
       "      <td></td>\n",
       "      <td>Kannst du einen Algorithmus schreiben, der Hun...</td>\n",
       "      <td>NaN</td>\n",
       "      <td>NaN</td>\n",
       "      <td>NaN</td>\n",
       "      <td>NaN</td>\n",
       "      <td>Die SuS sollen sinnvolle Wenn-Dann-Regeln find...</td>\n",
       "      <td>1</td>\n",
       "      <td>1</td>\n",
       "    </tr>\n",
       "    <tr>\n",
       "      <th>1141</th>\n",
       "      <td>5GPMWTgF29JDyeXoG</td>\n",
       "      <td>GkQSJvPTRWsLnpyR9</td>\n",
       "      <td>ML-2-1-2</td>\n",
       "      <td>ML-2</td>\n",
       "      <td>6</td>\n",
       "      <td>.</td>\n",
       "      <td>True</td>\n",
       "      <td>freetext</td>\n",
       "      <td>false</td>\n",
       "      <td>[&lt;p&gt;.&lt;/p&gt;]</td>\n",
       "      <td>...</td>\n",
       "      <td>{'content': 5, 'format': 5, 'creativity': 0}</td>\n",
       "      <td></td>\n",
       "      <td>Weißt du vielleicht schon etwas über das masch...</td>\n",
       "      <td>NaN</td>\n",
       "      <td>NaN</td>\n",
       "      <td>NaN</td>\n",
       "      <td>NaN</td>\n",
       "      <td>Das ist nur eine Abfrage, um über das Vorwisse...</td>\n",
       "      <td>1</td>\n",
       "      <td>1</td>\n",
       "    </tr>\n",
       "    <tr>\n",
       "      <th>1160</th>\n",
       "      <td>5GPMWTgF29JDyeXoG</td>\n",
       "      <td>GkQSJvPTRWsLnpyR9</td>\n",
       "      <td>Clustering-2-1-1</td>\n",
       "      <td>Clustering-2</td>\n",
       "      <td>6</td>\n",
       "      <td>.</td>\n",
       "      <td>True</td>\n",
       "      <td>freetext</td>\n",
       "      <td>false</td>\n",
       "      <td>[&lt;p&gt;.&lt;/p&gt;]</td>\n",
       "      <td>...</td>\n",
       "      <td>{'content': 0, 'format': 0, 'creativity': 0}</td>\n",
       "      <td></td>\n",
       "      <td>Schau dir die Mittelpunkte der Cluster genau a...</td>\n",
       "      <td>NaN</td>\n",
       "      <td>NaN</td>\n",
       "      <td>NaN</td>\n",
       "      <td>NaN</td>\n",
       "      <td>Make-Up: Cluster 1 repräsentiert es am besten....</td>\n",
       "      <td>1</td>\n",
       "      <td>1</td>\n",
       "    </tr>\n",
       "    <tr>\n",
       "      <th>1162</th>\n",
       "      <td>5GPMWTgF29JDyeXoG</td>\n",
       "      <td>GkQSJvPTRWsLnpyR9</td>\n",
       "      <td>LimitsML-1-2</td>\n",
       "      <td>LimitsML</td>\n",
       "      <td>4</td>\n",
       "      <td>.</td>\n",
       "      <td>True</td>\n",
       "      <td>freetext</td>\n",
       "      <td>false</td>\n",
       "      <td>[&lt;p&gt;.&lt;/p&gt;]</td>\n",
       "      <td>...</td>\n",
       "      <td>{'content': 5, 'format': 0, 'creativity': 0}</td>\n",
       "      <td></td>\n",
       "      <td>Was würde passieren, wenn wir alle Bilder von ...</td>\n",
       "      <td>NaN</td>\n",
       "      <td>NaN</td>\n",
       "      <td>NaN</td>\n",
       "      <td>NaN</td>\n",
       "      <td>Der Algorithmus würde lernen, Seehunde auf uns...</td>\n",
       "      <td>1</td>\n",
       "      <td>1</td>\n",
       "    </tr>\n",
       "    <tr>\n",
       "      <th>1169</th>\n",
       "      <td>5GPMWTgF29JDyeXoG</td>\n",
       "      <td>GkQSJvPTRWsLnpyR9</td>\n",
       "      <td>EvalML-1-7</td>\n",
       "      <td>EvalML</td>\n",
       "      <td>6</td>\n",
       "      <td>.</td>\n",
       "      <td>True</td>\n",
       "      <td>freetext</td>\n",
       "      <td>false</td>\n",
       "      <td>[&lt;p&gt;.&lt;/p&gt;]</td>\n",
       "      <td>...</td>\n",
       "      <td>{'content': 1, 'format': 1, 'creativity': 1}</td>\n",
       "      <td></td>\n",
       "      <td>Beschreib noch einmal in eigenen Worten, was m...</td>\n",
       "      <td>NaN</td>\n",
       "      <td>NaN</td>\n",
       "      <td>NaN</td>\n",
       "      <td>NaN</td>\n",
       "      <td>Das maschinelle Lernen ist ein Teilbereich der...</td>\n",
       "      <td>1</td>\n",
       "      <td>1</td>\n",
       "    </tr>\n",
       "    <tr>\n",
       "      <th>1173</th>\n",
       "      <td>5GPMWTgF29JDyeXoG</td>\n",
       "      <td>GkQSJvPTRWsLnpyR9</td>\n",
       "      <td>Impact-2-1-1</td>\n",
       "      <td>Impact-2</td>\n",
       "      <td>43</td>\n",
       "      <td>fehler</td>\n",
       "      <td>True</td>\n",
       "      <td>freetext</td>\n",
       "      <td>correct</td>\n",
       "      <td>NaN</td>\n",
       "      <td>...</td>\n",
       "      <td>{'content': 5, 'format': 5, 'creativity': 5}</td>\n",
       "      <td></td>\n",
       "      <td>Was für Probleme könnten durch den Einsatz von...</td>\n",
       "      <td>NaN</td>\n",
       "      <td>NaN</td>\n",
       "      <td>NaN</td>\n",
       "      <td>NaN</td>\n",
       "      <td>Mögliche Probleme: Der Ruf und die Privatsphär...</td>\n",
       "      <td>1</td>\n",
       "      <td>1</td>\n",
       "    </tr>\n",
       "    <tr>\n",
       "      <th>1182</th>\n",
       "      <td>5GPMWTgF29JDyeXoG</td>\n",
       "      <td>GkQSJvPTRWsLnpyR9</td>\n",
       "      <td>Impact-3-1-3</td>\n",
       "      <td>Impact-3</td>\n",
       "      <td>7</td>\n",
       "      <td>.&lt;br&gt;</td>\n",
       "      <td>True</td>\n",
       "      <td>freetext</td>\n",
       "      <td>correct</td>\n",
       "      <td>NaN</td>\n",
       "      <td>...</td>\n",
       "      <td>{'content': 5, 'format': 5, 'creativity': 5}</td>\n",
       "      <td></td>\n",
       "      <td>In vielen Bereichen wird der Mensch auch nicht...</td>\n",
       "      <td>NaN</td>\n",
       "      <td>NaN</td>\n",
       "      <td>NaN</td>\n",
       "      <td>NaN</td>\n",
       "      <td>Mögliche Antworten wären: Effizientere und sic...</td>\n",
       "      <td>1</td>\n",
       "      <td>1</td>\n",
       "    </tr>\n",
       "    <tr>\n",
       "      <th>1188</th>\n",
       "      <td>5GPMWTgF29JDyeXoG</td>\n",
       "      <td>GkQSJvPTRWsLnpyR9</td>\n",
       "      <td>AIClosing-1-5</td>\n",
       "      <td>AIClosing</td>\n",
       "      <td>6</td>\n",
       "      <td>.</td>\n",
       "      <td>True</td>\n",
       "      <td>freetext</td>\n",
       "      <td>correct</td>\n",
       "      <td>NaN</td>\n",
       "      <td>...</td>\n",
       "      <td>{'content': 5, 'format': 5, 'creativity': 5}</td>\n",
       "      <td></td>\n",
       "      <td>Du siehst also, dass die Erwartungen der Mensc...</td>\n",
       "      <td>NaN</td>\n",
       "      <td>NaN</td>\n",
       "      <td>NaN</td>\n",
       "      <td>NaN</td>\n",
       "      <td>Hier können die SuS nochmal alles, was sie übe...</td>\n",
       "      <td>1</td>\n",
       "      <td>1</td>\n",
       "    </tr>\n",
       "    <tr>\n",
       "      <th>1191</th>\n",
       "      <td>5GPMWTgF29JDyeXoG</td>\n",
       "      <td>GkQSJvPTRWsLnpyR9</td>\n",
       "      <td>AIClosing-1-8</td>\n",
       "      <td>AIClosing</td>\n",
       "      <td>6</td>\n",
       "      <td>.&lt;br&gt;</td>\n",
       "      <td>True</td>\n",
       "      <td>freetext</td>\n",
       "      <td>correct</td>\n",
       "      <td>NaN</td>\n",
       "      <td>...</td>\n",
       "      <td>{'content': 5, 'format': 5, 'creativity': 5}</td>\n",
       "      <td></td>\n",
       "      <td>Wir wollen diesen Kurs natürlich noch verbesse...</td>\n",
       "      <td>NaN</td>\n",
       "      <td>NaN</td>\n",
       "      <td>NaN</td>\n",
       "      <td>NaN</td>\n",
       "      <td>Die SuS können hier noch etwas loswerden. Ist ...</td>\n",
       "      <td>1</td>\n",
       "      <td>1</td>\n",
       "    </tr>\n",
       "    <tr>\n",
       "      <th>1231</th>\n",
       "      <td>JTE3T8c3SN6ehbrDQ</td>\n",
       "      <td>GkQSJvPTRWsLnpyR9</td>\n",
       "      <td>ML-2-1-2</td>\n",
       "      <td>ML-2</td>\n",
       "      <td>17</td>\n",
       "      <td>Weis ich nicht.</td>\n",
       "      <td>True</td>\n",
       "      <td>freetext</td>\n",
       "      <td>correct</td>\n",
       "      <td>NaN</td>\n",
       "      <td>...</td>\n",
       "      <td>{'content': 5, 'format': 5, 'creativity': 5}</td>\n",
       "      <td></td>\n",
       "      <td>Weißt du vielleicht schon etwas über das masch...</td>\n",
       "      <td>NaN</td>\n",
       "      <td>NaN</td>\n",
       "      <td>NaN</td>\n",
       "      <td>NaN</td>\n",
       "      <td>Das ist nur eine Abfrage, um über das Vorwisse...</td>\n",
       "      <td>3</td>\n",
       "      <td>3</td>\n",
       "    </tr>\n",
       "    <tr>\n",
       "      <th>1265</th>\n",
       "      <td>Yss4MmFBusuAqSMaN</td>\n",
       "      <td>GkQSJvPTRWsLnpyR9</td>\n",
       "      <td>AI-4-v2-1-3</td>\n",
       "      <td>AI-4-v2</td>\n",
       "      <td>78</td>\n",
       "      <td>sie lernen selbsständig</td>\n",
       "      <td>True</td>\n",
       "      <td>freetext</td>\n",
       "      <td>correct</td>\n",
       "      <td>NaN</td>\n",
       "      <td>...</td>\n",
       "      <td>{'content': 5, 'format': 5, 'creativity': 5}</td>\n",
       "      <td></td>\n",
       "      <td>Jetzt weißt du schon mehr über KI. Sag nochmal...</td>\n",
       "      <td>NaN</td>\n",
       "      <td>NaN</td>\n",
       "      <td>NaN</td>\n",
       "      <td>NaN</td>\n",
       "      <td>KI-Anwendungen zeichnen sich aus durch intelli...</td>\n",
       "      <td>3</td>\n",
       "      <td>3</td>\n",
       "    </tr>\n",
       "    <tr>\n",
       "      <th>1273</th>\n",
       "      <td>Yss4MmFBusuAqSMaN</td>\n",
       "      <td>GkQSJvPTRWsLnpyR9</td>\n",
       "      <td>ML-2-1-2</td>\n",
       "      <td>ML-2</td>\n",
       "      <td>18</td>\n",
       "      <td>.</td>\n",
       "      <td>True</td>\n",
       "      <td>freetext</td>\n",
       "      <td>false</td>\n",
       "      <td>[&lt;p&gt;.&lt;/p&gt;]</td>\n",
       "      <td>...</td>\n",
       "      <td>{'content': 0, 'format': 0, 'creativity': 0}</td>\n",
       "      <td></td>\n",
       "      <td>Weißt du vielleicht schon etwas über das masch...</td>\n",
       "      <td>NaN</td>\n",
       "      <td>NaN</td>\n",
       "      <td>NaN</td>\n",
       "      <td>NaN</td>\n",
       "      <td>Das ist nur eine Abfrage, um über das Vorwisse...</td>\n",
       "      <td>1</td>\n",
       "      <td>1</td>\n",
       "    </tr>\n",
       "    <tr>\n",
       "      <th>1292</th>\n",
       "      <td>Yss4MmFBusuAqSMaN</td>\n",
       "      <td>GkQSJvPTRWsLnpyR9</td>\n",
       "      <td>Clustering-2-1-1</td>\n",
       "      <td>Clustering-2</td>\n",
       "      <td>100</td>\n",
       "      <td>1=Make-Up3=auto</td>\n",
       "      <td>True</td>\n",
       "      <td>freetext</td>\n",
       "      <td>correct</td>\n",
       "      <td>NaN</td>\n",
       "      <td>...</td>\n",
       "      <td>{'content': 5, 'format': 5, 'creativity': 5}</td>\n",
       "      <td></td>\n",
       "      <td>Schau dir die Mittelpunkte der Cluster genau a...</td>\n",
       "      <td>NaN</td>\n",
       "      <td>NaN</td>\n",
       "      <td>NaN</td>\n",
       "      <td>NaN</td>\n",
       "      <td>Make-Up: Cluster 1 repräsentiert es am besten....</td>\n",
       "      <td>1</td>\n",
       "      <td>1</td>\n",
       "    </tr>\n",
       "    <tr>\n",
       "      <th>1294</th>\n",
       "      <td>Yss4MmFBusuAqSMaN</td>\n",
       "      <td>GkQSJvPTRWsLnpyR9</td>\n",
       "      <td>LimitsML-1-2</td>\n",
       "      <td>LimitsML</td>\n",
       "      <td>23</td>\n",
       "      <td>ist ja richtig</td>\n",
       "      <td>True</td>\n",
       "      <td>freetext</td>\n",
       "      <td>correct</td>\n",
       "      <td>NaN</td>\n",
       "      <td>...</td>\n",
       "      <td>{'content': 5, 'format': 5, 'creativity': 5}</td>\n",
       "      <td></td>\n",
       "      <td>Was würde passieren, wenn wir alle Bilder von ...</td>\n",
       "      <td>NaN</td>\n",
       "      <td>NaN</td>\n",
       "      <td>NaN</td>\n",
       "      <td>NaN</td>\n",
       "      <td>Der Algorithmus würde lernen, Seehunde auf uns...</td>\n",
       "      <td>3</td>\n",
       "      <td>3</td>\n",
       "    </tr>\n",
       "    <tr>\n",
       "      <th>1301</th>\n",
       "      <td>Yss4MmFBusuAqSMaN</td>\n",
       "      <td>GkQSJvPTRWsLnpyR9</td>\n",
       "      <td>EvalML-1-7</td>\n",
       "      <td>EvalML</td>\n",
       "      <td>19</td>\n",
       "      <td>.</td>\n",
       "      <td>True</td>\n",
       "      <td>freetext</td>\n",
       "      <td>false</td>\n",
       "      <td>[&lt;p&gt;.&lt;/p&gt;]</td>\n",
       "      <td>...</td>\n",
       "      <td>{'content': 5, 'format': 5, 'creativity': 5}</td>\n",
       "      <td></td>\n",
       "      <td>Beschreib noch einmal in eigenen Worten, was m...</td>\n",
       "      <td>NaN</td>\n",
       "      <td>NaN</td>\n",
       "      <td>NaN</td>\n",
       "      <td>NaN</td>\n",
       "      <td>Das maschinelle Lernen ist ein Teilbereich der...</td>\n",
       "      <td>1</td>\n",
       "      <td>1</td>\n",
       "    </tr>\n",
       "    <tr>\n",
       "      <th>1323</th>\n",
       "      <td>Yss4MmFBusuAqSMaN</td>\n",
       "      <td>GkQSJvPTRWsLnpyR9</td>\n",
       "      <td>AIClosing-1-8</td>\n",
       "      <td>AIClosing</td>\n",
       "      <td>40</td>\n",
       "      <td>alles gut</td>\n",
       "      <td>True</td>\n",
       "      <td>freetext</td>\n",
       "      <td>correct</td>\n",
       "      <td>NaN</td>\n",
       "      <td>...</td>\n",
       "      <td>{'content': 5, 'format': 5, 'creativity': 5}</td>\n",
       "      <td></td>\n",
       "      <td>Wir wollen diesen Kurs natürlich noch verbesse...</td>\n",
       "      <td>NaN</td>\n",
       "      <td>NaN</td>\n",
       "      <td>NaN</td>\n",
       "      <td>NaN</td>\n",
       "      <td>Die SuS können hier noch etwas loswerden. Ist ...</td>\n",
       "      <td>2</td>\n",
       "      <td>2</td>\n",
       "    </tr>\n",
       "    <tr>\n",
       "      <th>1377</th>\n",
       "      <td>Qmv6K9aQsAEKfHsK9</td>\n",
       "      <td>GkQSJvPTRWsLnpyR9</td>\n",
       "      <td>ML-1-1-1</td>\n",
       "      <td>ML-1</td>\n",
       "      <td>43</td>\n",
       "      <td>Ich denke schon</td>\n",
       "      <td>True</td>\n",
       "      <td>freetext</td>\n",
       "      <td>correct</td>\n",
       "      <td>NaN</td>\n",
       "      <td>...</td>\n",
       "      <td>{'content': 1, 'format': 1, 'creativity': 1}</td>\n",
       "      <td></td>\n",
       "      <td>Kannst du einen Algorithmus schreiben, der Hun...</td>\n",
       "      <td>NaN</td>\n",
       "      <td>NaN</td>\n",
       "      <td>NaN</td>\n",
       "      <td>NaN</td>\n",
       "      <td>Die SuS sollen sinnvolle Wenn-Dann-Regeln find...</td>\n",
       "      <td>3</td>\n",
       "      <td>3</td>\n",
       "    </tr>\n",
       "    <tr>\n",
       "      <th>1401</th>\n",
       "      <td>Qmv6K9aQsAEKfHsK9</td>\n",
       "      <td>GkQSJvPTRWsLnpyR9</td>\n",
       "      <td>Clustering-2-1-1</td>\n",
       "      <td>Clustering-2</td>\n",
       "      <td>21</td>\n",
       "      <td>6zjmnh</td>\n",
       "      <td>True</td>\n",
       "      <td>freetext</td>\n",
       "      <td>correct</td>\n",
       "      <td>NaN</td>\n",
       "      <td>...</td>\n",
       "      <td>{'content': 5, 'format': 5, 'creativity': 5}</td>\n",
       "      <td></td>\n",
       "      <td>Schau dir die Mittelpunkte der Cluster genau a...</td>\n",
       "      <td>NaN</td>\n",
       "      <td>NaN</td>\n",
       "      <td>NaN</td>\n",
       "      <td>NaN</td>\n",
       "      <td>Make-Up: Cluster 1 repräsentiert es am besten....</td>\n",
       "      <td>1</td>\n",
       "      <td>1</td>\n",
       "    </tr>\n",
       "    <tr>\n",
       "      <th>1410</th>\n",
       "      <td>Qmv6K9aQsAEKfHsK9</td>\n",
       "      <td>GkQSJvPTRWsLnpyR9</td>\n",
       "      <td>EvalML-1-7</td>\n",
       "      <td>EvalML</td>\n",
       "      <td>49</td>\n",
       "      <td>Kein Plan</td>\n",
       "      <td>True</td>\n",
       "      <td>freetext</td>\n",
       "      <td>correct</td>\n",
       "      <td>NaN</td>\n",
       "      <td>...</td>\n",
       "      <td>{'content': 5, 'format': 5, 'creativity': 5}</td>\n",
       "      <td></td>\n",
       "      <td>Beschreib noch einmal in eigenen Worten, was m...</td>\n",
       "      <td>NaN</td>\n",
       "      <td>NaN</td>\n",
       "      <td>NaN</td>\n",
       "      <td>NaN</td>\n",
       "      <td>Das maschinelle Lernen ist ein Teilbereich der...</td>\n",
       "      <td>2</td>\n",
       "      <td>2</td>\n",
       "    </tr>\n",
       "    <tr>\n",
       "      <th>1432</th>\n",
       "      <td>Qmv6K9aQsAEKfHsK9</td>\n",
       "      <td>GkQSJvPTRWsLnpyR9</td>\n",
       "      <td>AIClosing-1-8</td>\n",
       "      <td>AIClosing</td>\n",
       "      <td>55</td>\n",
       "      <td>Es hat alles funktoniert</td>\n",
       "      <td>True</td>\n",
       "      <td>freetext</td>\n",
       "      <td>correct</td>\n",
       "      <td>NaN</td>\n",
       "      <td>...</td>\n",
       "      <td>{'content': 5, 'format': 5, 'creativity': 5}</td>\n",
       "      <td></td>\n",
       "      <td>Wir wollen diesen Kurs natürlich noch verbesse...</td>\n",
       "      <td>NaN</td>\n",
       "      <td>NaN</td>\n",
       "      <td>NaN</td>\n",
       "      <td>NaN</td>\n",
       "      <td>Die SuS können hier noch etwas loswerden. Ist ...</td>\n",
       "      <td>4</td>\n",
       "      <td>4</td>\n",
       "    </tr>\n",
       "    <tr>\n",
       "      <th>1456</th>\n",
       "      <td>DK2rx5xPL6KCEobJE</td>\n",
       "      <td>GkQSJvPTRWsLnpyR9</td>\n",
       "      <td>ML-2-1-2</td>\n",
       "      <td>ML-2</td>\n",
       "      <td>22</td>\n",
       "      <td>keine ahnung</td>\n",
       "      <td>True</td>\n",
       "      <td>freetext</td>\n",
       "      <td>correct</td>\n",
       "      <td>NaN</td>\n",
       "      <td>...</td>\n",
       "      <td>{'content': 5, 'format': 5, 'creativity': 5}</td>\n",
       "      <td></td>\n",
       "      <td>Weißt du vielleicht schon etwas über das masch...</td>\n",
       "      <td>NaN</td>\n",
       "      <td>NaN</td>\n",
       "      <td>NaN</td>\n",
       "      <td>NaN</td>\n",
       "      <td>Das ist nur eine Abfrage, um über das Vorwisse...</td>\n",
       "      <td>2</td>\n",
       "      <td>2</td>\n",
       "    </tr>\n",
       "    <tr>\n",
       "      <th>1466</th>\n",
       "      <td>DK2rx5xPL6KCEobJE</td>\n",
       "      <td>GkQSJvPTRWsLnpyR9</td>\n",
       "      <td>Clustering-2-1-1</td>\n",
       "      <td>Clustering-2</td>\n",
       "      <td>72</td>\n",
       "      <td>cluster 1 Make-Up-Marke</td>\n",
       "      <td>True</td>\n",
       "      <td>freetext</td>\n",
       "      <td>correct</td>\n",
       "      <td>NaN</td>\n",
       "      <td>...</td>\n",
       "      <td>{'content': 5, 'format': 5, 'creativity': 5}</td>\n",
       "      <td></td>\n",
       "      <td>Schau dir die Mittelpunkte der Cluster genau a...</td>\n",
       "      <td>NaN</td>\n",
       "      <td>NaN</td>\n",
       "      <td>NaN</td>\n",
       "      <td>NaN</td>\n",
       "      <td>Make-Up: Cluster 1 repräsentiert es am besten....</td>\n",
       "      <td>3</td>\n",
       "      <td>3</td>\n",
       "    </tr>\n",
       "    <tr>\n",
       "      <th>1486</th>\n",
       "      <td>DK2rx5xPL6KCEobJE</td>\n",
       "      <td>GkQSJvPTRWsLnpyR9</td>\n",
       "      <td>AIClosing-1-8</td>\n",
       "      <td>AIClosing</td>\n",
       "      <td>24</td>\n",
       "      <td>ne</td>\n",
       "      <td>True</td>\n",
       "      <td>freetext</td>\n",
       "      <td>correct</td>\n",
       "      <td>NaN</td>\n",
       "      <td>...</td>\n",
       "      <td>{'content': 5, 'format': 5, 'creativity': 5}</td>\n",
       "      <td></td>\n",
       "      <td>Wir wollen diesen Kurs natürlich noch verbesse...</td>\n",
       "      <td>NaN</td>\n",
       "      <td>NaN</td>\n",
       "      <td>NaN</td>\n",
       "      <td>NaN</td>\n",
       "      <td>Die SuS können hier noch etwas loswerden. Ist ...</td>\n",
       "      <td>1</td>\n",
       "      <td>1</td>\n",
       "    </tr>\n",
       "    <tr>\n",
       "      <th>1503</th>\n",
       "      <td>eSpxJKMm99HohczFv</td>\n",
       "      <td>GkQSJvPTRWsLnpyR9</td>\n",
       "      <td>ML-2-1-2</td>\n",
       "      <td>ML-2</td>\n",
       "      <td>21</td>\n",
       "      <td>maschienen lernen duch probieren</td>\n",
       "      <td>True</td>\n",
       "      <td>freetext</td>\n",
       "      <td>correct</td>\n",
       "      <td>NaN</td>\n",
       "      <td>...</td>\n",
       "      <td>{'content': 5, 'format': 5, 'creativity': 5}</td>\n",
       "      <td></td>\n",
       "      <td>Weißt du vielleicht schon etwas über das masch...</td>\n",
       "      <td>NaN</td>\n",
       "      <td>NaN</td>\n",
       "      <td>NaN</td>\n",
       "      <td>NaN</td>\n",
       "      <td>Das ist nur eine Abfrage, um über das Vorwisse...</td>\n",
       "      <td>4</td>\n",
       "      <td>4</td>\n",
       "    </tr>\n",
       "    <tr>\n",
       "      <th>1531</th>\n",
       "      <td>eSpxJKMm99HohczFv</td>\n",
       "      <td>GkQSJvPTRWsLnpyR9</td>\n",
       "      <td>EvalML-1-7</td>\n",
       "      <td>EvalML</td>\n",
       "      <td>40</td>\n",
       "      <td>Maschienen lernen</td>\n",
       "      <td>True</td>\n",
       "      <td>freetext</td>\n",
       "      <td>correct</td>\n",
       "      <td>NaN</td>\n",
       "      <td>...</td>\n",
       "      <td>{'content': 5, 'format': 5, 'creativity': 5}</td>\n",
       "      <td></td>\n",
       "      <td>Beschreib noch einmal in eigenen Worten, was m...</td>\n",
       "      <td>NaN</td>\n",
       "      <td>NaN</td>\n",
       "      <td>NaN</td>\n",
       "      <td>NaN</td>\n",
       "      <td>Das maschinelle Lernen ist ein Teilbereich der...</td>\n",
       "      <td>2</td>\n",
       "      <td>2</td>\n",
       "    </tr>\n",
       "    <tr>\n",
       "      <th>1555</th>\n",
       "      <td>gDspq39jnffCNv8E2</td>\n",
       "      <td>GkQSJvPTRWsLnpyR9</td>\n",
       "      <td>AI-1-v2-1-2</td>\n",
       "      <td>AI-1-v2</td>\n",
       "      <td>29</td>\n",
       "      <td>kl ist gut</td>\n",
       "      <td>True</td>\n",
       "      <td>freetext</td>\n",
       "      <td>correct</td>\n",
       "      <td>NaN</td>\n",
       "      <td>...</td>\n",
       "      <td>{'content': 5, 'format': 5, 'creativity': 5}</td>\n",
       "      <td></td>\n",
       "      <td>Was ist deiner Meinung nach Künstliche Intelli...</td>\n",
       "      <td>NaN</td>\n",
       "      <td>NaN</td>\n",
       "      <td>NaN</td>\n",
       "      <td>NaN</td>\n",
       "      <td>Die Schülerinnen und Schüler (SuS) sollen besc...</td>\n",
       "      <td>3</td>\n",
       "      <td>3</td>\n",
       "    </tr>\n",
       "    <tr>\n",
       "      <th>1562</th>\n",
       "      <td>gDspq39jnffCNv8E2</td>\n",
       "      <td>GkQSJvPTRWsLnpyR9</td>\n",
       "      <td>AI-4-v2-1-3</td>\n",
       "      <td>AI-4-v2</td>\n",
       "      <td>11</td>\n",
       "      <td>.</td>\n",
       "      <td>True</td>\n",
       "      <td>freetext</td>\n",
       "      <td>correct</td>\n",
       "      <td>NaN</td>\n",
       "      <td>...</td>\n",
       "      <td>{'content': 5, 'format': 5, 'creativity': 5}</td>\n",
       "      <td></td>\n",
       "      <td>Jetzt weißt du schon mehr über KI. Sag nochmal...</td>\n",
       "      <td>NaN</td>\n",
       "      <td>NaN</td>\n",
       "      <td>NaN</td>\n",
       "      <td>NaN</td>\n",
       "      <td>KI-Anwendungen zeichnen sich aus durch intelli...</td>\n",
       "      <td>1</td>\n",
       "      <td>1</td>\n",
       "    </tr>\n",
       "    <tr>\n",
       "      <th>1598</th>\n",
       "      <td>gDspq39jnffCNv8E2</td>\n",
       "      <td>GkQSJvPTRWsLnpyR9</td>\n",
       "      <td>EvalML-1-7</td>\n",
       "      <td>EvalML</td>\n",
       "      <td>17</td>\n",
       "      <td>keine arnung</td>\n",
       "      <td>True</td>\n",
       "      <td>freetext</td>\n",
       "      <td>correct</td>\n",
       "      <td>NaN</td>\n",
       "      <td>...</td>\n",
       "      <td>{'content': 5, 'format': 5, 'creativity': 5}</td>\n",
       "      <td></td>\n",
       "      <td>Beschreib noch einmal in eigenen Worten, was m...</td>\n",
       "      <td>NaN</td>\n",
       "      <td>NaN</td>\n",
       "      <td>NaN</td>\n",
       "      <td>NaN</td>\n",
       "      <td>Das maschinelle Lernen ist ein Teilbereich der...</td>\n",
       "      <td>2</td>\n",
       "      <td>2</td>\n",
       "    </tr>\n",
       "  </tbody>\n",
       "</table>\n",
       "<p>39 rows × 21 columns</p>\n",
       "</div>"
      ],
      "text/plain": [
       "                pupilId            classId            taskId  taskSeriesId  \\\n",
       "66    bniRycMi5bwrXjvGy  qFEyvypMn4sAwLwtc     AIClosing-1-8     AIClosing   \n",
       "885   gooproPtWeTH6dtcB  qFEyvypMn4sAwLwtc      Impact-2-1-1      Impact-2   \n",
       "1031  TWes7DiBwCuCzS2px  GkQSJvPTRWsLnpyR9     AIClosing-1-8     AIClosing   \n",
       "1057  T4iugPHxim5gX8M4i  GkQSJvPTRWsLnpyR9     AIClosing-1-8     AIClosing   \n",
       "1059  iHYe2TGnR9zgGZ6zh  GkQSJvPTRWsLnpyR9       AI-1-v2-1-2       AI-1-v2   \n",
       "1066  iHYe2TGnR9zgGZ6zh  GkQSJvPTRWsLnpyR9       AI-4-v2-1-3       AI-4-v2   \n",
       "1069  iHYe2TGnR9zgGZ6zh  GkQSJvPTRWsLnpyR9          ML-1-1-1          ML-1   \n",
       "1074  iHYe2TGnR9zgGZ6zh  GkQSJvPTRWsLnpyR9          ML-2-1-2          ML-2   \n",
       "1093  iHYe2TGnR9zgGZ6zh  GkQSJvPTRWsLnpyR9  Clustering-2-1-1  Clustering-2   \n",
       "1126  5GPMWTgF29JDyeXoG  GkQSJvPTRWsLnpyR9       AI-1-v2-1-2       AI-1-v2   \n",
       "1133  5GPMWTgF29JDyeXoG  GkQSJvPTRWsLnpyR9       AI-4-v2-1-3       AI-4-v2   \n",
       "1136  5GPMWTgF29JDyeXoG  GkQSJvPTRWsLnpyR9          ML-1-1-1          ML-1   \n",
       "1141  5GPMWTgF29JDyeXoG  GkQSJvPTRWsLnpyR9          ML-2-1-2          ML-2   \n",
       "1160  5GPMWTgF29JDyeXoG  GkQSJvPTRWsLnpyR9  Clustering-2-1-1  Clustering-2   \n",
       "1162  5GPMWTgF29JDyeXoG  GkQSJvPTRWsLnpyR9      LimitsML-1-2      LimitsML   \n",
       "1169  5GPMWTgF29JDyeXoG  GkQSJvPTRWsLnpyR9        EvalML-1-7        EvalML   \n",
       "1173  5GPMWTgF29JDyeXoG  GkQSJvPTRWsLnpyR9      Impact-2-1-1      Impact-2   \n",
       "1182  5GPMWTgF29JDyeXoG  GkQSJvPTRWsLnpyR9      Impact-3-1-3      Impact-3   \n",
       "1188  5GPMWTgF29JDyeXoG  GkQSJvPTRWsLnpyR9     AIClosing-1-5     AIClosing   \n",
       "1191  5GPMWTgF29JDyeXoG  GkQSJvPTRWsLnpyR9     AIClosing-1-8     AIClosing   \n",
       "1231  JTE3T8c3SN6ehbrDQ  GkQSJvPTRWsLnpyR9          ML-2-1-2          ML-2   \n",
       "1265  Yss4MmFBusuAqSMaN  GkQSJvPTRWsLnpyR9       AI-4-v2-1-3       AI-4-v2   \n",
       "1273  Yss4MmFBusuAqSMaN  GkQSJvPTRWsLnpyR9          ML-2-1-2          ML-2   \n",
       "1292  Yss4MmFBusuAqSMaN  GkQSJvPTRWsLnpyR9  Clustering-2-1-1  Clustering-2   \n",
       "1294  Yss4MmFBusuAqSMaN  GkQSJvPTRWsLnpyR9      LimitsML-1-2      LimitsML   \n",
       "1301  Yss4MmFBusuAqSMaN  GkQSJvPTRWsLnpyR9        EvalML-1-7        EvalML   \n",
       "1323  Yss4MmFBusuAqSMaN  GkQSJvPTRWsLnpyR9     AIClosing-1-8     AIClosing   \n",
       "1377  Qmv6K9aQsAEKfHsK9  GkQSJvPTRWsLnpyR9          ML-1-1-1          ML-1   \n",
       "1401  Qmv6K9aQsAEKfHsK9  GkQSJvPTRWsLnpyR9  Clustering-2-1-1  Clustering-2   \n",
       "1410  Qmv6K9aQsAEKfHsK9  GkQSJvPTRWsLnpyR9        EvalML-1-7        EvalML   \n",
       "1432  Qmv6K9aQsAEKfHsK9  GkQSJvPTRWsLnpyR9     AIClosing-1-8     AIClosing   \n",
       "1456  DK2rx5xPL6KCEobJE  GkQSJvPTRWsLnpyR9          ML-2-1-2          ML-2   \n",
       "1466  DK2rx5xPL6KCEobJE  GkQSJvPTRWsLnpyR9  Clustering-2-1-1  Clustering-2   \n",
       "1486  DK2rx5xPL6KCEobJE  GkQSJvPTRWsLnpyR9     AIClosing-1-8     AIClosing   \n",
       "1503  eSpxJKMm99HohczFv  GkQSJvPTRWsLnpyR9          ML-2-1-2          ML-2   \n",
       "1531  eSpxJKMm99HohczFv  GkQSJvPTRWsLnpyR9        EvalML-1-7        EvalML   \n",
       "1555  gDspq39jnffCNv8E2  GkQSJvPTRWsLnpyR9       AI-1-v2-1-2       AI-1-v2   \n",
       "1562  gDspq39jnffCNv8E2  GkQSJvPTRWsLnpyR9       AI-4-v2-1-3       AI-4-v2   \n",
       "1598  gDspq39jnffCNv8E2  GkQSJvPTRWsLnpyR9        EvalML-1-7        EvalML   \n",
       "\n",
       "     duration                             state submitted   subType  \\\n",
       "66         14                    War alles gut.      True  freetext   \n",
       "885        45         das Gesicht ist unscharf       True  freetext   \n",
       "1031       66                es gibt nichts<br>      True  freetext   \n",
       "1057       30                           nichts       True  freetext   \n",
       "1059       57                                jo      True  freetext   \n",
       "1066        8                            ja<br>      True  freetext   \n",
       "1069       10                            nö<br>      True  freetext   \n",
       "1074       10                           lul<br>      True  freetext   \n",
       "1093        6                                 .      True  freetext   \n",
       "1126        5                                 .      True  freetext   \n",
       "1133        6                                 .      True  freetext   \n",
       "1136        6                                 .      True  freetext   \n",
       "1141        6                                 .      True  freetext   \n",
       "1160        6                                 .      True  freetext   \n",
       "1162        4                                 .      True  freetext   \n",
       "1169        6                                 .      True  freetext   \n",
       "1173       43                            fehler      True  freetext   \n",
       "1182        7                             .<br>      True  freetext   \n",
       "1188        6                                 .      True  freetext   \n",
       "1191        6                             .<br>      True  freetext   \n",
       "1231       17                   Weis ich nicht.      True  freetext   \n",
       "1265       78          sie lernen selbsständig       True  freetext   \n",
       "1273       18                                 .      True  freetext   \n",
       "1292      100                   1=Make-Up3=auto      True  freetext   \n",
       "1294       23                    ist ja richtig      True  freetext   \n",
       "1301       19                                 .      True  freetext   \n",
       "1323       40                        alles gut       True  freetext   \n",
       "1377       43                  Ich denke schon       True  freetext   \n",
       "1401       21                            6zjmnh      True  freetext   \n",
       "1410       49                        Kein Plan       True  freetext   \n",
       "1432       55        Es hat alles funktoniert        True  freetext   \n",
       "1456       22                     keine ahnung       True  freetext   \n",
       "1466       72          cluster 1 Make-Up-Marke       True  freetext   \n",
       "1486       24                               ne       True  freetext   \n",
       "1503       21  maschienen lernen duch probieren      True  freetext   \n",
       "1531       40                 Maschienen lernen      True  freetext   \n",
       "1555       29                        kl ist gut      True  freetext   \n",
       "1562       11                                 .      True  freetext   \n",
       "1598       17                      keine arnung      True  freetext   \n",
       "\n",
       "     evaluation falseAttempts  ...  \\\n",
       "66      correct           NaN  ...   \n",
       "885     correct           NaN  ...   \n",
       "1031    correct           NaN  ...   \n",
       "1057    correct           NaN  ...   \n",
       "1059    correct           NaN  ...   \n",
       "1066    correct           NaN  ...   \n",
       "1069    correct           NaN  ...   \n",
       "1074    correct           NaN  ...   \n",
       "1093      false    [<p>.</p>]  ...   \n",
       "1126    correct           NaN  ...   \n",
       "1133    correct           NaN  ...   \n",
       "1136    correct           NaN  ...   \n",
       "1141      false    [<p>.</p>]  ...   \n",
       "1160      false    [<p>.</p>]  ...   \n",
       "1162      false    [<p>.</p>]  ...   \n",
       "1169      false    [<p>.</p>]  ...   \n",
       "1173    correct           NaN  ...   \n",
       "1182    correct           NaN  ...   \n",
       "1188    correct           NaN  ...   \n",
       "1191    correct           NaN  ...   \n",
       "1231    correct           NaN  ...   \n",
       "1265    correct           NaN  ...   \n",
       "1273      false    [<p>.</p>]  ...   \n",
       "1292    correct           NaN  ...   \n",
       "1294    correct           NaN  ...   \n",
       "1301      false    [<p>.</p>]  ...   \n",
       "1323    correct           NaN  ...   \n",
       "1377    correct           NaN  ...   \n",
       "1401    correct           NaN  ...   \n",
       "1410    correct           NaN  ...   \n",
       "1432    correct           NaN  ...   \n",
       "1456    correct           NaN  ...   \n",
       "1466    correct           NaN  ...   \n",
       "1486    correct           NaN  ...   \n",
       "1503    correct           NaN  ...   \n",
       "1531    correct           NaN  ...   \n",
       "1555    correct           NaN  ...   \n",
       "1562    correct           NaN  ...   \n",
       "1598    correct           NaN  ...   \n",
       "\n",
       "                                            rating teacherFeedback  \\\n",
       "66    {'content': 5, 'format': 5, 'creativity': 5}                   \n",
       "885   {'content': 2, 'format': 2, 'creativity': 2}                   \n",
       "1031  {'content': 5, 'format': 5, 'creativity': 5}                   \n",
       "1057  {'content': 5, 'format': 5, 'creativity': 5}                   \n",
       "1059  {'content': 5, 'format': 5, 'creativity': 5}                   \n",
       "1066  {'content': 5, 'format': 5, 'creativity': 5}                   \n",
       "1069  {'content': 5, 'format': 5, 'creativity': 5}                   \n",
       "1074  {'content': 5, 'format': 5, 'creativity': 5}                   \n",
       "1093  {'content': 0, 'format': 0, 'creativity': 0}                   \n",
       "1126  {'content': 5, 'format': 5, 'creativity': 5}                   \n",
       "1133  {'content': 5, 'format': 5, 'creativity': 5}                   \n",
       "1136  {'content': 5, 'format': 5, 'creativity': 5}                   \n",
       "1141  {'content': 5, 'format': 5, 'creativity': 0}                   \n",
       "1160  {'content': 0, 'format': 0, 'creativity': 0}                   \n",
       "1162  {'content': 5, 'format': 0, 'creativity': 0}                   \n",
       "1169  {'content': 1, 'format': 1, 'creativity': 1}                   \n",
       "1173  {'content': 5, 'format': 5, 'creativity': 5}                   \n",
       "1182  {'content': 5, 'format': 5, 'creativity': 5}                   \n",
       "1188  {'content': 5, 'format': 5, 'creativity': 5}                   \n",
       "1191  {'content': 5, 'format': 5, 'creativity': 5}                   \n",
       "1231  {'content': 5, 'format': 5, 'creativity': 5}                   \n",
       "1265  {'content': 5, 'format': 5, 'creativity': 5}                   \n",
       "1273  {'content': 0, 'format': 0, 'creativity': 0}                   \n",
       "1292  {'content': 5, 'format': 5, 'creativity': 5}                   \n",
       "1294  {'content': 5, 'format': 5, 'creativity': 5}                   \n",
       "1301  {'content': 5, 'format': 5, 'creativity': 5}                   \n",
       "1323  {'content': 5, 'format': 5, 'creativity': 5}                   \n",
       "1377  {'content': 1, 'format': 1, 'creativity': 1}                   \n",
       "1401  {'content': 5, 'format': 5, 'creativity': 5}                   \n",
       "1410  {'content': 5, 'format': 5, 'creativity': 5}                   \n",
       "1432  {'content': 5, 'format': 5, 'creativity': 5}                   \n",
       "1456  {'content': 5, 'format': 5, 'creativity': 5}                   \n",
       "1466  {'content': 5, 'format': 5, 'creativity': 5}                   \n",
       "1486  {'content': 5, 'format': 5, 'creativity': 5}                   \n",
       "1503  {'content': 5, 'format': 5, 'creativity': 5}                   \n",
       "1531  {'content': 5, 'format': 5, 'creativity': 5}                   \n",
       "1555  {'content': 5, 'format': 5, 'creativity': 5}                   \n",
       "1562  {'content': 5, 'format': 5, 'creativity': 5}                   \n",
       "1598  {'content': 5, 'format': 5, 'creativity': 5}                   \n",
       "\n",
       "                                               question answers minLabel  \\\n",
       "66    Wir wollen diesen Kurs natürlich noch verbesse...     NaN      NaN   \n",
       "885   Was für Probleme könnten durch den Einsatz von...     NaN      NaN   \n",
       "1031  Wir wollen diesen Kurs natürlich noch verbesse...     NaN      NaN   \n",
       "1057  Wir wollen diesen Kurs natürlich noch verbesse...     NaN      NaN   \n",
       "1059  Was ist deiner Meinung nach Künstliche Intelli...     NaN      NaN   \n",
       "1066  Jetzt weißt du schon mehr über KI. Sag nochmal...     NaN      NaN   \n",
       "1069  Kannst du einen Algorithmus schreiben, der Hun...     NaN      NaN   \n",
       "1074  Weißt du vielleicht schon etwas über das masch...     NaN      NaN   \n",
       "1093  Schau dir die Mittelpunkte der Cluster genau a...     NaN      NaN   \n",
       "1126  Was ist deiner Meinung nach Künstliche Intelli...     NaN      NaN   \n",
       "1133  Jetzt weißt du schon mehr über KI. Sag nochmal...     NaN      NaN   \n",
       "1136  Kannst du einen Algorithmus schreiben, der Hun...     NaN      NaN   \n",
       "1141  Weißt du vielleicht schon etwas über das masch...     NaN      NaN   \n",
       "1160  Schau dir die Mittelpunkte der Cluster genau a...     NaN      NaN   \n",
       "1162  Was würde passieren, wenn wir alle Bilder von ...     NaN      NaN   \n",
       "1169  Beschreib noch einmal in eigenen Worten, was m...     NaN      NaN   \n",
       "1173  Was für Probleme könnten durch den Einsatz von...     NaN      NaN   \n",
       "1182  In vielen Bereichen wird der Mensch auch nicht...     NaN      NaN   \n",
       "1188  Du siehst also, dass die Erwartungen der Mensc...     NaN      NaN   \n",
       "1191  Wir wollen diesen Kurs natürlich noch verbesse...     NaN      NaN   \n",
       "1231  Weißt du vielleicht schon etwas über das masch...     NaN      NaN   \n",
       "1265  Jetzt weißt du schon mehr über KI. Sag nochmal...     NaN      NaN   \n",
       "1273  Weißt du vielleicht schon etwas über das masch...     NaN      NaN   \n",
       "1292  Schau dir die Mittelpunkte der Cluster genau a...     NaN      NaN   \n",
       "1294  Was würde passieren, wenn wir alle Bilder von ...     NaN      NaN   \n",
       "1301  Beschreib noch einmal in eigenen Worten, was m...     NaN      NaN   \n",
       "1323  Wir wollen diesen Kurs natürlich noch verbesse...     NaN      NaN   \n",
       "1377  Kannst du einen Algorithmus schreiben, der Hun...     NaN      NaN   \n",
       "1401  Schau dir die Mittelpunkte der Cluster genau a...     NaN      NaN   \n",
       "1410  Beschreib noch einmal in eigenen Worten, was m...     NaN      NaN   \n",
       "1432  Wir wollen diesen Kurs natürlich noch verbesse...     NaN      NaN   \n",
       "1456  Weißt du vielleicht schon etwas über das masch...     NaN      NaN   \n",
       "1466  Schau dir die Mittelpunkte der Cluster genau a...     NaN      NaN   \n",
       "1486  Wir wollen diesen Kurs natürlich noch verbesse...     NaN      NaN   \n",
       "1503  Weißt du vielleicht schon etwas über das masch...     NaN      NaN   \n",
       "1531  Beschreib noch einmal in eigenen Worten, was m...     NaN      NaN   \n",
       "1555  Was ist deiner Meinung nach Künstliche Intelli...     NaN      NaN   \n",
       "1562  Jetzt weißt du schon mehr über KI. Sag nochmal...     NaN      NaN   \n",
       "1598  Beschreib noch einmal in eigenen Worten, was m...     NaN      NaN   \n",
       "\n",
       "     maxLabel hints                                     sampleSolution length  \\\n",
       "66        NaN   NaN  Die SuS können hier noch etwas loswerden. Ist ...      3   \n",
       "885       NaN   NaN  Mögliche Probleme: Der Ruf und die Privatsphär...      4   \n",
       "1031      NaN   NaN  Die SuS können hier noch etwas loswerden. Ist ...      3   \n",
       "1057      NaN   NaN  Die SuS können hier noch etwas loswerden. Ist ...      1   \n",
       "1059      NaN   NaN  Die Schülerinnen und Schüler (SuS) sollen besc...      1   \n",
       "1066      NaN   NaN  KI-Anwendungen zeichnen sich aus durch intelli...      1   \n",
       "1069      NaN   NaN  Die SuS sollen sinnvolle Wenn-Dann-Regeln find...      1   \n",
       "1074      NaN   NaN  Das ist nur eine Abfrage, um über das Vorwisse...      1   \n",
       "1093      NaN   NaN  Make-Up: Cluster 1 repräsentiert es am besten....      1   \n",
       "1126      NaN   NaN  Die Schülerinnen und Schüler (SuS) sollen besc...      1   \n",
       "1133      NaN   NaN  KI-Anwendungen zeichnen sich aus durch intelli...      1   \n",
       "1136      NaN   NaN  Die SuS sollen sinnvolle Wenn-Dann-Regeln find...      1   \n",
       "1141      NaN   NaN  Das ist nur eine Abfrage, um über das Vorwisse...      1   \n",
       "1160      NaN   NaN  Make-Up: Cluster 1 repräsentiert es am besten....      1   \n",
       "1162      NaN   NaN  Der Algorithmus würde lernen, Seehunde auf uns...      1   \n",
       "1169      NaN   NaN  Das maschinelle Lernen ist ein Teilbereich der...      1   \n",
       "1173      NaN   NaN  Mögliche Probleme: Der Ruf und die Privatsphär...      1   \n",
       "1182      NaN   NaN  Mögliche Antworten wären: Effizientere und sic...      1   \n",
       "1188      NaN   NaN  Hier können die SuS nochmal alles, was sie übe...      1   \n",
       "1191      NaN   NaN  Die SuS können hier noch etwas loswerden. Ist ...      1   \n",
       "1231      NaN   NaN  Das ist nur eine Abfrage, um über das Vorwisse...      3   \n",
       "1265      NaN   NaN  KI-Anwendungen zeichnen sich aus durch intelli...      3   \n",
       "1273      NaN   NaN  Das ist nur eine Abfrage, um über das Vorwisse...      1   \n",
       "1292      NaN   NaN  Make-Up: Cluster 1 repräsentiert es am besten....      1   \n",
       "1294      NaN   NaN  Der Algorithmus würde lernen, Seehunde auf uns...      3   \n",
       "1301      NaN   NaN  Das maschinelle Lernen ist ein Teilbereich der...      1   \n",
       "1323      NaN   NaN  Die SuS können hier noch etwas loswerden. Ist ...      2   \n",
       "1377      NaN   NaN  Die SuS sollen sinnvolle Wenn-Dann-Regeln find...      3   \n",
       "1401      NaN   NaN  Make-Up: Cluster 1 repräsentiert es am besten....      1   \n",
       "1410      NaN   NaN  Das maschinelle Lernen ist ein Teilbereich der...      2   \n",
       "1432      NaN   NaN  Die SuS können hier noch etwas loswerden. Ist ...      4   \n",
       "1456      NaN   NaN  Das ist nur eine Abfrage, um über das Vorwisse...      2   \n",
       "1466      NaN   NaN  Make-Up: Cluster 1 repräsentiert es am besten....      3   \n",
       "1486      NaN   NaN  Die SuS können hier noch etwas loswerden. Ist ...      1   \n",
       "1503      NaN   NaN  Das ist nur eine Abfrage, um über das Vorwisse...      4   \n",
       "1531      NaN   NaN  Das maschinelle Lernen ist ein Teilbereich der...      2   \n",
       "1555      NaN   NaN  Die Schülerinnen und Schüler (SuS) sollen besc...      3   \n",
       "1562      NaN   NaN  KI-Anwendungen zeichnen sich aus durch intelli...      1   \n",
       "1598      NaN   NaN  Das maschinelle Lernen ist ein Teilbereich der...      2   \n",
       "\n",
       "      number words in answer  \n",
       "66                         3  \n",
       "885                        4  \n",
       "1031                       3  \n",
       "1057                       1  \n",
       "1059                       1  \n",
       "1066                       1  \n",
       "1069                       1  \n",
       "1074                       1  \n",
       "1093                       1  \n",
       "1126                       1  \n",
       "1133                       1  \n",
       "1136                       1  \n",
       "1141                       1  \n",
       "1160                       1  \n",
       "1162                       1  \n",
       "1169                       1  \n",
       "1173                       1  \n",
       "1182                       1  \n",
       "1188                       1  \n",
       "1191                       1  \n",
       "1231                       3  \n",
       "1265                       3  \n",
       "1273                       1  \n",
       "1292                       1  \n",
       "1294                       3  \n",
       "1301                       1  \n",
       "1323                       2  \n",
       "1377                       3  \n",
       "1401                       1  \n",
       "1410                       2  \n",
       "1432                       4  \n",
       "1456                       2  \n",
       "1466                       3  \n",
       "1486                       1  \n",
       "1503                       4  \n",
       "1531                       2  \n",
       "1555                       3  \n",
       "1562                       1  \n",
       "1598                       2  \n",
       "\n",
       "[39 rows x 21 columns]"
      ]
     },
     "execution_count": 196,
     "metadata": {},
     "output_type": "execute_result"
    }
   ],
   "source": [
    "freetext[\"number words in answer\"] = [len(string.split()) for string in freetext[\"state\"]]\n",
    "#freetext[\"length\"] = freetext[\"state\"].apply(split())\n",
    "\n",
    "freetext[freetext[\"number words in answer\"]<5]\n",
    "\n",
    "#freetext.head()"
   ]
  },
  {
   "cell_type": "code",
   "execution_count": 207,
   "metadata": {},
   "outputs": [
    {
     "ename": "TypeError",
     "evalue": "No loop matching the specified signature and casting was found for ufunc svd_n_s",
     "output_type": "error",
     "traceback": [
      "\u001b[0;31m---------------------------------------------------------------------------\u001b[0m",
      "\u001b[0;31mTypeError\u001b[0m                                 Traceback (most recent call last)",
      "\u001b[0;32m<ipython-input-207-27a050cc39f8>\u001b[0m in \u001b[0;36m<module>\u001b[0;34m\u001b[0m\n\u001b[0;32m----> 1\u001b[0;31m \u001b[0msns\u001b[0m\u001b[0;34m.\u001b[0m\u001b[0mlmplot\u001b[0m\u001b[0;34m(\u001b[0m\u001b[0mdata\u001b[0m\u001b[0;34m=\u001b[0m\u001b[0mfreetext\u001b[0m\u001b[0;34m,\u001b[0m \u001b[0mx\u001b[0m\u001b[0;34m=\u001b[0m\u001b[0;34m\"duration\"\u001b[0m\u001b[0;34m,\u001b[0m \u001b[0my\u001b[0m\u001b[0;34m=\u001b[0m\u001b[0;34m\"number words in answer\"\u001b[0m\u001b[0;34m)\u001b[0m\u001b[0;34m\u001b[0m\u001b[0;34m\u001b[0m\u001b[0m\n\u001b[0m",
      "\u001b[0;32m~/Documents/anaconda3/lib/python3.7/site-packages/seaborn/regression.py\u001b[0m in \u001b[0;36mlmplot\u001b[0;34m(x, y, data, hue, col, row, palette, col_wrap, height, aspect, markers, sharex, sharey, hue_order, col_order, row_order, legend, legend_out, x_estimator, x_bins, x_ci, scatter, fit_reg, ci, n_boot, units, seed, order, logistic, lowess, robust, logx, x_partial, y_partial, truncate, x_jitter, y_jitter, scatter_kws, line_kws, size)\u001b[0m\n\u001b[1;32m    614\u001b[0m         \u001b[0mscatter_kws\u001b[0m\u001b[0;34m=\u001b[0m\u001b[0mscatter_kws\u001b[0m\u001b[0;34m,\u001b[0m \u001b[0mline_kws\u001b[0m\u001b[0;34m=\u001b[0m\u001b[0mline_kws\u001b[0m\u001b[0;34m,\u001b[0m\u001b[0;34m\u001b[0m\u001b[0;34m\u001b[0m\u001b[0m\n\u001b[1;32m    615\u001b[0m         )\n\u001b[0;32m--> 616\u001b[0;31m     \u001b[0mfacets\u001b[0m\u001b[0;34m.\u001b[0m\u001b[0mmap_dataframe\u001b[0m\u001b[0;34m(\u001b[0m\u001b[0mregplot\u001b[0m\u001b[0;34m,\u001b[0m \u001b[0mx\u001b[0m\u001b[0;34m,\u001b[0m \u001b[0my\u001b[0m\u001b[0;34m,\u001b[0m \u001b[0;34m**\u001b[0m\u001b[0mregplot_kws\u001b[0m\u001b[0;34m)\u001b[0m\u001b[0;34m\u001b[0m\u001b[0;34m\u001b[0m\u001b[0m\n\u001b[0m\u001b[1;32m    617\u001b[0m \u001b[0;34m\u001b[0m\u001b[0m\n\u001b[1;32m    618\u001b[0m     \u001b[0;31m# Add a legend\u001b[0m\u001b[0;34m\u001b[0m\u001b[0;34m\u001b[0m\u001b[0;34m\u001b[0m\u001b[0m\n",
      "\u001b[0;32m~/Documents/anaconda3/lib/python3.7/site-packages/seaborn/axisgrid.py\u001b[0m in \u001b[0;36mmap_dataframe\u001b[0;34m(self, func, *args, **kwargs)\u001b[0m\n\u001b[1;32m    826\u001b[0m \u001b[0;34m\u001b[0m\u001b[0m\n\u001b[1;32m    827\u001b[0m             \u001b[0;31m# Draw the plot\u001b[0m\u001b[0;34m\u001b[0m\u001b[0;34m\u001b[0m\u001b[0;34m\u001b[0m\u001b[0m\n\u001b[0;32m--> 828\u001b[0;31m             \u001b[0mself\u001b[0m\u001b[0;34m.\u001b[0m\u001b[0m_facet_plot\u001b[0m\u001b[0;34m(\u001b[0m\u001b[0mfunc\u001b[0m\u001b[0;34m,\u001b[0m \u001b[0max\u001b[0m\u001b[0;34m,\u001b[0m \u001b[0margs\u001b[0m\u001b[0;34m,\u001b[0m \u001b[0mkwargs\u001b[0m\u001b[0;34m)\u001b[0m\u001b[0;34m\u001b[0m\u001b[0;34m\u001b[0m\u001b[0m\n\u001b[0m\u001b[1;32m    829\u001b[0m \u001b[0;34m\u001b[0m\u001b[0m\n\u001b[1;32m    830\u001b[0m         \u001b[0;31m# Finalize the annotations and layout\u001b[0m\u001b[0;34m\u001b[0m\u001b[0;34m\u001b[0m\u001b[0;34m\u001b[0m\u001b[0m\n",
      "\u001b[0;32m~/Documents/anaconda3/lib/python3.7/site-packages/seaborn/axisgrid.py\u001b[0m in \u001b[0;36m_facet_plot\u001b[0;34m(self, func, ax, plot_args, plot_kwargs)\u001b[0m\n\u001b[1;32m    844\u001b[0m \u001b[0;34m\u001b[0m\u001b[0m\n\u001b[1;32m    845\u001b[0m         \u001b[0;31m# Draw the plot\u001b[0m\u001b[0;34m\u001b[0m\u001b[0;34m\u001b[0m\u001b[0;34m\u001b[0m\u001b[0m\n\u001b[0;32m--> 846\u001b[0;31m         \u001b[0mfunc\u001b[0m\u001b[0;34m(\u001b[0m\u001b[0;34m*\u001b[0m\u001b[0mplot_args\u001b[0m\u001b[0;34m,\u001b[0m \u001b[0;34m**\u001b[0m\u001b[0mplot_kwargs\u001b[0m\u001b[0;34m)\u001b[0m\u001b[0;34m\u001b[0m\u001b[0;34m\u001b[0m\u001b[0m\n\u001b[0m\u001b[1;32m    847\u001b[0m \u001b[0;34m\u001b[0m\u001b[0m\n\u001b[1;32m    848\u001b[0m         \u001b[0;31m# Sort out the supporting information\u001b[0m\u001b[0;34m\u001b[0m\u001b[0;34m\u001b[0m\u001b[0;34m\u001b[0m\u001b[0m\n",
      "\u001b[0;32m~/Documents/anaconda3/lib/python3.7/site-packages/seaborn/regression.py\u001b[0m in \u001b[0;36mregplot\u001b[0;34m(x, y, data, x_estimator, x_bins, x_ci, scatter, fit_reg, ci, n_boot, units, seed, order, logistic, lowess, robust, logx, x_partial, y_partial, truncate, dropna, x_jitter, y_jitter, label, color, marker, scatter_kws, line_kws, ax)\u001b[0m\n\u001b[1;32m    815\u001b[0m     \u001b[0mscatter_kws\u001b[0m\u001b[0;34m[\u001b[0m\u001b[0;34m\"marker\"\u001b[0m\u001b[0;34m]\u001b[0m \u001b[0;34m=\u001b[0m \u001b[0mmarker\u001b[0m\u001b[0;34m\u001b[0m\u001b[0;34m\u001b[0m\u001b[0m\n\u001b[1;32m    816\u001b[0m     \u001b[0mline_kws\u001b[0m \u001b[0;34m=\u001b[0m \u001b[0;34m{\u001b[0m\u001b[0;34m}\u001b[0m \u001b[0;32mif\u001b[0m \u001b[0mline_kws\u001b[0m \u001b[0;32mis\u001b[0m \u001b[0;32mNone\u001b[0m \u001b[0;32melse\u001b[0m \u001b[0mcopy\u001b[0m\u001b[0;34m.\u001b[0m\u001b[0mcopy\u001b[0m\u001b[0;34m(\u001b[0m\u001b[0mline_kws\u001b[0m\u001b[0;34m)\u001b[0m\u001b[0;34m\u001b[0m\u001b[0;34m\u001b[0m\u001b[0m\n\u001b[0;32m--> 817\u001b[0;31m     \u001b[0mplotter\u001b[0m\u001b[0;34m.\u001b[0m\u001b[0mplot\u001b[0m\u001b[0;34m(\u001b[0m\u001b[0max\u001b[0m\u001b[0;34m,\u001b[0m \u001b[0mscatter_kws\u001b[0m\u001b[0;34m,\u001b[0m \u001b[0mline_kws\u001b[0m\u001b[0;34m)\u001b[0m\u001b[0;34m\u001b[0m\u001b[0;34m\u001b[0m\u001b[0m\n\u001b[0m\u001b[1;32m    818\u001b[0m     \u001b[0;32mreturn\u001b[0m \u001b[0max\u001b[0m\u001b[0;34m\u001b[0m\u001b[0;34m\u001b[0m\u001b[0m\n\u001b[1;32m    819\u001b[0m \u001b[0;34m\u001b[0m\u001b[0m\n",
      "\u001b[0;32m~/Documents/anaconda3/lib/python3.7/site-packages/seaborn/regression.py\u001b[0m in \u001b[0;36mplot\u001b[0;34m(self, ax, scatter_kws, line_kws)\u001b[0m\n\u001b[1;32m    367\u001b[0m \u001b[0;34m\u001b[0m\u001b[0m\n\u001b[1;32m    368\u001b[0m         \u001b[0;32mif\u001b[0m \u001b[0mself\u001b[0m\u001b[0;34m.\u001b[0m\u001b[0mfit_reg\u001b[0m\u001b[0;34m:\u001b[0m\u001b[0;34m\u001b[0m\u001b[0;34m\u001b[0m\u001b[0m\n\u001b[0;32m--> 369\u001b[0;31m             \u001b[0mself\u001b[0m\u001b[0;34m.\u001b[0m\u001b[0mlineplot\u001b[0m\u001b[0;34m(\u001b[0m\u001b[0max\u001b[0m\u001b[0;34m,\u001b[0m \u001b[0mline_kws\u001b[0m\u001b[0;34m)\u001b[0m\u001b[0;34m\u001b[0m\u001b[0;34m\u001b[0m\u001b[0m\n\u001b[0m\u001b[1;32m    370\u001b[0m \u001b[0;34m\u001b[0m\u001b[0m\n\u001b[1;32m    371\u001b[0m         \u001b[0;31m# Label the axes\u001b[0m\u001b[0;34m\u001b[0m\u001b[0;34m\u001b[0m\u001b[0;34m\u001b[0m\u001b[0m\n",
      "\u001b[0;32m~/Documents/anaconda3/lib/python3.7/site-packages/seaborn/regression.py\u001b[0m in \u001b[0;36mlineplot\u001b[0;34m(self, ax, kws)\u001b[0m\n\u001b[1;32m    410\u001b[0m         \u001b[0;34m\"\"\"Draw the model.\"\"\"\u001b[0m\u001b[0;34m\u001b[0m\u001b[0;34m\u001b[0m\u001b[0m\n\u001b[1;32m    411\u001b[0m         \u001b[0;31m# Fit the regression model\u001b[0m\u001b[0;34m\u001b[0m\u001b[0;34m\u001b[0m\u001b[0;34m\u001b[0m\u001b[0m\n\u001b[0;32m--> 412\u001b[0;31m         \u001b[0mgrid\u001b[0m\u001b[0;34m,\u001b[0m \u001b[0myhat\u001b[0m\u001b[0;34m,\u001b[0m \u001b[0merr_bands\u001b[0m \u001b[0;34m=\u001b[0m \u001b[0mself\u001b[0m\u001b[0;34m.\u001b[0m\u001b[0mfit_regression\u001b[0m\u001b[0;34m(\u001b[0m\u001b[0max\u001b[0m\u001b[0;34m)\u001b[0m\u001b[0;34m\u001b[0m\u001b[0;34m\u001b[0m\u001b[0m\n\u001b[0m\u001b[1;32m    413\u001b[0m         \u001b[0medges\u001b[0m \u001b[0;34m=\u001b[0m \u001b[0mgrid\u001b[0m\u001b[0;34m[\u001b[0m\u001b[0;36m0\u001b[0m\u001b[0;34m]\u001b[0m\u001b[0;34m,\u001b[0m \u001b[0mgrid\u001b[0m\u001b[0;34m[\u001b[0m\u001b[0;34m-\u001b[0m\u001b[0;36m1\u001b[0m\u001b[0;34m]\u001b[0m\u001b[0;34m\u001b[0m\u001b[0;34m\u001b[0m\u001b[0m\n\u001b[1;32m    414\u001b[0m \u001b[0;34m\u001b[0m\u001b[0m\n",
      "\u001b[0;32m~/Documents/anaconda3/lib/python3.7/site-packages/seaborn/regression.py\u001b[0m in \u001b[0;36mfit_regression\u001b[0;34m(self, ax, x_range, grid)\u001b[0m\n\u001b[1;32m    218\u001b[0m             \u001b[0myhat\u001b[0m\u001b[0;34m,\u001b[0m \u001b[0myhat_boots\u001b[0m \u001b[0;34m=\u001b[0m \u001b[0mself\u001b[0m\u001b[0;34m.\u001b[0m\u001b[0mfit_logx\u001b[0m\u001b[0;34m(\u001b[0m\u001b[0mgrid\u001b[0m\u001b[0;34m)\u001b[0m\u001b[0;34m\u001b[0m\u001b[0;34m\u001b[0m\u001b[0m\n\u001b[1;32m    219\u001b[0m         \u001b[0;32melse\u001b[0m\u001b[0;34m:\u001b[0m\u001b[0;34m\u001b[0m\u001b[0;34m\u001b[0m\u001b[0m\n\u001b[0;32m--> 220\u001b[0;31m             \u001b[0myhat\u001b[0m\u001b[0;34m,\u001b[0m \u001b[0myhat_boots\u001b[0m \u001b[0;34m=\u001b[0m \u001b[0mself\u001b[0m\u001b[0;34m.\u001b[0m\u001b[0mfit_fast\u001b[0m\u001b[0;34m(\u001b[0m\u001b[0mgrid\u001b[0m\u001b[0;34m)\u001b[0m\u001b[0;34m\u001b[0m\u001b[0;34m\u001b[0m\u001b[0m\n\u001b[0m\u001b[1;32m    221\u001b[0m \u001b[0;34m\u001b[0m\u001b[0m\n\u001b[1;32m    222\u001b[0m         \u001b[0;31m# Compute the confidence interval at each grid point\u001b[0m\u001b[0;34m\u001b[0m\u001b[0;34m\u001b[0m\u001b[0;34m\u001b[0m\u001b[0m\n",
      "\u001b[0;32m~/Documents/anaconda3/lib/python3.7/site-packages/seaborn/regression.py\u001b[0m in \u001b[0;36mfit_fast\u001b[0;34m(self, grid)\u001b[0m\n\u001b[1;32m    235\u001b[0m         \u001b[0mX\u001b[0m\u001b[0;34m,\u001b[0m \u001b[0my\u001b[0m \u001b[0;34m=\u001b[0m \u001b[0mnp\u001b[0m\u001b[0;34m.\u001b[0m\u001b[0mc_\u001b[0m\u001b[0;34m[\u001b[0m\u001b[0mnp\u001b[0m\u001b[0;34m.\u001b[0m\u001b[0mones\u001b[0m\u001b[0;34m(\u001b[0m\u001b[0mlen\u001b[0m\u001b[0;34m(\u001b[0m\u001b[0mself\u001b[0m\u001b[0;34m.\u001b[0m\u001b[0mx\u001b[0m\u001b[0;34m)\u001b[0m\u001b[0;34m)\u001b[0m\u001b[0;34m,\u001b[0m \u001b[0mself\u001b[0m\u001b[0;34m.\u001b[0m\u001b[0mx\u001b[0m\u001b[0;34m]\u001b[0m\u001b[0;34m,\u001b[0m \u001b[0mself\u001b[0m\u001b[0;34m.\u001b[0m\u001b[0my\u001b[0m\u001b[0;34m\u001b[0m\u001b[0;34m\u001b[0m\u001b[0m\n\u001b[1;32m    236\u001b[0m         \u001b[0mgrid\u001b[0m \u001b[0;34m=\u001b[0m \u001b[0mnp\u001b[0m\u001b[0;34m.\u001b[0m\u001b[0mc_\u001b[0m\u001b[0;34m[\u001b[0m\u001b[0mnp\u001b[0m\u001b[0;34m.\u001b[0m\u001b[0mones\u001b[0m\u001b[0;34m(\u001b[0m\u001b[0mlen\u001b[0m\u001b[0;34m(\u001b[0m\u001b[0mgrid\u001b[0m\u001b[0;34m)\u001b[0m\u001b[0;34m)\u001b[0m\u001b[0;34m,\u001b[0m \u001b[0mgrid\u001b[0m\u001b[0;34m]\u001b[0m\u001b[0;34m\u001b[0m\u001b[0;34m\u001b[0m\u001b[0m\n\u001b[0;32m--> 237\u001b[0;31m         \u001b[0myhat\u001b[0m \u001b[0;34m=\u001b[0m \u001b[0mgrid\u001b[0m\u001b[0;34m.\u001b[0m\u001b[0mdot\u001b[0m\u001b[0;34m(\u001b[0m\u001b[0mreg_func\u001b[0m\u001b[0;34m(\u001b[0m\u001b[0mX\u001b[0m\u001b[0;34m,\u001b[0m \u001b[0my\u001b[0m\u001b[0;34m)\u001b[0m\u001b[0;34m)\u001b[0m\u001b[0;34m\u001b[0m\u001b[0;34m\u001b[0m\u001b[0m\n\u001b[0m\u001b[1;32m    238\u001b[0m         \u001b[0;32mif\u001b[0m \u001b[0mself\u001b[0m\u001b[0;34m.\u001b[0m\u001b[0mci\u001b[0m \u001b[0;32mis\u001b[0m \u001b[0;32mNone\u001b[0m\u001b[0;34m:\u001b[0m\u001b[0;34m\u001b[0m\u001b[0;34m\u001b[0m\u001b[0m\n\u001b[1;32m    239\u001b[0m             \u001b[0;32mreturn\u001b[0m \u001b[0myhat\u001b[0m\u001b[0;34m,\u001b[0m \u001b[0;32mNone\u001b[0m\u001b[0;34m\u001b[0m\u001b[0;34m\u001b[0m\u001b[0m\n",
      "\u001b[0;32m~/Documents/anaconda3/lib/python3.7/site-packages/seaborn/regression.py\u001b[0m in \u001b[0;36mreg_func\u001b[0;34m(_x, _y)\u001b[0m\n\u001b[1;32m    231\u001b[0m         \u001b[0;34m\"\"\"Low-level regression and prediction using linear algebra.\"\"\"\u001b[0m\u001b[0;34m\u001b[0m\u001b[0;34m\u001b[0m\u001b[0m\n\u001b[1;32m    232\u001b[0m         \u001b[0;32mdef\u001b[0m \u001b[0mreg_func\u001b[0m\u001b[0;34m(\u001b[0m\u001b[0m_x\u001b[0m\u001b[0;34m,\u001b[0m \u001b[0m_y\u001b[0m\u001b[0;34m)\u001b[0m\u001b[0;34m:\u001b[0m\u001b[0;34m\u001b[0m\u001b[0;34m\u001b[0m\u001b[0m\n\u001b[0;32m--> 233\u001b[0;31m             \u001b[0;32mreturn\u001b[0m \u001b[0mnp\u001b[0m\u001b[0;34m.\u001b[0m\u001b[0mlinalg\u001b[0m\u001b[0;34m.\u001b[0m\u001b[0mpinv\u001b[0m\u001b[0;34m(\u001b[0m\u001b[0m_x\u001b[0m\u001b[0;34m)\u001b[0m\u001b[0;34m.\u001b[0m\u001b[0mdot\u001b[0m\u001b[0;34m(\u001b[0m\u001b[0m_y\u001b[0m\u001b[0;34m)\u001b[0m\u001b[0;34m\u001b[0m\u001b[0;34m\u001b[0m\u001b[0m\n\u001b[0m\u001b[1;32m    234\u001b[0m \u001b[0;34m\u001b[0m\u001b[0m\n\u001b[1;32m    235\u001b[0m         \u001b[0mX\u001b[0m\u001b[0;34m,\u001b[0m \u001b[0my\u001b[0m \u001b[0;34m=\u001b[0m \u001b[0mnp\u001b[0m\u001b[0;34m.\u001b[0m\u001b[0mc_\u001b[0m\u001b[0;34m[\u001b[0m\u001b[0mnp\u001b[0m\u001b[0;34m.\u001b[0m\u001b[0mones\u001b[0m\u001b[0;34m(\u001b[0m\u001b[0mlen\u001b[0m\u001b[0;34m(\u001b[0m\u001b[0mself\u001b[0m\u001b[0;34m.\u001b[0m\u001b[0mx\u001b[0m\u001b[0;34m)\u001b[0m\u001b[0;34m)\u001b[0m\u001b[0;34m,\u001b[0m \u001b[0mself\u001b[0m\u001b[0;34m.\u001b[0m\u001b[0mx\u001b[0m\u001b[0;34m]\u001b[0m\u001b[0;34m,\u001b[0m \u001b[0mself\u001b[0m\u001b[0;34m.\u001b[0m\u001b[0my\u001b[0m\u001b[0;34m\u001b[0m\u001b[0;34m\u001b[0m\u001b[0m\n",
      "\u001b[0;32m<__array_function__ internals>\u001b[0m in \u001b[0;36mpinv\u001b[0;34m(*args, **kwargs)\u001b[0m\n",
      "\u001b[0;32m~/Documents/anaconda3/lib/python3.7/site-packages/numpy/linalg/linalg.py\u001b[0m in \u001b[0;36mpinv\u001b[0;34m(a, rcond, hermitian)\u001b[0m\n\u001b[1;32m   1959\u001b[0m         \u001b[0;32mreturn\u001b[0m \u001b[0mwrap\u001b[0m\u001b[0;34m(\u001b[0m\u001b[0mres\u001b[0m\u001b[0;34m)\u001b[0m\u001b[0;34m\u001b[0m\u001b[0;34m\u001b[0m\u001b[0m\n\u001b[1;32m   1960\u001b[0m     \u001b[0ma\u001b[0m \u001b[0;34m=\u001b[0m \u001b[0ma\u001b[0m\u001b[0;34m.\u001b[0m\u001b[0mconjugate\u001b[0m\u001b[0;34m(\u001b[0m\u001b[0;34m)\u001b[0m\u001b[0;34m\u001b[0m\u001b[0;34m\u001b[0m\u001b[0m\n\u001b[0;32m-> 1961\u001b[0;31m     \u001b[0mu\u001b[0m\u001b[0;34m,\u001b[0m \u001b[0ms\u001b[0m\u001b[0;34m,\u001b[0m \u001b[0mvt\u001b[0m \u001b[0;34m=\u001b[0m \u001b[0msvd\u001b[0m\u001b[0;34m(\u001b[0m\u001b[0ma\u001b[0m\u001b[0;34m,\u001b[0m \u001b[0mfull_matrices\u001b[0m\u001b[0;34m=\u001b[0m\u001b[0;32mFalse\u001b[0m\u001b[0;34m,\u001b[0m \u001b[0mhermitian\u001b[0m\u001b[0;34m=\u001b[0m\u001b[0mhermitian\u001b[0m\u001b[0;34m)\u001b[0m\u001b[0;34m\u001b[0m\u001b[0;34m\u001b[0m\u001b[0m\n\u001b[0m\u001b[1;32m   1962\u001b[0m \u001b[0;34m\u001b[0m\u001b[0m\n\u001b[1;32m   1963\u001b[0m     \u001b[0;31m# discard small singular values\u001b[0m\u001b[0;34m\u001b[0m\u001b[0;34m\u001b[0m\u001b[0;34m\u001b[0m\u001b[0m\n",
      "\u001b[0;32m<__array_function__ internals>\u001b[0m in \u001b[0;36msvd\u001b[0;34m(*args, **kwargs)\u001b[0m\n",
      "\u001b[0;32m~/Documents/anaconda3/lib/python3.7/site-packages/numpy/linalg/linalg.py\u001b[0m in \u001b[0;36msvd\u001b[0;34m(a, full_matrices, compute_uv, hermitian)\u001b[0m\n\u001b[1;32m   1624\u001b[0m \u001b[0;34m\u001b[0m\u001b[0m\n\u001b[1;32m   1625\u001b[0m         \u001b[0msignature\u001b[0m \u001b[0;34m=\u001b[0m \u001b[0;34m'D->DdD'\u001b[0m \u001b[0;32mif\u001b[0m \u001b[0misComplexType\u001b[0m\u001b[0;34m(\u001b[0m\u001b[0mt\u001b[0m\u001b[0;34m)\u001b[0m \u001b[0;32melse\u001b[0m \u001b[0;34m'd->ddd'\u001b[0m\u001b[0;34m\u001b[0m\u001b[0;34m\u001b[0m\u001b[0m\n\u001b[0;32m-> 1626\u001b[0;31m         \u001b[0mu\u001b[0m\u001b[0;34m,\u001b[0m \u001b[0ms\u001b[0m\u001b[0;34m,\u001b[0m \u001b[0mvh\u001b[0m \u001b[0;34m=\u001b[0m \u001b[0mgufunc\u001b[0m\u001b[0;34m(\u001b[0m\u001b[0ma\u001b[0m\u001b[0;34m,\u001b[0m \u001b[0msignature\u001b[0m\u001b[0;34m=\u001b[0m\u001b[0msignature\u001b[0m\u001b[0;34m,\u001b[0m \u001b[0mextobj\u001b[0m\u001b[0;34m=\u001b[0m\u001b[0mextobj\u001b[0m\u001b[0;34m)\u001b[0m\u001b[0;34m\u001b[0m\u001b[0;34m\u001b[0m\u001b[0m\n\u001b[0m\u001b[1;32m   1627\u001b[0m         \u001b[0mu\u001b[0m \u001b[0;34m=\u001b[0m \u001b[0mu\u001b[0m\u001b[0;34m.\u001b[0m\u001b[0mastype\u001b[0m\u001b[0;34m(\u001b[0m\u001b[0mresult_t\u001b[0m\u001b[0;34m,\u001b[0m \u001b[0mcopy\u001b[0m\u001b[0;34m=\u001b[0m\u001b[0;32mFalse\u001b[0m\u001b[0;34m)\u001b[0m\u001b[0;34m\u001b[0m\u001b[0;34m\u001b[0m\u001b[0m\n\u001b[1;32m   1628\u001b[0m         \u001b[0ms\u001b[0m \u001b[0;34m=\u001b[0m \u001b[0ms\u001b[0m\u001b[0;34m.\u001b[0m\u001b[0mastype\u001b[0m\u001b[0;34m(\u001b[0m\u001b[0m_realType\u001b[0m\u001b[0;34m(\u001b[0m\u001b[0mresult_t\u001b[0m\u001b[0;34m)\u001b[0m\u001b[0;34m,\u001b[0m \u001b[0mcopy\u001b[0m\u001b[0;34m=\u001b[0m\u001b[0;32mFalse\u001b[0m\u001b[0;34m)\u001b[0m\u001b[0;34m\u001b[0m\u001b[0;34m\u001b[0m\u001b[0m\n",
      "\u001b[0;31mTypeError\u001b[0m: No loop matching the specified signature and casting was found for ufunc svd_n_s"
     ]
    },
    {
     "data": {
      "image/png": "[encoded data removed]",
      "text/plain": [
       "<Figure size 360x360 with 1 Axes>"
      ]
     },
     "metadata": {
      "needs_background": "light"
     },
     "output_type": "display_data"
    }
   ],
   "source": [
    "sns.lmplot(data=freetext, x=\"duration\", y=\"number words in answer\")"
   ]
  },
  {
   "cell_type": "code",
   "execution_count": 160,
   "metadata": {},
   "outputs": [],
   "source": [
    "# Reaktion des Lehrers?\n",
    "# wie viele zurückgegeben?\n",
    "# wie oft maximal zurückgegeben?\n",
    "# wie werden punkte verteilt?\n",
    "# korreliert punkteausgabe mit länge?\n",
    "\n",
    "#freetext[\"falseAttempts\"].value_counts()\n",
    "# 7 leere abgaben\n",
    "# eine lange komisch gestylte\n",
    "# eine kurze --> [<p>es ist ein hund wen er vier pfoten hat und eine leine </p>]"
   ]
  },
  {
   "cell_type": "code",
   "execution_count": null,
   "metadata": {},
   "outputs": [],
   "source": []
  },
  {
   "cell_type": "code",
   "execution_count": null,
   "metadata": {},
   "outputs": [],
   "source": []
  },
  {
   "cell_type": "markdown",
   "metadata": {},
   "source": [
    "## Textfelder"
   ]
  },
  {
   "cell_type": "code",
   "execution_count": null,
   "metadata": {},
   "outputs": [],
   "source": []
  },
  {
   "cell_type": "code",
   "execution_count": null,
   "metadata": {},
   "outputs": [],
   "source": []
  },
  {
   "cell_type": "markdown",
   "metadata": {},
   "source": [
    "# Hilfeanfragen"
   ]
  },
  {
   "cell_type": "code",
   "execution_count": null,
   "metadata": {},
   "outputs": [],
   "source": []
  },
  {
   "cell_type": "code",
   "execution_count": null,
   "metadata": {},
   "outputs": [],
   "source": []
  },
  {
   "cell_type": "markdown",
   "metadata": {},
   "source": [
    "# Durations\n",
    "## nach Aufgabentyp"
   ]
  },
  {
   "cell_type": "code",
   "execution_count": 32,
   "metadata": {},
   "outputs": [
    {
     "data": {
      "image/png": "[encoded data removed]",
      "text/plain": [
       "<Figure size 432x288 with 1 Axes>"
      ]
     },
     "metadata": {
      "needs_background": "light"
     },
     "output_type": "display_data"
    }
   ],
   "source": [
    "df.groupby(\"subType\")[\"duration\"].hist(bins=100)\n",
    "# TODO: vllt als 3d histogram? https://matplotlib.org/stable/gallery/mplot3d/hist3d.html\n",
    "\n",
    "for subType in df.groupby(\"subType\"):\n",
    "    #print(subType[\"duration\"])\n",
    "    #subType[\"duration\"].hist()\n",
    "    plt.show()\n",
    "    \n",
    "#groupby(\"taskId\")\n",
    "#groupby(\"pupilId\")"
   ]
  },
  {
   "cell_type": "code",
   "execution_count": null,
   "metadata": {},
   "outputs": [],
   "source": []
  },
  {
   "cell_type": "code",
   "execution_count": null,
   "metadata": {},
   "outputs": [],
   "source": []
  },
  {
   "cell_type": "markdown",
   "metadata": {},
   "source": [
    "# Analyse Fortschritt der Schüler\n",
    "## Wie viele Aufgaben, haben die SuS jeweils gemacht?"
   ]
  },
  {
   "cell_type": "code",
   "execution_count": 113,
   "metadata": {},
   "outputs": [
    {
     "data": {
      "text/html": [
       "<div>\n",
       "<style scoped>\n",
       "    .dataframe tbody tr th:only-of-type {\n",
       "        vertical-align: middle;\n",
       "    }\n",
       "\n",
       "    .dataframe tbody tr th {\n",
       "        vertical-align: top;\n",
       "    }\n",
       "\n",
       "    .dataframe thead th {\n",
       "        text-align: right;\n",
       "    }\n",
       "</style>\n",
       "<table border=\"1\" class=\"dataframe\">\n",
       "  <thead>\n",
       "    <tr style=\"text-align: right;\">\n",
       "      <th></th>\n",
       "      <th>pupilId</th>\n",
       "      <th>nr_tasks_per_pupil</th>\n",
       "      <th>total_duration in minutes</th>\n",
       "      <th>average duration per task in minutes</th>\n",
       "    </tr>\n",
       "  </thead>\n",
       "  <tbody>\n",
       "    <tr>\n",
       "      <th>0</th>\n",
       "      <td>bniRycMi5bwrXjvGy</td>\n",
       "      <td>67</td>\n",
       "      <td>71.083333</td>\n",
       "      <td>1.060945</td>\n",
       "    </tr>\n",
       "    <tr>\n",
       "      <th>1</th>\n",
       "      <td>sqBXKssFvS8pFYAMv</td>\n",
       "      <td>67</td>\n",
       "      <td>66.966667</td>\n",
       "      <td>0.999502</td>\n",
       "    </tr>\n",
       "    <tr>\n",
       "      <th>2</th>\n",
       "      <td>Kd6FuRsrq6QvPrkKp</td>\n",
       "      <td>6</td>\n",
       "      <td>37.383333</td>\n",
       "      <td>6.230556</td>\n",
       "    </tr>\n",
       "    <tr>\n",
       "      <th>3</th>\n",
       "      <td>6bBwnX2mwAp2NAwNR</td>\n",
       "      <td>36</td>\n",
       "      <td>116.100000</td>\n",
       "      <td>3.225000</td>\n",
       "    </tr>\n",
       "    <tr>\n",
       "      <th>4</th>\n",
       "      <td>ZTvPk2i77LDC8pFmu</td>\n",
       "      <td>67</td>\n",
       "      <td>60.466667</td>\n",
       "      <td>0.902488</td>\n",
       "    </tr>\n",
       "  </tbody>\n",
       "</table>\n",
       "</div>"
      ],
      "text/plain": [
       "             pupilId  nr_tasks_per_pupil  total_duration in minutes  \\\n",
       "0  bniRycMi5bwrXjvGy                  67                  71.083333   \n",
       "1  sqBXKssFvS8pFYAMv                  67                  66.966667   \n",
       "2  Kd6FuRsrq6QvPrkKp                   6                  37.383333   \n",
       "3  6bBwnX2mwAp2NAwNR                  36                 116.100000   \n",
       "4  ZTvPk2i77LDC8pFmu                  67                  60.466667   \n",
       "\n",
       "   average duration per task in minutes  \n",
       "0                              1.060945  \n",
       "1                              0.999502  \n",
       "2                              6.230556  \n",
       "3                              3.225000  \n",
       "4                              0.902488  "
      ]
     },
     "execution_count": 113,
     "metadata": {},
     "output_type": "execute_result"
    }
   ],
   "source": [
    "nr_tasks_per_pupil = []\n",
    "total_duration_per_pupil = []\n",
    "\n",
    "for pupilId in df[\"pupilId\"].unique():\n",
    "    nr_tasks_per_pupil.append(len(df[df[\"pupilId\"]==pupilId]))\n",
    "    total_duration_per_pupil.append(sum(df[df[\"pupilId\"]==pupilId][\"duration\"])/60)\n",
    "\n",
    "pupil_performance = {\"pupilId\": df[\"pupilId\"].unique(), \"nr_tasks_per_pupil\": nr_tasks_per_pupil, \"total_duration in minutes\": total_duration_per_pupil}\n",
    "pupil_performance_df = pd.DataFrame(pupil_performance)\n",
    "pupil_performance_df[\"average duration per task in minutes\"] = pupil_performance_df[\"total_duration in minutes\"]/pupil_performance_df[\"nr_tasks_per_pupil\"]\n",
    "\n",
    "pupil_performance_df.head()"
   ]
  },
  {
   "cell_type": "code",
   "execution_count": 109,
   "metadata": {},
   "outputs": [
    {
     "data": {
      "image/png": "[encoded data removed]",
      "text/plain": [
       "<Figure size 432x288 with 1 Axes>"
      ]
     },
     "metadata": {
      "needs_background": "light"
     },
     "output_type": "display_data"
    }
   ],
   "source": [
    "plt.hist(pupil_performance_df[\"average duration per task in minutes\"], bins=int(np.max(pupil_performance_df[\"average duration per task in minutes\"])/0.25))\n",
    "plt.show()"
   ]
  },
  {
   "cell_type": "code",
   "execution_count": 112,
   "metadata": {},
   "outputs": [
    {
     "data": {
      "image/png": "[encoded data removed]",
      "text/plain": [
       "<Figure size 432x288 with 1 Axes>"
      ]
     },
     "metadata": {
      "needs_background": "light"
     },
     "output_type": "display_data"
    },
    {
     "data": {
      "image/png": "[encoded data removed]",
      "text/plain": [
       "<Figure size 432x288 with 1 Axes>"
      ]
     },
     "metadata": {
      "needs_background": "light"
     },
     "output_type": "display_data"
    },
    {
     "data": {
      "image/png": "[encoded data removed]",
      "text/plain": [
       "<Figure size 432x288 with 1 Axes>"
      ]
     },
     "metadata": {
      "needs_background": "light"
     },
     "output_type": "display_data"
    }
   ],
   "source": [
    "# anzahl tasks per pupil\n",
    "\n",
    "plt.hist(pupil_performance_df[\"nr_tasks_per_pupil\"], bins=4)\n",
    "plt.title(\"Tasks per SuS quartiles\")\n",
    "plt.show()\n",
    "plt.hist(pupil_performance_df[\"nr_tasks_per_pupil\"], bins=10)\n",
    "plt.title(\"Tasks per SuS decentile\")\n",
    "plt.show()\n",
    "plt.hist(pupil_performance_df[\"nr_tasks_per_pupil\"], bins=np.max(pupil_performance_df[\"nr_tasks_per_pupil\"]))\n",
    "plt.title(\"Tasks per SuS\")\n",
    "plt.show()"
   ]
  },
  {
   "cell_type": "code",
   "execution_count": 92,
   "metadata": {},
   "outputs": [
    {
     "data": {
      "text/plain": [
       "AI-1-v2-2-1    40\n",
       "AI-1-v2-1-1    40\n",
       "AI-1-v2-1-2    40\n",
       "AI-2-v2-1-1    38\n",
       "AI-3-v2-1-2    36\n",
       "               ..\n",
       "EvalML-1-9     16\n",
       "EvalML-1-8     16\n",
       "EvalML-1-6     16\n",
       "EvalML-1-5     16\n",
       "EvalML-1-3     16\n",
       "Name: taskId, Length: 67, dtype: int64"
      ]
     },
     "execution_count": 92,
     "metadata": {},
     "output_type": "execute_result"
    }
   ],
   "source": [
    "# Wie viele SuS haben die jeweilige Aufgabe gelöst?\n",
    "df[\"taskId\"].value_counts()"
   ]
  },
  {
   "cell_type": "markdown",
   "metadata": {},
   "source": [
    "## Fortschritt aller SuS im Paket"
   ]
  },
  {
   "cell_type": "code",
   "execution_count": 90,
   "metadata": {},
   "outputs": [
    {
     "name": "stdout",
     "output_type": "stream",
     "text": [
      "Mögliche Erklärung: Kein Präsenzunterricht wegen Corona?\n",
      "Mögliche Erklärung: Nicht alle Lehrer haben das Paket zuende gespielt\n"
     ]
    },
    {
     "data": {
      "image/png": "[encoded data removed]",
      "text/plain": [
       "<Figure size 720x1440 with 2 Axes>"
      ]
     },
     "metadata": {
      "needs_background": "light"
     },
     "output_type": "display_data"
    }
   ],
   "source": [
    "nr_all_tasks = len(df[\"taskId\"].unique())\n",
    "\n",
    "sorted_nr_tasks_per_pupil = np.sort(nr_tasks_per_pupil)\n",
    "\n",
    "# Number of students with number of tasks\n",
    "number_pupils_with_this_number_of_tasks = []\n",
    "for i in range(nr_all_tasks):\n",
    "    at_least_this_number = 0\n",
    "    for number in sorted_nr_tasks_per_pupil:\n",
    "        if number >= i+1:\n",
    "            at_least_this_number += 1\n",
    "    number_pupils_with_this_number_of_tasks.append(at_least_this_number) #anzahl zahlen mit mehr\n",
    "\n",
    "# percentage of students with each percentage of tasks\n",
    "task_percentage = [i * (100/nr_all_tasks) for i in range(1,nr_all_tasks+1)]\n",
    "pupil_percentages = [i * (100/len(df[\"pupilId\"].unique())) for i in number_pupils_with_this_number_of_tasks]\n",
    "\n",
    "\n",
    "# PLOTTING\n",
    "print(\"Mögliche Erklärung: Kein Präsenzunterricht wegen Corona?\")\n",
    "print(\"Mögliche Erklärung: Nicht alle Lehrer haben das Paket zuende gespielt\")\n",
    "fig, (ax1, ax2) = plt.subplots(nrows=2,ncols=1,figsize=(10,20))\n",
    "\n",
    "ax1 = plt.subplot(211)\n",
    "ax1.plot(range(1,nr_all_tasks+1), number_pupils_with_this_number_of_tasks)\n",
    "ax1.set_xlabel( \"Numbers of Tasks\" , size = 12 )\n",
    "ax1.set_ylabel( \"Numbers of Students with this number of tasks\" , size = 12 )\n",
    "ax1.set_xlim([0, nr_all_tasks])\n",
    "ax1.set_ylim([0, len(sorted_nr_tasks_per_pupil)])\n",
    "\n",
    "ax2 = plt.subplot(212)\n",
    "ax2.plot(task_percentage, pupil_percentages)\n",
    "ax2.set_xlabel( \"Percentage of Tasks\" , size = 12 )\n",
    "ax2.set_ylabel( \"Percentage of Students with this percentage of tasks\" , size = 12 )\n",
    "ax2.set_xlim([0, 100])\n",
    "ax2.set_ylim([0, 100])\n",
    "\n",
    "plt.show()"
   ]
  },
  {
   "cell_type": "code",
   "execution_count": null,
   "metadata": {},
   "outputs": [],
   "source": []
  },
  {
   "cell_type": "code",
   "execution_count": null,
   "metadata": {},
   "outputs": [],
   "source": []
  },
  {
   "cell_type": "code",
   "execution_count": null,
   "metadata": {},
   "outputs": [],
   "source": []
  },
  {
   "cell_type": "code",
   "execution_count": null,
   "metadata": {},
   "outputs": [],
   "source": []
  },
  {
   "cell_type": "code",
   "execution_count": null,
   "metadata": {},
   "outputs": [],
   "source": []
  },
  {
   "cell_type": "code",
   "execution_count": null,
   "metadata": {},
   "outputs": [],
   "source": []
  },
  {
   "cell_type": "code",
   "execution_count": null,
   "metadata": {},
   "outputs": [],
   "source": []
  },
  {
   "cell_type": "code",
   "execution_count": null,
   "metadata": {},
   "outputs": [],
   "source": []
  },
  {
   "cell_type": "code",
   "execution_count": null,
   "metadata": {},
   "outputs": [],
   "source": []
  }
 ],
 "metadata": {
  "kernelspec": {
   "display_name": "Python 3",
   "language": "python",
   "name": "python3"
  },
  "language_info": {
   "codemirror_mode": {
    "name": "ipython",
    "version": 3
   },
   "file_extension": ".py",
   "mimetype": "text/x-python",
   "name": "python",
   "nbconvert_exporter": "python",
   "pygments_lexer": "ipython3",
   "version": "3.7.6"
  }
 },
 "nbformat": 4,
 "nbformat_minor": 4
}
