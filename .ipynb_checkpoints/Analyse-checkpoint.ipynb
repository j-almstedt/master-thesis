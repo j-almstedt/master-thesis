{
 "cells": [
  {
   "cell_type": "markdown",
   "metadata": {},
   "source": [
    "# TODO\n",
    "\n",
    "## Basics:\n",
    "* plotting mit pandas, matplotlib, seaborn und bokeh wdh\n",
    "* revisions verstehen! ist im state immer die letzte? wo sind die ersten? history?\n",
    "  * false attempts bei textfelder\n",
    "\n",
    "## Preprocessing\n",
    "* answers nicht immer richtig?\n",
    "* warum auch algorithmic aufgaben drinne (weil ich nicht nur die KI aufgaben nehme, sondern alle aufgaben von KIPUPIls)\n",
    "\n",
    "## Analyse\n",
    "### Paket\n",
    "* wie viele SuS wie weit gekommen (bedenken, dass kein Präsenz)\n",
    "  * grafik fürs ganze paket in prozent\n",
    "  * anzahl einzelner aufgaben --> boxplot von df[\"_id\"].value_counts()\n",
    "\n",
    "### Items (für alle Aufgaben, aber besonders MA)\n",
    "* [x] für Selbsteinschätzung:\n",
    "  * [x] min, max mean, median, streuung (IQD, std)\n",
    "  * [x] boxplot\n",
    "  * violinplot\n",
    "  * ausreißer\n",
    "  * selbsteinschätzung korrelieren mit Antworten?\n",
    "* MC\n",
    "  * [x] balkendiagramm\n",
    "  * false attempts? historie? \n",
    "  * ratio richtig zu falsch\n",
    "  * prozent als tortendiagramm?\n",
    "  * welche Antworten war die schweren? wo haben SuS fehler gemacht? --> misskonzepte / schlechte formulierungen?\n",
    "* freetext\n",
    "  * prozent angenommen vs zurückgegeben, wie oft zurückgegeben --> wo am öftesten?\n",
    "  * wie lang im durchschnitt die antworten\n",
    "  * bewertung der lehrer\n",
    "  * nach eigenen kategorien checken\n",
    "  * wie oft revisions\n",
    "  * historie\n",
    "  * (response time lehrer)\n",
    "* textfelder (wie mc?)\n",
    "* (surveys)\n",
    " \n",
    "#### Durations\n",
    "* Dauer\n",
    "  * jeder Aufgabe: \n",
    "    * mean, median, std\n",
    "    * histogram dauer für jede aufgabe\n",
    "    * längste aufgabe\n",
    "  * jedes Aufgabentyps (siehe oben)\n",
    "\n",
    "#### Rest\n",
    "* Anzahl Hilfeanfragen?\n",
    "* (wie wird der chat genutzt?)\n",
    "\n",
    "### Lernfortschrittsanalyse der Schüler\n",
    "* T0 und T1 vergleich\n",
    "  * selbsteinschätzung vorher nachher\n",
    "  * freitext einer Klasse / random gezogen aus allen. nach Kategorien?\n",
    "  * MC antworten & transfer --> wirklich verstanden?\n",
    "* (Dauer für Schüler vergleichen)\n",
    "  * hist aller Aufgaben, bzw nach Aufgabentyp, bzw relativ zum Klassendurchschnitt dieser Aufgaben!\n",
    "* (stärke eines schülers evaluieren: duration. richtig vs falsch/false attempts. hilfe rufen vs hilfe geben.)\n",
    "\n",
    "## Aufbereitung\n",
    "* Code cleanen\n",
    "* vllt eine interactive bokeh app machen, die ich den profs noch zur verfügung stelle?\n",
    "* öffentlich machen?"
   ]
  },
  {
   "cell_type": "code",
   "execution_count": 1,
   "metadata": {},
   "outputs": [],
   "source": [
    "import json\n",
    "import math\n",
    "import numpy as np\n",
    "import pandas as pd\n",
    "import matplotlib.pyplot as plt\n",
    "import statistics \n",
    "import seaborn as sns\n",
    "from numpy.random import randn\n",
    "from statistics import mode\n",
    "%matplotlib inline"
   ]
  },
  {
   "cell_type": "code",
   "execution_count": 2,
   "metadata": {},
   "outputs": [
    {
     "data": {
      "text/plain": [
       "2946"
      ]
     },
     "execution_count": 2,
     "metadata": {},
     "output_type": "execute_result"
    }
   ],
   "source": [
    "pupils = json.load(open('pupils.json', 'r'))    # result will be a python dictionary\n",
    "\n",
    "#jeder entry ist ein schüler: zB data[0]\n",
    "len(pupils)\n",
    "#2715"
   ]
  },
  {
   "cell_type": "markdown",
   "metadata": {},
   "source": [
    "# Aufbau der Daten\n",
    "\n",
    "* _id\n",
    "* classId\n",
    "* userId\n",
    "* companyId\n",
    "* partner\n",
    "* lang\n",
    "* username\n",
    "* shownTaskSeries\n",
    "* currentTaskSeries\n",
    "* solvedTaskSeries\n",
    "    * [] liste mit allen solvedTaskSeries\n",
    "       * taskSeriesId\n",
    "       * currentSections\n",
    "          * [] Liste mit allen Sections\n",
    "             * currentSubSections\n",
    "                * []\n",
    "                   * duration (in sekunden)\n",
    "                   * exercise\n",
    "                      * state:\n",
    "                         * text bei freitext in p tags\n",
    "                         * 0, 1, 0... bei survey\n",
    "                         * false, true, false bei MC\n",
    "                      * submitted: true\n",
    "                      * history: wahrscheinlich alte versionen bei freetext\n",
    "                      * subType “freetext”, “survey”, “multipleChoice”\n",
    "                      * falseAttempts bei MC: bool array mit erster lösung\n",
    "                      * evaluation: (bool) bei freetext und MC\n",
    "                         * “false” bei mc wenn falsche lösung und keine tipps → direkt musterlösung\n",
    "                         * “correct” bei mc wenn richtige lösung\n",
    "                         * “pending” bei freitext, wenn lehrer noch nicht bewertet\n",
    "                      * rating: bei freetext\n",
    "      * sectionIdx\n",
    "      * subSectionIdx\n",
    "      * stage\n",
    "      * wentActive\n",
    "      * lastActive\n",
    "      * created\n",
    "* revisions\n",
    "   * _id\n",
    "   * taskSeriesId\n",
    "   * sectionIdx\n",
    "   * subSectionIdx\n",
    "   * begin\n",
    "   * accepted\n",
    "* workspaceContent\n",
    "   * type: 'revision'\n",
    "   * 'id': 'For-1_0_1'\n",
    "* chat\n",
    "   * messages\n",
    "      * [] liste mit allen messages\n",
    "         * date\n",
    "         * sentBy: zB \"auto\"\n",
    "         * message: string mit message\n",
    "   * readUpTo\n",
    "* assists\n",
    "* experience\n",
    "* lastNotificationUpdate"
   ]
  },
  {
   "cell_type": "markdown",
   "metadata": {},
   "source": [
    "# Klassen wählen, die das KI Paket gemacht haben"
   ]
  },
  {
   "cell_type": "code",
   "execution_count": 3,
   "metadata": {},
   "outputs": [
    {
     "name": "stdout",
     "output_type": "stream",
     "text": [
      "{'uxfuiLT4xZA6yvE6L': {'count': 2}, 'qFEyvypMn4sAwLwtc': {'count': 26}, 'y7j9eKDPsqNkAycuy': {'count': 1}, '6Z2MmkKQKebb7nz8P': {'count': 3}, '4fyXxCKaLbCBaPbYE': {'count': 1}, 'xYWgeSPkADwSmhdmm': {'count': 1}, 'GkQSJvPTRWsLnpyR9': {'count': 14}}\n",
      "\n",
      "Zur Zeit gibt es 40 sus, die das KI Paket bearbeitet haben\n"
     ]
    }
   ],
   "source": [
    "# taskseriesIDs vom KI Paket:\n",
    "KI_taskseries_ids = [\"AI-1-v2\", \"AI-2-v2\", \"AI-3-v2\", \"AI-4-v2\", \"ML-1\", \"ML-2\", \"ML-3\", \"Classification-1\", \"Clustering-1\", \"Classification-2\", \"Clustering-2\", \"LimitsML\", \"EvalML\", \"Impact-1\", \"Impact-2\", \"Impact-3\", \"Impact-4\", \"AIClosing\"]\n",
    "\n",
    "classIDsKI = []\n",
    "pupilsKI = []\n",
    "\n",
    "for pupilnumber in range(len(pupils)): #für jeden schüler\n",
    "    for tasknumber in range(len(pupils[pupilnumber][\"solvedTaskSeries\"])): #für jede seiner tasks\n",
    "        if(pupils[pupilnumber][\"solvedTaskSeries\"][tasknumber][\"taskSeriesId\"] in KI_taskseries_ids):\n",
    "            for sectionnumber in range(len(pupils[pupilnumber][\"solvedTaskSeries\"][tasknumber][\"currentSections\"])): #für diese tasks, alle sections\n",
    "                for subsectionnumber in range(len(pupils[pupilnumber][\"solvedTaskSeries\"][tasknumber][\"currentSections\"][sectionnumber][\"currentSubSections\"])):\n",
    "                    if(\"exercise\" in pupils[pupilnumber][\"solvedTaskSeries\"][tasknumber][\"currentSections\"][sectionnumber][\"currentSubSections\"][subsectionnumber].keys()):\n",
    "                        if pupils[pupilnumber][\"classId\"] not in classIDsKI:\n",
    "                            classIDsKI.append(pupils[pupilnumber][\"classId\"])\n",
    "                        if pupils[pupilnumber] not in pupilsKI:\n",
    "                            pupilsKI.append(pupils[pupilnumber])\n",
    "\n",
    "KI_classes = {classID: {\"count\": 0} for classID in classIDsKI}\n",
    "\n",
    "for pupil in pupilsKI:\n",
    "    KI_classes[pupil[\"classId\"]][\"count\"] += 1\n",
    "\n",
    "print(KI_classes)\n",
    "print(\"\")\n",
    "\n",
    "# Jetzt nur die Klassen mit genügend SuS auswählen\n",
    "final_pupils_KI = []\n",
    "min_class_size = 10\n",
    "\n",
    "for pupil in pupilsKI:\n",
    "    if(KI_classes[pupil[\"classId\"]][\"count\"] >= min_class_size):\n",
    "        final_pupils_KI.append(pupil)\n",
    "\n",
    "print(\"Zur Zeit gibt es \" + str(len(final_pupils_KI)) + \" sus, die das KI Paket bearbeitet haben\")"
   ]
  },
  {
   "cell_type": "markdown",
   "metadata": {},
   "source": [
    "# Alle von SuS bearbeitete Aufgaben im KI Paket in einen DF"
   ]
  },
  {
   "cell_type": "code",
   "execution_count": 16,
   "metadata": {},
   "outputs": [
    {
     "data": {
      "text/html": [
       "<div>\n",
       "<style scoped>\n",
       "    .dataframe tbody tr th:only-of-type {\n",
       "        vertical-align: middle;\n",
       "    }\n",
       "\n",
       "    .dataframe tbody tr th {\n",
       "        vertical-align: top;\n",
       "    }\n",
       "\n",
       "    .dataframe thead th {\n",
       "        text-align: right;\n",
       "    }\n",
       "</style>\n",
       "<table border=\"1\" class=\"dataframe\">\n",
       "  <thead>\n",
       "    <tr style=\"text-align: right;\">\n",
       "      <th></th>\n",
       "      <th>pupilId</th>\n",
       "      <th>taskId</th>\n",
       "      <th>taskSeriesId</th>\n",
       "      <th>state</th>\n",
       "      <th>submitted</th>\n",
       "      <th>history</th>\n",
       "      <th>subType</th>\n",
       "      <th>evaluation</th>\n",
       "      <th>falseAttempts</th>\n",
       "      <th>hintsTaken</th>\n",
       "      <th>rating</th>\n",
       "      <th>teacherFeedback</th>\n",
       "    </tr>\n",
       "  </thead>\n",
       "  <tbody>\n",
       "    <tr>\n",
       "      <th>0</th>\n",
       "      <td>bniRycMi5bwrXjvGy</td>\n",
       "      <td>AI-1-v2-1-1</td>\n",
       "      <td>AI-1-v2</td>\n",
       "      <td>92</td>\n",
       "      <td>True</td>\n",
       "      <td>[]</td>\n",
       "      <td>surveySlider</td>\n",
       "      <td>NaN</td>\n",
       "      <td>NaN</td>\n",
       "      <td>NaN</td>\n",
       "      <td>NaN</td>\n",
       "      <td>NaN</td>\n",
       "    </tr>\n",
       "    <tr>\n",
       "      <th>1</th>\n",
       "      <td>bniRycMi5bwrXjvGy</td>\n",
       "      <td>AI-1-v2-1-2</td>\n",
       "      <td>AI-1-v2</td>\n",
       "      <td>&lt;p&gt;Künstliche Intelligenz ist ein Algorithmus,...</td>\n",
       "      <td>True</td>\n",
       "      <td>[]</td>\n",
       "      <td>freetext</td>\n",
       "      <td>correct</td>\n",
       "      <td>NaN</td>\n",
       "      <td>NaN</td>\n",
       "      <td>{'content': 3, 'format': 5, 'creativity': 4}</td>\n",
       "      <td>Inhaltlich gut, etwas genauer antworten. Muste...</td>\n",
       "    </tr>\n",
       "    <tr>\n",
       "      <th>2</th>\n",
       "      <td>bniRycMi5bwrXjvGy</td>\n",
       "      <td>AI-1-v2-2-1</td>\n",
       "      <td>AI-1-v2</td>\n",
       "      <td>[0, 0, 1, 0, 0]</td>\n",
       "      <td>True</td>\n",
       "      <td>[]</td>\n",
       "      <td>survey</td>\n",
       "      <td>NaN</td>\n",
       "      <td>NaN</td>\n",
       "      <td>NaN</td>\n",
       "      <td>NaN</td>\n",
       "      <td>NaN</td>\n",
       "    </tr>\n",
       "    <tr>\n",
       "      <th>4</th>\n",
       "      <td>bniRycMi5bwrXjvGy</td>\n",
       "      <td>AI-2-v2-1-1</td>\n",
       "      <td>AI-2-v2</td>\n",
       "      <td>[True, True, False, True]</td>\n",
       "      <td>True</td>\n",
       "      <td>[]</td>\n",
       "      <td>multipleChoice</td>\n",
       "      <td>correct</td>\n",
       "      <td>NaN</td>\n",
       "      <td>NaN</td>\n",
       "      <td>NaN</td>\n",
       "      <td>NaN</td>\n",
       "    </tr>\n",
       "    <tr>\n",
       "      <th>6</th>\n",
       "      <td>bniRycMi5bwrXjvGy</td>\n",
       "      <td>AI-3-v2-1-1</td>\n",
       "      <td>AI-3-v2</td>\n",
       "      <td>[False, False, False]</td>\n",
       "      <td>True</td>\n",
       "      <td>[]</td>\n",
       "      <td>multipleChoice</td>\n",
       "      <td>correct</td>\n",
       "      <td>NaN</td>\n",
       "      <td>NaN</td>\n",
       "      <td>NaN</td>\n",
       "      <td>NaN</td>\n",
       "    </tr>\n",
       "  </tbody>\n",
       "</table>\n",
       "</div>"
      ],
      "text/plain": [
       "             pupilId       taskId taskSeriesId  \\\n",
       "0  bniRycMi5bwrXjvGy  AI-1-v2-1-1      AI-1-v2   \n",
       "1  bniRycMi5bwrXjvGy  AI-1-v2-1-2      AI-1-v2   \n",
       "2  bniRycMi5bwrXjvGy  AI-1-v2-2-1      AI-1-v2   \n",
       "4  bniRycMi5bwrXjvGy  AI-2-v2-1-1      AI-2-v2   \n",
       "6  bniRycMi5bwrXjvGy  AI-3-v2-1-1      AI-3-v2   \n",
       "\n",
       "                                               state submitted history  \\\n",
       "0                                                 92      True      []   \n",
       "1  <p>Künstliche Intelligenz ist ein Algorithmus,...      True      []   \n",
       "2                                    [0, 0, 1, 0, 0]      True      []   \n",
       "4                          [True, True, False, True]      True      []   \n",
       "6                              [False, False, False]      True      []   \n",
       "\n",
       "          subType evaluation falseAttempts hintsTaken  \\\n",
       "0    surveySlider        NaN           NaN        NaN   \n",
       "1        freetext    correct           NaN        NaN   \n",
       "2          survey        NaN           NaN        NaN   \n",
       "4  multipleChoice    correct           NaN        NaN   \n",
       "6  multipleChoice    correct           NaN        NaN   \n",
       "\n",
       "                                         rating  \\\n",
       "0                                           NaN   \n",
       "1  {'content': 3, 'format': 5, 'creativity': 4}   \n",
       "2                                           NaN   \n",
       "4                                           NaN   \n",
       "6                                           NaN   \n",
       "\n",
       "                                     teacherFeedback  \n",
       "0                                                NaN  \n",
       "1  Inhaltlich gut, etwas genauer antworten. Muste...  \n",
       "2                                                NaN  \n",
       "4                                                NaN  \n",
       "6                                                NaN  "
      ]
     },
     "execution_count": 16,
     "metadata": {},
     "output_type": "execute_result"
    }
   ],
   "source": [
    "tasktypes = [\"blockly\", \"multipleChoice\", \"freetext\", \"survey\", \"inputField\", \"surveySlider\", \"noTask\"]\n",
    "exercise_keys = ['state', 'submitted', 'history', 'subType', 'evaluation', 'falseAttempts', 'hintsTaken', 'rating', 'teacherFeedback']\n",
    "\n",
    "\n",
    "columns = [\"pupilId\", \"taskId\", \"taskSeriesId\"] + exercise_keys\n",
    "pupil_df = pd.DataFrame(columns=columns)\n",
    "\n",
    "row_nr = 0\n",
    "for pupil in final_pupils_KI:\n",
    "    for task in pupil[\"solvedTaskSeries\"]:\n",
    "        sec_nr = 1\n",
    "        for section in task[\"currentSections\"]:\n",
    "            subsec_nr = 1\n",
    "            for subsection in section[\"currentSubSections\"]:\n",
    "                # eine neue Zeile hinzufügen für jede bearbeitete Aufgabe und id columns füllen\n",
    "                #df = df.append({\"pupilId\": pupil[\"_id\"], \"taskId\": str(task[\"taskSeriesId\"])+\"-\"+str(sec_nr)+\"-\"+str(subsec_nr),'taskSeriesId': task[\"taskSeriesId\"], \"sec_nr\": sec_nr, \"subsec_nr\": subsec_nr}, ignore_index=True)\n",
    "                pupil_df = pupil_df.append({\"pupilId\": pupil[\"_id\"], \"taskId\": str(task[\"taskSeriesId\"])+\"-\"+str(sec_nr)+\"-\"+str(subsec_nr),'taskSeriesId': task[\"taskSeriesId\"]}, ignore_index=True)\n",
    "                subsec_nr += 1\n",
    "                if(\"exercise\" in subsection.keys()):\n",
    "                    # hier wird der eigentliche state der aufgabe in die reihe eingetragen\n",
    "                    for key in subsection[\"exercise\"].keys():\n",
    "                        pupil_df.at[row_nr, key] = subsection[\"exercise\"][key]\n",
    "                row_nr += 1\n",
    "            sec_nr +=1\n",
    "    \n",
    "# aufgaben loswerden, die nicht submitted wurden!\n",
    "pupil_df.dropna(subset=['submitted'], inplace=True)\n",
    "\n",
    "#die antworten der einen falschen aufgabe berichtigen\n",
    "for index in pupil_df.index:\n",
    "    if(pupil_df.loc[index, \"taskId\"] == \"Classification-2-1-5\"):\n",
    "        if (\"2\" in str(pupil_df.loc[index, \"falseAttempts\"])): #die SuS, die es eigentlich richtig hatten\n",
    "            pupil_df.loc[index, \"falseAttempts\"] = np.nan\n",
    "            pupil_df.loc[index, \"evaluation\"] = \"correct\"\n",
    "        elif(pupil_df.loc[index, \"pupilId\"]==\"gooproPtWeTH6dtcB\"): #der eine schüler, der es falsch hatte\n",
    "            pupil_df.loc[index, \"falseAttempts\"] = [str(df.loc[index, \"state\"])]\n",
    "            pupil_df.loc[index, \"evaluation\"] = \"false\"\n",
    "\n",
    "pupil_df.head()\n",
    "\n"
   ]
  },
  {
   "cell_type": "code",
   "execution_count": 5,
   "metadata": {},
   "outputs": [],
   "source": [
    "#taskSeries Laden\n",
    "taskSeries = json.load(open('taskSeries.json', 'r'))    # result will be a python dictionary"
   ]
  },
  {
   "cell_type": "code",
   "execution_count": 31,
   "metadata": {},
   "outputs": [
    {
     "name": "stdout",
     "output_type": "stream",
     "text": [
      "Aufgabenreihe-KI-1 [{'de': 'Newsfeed eines sozialen Netzwerks'}, {'de': 'Die Personalisierung einer Google-Anfrage'}, {'de': 'Startseite einer Webseite, die jedem Besucher die gleichen Inhalte anzeigt'}, {'de': 'Gesichtserkennung'}, {'de': 'Ein autonomes Taxi, das selbständig Passagiere hin- und herfährt'}, {'de': 'Ein von einem Menschen ferngesteuertes Taxi'}]\n",
      "Aufgabenreihe-KI-2 [{'de': 'Lisa'}, {'de': 'Max'}]\n",
      "Aufgabenreihe-KI-2 [{'de': 'Empfehlungssysteme gehören zur allgemeinen KI'}, {'de': 'Empfehlungssysteme gehören zur spezifischen KI'}, {'de': 'Autonome Fahrzeuge gehören zur allgemeinen KI'}, {'de': 'Autonome Fahrzeuge gehören zur spezifischen KI'}, {'de': 'Programme zur Bilderkennung gehören zur allgemeinen KI'}, {'de': 'Programme zur Bilderkennung gehören zur spezifischen KI'}, {'de': 'Eine KI aus einem Film, die eigenständige Entscheidungen trifft, mit Menschen spricht und sich am Ende gegen sie wendet gehört zur allgemeinen KI.'}]\n",
      "Aufgabenreihe-KI-2 [{'de': 'Ein Autonomes Fahrzeug ist intelligent'}, {'de': 'Ein Autonomes Fahrzeug zeigt intelligentes Verhalten'}, {'de': 'Intelligentes Verhalten in einem spezifischen Bereich muss nicht gleich allgemeine Intelligenz bedeuten'}, {'de': 'KI, die sich in einem Bereich so intelligent verhält wie ein Mensch, muss Intelligenz besitzen'}]\n",
      "Aufgabenreihe-KI-2 [{'de': 'KI-Anwendungen treffen eigenständige Entscheidungen'}, {'de': 'Menschen helfen ihnen bei ihren Entscheidungen'}, {'de': 'KI-Anwendungen lernen durch Erfahrung'}, {'de': 'Sie lernen mittels Verständnis'}, {'de': 'Intelligentes Verhalten setzt Intelligenz voraus'}, {'de': 'Heutige KI-Anwendungen gehören alle zur spezifischen KI'}, {'de': 'Spezifische KI umfasst Anwendungen, die menschenähnliche Intelligenz in einem kleinen Bereich zeigen'}, {'de': 'Ein Spam-Filter gehört zur allgemeinen KI'}, {'de': 'KI, die so schlau ist, wie ein Mensch, gibt es nur Filmen und Büchern'}, {'de': 'Ein Mensch gewinnt immer gegen eine KI'}]\n",
      "Algorithmic-1 [{'de': 'Gehe Vorwärts'}, {'de': 'Bremsen'}, {'de': 'Drehe nach rechts'}, {'de': 'Drehe nach links'}, {'de': 'Gib Gas'}]\n",
      "Algorithmic-2 [{'de': 'Es wird beide Male das Gleiche passieren'}, {'de': 'Es wird nicht zwingend das Gleiche passieren'}]\n",
      "Algorithmic-3 [{'de': 'A'}, {'de': 'B'}, {'de': 'C'}, {'de': 'D'}, {'de': 'E'}]\n",
      "AlgorithmicAlltag-1 [{'de': 'Algorithmen sind Sammlungen von Anweisungen oder Regeln zur Erreichung eines bestimmten Ziels'}, {'de': 'Algorithmen sind nur Programme, die Autos beim Fahren helfen'}]\n",
      "AlgorithmicFlowchart [{'de': 'Start und Ende sind in Kreisen markiert'}, {'de': 'Das ist nicht markiert, man muss raten'}]\n",
      "AlgorithmicFlowchart [{'de': 'In einem viereckigen Kasten'}, {'de': 'In einem Kreis'}, {'de': 'In einem Dreieck'}]\n",
      "AlgorithmicFlowchart [{'de': 'Sie werden untereinander dargestellt und mit Pfeilen verbunden, die die “Fließrichtung” darstellen'}, {'de': 'Sie werden überlappend hingelegt'}, {'de': 'Sie werden nebeneinander dargestellt und mit Pfeilen in beide Richtungen kombiniert'}]\n",
      "AlgorithmicImportance [{'de': '10'}, {'de': '100'}, {'de': '1.000'}, {'de': '1.000.000'}, {'de': '1.000.000.000'}]\n",
      "BedingungenFlowchart [{'de': 'Der If-Else-Block prüft zwei verschiedene Bedingungen, eine für If und eine für Else'}, {'de': 'Der If-Else-Block hat zwei Stellen, an denen Code ausgeführt werden kann'}]\n",
      "For-2 [{'de': 'A'}, {'de': 'B'}, {'de': 'C'}, {'de': 'C'}]\n",
      "ForFlowchart [{'de': 'werden die Anweisungen im For-Loop nicht nochmal ausgeführt, da wird sie schon oft genug ausgeführt haben'}, {'de': 'müssen wir die Anweisungen noch einmal ausführen, da wir den letzten Loop dann erst ausführen'}]\n",
      "ForFlowchart [{'de': '1'}, {'de': '2'}, {'de': '3'}]\n",
      "If-2 [{'de': 'Diese Kombination ist überflüssig, da der While-Loop schon eine Bedingung hat, die überprüft wird'}, {'de': 'Dann wird nicht in jedem Durchgang des While-Loops das Gleiche getan'}]\n",
      "If-3 [{'de': 'A', 'en-US': 'A'}, {'de': 'B', 'en-US': 'B'}, {'de': 'C', 'en-US': 'C'}, {'de': 'D', 'en-US': 'D'}, {'de': 'E', 'en-US': 'E'}, {'de': 'F', 'en-US': 'F'}]\n",
      "If-3 [{'de': 'A', 'en-US': 'A'}, {'de': 'B', 'en-US': 'B'}, {'de': 'C', 'en-US': 'C'}, {'de': 'D', 'en-US': 'D'}, {'de': 'E', 'en-US': 'E'}]\n",
      "If-Else-2 [{'de': 'A', 'en-US': 'A'}, {'de': 'B', 'en-US': 'B'}, {'de': 'C', 'en-US': 'C'}, {'de': 'D', 'en-US': 'D'}, {'de': 'E', 'en-US': 'E'}, {'de': 'F', 'en-US': 'F'}]\n",
      "If-Else-2 [{'de': 'A', 'en-US': 'A'}, {'de': 'B', 'en-US': 'B'}, {'de': 'C', 'en-US': 'C'}, {'de': 'D', 'en-US': 'D'}, {'de': 'E', 'en-US': 'E'}, {'de': 'F', 'en-US': 'F'}]\n",
      "LoopsVergleich-1 [{'de': 'Die Bedingung vom For-Loop prüft nur, ob wir die Schleife schon oft genug durchlaufen haben. Denn mit dem For-Loop durchlaufen wir eine Schleife eine feste Anzahl von Malen'}, {'de': 'Die Bedingung vom While-Loop prüft, ob wir die Schlaufe überhaupt betreten. While-Schleifen werden nur unter gewissen Bedingungen ausgeführt'}]\n",
      "LoopsVergleich-3 [{'de': 'For-Loop sind besser, wenn wir genau wissen, wie oft wir Anweisungen ausführen wollen'}, {'de': 'While-Loops sind besser, wenn wir die Ausführung der Schleife an eine Bedingung knüpfen wollen'}, {'de': 'While-Loops können dafür flexibler auf die Umwelt reagieren und zum Teil mehrere Probleme mit dem gleichen Algorithmus lösen'}]\n",
      "While-2 [{'de': 'Das Ziel ist noch nicht erreicht'}, {'de': 'Das Ziel ist erreicht'}]\n",
      "While-3 [{'de': 'Wenn die Bedingung anfangs nicht erfüllt ist, wird die Anweisung innerhalb des While-Loops trotzdem einmal ausgeführt'}, {'de': 'Wenn die Bedingung anfangs nicht erfüllt ist, wird die Anweisung innerhalb des While-Loops gar nicht ausgeführt'}]\n",
      "While-3 [{'de': 'Alle Anweisungen nach dem While-Loop werden wiederholt'}, {'de': 'Nur Anweisungen innerhalb des While-Loops werden durch ihn wiederholt'}]\n",
      "WhileFlowchart [{'de': 'Die Bedingung steht in einer Raute'}, {'de': 'Die Bedingung steht in einem Rechteck'}, {'de': 'Von der Bedingung führt ein Pfeil zur nächsten Anweisung'}, {'de': 'Von der Bedingung führen zwei Pfeile weiter, die bestimmen, wo das Programm weiter geht, je nachdem, ob die Bedingung erfüllt ist oder nicht'}]\n",
      "WhileFlowchart [{'de': 'Ja, der Fluss des Programms ist trotzdem eindeutig geregelt, da durch die Bedingung immer klar ist, welcher der beiden Wege gegangen wird'}, {'de': 'Nein, da sich der Fluss des Programms aufzweigt, ist nicht klar, welchen weiteren Weg das Programm nimmt'}]\n",
      "WhileVertiefung-1 [{'universal': '17'}, {'universal': '18'}, {'universal': '19'}, {'universal': '20'}]\n",
      "Algorithmic-1-v2 [{'de': 'Gehe Vorwärts', 'en-US': 'Move forward'}, {'de': 'Bremsen', 'en-US': 'Brake'}, {'de': 'Drehe nach links', 'en-US': 'Turn left'}, {'de': 'Gib Gas', 'en-US': 'Accelerate'}]\n",
      "Algorithmic-2-v2 [{'de': 'Es könnte zu unterschiedlichen Ergebnissen kommen', 'en-US': 'There could be different results'}, {'de': 'Es wird immer zum gleichen Ergebnis kommen', 'en-US': 'It will always come to the same result'}]\n",
      "Algorithmic-3-v2 [{'universal': ''}, {'universal': ''}, {'universal': ''}, {'universal': ''}, {'universal': ''}]\n",
      "AlgorithmicAlltag-1-v2 [{'de': 'Ein Programm besteht aus Blöcken, die Fahrzeuge zum Ziel führen', 'en-US': 'A program consists of blocks that guide vehicles to their destination'}, {'de': 'Ein Programm ist eine Abfolge von Anweisungen, um mithilfe eines Computers ein bestimmtes Ziel zu erreichen oder Problem zu lösen', 'en-US': 'A program is a sequence of instructions to perform a certain task, to achieve a goal or to solve a problem with the help of a computer'}]\n",
      "AlgorithmicAlltag-1-v2 [{'de': 'Sie bestehen aus einzelnen Schritten, die nacheinander ausgeführt werden', 'en-US': 'They consist of individual steps that are executed one after the other'}, {'de': 'Algorithmen werden nur von Computern ausgeführt', 'en-US': 'Algorithms are only executed by computers'}, {'de': 'Programme werden nur von Computern ausgeführt', 'en-US': 'Programs are only executed by computers'}, {'de': 'Algorithmen gibt es schon viel länger als Programme', 'en-US': 'Algorithms have existed much longer than programs'}]\n",
      "AlgorithmicFlowchart-v2 [{'de': 'Start und Ende werden als eckige Kästchen dargestellt', 'en-US': 'Start and end are displayed as square boxes'}, {'de': 'Start und Ende werden als Kästchen mit abgerundeten Ecken dargestellt', 'en-US': 'Start and end are displayed as boxes with rounded corners'}, {'de': 'Das ist nicht klar, man muss raten', 'en-US': \"It's not clear, you have to guess.\"}]\n",
      "AlgorithmicFlowchart-v2 [{'de': 'Als viereckige Kästchen', 'en-US': 'As square boxes'}, {'de': 'Als abgerundete Kästchen', 'en-US': 'As rounded boxes'}, {'de': 'Als Dreiecke', 'en-US': 'As triangles'}]\n",
      "AlgorithmicFlowchart-v2 [{'de': 'Alle Anweisungen werden einfach irgendwie dargestellt. Die Reihenfolge ist egal', 'en-US': 'All instructions are simply displayed somehow. The order does not matter'}, {'de': 'Eine Sequenz wird nebeneinander dargestellt und mit Pfeilen in beide Richtungen kombiniert', 'en-US': 'A sequence is displayed side by side and combined with arrows in both directions'}, {'de': 'Die Anweisungen einer Sequenz werden untereinander dargestellt und mit Pfeilen verbunden, die die “Fließrichtung” darstellen', 'en-US': 'The instructions of a sequence are displayed one below the other and connected with arrows that represent the “flow direction“'}]\n",
      "AlgorithmicImportance-v2 [{'universal': '10'}, {'universal': '100'}, {'universal': '1.000'}, {'universal': '1.000.000'}, {'universal': '1.000.000.000'}]\n",
      "BedingungenFlowchart-v2 [{'de': 'Bei der if-Anweisung werden die Anweisungen B auf jeden Fall ausgeführt', 'en-US': 'With the if statement, statements B are executed in any case'}, {'de': 'Die Anweisungen A werden nur ausgeführt, wenn die Bedingung erfüllt ist', 'en-US': 'The instructions A are only executed if the condition is fulfilled'}, {'de': 'Bei der if-else-Anweisung werden die Anweisungen C nur ausgeführt, wenn die Bedingung nicht erfüllt ist', 'en-US': 'With the if-else statement, the C statements are only executed if the condition is not met'}]\n",
      "BedingungenFlowchart-v2 [{'de': 'Sie prüft zwei verschiedene Bedingungen, eine für “if” und eine für “else”', 'en-US': 'It checks two different conditions, one for if” and one for “else”'}, {'de': 'Sie prüft eine Bedingung und führt abhängig davon unterschiedliche Anweisungen aus', 'en-US': 'It checks a condition and depending on this condition it executes different instructions'}]\n",
      "For-2-v2 [{'universal': ''}, {'universal': ''}, {'universal': ''}, {'universal': ''}]\n",
      "ForFlowchart-v2 [{'de': 'Als Pfeil', 'en-US': 'As an arrow'}, {'de': 'Als Raute', 'en-US': 'As a diamond'}, {'de': 'Als abgerundetes Kästchen', 'en-US': 'As a rounded box'}]\n",
      "ForFlowchart-v2 [{'de': 'Sie wird so oft durchlaufen, bis das Problem gelöst wurde', 'en-US': 'It is executed as often as necessary until the problem has been solved'}, {'de': 'Bis der Zähler so oft erhöht wurde, dass die Bedingung nicht länger erfüllt ist', 'en-US': 'Until the counter has been increased so often that the condition is no longer fulfilled'}, {'de': 'Mindestens 1 mal', 'en-US': 'At least once'}, {'de': 'Unendlich oft', 'en-US': 'Infinitely often'}]\n",
      "ForFlowchart-v2 [{'de': 'nicht nochmal ausgeführt, sondern übersprungen', 'en-US': 'will not be executed again, but skipped'}, {'de': 'noch ein letztes Mal ausgeführt', 'en-US': 'will be executed one last time'}, {'de': 'unendlich oft ausgeführt und das Programm landet in einer Endlosschleife', 'en-US': 'will be executed infinitely often and the program ends up in an infinite loop'}]\n",
      "ForFlowchart-v2 [{'de': 'Gar nichts', 'en-US': 'Nothing at all'}, {'de': 'Die Schleife wird einfach übersprungen', 'en-US': 'The loop is simply skipped'}, {'de': 'Das Programm würde niemals enden und in einer Endlosschleife landen', 'en-US': 'The program would never end and end up in an endless loop'}]\n",
      "If-2-v2 [{'de': 'Die Kombination ist überflüssig, da die While-Schleife schon eine Bedingung enthält', 'en-US': 'The combination is unnecessary because the while loop already contains a condition'}, {'de': 'In jeder Wiederholung der Schleife wird die Bedingung geprüft. So ist das Programm noch flexibler', 'en-US': 'The program checks during each repetition of the loop whether the condition is fulfilled. Thus, the program is way more flexible'}]\n",
      "If-3-v2 [{'universal': ''}, {'universal': ''}, {'universal': ''}, {'universal': ''}, {'universal': ''}, {'universal': ''}]\n",
      "If-3-v2 [{'universal': ''}, {'universal': ''}, {'universal': ''}, {'universal': ''}, {'universal': ''}]\n",
      "If-Else-2-v2 [{'universal': ''}, {'universal': ''}, {'universal': ''}, {'universal': ''}, {'universal': ''}, {'universal': ''}]\n",
      "If-Else-2-v2 [{'universal': ''}, {'universal': ''}, {'universal': ''}, {'universal': ''}, {'universal': ''}, {'universal': ''}]\n",
      "LoopsVergleich-1-v2 [{'de': 'Die While-Schleife', 'en-US': 'The while loop'}, {'de': 'Die For-Schleife', 'en-US': 'The for loop'}]\n",
      "LoopsVergleich-1-v2 [{'de': 'Die While-Schleife', 'en-US': 'The while loop'}, {'de': 'Die For-Schleife', 'en-US': 'The for loop'}]\n",
      "LoopsVergleich-1-v2 [{'de': 'Die While-Schleife', 'en-US': 'The while loop'}, {'de': 'Die For-Schleife', 'en-US': 'The for loop'}]\n",
      "LoopsVergleich-2-v2 [{'de': 'Die While-Schleife', 'en-US': 'The while loop'}, {'de': 'Die For-Schleife', 'en-US': 'The for loop'}]\n",
      "LoopsVergleich-2-v2 [{'de': 'Die While-Schleife', 'en-US': 'The while loop'}, {'de': 'Die For-Schleife', 'en-US': 'The for loop'}]\n",
      "LoopsVergleich-3-v2 [{'de': 'While-Schleifen können flexibler eingesetzt werden, sodass man mit einem Programm mehrere Probleme lösen kann', 'en-US': 'While loops can be used more flexibly. So you can solve several problems with only one program'}, {'de': 'For-Schleifen sind einfach besser, weil man genau weiß, wie oft die Anweisungen wiederholt werden', 'en-US': 'For loops are simply better because you know exactly how often the instructions are repeated'}, {'de': 'For-Schleifen solltest du nutzen, wenn du die genaue Anzahl an Wiederholungen kennst', 'en-US': 'You should use for loops if you know the exact number of repetitions'}, {'de': 'Bei While-Schleifen muss man besonders darauf achten, die Bedingung richtig zu wählen. Es kann sonst passieren, dass man in einer Endlosschleife landet', 'en-US': 'With while loops, special care must be taken to select the condition correctly. Otherwise you might end up in an endless loop'}]\n",
      "While-2-v2 [{'de': 'das Ziel noch nicht erreicht ist', 'en-US': 'the goal is not yet reached'}, {'de': 'das Ziel erreicht ist', 'en-US': 'the goal is reached'}]\n",
      "While-3-v2 [{'de': 'Dann werden die Anweisungen innerhalb der Schleife nur ein einziges Mal ausgeführt', 'en-US': 'Then the statements within the loop are executed only once'}, {'de': 'Dann wird die Schleife übersprungen und die Anweisungen innerhalb der Schleife werden gar nicht ausgeführt', 'en-US': 'Then the loop is skipped and the statements inside the loop are not executed at all'}]\n",
      "While-3-v2 [{'de': 'Wenn die Schleife endet oder übersprungen wird, werden die Anweisungen darunter ganz normal ausgeführt', 'en-US': 'If the loop ends or is skipped, the instructions below are executed normally'}, {'de': 'Wenn die Schleife endet oder übersprungen wird, dann endet auch das ganze Programm', 'en-US': 'If the loop ends or is skipped, the whole program ends as well'}, {'de': \"Es kann passieren, dass sich die Bedingung niemals auf 'falsch' ändert und das Programm in einer Endlosschleife landet. Dann werden die unteren Anweisungen niemals ausgeführt und das Programm muss abgebrochen werden\", 'en-US': \"It may happen that the condition never changes to 'false' and the program ends up in an endless loop. In this case the instructions below are never executed and the program must be aborted\"}]\n",
      "While-3-v2 [{'de': 'Alle Anweisungen eines Programms werden wiederholt, wenn eine While-Schleife benutzt wird', 'en-US': 'All statements of a program are repeated if a while loop is used'}, {'de': 'Nur Anweisungen innerhalb der While-Schleife werden wiederholt', 'en-US': 'Only statements within the while loop are repeated'}]\n",
      "WhileFlowchart-v2 [{'de': 'Die Bedingung steht in einer Raute', 'en-US': 'The condition is represented as a diamond'}, {'de': 'Die Bedingung steht in einem rechteckigen Kästchen', 'en-US': 'The condition is represented as a rectangular box'}, {'de': 'Von der Bedingung führt nur ein Pfeil zur nächsten Anweisung', 'en-US': 'Only one arrow leads off the condition to the next statement'}, {'de': 'Von der Bedingung führen zwei Pfeile weiter', 'en-US': 'Two arrows lead off the condition'}]\n",
      "WhileFlowchart-v2 [{'de': 'Das Programm folgt dem ‘wahr’-Pfeil und die Schleife wird ausgeführt', 'en-US': \"The program follows the 'true' arrow and the loop is executed\"}, {'de': 'Das Programm folgt dem ‘falsch’-Pfeil und die Schleife wird nicht ausgeführt', 'en-US': \"The program follows the 'false' arrow and the loop is not executed\"}]\n"
     ]
    },
    {
     "name": "stdout",
     "output_type": "stream",
     "text": [
      "WhileVertiefung-1-v2 [{'universal': '17'}, {'universal': '18'}, {'universal': '19'}, {'universal': '20'}]\n",
      "AI-2 [{'de': 'Der Newsfeed eines Social Network nutzt KI', 'en-US': 'The newsfeed of a social network uses AI'}, {'de': 'Die Personalisierung einer Google-Anfrage nutzt KI', 'en-US': 'The personalization of a Google query uses AI'}, {'de': 'Die Startseite einer Webseite, die jedem Besucher die gleichen Inhalte anzeigt nutzt KI', 'en-US': 'The home page of a website that displays the same content to every visitor uses AI'}, {'de': 'Gesichtserkennung nutzt KI', 'en-US': 'Face recognition uses AI'}]\n",
      "AI-3 [{'de': 'Die Anwendung, die den Facebook-Feed erstellt, kann auch Schach spielen', 'en-US': 'The application that creates the Facebook feed can also play chess'}, {'de': 'Das Programm zur Gesichtserkennung auf deinem Handy kann auch Auto fahren', 'en-US': 'The face recognition program on your phone can also drive a car'}, {'de': 'Eine Sprachsteuerung wie Siri oder Alexa kann auch Gesichter erkennen', 'en-US': 'A voice control like Siri or Alexa can also recognize faces'}]\n",
      "AI-3 [{'de': 'Empfehlungssysteme gehören zur spezifischen KI', 'en-US': 'Recommendation systems are part of specific AI'}, {'de': 'Programme zur Bilderkennung gehören zur allgemeinen KI', 'en-US': 'Image recognition programs are part of general AI'}, {'de': 'Eine KI aus einem Film, die eigenständige Entscheidungen trifft, mit Menschen spricht und sich am Ende gegen sie wendet, gehört zur allgemeinen KI', 'en-US': 'An AI from a movie that makes independent decisions, talks to humans and turns against them in the end is part of general AI'}]\n",
      "AI-4 [{'de': 'KI-Anwendungen sind allgemein intelligent', 'en-US': 'AI applications are generally intelligent'}, {'de': 'KI-Anwendungen zeigen intelligentes Verhalten', 'en-US': 'AI applications exhibit intelligent behavior'}, {'de': 'Intelligentes Verhalten in einem spezifischen Bereich muss nicht gleich allgemeine Intelligenz bedeuten', 'en-US': 'Intelligent behavior in a specific area does not have to mean general intelligence'}, {'de': 'Eine KI, die sich in einem Bereich so intelligent verhält wie ein Mensch, muss allgemeine Intelligenz besitzen', 'en-US': 'An AI that behaves as intelligently as a human in one area must have general intelligence'}]\n",
      "AI-4 [{'de': 'KI-Anwendungen treffen eigenständige Entscheidungen', 'en-US': 'AI applications make independent decisions'}, {'de': 'KI-Anwendungen lernen durch Erfahrung', 'en-US': 'AI applications learn through experience'}, {'de': 'Intelligentes Verhalten setzt allgemeine Intelligenz voraus', 'en-US': 'Intelligent behavior requires general intelligence'}, {'de': 'Heutige KI-Anwendungen gehören alle zur spezifischen KI', 'en-US': \"Today's AI applications all belong to specific AI\"}, {'de': 'Spezifische KI umfasst Anwendungen, die menschenähnliche Intelligenz in einem kleinen Bereich zeigen', 'en-US': 'Specific AI includes applications that exhibit human-like intelligence in a small domain'}, {'de': 'Ein Spam-Filter ist eine allgemeinen KI', 'en-US': 'A spam filter is a general AI'}, {'de': 'Eine KI, die in allen Bereichen so schlau ist wie ein Mensch, gibt es noch nicht', 'en-US': 'An AI that is as smart as a human in all areas does not yet exist'}]\n",
      "Aufgabenreihe-KI-4 [{'de': 'Programme des maschinellen Lernens lernen anhand vieler Beispiele bzw aus Erfahrung'}, {'de': 'Programme des maschinellen Lernens lernen mittels Verständnis'}, {'de': 'Die diesem Beispiel sind die Trainingsdaten Bilder von Hunden oder Katzen'}, {'de': 'In diesem Fall enthalten die Trainingsdaten kein Label, das heißt wir wissen nicht, was auf ihnen zu sehen ist'}, {'de': 'Die Bilder müssen außerdem ein Label enthalten, also ein Hinweis, was gezeigt wird'}]\n",
      "AI-2-v2 [{'de': 'Der Newsfeed eines Social Network nutzt KI', 'en-US': 'The newsfeed of a social network uses AI'}, {'de': 'Die Personalisierung einer Google-Anfrage nutzt KI', 'en-US': 'The personalization of a Google query uses AI'}, {'de': 'Die Startseite einer Webseite, die jedem Besucher die gleichen Inhalte anzeigt nutzt KI', 'en-US': 'The home page of a website that displays the same content to every visitor uses AI'}, {'de': 'Gesichtserkennung nutzt KI', 'en-US': 'Face recognition uses AI'}]\n",
      "AI-3-v2 [{'de': 'Die Anwendung, die den Facebook-Feed erstellt, kann auch Schach spielen', 'en-US': 'The application that creates the Facebook feed can also play chess'}, {'de': 'Das Programm zur Gesichtserkennung auf deinem Handy kann auch Auto fahren', 'en-US': 'The face recognition program on your phone can also drive a car'}, {'de': 'Eine Sprachsteuerung wie Siri oder Alexa kann auch Gesichter erkennen', 'en-US': 'A voice control like Siri or Alexa can also recognize faces'}]\n",
      "AI-3-v2 [{'de': 'Empfehlungssysteme gehören zur spezifischen KI', 'en-US': 'Recommendation systems are part of specific AI'}, {'de': 'Programme zur Bilderkennung gehören zur allgemeinen KI', 'en-US': 'Image recognition programs are part of general AI'}, {'de': 'Eine KI aus einem Film, die eigenständige Entscheidungen trifft, mit Menschen spricht und sich am Ende gegen sie wendet, gehört zur allgemeinen KI', 'en-US': 'An AI from a movie that makes independent decisions, talks to humans and turns against them in the end is part of general AI'}]\n",
      "AI-4-v2 [{'de': 'KI-Anwendungen sind allgemein intelligent', 'en-US': 'AI applications are generally intelligent'}, {'de': 'KI-Anwendungen zeigen intelligentes Verhalten in einem kleinen Bereich', 'en-US': 'AI applications exhibit intelligent behavior in a small domain'}, {'de': 'Intelligentes Verhalten in einem spezifischen Bereich muss nicht gleich allgemeine Intelligenz bedeuten', 'en-US': 'Intelligent behavior in a specific area does not have to mean general intelligence'}, {'de': 'Eine KI, die sich in einem einzigen Bereich so intelligent verhält wie ein Mensch, muss allgemeine Intelligenz besitzen', 'en-US': 'An AI that behaves as intelligently as a human in one single area must have general intelligence'}]\n",
      "AI-4-v2 [{'de': 'KI-Anwendungen treffen eigenständige Entscheidungen', 'en-US': 'AI applications make independent decisions'}, {'de': 'KI-Anwendungen lernen durch Erfahrung', 'en-US': 'AI applications learn through experience'}, {'de': 'Intelligentes Verhalten setzt allgemeine Intelligenz voraus', 'en-US': 'Intelligent behavior requires general intelligence'}, {'de': 'Heutige KI-Anwendungen gehören alle zur spezifischen KI', 'en-US': \"Today's AI applications all belong to specific AI\"}, {'de': 'Spezifische KI umfasst Anwendungen, die menschenähnliche Intelligenz in einem kleinen Bereich zeigen', 'en-US': 'Specific AI includes applications that exhibit human-like intelligence in a small domain'}, {'de': 'Ein Spam-Filter ist eine allgemeinen KI', 'en-US': 'A spam filter is a general AI'}, {'de': 'Eine KI, die in allen Bereichen so schlau ist wie ein Mensch, gibt es noch nicht', 'en-US': 'An AI that is as smart as a human in all areas does not yet exist'}]\n",
      "Classification-1 [{'de': 'Beim überwachten Lernen braucht man Daten ohne Label', 'en-US': 'In supervised learning, you need data without a label'}, {'de': 'Einen Algorithmus zu trainieren, der Bildern mit Hunden das Label “Hund” gibt, wäre ein Fall für überwachtes Lernen', 'en-US': 'Training an algorithm to give the label \"dog\" to images with dogs would be a case for supervised learning'}, {'de': 'Beim überwachten Lernen versucht man Struktur in Daten zu finden', 'en-US': 'In supervised learning, one tries to find structure in data'}]\n",
      "Classification-2 [{'de': 'Josi', 'en-US': 'Josi'}, {'de': 'Paul', 'en-US': 'Paul'}, {'de': 'Mahmud', 'en-US': 'Mahmud'}, {'de': 'Anna', 'en-US': 'Anna'}, {'de': 'Isa', 'en-US': 'Isa'}]\n",
      "Classification-2 [{'de': 'James Bond', 'en-US': 'James Bond'}, {'de': 'Herr der Ringe', 'en-US': 'Lord of the Rings'}, {'de': 'Avengers Endgame', 'en-US': 'Avengers Endgame'}, {'de': 'Fluch der Karibik', 'en-US': 'Pirates of the Caribbean'}, {'de': 'Hangover', 'en-US': 'Hangover'}]\n",
      "Classification-2 [{'de': 'Ein Algorithmus, der dir basierend auf deinen Lieblingsfächern einen Beruf vorschlägt, könnte man mittels überwachtem Lernen umsetzen', 'en-US': 'An algorithm that suggests a profession based on your favorite subjects could be implemented using supervised learning'}, {'de': 'Ein Algorithmus, der ähnliche Berufe gruppiert, gehört zum überwachten Lernen', 'en-US': 'An algorithm that groups similar occupations is part of supervised learning'}, {'de': 'Ein Algorithmus, der anhand vieler alter Fälle gelernt hat, medizinische Diagnosen zu stellen, gehört zum überwachten Lernen', 'en-US': 'An algorithm that has learned to make medical diagnoses based on many old cases is part of supervised learning'}]\n",
      "Clustering-1 [{'de': 'Beim unüberwachten Lernen nutzt man Daten mit Label', 'en-US': 'In unsupervised learning, one uses data with label'}, {'de': 'Beim unüberwachten Lernen wollen wir die richtigen Label für neue Daten vorhersagen', 'en-US': 'In unsupervised learning, we want to predict the correct labels for new data'}, {'de': 'Beim unüberwachten Lernen hat man keine Label für die Daten', 'en-US': \"In unsupervised learning, you don't have a label for the data\"}, {'de': 'Beim unüberwachten Lernen geht es darum, Struktur in den Daten zu finden', 'en-US': 'Unsupervised learning is about finding structure in the data'}]\n",
      "Clustering-1 [{'de': 'Die Youtuber im roten Cluster laden öfter Videos hoch', 'en-US': 'The Youtubers in the red cluster upload videos more often'}, {'de': 'Die Youtuber im blauen Cluster laden öfter Videos hoch', 'en-US': 'The Youtubers in the blue cluster upload videos more often'}]\n",
      "EvalML [{'de': 'KI-Anwendungen zeichnen sich dadurch aus, dass sie intelligentes Verhalten zeigen, autonom funktionieren und mit Erfahrung lernen', 'en-US': 'AI applications are characterized by exhibiting intelligent behavior, functioning autonomously, and learning with experience'}, {'de': 'Eine fertige KI-Anwendung kann nicht ohne Hilfe von einem Menschen funktionieren', 'en-US': 'A finished AI application cannot function without help from a human'}, {'de': 'Eine fertige KI-Anwendung kann nicht mit Erfahrung lernen, sie bleibt, wie sie ist', 'en-US': 'A ready-made AI application cannot learn with experience, it remains as it is'}, {'de': 'Eine spezifische KI zeigt intelligentes Verhalten in einem kleinen Bereich', 'en-US': 'A specific AI exhibits intelligent behavior in a small domain'}, {'de': 'Jede KI hat allgemeine Intelligenz. Damit ist jede KI eine allgemeine KI', 'en-US': 'Every AI has general intelligence. Thus every AI is a general AI'}, {'de': 'Ein Programm, dass so gut Schach spielen kann, wie Menschen, ist ein Beispiel für eine spezifische KI', 'en-US': 'A program that can play chess as well as humans is an example of a specific AI'}, {'de': 'Derzeit gibt es sowohl Anwendungen, die zur spezifischen, als auch welche, die zur allgemeinen KI gehören', 'en-US': 'Currently, there are applications that belong to specific AI as well as those that belong to general AI'}, {'de': 'KI kann irgendwann alles besser als der Mensch', 'en-US': 'AI will eventually be able to do everything better than humans'}, {'de': 'Jeder Mensch wird zukünftig eine Vielzahl verschiedener KIs in seinem Alltag nutzen', 'en-US': 'In the future, everyone will use a variety of different AIs in their everyday lives'}]\n",
      "EvalML [{'de': 'Die Erkennung von Gegenständen auf Bildern', 'en-US': 'The recognition of objects in images'}, {'de': 'Das Sortieren von Bildern nach Datum', 'en-US': 'Sorting images by date'}, {'de': 'Ein personalisiertes Empfehlungssystem für Musik', 'en-US': 'A personalized recommendation system for music'}, {'de': 'Eine Nachrichtenseite, die jedem Nutzer den gleichen Inhalt präsentiert', 'en-US': 'A news site that presents the same content to every user'}]\n",
      "EvalML [{'de': 'Algorithmen des maschinellen Lernens können aus vorhandenen Daten selbständig lernen', 'en-US': 'Machine learning algorithms can learn autonomously from existing data'}, {'de': 'Beim überwachten Lernen nutzen wir Daten ohne Label', 'en-US': 'In supervised learning, we use data without a label'}, {'de': 'Beim unüberwachten Lernen versuchen wir, Strukturen in den Daten zu entdecken', 'en-US': 'In unsupervised learning, we try to discover structure in the data'}, {'de': 'Clustering ist ein Beispiel für unüberwachtes Lernen', 'en-US': 'Clustering is an example of unsupervised learning'}, {'de': 'Wenn wir für Daten Label vorhersagen wollen, betreiben wir Clustering', 'en-US': 'When we want to predict labels for data points, we engage in clustering'}, {'de': 'Wenn wir für Daten Label vorhersagen wollen, betreiben wir überwachtes Lernen', 'en-US': 'If we want to predict label for data, we do supervised learning'}, {'de': 'Algorithmen des maschinellen Lernens lernen nur, was in den Daten vorhanden ist. Daher ist die Auswahl an Trainingsdaten sehr wichtig', 'en-US': 'Machine learning algorithms only learn what is available in the data. Therefore, the selection of training data is very important'}, {'de': 'Algorithmen des maschinellen Lernens benötigen oft große Mengen an Daten, damit sie gute Ergebnisse erzielen', 'en-US': 'Machine learning algorithms often require large amounts of data to produce good results'}]\n",
      "EvalML [{'de': 'Eine Webseite, die für neue Rezepte vorhersagt, ob sie dir “gefallen” oder “nicht gefallen”, ist eine Aufgabe für das überwachte Lernen', 'en-US': 'A website that predicts whether you will \"like\" or \"dislike\" new recipes is a task for supervised learning'}, {'de': 'Eine Webseite, die ähnliche Rezepte gruppiert, wäre eine Aufgabe für das Clustering', 'en-US': 'A website that groups similar recipes would be a task for clustering'}]\n",
      "Impact-1 [{'de': 'Der Algorithmus wurde falsch programmiert', 'en-US': 'The algorithm was programmed incorrectly'}, {'de': 'Die Trainingsdaten, mit denen der Algorithmus gelernt hat, enthielten keine oder kaum Bilder von dunkelhäutigen Menschen', 'en-US': 'The training data with which the algorithm learned contained no or hardly any images of dark-skinned people'}]\n"
     ]
    },
    {
     "name": "stdout",
     "output_type": "stream",
     "text": [
      "Impact-3 [{'de': 'Pflegepersonal', 'en-US': 'Care givers'}, {'de': 'LKW- und Taxifahrer', 'en-US': 'Truck and cab drivers'}, {'de': 'Wissenschaftler', 'en-US': 'Scientists'}, {'de': 'Angestellte bei einer Bank oder Versicherung', 'en-US': 'Employees at a bank or insurance company'}, {'de': 'Angestellte im Kundenservice', 'en-US': 'Customer service employees'}, {'de': 'Lehrer', 'en-US': 'Teacher'}]\n",
      "Impact-4 [{'de': 'KI kann die Erkennung von Tumoren auf Scans verbessern', 'en-US': 'AI can improve tumor detection on scans'}, {'de': 'KI-Methoden können immer die richtige Diagnose stellen', 'en-US': 'AI methods can always make the right diagnosis'}, {'de': 'KI kann helfen, bessere Diagnosen zu stellen', 'en-US': 'AI can help make better diagnoses'}, {'de': 'KI kann helfen, die richtigen Behandlungen zu empfehlen', 'en-US': 'AI can help recommend the right treatments'}, {'de': 'KI kann helfen, die Behandlungen besser an jeden einzelnen Patienten anzupassen', 'en-US': 'AI can help better tailor treatments to each individual patient'}, {'de': 'KI kann die medizinische Versorgung günstiger machen', 'en-US': 'AI can make medical care more affordable'}, {'de': 'KI-Methoden werden Ärzte komplett ersetzen', 'en-US': 'AI methods will completely replace doctors'}]\n",
      "LimitsML [{'de': 'Der Algorithmus würde nur Hunde dieser Rasse zuverlässig als Hunde erkennen', 'en-US': 'The algorithm would only reliably recognize dogs of this breed as dogs'}, {'de': 'Bei Hunden anderer Rassen ist es schwer zu sagen, ob er sie erkennen würde, aber sehr wahrscheinlich nicht so zuverlässig', 'en-US': \"With other breed dogs, it's hard to say if he would recognize them, but most likely not as reliably\"}, {'de': 'Der Algorithmus würde immer noch alle Hunderassen als Hunde erkennen, weil es keine Katzen sind', 'en-US': 'The algorithm would still recognize all dog breeds as dogs because they are not cats'}]\n",
      "ML-2 [{'de': 'Unser Ziel ist es, einen Algorithmus zu trainieren, der für neue Bilder das richtige Label vorhersagen kann. Also zu sagen, ob ein Bild einen Hund oder eine Katze zeigt', 'en-US': 'Our goal is to train an algorithm that can predict the correct label for new images. That is, to tell whether an image shows a dog or a cat'}, {'de': 'Für das Training nutzen wir Daten ohne Label', 'en-US': 'For training we use data without label'}, {'de': 'Die Daten, die wir für das Training benutzen, heißen Trainingsdaten', 'en-US': 'The data we use for training is called training data'}, {'de': 'Nach dem Training testen wir nochmal auf ein paar neuen Daten, wie gut die Vorhersagen des Algorithmus sind', 'en-US': 'After training, we test again on some new data how good the predictions of the algorithm are'}]\n",
      "ML-3 [{'de': 'Maschinelles Lernen ist ein Teilbereich der KI', 'en-US': 'Machine learning is a subfield of AI'}, {'de': 'Das maschinelle Lernen beschäftigt sich mit Programmen, die selbständig in großen Datenmengen Gesetzmäßigkeiten erkennen können', 'en-US': 'Machine learning deals with programs that can independently recognize regularities in large amounts of data'}, {'de': 'Das überwachte und das unüberwachte Lernen unterscheiden sich zum Beispiel daran, dass wir einmal Daten mit und einmal Daten ohne Label nutzen', 'en-US': 'One difference between supervised and unsupervised learning is whether we use labeled data'}, {'de': 'Beim unüberwachten Lernen wollen wir lernen, für neue Daten das richtige Label vorherzusagen', 'en-US': 'In unsupervised learning, we want to learn to predict the correct label for new data'}]\n",
      "ML-3 [{'de': 'Überwachtes Lernen', 'en-US': 'Supervised Learning'}, {'de': 'Unüberwachtes Lernen', 'en-US': 'Unsupervised Learning'}]\n",
      "ML-3 [{'de': 'Überwachtes Lernen', 'en-US': 'Supervised Learning'}, {'de': 'Unüberwachtes Lernen', 'en-US': 'Unsupervised Learning'}]\n",
      "ML-3 [{'de': 'Überwachtes Lernen', 'en-US': 'Supervised Learning'}, {'de': 'Unüberwachtes Lernen', 'en-US': 'Unsupervised Learning'}]\n",
      "ForVerschachtelung1 [{'de': 'Die innere for-Schleife sorgt dafür, dass wir 10 Liegestütz am Stück machen', 'en-US': 'The inner for-loop ensures that we do 10 push-ups in a row'}, {'de': 'In jeder Wiederholung der äußeren for-Schleife wird die innere for-Schleife einmal komplett ausgeführt', 'en-US': 'In each repetition of the outer for loop, the inner for loop is executed once completely'}, {'de': 'Insgesamt machen wir 10 Klimmzüge', 'en-US': 'In total we do 10 pull-ups'}, {'de': 'Insgesamt machen wir 50 Liegestütz', 'en-US': 'In total we do 50 push-ups'}]\n",
      "dataTrading [{'de': 'Onlinehandel', 'en-US': 'Online trade'}, {'de': 'Werbung', 'en-US': 'Advertising'}, {'de': 'Weitergabe von Daten', 'en-US': 'Data sharing'}, {'de': 'Spenden', 'en-US': 'Donations'}]\n",
      "fingerprinting [{'de': 'Köstliche Schokoladenkekse', 'en-US': 'Delicious chocolate cookies'}, {'de': 'Informationen, die in deinem Browser gespeichert werden', 'en-US': 'Information stored in your browser'}]\n",
      "fingerprinting [{'de': 'Der Nutzer ist in der Region Middlesbrough, in England', 'en-US': 'The user is in the region of Middlesbrough, in England'}, {'de': 'Der Nutzer befindet sich in der Region Sachsen, in Deutschland', 'en-US': 'The user is located in the region of Saxony, in Germany'}, {'de': 'Das Betriebssystem ist Windows. Die Person hat also von einem Laptop oder einem PC aus das Internet benutzt', 'en-US': 'The operating system is Windows. So the person has used the Internet from a laptop or a PC'}, {'de': 'Das Betriebssystem ist Android 9. Der Nutzer verwendet also ein Smartphone, aber kein iPhone', 'en-US': 'The operating system is Android 9, so the user uses a smartphone, but not an iPhone'}, {'de': 'Das Gerät ist auf Deutsch eingestellt', 'en-US': 'The device is set to German'}, {'de': 'Das Gerät ist auf Englisch eingestellt', 'en-US': 'The device is set to English'}, {'de': 'Der Nutzer hat vorher die Webseite google.com besucht', 'en-US': 'The user has previously visited the google.com website'}]\n",
      "phoneData [{'de': 'Berlin', 'en-US': 'Berlin'}, {'de': 'Hamburg', 'en-US': 'Hamburg'}, {'de': 'Erlangen', 'en-US': 'Erlangen'}, {'de': 'München', 'en-US': 'München'}]\n",
      "phoneData [{'de': 'Berlin', 'en-US': 'Berlin'}, {'de': 'Hamburg', 'en-US': 'Hamburg'}, {'de': 'München', 'en-US': 'München'}]\n",
      "phoneData [{'de': 'Teilnahme der Veranstaltung “Berlin in october - e-democracy-summit 09”', 'en-US': 'Participation of the event \"Berlin in october - e-democracy-summit 09\"'}, {'de': 'Besucht das Cafe “Mein Haus am See” in der Brunnenstraße in Berlin-Mitte', 'en-US': 'Visit the cafe \"Mein Haus am See\" in Brunnenstraße in Berlin-Mitte'}]\n",
      "phoneData [{'de': 'Berlin', 'en-US': 'Berlin'}, {'de': 'Telgte bei Münster', 'en-US': 'Telgte near Münster'}, {'de': 'Kiel', 'en-US': 'Kiel'}]\n",
      "phoneData [{'de': 'Ägypten', 'en-US': 'Egypt'}, {'de': 'Österreich', 'en-US': 'Austria'}, {'de': 'Dänemark', 'en-US': 'Denmark'}]\n",
      "privacy [{'de': 'Daten vor Diebstahl oder Manipulation zu schützen', 'en-US': 'Protect data from theft or tampering'}, {'de': 'Die Privatsphäre von Personen zu schützen', 'en-US': 'Protect the privacy of individuals'}]\n",
      "privacy [{'de': 'Name', 'en-US': 'Name'}, {'de': 'Geburtsdatum', 'en-US': 'Date of birth'}, {'de': 'Adresse', 'en-US': 'Address'}, {'de': 'E-Mail Adresse', 'en-US': 'E-mail address'}, {'de': 'Kontonummer', 'en-US': 'Account number'}, {'de': 'Personalausweisnummer', 'en-US': 'Identity card number'}, {'de': 'IP-Adresse', 'en-US': 'IP address'}, {'de': 'Schulzeugnisse', 'en-US': 'School reports'}]\n",
      "privacyLegally [{'de': 'Verstoß gegen Rechtmäßigkeit', 'en-US': 'Violation of legality'}, {'de': 'Verstoß gegen Verhältnismäßigkeit', 'en-US': 'Violation of proportionality'}, {'de': 'Verstoß gegen Zweckbindung', 'en-US': 'Violation of earmarking'}, {'de': 'Verstoß gegen Transparenz', 'en-US': 'Violation of transparency'}, {'de': 'Kein Verstoß, diese Vorgehen ist legal', 'en-US': 'No violation, this procedure is legal'}]\n",
      "privacyLegally [{'de': 'Verstoß gegen Rechtmäßigkeit', 'en-US': 'Violation of legality'}, {'de': 'Verstoß gegen Verhältnismäßigkeit', 'en-US': 'Violation of proportionality'}, {'de': 'Verstoß gegen Zweckbindung', 'en-US': 'Violation of earmarking'}, {'de': 'Verstoß gegen Transparenz', 'en-US': 'Violation of transparency'}, {'de': 'Kein Verstoß, diese Vorgehen ist legal', 'en-US': 'No violation, this procedure is legal'}]\n",
      "privacyLegally [{'de': 'Verstoß gegen Rechtmäßigkeit', 'en-US': 'Violation of legality'}, {'de': 'Verstoß gegen Verhältnismäßigkeit', 'en-US': 'Violation of proportionality'}, {'de': 'Verstoß gegen Zweckbindung', 'en-US': 'Violation of earmarking'}, {'de': 'Verstoß gegen Transparenz', 'en-US': 'Violation of transparency'}, {'de': 'Kein Verstoß, diese Vorgehen ist legal', 'en-US': 'No violation, this procedure is legal'}]\n",
      "privacyLegally [{'de': 'Verstoß gegen Rechtmäßigkeit', 'en-US': 'Violation of legality'}, {'de': 'Verstoß gegen Verhältnismäßigkeit', 'en-US': 'Violation of proportionality'}, {'de': 'Verstoß gegen Zweckbindung', 'en-US': 'Violation of earmarking'}, {'de': 'Verstoß gegen Transparenz', 'en-US': 'Violation of transparency'}, {'de': 'Kein Verstoß, diese Vorgehen ist legal', 'en-US': 'No violation, this procedure is legal'}]\n",
      "privacyLegally [{'de': 'Verstoß gegen Rechtmäßigkeit', 'en-US': 'Violation of legality'}, {'de': 'Verstoß gegen Verhältnismäßigkeit', 'en-US': 'Violation of proportionality'}, {'de': 'Verstoß gegen Zweckbindung', 'en-US': 'Violation of earmarking'}, {'de': 'Verstoß gegen Transparenz', 'en-US': 'Violation of transparency'}, {'de': 'Kein Verstoß, diese Vorgehen ist legal', 'en-US': 'No violation, this procedure is legal'}]\n",
      "serverLogs [{'de': 'Alle Anfragen kamen von verschiedenen Personen', 'en-US': 'All the requests came from different people'}, {'de': 'Zwei Anfragen kommen vom selben Nutzer. Dabei wurden jedoch unterschiedliche IP-Adressen benutzt, weil der Nutzer vermutlich an mehreren Geräten eingeloggt war', 'en-US': 'Two requests come from the same user. However, different IP addresses were used because the user was probably logged in on multiple devices'}, {'de': 'Alle Anfragen kamen von Nutzern, von denen wir den Namen kennen, weil sie sich vorher eingeloggt hatten', 'en-US': 'All requests came from users of whom we knew the name because they had logged in previously'}, {'de': 'Eine Anfrage kam von einem Nutzer, von dem wir den Namen nicht kennen', 'en-US': 'One request came from a user of whom we do not know the name'}, {'de': 'Eine Anfrage kam am 12.10.2020', 'en-US': 'A request came in on 10/12/2020'}, {'de': 'Alle Anfragen haben die gleiche Seite angefragt', 'en-US': 'All requests have requested the same page'}]\n",
      "serverLogs [{'de': 'Deine Postadresse', 'en-US': 'Your postal address'}, {'de': 'Deine IP-Adresse', 'en-US': 'Your IP address'}, {'de': 'Die grobe Region, aus der du kommst', 'en-US': 'The rough region you come from'}, {'de': 'Welche Seiten du  angefragt hast', 'en-US': 'What pages you have requested'}, {'de': 'Wann der Zugriff erfolgte', 'en-US': 'When the request took place'}, {'de': 'Dein Alter', 'en-US': 'Your age'}, {'de': 'Dein Name', 'en-US': 'Your name'}, {'de': 'Wenn du eingeloggt bist, deinen Benutzernamen', 'en-US': 'When you are logged in, your username'}, {'de': 'Wenn du eingeloggt bist, deine E-Mail-Adresse', 'en-US': 'If you are logged in, your email address'}]\n",
      "serverLogs [{'de': 'Es gab mehrere Anfragen mit einer deutschen IP-Adresse, also kommen viele Nutzer der Webseite aus Deutschland', 'en-US': 'There were several requests with a German IP address, so many users of the website come from Germany'}, {'de': 'Die meisten Nutzer waren eingeloggt, als sie eine Seite angeschaut haben, daher kennen wir ihre Benutzernamen', 'en-US': 'Most users were logged in when they viewed a page, so we know their usernames'}, {'de': 'Zwei Nutzer waren nicht eingeloggt. Wir kennen ihre Benutzernamen nicht', 'en-US': 'Two users were not logged in. We do not know their usernames'}, {'de': 'Die meisten Anfragen kommen von verschiedenen Nutzern', 'en-US': 'Most of the requests come from different users'}, {'de': 'Ein Nutzer hat mehr als eine Anfrage gestellt', 'en-US': 'One user has made more than one request'}, {'de': 'Die meisten Anfragen kommen Morgens', 'en-US': 'Most of the requests come in the morning'}, {'de': 'Die meisten Anfragen kommen Nachmittags', 'en-US': 'Most of the requests come in the afternoon'}, {'de': 'Alle Nutzer haben die gleiche Seite aufgerufen', 'en-US': 'All users have accessed the same page'}]\n"
     ]
    }
   ],
   "source": [
    "#KI_taskseries_ids = [\"AI-1-v2\", \"AI-2-v2\", \"AI-3-v2\", \"AI-4-v2\", \"ML-1\", \"ML-2\", \"ML-3\", \"Classification-1\", \"Clustering-1\", \"Classification-2\", \"Clustering-2\", \"LimitsML\", \"EvalML\", \"Impact-1\", \"Impact-2\", \"Impact-3\", \"Impact-4\", \"AIClosing\"]\n",
    "interaction_subtypes = ['multipleChoice', 'blockly', 'surveySlider', 'survey', 'inputField', 'freetext']\n",
    "\n",
    "columns = [\"taskId\", \"question\", \"answers\", \"minLabel\", \"maxLabel\", \"hints\", \"sampleSolution\"]\n",
    "task_df = pd.DataFrame(columns=columns)\n",
    "\n",
    "row_nr = 0\n",
    "for taskSerie in taskSeries:\n",
    "    sec_nr = 1\n",
    "    for section in taskSerie[\"sections\"]:\n",
    "        subsec_nr = 1\n",
    "        for subsection in section[\"subSections\"]:\n",
    "            for elem in subsection[\"elements\"]:\n",
    "                if(elem[\"subType\"] in interaction_subtypes):\n",
    "                    task_df = task_df.append({\"taskId\": str(taskSerie[\"_id\"])+\"-\"+str(sec_nr)+\"-\"+str(subsec_nr), \"question\": elem[\"question\"][\"de\"]}, ignore_index=True)\n",
    "                    #task_df = task_df.append({\"taskId\": str(taskSerie[\"_id\"])+\"-\"+str(sec_nr)+\"-\"+str(subsec_nr),'taskSeriesId': taskSerie[\"_id\"], \"sec_nr\": sec_nr, \"subsec_nr\": subsec_nr, \"subType\": elem[\"subType\"], \"question\": elem[\"question\"][\"de\"]}, ignore_index=True)\n",
    "                if(elem[\"subType\"] == \"surveySlider\"):\n",
    "                    task_df.at[row_nr, \"minLabel\"] = elem[\"specificData\"][\"minLabel\"][\"de\"]\n",
    "                    task_df.at[row_nr, \"maxLabel\"] = elem[\"specificData\"][\"maxLabel\"][\"de\"]\n",
    "                elif(elem[\"subType\"] == \"freetext\"):\n",
    "                    task_df.at[row_nr, \"sampleSolution\"] = elem[\"sampleSolution\"][\"de\"]\n",
    "                elif(elem[\"subType\"] == \"survey\"):\n",
    "                    task_df.at[row_nr, \"answers\"] = elem[\"specificData\"][\"answers\"]\n",
    "                elif(elem[\"subType\"] == \"multipleChoice\"):\n",
    "                    print(taskSerie[\"_id\"], elem[\"specificData\"][\"answers\"])\n",
    "                    task_df.at[row_nr, \"answers\"] = elem[\"specificData\"][\"answers\"]\n",
    "                    task_df.at[row_nr, \"sampleSolution\"] = elem[\"sampleSolution\"][\"universal\"]\n",
    "                    if(len(elem[\"hints\"]) > 0):\n",
    "                        task_df.at[row_nr, \"hints\"] = elem[\"hints\"][0][\"de\"]\n",
    "                elif(elem[\"subType\"] == \"inputField\"):\n",
    "                    task_df.at[row_nr, \"sampleSolution\"] = elem[\"sampleSolution\"][\"universal\"]\n",
    "                    if(len(elem[\"hints\"]) > 0):\n",
    "                        task_df.at[row_nr, \"hints\"] = elem[\"hints\"][0][\"de\"]\n",
    "                #print(row_nr)\n",
    "            row_nr += 1\n",
    "            subsec_nr +=1\n",
    "        sec_nr +=1\n",
    "#task_df[task_df[\"taskId\"] == \"AI-1-v2\"]"
   ]
  },
  {
   "cell_type": "code",
   "execution_count": 29,
   "metadata": {},
   "outputs": [
    {
     "data": {
      "text/html": [
       "<div>\n",
       "<style scoped>\n",
       "    .dataframe tbody tr th:only-of-type {\n",
       "        vertical-align: middle;\n",
       "    }\n",
       "\n",
       "    .dataframe tbody tr th {\n",
       "        vertical-align: top;\n",
       "    }\n",
       "\n",
       "    .dataframe thead th {\n",
       "        text-align: right;\n",
       "    }\n",
       "</style>\n",
       "<table border=\"1\" class=\"dataframe\">\n",
       "  <thead>\n",
       "    <tr style=\"text-align: right;\">\n",
       "      <th></th>\n",
       "      <th>pupilId</th>\n",
       "      <th>taskId</th>\n",
       "      <th>taskSeriesId</th>\n",
       "      <th>state</th>\n",
       "      <th>submitted</th>\n",
       "      <th>history</th>\n",
       "      <th>subType</th>\n",
       "      <th>evaluation</th>\n",
       "      <th>falseAttempts</th>\n",
       "      <th>hintsTaken</th>\n",
       "      <th>rating</th>\n",
       "      <th>teacherFeedback</th>\n",
       "      <th>question</th>\n",
       "      <th>answers</th>\n",
       "      <th>minLabel</th>\n",
       "      <th>maxLabel</th>\n",
       "      <th>hints</th>\n",
       "      <th>sampleSolution</th>\n",
       "    </tr>\n",
       "  </thead>\n",
       "  <tbody>\n",
       "    <tr>\n",
       "      <th>120</th>\n",
       "      <td>bniRycMi5bwrXjvGy</td>\n",
       "      <td>AI-2-v2-1-1</td>\n",
       "      <td>AI-2-v2</td>\n",
       "      <td>[True, True, False, True]</td>\n",
       "      <td>True</td>\n",
       "      <td>[]</td>\n",
       "      <td>multipleChoice</td>\n",
       "      <td>correct</td>\n",
       "      <td>NaN</td>\n",
       "      <td>NaN</td>\n",
       "      <td>NaN</td>\n",
       "      <td>NaN</td>\n",
       "      <td>Kannst du erkennen, wo KI überall drin steckt?...</td>\n",
       "      <td>NaN</td>\n",
       "      <td>NaN</td>\n",
       "      <td>NaN</td>\n",
       "      <td>NaN</td>\n",
       "      <td>NaN</td>\n",
       "    </tr>\n",
       "    <tr>\n",
       "      <th>121</th>\n",
       "      <td>sqBXKssFvS8pFYAMv</td>\n",
       "      <td>AI-2-v2-1-1</td>\n",
       "      <td>AI-2-v2</td>\n",
       "      <td>[True, True, False, True]</td>\n",
       "      <td>True</td>\n",
       "      <td>[]</td>\n",
       "      <td>multipleChoice</td>\n",
       "      <td>correct</td>\n",
       "      <td>NaN</td>\n",
       "      <td>NaN</td>\n",
       "      <td>NaN</td>\n",
       "      <td>NaN</td>\n",
       "      <td>Kannst du erkennen, wo KI überall drin steckt?...</td>\n",
       "      <td>NaN</td>\n",
       "      <td>NaN</td>\n",
       "      <td>NaN</td>\n",
       "      <td>NaN</td>\n",
       "      <td>NaN</td>\n",
       "    </tr>\n",
       "    <tr>\n",
       "      <th>122</th>\n",
       "      <td>Kd6FuRsrq6QvPrkKp</td>\n",
       "      <td>AI-2-v2-1-1</td>\n",
       "      <td>AI-2-v2</td>\n",
       "      <td>[True, True, False, True]</td>\n",
       "      <td>True</td>\n",
       "      <td>[]</td>\n",
       "      <td>multipleChoice</td>\n",
       "      <td>correct</td>\n",
       "      <td>NaN</td>\n",
       "      <td>1</td>\n",
       "      <td>NaN</td>\n",
       "      <td>NaN</td>\n",
       "      <td>Kannst du erkennen, wo KI überall drin steckt?...</td>\n",
       "      <td>NaN</td>\n",
       "      <td>NaN</td>\n",
       "      <td>NaN</td>\n",
       "      <td>NaN</td>\n",
       "      <td>NaN</td>\n",
       "    </tr>\n",
       "    <tr>\n",
       "      <th>123</th>\n",
       "      <td>6bBwnX2mwAp2NAwNR</td>\n",
       "      <td>AI-2-v2-1-1</td>\n",
       "      <td>AI-2-v2</td>\n",
       "      <td>[True, True, False, True]</td>\n",
       "      <td>True</td>\n",
       "      <td>[]</td>\n",
       "      <td>multipleChoice</td>\n",
       "      <td>correct</td>\n",
       "      <td>NaN</td>\n",
       "      <td>NaN</td>\n",
       "      <td>NaN</td>\n",
       "      <td>NaN</td>\n",
       "      <td>Kannst du erkennen, wo KI überall drin steckt?...</td>\n",
       "      <td>NaN</td>\n",
       "      <td>NaN</td>\n",
       "      <td>NaN</td>\n",
       "      <td>NaN</td>\n",
       "      <td>NaN</td>\n",
       "    </tr>\n",
       "    <tr>\n",
       "      <th>124</th>\n",
       "      <td>ZTvPk2i77LDC8pFmu</td>\n",
       "      <td>AI-2-v2-1-1</td>\n",
       "      <td>AI-2-v2</td>\n",
       "      <td>[True, True, False, True]</td>\n",
       "      <td>True</td>\n",
       "      <td>[]</td>\n",
       "      <td>multipleChoice</td>\n",
       "      <td>correct</td>\n",
       "      <td>[[False, False, False, True], [False, False, F...</td>\n",
       "      <td>1</td>\n",
       "      <td>NaN</td>\n",
       "      <td>NaN</td>\n",
       "      <td>Kannst du erkennen, wo KI überall drin steckt?...</td>\n",
       "      <td>NaN</td>\n",
       "      <td>NaN</td>\n",
       "      <td>NaN</td>\n",
       "      <td>NaN</td>\n",
       "      <td>NaN</td>\n",
       "    </tr>\n",
       "    <tr>\n",
       "      <th>...</th>\n",
       "      <td>...</td>\n",
       "      <td>...</td>\n",
       "      <td>...</td>\n",
       "      <td>...</td>\n",
       "      <td>...</td>\n",
       "      <td>...</td>\n",
       "      <td>...</td>\n",
       "      <td>...</td>\n",
       "      <td>...</td>\n",
       "      <td>...</td>\n",
       "      <td>...</td>\n",
       "      <td>...</td>\n",
       "      <td>...</td>\n",
       "      <td>...</td>\n",
       "      <td>...</td>\n",
       "      <td>...</td>\n",
       "      <td>...</td>\n",
       "      <td>...</td>\n",
       "    </tr>\n",
       "    <tr>\n",
       "      <th>1557</th>\n",
       "      <td>Qmv6K9aQsAEKfHsK9</td>\n",
       "      <td>Algorithmic-1-v2-2-1</td>\n",
       "      <td>Algorithmic-1-v2</td>\n",
       "      <td>[True, False, True, False]</td>\n",
       "      <td>True</td>\n",
       "      <td>[]</td>\n",
       "      <td>multipleChoice</td>\n",
       "      <td>correct</td>\n",
       "      <td>NaN</td>\n",
       "      <td>NaN</td>\n",
       "      <td>NaN</td>\n",
       "      <td>NaN</td>\n",
       "      <td>Was waren die Anweisungen in den bisherigen Au...</td>\n",
       "      <td>[{'de': 'Gehe Vorwärts', 'en-US': 'Move forwar...</td>\n",
       "      <td>NaN</td>\n",
       "      <td>NaN</td>\n",
       "      <td>Wie hießen die Blöcke, die du bisher genutzt h...</td>\n",
       "      <td>[True, False, True, False]</td>\n",
       "    </tr>\n",
       "    <tr>\n",
       "      <th>1558</th>\n",
       "      <td>5GPMWTgF29JDyeXoG</td>\n",
       "      <td>AlgorithmicAlltag-1-v2-1-1</td>\n",
       "      <td>AlgorithmicAlltag-1-v2</td>\n",
       "      <td>[False, True]</td>\n",
       "      <td>True</td>\n",
       "      <td>[]</td>\n",
       "      <td>multipleChoice</td>\n",
       "      <td>correct</td>\n",
       "      <td>NaN</td>\n",
       "      <td>NaN</td>\n",
       "      <td>NaN</td>\n",
       "      <td>NaN</td>\n",
       "      <td>Was war nochmal ein Programm?</td>\n",
       "      <td>[{'de': 'Ein Programm besteht aus Blöcken, die...</td>\n",
       "      <td>NaN</td>\n",
       "      <td>NaN</td>\n",
       "      <td>Programme können mehr als nur Fahrzeuge steuern.</td>\n",
       "      <td>[False, True]</td>\n",
       "    </tr>\n",
       "    <tr>\n",
       "      <th>1561</th>\n",
       "      <td>5GPMWTgF29JDyeXoG</td>\n",
       "      <td>AlgorithmicAlltag-1-v2-1-4</td>\n",
       "      <td>AlgorithmicAlltag-1-v2</td>\n",
       "      <td>[True, False, True, True]</td>\n",
       "      <td>True</td>\n",
       "      <td>[]</td>\n",
       "      <td>multipleChoice</td>\n",
       "      <td>false</td>\n",
       "      <td>[[False, True, True, False], [False, True, Tru...</td>\n",
       "      <td>1</td>\n",
       "      <td>NaN</td>\n",
       "      <td>NaN</td>\n",
       "      <td>Welche Aussagen über Programme und Algorithmen...</td>\n",
       "      <td>[{'de': 'Sie bestehen aus einzelnen Schritten,...</td>\n",
       "      <td>NaN</td>\n",
       "      <td>NaN</td>\n",
       "      <td>Schau doch nochmal im Text nach Hinweisen.</td>\n",
       "      <td>[True, False, True, True]</td>\n",
       "    </tr>\n",
       "    <tr>\n",
       "      <th>1564</th>\n",
       "      <td>5GPMWTgF29JDyeXoG</td>\n",
       "      <td>Algorithmic-2-v2-1-2</td>\n",
       "      <td>Algorithmic-2-v2</td>\n",
       "      <td>[False, True]</td>\n",
       "      <td>True</td>\n",
       "      <td>[]</td>\n",
       "      <td>multipleChoice</td>\n",
       "      <td>correct</td>\n",
       "      <td>NaN</td>\n",
       "      <td>NaN</td>\n",
       "      <td>NaN</td>\n",
       "      <td>NaN</td>\n",
       "      <td>Was passiert, wenn du dein Programm mehrfach u...</td>\n",
       "      <td>[{'de': 'Es könnte zu unterschiedlichen Ergebn...</td>\n",
       "      <td>NaN</td>\n",
       "      <td>NaN</td>\n",
       "      <td>Wenn du zweimal genau das Gleiche machst, blei...</td>\n",
       "      <td>[False, True]</td>\n",
       "    </tr>\n",
       "    <tr>\n",
       "      <th>1566</th>\n",
       "      <td>5GPMWTgF29JDyeXoG</td>\n",
       "      <td>Algorithmic-3-v2-1-2</td>\n",
       "      <td>Algorithmic-3-v2</td>\n",
       "      <td>[True, True, False, False, False]</td>\n",
       "      <td>True</td>\n",
       "      <td>[]</td>\n",
       "      <td>multipleChoice</td>\n",
       "      <td>correct</td>\n",
       "      <td>NaN</td>\n",
       "      <td>NaN</td>\n",
       "      <td>NaN</td>\n",
       "      <td>NaN</td>\n",
       "      <td>Nenne alle Punkte, die vom Fahrzeug mit diesem...</td>\n",
       "      <td>[{'universal': ''}, {'universal': ''}, {'unive...</td>\n",
       "      <td>NaN</td>\n",
       "      <td>NaN</td>\n",
       "      <td>Überlege dir, welche Schritte das Fahrzeug mac...</td>\n",
       "      <td>[True, True, False, False, False]</td>\n",
       "    </tr>\n",
       "  </tbody>\n",
       "</table>\n",
       "<p>575 rows × 18 columns</p>\n",
       "</div>"
      ],
      "text/plain": [
       "                pupilId                      taskId            taskSeriesId  \\\n",
       "120   bniRycMi5bwrXjvGy                 AI-2-v2-1-1                 AI-2-v2   \n",
       "121   sqBXKssFvS8pFYAMv                 AI-2-v2-1-1                 AI-2-v2   \n",
       "122   Kd6FuRsrq6QvPrkKp                 AI-2-v2-1-1                 AI-2-v2   \n",
       "123   6bBwnX2mwAp2NAwNR                 AI-2-v2-1-1                 AI-2-v2   \n",
       "124   ZTvPk2i77LDC8pFmu                 AI-2-v2-1-1                 AI-2-v2   \n",
       "...                 ...                         ...                     ...   \n",
       "1557  Qmv6K9aQsAEKfHsK9        Algorithmic-1-v2-2-1        Algorithmic-1-v2   \n",
       "1558  5GPMWTgF29JDyeXoG  AlgorithmicAlltag-1-v2-1-1  AlgorithmicAlltag-1-v2   \n",
       "1561  5GPMWTgF29JDyeXoG  AlgorithmicAlltag-1-v2-1-4  AlgorithmicAlltag-1-v2   \n",
       "1564  5GPMWTgF29JDyeXoG        Algorithmic-2-v2-1-2        Algorithmic-2-v2   \n",
       "1566  5GPMWTgF29JDyeXoG        Algorithmic-3-v2-1-2        Algorithmic-3-v2   \n",
       "\n",
       "                                  state submitted history         subType  \\\n",
       "120           [True, True, False, True]      True      []  multipleChoice   \n",
       "121           [True, True, False, True]      True      []  multipleChoice   \n",
       "122           [True, True, False, True]      True      []  multipleChoice   \n",
       "123           [True, True, False, True]      True      []  multipleChoice   \n",
       "124           [True, True, False, True]      True      []  multipleChoice   \n",
       "...                                 ...       ...     ...             ...   \n",
       "1557         [True, False, True, False]      True      []  multipleChoice   \n",
       "1558                      [False, True]      True      []  multipleChoice   \n",
       "1561          [True, False, True, True]      True      []  multipleChoice   \n",
       "1564                      [False, True]      True      []  multipleChoice   \n",
       "1566  [True, True, False, False, False]      True      []  multipleChoice   \n",
       "\n",
       "     evaluation                                      falseAttempts hintsTaken  \\\n",
       "120     correct                                                NaN        NaN   \n",
       "121     correct                                                NaN        NaN   \n",
       "122     correct                                                NaN          1   \n",
       "123     correct                                                NaN        NaN   \n",
       "124     correct  [[False, False, False, True], [False, False, F...          1   \n",
       "...         ...                                                ...        ...   \n",
       "1557    correct                                                NaN        NaN   \n",
       "1558    correct                                                NaN        NaN   \n",
       "1561      false  [[False, True, True, False], [False, True, Tru...          1   \n",
       "1564    correct                                                NaN        NaN   \n",
       "1566    correct                                                NaN        NaN   \n",
       "\n",
       "     rating teacherFeedback  \\\n",
       "120     NaN             NaN   \n",
       "121     NaN             NaN   \n",
       "122     NaN             NaN   \n",
       "123     NaN             NaN   \n",
       "124     NaN             NaN   \n",
       "...     ...             ...   \n",
       "1557    NaN             NaN   \n",
       "1558    NaN             NaN   \n",
       "1561    NaN             NaN   \n",
       "1564    NaN             NaN   \n",
       "1566    NaN             NaN   \n",
       "\n",
       "                                               question  \\\n",
       "120   Kannst du erkennen, wo KI überall drin steckt?...   \n",
       "121   Kannst du erkennen, wo KI überall drin steckt?...   \n",
       "122   Kannst du erkennen, wo KI überall drin steckt?...   \n",
       "123   Kannst du erkennen, wo KI überall drin steckt?...   \n",
       "124   Kannst du erkennen, wo KI überall drin steckt?...   \n",
       "...                                                 ...   \n",
       "1557  Was waren die Anweisungen in den bisherigen Au...   \n",
       "1558                      Was war nochmal ein Programm?   \n",
       "1561  Welche Aussagen über Programme und Algorithmen...   \n",
       "1564  Was passiert, wenn du dein Programm mehrfach u...   \n",
       "1566  Nenne alle Punkte, die vom Fahrzeug mit diesem...   \n",
       "\n",
       "                                                answers minLabel maxLabel  \\\n",
       "120                                                 NaN      NaN      NaN   \n",
       "121                                                 NaN      NaN      NaN   \n",
       "122                                                 NaN      NaN      NaN   \n",
       "123                                                 NaN      NaN      NaN   \n",
       "124                                                 NaN      NaN      NaN   \n",
       "...                                                 ...      ...      ...   \n",
       "1557  [{'de': 'Gehe Vorwärts', 'en-US': 'Move forwar...      NaN      NaN   \n",
       "1558  [{'de': 'Ein Programm besteht aus Blöcken, die...      NaN      NaN   \n",
       "1561  [{'de': 'Sie bestehen aus einzelnen Schritten,...      NaN      NaN   \n",
       "1564  [{'de': 'Es könnte zu unterschiedlichen Ergebn...      NaN      NaN   \n",
       "1566  [{'universal': ''}, {'universal': ''}, {'unive...      NaN      NaN   \n",
       "\n",
       "                                                  hints  \\\n",
       "120                                                 NaN   \n",
       "121                                                 NaN   \n",
       "122                                                 NaN   \n",
       "123                                                 NaN   \n",
       "124                                                 NaN   \n",
       "...                                                 ...   \n",
       "1557  Wie hießen die Blöcke, die du bisher genutzt h...   \n",
       "1558   Programme können mehr als nur Fahrzeuge steuern.   \n",
       "1561         Schau doch nochmal im Text nach Hinweisen.   \n",
       "1564  Wenn du zweimal genau das Gleiche machst, blei...   \n",
       "1566  Überlege dir, welche Schritte das Fahrzeug mac...   \n",
       "\n",
       "                         sampleSolution  \n",
       "120                                 NaN  \n",
       "121                                 NaN  \n",
       "122                                 NaN  \n",
       "123                                 NaN  \n",
       "124                                 NaN  \n",
       "...                                 ...  \n",
       "1557         [True, False, True, False]  \n",
       "1558                      [False, True]  \n",
       "1561          [True, False, True, True]  \n",
       "1564                      [False, True]  \n",
       "1566  [True, True, False, False, False]  \n",
       "\n",
       "[575 rows x 18 columns]"
      ]
     },
     "execution_count": 29,
     "metadata": {},
     "output_type": "execute_result"
    }
   ],
   "source": [
    "df[df[\"subType\"] == \"multipleChoice\"]"
   ]
  },
  {
   "cell_type": "code",
   "execution_count": 30,
   "metadata": {},
   "outputs": [],
   "source": [
    "#df.join(task_df.set_index('key'), on='key')\n",
    "#new_df = df.join(task_df, on='taskId')\n",
    "df = pd.merge(pupil_df, task_df, on='taskId')\n"
   ]
  },
  {
   "cell_type": "code",
   "execution_count": 18,
   "metadata": {},
   "outputs": [
    {
     "name": "stdout",
     "output_type": "stream",
     "text": [
      "Index(['pupilId', 'taskId', 'taskSeriesId', 'state', 'submitted', 'history',\n",
      "       'subType', 'evaluation', 'falseAttempts', 'hintsTaken', 'rating',\n",
      "       'teacherFeedback', 'question', 'answers', 'minLabel', 'maxLabel',\n",
      "       'hints', 'sampleSolution'],\n",
      "      dtype='object')\n"
     ]
    }
   ],
   "source": [
    "print(df.keys())\n",
    "#print(df.iloc[0])\n",
    "#df[df[\"subType\"]==\"multipleChoice\"]"
   ]
  },
  {
   "cell_type": "markdown",
   "metadata": {},
   "source": [
    "# Itemanalyse\n",
    "## Surveyslider"
   ]
  },
  {
   "cell_type": "code",
   "execution_count": 9,
   "metadata": {},
   "outputs": [
    {
     "name": "stdout",
     "output_type": "stream",
     "text": [
      "AI-1-v2-1-1: Wie gut weißt du schon, was KI ist?\n",
      "min: 5\n",
      "max: 100\n",
      "median: 71.5\n",
      "mean: 69.0\n",
      "std: 21.238571587489663\n"
     ]
    },
    {
     "data": {
      "image/png": "[encoded data removed]",
      "text/plain": [
       "<Figure size 432x288 with 1 Axes>"
      ]
     },
     "metadata": {
      "needs_background": "light"
     },
     "output_type": "display_data"
    },
    {
     "name": "stdout",
     "output_type": "stream",
     "text": [
      "AI-4-v2-1-4: Wie gut hast du jetzt verstanden, was KI ist?\n",
      "min: 40\n",
      "max: 100\n",
      "median: 86.0\n",
      "mean: 79.06451612903226\n",
      "std: 19.131014058975836\n"
     ]
    },
    {
     "data": {
      "image/png": "[encoded data removed]",
      "text/plain": [
       "<Figure size 432x288 with 1 Axes>"
      ]
     },
     "metadata": {
      "needs_background": "light"
     },
     "output_type": "display_data"
    },
    {
     "name": "stdout",
     "output_type": "stream",
     "text": [
      "AI-4-v2-1-5: Wie gut hast du den Unterschied zwischen spezifischer und allgemeiner KI verstanden?\n",
      "min: 33\n",
      "max: 100\n",
      "median: 88.0\n",
      "mean: 78.96774193548387\n",
      "std: 23.08749137659863\n"
     ]
    },
    {
     "data": {
      "image/png": "[encoded data removed]",
      "text/plain": [
       "<Figure size 432x288 with 1 Axes>"
      ]
     },
     "metadata": {
      "needs_background": "light"
     },
     "output_type": "display_data"
    },
    {
     "name": "stdout",
     "output_type": "stream",
     "text": [
      "ML-2-1-1: Wie gut weißt du schon, was Maschinelles Lernen ist?\n",
      "min: 47\n",
      "max: 100\n",
      "median: 68.5\n",
      "mean: 70.21428571428571\n",
      "std: 17.531679564713368\n"
     ]
    },
    {
     "data": {
      "image/png": "[encoded data removed]",
      "text/plain": [
       "<Figure size 432x288 with 1 Axes>"
      ]
     },
     "metadata": {
      "needs_background": "light"
     },
     "output_type": "display_data"
    },
    {
     "name": "stdout",
     "output_type": "stream",
     "text": [
      "EvalML-1-1: Wie gut hast du verstanden, was KI ist? Sei dabei so ehrlich es geht damit wir diese Inhalte noch verbessern können.\n",
      "min: 31\n",
      "max: 100\n",
      "median: 77.5\n",
      "mean: 71.5\n",
      "std: 24.339742745622374\n"
     ]
    },
    {
     "data": {
      "image/png": "[encoded data removed]",
      "text/plain": [
       "<Figure size 432x288 with 1 Axes>"
      ]
     },
     "metadata": {
      "needs_background": "light"
     },
     "output_type": "display_data"
    },
    {
     "name": "stdout",
     "output_type": "stream",
     "text": [
      "EvalML-1-2: Wie gut hast du den Unterschied zwischen spezifischer und allgemeiner KI verstanden?\n",
      "min: 1\n",
      "max: 100\n",
      "median: 87.0\n",
      "mean: 73.78571428571429\n",
      "std: 32.232755846352156\n"
     ]
    },
    {
     "data": {
      "image/png": "[encoded data removed]",
      "text/plain": [
       "<Figure size 432x288 with 1 Axes>"
      ]
     },
     "metadata": {
      "needs_background": "light"
     },
     "output_type": "display_data"
    },
    {
     "name": "stdout",
     "output_type": "stream",
     "text": [
      "EvalML-1-5: Wie gut hast du verstanden, was maschinelles Lernen ist? Sei dabei so ehrlich es geht, damit wir diese Inhalte noch verbessern können.\n",
      "min: 24\n",
      "max: 100\n",
      "median: 74.5\n",
      "mean: 69.78571428571429\n",
      "std: 23.855909029093727\n"
     ]
    },
    {
     "data": {
      "image/png": "[encoded data removed]",
      "text/plain": [
       "<Figure size 432x288 with 1 Axes>"
      ]
     },
     "metadata": {
      "needs_background": "light"
     },
     "output_type": "display_data"
    },
    {
     "name": "stdout",
     "output_type": "stream",
     "text": [
      "EvalML-1-6: Wie sehr hast du das Gefühl, verstanden zu haben, was der Unterschied zwischen überwachtem und unüberwachtem Lernen ist?\n",
      "min: 37\n",
      "max: 100\n",
      "median: 79.5\n",
      "mean: 76.21428571428571\n",
      "std: 22.112226243654195\n"
     ]
    },
    {
     "data": {
      "image/png": "[encoded data removed]",
      "text/plain": [
       "<Figure size 432x288 with 1 Axes>"
      ]
     },
     "metadata": {
      "needs_background": "light"
     },
     "output_type": "display_data"
    },
    {
     "name": "stdout",
     "output_type": "stream",
     "text": [
      "Impact-2-1-2: Ich würde gerne in einem Land leben, dass den Alltag aller Bürger mit KI überwacht.\n",
      "min: 1\n",
      "max: 100\n",
      "median: 16.5\n",
      "mean: 21.181818181818183\n",
      "std: 23.613225437970463\n"
     ]
    },
    {
     "data": {
      "image/png": "[encoded data removed]",
      "text/plain": [
       "<Figure size 432x288 with 1 Axes>"
      ]
     },
     "metadata": {
      "needs_background": "light"
     },
     "output_type": "display_data"
    },
    {
     "name": "stdout",
     "output_type": "stream",
     "text": [
      "Impact-2-1-3: Die Überwachung des Alltags aller Bürger sehe ich sehr kritisch.\n",
      "min: 15\n",
      "max: 100\n",
      "median: 80.5\n",
      "mean: 78.13636363636364\n",
      "std: 22.476009335978567\n"
     ]
    },
    {
     "data": {
      "image/png": "[encoded data removed]",
      "text/plain": [
       "<Figure size 432x288 with 1 Axes>"
      ]
     },
     "metadata": {
      "needs_background": "light"
     },
     "output_type": "display_data"
    },
    {
     "name": "stdout",
     "output_type": "stream",
     "text": [
      "Impact-2-1-4: Mich würde es stören, mittels KI-Technologien überwacht zu werden.\n",
      "min: 15\n",
      "max: 100\n",
      "median: 83.0\n",
      "mean: 77.72727272727273\n",
      "std: 24.765917090845825\n"
     ]
    },
    {
     "data": {
      "image/png": "[encoded data removed]",
      "text/plain": [
       "<Figure size 432x288 with 1 Axes>"
      ]
     },
     "metadata": {
      "needs_background": "light"
     },
     "output_type": "display_data"
    },
    {
     "name": "stdout",
     "output_type": "stream",
     "text": [
      "Impact-2-1-5: Die Überwachung durch die Regierung bietet viele Vorteile für die Gesellschaft.\n",
      "min: 1\n",
      "max: 85\n",
      "median: 39.5\n",
      "mean: 38.13636363636363\n",
      "std: 27.18244436001445\n"
     ]
    },
    {
     "data": {
      "image/png": "[encoded data removed]",
      "text/plain": [
       "<Figure size 432x288 with 1 Axes>"
      ]
     },
     "metadata": {
      "needs_background": "light"
     },
     "output_type": "display_data"
    },
    {
     "name": "stdout",
     "output_type": "stream",
     "text": [
      "Impact-2-1-6: Ich würde nicht in einem Land leben wollen, dass meinen Alltag überwacht.\n",
      "min: 1\n",
      "max: 100\n",
      "median: 84.0\n",
      "mean: 75.95454545454545\n",
      "std: 28.36744826754992\n"
     ]
    },
    {
     "data": {
      "image/png": "[encoded data removed]",
      "text/plain": [
       "<Figure size 432x288 with 1 Axes>"
      ]
     },
     "metadata": {
      "needs_background": "light"
     },
     "output_type": "display_data"
    },
    {
     "name": "stdout",
     "output_type": "stream",
     "text": [
      "Impact-2-1-7: In einem Land mit Überwachung würde ich mich sehr sicher fühlen.\n",
      "min: 1\n",
      "max: 83\n",
      "median: 41.5\n",
      "mean: 39.81818181818182\n",
      "std: 26.865868528206786\n"
     ]
    },
    {
     "data": {
      "image/png": "[encoded data removed]",
      "text/plain": [
       "<Figure size 432x288 with 1 Axes>"
      ]
     },
     "metadata": {
      "needs_background": "light"
     },
     "output_type": "display_data"
    },
    {
     "name": "stdout",
     "output_type": "stream",
     "text": [
      "AIClosing-1-1: KI wird das Leben der Menschen verbessern.\n",
      "min: 1\n",
      "max: 100\n",
      "median: 73.0\n",
      "mean: 67.26315789473684\n",
      "std: 30.28722155420804\n"
     ]
    },
    {
     "data": {
      "image/png": "[encoded data removed]",
      "text/plain": [
       "<Figure size 432x288 with 1 Axes>"
      ]
     },
     "metadata": {
      "needs_background": "light"
     },
     "output_type": "display_data"
    },
    {
     "name": "stdout",
     "output_type": "stream",
     "text": [
      "AIClosing-1-2: Bei der Entwicklung von KI gibt es Risiken, die bedacht werden müssen\n",
      "min: 55\n",
      "max: 100\n",
      "median: 71.0\n",
      "mean: 76.57894736842105\n",
      "std: 17.014098041440302\n"
     ]
    },
    {
     "data": {
      "image/png": "[encoded data removed]",
      "text/plain": [
       "<Figure size 432x288 with 1 Axes>"
      ]
     },
     "metadata": {
      "needs_background": "light"
     },
     "output_type": "display_data"
    },
    {
     "name": "stdout",
     "output_type": "stream",
     "text": [
      "AIClosing-1-3: KI birgt eine Gefahr für die Menschheit.\n",
      "min: 21\n",
      "max: 100\n",
      "median: 54.0\n",
      "mean: 54.0\n",
      "std: 22.698507048310958\n"
     ]
    },
    {
     "data": {
      "image/png": "[encoded data removed]",
      "text/plain": [
       "<Figure size 432x288 with 1 Axes>"
      ]
     },
     "metadata": {
      "needs_background": "light"
     },
     "output_type": "display_data"
    },
    {
     "name": "stdout",
     "output_type": "stream",
     "text": [
      "AIClosing-1-4: Die Vorteile durch die Entwicklung von KI überwiegen die Risiken.\n",
      "min: 1\n",
      "max: 100\n",
      "median: 54.0\n",
      "mean: 56.89473684210526\n",
      "std: 29.542614675606238\n"
     ]
    },
    {
     "data": {
      "image/png": "[encoded data removed]",
      "text/plain": [
       "<Figure size 432x288 with 1 Axes>"
      ]
     },
     "metadata": {
      "needs_background": "light"
     },
     "output_type": "display_data"
    },
    {
     "name": "stdout",
     "output_type": "stream",
     "text": [
      "AIClosing-1-6: Hattest du Spaß?\n",
      "min: 36\n",
      "max: 100\n",
      "median: 67.0\n",
      "mean: 69.6842105263158\n",
      "std: 20.0860720997825\n"
     ]
    },
    {
     "data": {
      "image/png": "[encoded data removed]",
      "text/plain": [
       "<Figure size 432x288 with 1 Axes>"
      ]
     },
     "metadata": {
      "needs_background": "light"
     },
     "output_type": "display_data"
    },
    {
     "name": "stdout",
     "output_type": "stream",
     "text": [
      "AIClosing-1-7: Hast du etwas gelernt?\n",
      "min: 1\n",
      "max: 100\n",
      "median: 75.0\n",
      "mean: 75.94736842105263\n",
      "std: 23.02045873712851\n"
     ]
    },
    {
     "data": {
      "image/png": "[encoded data removed]",
      "text/plain": [
       "<Figure size 432x288 with 1 Axes>"
      ]
     },
     "metadata": {
      "needs_background": "light"
     },
     "output_type": "display_data"
    }
   ],
   "source": [
    "surveysliders = df[df[\"subType\"]==\"surveySlider\"]\n",
    "#surveysliders_by_taskId = df[df[\"subType\"]==\"surveySlider\"].groupby(\"taskId\")\n",
    "\n",
    "for i in surveysliders[\"taskId\"].unique():\n",
    "    print(surveysliders[surveysliders[\"taskId\"] == i][\"taskId\"].unique()[0] + \": \" + surveysliders[surveysliders[\"taskId\"] == i][\"question\"].unique()[0])\n",
    "    print(\"min: \" + str(surveysliders[surveysliders[\"taskId\"] == i][\"state\"].min()))\n",
    "    print(\"max: \" + str(surveysliders[surveysliders[\"taskId\"] == i][\"state\"].max()))\n",
    "    print(\"median: \" + str(surveysliders[surveysliders[\"taskId\"] == i][\"state\"].median()))\n",
    "    print(\"mean: \" + str(surveysliders[surveysliders[\"taskId\"] == i][\"state\"].mean()))\n",
    "    print(\"std: \" + str(surveysliders[surveysliders[\"taskId\"] == i][\"state\"].std()))\n",
    "    ax = sns.boxplot(x=surveysliders[surveysliders[\"taskId\"] == i][\"state\"])\n",
    "    plt.show()\n"
   ]
  },
  {
   "cell_type": "markdown",
   "metadata": {},
   "source": [
    "## MC\n",
    "### Barplot"
   ]
  },
  {
   "cell_type": "code",
   "execution_count": 26,
   "metadata": {},
   "outputs": [
    {
     "data": {
      "text/html": [
       "<div>\n",
       "<style scoped>\n",
       "    .dataframe tbody tr th:only-of-type {\n",
       "        vertical-align: middle;\n",
       "    }\n",
       "\n",
       "    .dataframe tbody tr th {\n",
       "        vertical-align: top;\n",
       "    }\n",
       "\n",
       "    .dataframe thead th {\n",
       "        text-align: right;\n",
       "    }\n",
       "</style>\n",
       "<table border=\"1\" class=\"dataframe\">\n",
       "  <thead>\n",
       "    <tr style=\"text-align: right;\">\n",
       "      <th></th>\n",
       "      <th>pupilId</th>\n",
       "      <th>taskId</th>\n",
       "      <th>taskSeriesId</th>\n",
       "      <th>state</th>\n",
       "      <th>submitted</th>\n",
       "      <th>history</th>\n",
       "      <th>subType</th>\n",
       "      <th>evaluation</th>\n",
       "      <th>falseAttempts</th>\n",
       "      <th>hintsTaken</th>\n",
       "      <th>rating</th>\n",
       "      <th>teacherFeedback</th>\n",
       "      <th>question</th>\n",
       "      <th>answers</th>\n",
       "      <th>minLabel</th>\n",
       "      <th>maxLabel</th>\n",
       "      <th>hints</th>\n",
       "      <th>sampleSolution</th>\n",
       "    </tr>\n",
       "  </thead>\n",
       "  <tbody>\n",
       "    <tr>\n",
       "      <th>120</th>\n",
       "      <td>bniRycMi5bwrXjvGy</td>\n",
       "      <td>AI-2-v2-1-1</td>\n",
       "      <td>AI-2-v2</td>\n",
       "      <td>[True, True, False, True]</td>\n",
       "      <td>True</td>\n",
       "      <td>[]</td>\n",
       "      <td>multipleChoice</td>\n",
       "      <td>correct</td>\n",
       "      <td>NaN</td>\n",
       "      <td>NaN</td>\n",
       "      <td>NaN</td>\n",
       "      <td>NaN</td>\n",
       "      <td>Kannst du erkennen, wo KI überall drin steckt?...</td>\n",
       "      <td>NaN</td>\n",
       "      <td>NaN</td>\n",
       "      <td>NaN</td>\n",
       "      <td>NaN</td>\n",
       "      <td>NaN</td>\n",
       "    </tr>\n",
       "    <tr>\n",
       "      <th>121</th>\n",
       "      <td>sqBXKssFvS8pFYAMv</td>\n",
       "      <td>AI-2-v2-1-1</td>\n",
       "      <td>AI-2-v2</td>\n",
       "      <td>[True, True, False, True]</td>\n",
       "      <td>True</td>\n",
       "      <td>[]</td>\n",
       "      <td>multipleChoice</td>\n",
       "      <td>correct</td>\n",
       "      <td>NaN</td>\n",
       "      <td>NaN</td>\n",
       "      <td>NaN</td>\n",
       "      <td>NaN</td>\n",
       "      <td>Kannst du erkennen, wo KI überall drin steckt?...</td>\n",
       "      <td>NaN</td>\n",
       "      <td>NaN</td>\n",
       "      <td>NaN</td>\n",
       "      <td>NaN</td>\n",
       "      <td>NaN</td>\n",
       "    </tr>\n",
       "    <tr>\n",
       "      <th>122</th>\n",
       "      <td>Kd6FuRsrq6QvPrkKp</td>\n",
       "      <td>AI-2-v2-1-1</td>\n",
       "      <td>AI-2-v2</td>\n",
       "      <td>[True, True, False, True]</td>\n",
       "      <td>True</td>\n",
       "      <td>[]</td>\n",
       "      <td>multipleChoice</td>\n",
       "      <td>correct</td>\n",
       "      <td>NaN</td>\n",
       "      <td>1</td>\n",
       "      <td>NaN</td>\n",
       "      <td>NaN</td>\n",
       "      <td>Kannst du erkennen, wo KI überall drin steckt?...</td>\n",
       "      <td>NaN</td>\n",
       "      <td>NaN</td>\n",
       "      <td>NaN</td>\n",
       "      <td>NaN</td>\n",
       "      <td>NaN</td>\n",
       "    </tr>\n",
       "    <tr>\n",
       "      <th>123</th>\n",
       "      <td>6bBwnX2mwAp2NAwNR</td>\n",
       "      <td>AI-2-v2-1-1</td>\n",
       "      <td>AI-2-v2</td>\n",
       "      <td>[True, True, False, True]</td>\n",
       "      <td>True</td>\n",
       "      <td>[]</td>\n",
       "      <td>multipleChoice</td>\n",
       "      <td>correct</td>\n",
       "      <td>NaN</td>\n",
       "      <td>NaN</td>\n",
       "      <td>NaN</td>\n",
       "      <td>NaN</td>\n",
       "      <td>Kannst du erkennen, wo KI überall drin steckt?...</td>\n",
       "      <td>NaN</td>\n",
       "      <td>NaN</td>\n",
       "      <td>NaN</td>\n",
       "      <td>NaN</td>\n",
       "      <td>NaN</td>\n",
       "    </tr>\n",
       "    <tr>\n",
       "      <th>124</th>\n",
       "      <td>ZTvPk2i77LDC8pFmu</td>\n",
       "      <td>AI-2-v2-1-1</td>\n",
       "      <td>AI-2-v2</td>\n",
       "      <td>[True, True, False, True]</td>\n",
       "      <td>True</td>\n",
       "      <td>[]</td>\n",
       "      <td>multipleChoice</td>\n",
       "      <td>correct</td>\n",
       "      <td>[[False, False, False, True], [False, False, F...</td>\n",
       "      <td>1</td>\n",
       "      <td>NaN</td>\n",
       "      <td>NaN</td>\n",
       "      <td>Kannst du erkennen, wo KI überall drin steckt?...</td>\n",
       "      <td>NaN</td>\n",
       "      <td>NaN</td>\n",
       "      <td>NaN</td>\n",
       "      <td>NaN</td>\n",
       "      <td>NaN</td>\n",
       "    </tr>\n",
       "  </tbody>\n",
       "</table>\n",
       "</div>"
      ],
      "text/plain": [
       "               pupilId       taskId taskSeriesId                      state  \\\n",
       "120  bniRycMi5bwrXjvGy  AI-2-v2-1-1      AI-2-v2  [True, True, False, True]   \n",
       "121  sqBXKssFvS8pFYAMv  AI-2-v2-1-1      AI-2-v2  [True, True, False, True]   \n",
       "122  Kd6FuRsrq6QvPrkKp  AI-2-v2-1-1      AI-2-v2  [True, True, False, True]   \n",
       "123  6bBwnX2mwAp2NAwNR  AI-2-v2-1-1      AI-2-v2  [True, True, False, True]   \n",
       "124  ZTvPk2i77LDC8pFmu  AI-2-v2-1-1      AI-2-v2  [True, True, False, True]   \n",
       "\n",
       "    submitted history         subType evaluation  \\\n",
       "120      True      []  multipleChoice    correct   \n",
       "121      True      []  multipleChoice    correct   \n",
       "122      True      []  multipleChoice    correct   \n",
       "123      True      []  multipleChoice    correct   \n",
       "124      True      []  multipleChoice    correct   \n",
       "\n",
       "                                         falseAttempts hintsTaken rating  \\\n",
       "120                                                NaN        NaN    NaN   \n",
       "121                                                NaN        NaN    NaN   \n",
       "122                                                NaN          1    NaN   \n",
       "123                                                NaN        NaN    NaN   \n",
       "124  [[False, False, False, True], [False, False, F...          1    NaN   \n",
       "\n",
       "    teacherFeedback                                           question  \\\n",
       "120             NaN  Kannst du erkennen, wo KI überall drin steckt?...   \n",
       "121             NaN  Kannst du erkennen, wo KI überall drin steckt?...   \n",
       "122             NaN  Kannst du erkennen, wo KI überall drin steckt?...   \n",
       "123             NaN  Kannst du erkennen, wo KI überall drin steckt?...   \n",
       "124             NaN  Kannst du erkennen, wo KI überall drin steckt?...   \n",
       "\n",
       "    answers minLabel maxLabel hints sampleSolution  \n",
       "120     NaN      NaN      NaN   NaN            NaN  \n",
       "121     NaN      NaN      NaN   NaN            NaN  \n",
       "122     NaN      NaN      NaN   NaN            NaN  \n",
       "123     NaN      NaN      NaN   NaN            NaN  \n",
       "124     NaN      NaN      NaN   NaN            NaN  "
      ]
     },
     "execution_count": 26,
     "metadata": {},
     "output_type": "execute_result"
    }
   ],
   "source": [
    "df[df[\"subType\"]==\"multipleChoice\"].head()"
   ]
  },
  {
   "cell_type": "code",
   "execution_count": 24,
   "metadata": {},
   "outputs": [
    {
     "name": "stdout",
     "output_type": "stream",
     "text": [
      "[    answers       taskId\n",
      "120     NaN  AI-2-v2-1-1\n",
      "121     NaN  AI-2-v2-1-1\n",
      "122     NaN  AI-2-v2-1-1\n",
      "123     NaN  AI-2-v2-1-1\n",
      "124     NaN  AI-2-v2-1-1\n",
      "125     NaN  AI-2-v2-1-1\n",
      "126     NaN  AI-2-v2-1-1\n",
      "127     NaN  AI-2-v2-1-1\n",
      "128     NaN  AI-2-v2-1-1\n",
      "129     NaN  AI-2-v2-1-1\n",
      "130     NaN  AI-2-v2-1-1\n",
      "131     NaN  AI-2-v2-1-1\n",
      "132     NaN  AI-2-v2-1-1\n",
      "133     NaN  AI-2-v2-1-1\n",
      "134     NaN  AI-2-v2-1-1\n",
      "135     NaN  AI-2-v2-1-1\n",
      "136     NaN  AI-2-v2-1-1\n",
      "137     NaN  AI-2-v2-1-1\n",
      "138     NaN  AI-2-v2-1-1\n",
      "139     NaN  AI-2-v2-1-1\n",
      "140     NaN  AI-2-v2-1-1\n",
      "141     NaN  AI-2-v2-1-1\n",
      "142     NaN  AI-2-v2-1-1\n",
      "143     NaN  AI-2-v2-1-1\n",
      "144     NaN  AI-2-v2-1-1\n",
      "145     NaN  AI-2-v2-1-1\n",
      "146     NaN  AI-2-v2-1-1\n",
      "147     NaN  AI-2-v2-1-1\n",
      "148     NaN  AI-2-v2-1-1\n",
      "149     NaN  AI-2-v2-1-1\n",
      "150     NaN  AI-2-v2-1-1\n",
      "151     NaN  AI-2-v2-1-1\n",
      "152     NaN  AI-2-v2-1-1\n",
      "153     NaN  AI-2-v2-1-1\n",
      "154     NaN  AI-2-v2-1-1\n",
      "155     NaN  AI-2-v2-1-1\n",
      "156     NaN  AI-2-v2-1-1\n",
      "157     NaN  AI-2-v2-1-1,     answers       taskId\n",
      "158     NaN  AI-3-v2-1-1\n",
      "159     NaN  AI-3-v2-1-1\n",
      "160     NaN  AI-3-v2-1-1\n",
      "161     NaN  AI-3-v2-1-1\n",
      "162     NaN  AI-3-v2-1-1\n",
      "163     NaN  AI-3-v2-1-1\n",
      "164     NaN  AI-3-v2-1-1\n",
      "165     NaN  AI-3-v2-1-1\n",
      "166     NaN  AI-3-v2-1-1\n",
      "167     NaN  AI-3-v2-1-1\n",
      "168     NaN  AI-3-v2-1-1\n",
      "169     NaN  AI-3-v2-1-1\n",
      "170     NaN  AI-3-v2-1-1\n",
      "171     NaN  AI-3-v2-1-1\n",
      "172     NaN  AI-3-v2-1-1\n",
      "173     NaN  AI-3-v2-1-1\n",
      "174     NaN  AI-3-v2-1-1\n",
      "175     NaN  AI-3-v2-1-1\n",
      "176     NaN  AI-3-v2-1-1\n",
      "177     NaN  AI-3-v2-1-1\n",
      "178     NaN  AI-3-v2-1-1\n",
      "179     NaN  AI-3-v2-1-1\n",
      "180     NaN  AI-3-v2-1-1\n",
      "181     NaN  AI-3-v2-1-1\n",
      "182     NaN  AI-3-v2-1-1\n",
      "183     NaN  AI-3-v2-1-1\n",
      "184     NaN  AI-3-v2-1-1\n",
      "185     NaN  AI-3-v2-1-1\n",
      "186     NaN  AI-3-v2-1-1\n",
      "187     NaN  AI-3-v2-1-1\n",
      "188     NaN  AI-3-v2-1-1\n",
      "189     NaN  AI-3-v2-1-1\n",
      "190     NaN  AI-3-v2-1-1\n",
      "191     NaN  AI-3-v2-1-1\n",
      "192     NaN  AI-3-v2-1-1\n",
      "193     NaN  AI-3-v2-1-1,                                                answers       taskId\n",
      "194  [{'de': 'Empfehlungssysteme gehören zur spezif...  AI-3-v2-1-2\n",
      "195  [{'de': 'Empfehlungssysteme gehören zur spezif...  AI-3-v2-1-2\n",
      "196  [{'de': 'Empfehlungssysteme gehören zur spezif...  AI-3-v2-1-2\n",
      "197  [{'de': 'Empfehlungssysteme gehören zur spezif...  AI-3-v2-1-2\n",
      "198  [{'de': 'Empfehlungssysteme gehören zur spezif...  AI-3-v2-1-2\n",
      "199  [{'de': 'Empfehlungssysteme gehören zur spezif...  AI-3-v2-1-2\n",
      "200  [{'de': 'Empfehlungssysteme gehören zur spezif...  AI-3-v2-1-2\n",
      "201  [{'de': 'Empfehlungssysteme gehören zur spezif...  AI-3-v2-1-2\n",
      "202  [{'de': 'Empfehlungssysteme gehören zur spezif...  AI-3-v2-1-2\n",
      "203  [{'de': 'Empfehlungssysteme gehören zur spezif...  AI-3-v2-1-2\n",
      "204  [{'de': 'Empfehlungssysteme gehören zur spezif...  AI-3-v2-1-2\n",
      "205  [{'de': 'Empfehlungssysteme gehören zur spezif...  AI-3-v2-1-2\n",
      "206  [{'de': 'Empfehlungssysteme gehören zur spezif...  AI-3-v2-1-2\n",
      "207  [{'de': 'Empfehlungssysteme gehören zur spezif...  AI-3-v2-1-2\n",
      "208  [{'de': 'Empfehlungssysteme gehören zur spezif...  AI-3-v2-1-2\n",
      "209  [{'de': 'Empfehlungssysteme gehören zur spezif...  AI-3-v2-1-2\n",
      "210  [{'de': 'Empfehlungssysteme gehören zur spezif...  AI-3-v2-1-2\n",
      "211  [{'de': 'Empfehlungssysteme gehören zur spezif...  AI-3-v2-1-2\n",
      "212  [{'de': 'Empfehlungssysteme gehören zur spezif...  AI-3-v2-1-2\n",
      "213  [{'de': 'Empfehlungssysteme gehören zur spezif...  AI-3-v2-1-2\n",
      "214  [{'de': 'Empfehlungssysteme gehören zur spezif...  AI-3-v2-1-2\n",
      "215  [{'de': 'Empfehlungssysteme gehören zur spezif...  AI-3-v2-1-2\n",
      "216  [{'de': 'Empfehlungssysteme gehören zur spezif...  AI-3-v2-1-2\n",
      "217  [{'de': 'Empfehlungssysteme gehören zur spezif...  AI-3-v2-1-2\n",
      "218  [{'de': 'Empfehlungssysteme gehören zur spezif...  AI-3-v2-1-2\n",
      "219  [{'de': 'Empfehlungssysteme gehören zur spezif...  AI-3-v2-1-2\n",
      "220  [{'de': 'Empfehlungssysteme gehören zur spezif...  AI-3-v2-1-2\n",
      "221  [{'de': 'Empfehlungssysteme gehören zur spezif...  AI-3-v2-1-2\n",
      "222  [{'de': 'Empfehlungssysteme gehören zur spezif...  AI-3-v2-1-2\n",
      "223  [{'de': 'Empfehlungssysteme gehören zur spezif...  AI-3-v2-1-2\n",
      "224  [{'de': 'Empfehlungssysteme gehören zur spezif...  AI-3-v2-1-2\n",
      "225  [{'de': 'Empfehlungssysteme gehören zur spezif...  AI-3-v2-1-2\n",
      "226  [{'de': 'Empfehlungssysteme gehören zur spezif...  AI-3-v2-1-2\n",
      "227  [{'de': 'Empfehlungssysteme gehören zur spezif...  AI-3-v2-1-2\n",
      "228  [{'de': 'Empfehlungssysteme gehören zur spezif...  AI-3-v2-1-2\n",
      "229  [{'de': 'Empfehlungssysteme gehören zur spezif...  AI-3-v2-1-2,     answers       taskId\n",
      "230     NaN  AI-4-v2-1-1\n",
      "231     NaN  AI-4-v2-1-1\n",
      "232     NaN  AI-4-v2-1-1\n",
      "233     NaN  AI-4-v2-1-1\n",
      "234     NaN  AI-4-v2-1-1\n",
      "235     NaN  AI-4-v2-1-1\n",
      "236     NaN  AI-4-v2-1-1\n",
      "237     NaN  AI-4-v2-1-1\n",
      "238     NaN  AI-4-v2-1-1\n",
      "239     NaN  AI-4-v2-1-1\n",
      "240     NaN  AI-4-v2-1-1\n",
      "241     NaN  AI-4-v2-1-1\n",
      "242     NaN  AI-4-v2-1-1\n",
      "243     NaN  AI-4-v2-1-1\n",
      "244     NaN  AI-4-v2-1-1\n",
      "245     NaN  AI-4-v2-1-1\n",
      "246     NaN  AI-4-v2-1-1\n",
      "247     NaN  AI-4-v2-1-1\n",
      "248     NaN  AI-4-v2-1-1\n",
      "249     NaN  AI-4-v2-1-1\n",
      "250     NaN  AI-4-v2-1-1\n",
      "251     NaN  AI-4-v2-1-1\n",
      "252     NaN  AI-4-v2-1-1\n",
      "253     NaN  AI-4-v2-1-1\n",
      "254     NaN  AI-4-v2-1-1\n",
      "255     NaN  AI-4-v2-1-1\n",
      "256     NaN  AI-4-v2-1-1\n",
      "257     NaN  AI-4-v2-1-1\n",
      "258     NaN  AI-4-v2-1-1\n",
      "259     NaN  AI-4-v2-1-1\n",
      "260     NaN  AI-4-v2-1-1,                                                answers       taskId\n",
      "261  [{'de': 'KI-Anwendungen treffen eigenständige ...  AI-4-v2-1-2\n",
      "262  [{'de': 'KI-Anwendungen treffen eigenständige ...  AI-4-v2-1-2\n",
      "263  [{'de': 'KI-Anwendungen treffen eigenständige ...  AI-4-v2-1-2\n",
      "264  [{'de': 'KI-Anwendungen treffen eigenständige ...  AI-4-v2-1-2\n",
      "265  [{'de': 'KI-Anwendungen treffen eigenständige ...  AI-4-v2-1-2\n",
      "266  [{'de': 'KI-Anwendungen treffen eigenständige ...  AI-4-v2-1-2\n",
      "267  [{'de': 'KI-Anwendungen treffen eigenständige ...  AI-4-v2-1-2\n",
      "268  [{'de': 'KI-Anwendungen treffen eigenständige ...  AI-4-v2-1-2\n",
      "269  [{'de': 'KI-Anwendungen treffen eigenständige ...  AI-4-v2-1-2\n",
      "270  [{'de': 'KI-Anwendungen treffen eigenständige ...  AI-4-v2-1-2\n",
      "271  [{'de': 'KI-Anwendungen treffen eigenständige ...  AI-4-v2-1-2\n",
      "272  [{'de': 'KI-Anwendungen treffen eigenständige ...  AI-4-v2-1-2\n",
      "273  [{'de': 'KI-Anwendungen treffen eigenständige ...  AI-4-v2-1-2\n",
      "274  [{'de': 'KI-Anwendungen treffen eigenständige ...  AI-4-v2-1-2\n",
      "275  [{'de': 'KI-Anwendungen treffen eigenständige ...  AI-4-v2-1-2\n",
      "276  [{'de': 'KI-Anwendungen treffen eigenständige ...  AI-4-v2-1-2\n",
      "277  [{'de': 'KI-Anwendungen treffen eigenständige ...  AI-4-v2-1-2\n",
      "278  [{'de': 'KI-Anwendungen treffen eigenständige ...  AI-4-v2-1-2\n",
      "279  [{'de': 'KI-Anwendungen treffen eigenständige ...  AI-4-v2-1-2\n",
      "280  [{'de': 'KI-Anwendungen treffen eigenständige ...  AI-4-v2-1-2\n",
      "281  [{'de': 'KI-Anwendungen treffen eigenständige ...  AI-4-v2-1-2\n",
      "282  [{'de': 'KI-Anwendungen treffen eigenständige ...  AI-4-v2-1-2\n",
      "283  [{'de': 'KI-Anwendungen treffen eigenständige ...  AI-4-v2-1-2\n",
      "284  [{'de': 'KI-Anwendungen treffen eigenständige ...  AI-4-v2-1-2\n",
      "285  [{'de': 'KI-Anwendungen treffen eigenständige ...  AI-4-v2-1-2\n",
      "286  [{'de': 'KI-Anwendungen treffen eigenständige ...  AI-4-v2-1-2\n",
      "287  [{'de': 'KI-Anwendungen treffen eigenständige ...  AI-4-v2-1-2\n",
      "288  [{'de': 'KI-Anwendungen treffen eigenständige ...  AI-4-v2-1-2\n",
      "289  [{'de': 'KI-Anwendungen treffen eigenständige ...  AI-4-v2-1-2\n",
      "290  [{'de': 'KI-Anwendungen treffen eigenständige ...  AI-4-v2-1-2\n",
      "291  [{'de': 'KI-Anwendungen treffen eigenständige ...  AI-4-v2-1-2,                                                answers    taskId\n",
      "557  [{'de': 'Unser Ziel ist es, einen Algorithmus ...  ML-2-1-3\n",
      "558  [{'de': 'Unser Ziel ist es, einen Algorithmus ...  ML-2-1-3\n",
      "559  [{'de': 'Unser Ziel ist es, einen Algorithmus ...  ML-2-1-3\n",
      "560  [{'de': 'Unser Ziel ist es, einen Algorithmus ...  ML-2-1-3\n",
      "561  [{'de': 'Unser Ziel ist es, einen Algorithmus ...  ML-2-1-3\n",
      "562  [{'de': 'Unser Ziel ist es, einen Algorithmus ...  ML-2-1-3\n",
      "563  [{'de': 'Unser Ziel ist es, einen Algorithmus ...  ML-2-1-3\n",
      "564  [{'de': 'Unser Ziel ist es, einen Algorithmus ...  ML-2-1-3\n",
      "565  [{'de': 'Unser Ziel ist es, einen Algorithmus ...  ML-2-1-3\n",
      "566  [{'de': 'Unser Ziel ist es, einen Algorithmus ...  ML-2-1-3\n",
      "567  [{'de': 'Unser Ziel ist es, einen Algorithmus ...  ML-2-1-3\n",
      "568  [{'de': 'Unser Ziel ist es, einen Algorithmus ...  ML-2-1-3\n",
      "569  [{'de': 'Unser Ziel ist es, einen Algorithmus ...  ML-2-1-3\n",
      "570  [{'de': 'Unser Ziel ist es, einen Algorithmus ...  ML-2-1-3\n",
      "571  [{'de': 'Unser Ziel ist es, einen Algorithmus ...  ML-2-1-3\n",
      "572  [{'de': 'Unser Ziel ist es, einen Algorithmus ...  ML-2-1-3\n",
      "573  [{'de': 'Unser Ziel ist es, einen Algorithmus ...  ML-2-1-3\n",
      "574  [{'de': 'Unser Ziel ist es, einen Algorithmus ...  ML-2-1-3\n",
      "575  [{'de': 'Unser Ziel ist es, einen Algorithmus ...  ML-2-1-3\n",
      "576  [{'de': 'Unser Ziel ist es, einen Algorithmus ...  ML-2-1-3\n",
      "577  [{'de': 'Unser Ziel ist es, einen Algorithmus ...  ML-2-1-3\n",
      "578  [{'de': 'Unser Ziel ist es, einen Algorithmus ...  ML-2-1-3\n",
      "579  [{'de': 'Unser Ziel ist es, einen Algorithmus ...  ML-2-1-3\n",
      "580  [{'de': 'Unser Ziel ist es, einen Algorithmus ...  ML-2-1-3\n",
      "581  [{'de': 'Unser Ziel ist es, einen Algorithmus ...  ML-2-1-3\n",
      "582  [{'de': 'Unser Ziel ist es, einen Algorithmus ...  ML-2-1-3\n",
      "583  [{'de': 'Unser Ziel ist es, einen Algorithmus ...  ML-2-1-3\n",
      "584  [{'de': 'Unser Ziel ist es, einen Algorithmus ...  ML-2-1-3,     answers    taskId\n",
      "585     NaN  ML-3-1-1\n",
      "586     NaN  ML-3-1-1\n",
      "587     NaN  ML-3-1-1\n",
      "588     NaN  ML-3-1-1\n",
      "589     NaN  ML-3-1-1\n",
      "590     NaN  ML-3-1-1\n",
      "591     NaN  ML-3-1-1\n",
      "592     NaN  ML-3-1-1\n",
      "593     NaN  ML-3-1-1\n",
      "594     NaN  ML-3-1-1\n",
      "595     NaN  ML-3-1-1\n",
      "596     NaN  ML-3-1-1\n",
      "597     NaN  ML-3-1-1\n",
      "598     NaN  ML-3-1-1\n",
      "599     NaN  ML-3-1-1\n",
      "600     NaN  ML-3-1-1\n",
      "601     NaN  ML-3-1-1\n",
      "602     NaN  ML-3-1-1\n",
      "603     NaN  ML-3-1-1\n",
      "604     NaN  ML-3-1-1\n",
      "605     NaN  ML-3-1-1\n",
      "606     NaN  ML-3-1-1\n",
      "607     NaN  ML-3-1-1\n",
      "608     NaN  ML-3-1-1\n",
      "609     NaN  ML-3-1-1\n",
      "610     NaN  ML-3-1-1\n",
      "611     NaN  ML-3-1-1,                                                answers    taskId\n",
      "612  [{'de': 'Überwachtes Lernen', 'en-US': 'Superv...  ML-3-1-2\n",
      "613  [{'de': 'Überwachtes Lernen', 'en-US': 'Superv...  ML-3-1-2\n",
      "614  [{'de': 'Überwachtes Lernen', 'en-US': 'Superv...  ML-3-1-2\n",
      "615  [{'de': 'Überwachtes Lernen', 'en-US': 'Superv...  ML-3-1-2\n",
      "616  [{'de': 'Überwachtes Lernen', 'en-US': 'Superv...  ML-3-1-2\n",
      "617  [{'de': 'Überwachtes Lernen', 'en-US': 'Superv...  ML-3-1-2\n",
      "618  [{'de': 'Überwachtes Lernen', 'en-US': 'Superv...  ML-3-1-2\n",
      "619  [{'de': 'Überwachtes Lernen', 'en-US': 'Superv...  ML-3-1-2\n",
      "620  [{'de': 'Überwachtes Lernen', 'en-US': 'Superv...  ML-3-1-2\n",
      "621  [{'de': 'Überwachtes Lernen', 'en-US': 'Superv...  ML-3-1-2\n",
      "622  [{'de': 'Überwachtes Lernen', 'en-US': 'Superv...  ML-3-1-2\n",
      "623  [{'de': 'Überwachtes Lernen', 'en-US': 'Superv...  ML-3-1-2\n",
      "624  [{'de': 'Überwachtes Lernen', 'en-US': 'Superv...  ML-3-1-2\n",
      "625  [{'de': 'Überwachtes Lernen', 'en-US': 'Superv...  ML-3-1-2\n",
      "626  [{'de': 'Überwachtes Lernen', 'en-US': 'Superv...  ML-3-1-2\n",
      "627  [{'de': 'Überwachtes Lernen', 'en-US': 'Superv...  ML-3-1-2\n",
      "628  [{'de': 'Überwachtes Lernen', 'en-US': 'Superv...  ML-3-1-2\n",
      "629  [{'de': 'Überwachtes Lernen', 'en-US': 'Superv...  ML-3-1-2\n",
      "630  [{'de': 'Überwachtes Lernen', 'en-US': 'Superv...  ML-3-1-2\n",
      "631  [{'de': 'Überwachtes Lernen', 'en-US': 'Superv...  ML-3-1-2\n",
      "632  [{'de': 'Überwachtes Lernen', 'en-US': 'Superv...  ML-3-1-2\n",
      "633  [{'de': 'Überwachtes Lernen', 'en-US': 'Superv...  ML-3-1-2\n",
      "634  [{'de': 'Überwachtes Lernen', 'en-US': 'Superv...  ML-3-1-2\n",
      "635  [{'de': 'Überwachtes Lernen', 'en-US': 'Superv...  ML-3-1-2\n",
      "636  [{'de': 'Überwachtes Lernen', 'en-US': 'Superv...  ML-3-1-2\n",
      "637  [{'de': 'Überwachtes Lernen', 'en-US': 'Superv...  ML-3-1-2\n",
      "638  [{'de': 'Überwachtes Lernen', 'en-US': 'Superv...  ML-3-1-2,                                                answers    taskId\n",
      "639  [{'de': 'Überwachtes Lernen', 'en-US': 'Superv...  ML-3-1-3\n",
      "640  [{'de': 'Überwachtes Lernen', 'en-US': 'Superv...  ML-3-1-3\n",
      "641  [{'de': 'Überwachtes Lernen', 'en-US': 'Superv...  ML-3-1-3\n",
      "642  [{'de': 'Überwachtes Lernen', 'en-US': 'Superv...  ML-3-1-3\n",
      "643  [{'de': 'Überwachtes Lernen', 'en-US': 'Superv...  ML-3-1-3\n",
      "644  [{'de': 'Überwachtes Lernen', 'en-US': 'Superv...  ML-3-1-3\n",
      "645  [{'de': 'Überwachtes Lernen', 'en-US': 'Superv...  ML-3-1-3\n",
      "646  [{'de': 'Überwachtes Lernen', 'en-US': 'Superv...  ML-3-1-3\n",
      "647  [{'de': 'Überwachtes Lernen', 'en-US': 'Superv...  ML-3-1-3\n",
      "648  [{'de': 'Überwachtes Lernen', 'en-US': 'Superv...  ML-3-1-3\n",
      "649  [{'de': 'Überwachtes Lernen', 'en-US': 'Superv...  ML-3-1-3\n",
      "650  [{'de': 'Überwachtes Lernen', 'en-US': 'Superv...  ML-3-1-3\n",
      "651  [{'de': 'Überwachtes Lernen', 'en-US': 'Superv...  ML-3-1-3\n",
      "652  [{'de': 'Überwachtes Lernen', 'en-US': 'Superv...  ML-3-1-3\n",
      "653  [{'de': 'Überwachtes Lernen', 'en-US': 'Superv...  ML-3-1-3\n",
      "654  [{'de': 'Überwachtes Lernen', 'en-US': 'Superv...  ML-3-1-3\n",
      "655  [{'de': 'Überwachtes Lernen', 'en-US': 'Superv...  ML-3-1-3\n",
      "656  [{'de': 'Überwachtes Lernen', 'en-US': 'Superv...  ML-3-1-3\n",
      "657  [{'de': 'Überwachtes Lernen', 'en-US': 'Superv...  ML-3-1-3\n",
      "658  [{'de': 'Überwachtes Lernen', 'en-US': 'Superv...  ML-3-1-3\n",
      "659  [{'de': 'Überwachtes Lernen', 'en-US': 'Superv...  ML-3-1-3\n",
      "660  [{'de': 'Überwachtes Lernen', 'en-US': 'Superv...  ML-3-1-3\n",
      "661  [{'de': 'Überwachtes Lernen', 'en-US': 'Superv...  ML-3-1-3\n",
      "662  [{'de': 'Überwachtes Lernen', 'en-US': 'Superv...  ML-3-1-3\n",
      "663  [{'de': 'Überwachtes Lernen', 'en-US': 'Superv...  ML-3-1-3\n",
      "664  [{'de': 'Überwachtes Lernen', 'en-US': 'Superv...  ML-3-1-3\n",
      "665  [{'de': 'Überwachtes Lernen', 'en-US': 'Superv...  ML-3-1-3,                                                answers    taskId\n",
      "666  [{'de': 'Überwachtes Lernen', 'en-US': 'Superv...  ML-3-1-4\n",
      "667  [{'de': 'Überwachtes Lernen', 'en-US': 'Superv...  ML-3-1-4\n",
      "668  [{'de': 'Überwachtes Lernen', 'en-US': 'Superv...  ML-3-1-4\n",
      "669  [{'de': 'Überwachtes Lernen', 'en-US': 'Superv...  ML-3-1-4\n",
      "670  [{'de': 'Überwachtes Lernen', 'en-US': 'Superv...  ML-3-1-4\n",
      "671  [{'de': 'Überwachtes Lernen', 'en-US': 'Superv...  ML-3-1-4\n",
      "672  [{'de': 'Überwachtes Lernen', 'en-US': 'Superv...  ML-3-1-4\n",
      "673  [{'de': 'Überwachtes Lernen', 'en-US': 'Superv...  ML-3-1-4\n",
      "674  [{'de': 'Überwachtes Lernen', 'en-US': 'Superv...  ML-3-1-4\n",
      "675  [{'de': 'Überwachtes Lernen', 'en-US': 'Superv...  ML-3-1-4\n",
      "676  [{'de': 'Überwachtes Lernen', 'en-US': 'Superv...  ML-3-1-4\n",
      "677  [{'de': 'Überwachtes Lernen', 'en-US': 'Superv...  ML-3-1-4\n",
      "678  [{'de': 'Überwachtes Lernen', 'en-US': 'Superv...  ML-3-1-4\n",
      "679  [{'de': 'Überwachtes Lernen', 'en-US': 'Superv...  ML-3-1-4\n",
      "680  [{'de': 'Überwachtes Lernen', 'en-US': 'Superv...  ML-3-1-4\n",
      "681  [{'de': 'Überwachtes Lernen', 'en-US': 'Superv...  ML-3-1-4\n",
      "682  [{'de': 'Überwachtes Lernen', 'en-US': 'Superv...  ML-3-1-4\n",
      "683  [{'de': 'Überwachtes Lernen', 'en-US': 'Superv...  ML-3-1-4\n",
      "684  [{'de': 'Überwachtes Lernen', 'en-US': 'Superv...  ML-3-1-4\n",
      "685  [{'de': 'Überwachtes Lernen', 'en-US': 'Superv...  ML-3-1-4\n",
      "686  [{'de': 'Überwachtes Lernen', 'en-US': 'Superv...  ML-3-1-4\n",
      "687  [{'de': 'Überwachtes Lernen', 'en-US': 'Superv...  ML-3-1-4\n",
      "688  [{'de': 'Überwachtes Lernen', 'en-US': 'Superv...  ML-3-1-4\n",
      "689  [{'de': 'Überwachtes Lernen', 'en-US': 'Superv...  ML-3-1-4\n",
      "690  [{'de': 'Überwachtes Lernen', 'en-US': 'Superv...  ML-3-1-4\n",
      "691  [{'de': 'Überwachtes Lernen', 'en-US': 'Superv...  ML-3-1-4\n",
      "692  [{'de': 'Überwachtes Lernen', 'en-US': 'Superv...  ML-3-1-4,     answers                taskId\n",
      "693     NaN  Classification-1-1-1\n",
      "694     NaN  Classification-1-1-1\n",
      "695     NaN  Classification-1-1-1\n",
      "696     NaN  Classification-1-1-1\n",
      "697     NaN  Classification-1-1-1\n",
      "698     NaN  Classification-1-1-1\n",
      "699     NaN  Classification-1-1-1\n",
      "700     NaN  Classification-1-1-1\n",
      "701     NaN  Classification-1-1-1\n",
      "702     NaN  Classification-1-1-1\n",
      "703     NaN  Classification-1-1-1\n",
      "704     NaN  Classification-1-1-1\n",
      "705     NaN  Classification-1-1-1\n",
      "706     NaN  Classification-1-1-1\n",
      "707     NaN  Classification-1-1-1\n",
      "708     NaN  Classification-1-1-1\n",
      "709     NaN  Classification-1-1-1\n",
      "710     NaN  Classification-1-1-1\n",
      "711     NaN  Classification-1-1-1\n",
      "712     NaN  Classification-1-1-1,                                                answers            taskId\n",
      "713  [{'de': 'Beim unüberwachten Lernen nutzt man D...  Clustering-1-1-1\n",
      "714  [{'de': 'Beim unüberwachten Lernen nutzt man D...  Clustering-1-1-1\n",
      "715  [{'de': 'Beim unüberwachten Lernen nutzt man D...  Clustering-1-1-1\n",
      "716  [{'de': 'Beim unüberwachten Lernen nutzt man D...  Clustering-1-1-1\n",
      "717  [{'de': 'Beim unüberwachten Lernen nutzt man D...  Clustering-1-1-1\n",
      "718  [{'de': 'Beim unüberwachten Lernen nutzt man D...  Clustering-1-1-1\n",
      "719  [{'de': 'Beim unüberwachten Lernen nutzt man D...  Clustering-1-1-1\n",
      "720  [{'de': 'Beim unüberwachten Lernen nutzt man D...  Clustering-1-1-1\n",
      "721  [{'de': 'Beim unüberwachten Lernen nutzt man D...  Clustering-1-1-1\n",
      "722  [{'de': 'Beim unüberwachten Lernen nutzt man D...  Clustering-1-1-1\n",
      "723  [{'de': 'Beim unüberwachten Lernen nutzt man D...  Clustering-1-1-1\n",
      "724  [{'de': 'Beim unüberwachten Lernen nutzt man D...  Clustering-1-1-1\n",
      "725  [{'de': 'Beim unüberwachten Lernen nutzt man D...  Clustering-1-1-1\n",
      "726  [{'de': 'Beim unüberwachten Lernen nutzt man D...  Clustering-1-1-1\n",
      "727  [{'de': 'Beim unüberwachten Lernen nutzt man D...  Clustering-1-1-1\n",
      "728  [{'de': 'Beim unüberwachten Lernen nutzt man D...  Clustering-1-1-1\n",
      "729  [{'de': 'Beim unüberwachten Lernen nutzt man D...  Clustering-1-1-1\n",
      "730  [{'de': 'Beim unüberwachten Lernen nutzt man D...  Clustering-1-1-1\n",
      "731  [{'de': 'Beim unüberwachten Lernen nutzt man D...  Clustering-1-1-1\n",
      "732  [{'de': 'Beim unüberwachten Lernen nutzt man D...  Clustering-1-1-1\n",
      "733  [{'de': 'Beim unüberwachten Lernen nutzt man D...  Clustering-1-1-1\n",
      "734  [{'de': 'Beim unüberwachten Lernen nutzt man D...  Clustering-1-1-1\n",
      "735  [{'de': 'Beim unüberwachten Lernen nutzt man D...  Clustering-1-1-1,                                                answers            taskId\n",
      "736  [{'de': 'Die Youtuber im roten Cluster laden ö...  Clustering-1-1-2\n",
      "737  [{'de': 'Die Youtuber im roten Cluster laden ö...  Clustering-1-1-2\n",
      "738  [{'de': 'Die Youtuber im roten Cluster laden ö...  Clustering-1-1-2\n",
      "739  [{'de': 'Die Youtuber im roten Cluster laden ö...  Clustering-1-1-2\n",
      "740  [{'de': 'Die Youtuber im roten Cluster laden ö...  Clustering-1-1-2\n",
      "741  [{'de': 'Die Youtuber im roten Cluster laden ö...  Clustering-1-1-2\n",
      "742  [{'de': 'Die Youtuber im roten Cluster laden ö...  Clustering-1-1-2\n",
      "743  [{'de': 'Die Youtuber im roten Cluster laden ö...  Clustering-1-1-2\n",
      "744  [{'de': 'Die Youtuber im roten Cluster laden ö...  Clustering-1-1-2\n",
      "745  [{'de': 'Die Youtuber im roten Cluster laden ö...  Clustering-1-1-2\n",
      "746  [{'de': 'Die Youtuber im roten Cluster laden ö...  Clustering-1-1-2\n",
      "747  [{'de': 'Die Youtuber im roten Cluster laden ö...  Clustering-1-1-2\n",
      "748  [{'de': 'Die Youtuber im roten Cluster laden ö...  Clustering-1-1-2\n",
      "749  [{'de': 'Die Youtuber im roten Cluster laden ö...  Clustering-1-1-2\n",
      "750  [{'de': 'Die Youtuber im roten Cluster laden ö...  Clustering-1-1-2\n",
      "751  [{'de': 'Die Youtuber im roten Cluster laden ö...  Clustering-1-1-2\n",
      "752  [{'de': 'Die Youtuber im roten Cluster laden ö...  Clustering-1-1-2\n",
      "753  [{'de': 'Die Youtuber im roten Cluster laden ö...  Clustering-1-1-2\n",
      "754  [{'de': 'Die Youtuber im roten Cluster laden ö...  Clustering-1-1-2\n",
      "755  [{'de': 'Die Youtuber im roten Cluster laden ö...  Clustering-1-1-2\n",
      "756  [{'de': 'Die Youtuber im roten Cluster laden ö...  Clustering-1-1-2\n",
      "757  [{'de': 'Die Youtuber im roten Cluster laden ö...  Clustering-1-1-2\n",
      "758  [{'de': 'Die Youtuber im roten Cluster laden ö...  Clustering-1-1-2,                                                answers                taskId\n",
      "905  [{'de': 'Josi', 'en-US': 'Josi'}, {'de': 'Paul...  Classification-2-1-6\n",
      "906  [{'de': 'Josi', 'en-US': 'Josi'}, {'de': 'Paul...  Classification-2-1-6\n",
      "907  [{'de': 'Josi', 'en-US': 'Josi'}, {'de': 'Paul...  Classification-2-1-6\n",
      "908  [{'de': 'Josi', 'en-US': 'Josi'}, {'de': 'Paul...  Classification-2-1-6\n",
      "909  [{'de': 'Josi', 'en-US': 'Josi'}, {'de': 'Paul...  Classification-2-1-6\n",
      "910  [{'de': 'Josi', 'en-US': 'Josi'}, {'de': 'Paul...  Classification-2-1-6\n",
      "911  [{'de': 'Josi', 'en-US': 'Josi'}, {'de': 'Paul...  Classification-2-1-6\n",
      "912  [{'de': 'Josi', 'en-US': 'Josi'}, {'de': 'Paul...  Classification-2-1-6\n",
      "913  [{'de': 'Josi', 'en-US': 'Josi'}, {'de': 'Paul...  Classification-2-1-6\n",
      "914  [{'de': 'Josi', 'en-US': 'Josi'}, {'de': 'Paul...  Classification-2-1-6\n",
      "915  [{'de': 'Josi', 'en-US': 'Josi'}, {'de': 'Paul...  Classification-2-1-6\n",
      "916  [{'de': 'Josi', 'en-US': 'Josi'}, {'de': 'Paul...  Classification-2-1-6\n",
      "917  [{'de': 'Josi', 'en-US': 'Josi'}, {'de': 'Paul...  Classification-2-1-6\n",
      "918  [{'de': 'Josi', 'en-US': 'Josi'}, {'de': 'Paul...  Classification-2-1-6\n",
      "919  [{'de': 'Josi', 'en-US': 'Josi'}, {'de': 'Paul...  Classification-2-1-6\n",
      "920  [{'de': 'Josi', 'en-US': 'Josi'}, {'de': 'Paul...  Classification-2-1-6\n",
      "921  [{'de': 'Josi', 'en-US': 'Josi'}, {'de': 'Paul...  Classification-2-1-6\n",
      "922  [{'de': 'Josi', 'en-US': 'Josi'}, {'de': 'Paul...  Classification-2-1-6\n",
      "923  [{'de': 'Josi', 'en-US': 'Josi'}, {'de': 'Paul...  Classification-2-1-6\n",
      "924  [{'de': 'Josi', 'en-US': 'Josi'}, {'de': 'Paul...  Classification-2-1-6,                                                answers                taskId\n",
      "925  [{'de': 'James Bond', 'en-US': 'James Bond'}, ...  Classification-2-1-7\n",
      "926  [{'de': 'James Bond', 'en-US': 'James Bond'}, ...  Classification-2-1-7\n",
      "927  [{'de': 'James Bond', 'en-US': 'James Bond'}, ...  Classification-2-1-7\n",
      "928  [{'de': 'James Bond', 'en-US': 'James Bond'}, ...  Classification-2-1-7\n",
      "929  [{'de': 'James Bond', 'en-US': 'James Bond'}, ...  Classification-2-1-7\n",
      "930  [{'de': 'James Bond', 'en-US': 'James Bond'}, ...  Classification-2-1-7\n",
      "931  [{'de': 'James Bond', 'en-US': 'James Bond'}, ...  Classification-2-1-7\n",
      "932  [{'de': 'James Bond', 'en-US': 'James Bond'}, ...  Classification-2-1-7\n",
      "933  [{'de': 'James Bond', 'en-US': 'James Bond'}, ...  Classification-2-1-7\n",
      "934  [{'de': 'James Bond', 'en-US': 'James Bond'}, ...  Classification-2-1-7\n",
      "935  [{'de': 'James Bond', 'en-US': 'James Bond'}, ...  Classification-2-1-7\n",
      "936  [{'de': 'James Bond', 'en-US': 'James Bond'}, ...  Classification-2-1-7\n",
      "937  [{'de': 'James Bond', 'en-US': 'James Bond'}, ...  Classification-2-1-7\n",
      "938  [{'de': 'James Bond', 'en-US': 'James Bond'}, ...  Classification-2-1-7\n",
      "939  [{'de': 'James Bond', 'en-US': 'James Bond'}, ...  Classification-2-1-7\n",
      "940  [{'de': 'James Bond', 'en-US': 'James Bond'}, ...  Classification-2-1-7\n",
      "941  [{'de': 'James Bond', 'en-US': 'James Bond'}, ...  Classification-2-1-7\n",
      "942  [{'de': 'James Bond', 'en-US': 'James Bond'}, ...  Classification-2-1-7\n",
      "943  [{'de': 'James Bond', 'en-US': 'James Bond'}, ...  Classification-2-1-7\n",
      "944  [{'de': 'James Bond', 'en-US': 'James Bond'}, ...  Classification-2-1-7,                                                answers                taskId\n",
      "945  [{'de': 'Ein Algorithmus, der dir basierend au...  Classification-2-1-8\n",
      "946  [{'de': 'Ein Algorithmus, der dir basierend au...  Classification-2-1-8\n",
      "947  [{'de': 'Ein Algorithmus, der dir basierend au...  Classification-2-1-8\n",
      "948  [{'de': 'Ein Algorithmus, der dir basierend au...  Classification-2-1-8\n",
      "949  [{'de': 'Ein Algorithmus, der dir basierend au...  Classification-2-1-8\n",
      "950  [{'de': 'Ein Algorithmus, der dir basierend au...  Classification-2-1-8\n",
      "951  [{'de': 'Ein Algorithmus, der dir basierend au...  Classification-2-1-8\n",
      "952  [{'de': 'Ein Algorithmus, der dir basierend au...  Classification-2-1-8\n",
      "953  [{'de': 'Ein Algorithmus, der dir basierend au...  Classification-2-1-8\n",
      "954  [{'de': 'Ein Algorithmus, der dir basierend au...  Classification-2-1-8\n",
      "955  [{'de': 'Ein Algorithmus, der dir basierend au...  Classification-2-1-8\n",
      "956  [{'de': 'Ein Algorithmus, der dir basierend au...  Classification-2-1-8\n",
      "957  [{'de': 'Ein Algorithmus, der dir basierend au...  Classification-2-1-8\n",
      "958  [{'de': 'Ein Algorithmus, der dir basierend au...  Classification-2-1-8\n",
      "959  [{'de': 'Ein Algorithmus, der dir basierend au...  Classification-2-1-8\n",
      "960  [{'de': 'Ein Algorithmus, der dir basierend au...  Classification-2-1-8\n",
      "961  [{'de': 'Ein Algorithmus, der dir basierend au...  Classification-2-1-8\n",
      "962  [{'de': 'Ein Algorithmus, der dir basierend au...  Classification-2-1-8\n",
      "963  [{'de': 'Ein Algorithmus, der dir basierend au...  Classification-2-1-8\n",
      "964  [{'de': 'Ein Algorithmus, der dir basierend au...  Classification-2-1-8,      answers        taskId\n",
      "986      NaN  LimitsML-1-1\n",
      "987      NaN  LimitsML-1-1\n",
      "988      NaN  LimitsML-1-1\n",
      "989      NaN  LimitsML-1-1\n",
      "990      NaN  LimitsML-1-1\n",
      "991      NaN  LimitsML-1-1\n",
      "992      NaN  LimitsML-1-1\n",
      "993      NaN  LimitsML-1-1\n",
      "994      NaN  LimitsML-1-1\n",
      "995      NaN  LimitsML-1-1\n",
      "996      NaN  LimitsML-1-1\n",
      "997      NaN  LimitsML-1-1\n",
      "998      NaN  LimitsML-1-1\n",
      "999      NaN  LimitsML-1-1\n",
      "1000     NaN  LimitsML-1-1,                                                 answers      taskId\n",
      "1044  [{'de': 'KI-Anwendungen zeichnen sich dadurch ...  EvalML-1-3\n",
      "1045  [{'de': 'KI-Anwendungen zeichnen sich dadurch ...  EvalML-1-3\n",
      "1046  [{'de': 'KI-Anwendungen zeichnen sich dadurch ...  EvalML-1-3\n",
      "1047  [{'de': 'KI-Anwendungen zeichnen sich dadurch ...  EvalML-1-3\n",
      "1048  [{'de': 'KI-Anwendungen zeichnen sich dadurch ...  EvalML-1-3\n",
      "1049  [{'de': 'KI-Anwendungen zeichnen sich dadurch ...  EvalML-1-3\n",
      "1050  [{'de': 'KI-Anwendungen zeichnen sich dadurch ...  EvalML-1-3\n",
      "1051  [{'de': 'KI-Anwendungen zeichnen sich dadurch ...  EvalML-1-3\n",
      "1052  [{'de': 'KI-Anwendungen zeichnen sich dadurch ...  EvalML-1-3\n",
      "1053  [{'de': 'KI-Anwendungen zeichnen sich dadurch ...  EvalML-1-3\n",
      "1054  [{'de': 'KI-Anwendungen zeichnen sich dadurch ...  EvalML-1-3\n",
      "1055  [{'de': 'KI-Anwendungen zeichnen sich dadurch ...  EvalML-1-3\n",
      "1056  [{'de': 'KI-Anwendungen zeichnen sich dadurch ...  EvalML-1-3\n",
      "1057  [{'de': 'KI-Anwendungen zeichnen sich dadurch ...  EvalML-1-3,                                                 answers      taskId\n",
      "1058  [{'de': 'Die Erkennung von Gegenständen auf Bi...  EvalML-1-4\n",
      "1059  [{'de': 'Die Erkennung von Gegenständen auf Bi...  EvalML-1-4\n",
      "1060  [{'de': 'Die Erkennung von Gegenständen auf Bi...  EvalML-1-4\n",
      "1061  [{'de': 'Die Erkennung von Gegenständen auf Bi...  EvalML-1-4\n",
      "1062  [{'de': 'Die Erkennung von Gegenständen auf Bi...  EvalML-1-4\n",
      "1063  [{'de': 'Die Erkennung von Gegenständen auf Bi...  EvalML-1-4\n",
      "1064  [{'de': 'Die Erkennung von Gegenständen auf Bi...  EvalML-1-4\n",
      "1065  [{'de': 'Die Erkennung von Gegenständen auf Bi...  EvalML-1-4\n",
      "1066  [{'de': 'Die Erkennung von Gegenständen auf Bi...  EvalML-1-4\n",
      "1067  [{'de': 'Die Erkennung von Gegenständen auf Bi...  EvalML-1-4\n",
      "1068  [{'de': 'Die Erkennung von Gegenständen auf Bi...  EvalML-1-4\n",
      "1069  [{'de': 'Die Erkennung von Gegenständen auf Bi...  EvalML-1-4\n",
      "1070  [{'de': 'Die Erkennung von Gegenständen auf Bi...  EvalML-1-4\n",
      "1071  [{'de': 'Die Erkennung von Gegenständen auf Bi...  EvalML-1-4,                                                 answers      taskId\n",
      "1114  [{'de': 'Algorithmen des maschinellen Lernens ...  EvalML-1-8\n",
      "1115  [{'de': 'Algorithmen des maschinellen Lernens ...  EvalML-1-8\n",
      "1116  [{'de': 'Algorithmen des maschinellen Lernens ...  EvalML-1-8\n",
      "1117  [{'de': 'Algorithmen des maschinellen Lernens ...  EvalML-1-8\n",
      "1118  [{'de': 'Algorithmen des maschinellen Lernens ...  EvalML-1-8\n",
      "1119  [{'de': 'Algorithmen des maschinellen Lernens ...  EvalML-1-8\n",
      "1120  [{'de': 'Algorithmen des maschinellen Lernens ...  EvalML-1-8\n",
      "1121  [{'de': 'Algorithmen des maschinellen Lernens ...  EvalML-1-8\n",
      "1122  [{'de': 'Algorithmen des maschinellen Lernens ...  EvalML-1-8\n",
      "1123  [{'de': 'Algorithmen des maschinellen Lernens ...  EvalML-1-8\n",
      "1124  [{'de': 'Algorithmen des maschinellen Lernens ...  EvalML-1-8\n",
      "1125  [{'de': 'Algorithmen des maschinellen Lernens ...  EvalML-1-8\n",
      "1126  [{'de': 'Algorithmen des maschinellen Lernens ...  EvalML-1-8\n",
      "1127  [{'de': 'Algorithmen des maschinellen Lernens ...  EvalML-1-8,                                                 answers      taskId\n",
      "1128  [{'de': 'Eine Webseite, die für neue Rezepte v...  EvalML-1-9\n",
      "1129  [{'de': 'Eine Webseite, die für neue Rezepte v...  EvalML-1-9\n",
      "1130  [{'de': 'Eine Webseite, die für neue Rezepte v...  EvalML-1-9\n",
      "1131  [{'de': 'Eine Webseite, die für neue Rezepte v...  EvalML-1-9\n",
      "1132  [{'de': 'Eine Webseite, die für neue Rezepte v...  EvalML-1-9\n",
      "1133  [{'de': 'Eine Webseite, die für neue Rezepte v...  EvalML-1-9\n",
      "1134  [{'de': 'Eine Webseite, die für neue Rezepte v...  EvalML-1-9\n",
      "1135  [{'de': 'Eine Webseite, die für neue Rezepte v...  EvalML-1-9\n",
      "1136  [{'de': 'Eine Webseite, die für neue Rezepte v...  EvalML-1-9\n",
      "1137  [{'de': 'Eine Webseite, die für neue Rezepte v...  EvalML-1-9\n",
      "1138  [{'de': 'Eine Webseite, die für neue Rezepte v...  EvalML-1-9\n",
      "1139  [{'de': 'Eine Webseite, die für neue Rezepte v...  EvalML-1-9\n",
      "1140  [{'de': 'Eine Webseite, die für neue Rezepte v...  EvalML-1-9\n",
      "1141  [{'de': 'Eine Webseite, die für neue Rezepte v...  EvalML-1-9,      answers        taskId\n",
      "1142     NaN  Impact-1-1-1\n",
      "1143     NaN  Impact-1-1-1\n",
      "1144     NaN  Impact-1-1-1\n",
      "1145     NaN  Impact-1-1-1\n",
      "1146     NaN  Impact-1-1-1\n",
      "1147     NaN  Impact-1-1-1\n",
      "1148     NaN  Impact-1-1-1\n",
      "1149     NaN  Impact-1-1-1\n",
      "1150     NaN  Impact-1-1-1\n",
      "1151     NaN  Impact-1-1-1\n",
      "1152     NaN  Impact-1-1-1\n",
      "1153     NaN  Impact-1-1-1\n",
      "1154     NaN  Impact-1-1-1\n",
      "1155     NaN  Impact-1-1-1\n",
      "1156     NaN  Impact-1-1-1\n",
      "1157     NaN  Impact-1-1-1\n",
      "1158     NaN  Impact-1-1-1\n",
      "1159     NaN  Impact-1-1-1\n",
      "1160     NaN  Impact-1-1-1\n",
      "1161     NaN  Impact-1-1-1\n",
      "1162     NaN  Impact-1-1-1\n",
      "1163     NaN  Impact-1-1-1\n",
      "1164     NaN  Impact-1-1-1\n",
      "1165     NaN  Impact-1-1-1,                                                 answers        taskId\n",
      "1340  [{'de': 'Pflegepersonal', 'en-US': 'Care giver...  Impact-3-1-2\n",
      "1341  [{'de': 'Pflegepersonal', 'en-US': 'Care giver...  Impact-3-1-2\n",
      "1342  [{'de': 'Pflegepersonal', 'en-US': 'Care giver...  Impact-3-1-2\n",
      "1343  [{'de': 'Pflegepersonal', 'en-US': 'Care giver...  Impact-3-1-2\n",
      "1344  [{'de': 'Pflegepersonal', 'en-US': 'Care giver...  Impact-3-1-2\n",
      "1345  [{'de': 'Pflegepersonal', 'en-US': 'Care giver...  Impact-3-1-2\n",
      "1346  [{'de': 'Pflegepersonal', 'en-US': 'Care giver...  Impact-3-1-2\n",
      "1347  [{'de': 'Pflegepersonal', 'en-US': 'Care giver...  Impact-3-1-2\n",
      "1348  [{'de': 'Pflegepersonal', 'en-US': 'Care giver...  Impact-3-1-2\n",
      "1349  [{'de': 'Pflegepersonal', 'en-US': 'Care giver...  Impact-3-1-2\n",
      "1350  [{'de': 'Pflegepersonal', 'en-US': 'Care giver...  Impact-3-1-2\n",
      "1351  [{'de': 'Pflegepersonal', 'en-US': 'Care giver...  Impact-3-1-2\n",
      "1352  [{'de': 'Pflegepersonal', 'en-US': 'Care giver...  Impact-3-1-2\n",
      "1353  [{'de': 'Pflegepersonal', 'en-US': 'Care giver...  Impact-3-1-2\n",
      "1354  [{'de': 'Pflegepersonal', 'en-US': 'Care giver...  Impact-3-1-2\n",
      "1355  [{'de': 'Pflegepersonal', 'en-US': 'Care giver...  Impact-3-1-2\n",
      "1356  [{'de': 'Pflegepersonal', 'en-US': 'Care giver...  Impact-3-1-2\n",
      "1357  [{'de': 'Pflegepersonal', 'en-US': 'Care giver...  Impact-3-1-2\n",
      "1358  [{'de': 'Pflegepersonal', 'en-US': 'Care giver...  Impact-3-1-2\n",
      "1359  [{'de': 'Pflegepersonal', 'en-US': 'Care giver...  Impact-3-1-2,      answers        taskId\n",
      "1380     NaN  Impact-4-1-1\n",
      "1381     NaN  Impact-4-1-1\n",
      "1382     NaN  Impact-4-1-1\n",
      "1383     NaN  Impact-4-1-1\n",
      "1384     NaN  Impact-4-1-1\n",
      "1385     NaN  Impact-4-1-1\n",
      "1386     NaN  Impact-4-1-1\n",
      "1387     NaN  Impact-4-1-1\n",
      "1388     NaN  Impact-4-1-1\n",
      "1389     NaN  Impact-4-1-1\n",
      "1390     NaN  Impact-4-1-1\n",
      "1391     NaN  Impact-4-1-1\n",
      "1392     NaN  Impact-4-1-1\n",
      "1393     NaN  Impact-4-1-1\n",
      "1394     NaN  Impact-4-1-1\n",
      "1395     NaN  Impact-4-1-1\n",
      "1396     NaN  Impact-4-1-1\n",
      "1397     NaN  Impact-4-1-1\n",
      "1398     NaN  Impact-4-1-1\n",
      "1399     NaN  Impact-4-1-1,                                                 answers                taskId\n",
      "1556  [{'de': 'Gehe Vorwärts', 'en-US': 'Move forwar...  Algorithmic-1-v2-2-1\n",
      "1557  [{'de': 'Gehe Vorwärts', 'en-US': 'Move forwar...  Algorithmic-1-v2-2-1,                                                 answers  \\\n",
      "1558  [{'de': 'Ein Programm besteht aus Blöcken, die...   \n",
      "\n",
      "                          taskId  \n",
      "1558  AlgorithmicAlltag-1-v2-1-1  ,                                                 answers  \\\n",
      "1561  [{'de': 'Sie bestehen aus einzelnen Schritten,...   \n",
      "\n",
      "                          taskId  \n",
      "1561  AlgorithmicAlltag-1-v2-1-4  ,                                                 answers                taskId\n",
      "1564  [{'de': 'Es könnte zu unterschiedlichen Ergebn...  Algorithmic-2-v2-1-2,                                                 answers                taskId\n",
      "1566  [{'universal': ''}, {'universal': ''}, {'unive...  Algorithmic-3-v2-1-2]\n"
     ]
    },
    {
     "data": {
      "text/html": [
       "<div>\n",
       "<style scoped>\n",
       "    .dataframe tbody tr th:only-of-type {\n",
       "        vertical-align: middle;\n",
       "    }\n",
       "\n",
       "    .dataframe tbody tr th {\n",
       "        vertical-align: top;\n",
       "    }\n",
       "\n",
       "    .dataframe thead th {\n",
       "        text-align: right;\n",
       "    }\n",
       "</style>\n",
       "<table border=\"1\" class=\"dataframe\">\n",
       "  <thead>\n",
       "    <tr style=\"text-align: right;\">\n",
       "      <th></th>\n",
       "      <th>pupilId</th>\n",
       "      <th>taskId</th>\n",
       "      <th>taskSeriesId</th>\n",
       "      <th>state</th>\n",
       "      <th>submitted</th>\n",
       "      <th>history</th>\n",
       "      <th>subType</th>\n",
       "      <th>evaluation</th>\n",
       "      <th>falseAttempts</th>\n",
       "      <th>hintsTaken</th>\n",
       "      <th>rating</th>\n",
       "      <th>teacherFeedback</th>\n",
       "      <th>question</th>\n",
       "      <th>answers</th>\n",
       "      <th>minLabel</th>\n",
       "      <th>maxLabel</th>\n",
       "      <th>hints</th>\n",
       "      <th>sampleSolution</th>\n",
       "    </tr>\n",
       "  </thead>\n",
       "  <tbody>\n",
       "    <tr>\n",
       "      <th>120</th>\n",
       "      <td>bniRycMi5bwrXjvGy</td>\n",
       "      <td>AI-2-v2-1-1</td>\n",
       "      <td>AI-2-v2</td>\n",
       "      <td>[True, True, False, True]</td>\n",
       "      <td>True</td>\n",
       "      <td>[]</td>\n",
       "      <td>multipleChoice</td>\n",
       "      <td>correct</td>\n",
       "      <td>NaN</td>\n",
       "      <td>NaN</td>\n",
       "      <td>NaN</td>\n",
       "      <td>NaN</td>\n",
       "      <td>Kannst du erkennen, wo KI überall drin steckt?...</td>\n",
       "      <td>NaN</td>\n",
       "      <td>NaN</td>\n",
       "      <td>NaN</td>\n",
       "      <td>NaN</td>\n",
       "      <td>NaN</td>\n",
       "    </tr>\n",
       "    <tr>\n",
       "      <th>121</th>\n",
       "      <td>sqBXKssFvS8pFYAMv</td>\n",
       "      <td>AI-2-v2-1-1</td>\n",
       "      <td>AI-2-v2</td>\n",
       "      <td>[True, True, False, True]</td>\n",
       "      <td>True</td>\n",
       "      <td>[]</td>\n",
       "      <td>multipleChoice</td>\n",
       "      <td>correct</td>\n",
       "      <td>NaN</td>\n",
       "      <td>NaN</td>\n",
       "      <td>NaN</td>\n",
       "      <td>NaN</td>\n",
       "      <td>Kannst du erkennen, wo KI überall drin steckt?...</td>\n",
       "      <td>NaN</td>\n",
       "      <td>NaN</td>\n",
       "      <td>NaN</td>\n",
       "      <td>NaN</td>\n",
       "      <td>NaN</td>\n",
       "    </tr>\n",
       "    <tr>\n",
       "      <th>122</th>\n",
       "      <td>Kd6FuRsrq6QvPrkKp</td>\n",
       "      <td>AI-2-v2-1-1</td>\n",
       "      <td>AI-2-v2</td>\n",
       "      <td>[True, True, False, True]</td>\n",
       "      <td>True</td>\n",
       "      <td>[]</td>\n",
       "      <td>multipleChoice</td>\n",
       "      <td>correct</td>\n",
       "      <td>NaN</td>\n",
       "      <td>1</td>\n",
       "      <td>NaN</td>\n",
       "      <td>NaN</td>\n",
       "      <td>Kannst du erkennen, wo KI überall drin steckt?...</td>\n",
       "      <td>NaN</td>\n",
       "      <td>NaN</td>\n",
       "      <td>NaN</td>\n",
       "      <td>NaN</td>\n",
       "      <td>NaN</td>\n",
       "    </tr>\n",
       "    <tr>\n",
       "      <th>123</th>\n",
       "      <td>6bBwnX2mwAp2NAwNR</td>\n",
       "      <td>AI-2-v2-1-1</td>\n",
       "      <td>AI-2-v2</td>\n",
       "      <td>[True, True, False, True]</td>\n",
       "      <td>True</td>\n",
       "      <td>[]</td>\n",
       "      <td>multipleChoice</td>\n",
       "      <td>correct</td>\n",
       "      <td>NaN</td>\n",
       "      <td>NaN</td>\n",
       "      <td>NaN</td>\n",
       "      <td>NaN</td>\n",
       "      <td>Kannst du erkennen, wo KI überall drin steckt?...</td>\n",
       "      <td>NaN</td>\n",
       "      <td>NaN</td>\n",
       "      <td>NaN</td>\n",
       "      <td>NaN</td>\n",
       "      <td>NaN</td>\n",
       "    </tr>\n",
       "    <tr>\n",
       "      <th>124</th>\n",
       "      <td>ZTvPk2i77LDC8pFmu</td>\n",
       "      <td>AI-2-v2-1-1</td>\n",
       "      <td>AI-2-v2</td>\n",
       "      <td>[True, True, False, True]</td>\n",
       "      <td>True</td>\n",
       "      <td>[]</td>\n",
       "      <td>multipleChoice</td>\n",
       "      <td>correct</td>\n",
       "      <td>[[False, False, False, True], [False, False, F...</td>\n",
       "      <td>1</td>\n",
       "      <td>NaN</td>\n",
       "      <td>NaN</td>\n",
       "      <td>Kannst du erkennen, wo KI überall drin steckt?...</td>\n",
       "      <td>NaN</td>\n",
       "      <td>NaN</td>\n",
       "      <td>NaN</td>\n",
       "      <td>NaN</td>\n",
       "      <td>NaN</td>\n",
       "    </tr>\n",
       "  </tbody>\n",
       "</table>\n",
       "</div>"
      ],
      "text/plain": [
       "               pupilId       taskId taskSeriesId                      state  \\\n",
       "120  bniRycMi5bwrXjvGy  AI-2-v2-1-1      AI-2-v2  [True, True, False, True]   \n",
       "121  sqBXKssFvS8pFYAMv  AI-2-v2-1-1      AI-2-v2  [True, True, False, True]   \n",
       "122  Kd6FuRsrq6QvPrkKp  AI-2-v2-1-1      AI-2-v2  [True, True, False, True]   \n",
       "123  6bBwnX2mwAp2NAwNR  AI-2-v2-1-1      AI-2-v2  [True, True, False, True]   \n",
       "124  ZTvPk2i77LDC8pFmu  AI-2-v2-1-1      AI-2-v2  [True, True, False, True]   \n",
       "\n",
       "    submitted history         subType evaluation  \\\n",
       "120      True      []  multipleChoice    correct   \n",
       "121      True      []  multipleChoice    correct   \n",
       "122      True      []  multipleChoice    correct   \n",
       "123      True      []  multipleChoice    correct   \n",
       "124      True      []  multipleChoice    correct   \n",
       "\n",
       "                                         falseAttempts hintsTaken rating  \\\n",
       "120                                                NaN        NaN    NaN   \n",
       "121                                                NaN        NaN    NaN   \n",
       "122                                                NaN          1    NaN   \n",
       "123                                                NaN        NaN    NaN   \n",
       "124  [[False, False, False, True], [False, False, F...          1    NaN   \n",
       "\n",
       "    teacherFeedback                                           question  \\\n",
       "120             NaN  Kannst du erkennen, wo KI überall drin steckt?...   \n",
       "121             NaN  Kannst du erkennen, wo KI überall drin steckt?...   \n",
       "122             NaN  Kannst du erkennen, wo KI überall drin steckt?...   \n",
       "123             NaN  Kannst du erkennen, wo KI überall drin steckt?...   \n",
       "124             NaN  Kannst du erkennen, wo KI überall drin steckt?...   \n",
       "\n",
       "    answers minLabel maxLabel hints sampleSolution  \n",
       "120     NaN      NaN      NaN   NaN            NaN  \n",
       "121     NaN      NaN      NaN   NaN            NaN  \n",
       "122     NaN      NaN      NaN   NaN            NaN  \n",
       "123     NaN      NaN      NaN   NaN            NaN  \n",
       "124     NaN      NaN      NaN   NaN            NaN  "
      ]
     },
     "execution_count": 24,
     "metadata": {},
     "output_type": "execute_result"
    }
   ],
   "source": [
    "multipleChoice = df[df[\"subType\"]==\"multipleChoice\"]\n",
    "\n",
    "errors_in = []\n",
    "\n",
    "for i in multipleChoice[\"taskId\"].unique():\n",
    "    if (len(multipleChoice[multipleChoice[\"taskId\"] == i][\"answers\"])):\n",
    "        errors_in.append(multipleChoice[multipleChoice[\"taskId\"] == i][[\"answers\", \"taskId\"]])\n",
    "    #print(multipleChoice[multipleChoice[\"taskId\"] == i][\"question\"].unique()[0])\n",
    "    #answers = []\n",
    "    #for answer in multipleChoice[multipleChoice[\"taskId\"] == i][\"answers\"]:\n",
    "    #    try:\n",
    "    #        if(answer[0][\"de\"]):\n",
    "    #            pass\n",
    "    #        #print(answer[0][\"de\"])\n",
    "    #    except TypeError:\n",
    "    #        pass\n",
    "    #        #print(multipleChoice[multipleChoice[\"taskId\"] == i][[\"taskId\", \"pupilId\"]])\n",
    "\n",
    "print(errors_in)\n",
    "    \n",
    "multipleChoice.head()"
   ]
  },
  {
   "cell_type": "code",
   "execution_count": 245,
   "metadata": {},
   "outputs": [
    {
     "name": "stdout",
     "output_type": "stream",
     "text": [
      "Kannst du erkennen, wo KI überall drin steckt? Denke dabei an die Eigenschaften, die alle KI-Anwendungen verbindet. Bei Multiple-Choice Aufgaben, neben denen “Mehrfachauswahl” steht, können mehrere Antworten richtig sein. Wähle alle richtigen Antworten aus. Wenn du mal nicht weiter weißt, kannst du dir auch einen Tipp holen.\n",
      "[nan, nan, nan, nan, nan, nan, nan, nan, nan, nan, nan, nan, nan, nan, nan, nan, nan, nan, nan, nan, nan, nan, nan, nan, nan]\n",
      "AI-2-v2-1-1\n"
     ]
    },
    {
     "data": {
      "image/png": "[encoded data removed]",
      "text/plain": [
       "<Figure size 432x288 with 1 Axes>"
      ]
     },
     "metadata": {
      "needs_background": "light"
     },
     "output_type": "display_data"
    },
    {
     "name": "stdout",
     "output_type": "stream",
     "text": [
      "Was für Sachen können KI-Anwendungen?\n",
      "[nan, nan, nan, nan, nan, nan, nan, nan, nan, nan, nan, nan, nan, nan, nan, nan, nan, nan, nan, nan, nan, nan, nan, nan]\n",
      "AI-3-v2-1-1\n"
     ]
    },
    {
     "data": {
      "image/png": "[encoded data removed]",
      "text/plain": [
       "<Figure size 432x288 with 1 Axes>"
      ]
     },
     "metadata": {
      "needs_background": "light"
     },
     "output_type": "display_data"
    },
    {
     "name": "stdout",
     "output_type": "stream",
     "text": [
      "Welche der Aussagen über KI-Anwendungen stimmen?\n",
      "[[{'de': 'Empfehlungssysteme gehören zur spezifischen KI', 'en-US': 'Recommendation systems are part of specific AI'}, {'de': 'Programme zur Bilderkennung gehören zur allgemeinen KI', 'en-US': 'Image recognition programs are part of general AI'}, {'de': 'Eine KI aus einem Film, die eigenständige Entscheidungen trifft, mit Menschen spricht und sich am Ende gegen sie wendet, gehört zur allgemeinen KI', 'en-US': 'An AI from a movie that makes independent decisions, talks to humans and turns against them in the end is part of general AI'}], [{'de': 'Empfehlungssysteme gehören zur spezifischen KI', 'en-US': 'Recommendation systems are part of specific AI'}, {'de': 'Programme zur Bilderkennung gehören zur allgemeinen KI', 'en-US': 'Image recognition programs are part of general AI'}, {'de': 'Eine KI aus einem Film, die eigenständige Entscheidungen trifft, mit Menschen spricht und sich am Ende gegen sie wendet, gehört zur allgemeinen KI', 'en-US': 'An AI from a movie that makes independent decisions, talks to humans and turns against them in the end is part of general AI'}], [{'de': 'Empfehlungssysteme gehören zur spezifischen KI', 'en-US': 'Recommendation systems are part of specific AI'}, {'de': 'Programme zur Bilderkennung gehören zur allgemeinen KI', 'en-US': 'Image recognition programs are part of general AI'}, {'de': 'Eine KI aus einem Film, die eigenständige Entscheidungen trifft, mit Menschen spricht und sich am Ende gegen sie wendet, gehört zur allgemeinen KI', 'en-US': 'An AI from a movie that makes independent decisions, talks to humans and turns against them in the end is part of general AI'}], [{'de': 'Empfehlungssysteme gehören zur spezifischen KI', 'en-US': 'Recommendation systems are part of specific AI'}, {'de': 'Programme zur Bilderkennung gehören zur allgemeinen KI', 'en-US': 'Image recognition programs are part of general AI'}, {'de': 'Eine KI aus einem Film, die eigenständige Entscheidungen trifft, mit Menschen spricht und sich am Ende gegen sie wendet, gehört zur allgemeinen KI', 'en-US': 'An AI from a movie that makes independent decisions, talks to humans and turns against them in the end is part of general AI'}], [{'de': 'Empfehlungssysteme gehören zur spezifischen KI', 'en-US': 'Recommendation systems are part of specific AI'}, {'de': 'Programme zur Bilderkennung gehören zur allgemeinen KI', 'en-US': 'Image recognition programs are part of general AI'}, {'de': 'Eine KI aus einem Film, die eigenständige Entscheidungen trifft, mit Menschen spricht und sich am Ende gegen sie wendet, gehört zur allgemeinen KI', 'en-US': 'An AI from a movie that makes independent decisions, talks to humans and turns against them in the end is part of general AI'}], [{'de': 'Empfehlungssysteme gehören zur spezifischen KI', 'en-US': 'Recommendation systems are part of specific AI'}, {'de': 'Programme zur Bilderkennung gehören zur allgemeinen KI', 'en-US': 'Image recognition programs are part of general AI'}, {'de': 'Eine KI aus einem Film, die eigenständige Entscheidungen trifft, mit Menschen spricht und sich am Ende gegen sie wendet, gehört zur allgemeinen KI', 'en-US': 'An AI from a movie that makes independent decisions, talks to humans and turns against them in the end is part of general AI'}], [{'de': 'Empfehlungssysteme gehören zur spezifischen KI', 'en-US': 'Recommendation systems are part of specific AI'}, {'de': 'Programme zur Bilderkennung gehören zur allgemeinen KI', 'en-US': 'Image recognition programs are part of general AI'}, {'de': 'Eine KI aus einem Film, die eigenständige Entscheidungen trifft, mit Menschen spricht und sich am Ende gegen sie wendet, gehört zur allgemeinen KI', 'en-US': 'An AI from a movie that makes independent decisions, talks to humans and turns against them in the end is part of general AI'}], [{'de': 'Empfehlungssysteme gehören zur spezifischen KI', 'en-US': 'Recommendation systems are part of specific AI'}, {'de': 'Programme zur Bilderkennung gehören zur allgemeinen KI', 'en-US': 'Image recognition programs are part of general AI'}, {'de': 'Eine KI aus einem Film, die eigenständige Entscheidungen trifft, mit Menschen spricht und sich am Ende gegen sie wendet, gehört zur allgemeinen KI', 'en-US': 'An AI from a movie that makes independent decisions, talks to humans and turns against them in the end is part of general AI'}], [{'de': 'Empfehlungssysteme gehören zur spezifischen KI', 'en-US': 'Recommendation systems are part of specific AI'}, {'de': 'Programme zur Bilderkennung gehören zur allgemeinen KI', 'en-US': 'Image recognition programs are part of general AI'}, {'de': 'Eine KI aus einem Film, die eigenständige Entscheidungen trifft, mit Menschen spricht und sich am Ende gegen sie wendet, gehört zur allgemeinen KI', 'en-US': 'An AI from a movie that makes independent decisions, talks to humans and turns against them in the end is part of general AI'}], [{'de': 'Empfehlungssysteme gehören zur spezifischen KI', 'en-US': 'Recommendation systems are part of specific AI'}, {'de': 'Programme zur Bilderkennung gehören zur allgemeinen KI', 'en-US': 'Image recognition programs are part of general AI'}, {'de': 'Eine KI aus einem Film, die eigenständige Entscheidungen trifft, mit Menschen spricht und sich am Ende gegen sie wendet, gehört zur allgemeinen KI', 'en-US': 'An AI from a movie that makes independent decisions, talks to humans and turns against them in the end is part of general AI'}], [{'de': 'Empfehlungssysteme gehören zur spezifischen KI', 'en-US': 'Recommendation systems are part of specific AI'}, {'de': 'Programme zur Bilderkennung gehören zur allgemeinen KI', 'en-US': 'Image recognition programs are part of general AI'}, {'de': 'Eine KI aus einem Film, die eigenständige Entscheidungen trifft, mit Menschen spricht und sich am Ende gegen sie wendet, gehört zur allgemeinen KI', 'en-US': 'An AI from a movie that makes independent decisions, talks to humans and turns against them in the end is part of general AI'}], [{'de': 'Empfehlungssysteme gehören zur spezifischen KI', 'en-US': 'Recommendation systems are part of specific AI'}, {'de': 'Programme zur Bilderkennung gehören zur allgemeinen KI', 'en-US': 'Image recognition programs are part of general AI'}, {'de': 'Eine KI aus einem Film, die eigenständige Entscheidungen trifft, mit Menschen spricht und sich am Ende gegen sie wendet, gehört zur allgemeinen KI', 'en-US': 'An AI from a movie that makes independent decisions, talks to humans and turns against them in the end is part of general AI'}], [{'de': 'Empfehlungssysteme gehören zur spezifischen KI', 'en-US': 'Recommendation systems are part of specific AI'}, {'de': 'Programme zur Bilderkennung gehören zur allgemeinen KI', 'en-US': 'Image recognition programs are part of general AI'}, {'de': 'Eine KI aus einem Film, die eigenständige Entscheidungen trifft, mit Menschen spricht und sich am Ende gegen sie wendet, gehört zur allgemeinen KI', 'en-US': 'An AI from a movie that makes independent decisions, talks to humans and turns against them in the end is part of general AI'}], [{'de': 'Empfehlungssysteme gehören zur spezifischen KI', 'en-US': 'Recommendation systems are part of specific AI'}, {'de': 'Programme zur Bilderkennung gehören zur allgemeinen KI', 'en-US': 'Image recognition programs are part of general AI'}, {'de': 'Eine KI aus einem Film, die eigenständige Entscheidungen trifft, mit Menschen spricht und sich am Ende gegen sie wendet, gehört zur allgemeinen KI', 'en-US': 'An AI from a movie that makes independent decisions, talks to humans and turns against them in the end is part of general AI'}], [{'de': 'Empfehlungssysteme gehören zur spezifischen KI', 'en-US': 'Recommendation systems are part of specific AI'}, {'de': 'Programme zur Bilderkennung gehören zur allgemeinen KI', 'en-US': 'Image recognition programs are part of general AI'}, {'de': 'Eine KI aus einem Film, die eigenständige Entscheidungen trifft, mit Menschen spricht und sich am Ende gegen sie wendet, gehört zur allgemeinen KI', 'en-US': 'An AI from a movie that makes independent decisions, talks to humans and turns against them in the end is part of general AI'}], [{'de': 'Empfehlungssysteme gehören zur spezifischen KI', 'en-US': 'Recommendation systems are part of specific AI'}, {'de': 'Programme zur Bilderkennung gehören zur allgemeinen KI', 'en-US': 'Image recognition programs are part of general AI'}, {'de': 'Eine KI aus einem Film, die eigenständige Entscheidungen trifft, mit Menschen spricht und sich am Ende gegen sie wendet, gehört zur allgemeinen KI', 'en-US': 'An AI from a movie that makes independent decisions, talks to humans and turns against them in the end is part of general AI'}], [{'de': 'Empfehlungssysteme gehören zur spezifischen KI', 'en-US': 'Recommendation systems are part of specific AI'}, {'de': 'Programme zur Bilderkennung gehören zur allgemeinen KI', 'en-US': 'Image recognition programs are part of general AI'}, {'de': 'Eine KI aus einem Film, die eigenständige Entscheidungen trifft, mit Menschen spricht und sich am Ende gegen sie wendet, gehört zur allgemeinen KI', 'en-US': 'An AI from a movie that makes independent decisions, talks to humans and turns against them in the end is part of general AI'}], [{'de': 'Empfehlungssysteme gehören zur spezifischen KI', 'en-US': 'Recommendation systems are part of specific AI'}, {'de': 'Programme zur Bilderkennung gehören zur allgemeinen KI', 'en-US': 'Image recognition programs are part of general AI'}, {'de': 'Eine KI aus einem Film, die eigenständige Entscheidungen trifft, mit Menschen spricht und sich am Ende gegen sie wendet, gehört zur allgemeinen KI', 'en-US': 'An AI from a movie that makes independent decisions, talks to humans and turns against them in the end is part of general AI'}], [{'de': 'Empfehlungssysteme gehören zur spezifischen KI', 'en-US': 'Recommendation systems are part of specific AI'}, {'de': 'Programme zur Bilderkennung gehören zur allgemeinen KI', 'en-US': 'Image recognition programs are part of general AI'}, {'de': 'Eine KI aus einem Film, die eigenständige Entscheidungen trifft, mit Menschen spricht und sich am Ende gegen sie wendet, gehört zur allgemeinen KI', 'en-US': 'An AI from a movie that makes independent decisions, talks to humans and turns against them in the end is part of general AI'}], [{'de': 'Empfehlungssysteme gehören zur spezifischen KI', 'en-US': 'Recommendation systems are part of specific AI'}, {'de': 'Programme zur Bilderkennung gehören zur allgemeinen KI', 'en-US': 'Image recognition programs are part of general AI'}, {'de': 'Eine KI aus einem Film, die eigenständige Entscheidungen trifft, mit Menschen spricht und sich am Ende gegen sie wendet, gehört zur allgemeinen KI', 'en-US': 'An AI from a movie that makes independent decisions, talks to humans and turns against them in the end is part of general AI'}], [{'de': 'Empfehlungssysteme gehören zur spezifischen KI', 'en-US': 'Recommendation systems are part of specific AI'}, {'de': 'Programme zur Bilderkennung gehören zur allgemeinen KI', 'en-US': 'Image recognition programs are part of general AI'}, {'de': 'Eine KI aus einem Film, die eigenständige Entscheidungen trifft, mit Menschen spricht und sich am Ende gegen sie wendet, gehört zur allgemeinen KI', 'en-US': 'An AI from a movie that makes independent decisions, talks to humans and turns against them in the end is part of general AI'}], [{'de': 'Empfehlungssysteme gehören zur spezifischen KI', 'en-US': 'Recommendation systems are part of specific AI'}, {'de': 'Programme zur Bilderkennung gehören zur allgemeinen KI', 'en-US': 'Image recognition programs are part of general AI'}, {'de': 'Eine KI aus einem Film, die eigenständige Entscheidungen trifft, mit Menschen spricht und sich am Ende gegen sie wendet, gehört zur allgemeinen KI', 'en-US': 'An AI from a movie that makes independent decisions, talks to humans and turns against them in the end is part of general AI'}], [{'de': 'Empfehlungssysteme gehören zur spezifischen KI', 'en-US': 'Recommendation systems are part of specific AI'}, {'de': 'Programme zur Bilderkennung gehören zur allgemeinen KI', 'en-US': 'Image recognition programs are part of general AI'}, {'de': 'Eine KI aus einem Film, die eigenständige Entscheidungen trifft, mit Menschen spricht und sich am Ende gegen sie wendet, gehört zur allgemeinen KI', 'en-US': 'An AI from a movie that makes independent decisions, talks to humans and turns against them in the end is part of general AI'}], [{'de': 'Empfehlungssysteme gehören zur spezifischen KI', 'en-US': 'Recommendation systems are part of specific AI'}, {'de': 'Programme zur Bilderkennung gehören zur allgemeinen KI', 'en-US': 'Image recognition programs are part of general AI'}, {'de': 'Eine KI aus einem Film, die eigenständige Entscheidungen trifft, mit Menschen spricht und sich am Ende gegen sie wendet, gehört zur allgemeinen KI', 'en-US': 'An AI from a movie that makes independent decisions, talks to humans and turns against them in the end is part of general AI'}]]\n",
      "AI-3-v2-1-2\n"
     ]
    },
    {
     "data": {
      "image/png": "[encoded data removed]",
      "text/plain": [
       "<Figure size 432x288 with 1 Axes>"
      ]
     },
     "metadata": {
      "needs_background": "light"
     },
     "output_type": "display_data"
    },
    {
     "name": "stdout",
     "output_type": "stream",
     "text": [
      "Was bedeuten diese Unterscheidung zwischen spezifischer und allgemeiner KI jetzt für die Intelligenz von KI-Anwendungen?\n",
      "[nan, nan, nan, nan, nan, nan, nan, nan, nan, nan, nan, nan, nan, nan, nan, nan, nan, nan, nan, nan, nan, nan]\n",
      "AI-4-v2-1-1\n"
     ]
    },
    {
     "data": {
      "image/png": "[encoded data removed]",
      "text/plain": [
       "<Figure size 432x288 with 1 Axes>"
      ]
     },
     "metadata": {
      "needs_background": "light"
     },
     "output_type": "display_data"
    },
    {
     "name": "stdout",
     "output_type": "stream",
     "text": [
      "Lass uns noch einmal das Wichtigste wiederholen! Welche dieser Aussagen stimmen?\n",
      "[[{'de': 'KI-Anwendungen treffen eigenständige Entscheidungen', 'en-US': 'AI applications make independent decisions'}, {'de': 'KI-Anwendungen lernen durch Erfahrung', 'en-US': 'AI applications learn through experience'}, {'de': 'Intelligentes Verhalten setzt allgemeine Intelligenz voraus', 'en-US': 'Intelligent behavior requires general intelligence'}, {'de': 'Heutige KI-Anwendungen gehören alle zur spezifischen KI', 'en-US': \"Today's AI applications all belong to specific AI\"}, {'de': 'Spezifische KI umfasst Anwendungen, die menschenähnliche Intelligenz in einem kleinen Bereich zeigen', 'en-US': 'Specific AI includes applications that exhibit human-like intelligence in a small domain'}, {'de': 'Ein Spam-Filter ist eine allgemeinen KI', 'en-US': 'A spam filter is a general AI'}, {'de': 'Eine KI, die in allen Bereichen so schlau ist wie ein Mensch, gibt es noch nicht', 'en-US': 'An AI that is as smart as a human in all areas does not yet exist'}], [{'de': 'KI-Anwendungen treffen eigenständige Entscheidungen', 'en-US': 'AI applications make independent decisions'}, {'de': 'KI-Anwendungen lernen durch Erfahrung', 'en-US': 'AI applications learn through experience'}, {'de': 'Intelligentes Verhalten setzt allgemeine Intelligenz voraus', 'en-US': 'Intelligent behavior requires general intelligence'}, {'de': 'Heutige KI-Anwendungen gehören alle zur spezifischen KI', 'en-US': \"Today's AI applications all belong to specific AI\"}, {'de': 'Spezifische KI umfasst Anwendungen, die menschenähnliche Intelligenz in einem kleinen Bereich zeigen', 'en-US': 'Specific AI includes applications that exhibit human-like intelligence in a small domain'}, {'de': 'Ein Spam-Filter ist eine allgemeinen KI', 'en-US': 'A spam filter is a general AI'}, {'de': 'Eine KI, die in allen Bereichen so schlau ist wie ein Mensch, gibt es noch nicht', 'en-US': 'An AI that is as smart as a human in all areas does not yet exist'}], [{'de': 'KI-Anwendungen treffen eigenständige Entscheidungen', 'en-US': 'AI applications make independent decisions'}, {'de': 'KI-Anwendungen lernen durch Erfahrung', 'en-US': 'AI applications learn through experience'}, {'de': 'Intelligentes Verhalten setzt allgemeine Intelligenz voraus', 'en-US': 'Intelligent behavior requires general intelligence'}, {'de': 'Heutige KI-Anwendungen gehören alle zur spezifischen KI', 'en-US': \"Today's AI applications all belong to specific AI\"}, {'de': 'Spezifische KI umfasst Anwendungen, die menschenähnliche Intelligenz in einem kleinen Bereich zeigen', 'en-US': 'Specific AI includes applications that exhibit human-like intelligence in a small domain'}, {'de': 'Ein Spam-Filter ist eine allgemeinen KI', 'en-US': 'A spam filter is a general AI'}, {'de': 'Eine KI, die in allen Bereichen so schlau ist wie ein Mensch, gibt es noch nicht', 'en-US': 'An AI that is as smart as a human in all areas does not yet exist'}], [{'de': 'KI-Anwendungen treffen eigenständige Entscheidungen', 'en-US': 'AI applications make independent decisions'}, {'de': 'KI-Anwendungen lernen durch Erfahrung', 'en-US': 'AI applications learn through experience'}, {'de': 'Intelligentes Verhalten setzt allgemeine Intelligenz voraus', 'en-US': 'Intelligent behavior requires general intelligence'}, {'de': 'Heutige KI-Anwendungen gehören alle zur spezifischen KI', 'en-US': \"Today's AI applications all belong to specific AI\"}, {'de': 'Spezifische KI umfasst Anwendungen, die menschenähnliche Intelligenz in einem kleinen Bereich zeigen', 'en-US': 'Specific AI includes applications that exhibit human-like intelligence in a small domain'}, {'de': 'Ein Spam-Filter ist eine allgemeinen KI', 'en-US': 'A spam filter is a general AI'}, {'de': 'Eine KI, die in allen Bereichen so schlau ist wie ein Mensch, gibt es noch nicht', 'en-US': 'An AI that is as smart as a human in all areas does not yet exist'}], [{'de': 'KI-Anwendungen treffen eigenständige Entscheidungen', 'en-US': 'AI applications make independent decisions'}, {'de': 'KI-Anwendungen lernen durch Erfahrung', 'en-US': 'AI applications learn through experience'}, {'de': 'Intelligentes Verhalten setzt allgemeine Intelligenz voraus', 'en-US': 'Intelligent behavior requires general intelligence'}, {'de': 'Heutige KI-Anwendungen gehören alle zur spezifischen KI', 'en-US': \"Today's AI applications all belong to specific AI\"}, {'de': 'Spezifische KI umfasst Anwendungen, die menschenähnliche Intelligenz in einem kleinen Bereich zeigen', 'en-US': 'Specific AI includes applications that exhibit human-like intelligence in a small domain'}, {'de': 'Ein Spam-Filter ist eine allgemeinen KI', 'en-US': 'A spam filter is a general AI'}, {'de': 'Eine KI, die in allen Bereichen so schlau ist wie ein Mensch, gibt es noch nicht', 'en-US': 'An AI that is as smart as a human in all areas does not yet exist'}], [{'de': 'KI-Anwendungen treffen eigenständige Entscheidungen', 'en-US': 'AI applications make independent decisions'}, {'de': 'KI-Anwendungen lernen durch Erfahrung', 'en-US': 'AI applications learn through experience'}, {'de': 'Intelligentes Verhalten setzt allgemeine Intelligenz voraus', 'en-US': 'Intelligent behavior requires general intelligence'}, {'de': 'Heutige KI-Anwendungen gehören alle zur spezifischen KI', 'en-US': \"Today's AI applications all belong to specific AI\"}, {'de': 'Spezifische KI umfasst Anwendungen, die menschenähnliche Intelligenz in einem kleinen Bereich zeigen', 'en-US': 'Specific AI includes applications that exhibit human-like intelligence in a small domain'}, {'de': 'Ein Spam-Filter ist eine allgemeinen KI', 'en-US': 'A spam filter is a general AI'}, {'de': 'Eine KI, die in allen Bereichen so schlau ist wie ein Mensch, gibt es noch nicht', 'en-US': 'An AI that is as smart as a human in all areas does not yet exist'}], [{'de': 'KI-Anwendungen treffen eigenständige Entscheidungen', 'en-US': 'AI applications make independent decisions'}, {'de': 'KI-Anwendungen lernen durch Erfahrung', 'en-US': 'AI applications learn through experience'}, {'de': 'Intelligentes Verhalten setzt allgemeine Intelligenz voraus', 'en-US': 'Intelligent behavior requires general intelligence'}, {'de': 'Heutige KI-Anwendungen gehören alle zur spezifischen KI', 'en-US': \"Today's AI applications all belong to specific AI\"}, {'de': 'Spezifische KI umfasst Anwendungen, die menschenähnliche Intelligenz in einem kleinen Bereich zeigen', 'en-US': 'Specific AI includes applications that exhibit human-like intelligence in a small domain'}, {'de': 'Ein Spam-Filter ist eine allgemeinen KI', 'en-US': 'A spam filter is a general AI'}, {'de': 'Eine KI, die in allen Bereichen so schlau ist wie ein Mensch, gibt es noch nicht', 'en-US': 'An AI that is as smart as a human in all areas does not yet exist'}], [{'de': 'KI-Anwendungen treffen eigenständige Entscheidungen', 'en-US': 'AI applications make independent decisions'}, {'de': 'KI-Anwendungen lernen durch Erfahrung', 'en-US': 'AI applications learn through experience'}, {'de': 'Intelligentes Verhalten setzt allgemeine Intelligenz voraus', 'en-US': 'Intelligent behavior requires general intelligence'}, {'de': 'Heutige KI-Anwendungen gehören alle zur spezifischen KI', 'en-US': \"Today's AI applications all belong to specific AI\"}, {'de': 'Spezifische KI umfasst Anwendungen, die menschenähnliche Intelligenz in einem kleinen Bereich zeigen', 'en-US': 'Specific AI includes applications that exhibit human-like intelligence in a small domain'}, {'de': 'Ein Spam-Filter ist eine allgemeinen KI', 'en-US': 'A spam filter is a general AI'}, {'de': 'Eine KI, die in allen Bereichen so schlau ist wie ein Mensch, gibt es noch nicht', 'en-US': 'An AI that is as smart as a human in all areas does not yet exist'}], [{'de': 'KI-Anwendungen treffen eigenständige Entscheidungen', 'en-US': 'AI applications make independent decisions'}, {'de': 'KI-Anwendungen lernen durch Erfahrung', 'en-US': 'AI applications learn through experience'}, {'de': 'Intelligentes Verhalten setzt allgemeine Intelligenz voraus', 'en-US': 'Intelligent behavior requires general intelligence'}, {'de': 'Heutige KI-Anwendungen gehören alle zur spezifischen KI', 'en-US': \"Today's AI applications all belong to specific AI\"}, {'de': 'Spezifische KI umfasst Anwendungen, die menschenähnliche Intelligenz in einem kleinen Bereich zeigen', 'en-US': 'Specific AI includes applications that exhibit human-like intelligence in a small domain'}, {'de': 'Ein Spam-Filter ist eine allgemeinen KI', 'en-US': 'A spam filter is a general AI'}, {'de': 'Eine KI, die in allen Bereichen so schlau ist wie ein Mensch, gibt es noch nicht', 'en-US': 'An AI that is as smart as a human in all areas does not yet exist'}], [{'de': 'KI-Anwendungen treffen eigenständige Entscheidungen', 'en-US': 'AI applications make independent decisions'}, {'de': 'KI-Anwendungen lernen durch Erfahrung', 'en-US': 'AI applications learn through experience'}, {'de': 'Intelligentes Verhalten setzt allgemeine Intelligenz voraus', 'en-US': 'Intelligent behavior requires general intelligence'}, {'de': 'Heutige KI-Anwendungen gehören alle zur spezifischen KI', 'en-US': \"Today's AI applications all belong to specific AI\"}, {'de': 'Spezifische KI umfasst Anwendungen, die menschenähnliche Intelligenz in einem kleinen Bereich zeigen', 'en-US': 'Specific AI includes applications that exhibit human-like intelligence in a small domain'}, {'de': 'Ein Spam-Filter ist eine allgemeinen KI', 'en-US': 'A spam filter is a general AI'}, {'de': 'Eine KI, die in allen Bereichen so schlau ist wie ein Mensch, gibt es noch nicht', 'en-US': 'An AI that is as smart as a human in all areas does not yet exist'}], [{'de': 'KI-Anwendungen treffen eigenständige Entscheidungen', 'en-US': 'AI applications make independent decisions'}, {'de': 'KI-Anwendungen lernen durch Erfahrung', 'en-US': 'AI applications learn through experience'}, {'de': 'Intelligentes Verhalten setzt allgemeine Intelligenz voraus', 'en-US': 'Intelligent behavior requires general intelligence'}, {'de': 'Heutige KI-Anwendungen gehören alle zur spezifischen KI', 'en-US': \"Today's AI applications all belong to specific AI\"}, {'de': 'Spezifische KI umfasst Anwendungen, die menschenähnliche Intelligenz in einem kleinen Bereich zeigen', 'en-US': 'Specific AI includes applications that exhibit human-like intelligence in a small domain'}, {'de': 'Ein Spam-Filter ist eine allgemeinen KI', 'en-US': 'A spam filter is a general AI'}, {'de': 'Eine KI, die in allen Bereichen so schlau ist wie ein Mensch, gibt es noch nicht', 'en-US': 'An AI that is as smart as a human in all areas does not yet exist'}], [{'de': 'KI-Anwendungen treffen eigenständige Entscheidungen', 'en-US': 'AI applications make independent decisions'}, {'de': 'KI-Anwendungen lernen durch Erfahrung', 'en-US': 'AI applications learn through experience'}, {'de': 'Intelligentes Verhalten setzt allgemeine Intelligenz voraus', 'en-US': 'Intelligent behavior requires general intelligence'}, {'de': 'Heutige KI-Anwendungen gehören alle zur spezifischen KI', 'en-US': \"Today's AI applications all belong to specific AI\"}, {'de': 'Spezifische KI umfasst Anwendungen, die menschenähnliche Intelligenz in einem kleinen Bereich zeigen', 'en-US': 'Specific AI includes applications that exhibit human-like intelligence in a small domain'}, {'de': 'Ein Spam-Filter ist eine allgemeinen KI', 'en-US': 'A spam filter is a general AI'}, {'de': 'Eine KI, die in allen Bereichen so schlau ist wie ein Mensch, gibt es noch nicht', 'en-US': 'An AI that is as smart as a human in all areas does not yet exist'}], [{'de': 'KI-Anwendungen treffen eigenständige Entscheidungen', 'en-US': 'AI applications make independent decisions'}, {'de': 'KI-Anwendungen lernen durch Erfahrung', 'en-US': 'AI applications learn through experience'}, {'de': 'Intelligentes Verhalten setzt allgemeine Intelligenz voraus', 'en-US': 'Intelligent behavior requires general intelligence'}, {'de': 'Heutige KI-Anwendungen gehören alle zur spezifischen KI', 'en-US': \"Today's AI applications all belong to specific AI\"}, {'de': 'Spezifische KI umfasst Anwendungen, die menschenähnliche Intelligenz in einem kleinen Bereich zeigen', 'en-US': 'Specific AI includes applications that exhibit human-like intelligence in a small domain'}, {'de': 'Ein Spam-Filter ist eine allgemeinen KI', 'en-US': 'A spam filter is a general AI'}, {'de': 'Eine KI, die in allen Bereichen so schlau ist wie ein Mensch, gibt es noch nicht', 'en-US': 'An AI that is as smart as a human in all areas does not yet exist'}], [{'de': 'KI-Anwendungen treffen eigenständige Entscheidungen', 'en-US': 'AI applications make independent decisions'}, {'de': 'KI-Anwendungen lernen durch Erfahrung', 'en-US': 'AI applications learn through experience'}, {'de': 'Intelligentes Verhalten setzt allgemeine Intelligenz voraus', 'en-US': 'Intelligent behavior requires general intelligence'}, {'de': 'Heutige KI-Anwendungen gehören alle zur spezifischen KI', 'en-US': \"Today's AI applications all belong to specific AI\"}, {'de': 'Spezifische KI umfasst Anwendungen, die menschenähnliche Intelligenz in einem kleinen Bereich zeigen', 'en-US': 'Specific AI includes applications that exhibit human-like intelligence in a small domain'}, {'de': 'Ein Spam-Filter ist eine allgemeinen KI', 'en-US': 'A spam filter is a general AI'}, {'de': 'Eine KI, die in allen Bereichen so schlau ist wie ein Mensch, gibt es noch nicht', 'en-US': 'An AI that is as smart as a human in all areas does not yet exist'}], [{'de': 'KI-Anwendungen treffen eigenständige Entscheidungen', 'en-US': 'AI applications make independent decisions'}, {'de': 'KI-Anwendungen lernen durch Erfahrung', 'en-US': 'AI applications learn through experience'}, {'de': 'Intelligentes Verhalten setzt allgemeine Intelligenz voraus', 'en-US': 'Intelligent behavior requires general intelligence'}, {'de': 'Heutige KI-Anwendungen gehören alle zur spezifischen KI', 'en-US': \"Today's AI applications all belong to specific AI\"}, {'de': 'Spezifische KI umfasst Anwendungen, die menschenähnliche Intelligenz in einem kleinen Bereich zeigen', 'en-US': 'Specific AI includes applications that exhibit human-like intelligence in a small domain'}, {'de': 'Ein Spam-Filter ist eine allgemeinen KI', 'en-US': 'A spam filter is a general AI'}, {'de': 'Eine KI, die in allen Bereichen so schlau ist wie ein Mensch, gibt es noch nicht', 'en-US': 'An AI that is as smart as a human in all areas does not yet exist'}], [{'de': 'KI-Anwendungen treffen eigenständige Entscheidungen', 'en-US': 'AI applications make independent decisions'}, {'de': 'KI-Anwendungen lernen durch Erfahrung', 'en-US': 'AI applications learn through experience'}, {'de': 'Intelligentes Verhalten setzt allgemeine Intelligenz voraus', 'en-US': 'Intelligent behavior requires general intelligence'}, {'de': 'Heutige KI-Anwendungen gehören alle zur spezifischen KI', 'en-US': \"Today's AI applications all belong to specific AI\"}, {'de': 'Spezifische KI umfasst Anwendungen, die menschenähnliche Intelligenz in einem kleinen Bereich zeigen', 'en-US': 'Specific AI includes applications that exhibit human-like intelligence in a small domain'}, {'de': 'Ein Spam-Filter ist eine allgemeinen KI', 'en-US': 'A spam filter is a general AI'}, {'de': 'Eine KI, die in allen Bereichen so schlau ist wie ein Mensch, gibt es noch nicht', 'en-US': 'An AI that is as smart as a human in all areas does not yet exist'}], [{'de': 'KI-Anwendungen treffen eigenständige Entscheidungen', 'en-US': 'AI applications make independent decisions'}, {'de': 'KI-Anwendungen lernen durch Erfahrung', 'en-US': 'AI applications learn through experience'}, {'de': 'Intelligentes Verhalten setzt allgemeine Intelligenz voraus', 'en-US': 'Intelligent behavior requires general intelligence'}, {'de': 'Heutige KI-Anwendungen gehören alle zur spezifischen KI', 'en-US': \"Today's AI applications all belong to specific AI\"}, {'de': 'Spezifische KI umfasst Anwendungen, die menschenähnliche Intelligenz in einem kleinen Bereich zeigen', 'en-US': 'Specific AI includes applications that exhibit human-like intelligence in a small domain'}, {'de': 'Ein Spam-Filter ist eine allgemeinen KI', 'en-US': 'A spam filter is a general AI'}, {'de': 'Eine KI, die in allen Bereichen so schlau ist wie ein Mensch, gibt es noch nicht', 'en-US': 'An AI that is as smart as a human in all areas does not yet exist'}], [{'de': 'KI-Anwendungen treffen eigenständige Entscheidungen', 'en-US': 'AI applications make independent decisions'}, {'de': 'KI-Anwendungen lernen durch Erfahrung', 'en-US': 'AI applications learn through experience'}, {'de': 'Intelligentes Verhalten setzt allgemeine Intelligenz voraus', 'en-US': 'Intelligent behavior requires general intelligence'}, {'de': 'Heutige KI-Anwendungen gehören alle zur spezifischen KI', 'en-US': \"Today's AI applications all belong to specific AI\"}, {'de': 'Spezifische KI umfasst Anwendungen, die menschenähnliche Intelligenz in einem kleinen Bereich zeigen', 'en-US': 'Specific AI includes applications that exhibit human-like intelligence in a small domain'}, {'de': 'Ein Spam-Filter ist eine allgemeinen KI', 'en-US': 'A spam filter is a general AI'}, {'de': 'Eine KI, die in allen Bereichen so schlau ist wie ein Mensch, gibt es noch nicht', 'en-US': 'An AI that is as smart as a human in all areas does not yet exist'}], [{'de': 'KI-Anwendungen treffen eigenständige Entscheidungen', 'en-US': 'AI applications make independent decisions'}, {'de': 'KI-Anwendungen lernen durch Erfahrung', 'en-US': 'AI applications learn through experience'}, {'de': 'Intelligentes Verhalten setzt allgemeine Intelligenz voraus', 'en-US': 'Intelligent behavior requires general intelligence'}, {'de': 'Heutige KI-Anwendungen gehören alle zur spezifischen KI', 'en-US': \"Today's AI applications all belong to specific AI\"}, {'de': 'Spezifische KI umfasst Anwendungen, die menschenähnliche Intelligenz in einem kleinen Bereich zeigen', 'en-US': 'Specific AI includes applications that exhibit human-like intelligence in a small domain'}, {'de': 'Ein Spam-Filter ist eine allgemeinen KI', 'en-US': 'A spam filter is a general AI'}, {'de': 'Eine KI, die in allen Bereichen so schlau ist wie ein Mensch, gibt es noch nicht', 'en-US': 'An AI that is as smart as a human in all areas does not yet exist'}], [{'de': 'KI-Anwendungen treffen eigenständige Entscheidungen', 'en-US': 'AI applications make independent decisions'}, {'de': 'KI-Anwendungen lernen durch Erfahrung', 'en-US': 'AI applications learn through experience'}, {'de': 'Intelligentes Verhalten setzt allgemeine Intelligenz voraus', 'en-US': 'Intelligent behavior requires general intelligence'}, {'de': 'Heutige KI-Anwendungen gehören alle zur spezifischen KI', 'en-US': \"Today's AI applications all belong to specific AI\"}, {'de': 'Spezifische KI umfasst Anwendungen, die menschenähnliche Intelligenz in einem kleinen Bereich zeigen', 'en-US': 'Specific AI includes applications that exhibit human-like intelligence in a small domain'}, {'de': 'Ein Spam-Filter ist eine allgemeinen KI', 'en-US': 'A spam filter is a general AI'}, {'de': 'Eine KI, die in allen Bereichen so schlau ist wie ein Mensch, gibt es noch nicht', 'en-US': 'An AI that is as smart as a human in all areas does not yet exist'}], [{'de': 'KI-Anwendungen treffen eigenständige Entscheidungen', 'en-US': 'AI applications make independent decisions'}, {'de': 'KI-Anwendungen lernen durch Erfahrung', 'en-US': 'AI applications learn through experience'}, {'de': 'Intelligentes Verhalten setzt allgemeine Intelligenz voraus', 'en-US': 'Intelligent behavior requires general intelligence'}, {'de': 'Heutige KI-Anwendungen gehören alle zur spezifischen KI', 'en-US': \"Today's AI applications all belong to specific AI\"}, {'de': 'Spezifische KI umfasst Anwendungen, die menschenähnliche Intelligenz in einem kleinen Bereich zeigen', 'en-US': 'Specific AI includes applications that exhibit human-like intelligence in a small domain'}, {'de': 'Ein Spam-Filter ist eine allgemeinen KI', 'en-US': 'A spam filter is a general AI'}, {'de': 'Eine KI, die in allen Bereichen so schlau ist wie ein Mensch, gibt es noch nicht', 'en-US': 'An AI that is as smart as a human in all areas does not yet exist'}], [{'de': 'KI-Anwendungen treffen eigenständige Entscheidungen', 'en-US': 'AI applications make independent decisions'}, {'de': 'KI-Anwendungen lernen durch Erfahrung', 'en-US': 'AI applications learn through experience'}, {'de': 'Intelligentes Verhalten setzt allgemeine Intelligenz voraus', 'en-US': 'Intelligent behavior requires general intelligence'}, {'de': 'Heutige KI-Anwendungen gehören alle zur spezifischen KI', 'en-US': \"Today's AI applications all belong to specific AI\"}, {'de': 'Spezifische KI umfasst Anwendungen, die menschenähnliche Intelligenz in einem kleinen Bereich zeigen', 'en-US': 'Specific AI includes applications that exhibit human-like intelligence in a small domain'}, {'de': 'Ein Spam-Filter ist eine allgemeinen KI', 'en-US': 'A spam filter is a general AI'}, {'de': 'Eine KI, die in allen Bereichen so schlau ist wie ein Mensch, gibt es noch nicht', 'en-US': 'An AI that is as smart as a human in all areas does not yet exist'}]]\n",
      "AI-4-v2-1-2\n"
     ]
    },
    {
     "data": {
      "image/png": "[encoded data removed]",
      "text/plain": [
       "<Figure size 432x288 with 1 Axes>"
      ]
     },
     "metadata": {
      "needs_background": "light"
     },
     "output_type": "display_data"
    },
    {
     "name": "stdout",
     "output_type": "stream",
     "text": [
      "Lass uns das Wichtigste nochmal wiederholen:\n",
      "[[{'de': 'Unser Ziel ist es, einen Algorithmus zu trainieren, der für neue Bilder das richtige Label vorhersagen kann. Also zu sagen, ob ein Bild einen Hund oder eine Katze zeigt', 'en-US': 'Our goal is to train an algorithm that can predict the correct label for new images. That is, to tell whether an image shows a dog or a cat'}, {'de': 'Für das Training nutzen wir Daten ohne Label', 'en-US': 'For training we use data without label'}, {'de': 'Die Daten, die wir für das Training benutzen, heißen Trainingsdaten', 'en-US': 'The data we use for training is called training data'}, {'de': 'Nach dem Training testen wir nochmal auf ein paar neuen Daten, wie gut die Vorhersagen des Algorithmus sind', 'en-US': 'After training, we test again on some new data how good the predictions of the algorithm are'}], [{'de': 'Unser Ziel ist es, einen Algorithmus zu trainieren, der für neue Bilder das richtige Label vorhersagen kann. Also zu sagen, ob ein Bild einen Hund oder eine Katze zeigt', 'en-US': 'Our goal is to train an algorithm that can predict the correct label for new images. That is, to tell whether an image shows a dog or a cat'}, {'de': 'Für das Training nutzen wir Daten ohne Label', 'en-US': 'For training we use data without label'}, {'de': 'Die Daten, die wir für das Training benutzen, heißen Trainingsdaten', 'en-US': 'The data we use for training is called training data'}, {'de': 'Nach dem Training testen wir nochmal auf ein paar neuen Daten, wie gut die Vorhersagen des Algorithmus sind', 'en-US': 'After training, we test again on some new data how good the predictions of the algorithm are'}], [{'de': 'Unser Ziel ist es, einen Algorithmus zu trainieren, der für neue Bilder das richtige Label vorhersagen kann. Also zu sagen, ob ein Bild einen Hund oder eine Katze zeigt', 'en-US': 'Our goal is to train an algorithm that can predict the correct label for new images. That is, to tell whether an image shows a dog or a cat'}, {'de': 'Für das Training nutzen wir Daten ohne Label', 'en-US': 'For training we use data without label'}, {'de': 'Die Daten, die wir für das Training benutzen, heißen Trainingsdaten', 'en-US': 'The data we use for training is called training data'}, {'de': 'Nach dem Training testen wir nochmal auf ein paar neuen Daten, wie gut die Vorhersagen des Algorithmus sind', 'en-US': 'After training, we test again on some new data how good the predictions of the algorithm are'}], [{'de': 'Unser Ziel ist es, einen Algorithmus zu trainieren, der für neue Bilder das richtige Label vorhersagen kann. Also zu sagen, ob ein Bild einen Hund oder eine Katze zeigt', 'en-US': 'Our goal is to train an algorithm that can predict the correct label for new images. That is, to tell whether an image shows a dog or a cat'}, {'de': 'Für das Training nutzen wir Daten ohne Label', 'en-US': 'For training we use data without label'}, {'de': 'Die Daten, die wir für das Training benutzen, heißen Trainingsdaten', 'en-US': 'The data we use for training is called training data'}, {'de': 'Nach dem Training testen wir nochmal auf ein paar neuen Daten, wie gut die Vorhersagen des Algorithmus sind', 'en-US': 'After training, we test again on some new data how good the predictions of the algorithm are'}], [{'de': 'Unser Ziel ist es, einen Algorithmus zu trainieren, der für neue Bilder das richtige Label vorhersagen kann. Also zu sagen, ob ein Bild einen Hund oder eine Katze zeigt', 'en-US': 'Our goal is to train an algorithm that can predict the correct label for new images. That is, to tell whether an image shows a dog or a cat'}, {'de': 'Für das Training nutzen wir Daten ohne Label', 'en-US': 'For training we use data without label'}, {'de': 'Die Daten, die wir für das Training benutzen, heißen Trainingsdaten', 'en-US': 'The data we use for training is called training data'}, {'de': 'Nach dem Training testen wir nochmal auf ein paar neuen Daten, wie gut die Vorhersagen des Algorithmus sind', 'en-US': 'After training, we test again on some new data how good the predictions of the algorithm are'}], [{'de': 'Unser Ziel ist es, einen Algorithmus zu trainieren, der für neue Bilder das richtige Label vorhersagen kann. Also zu sagen, ob ein Bild einen Hund oder eine Katze zeigt', 'en-US': 'Our goal is to train an algorithm that can predict the correct label for new images. That is, to tell whether an image shows a dog or a cat'}, {'de': 'Für das Training nutzen wir Daten ohne Label', 'en-US': 'For training we use data without label'}, {'de': 'Die Daten, die wir für das Training benutzen, heißen Trainingsdaten', 'en-US': 'The data we use for training is called training data'}, {'de': 'Nach dem Training testen wir nochmal auf ein paar neuen Daten, wie gut die Vorhersagen des Algorithmus sind', 'en-US': 'After training, we test again on some new data how good the predictions of the algorithm are'}], [{'de': 'Unser Ziel ist es, einen Algorithmus zu trainieren, der für neue Bilder das richtige Label vorhersagen kann. Also zu sagen, ob ein Bild einen Hund oder eine Katze zeigt', 'en-US': 'Our goal is to train an algorithm that can predict the correct label for new images. That is, to tell whether an image shows a dog or a cat'}, {'de': 'Für das Training nutzen wir Daten ohne Label', 'en-US': 'For training we use data without label'}, {'de': 'Die Daten, die wir für das Training benutzen, heißen Trainingsdaten', 'en-US': 'The data we use for training is called training data'}, {'de': 'Nach dem Training testen wir nochmal auf ein paar neuen Daten, wie gut die Vorhersagen des Algorithmus sind', 'en-US': 'After training, we test again on some new data how good the predictions of the algorithm are'}], [{'de': 'Unser Ziel ist es, einen Algorithmus zu trainieren, der für neue Bilder das richtige Label vorhersagen kann. Also zu sagen, ob ein Bild einen Hund oder eine Katze zeigt', 'en-US': 'Our goal is to train an algorithm that can predict the correct label for new images. That is, to tell whether an image shows a dog or a cat'}, {'de': 'Für das Training nutzen wir Daten ohne Label', 'en-US': 'For training we use data without label'}, {'de': 'Die Daten, die wir für das Training benutzen, heißen Trainingsdaten', 'en-US': 'The data we use for training is called training data'}, {'de': 'Nach dem Training testen wir nochmal auf ein paar neuen Daten, wie gut die Vorhersagen des Algorithmus sind', 'en-US': 'After training, we test again on some new data how good the predictions of the algorithm are'}], [{'de': 'Unser Ziel ist es, einen Algorithmus zu trainieren, der für neue Bilder das richtige Label vorhersagen kann. Also zu sagen, ob ein Bild einen Hund oder eine Katze zeigt', 'en-US': 'Our goal is to train an algorithm that can predict the correct label for new images. That is, to tell whether an image shows a dog or a cat'}, {'de': 'Für das Training nutzen wir Daten ohne Label', 'en-US': 'For training we use data without label'}, {'de': 'Die Daten, die wir für das Training benutzen, heißen Trainingsdaten', 'en-US': 'The data we use for training is called training data'}, {'de': 'Nach dem Training testen wir nochmal auf ein paar neuen Daten, wie gut die Vorhersagen des Algorithmus sind', 'en-US': 'After training, we test again on some new data how good the predictions of the algorithm are'}], [{'de': 'Unser Ziel ist es, einen Algorithmus zu trainieren, der für neue Bilder das richtige Label vorhersagen kann. Also zu sagen, ob ein Bild einen Hund oder eine Katze zeigt', 'en-US': 'Our goal is to train an algorithm that can predict the correct label for new images. That is, to tell whether an image shows a dog or a cat'}, {'de': 'Für das Training nutzen wir Daten ohne Label', 'en-US': 'For training we use data without label'}, {'de': 'Die Daten, die wir für das Training benutzen, heißen Trainingsdaten', 'en-US': 'The data we use for training is called training data'}, {'de': 'Nach dem Training testen wir nochmal auf ein paar neuen Daten, wie gut die Vorhersagen des Algorithmus sind', 'en-US': 'After training, we test again on some new data how good the predictions of the algorithm are'}], [{'de': 'Unser Ziel ist es, einen Algorithmus zu trainieren, der für neue Bilder das richtige Label vorhersagen kann. Also zu sagen, ob ein Bild einen Hund oder eine Katze zeigt', 'en-US': 'Our goal is to train an algorithm that can predict the correct label for new images. That is, to tell whether an image shows a dog or a cat'}, {'de': 'Für das Training nutzen wir Daten ohne Label', 'en-US': 'For training we use data without label'}, {'de': 'Die Daten, die wir für das Training benutzen, heißen Trainingsdaten', 'en-US': 'The data we use for training is called training data'}, {'de': 'Nach dem Training testen wir nochmal auf ein paar neuen Daten, wie gut die Vorhersagen des Algorithmus sind', 'en-US': 'After training, we test again on some new data how good the predictions of the algorithm are'}], [{'de': 'Unser Ziel ist es, einen Algorithmus zu trainieren, der für neue Bilder das richtige Label vorhersagen kann. Also zu sagen, ob ein Bild einen Hund oder eine Katze zeigt', 'en-US': 'Our goal is to train an algorithm that can predict the correct label for new images. That is, to tell whether an image shows a dog or a cat'}, {'de': 'Für das Training nutzen wir Daten ohne Label', 'en-US': 'For training we use data without label'}, {'de': 'Die Daten, die wir für das Training benutzen, heißen Trainingsdaten', 'en-US': 'The data we use for training is called training data'}, {'de': 'Nach dem Training testen wir nochmal auf ein paar neuen Daten, wie gut die Vorhersagen des Algorithmus sind', 'en-US': 'After training, we test again on some new data how good the predictions of the algorithm are'}], [{'de': 'Unser Ziel ist es, einen Algorithmus zu trainieren, der für neue Bilder das richtige Label vorhersagen kann. Also zu sagen, ob ein Bild einen Hund oder eine Katze zeigt', 'en-US': 'Our goal is to train an algorithm that can predict the correct label for new images. That is, to tell whether an image shows a dog or a cat'}, {'de': 'Für das Training nutzen wir Daten ohne Label', 'en-US': 'For training we use data without label'}, {'de': 'Die Daten, die wir für das Training benutzen, heißen Trainingsdaten', 'en-US': 'The data we use for training is called training data'}, {'de': 'Nach dem Training testen wir nochmal auf ein paar neuen Daten, wie gut die Vorhersagen des Algorithmus sind', 'en-US': 'After training, we test again on some new data how good the predictions of the algorithm are'}], [{'de': 'Unser Ziel ist es, einen Algorithmus zu trainieren, der für neue Bilder das richtige Label vorhersagen kann. Also zu sagen, ob ein Bild einen Hund oder eine Katze zeigt', 'en-US': 'Our goal is to train an algorithm that can predict the correct label for new images. That is, to tell whether an image shows a dog or a cat'}, {'de': 'Für das Training nutzen wir Daten ohne Label', 'en-US': 'For training we use data without label'}, {'de': 'Die Daten, die wir für das Training benutzen, heißen Trainingsdaten', 'en-US': 'The data we use for training is called training data'}, {'de': 'Nach dem Training testen wir nochmal auf ein paar neuen Daten, wie gut die Vorhersagen des Algorithmus sind', 'en-US': 'After training, we test again on some new data how good the predictions of the algorithm are'}], [{'de': 'Unser Ziel ist es, einen Algorithmus zu trainieren, der für neue Bilder das richtige Label vorhersagen kann. Also zu sagen, ob ein Bild einen Hund oder eine Katze zeigt', 'en-US': 'Our goal is to train an algorithm that can predict the correct label for new images. That is, to tell whether an image shows a dog or a cat'}, {'de': 'Für das Training nutzen wir Daten ohne Label', 'en-US': 'For training we use data without label'}, {'de': 'Die Daten, die wir für das Training benutzen, heißen Trainingsdaten', 'en-US': 'The data we use for training is called training data'}, {'de': 'Nach dem Training testen wir nochmal auf ein paar neuen Daten, wie gut die Vorhersagen des Algorithmus sind', 'en-US': 'After training, we test again on some new data how good the predictions of the algorithm are'}], [{'de': 'Unser Ziel ist es, einen Algorithmus zu trainieren, der für neue Bilder das richtige Label vorhersagen kann. Also zu sagen, ob ein Bild einen Hund oder eine Katze zeigt', 'en-US': 'Our goal is to train an algorithm that can predict the correct label for new images. That is, to tell whether an image shows a dog or a cat'}, {'de': 'Für das Training nutzen wir Daten ohne Label', 'en-US': 'For training we use data without label'}, {'de': 'Die Daten, die wir für das Training benutzen, heißen Trainingsdaten', 'en-US': 'The data we use for training is called training data'}, {'de': 'Nach dem Training testen wir nochmal auf ein paar neuen Daten, wie gut die Vorhersagen des Algorithmus sind', 'en-US': 'After training, we test again on some new data how good the predictions of the algorithm are'}], [{'de': 'Unser Ziel ist es, einen Algorithmus zu trainieren, der für neue Bilder das richtige Label vorhersagen kann. Also zu sagen, ob ein Bild einen Hund oder eine Katze zeigt', 'en-US': 'Our goal is to train an algorithm that can predict the correct label for new images. That is, to tell whether an image shows a dog or a cat'}, {'de': 'Für das Training nutzen wir Daten ohne Label', 'en-US': 'For training we use data without label'}, {'de': 'Die Daten, die wir für das Training benutzen, heißen Trainingsdaten', 'en-US': 'The data we use for training is called training data'}, {'de': 'Nach dem Training testen wir nochmal auf ein paar neuen Daten, wie gut die Vorhersagen des Algorithmus sind', 'en-US': 'After training, we test again on some new data how good the predictions of the algorithm are'}], [{'de': 'Unser Ziel ist es, einen Algorithmus zu trainieren, der für neue Bilder das richtige Label vorhersagen kann. Also zu sagen, ob ein Bild einen Hund oder eine Katze zeigt', 'en-US': 'Our goal is to train an algorithm that can predict the correct label for new images. That is, to tell whether an image shows a dog or a cat'}, {'de': 'Für das Training nutzen wir Daten ohne Label', 'en-US': 'For training we use data without label'}, {'de': 'Die Daten, die wir für das Training benutzen, heißen Trainingsdaten', 'en-US': 'The data we use for training is called training data'}, {'de': 'Nach dem Training testen wir nochmal auf ein paar neuen Daten, wie gut die Vorhersagen des Algorithmus sind', 'en-US': 'After training, we test again on some new data how good the predictions of the algorithm are'}], [{'de': 'Unser Ziel ist es, einen Algorithmus zu trainieren, der für neue Bilder das richtige Label vorhersagen kann. Also zu sagen, ob ein Bild einen Hund oder eine Katze zeigt', 'en-US': 'Our goal is to train an algorithm that can predict the correct label for new images. That is, to tell whether an image shows a dog or a cat'}, {'de': 'Für das Training nutzen wir Daten ohne Label', 'en-US': 'For training we use data without label'}, {'de': 'Die Daten, die wir für das Training benutzen, heißen Trainingsdaten', 'en-US': 'The data we use for training is called training data'}, {'de': 'Nach dem Training testen wir nochmal auf ein paar neuen Daten, wie gut die Vorhersagen des Algorithmus sind', 'en-US': 'After training, we test again on some new data how good the predictions of the algorithm are'}], [{'de': 'Unser Ziel ist es, einen Algorithmus zu trainieren, der für neue Bilder das richtige Label vorhersagen kann. Also zu sagen, ob ein Bild einen Hund oder eine Katze zeigt', 'en-US': 'Our goal is to train an algorithm that can predict the correct label for new images. That is, to tell whether an image shows a dog or a cat'}, {'de': 'Für das Training nutzen wir Daten ohne Label', 'en-US': 'For training we use data without label'}, {'de': 'Die Daten, die wir für das Training benutzen, heißen Trainingsdaten', 'en-US': 'The data we use for training is called training data'}, {'de': 'Nach dem Training testen wir nochmal auf ein paar neuen Daten, wie gut die Vorhersagen des Algorithmus sind', 'en-US': 'After training, we test again on some new data how good the predictions of the algorithm are'}]]\n",
      "ML-2-1-3\n"
     ]
    },
    {
     "data": {
      "image/png": "[encoded data removed]",
      "text/plain": [
       "<Figure size 432x288 with 1 Axes>"
      ]
     },
     "metadata": {
      "needs_background": "light"
     },
     "output_type": "display_data"
    },
    {
     "name": "stdout",
     "output_type": "stream",
     "text": [
      "Welche Aussagen stimmen?\n",
      "[nan, nan, nan, nan, nan, nan, nan, nan, nan, nan, nan, nan, nan, nan, nan, nan, nan, nan]\n",
      "ML-3-1-1\n"
     ]
    },
    {
     "data": {
      "image/png": "[encoded data removed]",
      "text/plain": [
       "<Figure size 432x288 with 1 Axes>"
      ]
     },
     "metadata": {
      "needs_background": "light"
     },
     "output_type": "display_data"
    },
    {
     "name": "stdout",
     "output_type": "stream",
     "text": [
      "Ein Empfehlungssystem für Musik, das lernt, was du für Musik magst und dann für neu erscheinende Musik voraussagt, ob du sie mögen würdest.\n",
      "[[{'de': 'Überwachtes Lernen', 'en-US': 'Supervised Learning'}, {'de': 'Unüberwachtes Lernen', 'en-US': 'Unsupervised Learning'}], [{'de': 'Überwachtes Lernen', 'en-US': 'Supervised Learning'}, {'de': 'Unüberwachtes Lernen', 'en-US': 'Unsupervised Learning'}], [{'de': 'Überwachtes Lernen', 'en-US': 'Supervised Learning'}, {'de': 'Unüberwachtes Lernen', 'en-US': 'Unsupervised Learning'}], [{'de': 'Überwachtes Lernen', 'en-US': 'Supervised Learning'}, {'de': 'Unüberwachtes Lernen', 'en-US': 'Unsupervised Learning'}], [{'de': 'Überwachtes Lernen', 'en-US': 'Supervised Learning'}, {'de': 'Unüberwachtes Lernen', 'en-US': 'Unsupervised Learning'}], [{'de': 'Überwachtes Lernen', 'en-US': 'Supervised Learning'}, {'de': 'Unüberwachtes Lernen', 'en-US': 'Unsupervised Learning'}], [{'de': 'Überwachtes Lernen', 'en-US': 'Supervised Learning'}, {'de': 'Unüberwachtes Lernen', 'en-US': 'Unsupervised Learning'}], [{'de': 'Überwachtes Lernen', 'en-US': 'Supervised Learning'}, {'de': 'Unüberwachtes Lernen', 'en-US': 'Unsupervised Learning'}], [{'de': 'Überwachtes Lernen', 'en-US': 'Supervised Learning'}, {'de': 'Unüberwachtes Lernen', 'en-US': 'Unsupervised Learning'}], [{'de': 'Überwachtes Lernen', 'en-US': 'Supervised Learning'}, {'de': 'Unüberwachtes Lernen', 'en-US': 'Unsupervised Learning'}], [{'de': 'Überwachtes Lernen', 'en-US': 'Supervised Learning'}, {'de': 'Unüberwachtes Lernen', 'en-US': 'Unsupervised Learning'}], [{'de': 'Überwachtes Lernen', 'en-US': 'Supervised Learning'}, {'de': 'Unüberwachtes Lernen', 'en-US': 'Unsupervised Learning'}], [{'de': 'Überwachtes Lernen', 'en-US': 'Supervised Learning'}, {'de': 'Unüberwachtes Lernen', 'en-US': 'Unsupervised Learning'}], [{'de': 'Überwachtes Lernen', 'en-US': 'Supervised Learning'}, {'de': 'Unüberwachtes Lernen', 'en-US': 'Unsupervised Learning'}], [{'de': 'Überwachtes Lernen', 'en-US': 'Supervised Learning'}, {'de': 'Unüberwachtes Lernen', 'en-US': 'Unsupervised Learning'}], [{'de': 'Überwachtes Lernen', 'en-US': 'Supervised Learning'}, {'de': 'Unüberwachtes Lernen', 'en-US': 'Unsupervised Learning'}], [{'de': 'Überwachtes Lernen', 'en-US': 'Supervised Learning'}, {'de': 'Unüberwachtes Lernen', 'en-US': 'Unsupervised Learning'}], [{'de': 'Überwachtes Lernen', 'en-US': 'Supervised Learning'}, {'de': 'Unüberwachtes Lernen', 'en-US': 'Unsupervised Learning'}]]\n",
      "ML-3-1-2\n"
     ]
    },
    {
     "data": {
      "image/png": "[encoded data removed]",
      "text/plain": [
       "<Figure size 432x288 with 1 Axes>"
      ]
     },
     "metadata": {
      "needs_background": "light"
     },
     "output_type": "display_data"
    },
    {
     "name": "stdout",
     "output_type": "stream",
     "text": [
      "Die Gesichtserkennung von deinem Handy. Anfangs musst du dein Gesicht aus verschiedenen Winkeln filmen. Anhand dieser Beispiele lernt es, dein Gesicht zu erkennen. Wenn dann irgendein Gesicht versucht, dein Handy zu entsperren, kann es voraussagen, ob es dein Gesicht ist oder nicht.\n",
      "[[{'de': 'Überwachtes Lernen', 'en-US': 'Supervised Learning'}, {'de': 'Unüberwachtes Lernen', 'en-US': 'Unsupervised Learning'}], [{'de': 'Überwachtes Lernen', 'en-US': 'Supervised Learning'}, {'de': 'Unüberwachtes Lernen', 'en-US': 'Unsupervised Learning'}], [{'de': 'Überwachtes Lernen', 'en-US': 'Supervised Learning'}, {'de': 'Unüberwachtes Lernen', 'en-US': 'Unsupervised Learning'}], [{'de': 'Überwachtes Lernen', 'en-US': 'Supervised Learning'}, {'de': 'Unüberwachtes Lernen', 'en-US': 'Unsupervised Learning'}], [{'de': 'Überwachtes Lernen', 'en-US': 'Supervised Learning'}, {'de': 'Unüberwachtes Lernen', 'en-US': 'Unsupervised Learning'}], [{'de': 'Überwachtes Lernen', 'en-US': 'Supervised Learning'}, {'de': 'Unüberwachtes Lernen', 'en-US': 'Unsupervised Learning'}], [{'de': 'Überwachtes Lernen', 'en-US': 'Supervised Learning'}, {'de': 'Unüberwachtes Lernen', 'en-US': 'Unsupervised Learning'}], [{'de': 'Überwachtes Lernen', 'en-US': 'Supervised Learning'}, {'de': 'Unüberwachtes Lernen', 'en-US': 'Unsupervised Learning'}], [{'de': 'Überwachtes Lernen', 'en-US': 'Supervised Learning'}, {'de': 'Unüberwachtes Lernen', 'en-US': 'Unsupervised Learning'}], [{'de': 'Überwachtes Lernen', 'en-US': 'Supervised Learning'}, {'de': 'Unüberwachtes Lernen', 'en-US': 'Unsupervised Learning'}], [{'de': 'Überwachtes Lernen', 'en-US': 'Supervised Learning'}, {'de': 'Unüberwachtes Lernen', 'en-US': 'Unsupervised Learning'}], [{'de': 'Überwachtes Lernen', 'en-US': 'Supervised Learning'}, {'de': 'Unüberwachtes Lernen', 'en-US': 'Unsupervised Learning'}], [{'de': 'Überwachtes Lernen', 'en-US': 'Supervised Learning'}, {'de': 'Unüberwachtes Lernen', 'en-US': 'Unsupervised Learning'}], [{'de': 'Überwachtes Lernen', 'en-US': 'Supervised Learning'}, {'de': 'Unüberwachtes Lernen', 'en-US': 'Unsupervised Learning'}], [{'de': 'Überwachtes Lernen', 'en-US': 'Supervised Learning'}, {'de': 'Unüberwachtes Lernen', 'en-US': 'Unsupervised Learning'}], [{'de': 'Überwachtes Lernen', 'en-US': 'Supervised Learning'}, {'de': 'Unüberwachtes Lernen', 'en-US': 'Unsupervised Learning'}], [{'de': 'Überwachtes Lernen', 'en-US': 'Supervised Learning'}, {'de': 'Unüberwachtes Lernen', 'en-US': 'Unsupervised Learning'}], [{'de': 'Überwachtes Lernen', 'en-US': 'Supervised Learning'}, {'de': 'Unüberwachtes Lernen', 'en-US': 'Unsupervised Learning'}]]\n",
      "ML-3-1-3\n"
     ]
    },
    {
     "data": {
      "image/png": "[encoded data removed]",
      "text/plain": [
       "<Figure size 432x288 with 1 Axes>"
      ]
     },
     "metadata": {
      "needs_background": "light"
     },
     "output_type": "display_data"
    },
    {
     "name": "stdout",
     "output_type": "stream",
     "text": [
      "Wenn wir Youtuber nach der Anzahl ihrer Follower und der Themen ihrer Videos gruppieren.\n",
      "[[{'de': 'Überwachtes Lernen', 'en-US': 'Supervised Learning'}, {'de': 'Unüberwachtes Lernen', 'en-US': 'Unsupervised Learning'}], [{'de': 'Überwachtes Lernen', 'en-US': 'Supervised Learning'}, {'de': 'Unüberwachtes Lernen', 'en-US': 'Unsupervised Learning'}], [{'de': 'Überwachtes Lernen', 'en-US': 'Supervised Learning'}, {'de': 'Unüberwachtes Lernen', 'en-US': 'Unsupervised Learning'}], [{'de': 'Überwachtes Lernen', 'en-US': 'Supervised Learning'}, {'de': 'Unüberwachtes Lernen', 'en-US': 'Unsupervised Learning'}], [{'de': 'Überwachtes Lernen', 'en-US': 'Supervised Learning'}, {'de': 'Unüberwachtes Lernen', 'en-US': 'Unsupervised Learning'}], [{'de': 'Überwachtes Lernen', 'en-US': 'Supervised Learning'}, {'de': 'Unüberwachtes Lernen', 'en-US': 'Unsupervised Learning'}], [{'de': 'Überwachtes Lernen', 'en-US': 'Supervised Learning'}, {'de': 'Unüberwachtes Lernen', 'en-US': 'Unsupervised Learning'}], [{'de': 'Überwachtes Lernen', 'en-US': 'Supervised Learning'}, {'de': 'Unüberwachtes Lernen', 'en-US': 'Unsupervised Learning'}], [{'de': 'Überwachtes Lernen', 'en-US': 'Supervised Learning'}, {'de': 'Unüberwachtes Lernen', 'en-US': 'Unsupervised Learning'}], [{'de': 'Überwachtes Lernen', 'en-US': 'Supervised Learning'}, {'de': 'Unüberwachtes Lernen', 'en-US': 'Unsupervised Learning'}], [{'de': 'Überwachtes Lernen', 'en-US': 'Supervised Learning'}, {'de': 'Unüberwachtes Lernen', 'en-US': 'Unsupervised Learning'}], [{'de': 'Überwachtes Lernen', 'en-US': 'Supervised Learning'}, {'de': 'Unüberwachtes Lernen', 'en-US': 'Unsupervised Learning'}], [{'de': 'Überwachtes Lernen', 'en-US': 'Supervised Learning'}, {'de': 'Unüberwachtes Lernen', 'en-US': 'Unsupervised Learning'}], [{'de': 'Überwachtes Lernen', 'en-US': 'Supervised Learning'}, {'de': 'Unüberwachtes Lernen', 'en-US': 'Unsupervised Learning'}], [{'de': 'Überwachtes Lernen', 'en-US': 'Supervised Learning'}, {'de': 'Unüberwachtes Lernen', 'en-US': 'Unsupervised Learning'}], [{'de': 'Überwachtes Lernen', 'en-US': 'Supervised Learning'}, {'de': 'Unüberwachtes Lernen', 'en-US': 'Unsupervised Learning'}], [{'de': 'Überwachtes Lernen', 'en-US': 'Supervised Learning'}, {'de': 'Unüberwachtes Lernen', 'en-US': 'Unsupervised Learning'}], [{'de': 'Überwachtes Lernen', 'en-US': 'Supervised Learning'}, {'de': 'Unüberwachtes Lernen', 'en-US': 'Unsupervised Learning'}]]\n",
      "ML-3-1-4\n"
     ]
    },
    {
     "data": {
      "image/png": "[encoded data removed]",
      "text/plain": [
       "<Figure size 432x288 with 1 Axes>"
      ]
     },
     "metadata": {
      "needs_background": "light"
     },
     "output_type": "display_data"
    },
    {
     "name": "stdout",
     "output_type": "stream",
     "text": [
      "Welche Aussagen stimmen?\n",
      "[nan, nan, nan, nan, nan, nan, nan, nan, nan, nan, nan, nan, nan, nan, nan, nan]\n",
      "Classification-1-1-1\n"
     ]
    },
    {
     "data": {
      "image/png": "[encoded data removed]",
      "text/plain": [
       "<Figure size 432x288 with 1 Axes>"
      ]
     },
     "metadata": {
      "needs_background": "light"
     },
     "output_type": "display_data"
    },
    {
     "name": "stdout",
     "output_type": "stream",
     "text": [
      "Was war unüberwachtes Lernen noch gleich?\n",
      "[[{'de': 'Beim unüberwachten Lernen nutzt man Daten mit Label', 'en-US': 'In unsupervised learning, one uses data with label'}, {'de': 'Beim unüberwachten Lernen wollen wir die richtigen Label für neue Daten vorhersagen', 'en-US': 'In unsupervised learning, we want to predict the correct labels for new data'}, {'de': 'Beim unüberwachten Lernen hat man keine Label für die Daten', 'en-US': \"In unsupervised learning, you don't have a label for the data\"}, {'de': 'Beim unüberwachten Lernen geht es darum, Struktur in den Daten zu finden', 'en-US': 'Unsupervised learning is about finding structure in the data'}], [{'de': 'Beim unüberwachten Lernen nutzt man Daten mit Label', 'en-US': 'In unsupervised learning, one uses data with label'}, {'de': 'Beim unüberwachten Lernen wollen wir die richtigen Label für neue Daten vorhersagen', 'en-US': 'In unsupervised learning, we want to predict the correct labels for new data'}, {'de': 'Beim unüberwachten Lernen hat man keine Label für die Daten', 'en-US': \"In unsupervised learning, you don't have a label for the data\"}, {'de': 'Beim unüberwachten Lernen geht es darum, Struktur in den Daten zu finden', 'en-US': 'Unsupervised learning is about finding structure in the data'}], [{'de': 'Beim unüberwachten Lernen nutzt man Daten mit Label', 'en-US': 'In unsupervised learning, one uses data with label'}, {'de': 'Beim unüberwachten Lernen wollen wir die richtigen Label für neue Daten vorhersagen', 'en-US': 'In unsupervised learning, we want to predict the correct labels for new data'}, {'de': 'Beim unüberwachten Lernen hat man keine Label für die Daten', 'en-US': \"In unsupervised learning, you don't have a label for the data\"}, {'de': 'Beim unüberwachten Lernen geht es darum, Struktur in den Daten zu finden', 'en-US': 'Unsupervised learning is about finding structure in the data'}], [{'de': 'Beim unüberwachten Lernen nutzt man Daten mit Label', 'en-US': 'In unsupervised learning, one uses data with label'}, {'de': 'Beim unüberwachten Lernen wollen wir die richtigen Label für neue Daten vorhersagen', 'en-US': 'In unsupervised learning, we want to predict the correct labels for new data'}, {'de': 'Beim unüberwachten Lernen hat man keine Label für die Daten', 'en-US': \"In unsupervised learning, you don't have a label for the data\"}, {'de': 'Beim unüberwachten Lernen geht es darum, Struktur in den Daten zu finden', 'en-US': 'Unsupervised learning is about finding structure in the data'}], [{'de': 'Beim unüberwachten Lernen nutzt man Daten mit Label', 'en-US': 'In unsupervised learning, one uses data with label'}, {'de': 'Beim unüberwachten Lernen wollen wir die richtigen Label für neue Daten vorhersagen', 'en-US': 'In unsupervised learning, we want to predict the correct labels for new data'}, {'de': 'Beim unüberwachten Lernen hat man keine Label für die Daten', 'en-US': \"In unsupervised learning, you don't have a label for the data\"}, {'de': 'Beim unüberwachten Lernen geht es darum, Struktur in den Daten zu finden', 'en-US': 'Unsupervised learning is about finding structure in the data'}], [{'de': 'Beim unüberwachten Lernen nutzt man Daten mit Label', 'en-US': 'In unsupervised learning, one uses data with label'}, {'de': 'Beim unüberwachten Lernen wollen wir die richtigen Label für neue Daten vorhersagen', 'en-US': 'In unsupervised learning, we want to predict the correct labels for new data'}, {'de': 'Beim unüberwachten Lernen hat man keine Label für die Daten', 'en-US': \"In unsupervised learning, you don't have a label for the data\"}, {'de': 'Beim unüberwachten Lernen geht es darum, Struktur in den Daten zu finden', 'en-US': 'Unsupervised learning is about finding structure in the data'}], [{'de': 'Beim unüberwachten Lernen nutzt man Daten mit Label', 'en-US': 'In unsupervised learning, one uses data with label'}, {'de': 'Beim unüberwachten Lernen wollen wir die richtigen Label für neue Daten vorhersagen', 'en-US': 'In unsupervised learning, we want to predict the correct labels for new data'}, {'de': 'Beim unüberwachten Lernen hat man keine Label für die Daten', 'en-US': \"In unsupervised learning, you don't have a label for the data\"}, {'de': 'Beim unüberwachten Lernen geht es darum, Struktur in den Daten zu finden', 'en-US': 'Unsupervised learning is about finding structure in the data'}], [{'de': 'Beim unüberwachten Lernen nutzt man Daten mit Label', 'en-US': 'In unsupervised learning, one uses data with label'}, {'de': 'Beim unüberwachten Lernen wollen wir die richtigen Label für neue Daten vorhersagen', 'en-US': 'In unsupervised learning, we want to predict the correct labels for new data'}, {'de': 'Beim unüberwachten Lernen hat man keine Label für die Daten', 'en-US': \"In unsupervised learning, you don't have a label for the data\"}, {'de': 'Beim unüberwachten Lernen geht es darum, Struktur in den Daten zu finden', 'en-US': 'Unsupervised learning is about finding structure in the data'}], [{'de': 'Beim unüberwachten Lernen nutzt man Daten mit Label', 'en-US': 'In unsupervised learning, one uses data with label'}, {'de': 'Beim unüberwachten Lernen wollen wir die richtigen Label für neue Daten vorhersagen', 'en-US': 'In unsupervised learning, we want to predict the correct labels for new data'}, {'de': 'Beim unüberwachten Lernen hat man keine Label für die Daten', 'en-US': \"In unsupervised learning, you don't have a label for the data\"}, {'de': 'Beim unüberwachten Lernen geht es darum, Struktur in den Daten zu finden', 'en-US': 'Unsupervised learning is about finding structure in the data'}], [{'de': 'Beim unüberwachten Lernen nutzt man Daten mit Label', 'en-US': 'In unsupervised learning, one uses data with label'}, {'de': 'Beim unüberwachten Lernen wollen wir die richtigen Label für neue Daten vorhersagen', 'en-US': 'In unsupervised learning, we want to predict the correct labels for new data'}, {'de': 'Beim unüberwachten Lernen hat man keine Label für die Daten', 'en-US': \"In unsupervised learning, you don't have a label for the data\"}, {'de': 'Beim unüberwachten Lernen geht es darum, Struktur in den Daten zu finden', 'en-US': 'Unsupervised learning is about finding structure in the data'}], [{'de': 'Beim unüberwachten Lernen nutzt man Daten mit Label', 'en-US': 'In unsupervised learning, one uses data with label'}, {'de': 'Beim unüberwachten Lernen wollen wir die richtigen Label für neue Daten vorhersagen', 'en-US': 'In unsupervised learning, we want to predict the correct labels for new data'}, {'de': 'Beim unüberwachten Lernen hat man keine Label für die Daten', 'en-US': \"In unsupervised learning, you don't have a label for the data\"}, {'de': 'Beim unüberwachten Lernen geht es darum, Struktur in den Daten zu finden', 'en-US': 'Unsupervised learning is about finding structure in the data'}], [{'de': 'Beim unüberwachten Lernen nutzt man Daten mit Label', 'en-US': 'In unsupervised learning, one uses data with label'}, {'de': 'Beim unüberwachten Lernen wollen wir die richtigen Label für neue Daten vorhersagen', 'en-US': 'In unsupervised learning, we want to predict the correct labels for new data'}, {'de': 'Beim unüberwachten Lernen hat man keine Label für die Daten', 'en-US': \"In unsupervised learning, you don't have a label for the data\"}, {'de': 'Beim unüberwachten Lernen geht es darum, Struktur in den Daten zu finden', 'en-US': 'Unsupervised learning is about finding structure in the data'}], [{'de': 'Beim unüberwachten Lernen nutzt man Daten mit Label', 'en-US': 'In unsupervised learning, one uses data with label'}, {'de': 'Beim unüberwachten Lernen wollen wir die richtigen Label für neue Daten vorhersagen', 'en-US': 'In unsupervised learning, we want to predict the correct labels for new data'}, {'de': 'Beim unüberwachten Lernen hat man keine Label für die Daten', 'en-US': \"In unsupervised learning, you don't have a label for the data\"}, {'de': 'Beim unüberwachten Lernen geht es darum, Struktur in den Daten zu finden', 'en-US': 'Unsupervised learning is about finding structure in the data'}], [{'de': 'Beim unüberwachten Lernen nutzt man Daten mit Label', 'en-US': 'In unsupervised learning, one uses data with label'}, {'de': 'Beim unüberwachten Lernen wollen wir die richtigen Label für neue Daten vorhersagen', 'en-US': 'In unsupervised learning, we want to predict the correct labels for new data'}, {'de': 'Beim unüberwachten Lernen hat man keine Label für die Daten', 'en-US': \"In unsupervised learning, you don't have a label for the data\"}, {'de': 'Beim unüberwachten Lernen geht es darum, Struktur in den Daten zu finden', 'en-US': 'Unsupervised learning is about finding structure in the data'}], [{'de': 'Beim unüberwachten Lernen nutzt man Daten mit Label', 'en-US': 'In unsupervised learning, one uses data with label'}, {'de': 'Beim unüberwachten Lernen wollen wir die richtigen Label für neue Daten vorhersagen', 'en-US': 'In unsupervised learning, we want to predict the correct labels for new data'}, {'de': 'Beim unüberwachten Lernen hat man keine Label für die Daten', 'en-US': \"In unsupervised learning, you don't have a label for the data\"}, {'de': 'Beim unüberwachten Lernen geht es darum, Struktur in den Daten zu finden', 'en-US': 'Unsupervised learning is about finding structure in the data'}], [{'de': 'Beim unüberwachten Lernen nutzt man Daten mit Label', 'en-US': 'In unsupervised learning, one uses data with label'}, {'de': 'Beim unüberwachten Lernen wollen wir die richtigen Label für neue Daten vorhersagen', 'en-US': 'In unsupervised learning, we want to predict the correct labels for new data'}, {'de': 'Beim unüberwachten Lernen hat man keine Label für die Daten', 'en-US': \"In unsupervised learning, you don't have a label for the data\"}, {'de': 'Beim unüberwachten Lernen geht es darum, Struktur in den Daten zu finden', 'en-US': 'Unsupervised learning is about finding structure in the data'}], [{'de': 'Beim unüberwachten Lernen nutzt man Daten mit Label', 'en-US': 'In unsupervised learning, one uses data with label'}, {'de': 'Beim unüberwachten Lernen wollen wir die richtigen Label für neue Daten vorhersagen', 'en-US': 'In unsupervised learning, we want to predict the correct labels for new data'}, {'de': 'Beim unüberwachten Lernen hat man keine Label für die Daten', 'en-US': \"In unsupervised learning, you don't have a label for the data\"}, {'de': 'Beim unüberwachten Lernen geht es darum, Struktur in den Daten zu finden', 'en-US': 'Unsupervised learning is about finding structure in the data'}], [{'de': 'Beim unüberwachten Lernen nutzt man Daten mit Label', 'en-US': 'In unsupervised learning, one uses data with label'}, {'de': 'Beim unüberwachten Lernen wollen wir die richtigen Label für neue Daten vorhersagen', 'en-US': 'In unsupervised learning, we want to predict the correct labels for new data'}, {'de': 'Beim unüberwachten Lernen hat man keine Label für die Daten', 'en-US': \"In unsupervised learning, you don't have a label for the data\"}, {'de': 'Beim unüberwachten Lernen geht es darum, Struktur in den Daten zu finden', 'en-US': 'Unsupervised learning is about finding structure in the data'}]]\n",
      "Clustering-1-1-1\n"
     ]
    },
    {
     "data": {
      "image/png": "[encoded data removed]",
      "text/plain": [
       "<Figure size 432x288 with 1 Axes>"
      ]
     },
     "metadata": {
      "needs_background": "light"
     },
     "output_type": "display_data"
    },
    {
     "name": "stdout",
     "output_type": "stream",
     "text": [
      "Welche Aussagen über die anderen beiden Cluster stimmen?\n",
      "[[{'de': 'Die Youtuber im roten Cluster laden öfter Videos hoch', 'en-US': 'The Youtubers in the red cluster upload videos more often'}, {'de': 'Die Youtuber im blauen Cluster laden öfter Videos hoch', 'en-US': 'The Youtubers in the blue cluster upload videos more often'}], [{'de': 'Die Youtuber im roten Cluster laden öfter Videos hoch', 'en-US': 'The Youtubers in the red cluster upload videos more often'}, {'de': 'Die Youtuber im blauen Cluster laden öfter Videos hoch', 'en-US': 'The Youtubers in the blue cluster upload videos more often'}], [{'de': 'Die Youtuber im roten Cluster laden öfter Videos hoch', 'en-US': 'The Youtubers in the red cluster upload videos more often'}, {'de': 'Die Youtuber im blauen Cluster laden öfter Videos hoch', 'en-US': 'The Youtubers in the blue cluster upload videos more often'}], [{'de': 'Die Youtuber im roten Cluster laden öfter Videos hoch', 'en-US': 'The Youtubers in the red cluster upload videos more often'}, {'de': 'Die Youtuber im blauen Cluster laden öfter Videos hoch', 'en-US': 'The Youtubers in the blue cluster upload videos more often'}], [{'de': 'Die Youtuber im roten Cluster laden öfter Videos hoch', 'en-US': 'The Youtubers in the red cluster upload videos more often'}, {'de': 'Die Youtuber im blauen Cluster laden öfter Videos hoch', 'en-US': 'The Youtubers in the blue cluster upload videos more often'}], [{'de': 'Die Youtuber im roten Cluster laden öfter Videos hoch', 'en-US': 'The Youtubers in the red cluster upload videos more often'}, {'de': 'Die Youtuber im blauen Cluster laden öfter Videos hoch', 'en-US': 'The Youtubers in the blue cluster upload videos more often'}], [{'de': 'Die Youtuber im roten Cluster laden öfter Videos hoch', 'en-US': 'The Youtubers in the red cluster upload videos more often'}, {'de': 'Die Youtuber im blauen Cluster laden öfter Videos hoch', 'en-US': 'The Youtubers in the blue cluster upload videos more often'}], [{'de': 'Die Youtuber im roten Cluster laden öfter Videos hoch', 'en-US': 'The Youtubers in the red cluster upload videos more often'}, {'de': 'Die Youtuber im blauen Cluster laden öfter Videos hoch', 'en-US': 'The Youtubers in the blue cluster upload videos more often'}], [{'de': 'Die Youtuber im roten Cluster laden öfter Videos hoch', 'en-US': 'The Youtubers in the red cluster upload videos more often'}, {'de': 'Die Youtuber im blauen Cluster laden öfter Videos hoch', 'en-US': 'The Youtubers in the blue cluster upload videos more often'}], [{'de': 'Die Youtuber im roten Cluster laden öfter Videos hoch', 'en-US': 'The Youtubers in the red cluster upload videos more often'}, {'de': 'Die Youtuber im blauen Cluster laden öfter Videos hoch', 'en-US': 'The Youtubers in the blue cluster upload videos more often'}], [{'de': 'Die Youtuber im roten Cluster laden öfter Videos hoch', 'en-US': 'The Youtubers in the red cluster upload videos more often'}, {'de': 'Die Youtuber im blauen Cluster laden öfter Videos hoch', 'en-US': 'The Youtubers in the blue cluster upload videos more often'}], [{'de': 'Die Youtuber im roten Cluster laden öfter Videos hoch', 'en-US': 'The Youtubers in the red cluster upload videos more often'}, {'de': 'Die Youtuber im blauen Cluster laden öfter Videos hoch', 'en-US': 'The Youtubers in the blue cluster upload videos more often'}], [{'de': 'Die Youtuber im roten Cluster laden öfter Videos hoch', 'en-US': 'The Youtubers in the red cluster upload videos more often'}, {'de': 'Die Youtuber im blauen Cluster laden öfter Videos hoch', 'en-US': 'The Youtubers in the blue cluster upload videos more often'}], [{'de': 'Die Youtuber im roten Cluster laden öfter Videos hoch', 'en-US': 'The Youtubers in the red cluster upload videos more often'}, {'de': 'Die Youtuber im blauen Cluster laden öfter Videos hoch', 'en-US': 'The Youtubers in the blue cluster upload videos more often'}], [{'de': 'Die Youtuber im roten Cluster laden öfter Videos hoch', 'en-US': 'The Youtubers in the red cluster upload videos more often'}, {'de': 'Die Youtuber im blauen Cluster laden öfter Videos hoch', 'en-US': 'The Youtubers in the blue cluster upload videos more often'}], [{'de': 'Die Youtuber im roten Cluster laden öfter Videos hoch', 'en-US': 'The Youtubers in the red cluster upload videos more often'}, {'de': 'Die Youtuber im blauen Cluster laden öfter Videos hoch', 'en-US': 'The Youtubers in the blue cluster upload videos more often'}], [{'de': 'Die Youtuber im roten Cluster laden öfter Videos hoch', 'en-US': 'The Youtubers in the red cluster upload videos more often'}, {'de': 'Die Youtuber im blauen Cluster laden öfter Videos hoch', 'en-US': 'The Youtubers in the blue cluster upload videos more often'}], [{'de': 'Die Youtuber im roten Cluster laden öfter Videos hoch', 'en-US': 'The Youtubers in the red cluster upload videos more often'}, {'de': 'Die Youtuber im blauen Cluster laden öfter Videos hoch', 'en-US': 'The Youtubers in the blue cluster upload videos more often'}]]\n",
      "Clustering-1-1-2\n"
     ]
    },
    {
     "data": {
      "image/png": "[encoded data removed]",
      "text/plain": [
       "<Figure size 432x288 with 1 Axes>"
      ]
     },
     "metadata": {
      "needs_background": "light"
     },
     "output_type": "display_data"
    },
    {
     "name": "stdout",
     "output_type": "stream",
     "text": [
      "Wer hat den ähnlichsten Filmgeschmack zu Alex?\n",
      "[[{'de': 'Josi', 'en-US': 'Josi'}, {'de': 'Paul', 'en-US': 'Paul'}, {'de': 'Mahmud', 'en-US': 'Mahmud'}, {'de': 'Anna', 'en-US': 'Anna'}, {'de': 'Isa', 'en-US': 'Isa'}], [{'de': 'Josi', 'en-US': 'Josi'}, {'de': 'Paul', 'en-US': 'Paul'}, {'de': 'Mahmud', 'en-US': 'Mahmud'}, {'de': 'Anna', 'en-US': 'Anna'}, {'de': 'Isa', 'en-US': 'Isa'}], [{'de': 'Josi', 'en-US': 'Josi'}, {'de': 'Paul', 'en-US': 'Paul'}, {'de': 'Mahmud', 'en-US': 'Mahmud'}, {'de': 'Anna', 'en-US': 'Anna'}, {'de': 'Isa', 'en-US': 'Isa'}], [{'de': 'Josi', 'en-US': 'Josi'}, {'de': 'Paul', 'en-US': 'Paul'}, {'de': 'Mahmud', 'en-US': 'Mahmud'}, {'de': 'Anna', 'en-US': 'Anna'}, {'de': 'Isa', 'en-US': 'Isa'}], [{'de': 'Josi', 'en-US': 'Josi'}, {'de': 'Paul', 'en-US': 'Paul'}, {'de': 'Mahmud', 'en-US': 'Mahmud'}, {'de': 'Anna', 'en-US': 'Anna'}, {'de': 'Isa', 'en-US': 'Isa'}], [{'de': 'Josi', 'en-US': 'Josi'}, {'de': 'Paul', 'en-US': 'Paul'}, {'de': 'Mahmud', 'en-US': 'Mahmud'}, {'de': 'Anna', 'en-US': 'Anna'}, {'de': 'Isa', 'en-US': 'Isa'}], [{'de': 'Josi', 'en-US': 'Josi'}, {'de': 'Paul', 'en-US': 'Paul'}, {'de': 'Mahmud', 'en-US': 'Mahmud'}, {'de': 'Anna', 'en-US': 'Anna'}, {'de': 'Isa', 'en-US': 'Isa'}], [{'de': 'Josi', 'en-US': 'Josi'}, {'de': 'Paul', 'en-US': 'Paul'}, {'de': 'Mahmud', 'en-US': 'Mahmud'}, {'de': 'Anna', 'en-US': 'Anna'}, {'de': 'Isa', 'en-US': 'Isa'}], [{'de': 'Josi', 'en-US': 'Josi'}, {'de': 'Paul', 'en-US': 'Paul'}, {'de': 'Mahmud', 'en-US': 'Mahmud'}, {'de': 'Anna', 'en-US': 'Anna'}, {'de': 'Isa', 'en-US': 'Isa'}], [{'de': 'Josi', 'en-US': 'Josi'}, {'de': 'Paul', 'en-US': 'Paul'}, {'de': 'Mahmud', 'en-US': 'Mahmud'}, {'de': 'Anna', 'en-US': 'Anna'}, {'de': 'Isa', 'en-US': 'Isa'}], [{'de': 'Josi', 'en-US': 'Josi'}, {'de': 'Paul', 'en-US': 'Paul'}, {'de': 'Mahmud', 'en-US': 'Mahmud'}, {'de': 'Anna', 'en-US': 'Anna'}, {'de': 'Isa', 'en-US': 'Isa'}], [{'de': 'Josi', 'en-US': 'Josi'}, {'de': 'Paul', 'en-US': 'Paul'}, {'de': 'Mahmud', 'en-US': 'Mahmud'}, {'de': 'Anna', 'en-US': 'Anna'}, {'de': 'Isa', 'en-US': 'Isa'}], [{'de': 'Josi', 'en-US': 'Josi'}, {'de': 'Paul', 'en-US': 'Paul'}, {'de': 'Mahmud', 'en-US': 'Mahmud'}, {'de': 'Anna', 'en-US': 'Anna'}, {'de': 'Isa', 'en-US': 'Isa'}], [{'de': 'Josi', 'en-US': 'Josi'}, {'de': 'Paul', 'en-US': 'Paul'}, {'de': 'Mahmud', 'en-US': 'Mahmud'}, {'de': 'Anna', 'en-US': 'Anna'}, {'de': 'Isa', 'en-US': 'Isa'}], [{'de': 'Josi', 'en-US': 'Josi'}, {'de': 'Paul', 'en-US': 'Paul'}, {'de': 'Mahmud', 'en-US': 'Mahmud'}, {'de': 'Anna', 'en-US': 'Anna'}, {'de': 'Isa', 'en-US': 'Isa'}], [{'de': 'Josi', 'en-US': 'Josi'}, {'de': 'Paul', 'en-US': 'Paul'}, {'de': 'Mahmud', 'en-US': 'Mahmud'}, {'de': 'Anna', 'en-US': 'Anna'}, {'de': 'Isa', 'en-US': 'Isa'}]]\n",
      "Classification-2-1-6\n"
     ]
    },
    {
     "data": {
      "image/png": "[encoded data removed]",
      "text/plain": [
       "<Figure size 432x288 with 1 Axes>"
      ]
     },
     "metadata": {
      "needs_background": "light"
     },
     "output_type": "display_data"
    },
    {
     "name": "stdout",
     "output_type": "stream",
     "text": [
      "Welchen Film kannst du Alex guten Gewissens empfehlen?\n",
      "[[{'de': 'James Bond', 'en-US': 'James Bond'}, {'de': 'Herr der Ringe', 'en-US': 'Lord of the Rings'}, {'de': 'Avengers Endgame', 'en-US': 'Avengers Endgame'}, {'de': 'Fluch der Karibik', 'en-US': 'Pirates of the Caribbean'}, {'de': 'Hangover', 'en-US': 'Hangover'}], [{'de': 'James Bond', 'en-US': 'James Bond'}, {'de': 'Herr der Ringe', 'en-US': 'Lord of the Rings'}, {'de': 'Avengers Endgame', 'en-US': 'Avengers Endgame'}, {'de': 'Fluch der Karibik', 'en-US': 'Pirates of the Caribbean'}, {'de': 'Hangover', 'en-US': 'Hangover'}], [{'de': 'James Bond', 'en-US': 'James Bond'}, {'de': 'Herr der Ringe', 'en-US': 'Lord of the Rings'}, {'de': 'Avengers Endgame', 'en-US': 'Avengers Endgame'}, {'de': 'Fluch der Karibik', 'en-US': 'Pirates of the Caribbean'}, {'de': 'Hangover', 'en-US': 'Hangover'}], [{'de': 'James Bond', 'en-US': 'James Bond'}, {'de': 'Herr der Ringe', 'en-US': 'Lord of the Rings'}, {'de': 'Avengers Endgame', 'en-US': 'Avengers Endgame'}, {'de': 'Fluch der Karibik', 'en-US': 'Pirates of the Caribbean'}, {'de': 'Hangover', 'en-US': 'Hangover'}], [{'de': 'James Bond', 'en-US': 'James Bond'}, {'de': 'Herr der Ringe', 'en-US': 'Lord of the Rings'}, {'de': 'Avengers Endgame', 'en-US': 'Avengers Endgame'}, {'de': 'Fluch der Karibik', 'en-US': 'Pirates of the Caribbean'}, {'de': 'Hangover', 'en-US': 'Hangover'}], [{'de': 'James Bond', 'en-US': 'James Bond'}, {'de': 'Herr der Ringe', 'en-US': 'Lord of the Rings'}, {'de': 'Avengers Endgame', 'en-US': 'Avengers Endgame'}, {'de': 'Fluch der Karibik', 'en-US': 'Pirates of the Caribbean'}, {'de': 'Hangover', 'en-US': 'Hangover'}], [{'de': 'James Bond', 'en-US': 'James Bond'}, {'de': 'Herr der Ringe', 'en-US': 'Lord of the Rings'}, {'de': 'Avengers Endgame', 'en-US': 'Avengers Endgame'}, {'de': 'Fluch der Karibik', 'en-US': 'Pirates of the Caribbean'}, {'de': 'Hangover', 'en-US': 'Hangover'}], [{'de': 'James Bond', 'en-US': 'James Bond'}, {'de': 'Herr der Ringe', 'en-US': 'Lord of the Rings'}, {'de': 'Avengers Endgame', 'en-US': 'Avengers Endgame'}, {'de': 'Fluch der Karibik', 'en-US': 'Pirates of the Caribbean'}, {'de': 'Hangover', 'en-US': 'Hangover'}], [{'de': 'James Bond', 'en-US': 'James Bond'}, {'de': 'Herr der Ringe', 'en-US': 'Lord of the Rings'}, {'de': 'Avengers Endgame', 'en-US': 'Avengers Endgame'}, {'de': 'Fluch der Karibik', 'en-US': 'Pirates of the Caribbean'}, {'de': 'Hangover', 'en-US': 'Hangover'}], [{'de': 'James Bond', 'en-US': 'James Bond'}, {'de': 'Herr der Ringe', 'en-US': 'Lord of the Rings'}, {'de': 'Avengers Endgame', 'en-US': 'Avengers Endgame'}, {'de': 'Fluch der Karibik', 'en-US': 'Pirates of the Caribbean'}, {'de': 'Hangover', 'en-US': 'Hangover'}], [{'de': 'James Bond', 'en-US': 'James Bond'}, {'de': 'Herr der Ringe', 'en-US': 'Lord of the Rings'}, {'de': 'Avengers Endgame', 'en-US': 'Avengers Endgame'}, {'de': 'Fluch der Karibik', 'en-US': 'Pirates of the Caribbean'}, {'de': 'Hangover', 'en-US': 'Hangover'}], [{'de': 'James Bond', 'en-US': 'James Bond'}, {'de': 'Herr der Ringe', 'en-US': 'Lord of the Rings'}, {'de': 'Avengers Endgame', 'en-US': 'Avengers Endgame'}, {'de': 'Fluch der Karibik', 'en-US': 'Pirates of the Caribbean'}, {'de': 'Hangover', 'en-US': 'Hangover'}], [{'de': 'James Bond', 'en-US': 'James Bond'}, {'de': 'Herr der Ringe', 'en-US': 'Lord of the Rings'}, {'de': 'Avengers Endgame', 'en-US': 'Avengers Endgame'}, {'de': 'Fluch der Karibik', 'en-US': 'Pirates of the Caribbean'}, {'de': 'Hangover', 'en-US': 'Hangover'}], [{'de': 'James Bond', 'en-US': 'James Bond'}, {'de': 'Herr der Ringe', 'en-US': 'Lord of the Rings'}, {'de': 'Avengers Endgame', 'en-US': 'Avengers Endgame'}, {'de': 'Fluch der Karibik', 'en-US': 'Pirates of the Caribbean'}, {'de': 'Hangover', 'en-US': 'Hangover'}], [{'de': 'James Bond', 'en-US': 'James Bond'}, {'de': 'Herr der Ringe', 'en-US': 'Lord of the Rings'}, {'de': 'Avengers Endgame', 'en-US': 'Avengers Endgame'}, {'de': 'Fluch der Karibik', 'en-US': 'Pirates of the Caribbean'}, {'de': 'Hangover', 'en-US': 'Hangover'}], [{'de': 'James Bond', 'en-US': 'James Bond'}, {'de': 'Herr der Ringe', 'en-US': 'Lord of the Rings'}, {'de': 'Avengers Endgame', 'en-US': 'Avengers Endgame'}, {'de': 'Fluch der Karibik', 'en-US': 'Pirates of the Caribbean'}, {'de': 'Hangover', 'en-US': 'Hangover'}]]\n",
      "Classification-2-1-7\n"
     ]
    },
    {
     "data": {
      "image/png": "[encoded data removed]",
      "text/plain": [
       "<Figure size 432x288 with 1 Axes>"
      ]
     },
     "metadata": {
      "needs_background": "light"
     },
     "output_type": "display_data"
    },
    {
     "name": "stdout",
     "output_type": "stream",
     "text": [
      "Welche Aussagen stimmen?\n",
      "[[{'de': 'Ein Algorithmus, der dir basierend auf deinen Lieblingsfächern einen Beruf vorschlägt, könnte man mittels überwachtem Lernen umsetzen', 'en-US': 'An algorithm that suggests a profession based on your favorite subjects could be implemented using supervised learning'}, {'de': 'Ein Algorithmus, der ähnliche Berufe gruppiert, gehört zum überwachten Lernen', 'en-US': 'An algorithm that groups similar occupations is part of supervised learning'}, {'de': 'Ein Algorithmus, der anhand vieler alter Fälle gelernt hat, medizinische Diagnosen zu stellen, gehört zum überwachten Lernen', 'en-US': 'An algorithm that has learned to make medical diagnoses based on many old cases is part of supervised learning'}], [{'de': 'Ein Algorithmus, der dir basierend auf deinen Lieblingsfächern einen Beruf vorschlägt, könnte man mittels überwachtem Lernen umsetzen', 'en-US': 'An algorithm that suggests a profession based on your favorite subjects could be implemented using supervised learning'}, {'de': 'Ein Algorithmus, der ähnliche Berufe gruppiert, gehört zum überwachten Lernen', 'en-US': 'An algorithm that groups similar occupations is part of supervised learning'}, {'de': 'Ein Algorithmus, der anhand vieler alter Fälle gelernt hat, medizinische Diagnosen zu stellen, gehört zum überwachten Lernen', 'en-US': 'An algorithm that has learned to make medical diagnoses based on many old cases is part of supervised learning'}], [{'de': 'Ein Algorithmus, der dir basierend auf deinen Lieblingsfächern einen Beruf vorschlägt, könnte man mittels überwachtem Lernen umsetzen', 'en-US': 'An algorithm that suggests a profession based on your favorite subjects could be implemented using supervised learning'}, {'de': 'Ein Algorithmus, der ähnliche Berufe gruppiert, gehört zum überwachten Lernen', 'en-US': 'An algorithm that groups similar occupations is part of supervised learning'}, {'de': 'Ein Algorithmus, der anhand vieler alter Fälle gelernt hat, medizinische Diagnosen zu stellen, gehört zum überwachten Lernen', 'en-US': 'An algorithm that has learned to make medical diagnoses based on many old cases is part of supervised learning'}], [{'de': 'Ein Algorithmus, der dir basierend auf deinen Lieblingsfächern einen Beruf vorschlägt, könnte man mittels überwachtem Lernen umsetzen', 'en-US': 'An algorithm that suggests a profession based on your favorite subjects could be implemented using supervised learning'}, {'de': 'Ein Algorithmus, der ähnliche Berufe gruppiert, gehört zum überwachten Lernen', 'en-US': 'An algorithm that groups similar occupations is part of supervised learning'}, {'de': 'Ein Algorithmus, der anhand vieler alter Fälle gelernt hat, medizinische Diagnosen zu stellen, gehört zum überwachten Lernen', 'en-US': 'An algorithm that has learned to make medical diagnoses based on many old cases is part of supervised learning'}], [{'de': 'Ein Algorithmus, der dir basierend auf deinen Lieblingsfächern einen Beruf vorschlägt, könnte man mittels überwachtem Lernen umsetzen', 'en-US': 'An algorithm that suggests a profession based on your favorite subjects could be implemented using supervised learning'}, {'de': 'Ein Algorithmus, der ähnliche Berufe gruppiert, gehört zum überwachten Lernen', 'en-US': 'An algorithm that groups similar occupations is part of supervised learning'}, {'de': 'Ein Algorithmus, der anhand vieler alter Fälle gelernt hat, medizinische Diagnosen zu stellen, gehört zum überwachten Lernen', 'en-US': 'An algorithm that has learned to make medical diagnoses based on many old cases is part of supervised learning'}], [{'de': 'Ein Algorithmus, der dir basierend auf deinen Lieblingsfächern einen Beruf vorschlägt, könnte man mittels überwachtem Lernen umsetzen', 'en-US': 'An algorithm that suggests a profession based on your favorite subjects could be implemented using supervised learning'}, {'de': 'Ein Algorithmus, der ähnliche Berufe gruppiert, gehört zum überwachten Lernen', 'en-US': 'An algorithm that groups similar occupations is part of supervised learning'}, {'de': 'Ein Algorithmus, der anhand vieler alter Fälle gelernt hat, medizinische Diagnosen zu stellen, gehört zum überwachten Lernen', 'en-US': 'An algorithm that has learned to make medical diagnoses based on many old cases is part of supervised learning'}], [{'de': 'Ein Algorithmus, der dir basierend auf deinen Lieblingsfächern einen Beruf vorschlägt, könnte man mittels überwachtem Lernen umsetzen', 'en-US': 'An algorithm that suggests a profession based on your favorite subjects could be implemented using supervised learning'}, {'de': 'Ein Algorithmus, der ähnliche Berufe gruppiert, gehört zum überwachten Lernen', 'en-US': 'An algorithm that groups similar occupations is part of supervised learning'}, {'de': 'Ein Algorithmus, der anhand vieler alter Fälle gelernt hat, medizinische Diagnosen zu stellen, gehört zum überwachten Lernen', 'en-US': 'An algorithm that has learned to make medical diagnoses based on many old cases is part of supervised learning'}], [{'de': 'Ein Algorithmus, der dir basierend auf deinen Lieblingsfächern einen Beruf vorschlägt, könnte man mittels überwachtem Lernen umsetzen', 'en-US': 'An algorithm that suggests a profession based on your favorite subjects could be implemented using supervised learning'}, {'de': 'Ein Algorithmus, der ähnliche Berufe gruppiert, gehört zum überwachten Lernen', 'en-US': 'An algorithm that groups similar occupations is part of supervised learning'}, {'de': 'Ein Algorithmus, der anhand vieler alter Fälle gelernt hat, medizinische Diagnosen zu stellen, gehört zum überwachten Lernen', 'en-US': 'An algorithm that has learned to make medical diagnoses based on many old cases is part of supervised learning'}], [{'de': 'Ein Algorithmus, der dir basierend auf deinen Lieblingsfächern einen Beruf vorschlägt, könnte man mittels überwachtem Lernen umsetzen', 'en-US': 'An algorithm that suggests a profession based on your favorite subjects could be implemented using supervised learning'}, {'de': 'Ein Algorithmus, der ähnliche Berufe gruppiert, gehört zum überwachten Lernen', 'en-US': 'An algorithm that groups similar occupations is part of supervised learning'}, {'de': 'Ein Algorithmus, der anhand vieler alter Fälle gelernt hat, medizinische Diagnosen zu stellen, gehört zum überwachten Lernen', 'en-US': 'An algorithm that has learned to make medical diagnoses based on many old cases is part of supervised learning'}], [{'de': 'Ein Algorithmus, der dir basierend auf deinen Lieblingsfächern einen Beruf vorschlägt, könnte man mittels überwachtem Lernen umsetzen', 'en-US': 'An algorithm that suggests a profession based on your favorite subjects could be implemented using supervised learning'}, {'de': 'Ein Algorithmus, der ähnliche Berufe gruppiert, gehört zum überwachten Lernen', 'en-US': 'An algorithm that groups similar occupations is part of supervised learning'}, {'de': 'Ein Algorithmus, der anhand vieler alter Fälle gelernt hat, medizinische Diagnosen zu stellen, gehört zum überwachten Lernen', 'en-US': 'An algorithm that has learned to make medical diagnoses based on many old cases is part of supervised learning'}], [{'de': 'Ein Algorithmus, der dir basierend auf deinen Lieblingsfächern einen Beruf vorschlägt, könnte man mittels überwachtem Lernen umsetzen', 'en-US': 'An algorithm that suggests a profession based on your favorite subjects could be implemented using supervised learning'}, {'de': 'Ein Algorithmus, der ähnliche Berufe gruppiert, gehört zum überwachten Lernen', 'en-US': 'An algorithm that groups similar occupations is part of supervised learning'}, {'de': 'Ein Algorithmus, der anhand vieler alter Fälle gelernt hat, medizinische Diagnosen zu stellen, gehört zum überwachten Lernen', 'en-US': 'An algorithm that has learned to make medical diagnoses based on many old cases is part of supervised learning'}], [{'de': 'Ein Algorithmus, der dir basierend auf deinen Lieblingsfächern einen Beruf vorschlägt, könnte man mittels überwachtem Lernen umsetzen', 'en-US': 'An algorithm that suggests a profession based on your favorite subjects could be implemented using supervised learning'}, {'de': 'Ein Algorithmus, der ähnliche Berufe gruppiert, gehört zum überwachten Lernen', 'en-US': 'An algorithm that groups similar occupations is part of supervised learning'}, {'de': 'Ein Algorithmus, der anhand vieler alter Fälle gelernt hat, medizinische Diagnosen zu stellen, gehört zum überwachten Lernen', 'en-US': 'An algorithm that has learned to make medical diagnoses based on many old cases is part of supervised learning'}], [{'de': 'Ein Algorithmus, der dir basierend auf deinen Lieblingsfächern einen Beruf vorschlägt, könnte man mittels überwachtem Lernen umsetzen', 'en-US': 'An algorithm that suggests a profession based on your favorite subjects could be implemented using supervised learning'}, {'de': 'Ein Algorithmus, der ähnliche Berufe gruppiert, gehört zum überwachten Lernen', 'en-US': 'An algorithm that groups similar occupations is part of supervised learning'}, {'de': 'Ein Algorithmus, der anhand vieler alter Fälle gelernt hat, medizinische Diagnosen zu stellen, gehört zum überwachten Lernen', 'en-US': 'An algorithm that has learned to make medical diagnoses based on many old cases is part of supervised learning'}], [{'de': 'Ein Algorithmus, der dir basierend auf deinen Lieblingsfächern einen Beruf vorschlägt, könnte man mittels überwachtem Lernen umsetzen', 'en-US': 'An algorithm that suggests a profession based on your favorite subjects could be implemented using supervised learning'}, {'de': 'Ein Algorithmus, der ähnliche Berufe gruppiert, gehört zum überwachten Lernen', 'en-US': 'An algorithm that groups similar occupations is part of supervised learning'}, {'de': 'Ein Algorithmus, der anhand vieler alter Fälle gelernt hat, medizinische Diagnosen zu stellen, gehört zum überwachten Lernen', 'en-US': 'An algorithm that has learned to make medical diagnoses based on many old cases is part of supervised learning'}], [{'de': 'Ein Algorithmus, der dir basierend auf deinen Lieblingsfächern einen Beruf vorschlägt, könnte man mittels überwachtem Lernen umsetzen', 'en-US': 'An algorithm that suggests a profession based on your favorite subjects could be implemented using supervised learning'}, {'de': 'Ein Algorithmus, der ähnliche Berufe gruppiert, gehört zum überwachten Lernen', 'en-US': 'An algorithm that groups similar occupations is part of supervised learning'}, {'de': 'Ein Algorithmus, der anhand vieler alter Fälle gelernt hat, medizinische Diagnosen zu stellen, gehört zum überwachten Lernen', 'en-US': 'An algorithm that has learned to make medical diagnoses based on many old cases is part of supervised learning'}], [{'de': 'Ein Algorithmus, der dir basierend auf deinen Lieblingsfächern einen Beruf vorschlägt, könnte man mittels überwachtem Lernen umsetzen', 'en-US': 'An algorithm that suggests a profession based on your favorite subjects could be implemented using supervised learning'}, {'de': 'Ein Algorithmus, der ähnliche Berufe gruppiert, gehört zum überwachten Lernen', 'en-US': 'An algorithm that groups similar occupations is part of supervised learning'}, {'de': 'Ein Algorithmus, der anhand vieler alter Fälle gelernt hat, medizinische Diagnosen zu stellen, gehört zum überwachten Lernen', 'en-US': 'An algorithm that has learned to make medical diagnoses based on many old cases is part of supervised learning'}]]\n",
      "Classification-2-1-8\n"
     ]
    },
    {
     "data": {
      "image/png": "[encoded data removed]",
      "text/plain": [
       "<Figure size 432x288 with 1 Axes>"
      ]
     },
     "metadata": {
      "needs_background": "light"
     },
     "output_type": "display_data"
    },
    {
     "name": "stdout",
     "output_type": "stream",
     "text": [
      "Was könnte passieren, wenn wir bei den Hundebildern nur Bilder von einer Hunderasse nutzen würden?\n",
      "[nan, nan, nan, nan, nan, nan, nan, nan, nan, nan, nan]\n",
      "LimitsML-1-1\n"
     ]
    },
    {
     "data": {
      "image/png": "[encoded data removed]",
      "text/plain": [
       "<Figure size 432x288 with 1 Axes>"
      ]
     },
     "metadata": {
      "needs_background": "light"
     },
     "output_type": "display_data"
    },
    {
     "name": "stdout",
     "output_type": "stream",
     "text": [
      "Welche der Aussagen stimmen?\n",
      "[[{'de': 'KI-Anwendungen zeichnen sich dadurch aus, dass sie intelligentes Verhalten zeigen, autonom funktionieren und mit Erfahrung lernen', 'en-US': 'AI applications are characterized by exhibiting intelligent behavior, functioning autonomously, and learning with experience'}, {'de': 'Eine fertige KI-Anwendung kann nicht ohne Hilfe von einem Menschen funktionieren', 'en-US': 'A finished AI application cannot function without help from a human'}, {'de': 'Eine fertige KI-Anwendung kann nicht mit Erfahrung lernen, sie bleibt, wie sie ist', 'en-US': 'A ready-made AI application cannot learn with experience, it remains as it is'}, {'de': 'Eine spezifische KI zeigt intelligentes Verhalten in einem kleinen Bereich', 'en-US': 'A specific AI exhibits intelligent behavior in a small domain'}, {'de': 'Jede KI hat allgemeine Intelligenz. Damit ist jede KI eine allgemeine KI', 'en-US': 'Every AI has general intelligence. Thus every AI is a general AI'}, {'de': 'Ein Programm, dass so gut Schach spielen kann, wie Menschen, ist ein Beispiel für eine spezifische KI', 'en-US': 'A program that can play chess as well as humans is an example of a specific AI'}, {'de': 'Derzeit gibt es sowohl Anwendungen, die zur spezifischen, als auch welche, die zur allgemeinen KI gehören', 'en-US': 'Currently, there are applications that belong to specific AI as well as those that belong to general AI'}, {'de': 'KI kann irgendwann alles besser als der Mensch', 'en-US': 'AI will eventually be able to do everything better than humans'}, {'de': 'Jeder Mensch wird zukünftig eine Vielzahl verschiedener KIs in seinem Alltag nutzen', 'en-US': 'In the future, everyone will use a variety of different AIs in their everyday lives'}], [{'de': 'KI-Anwendungen zeichnen sich dadurch aus, dass sie intelligentes Verhalten zeigen, autonom funktionieren und mit Erfahrung lernen', 'en-US': 'AI applications are characterized by exhibiting intelligent behavior, functioning autonomously, and learning with experience'}, {'de': 'Eine fertige KI-Anwendung kann nicht ohne Hilfe von einem Menschen funktionieren', 'en-US': 'A finished AI application cannot function without help from a human'}, {'de': 'Eine fertige KI-Anwendung kann nicht mit Erfahrung lernen, sie bleibt, wie sie ist', 'en-US': 'A ready-made AI application cannot learn with experience, it remains as it is'}, {'de': 'Eine spezifische KI zeigt intelligentes Verhalten in einem kleinen Bereich', 'en-US': 'A specific AI exhibits intelligent behavior in a small domain'}, {'de': 'Jede KI hat allgemeine Intelligenz. Damit ist jede KI eine allgemeine KI', 'en-US': 'Every AI has general intelligence. Thus every AI is a general AI'}, {'de': 'Ein Programm, dass so gut Schach spielen kann, wie Menschen, ist ein Beispiel für eine spezifische KI', 'en-US': 'A program that can play chess as well as humans is an example of a specific AI'}, {'de': 'Derzeit gibt es sowohl Anwendungen, die zur spezifischen, als auch welche, die zur allgemeinen KI gehören', 'en-US': 'Currently, there are applications that belong to specific AI as well as those that belong to general AI'}, {'de': 'KI kann irgendwann alles besser als der Mensch', 'en-US': 'AI will eventually be able to do everything better than humans'}, {'de': 'Jeder Mensch wird zukünftig eine Vielzahl verschiedener KIs in seinem Alltag nutzen', 'en-US': 'In the future, everyone will use a variety of different AIs in their everyday lives'}], [{'de': 'KI-Anwendungen zeichnen sich dadurch aus, dass sie intelligentes Verhalten zeigen, autonom funktionieren und mit Erfahrung lernen', 'en-US': 'AI applications are characterized by exhibiting intelligent behavior, functioning autonomously, and learning with experience'}, {'de': 'Eine fertige KI-Anwendung kann nicht ohne Hilfe von einem Menschen funktionieren', 'en-US': 'A finished AI application cannot function without help from a human'}, {'de': 'Eine fertige KI-Anwendung kann nicht mit Erfahrung lernen, sie bleibt, wie sie ist', 'en-US': 'A ready-made AI application cannot learn with experience, it remains as it is'}, {'de': 'Eine spezifische KI zeigt intelligentes Verhalten in einem kleinen Bereich', 'en-US': 'A specific AI exhibits intelligent behavior in a small domain'}, {'de': 'Jede KI hat allgemeine Intelligenz. Damit ist jede KI eine allgemeine KI', 'en-US': 'Every AI has general intelligence. Thus every AI is a general AI'}, {'de': 'Ein Programm, dass so gut Schach spielen kann, wie Menschen, ist ein Beispiel für eine spezifische KI', 'en-US': 'A program that can play chess as well as humans is an example of a specific AI'}, {'de': 'Derzeit gibt es sowohl Anwendungen, die zur spezifischen, als auch welche, die zur allgemeinen KI gehören', 'en-US': 'Currently, there are applications that belong to specific AI as well as those that belong to general AI'}, {'de': 'KI kann irgendwann alles besser als der Mensch', 'en-US': 'AI will eventually be able to do everything better than humans'}, {'de': 'Jeder Mensch wird zukünftig eine Vielzahl verschiedener KIs in seinem Alltag nutzen', 'en-US': 'In the future, everyone will use a variety of different AIs in their everyday lives'}], [{'de': 'KI-Anwendungen zeichnen sich dadurch aus, dass sie intelligentes Verhalten zeigen, autonom funktionieren und mit Erfahrung lernen', 'en-US': 'AI applications are characterized by exhibiting intelligent behavior, functioning autonomously, and learning with experience'}, {'de': 'Eine fertige KI-Anwendung kann nicht ohne Hilfe von einem Menschen funktionieren', 'en-US': 'A finished AI application cannot function without help from a human'}, {'de': 'Eine fertige KI-Anwendung kann nicht mit Erfahrung lernen, sie bleibt, wie sie ist', 'en-US': 'A ready-made AI application cannot learn with experience, it remains as it is'}, {'de': 'Eine spezifische KI zeigt intelligentes Verhalten in einem kleinen Bereich', 'en-US': 'A specific AI exhibits intelligent behavior in a small domain'}, {'de': 'Jede KI hat allgemeine Intelligenz. Damit ist jede KI eine allgemeine KI', 'en-US': 'Every AI has general intelligence. Thus every AI is a general AI'}, {'de': 'Ein Programm, dass so gut Schach spielen kann, wie Menschen, ist ein Beispiel für eine spezifische KI', 'en-US': 'A program that can play chess as well as humans is an example of a specific AI'}, {'de': 'Derzeit gibt es sowohl Anwendungen, die zur spezifischen, als auch welche, die zur allgemeinen KI gehören', 'en-US': 'Currently, there are applications that belong to specific AI as well as those that belong to general AI'}, {'de': 'KI kann irgendwann alles besser als der Mensch', 'en-US': 'AI will eventually be able to do everything better than humans'}, {'de': 'Jeder Mensch wird zukünftig eine Vielzahl verschiedener KIs in seinem Alltag nutzen', 'en-US': 'In the future, everyone will use a variety of different AIs in their everyday lives'}], [{'de': 'KI-Anwendungen zeichnen sich dadurch aus, dass sie intelligentes Verhalten zeigen, autonom funktionieren und mit Erfahrung lernen', 'en-US': 'AI applications are characterized by exhibiting intelligent behavior, functioning autonomously, and learning with experience'}, {'de': 'Eine fertige KI-Anwendung kann nicht ohne Hilfe von einem Menschen funktionieren', 'en-US': 'A finished AI application cannot function without help from a human'}, {'de': 'Eine fertige KI-Anwendung kann nicht mit Erfahrung lernen, sie bleibt, wie sie ist', 'en-US': 'A ready-made AI application cannot learn with experience, it remains as it is'}, {'de': 'Eine spezifische KI zeigt intelligentes Verhalten in einem kleinen Bereich', 'en-US': 'A specific AI exhibits intelligent behavior in a small domain'}, {'de': 'Jede KI hat allgemeine Intelligenz. Damit ist jede KI eine allgemeine KI', 'en-US': 'Every AI has general intelligence. Thus every AI is a general AI'}, {'de': 'Ein Programm, dass so gut Schach spielen kann, wie Menschen, ist ein Beispiel für eine spezifische KI', 'en-US': 'A program that can play chess as well as humans is an example of a specific AI'}, {'de': 'Derzeit gibt es sowohl Anwendungen, die zur spezifischen, als auch welche, die zur allgemeinen KI gehören', 'en-US': 'Currently, there are applications that belong to specific AI as well as those that belong to general AI'}, {'de': 'KI kann irgendwann alles besser als der Mensch', 'en-US': 'AI will eventually be able to do everything better than humans'}, {'de': 'Jeder Mensch wird zukünftig eine Vielzahl verschiedener KIs in seinem Alltag nutzen', 'en-US': 'In the future, everyone will use a variety of different AIs in their everyday lives'}], [{'de': 'KI-Anwendungen zeichnen sich dadurch aus, dass sie intelligentes Verhalten zeigen, autonom funktionieren und mit Erfahrung lernen', 'en-US': 'AI applications are characterized by exhibiting intelligent behavior, functioning autonomously, and learning with experience'}, {'de': 'Eine fertige KI-Anwendung kann nicht ohne Hilfe von einem Menschen funktionieren', 'en-US': 'A finished AI application cannot function without help from a human'}, {'de': 'Eine fertige KI-Anwendung kann nicht mit Erfahrung lernen, sie bleibt, wie sie ist', 'en-US': 'A ready-made AI application cannot learn with experience, it remains as it is'}, {'de': 'Eine spezifische KI zeigt intelligentes Verhalten in einem kleinen Bereich', 'en-US': 'A specific AI exhibits intelligent behavior in a small domain'}, {'de': 'Jede KI hat allgemeine Intelligenz. Damit ist jede KI eine allgemeine KI', 'en-US': 'Every AI has general intelligence. Thus every AI is a general AI'}, {'de': 'Ein Programm, dass so gut Schach spielen kann, wie Menschen, ist ein Beispiel für eine spezifische KI', 'en-US': 'A program that can play chess as well as humans is an example of a specific AI'}, {'de': 'Derzeit gibt es sowohl Anwendungen, die zur spezifischen, als auch welche, die zur allgemeinen KI gehören', 'en-US': 'Currently, there are applications that belong to specific AI as well as those that belong to general AI'}, {'de': 'KI kann irgendwann alles besser als der Mensch', 'en-US': 'AI will eventually be able to do everything better than humans'}, {'de': 'Jeder Mensch wird zukünftig eine Vielzahl verschiedener KIs in seinem Alltag nutzen', 'en-US': 'In the future, everyone will use a variety of different AIs in their everyday lives'}], [{'de': 'KI-Anwendungen zeichnen sich dadurch aus, dass sie intelligentes Verhalten zeigen, autonom funktionieren und mit Erfahrung lernen', 'en-US': 'AI applications are characterized by exhibiting intelligent behavior, functioning autonomously, and learning with experience'}, {'de': 'Eine fertige KI-Anwendung kann nicht ohne Hilfe von einem Menschen funktionieren', 'en-US': 'A finished AI application cannot function without help from a human'}, {'de': 'Eine fertige KI-Anwendung kann nicht mit Erfahrung lernen, sie bleibt, wie sie ist', 'en-US': 'A ready-made AI application cannot learn with experience, it remains as it is'}, {'de': 'Eine spezifische KI zeigt intelligentes Verhalten in einem kleinen Bereich', 'en-US': 'A specific AI exhibits intelligent behavior in a small domain'}, {'de': 'Jede KI hat allgemeine Intelligenz. Damit ist jede KI eine allgemeine KI', 'en-US': 'Every AI has general intelligence. Thus every AI is a general AI'}, {'de': 'Ein Programm, dass so gut Schach spielen kann, wie Menschen, ist ein Beispiel für eine spezifische KI', 'en-US': 'A program that can play chess as well as humans is an example of a specific AI'}, {'de': 'Derzeit gibt es sowohl Anwendungen, die zur spezifischen, als auch welche, die zur allgemeinen KI gehören', 'en-US': 'Currently, there are applications that belong to specific AI as well as those that belong to general AI'}, {'de': 'KI kann irgendwann alles besser als der Mensch', 'en-US': 'AI will eventually be able to do everything better than humans'}, {'de': 'Jeder Mensch wird zukünftig eine Vielzahl verschiedener KIs in seinem Alltag nutzen', 'en-US': 'In the future, everyone will use a variety of different AIs in their everyday lives'}], [{'de': 'KI-Anwendungen zeichnen sich dadurch aus, dass sie intelligentes Verhalten zeigen, autonom funktionieren und mit Erfahrung lernen', 'en-US': 'AI applications are characterized by exhibiting intelligent behavior, functioning autonomously, and learning with experience'}, {'de': 'Eine fertige KI-Anwendung kann nicht ohne Hilfe von einem Menschen funktionieren', 'en-US': 'A finished AI application cannot function without help from a human'}, {'de': 'Eine fertige KI-Anwendung kann nicht mit Erfahrung lernen, sie bleibt, wie sie ist', 'en-US': 'A ready-made AI application cannot learn with experience, it remains as it is'}, {'de': 'Eine spezifische KI zeigt intelligentes Verhalten in einem kleinen Bereich', 'en-US': 'A specific AI exhibits intelligent behavior in a small domain'}, {'de': 'Jede KI hat allgemeine Intelligenz. Damit ist jede KI eine allgemeine KI', 'en-US': 'Every AI has general intelligence. Thus every AI is a general AI'}, {'de': 'Ein Programm, dass so gut Schach spielen kann, wie Menschen, ist ein Beispiel für eine spezifische KI', 'en-US': 'A program that can play chess as well as humans is an example of a specific AI'}, {'de': 'Derzeit gibt es sowohl Anwendungen, die zur spezifischen, als auch welche, die zur allgemeinen KI gehören', 'en-US': 'Currently, there are applications that belong to specific AI as well as those that belong to general AI'}, {'de': 'KI kann irgendwann alles besser als der Mensch', 'en-US': 'AI will eventually be able to do everything better than humans'}, {'de': 'Jeder Mensch wird zukünftig eine Vielzahl verschiedener KIs in seinem Alltag nutzen', 'en-US': 'In the future, everyone will use a variety of different AIs in their everyday lives'}], [{'de': 'KI-Anwendungen zeichnen sich dadurch aus, dass sie intelligentes Verhalten zeigen, autonom funktionieren und mit Erfahrung lernen', 'en-US': 'AI applications are characterized by exhibiting intelligent behavior, functioning autonomously, and learning with experience'}, {'de': 'Eine fertige KI-Anwendung kann nicht ohne Hilfe von einem Menschen funktionieren', 'en-US': 'A finished AI application cannot function without help from a human'}, {'de': 'Eine fertige KI-Anwendung kann nicht mit Erfahrung lernen, sie bleibt, wie sie ist', 'en-US': 'A ready-made AI application cannot learn with experience, it remains as it is'}, {'de': 'Eine spezifische KI zeigt intelligentes Verhalten in einem kleinen Bereich', 'en-US': 'A specific AI exhibits intelligent behavior in a small domain'}, {'de': 'Jede KI hat allgemeine Intelligenz. Damit ist jede KI eine allgemeine KI', 'en-US': 'Every AI has general intelligence. Thus every AI is a general AI'}, {'de': 'Ein Programm, dass so gut Schach spielen kann, wie Menschen, ist ein Beispiel für eine spezifische KI', 'en-US': 'A program that can play chess as well as humans is an example of a specific AI'}, {'de': 'Derzeit gibt es sowohl Anwendungen, die zur spezifischen, als auch welche, die zur allgemeinen KI gehören', 'en-US': 'Currently, there are applications that belong to specific AI as well as those that belong to general AI'}, {'de': 'KI kann irgendwann alles besser als der Mensch', 'en-US': 'AI will eventually be able to do everything better than humans'}, {'de': 'Jeder Mensch wird zukünftig eine Vielzahl verschiedener KIs in seinem Alltag nutzen', 'en-US': 'In the future, everyone will use a variety of different AIs in their everyday lives'}], [{'de': 'KI-Anwendungen zeichnen sich dadurch aus, dass sie intelligentes Verhalten zeigen, autonom funktionieren und mit Erfahrung lernen', 'en-US': 'AI applications are characterized by exhibiting intelligent behavior, functioning autonomously, and learning with experience'}, {'de': 'Eine fertige KI-Anwendung kann nicht ohne Hilfe von einem Menschen funktionieren', 'en-US': 'A finished AI application cannot function without help from a human'}, {'de': 'Eine fertige KI-Anwendung kann nicht mit Erfahrung lernen, sie bleibt, wie sie ist', 'en-US': 'A ready-made AI application cannot learn with experience, it remains as it is'}, {'de': 'Eine spezifische KI zeigt intelligentes Verhalten in einem kleinen Bereich', 'en-US': 'A specific AI exhibits intelligent behavior in a small domain'}, {'de': 'Jede KI hat allgemeine Intelligenz. Damit ist jede KI eine allgemeine KI', 'en-US': 'Every AI has general intelligence. Thus every AI is a general AI'}, {'de': 'Ein Programm, dass so gut Schach spielen kann, wie Menschen, ist ein Beispiel für eine spezifische KI', 'en-US': 'A program that can play chess as well as humans is an example of a specific AI'}, {'de': 'Derzeit gibt es sowohl Anwendungen, die zur spezifischen, als auch welche, die zur allgemeinen KI gehören', 'en-US': 'Currently, there are applications that belong to specific AI as well as those that belong to general AI'}, {'de': 'KI kann irgendwann alles besser als der Mensch', 'en-US': 'AI will eventually be able to do everything better than humans'}, {'de': 'Jeder Mensch wird zukünftig eine Vielzahl verschiedener KIs in seinem Alltag nutzen', 'en-US': 'In the future, everyone will use a variety of different AIs in their everyday lives'}]]\n",
      "EvalML-1-3\n"
     ]
    },
    {
     "data": {
      "image/png": "[encoded data removed]",
      "text/plain": [
       "<Figure size 432x288 with 1 Axes>"
      ]
     },
     "metadata": {
      "needs_background": "light"
     },
     "output_type": "display_data"
    },
    {
     "name": "stdout",
     "output_type": "stream",
     "text": [
      "Welche der folgenden Anwendungen enthalten KI-Methoden?\n",
      "[[{'de': 'Die Erkennung von Gegenständen auf Bildern', 'en-US': 'The recognition of objects in images'}, {'de': 'Das Sortieren von Bildern nach Datum', 'en-US': 'Sorting images by date'}, {'de': 'Ein personalisiertes Empfehlungssystem für Musik', 'en-US': 'A personalized recommendation system for music'}, {'de': 'Eine Nachrichtenseite, die jedem Nutzer den gleichen Inhalt präsentiert', 'en-US': 'A news site that presents the same content to every user'}], [{'de': 'Die Erkennung von Gegenständen auf Bildern', 'en-US': 'The recognition of objects in images'}, {'de': 'Das Sortieren von Bildern nach Datum', 'en-US': 'Sorting images by date'}, {'de': 'Ein personalisiertes Empfehlungssystem für Musik', 'en-US': 'A personalized recommendation system for music'}, {'de': 'Eine Nachrichtenseite, die jedem Nutzer den gleichen Inhalt präsentiert', 'en-US': 'A news site that presents the same content to every user'}], [{'de': 'Die Erkennung von Gegenständen auf Bildern', 'en-US': 'The recognition of objects in images'}, {'de': 'Das Sortieren von Bildern nach Datum', 'en-US': 'Sorting images by date'}, {'de': 'Ein personalisiertes Empfehlungssystem für Musik', 'en-US': 'A personalized recommendation system for music'}, {'de': 'Eine Nachrichtenseite, die jedem Nutzer den gleichen Inhalt präsentiert', 'en-US': 'A news site that presents the same content to every user'}], [{'de': 'Die Erkennung von Gegenständen auf Bildern', 'en-US': 'The recognition of objects in images'}, {'de': 'Das Sortieren von Bildern nach Datum', 'en-US': 'Sorting images by date'}, {'de': 'Ein personalisiertes Empfehlungssystem für Musik', 'en-US': 'A personalized recommendation system for music'}, {'de': 'Eine Nachrichtenseite, die jedem Nutzer den gleichen Inhalt präsentiert', 'en-US': 'A news site that presents the same content to every user'}], [{'de': 'Die Erkennung von Gegenständen auf Bildern', 'en-US': 'The recognition of objects in images'}, {'de': 'Das Sortieren von Bildern nach Datum', 'en-US': 'Sorting images by date'}, {'de': 'Ein personalisiertes Empfehlungssystem für Musik', 'en-US': 'A personalized recommendation system for music'}, {'de': 'Eine Nachrichtenseite, die jedem Nutzer den gleichen Inhalt präsentiert', 'en-US': 'A news site that presents the same content to every user'}], [{'de': 'Die Erkennung von Gegenständen auf Bildern', 'en-US': 'The recognition of objects in images'}, {'de': 'Das Sortieren von Bildern nach Datum', 'en-US': 'Sorting images by date'}, {'de': 'Ein personalisiertes Empfehlungssystem für Musik', 'en-US': 'A personalized recommendation system for music'}, {'de': 'Eine Nachrichtenseite, die jedem Nutzer den gleichen Inhalt präsentiert', 'en-US': 'A news site that presents the same content to every user'}], [{'de': 'Die Erkennung von Gegenständen auf Bildern', 'en-US': 'The recognition of objects in images'}, {'de': 'Das Sortieren von Bildern nach Datum', 'en-US': 'Sorting images by date'}, {'de': 'Ein personalisiertes Empfehlungssystem für Musik', 'en-US': 'A personalized recommendation system for music'}, {'de': 'Eine Nachrichtenseite, die jedem Nutzer den gleichen Inhalt präsentiert', 'en-US': 'A news site that presents the same content to every user'}], [{'de': 'Die Erkennung von Gegenständen auf Bildern', 'en-US': 'The recognition of objects in images'}, {'de': 'Das Sortieren von Bildern nach Datum', 'en-US': 'Sorting images by date'}, {'de': 'Ein personalisiertes Empfehlungssystem für Musik', 'en-US': 'A personalized recommendation system for music'}, {'de': 'Eine Nachrichtenseite, die jedem Nutzer den gleichen Inhalt präsentiert', 'en-US': 'A news site that presents the same content to every user'}], [{'de': 'Die Erkennung von Gegenständen auf Bildern', 'en-US': 'The recognition of objects in images'}, {'de': 'Das Sortieren von Bildern nach Datum', 'en-US': 'Sorting images by date'}, {'de': 'Ein personalisiertes Empfehlungssystem für Musik', 'en-US': 'A personalized recommendation system for music'}, {'de': 'Eine Nachrichtenseite, die jedem Nutzer den gleichen Inhalt präsentiert', 'en-US': 'A news site that presents the same content to every user'}], [{'de': 'Die Erkennung von Gegenständen auf Bildern', 'en-US': 'The recognition of objects in images'}, {'de': 'Das Sortieren von Bildern nach Datum', 'en-US': 'Sorting images by date'}, {'de': 'Ein personalisiertes Empfehlungssystem für Musik', 'en-US': 'A personalized recommendation system for music'}, {'de': 'Eine Nachrichtenseite, die jedem Nutzer den gleichen Inhalt präsentiert', 'en-US': 'A news site that presents the same content to every user'}]]\n",
      "EvalML-1-4\n"
     ]
    },
    {
     "data": {
      "image/png": "[encoded data removed]",
      "text/plain": [
       "<Figure size 432x288 with 1 Axes>"
      ]
     },
     "metadata": {
      "needs_background": "light"
     },
     "output_type": "display_data"
    },
    {
     "name": "stdout",
     "output_type": "stream",
     "text": [
      "Welche der Aussagen über maschinelles Lernen stimmen?\n",
      "[[{'de': 'Algorithmen des maschinellen Lernens können aus vorhandenen Daten selbständig lernen', 'en-US': 'Machine learning algorithms can learn autonomously from existing data'}, {'de': 'Beim überwachten Lernen nutzen wir Daten ohne Label', 'en-US': 'In supervised learning, we use data without a label'}, {'de': 'Beim unüberwachten Lernen versuchen wir, Strukturen in den Daten zu entdecken', 'en-US': 'In unsupervised learning, we try to discover structure in the data'}, {'de': 'Clustering ist ein Beispiel für unüberwachtes Lernen', 'en-US': 'Clustering is an example of unsupervised learning'}, {'de': 'Wenn wir für Daten Label vorhersagen wollen, betreiben wir Clustering', 'en-US': 'When we want to predict labels for data points, we engage in clustering'}, {'de': 'Wenn wir für Daten Label vorhersagen wollen, betreiben wir überwachtes Lernen', 'en-US': 'If we want to predict label for data, we do supervised learning'}, {'de': 'Algorithmen des maschinellen Lernens lernen nur, was in den Daten vorhanden ist. Daher ist die Auswahl an Trainingsdaten sehr wichtig', 'en-US': 'Machine learning algorithms only learn what is available in the data. Therefore, the selection of training data is very important'}, {'de': 'Algorithmen des maschinellen Lernens benötigen oft große Mengen an Daten, damit sie gute Ergebnisse erzielen', 'en-US': 'Machine learning algorithms often require large amounts of data to produce good results'}], [{'de': 'Algorithmen des maschinellen Lernens können aus vorhandenen Daten selbständig lernen', 'en-US': 'Machine learning algorithms can learn autonomously from existing data'}, {'de': 'Beim überwachten Lernen nutzen wir Daten ohne Label', 'en-US': 'In supervised learning, we use data without a label'}, {'de': 'Beim unüberwachten Lernen versuchen wir, Strukturen in den Daten zu entdecken', 'en-US': 'In unsupervised learning, we try to discover structure in the data'}, {'de': 'Clustering ist ein Beispiel für unüberwachtes Lernen', 'en-US': 'Clustering is an example of unsupervised learning'}, {'de': 'Wenn wir für Daten Label vorhersagen wollen, betreiben wir Clustering', 'en-US': 'When we want to predict labels for data points, we engage in clustering'}, {'de': 'Wenn wir für Daten Label vorhersagen wollen, betreiben wir überwachtes Lernen', 'en-US': 'If we want to predict label for data, we do supervised learning'}, {'de': 'Algorithmen des maschinellen Lernens lernen nur, was in den Daten vorhanden ist. Daher ist die Auswahl an Trainingsdaten sehr wichtig', 'en-US': 'Machine learning algorithms only learn what is available in the data. Therefore, the selection of training data is very important'}, {'de': 'Algorithmen des maschinellen Lernens benötigen oft große Mengen an Daten, damit sie gute Ergebnisse erzielen', 'en-US': 'Machine learning algorithms often require large amounts of data to produce good results'}], [{'de': 'Algorithmen des maschinellen Lernens können aus vorhandenen Daten selbständig lernen', 'en-US': 'Machine learning algorithms can learn autonomously from existing data'}, {'de': 'Beim überwachten Lernen nutzen wir Daten ohne Label', 'en-US': 'In supervised learning, we use data without a label'}, {'de': 'Beim unüberwachten Lernen versuchen wir, Strukturen in den Daten zu entdecken', 'en-US': 'In unsupervised learning, we try to discover structure in the data'}, {'de': 'Clustering ist ein Beispiel für unüberwachtes Lernen', 'en-US': 'Clustering is an example of unsupervised learning'}, {'de': 'Wenn wir für Daten Label vorhersagen wollen, betreiben wir Clustering', 'en-US': 'When we want to predict labels for data points, we engage in clustering'}, {'de': 'Wenn wir für Daten Label vorhersagen wollen, betreiben wir überwachtes Lernen', 'en-US': 'If we want to predict label for data, we do supervised learning'}, {'de': 'Algorithmen des maschinellen Lernens lernen nur, was in den Daten vorhanden ist. Daher ist die Auswahl an Trainingsdaten sehr wichtig', 'en-US': 'Machine learning algorithms only learn what is available in the data. Therefore, the selection of training data is very important'}, {'de': 'Algorithmen des maschinellen Lernens benötigen oft große Mengen an Daten, damit sie gute Ergebnisse erzielen', 'en-US': 'Machine learning algorithms often require large amounts of data to produce good results'}], [{'de': 'Algorithmen des maschinellen Lernens können aus vorhandenen Daten selbständig lernen', 'en-US': 'Machine learning algorithms can learn autonomously from existing data'}, {'de': 'Beim überwachten Lernen nutzen wir Daten ohne Label', 'en-US': 'In supervised learning, we use data without a label'}, {'de': 'Beim unüberwachten Lernen versuchen wir, Strukturen in den Daten zu entdecken', 'en-US': 'In unsupervised learning, we try to discover structure in the data'}, {'de': 'Clustering ist ein Beispiel für unüberwachtes Lernen', 'en-US': 'Clustering is an example of unsupervised learning'}, {'de': 'Wenn wir für Daten Label vorhersagen wollen, betreiben wir Clustering', 'en-US': 'When we want to predict labels for data points, we engage in clustering'}, {'de': 'Wenn wir für Daten Label vorhersagen wollen, betreiben wir überwachtes Lernen', 'en-US': 'If we want to predict label for data, we do supervised learning'}, {'de': 'Algorithmen des maschinellen Lernens lernen nur, was in den Daten vorhanden ist. Daher ist die Auswahl an Trainingsdaten sehr wichtig', 'en-US': 'Machine learning algorithms only learn what is available in the data. Therefore, the selection of training data is very important'}, {'de': 'Algorithmen des maschinellen Lernens benötigen oft große Mengen an Daten, damit sie gute Ergebnisse erzielen', 'en-US': 'Machine learning algorithms often require large amounts of data to produce good results'}], [{'de': 'Algorithmen des maschinellen Lernens können aus vorhandenen Daten selbständig lernen', 'en-US': 'Machine learning algorithms can learn autonomously from existing data'}, {'de': 'Beim überwachten Lernen nutzen wir Daten ohne Label', 'en-US': 'In supervised learning, we use data without a label'}, {'de': 'Beim unüberwachten Lernen versuchen wir, Strukturen in den Daten zu entdecken', 'en-US': 'In unsupervised learning, we try to discover structure in the data'}, {'de': 'Clustering ist ein Beispiel für unüberwachtes Lernen', 'en-US': 'Clustering is an example of unsupervised learning'}, {'de': 'Wenn wir für Daten Label vorhersagen wollen, betreiben wir Clustering', 'en-US': 'When we want to predict labels for data points, we engage in clustering'}, {'de': 'Wenn wir für Daten Label vorhersagen wollen, betreiben wir überwachtes Lernen', 'en-US': 'If we want to predict label for data, we do supervised learning'}, {'de': 'Algorithmen des maschinellen Lernens lernen nur, was in den Daten vorhanden ist. Daher ist die Auswahl an Trainingsdaten sehr wichtig', 'en-US': 'Machine learning algorithms only learn what is available in the data. Therefore, the selection of training data is very important'}, {'de': 'Algorithmen des maschinellen Lernens benötigen oft große Mengen an Daten, damit sie gute Ergebnisse erzielen', 'en-US': 'Machine learning algorithms often require large amounts of data to produce good results'}], [{'de': 'Algorithmen des maschinellen Lernens können aus vorhandenen Daten selbständig lernen', 'en-US': 'Machine learning algorithms can learn autonomously from existing data'}, {'de': 'Beim überwachten Lernen nutzen wir Daten ohne Label', 'en-US': 'In supervised learning, we use data without a label'}, {'de': 'Beim unüberwachten Lernen versuchen wir, Strukturen in den Daten zu entdecken', 'en-US': 'In unsupervised learning, we try to discover structure in the data'}, {'de': 'Clustering ist ein Beispiel für unüberwachtes Lernen', 'en-US': 'Clustering is an example of unsupervised learning'}, {'de': 'Wenn wir für Daten Label vorhersagen wollen, betreiben wir Clustering', 'en-US': 'When we want to predict labels for data points, we engage in clustering'}, {'de': 'Wenn wir für Daten Label vorhersagen wollen, betreiben wir überwachtes Lernen', 'en-US': 'If we want to predict label for data, we do supervised learning'}, {'de': 'Algorithmen des maschinellen Lernens lernen nur, was in den Daten vorhanden ist. Daher ist die Auswahl an Trainingsdaten sehr wichtig', 'en-US': 'Machine learning algorithms only learn what is available in the data. Therefore, the selection of training data is very important'}, {'de': 'Algorithmen des maschinellen Lernens benötigen oft große Mengen an Daten, damit sie gute Ergebnisse erzielen', 'en-US': 'Machine learning algorithms often require large amounts of data to produce good results'}], [{'de': 'Algorithmen des maschinellen Lernens können aus vorhandenen Daten selbständig lernen', 'en-US': 'Machine learning algorithms can learn autonomously from existing data'}, {'de': 'Beim überwachten Lernen nutzen wir Daten ohne Label', 'en-US': 'In supervised learning, we use data without a label'}, {'de': 'Beim unüberwachten Lernen versuchen wir, Strukturen in den Daten zu entdecken', 'en-US': 'In unsupervised learning, we try to discover structure in the data'}, {'de': 'Clustering ist ein Beispiel für unüberwachtes Lernen', 'en-US': 'Clustering is an example of unsupervised learning'}, {'de': 'Wenn wir für Daten Label vorhersagen wollen, betreiben wir Clustering', 'en-US': 'When we want to predict labels for data points, we engage in clustering'}, {'de': 'Wenn wir für Daten Label vorhersagen wollen, betreiben wir überwachtes Lernen', 'en-US': 'If we want to predict label for data, we do supervised learning'}, {'de': 'Algorithmen des maschinellen Lernens lernen nur, was in den Daten vorhanden ist. Daher ist die Auswahl an Trainingsdaten sehr wichtig', 'en-US': 'Machine learning algorithms only learn what is available in the data. Therefore, the selection of training data is very important'}, {'de': 'Algorithmen des maschinellen Lernens benötigen oft große Mengen an Daten, damit sie gute Ergebnisse erzielen', 'en-US': 'Machine learning algorithms often require large amounts of data to produce good results'}], [{'de': 'Algorithmen des maschinellen Lernens können aus vorhandenen Daten selbständig lernen', 'en-US': 'Machine learning algorithms can learn autonomously from existing data'}, {'de': 'Beim überwachten Lernen nutzen wir Daten ohne Label', 'en-US': 'In supervised learning, we use data without a label'}, {'de': 'Beim unüberwachten Lernen versuchen wir, Strukturen in den Daten zu entdecken', 'en-US': 'In unsupervised learning, we try to discover structure in the data'}, {'de': 'Clustering ist ein Beispiel für unüberwachtes Lernen', 'en-US': 'Clustering is an example of unsupervised learning'}, {'de': 'Wenn wir für Daten Label vorhersagen wollen, betreiben wir Clustering', 'en-US': 'When we want to predict labels for data points, we engage in clustering'}, {'de': 'Wenn wir für Daten Label vorhersagen wollen, betreiben wir überwachtes Lernen', 'en-US': 'If we want to predict label for data, we do supervised learning'}, {'de': 'Algorithmen des maschinellen Lernens lernen nur, was in den Daten vorhanden ist. Daher ist die Auswahl an Trainingsdaten sehr wichtig', 'en-US': 'Machine learning algorithms only learn what is available in the data. Therefore, the selection of training data is very important'}, {'de': 'Algorithmen des maschinellen Lernens benötigen oft große Mengen an Daten, damit sie gute Ergebnisse erzielen', 'en-US': 'Machine learning algorithms often require large amounts of data to produce good results'}], [{'de': 'Algorithmen des maschinellen Lernens können aus vorhandenen Daten selbständig lernen', 'en-US': 'Machine learning algorithms can learn autonomously from existing data'}, {'de': 'Beim überwachten Lernen nutzen wir Daten ohne Label', 'en-US': 'In supervised learning, we use data without a label'}, {'de': 'Beim unüberwachten Lernen versuchen wir, Strukturen in den Daten zu entdecken', 'en-US': 'In unsupervised learning, we try to discover structure in the data'}, {'de': 'Clustering ist ein Beispiel für unüberwachtes Lernen', 'en-US': 'Clustering is an example of unsupervised learning'}, {'de': 'Wenn wir für Daten Label vorhersagen wollen, betreiben wir Clustering', 'en-US': 'When we want to predict labels for data points, we engage in clustering'}, {'de': 'Wenn wir für Daten Label vorhersagen wollen, betreiben wir überwachtes Lernen', 'en-US': 'If we want to predict label for data, we do supervised learning'}, {'de': 'Algorithmen des maschinellen Lernens lernen nur, was in den Daten vorhanden ist. Daher ist die Auswahl an Trainingsdaten sehr wichtig', 'en-US': 'Machine learning algorithms only learn what is available in the data. Therefore, the selection of training data is very important'}, {'de': 'Algorithmen des maschinellen Lernens benötigen oft große Mengen an Daten, damit sie gute Ergebnisse erzielen', 'en-US': 'Machine learning algorithms often require large amounts of data to produce good results'}], [{'de': 'Algorithmen des maschinellen Lernens können aus vorhandenen Daten selbständig lernen', 'en-US': 'Machine learning algorithms can learn autonomously from existing data'}, {'de': 'Beim überwachten Lernen nutzen wir Daten ohne Label', 'en-US': 'In supervised learning, we use data without a label'}, {'de': 'Beim unüberwachten Lernen versuchen wir, Strukturen in den Daten zu entdecken', 'en-US': 'In unsupervised learning, we try to discover structure in the data'}, {'de': 'Clustering ist ein Beispiel für unüberwachtes Lernen', 'en-US': 'Clustering is an example of unsupervised learning'}, {'de': 'Wenn wir für Daten Label vorhersagen wollen, betreiben wir Clustering', 'en-US': 'When we want to predict labels for data points, we engage in clustering'}, {'de': 'Wenn wir für Daten Label vorhersagen wollen, betreiben wir überwachtes Lernen', 'en-US': 'If we want to predict label for data, we do supervised learning'}, {'de': 'Algorithmen des maschinellen Lernens lernen nur, was in den Daten vorhanden ist. Daher ist die Auswahl an Trainingsdaten sehr wichtig', 'en-US': 'Machine learning algorithms only learn what is available in the data. Therefore, the selection of training data is very important'}, {'de': 'Algorithmen des maschinellen Lernens benötigen oft große Mengen an Daten, damit sie gute Ergebnisse erzielen', 'en-US': 'Machine learning algorithms often require large amounts of data to produce good results'}]]\n",
      "EvalML-1-8\n"
     ]
    },
    {
     "data": {
      "image/png": "[encoded data removed]",
      "text/plain": [
       "<Figure size 432x288 with 1 Axes>"
      ]
     },
     "metadata": {
      "needs_background": "light"
     },
     "output_type": "display_data"
    },
    {
     "name": "stdout",
     "output_type": "stream",
     "text": [
      "Welche Art des Lernens sind folgende Aufgaben?\n",
      "[[{'de': 'Eine Webseite, die für neue Rezepte vorhersagt, ob sie dir “gefallen” oder “nicht gefallen”, ist eine Aufgabe für das überwachte Lernen', 'en-US': 'A website that predicts whether you will \"like\" or \"dislike\" new recipes is a task for supervised learning'}, {'de': 'Eine Webseite, die ähnliche Rezepte gruppiert, wäre eine Aufgabe für das Clustering', 'en-US': 'A website that groups similar recipes would be a task for clustering'}], [{'de': 'Eine Webseite, die für neue Rezepte vorhersagt, ob sie dir “gefallen” oder “nicht gefallen”, ist eine Aufgabe für das überwachte Lernen', 'en-US': 'A website that predicts whether you will \"like\" or \"dislike\" new recipes is a task for supervised learning'}, {'de': 'Eine Webseite, die ähnliche Rezepte gruppiert, wäre eine Aufgabe für das Clustering', 'en-US': 'A website that groups similar recipes would be a task for clustering'}], [{'de': 'Eine Webseite, die für neue Rezepte vorhersagt, ob sie dir “gefallen” oder “nicht gefallen”, ist eine Aufgabe für das überwachte Lernen', 'en-US': 'A website that predicts whether you will \"like\" or \"dislike\" new recipes is a task for supervised learning'}, {'de': 'Eine Webseite, die ähnliche Rezepte gruppiert, wäre eine Aufgabe für das Clustering', 'en-US': 'A website that groups similar recipes would be a task for clustering'}], [{'de': 'Eine Webseite, die für neue Rezepte vorhersagt, ob sie dir “gefallen” oder “nicht gefallen”, ist eine Aufgabe für das überwachte Lernen', 'en-US': 'A website that predicts whether you will \"like\" or \"dislike\" new recipes is a task for supervised learning'}, {'de': 'Eine Webseite, die ähnliche Rezepte gruppiert, wäre eine Aufgabe für das Clustering', 'en-US': 'A website that groups similar recipes would be a task for clustering'}], [{'de': 'Eine Webseite, die für neue Rezepte vorhersagt, ob sie dir “gefallen” oder “nicht gefallen”, ist eine Aufgabe für das überwachte Lernen', 'en-US': 'A website that predicts whether you will \"like\" or \"dislike\" new recipes is a task for supervised learning'}, {'de': 'Eine Webseite, die ähnliche Rezepte gruppiert, wäre eine Aufgabe für das Clustering', 'en-US': 'A website that groups similar recipes would be a task for clustering'}], [{'de': 'Eine Webseite, die für neue Rezepte vorhersagt, ob sie dir “gefallen” oder “nicht gefallen”, ist eine Aufgabe für das überwachte Lernen', 'en-US': 'A website that predicts whether you will \"like\" or \"dislike\" new recipes is a task for supervised learning'}, {'de': 'Eine Webseite, die ähnliche Rezepte gruppiert, wäre eine Aufgabe für das Clustering', 'en-US': 'A website that groups similar recipes would be a task for clustering'}], [{'de': 'Eine Webseite, die für neue Rezepte vorhersagt, ob sie dir “gefallen” oder “nicht gefallen”, ist eine Aufgabe für das überwachte Lernen', 'en-US': 'A website that predicts whether you will \"like\" or \"dislike\" new recipes is a task for supervised learning'}, {'de': 'Eine Webseite, die ähnliche Rezepte gruppiert, wäre eine Aufgabe für das Clustering', 'en-US': 'A website that groups similar recipes would be a task for clustering'}], [{'de': 'Eine Webseite, die für neue Rezepte vorhersagt, ob sie dir “gefallen” oder “nicht gefallen”, ist eine Aufgabe für das überwachte Lernen', 'en-US': 'A website that predicts whether you will \"like\" or \"dislike\" new recipes is a task for supervised learning'}, {'de': 'Eine Webseite, die ähnliche Rezepte gruppiert, wäre eine Aufgabe für das Clustering', 'en-US': 'A website that groups similar recipes would be a task for clustering'}], [{'de': 'Eine Webseite, die für neue Rezepte vorhersagt, ob sie dir “gefallen” oder “nicht gefallen”, ist eine Aufgabe für das überwachte Lernen', 'en-US': 'A website that predicts whether you will \"like\" or \"dislike\" new recipes is a task for supervised learning'}, {'de': 'Eine Webseite, die ähnliche Rezepte gruppiert, wäre eine Aufgabe für das Clustering', 'en-US': 'A website that groups similar recipes would be a task for clustering'}], [{'de': 'Eine Webseite, die für neue Rezepte vorhersagt, ob sie dir “gefallen” oder “nicht gefallen”, ist eine Aufgabe für das überwachte Lernen', 'en-US': 'A website that predicts whether you will \"like\" or \"dislike\" new recipes is a task for supervised learning'}, {'de': 'Eine Webseite, die ähnliche Rezepte gruppiert, wäre eine Aufgabe für das Clustering', 'en-US': 'A website that groups similar recipes would be a task for clustering'}]]\n",
      "EvalML-1-9\n"
     ]
    },
    {
     "data": {
      "image/png": "[encoded data removed]",
      "text/plain": [
       "<Figure size 432x288 with 1 Axes>"
      ]
     },
     "metadata": {
      "needs_background": "light"
     },
     "output_type": "display_data"
    },
    {
     "name": "stdout",
     "output_type": "stream",
     "text": [
      "Was glaubst du, warum das Gesicht der dunkelhäutigen Frau nicht erkannt wurde?\n",
      "[nan, nan, nan, nan, nan, nan, nan, nan, nan]\n",
      "Impact-1-1-1\n"
     ]
    },
    {
     "data": {
      "image/png": "[encoded data removed]",
      "text/plain": [
       "<Figure size 432x288 with 1 Axes>"
      ]
     },
     "metadata": {
      "needs_background": "light"
     },
     "output_type": "display_data"
    },
    {
     "name": "stdout",
     "output_type": "stream",
     "text": [
      "Welche Jobs sind also bedroht?\n",
      "[[{'de': 'Pflegepersonal', 'en-US': 'Care givers'}, {'de': 'LKW- und Taxifahrer', 'en-US': 'Truck and cab drivers'}, {'de': 'Wissenschaftler', 'en-US': 'Scientists'}, {'de': 'Angestellte bei einer Bank oder Versicherung', 'en-US': 'Employees at a bank or insurance company'}, {'de': 'Angestellte im Kundenservice', 'en-US': 'Customer service employees'}, {'de': 'Lehrer', 'en-US': 'Teacher'}], [{'de': 'Pflegepersonal', 'en-US': 'Care givers'}, {'de': 'LKW- und Taxifahrer', 'en-US': 'Truck and cab drivers'}, {'de': 'Wissenschaftler', 'en-US': 'Scientists'}, {'de': 'Angestellte bei einer Bank oder Versicherung', 'en-US': 'Employees at a bank or insurance company'}, {'de': 'Angestellte im Kundenservice', 'en-US': 'Customer service employees'}, {'de': 'Lehrer', 'en-US': 'Teacher'}], [{'de': 'Pflegepersonal', 'en-US': 'Care givers'}, {'de': 'LKW- und Taxifahrer', 'en-US': 'Truck and cab drivers'}, {'de': 'Wissenschaftler', 'en-US': 'Scientists'}, {'de': 'Angestellte bei einer Bank oder Versicherung', 'en-US': 'Employees at a bank or insurance company'}, {'de': 'Angestellte im Kundenservice', 'en-US': 'Customer service employees'}, {'de': 'Lehrer', 'en-US': 'Teacher'}], [{'de': 'Pflegepersonal', 'en-US': 'Care givers'}, {'de': 'LKW- und Taxifahrer', 'en-US': 'Truck and cab drivers'}, {'de': 'Wissenschaftler', 'en-US': 'Scientists'}, {'de': 'Angestellte bei einer Bank oder Versicherung', 'en-US': 'Employees at a bank or insurance company'}, {'de': 'Angestellte im Kundenservice', 'en-US': 'Customer service employees'}, {'de': 'Lehrer', 'en-US': 'Teacher'}], [{'de': 'Pflegepersonal', 'en-US': 'Care givers'}, {'de': 'LKW- und Taxifahrer', 'en-US': 'Truck and cab drivers'}, {'de': 'Wissenschaftler', 'en-US': 'Scientists'}, {'de': 'Angestellte bei einer Bank oder Versicherung', 'en-US': 'Employees at a bank or insurance company'}, {'de': 'Angestellte im Kundenservice', 'en-US': 'Customer service employees'}, {'de': 'Lehrer', 'en-US': 'Teacher'}], [{'de': 'Pflegepersonal', 'en-US': 'Care givers'}, {'de': 'LKW- und Taxifahrer', 'en-US': 'Truck and cab drivers'}, {'de': 'Wissenschaftler', 'en-US': 'Scientists'}, {'de': 'Angestellte bei einer Bank oder Versicherung', 'en-US': 'Employees at a bank or insurance company'}, {'de': 'Angestellte im Kundenservice', 'en-US': 'Customer service employees'}, {'de': 'Lehrer', 'en-US': 'Teacher'}], [{'de': 'Pflegepersonal', 'en-US': 'Care givers'}, {'de': 'LKW- und Taxifahrer', 'en-US': 'Truck and cab drivers'}, {'de': 'Wissenschaftler', 'en-US': 'Scientists'}, {'de': 'Angestellte bei einer Bank oder Versicherung', 'en-US': 'Employees at a bank or insurance company'}, {'de': 'Angestellte im Kundenservice', 'en-US': 'Customer service employees'}, {'de': 'Lehrer', 'en-US': 'Teacher'}]]\n",
      "Impact-3-1-2\n"
     ]
    },
    {
     "data": {
      "image/png": "[encoded data removed]",
      "text/plain": [
       "<Figure size 432x288 with 1 Axes>"
      ]
     },
     "metadata": {
      "needs_background": "light"
     },
     "output_type": "display_data"
    },
    {
     "name": "stdout",
     "output_type": "stream",
     "text": [
      "Was sind möglichen Folgen vom Einsatz von KI in der Medizin?\n",
      "[nan, nan, nan, nan, nan, nan, nan]\n",
      "Impact-4-1-1\n"
     ]
    },
    {
     "data": {
      "image/png": "[encoded data removed]",
      "text/plain": [
       "<Figure size 432x288 with 1 Axes>"
      ]
     },
     "metadata": {
      "needs_background": "light"
     },
     "output_type": "display_data"
    }
   ],
   "source": [
    "multipleChoice = df[df[\"subType\"]==\"multipleChoice\"]\n",
    "#surveysliders_by_taskId = df[df[\"subType\"]==\"surveySlider\"].groupby(\"taskId\")\n",
    "\n",
    "for i in multipleChoice[\"taskId\"].unique():\n",
    "    print(multipleChoice[multipleChoice[\"taskId\"] == i][\"question\"].unique()[0])\n",
    "    answers = []\n",
    "    for answer in multipleChoice[multipleChoice[\"taskId\"] == i][\"answers\"]:\n",
    "        print(answer)\n",
    "        #answers.append(answer)\n",
    "    print(answers)\n",
    "    #sns.barplot(x=\"day\", y=\"total_bill\", data=tips)\n",
    "    #sns.barplot(data=np.array(multipleChoice[multipleChoice[\"taskId\"] == i][\"evaluation\"].value_counts()))\n",
    "    print(i)\n",
    "    plt.bar([\"correct\", \"false\"], np.array(multipleChoice[multipleChoice[\"taskId\"] == i][\"evaluation\"].value_counts()))\n",
    "    plt.show()"
   ]
  },
  {
   "cell_type": "markdown",
   "metadata": {},
   "source": [
    "### True - False Ratio, Torten"
   ]
  },
  {
   "cell_type": "code",
   "execution_count": 88,
   "metadata": {},
   "outputs": [
    {
     "name": "stdout",
     "output_type": "stream",
     "text": [
      "7.333333333333333\n",
      "2.0\n",
      "5.0\n",
      "2.6666666666666665\n",
      "1.4444444444444444\n",
      "9.0\n",
      "2.6\n",
      "1.0\n",
      "0.8\n",
      "8.0\n",
      "15.0\n",
      "3.5\n",
      "Index(['correct'], dtype='object')\n",
      "15.0\n",
      "4.333333333333333\n",
      "7.0\n",
      "4.5\n",
      "0.25\n",
      "9.0\n",
      "0.6666666666666666\n",
      "9.0\n",
      "Index(['correct'], dtype='object')\n",
      "6.0\n",
      "1.3333333333333333\n"
     ]
    }
   ],
   "source": [
    "for i in multipleChoice[\"taskId\"].unique():\n",
    "    if(\"correct\" in multipleChoice[multipleChoice[\"taskId\"] == i][\"evaluation\"].value_counts().keys() and \"false\" in multipleChoice[multipleChoice[\"taskId\"] == i][\"evaluation\"].value_counts().keys()):\n",
    "        print(multipleChoice[multipleChoice[\"taskId\"] == i][\"evaluation\"].value_counts()[\"correct\"]/multipleChoice[multipleChoice[\"taskId\"] == i][\"evaluation\"].value_counts()[\"false\"])\n",
    "    elif(\"correct\" in multipleChoice[multipleChoice[\"taskId\"] == i][\"evaluation\"].value_counts().keys() and not \"false\" in multipleChoice[multipleChoice[\"taskId\"] == i][\"evaluation\"].value_counts().keys()):\n",
    "        print(multipleChoice[multipleChoice[\"taskId\"] == i][\"evaluation\"].value_counts().keys())\n",
    "    elif(\"correct\" not in multipleChoice[multipleChoice[\"taskId\"] == i][\"evaluation\"].value_counts().keys() and \"false\" in multipleChoice[multipleChoice[\"taskId\"] == i][\"evaluation\"].value_counts().keys()):\n",
    "        print(multipleChoice[multipleChoice[\"taskId\"] == i][\"evaluation\"].value_counts().keys())"
   ]
  },
  {
   "cell_type": "code",
   "execution_count": null,
   "metadata": {},
   "outputs": [],
   "source": []
  },
  {
   "cell_type": "code",
   "execution_count": null,
   "metadata": {},
   "outputs": [],
   "source": []
  },
  {
   "cell_type": "code",
   "execution_count": null,
   "metadata": {},
   "outputs": [],
   "source": []
  },
  {
   "cell_type": "code",
   "execution_count": null,
   "metadata": {},
   "outputs": [],
   "source": []
  },
  {
   "cell_type": "code",
   "execution_count": null,
   "metadata": {},
   "outputs": [],
   "source": []
  },
  {
   "cell_type": "code",
   "execution_count": null,
   "metadata": {},
   "outputs": [],
   "source": []
  },
  {
   "cell_type": "code",
   "execution_count": null,
   "metadata": {},
   "outputs": [],
   "source": []
  },
  {
   "cell_type": "code",
   "execution_count": null,
   "metadata": {},
   "outputs": [],
   "source": []
  },
  {
   "cell_type": "code",
   "execution_count": null,
   "metadata": {},
   "outputs": [],
   "source": []
  },
  {
   "cell_type": "code",
   "execution_count": null,
   "metadata": {},
   "outputs": [],
   "source": []
  },
  {
   "cell_type": "code",
   "execution_count": null,
   "metadata": {},
   "outputs": [],
   "source": []
  }
 ],
 "metadata": {
  "kernelspec": {
   "display_name": "Python 3",
   "language": "python",
   "name": "python3"
  },
  "language_info": {
   "codemirror_mode": {
    "name": "ipython",
    "version": 3
   },
   "file_extension": ".py",
   "mimetype": "text/x-python",
   "name": "python",
   "nbconvert_exporter": "python",
   "pygments_lexer": "ipython3",
   "version": "3.7.6"
  }
 },
 "nbformat": 4,
 "nbformat_minor": 4
}
