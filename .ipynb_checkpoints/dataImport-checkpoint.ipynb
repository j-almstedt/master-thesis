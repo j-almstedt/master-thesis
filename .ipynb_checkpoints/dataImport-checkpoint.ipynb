{
 "cells": [
  {
   "cell_type": "code",
   "execution_count": 143,
   "metadata": {},
   "outputs": [],
   "source": [
    "import json\n",
    "import numpy as np\n",
    "import pandas as pd\n",
    "import matplotlib.pyplot as plt\n",
    "import statistics \n",
    "from statistics import mode"
   ]
  },
  {
   "cell_type": "markdown",
   "metadata": {},
   "source": [
    "# Parsing the JSON to dictionary"
   ]
  },
  {
   "cell_type": "code",
   "execution_count": 25,
   "metadata": {},
   "outputs": [
    {
     "name": "stdout",
     "output_type": "stream",
     "text": [
      "{'_id': 'oCCFCrudruiEyrif9', 'classId': 'x6Lg4vTtWpCZ92a4B', 'userId': 'GYGgx9yLqSJ4uHmJp', 'companyId': 'tCiM5DZkteTvEDCnw', 'partner': ['pear2'], 'lang': 'de', 'username': 'Kai1', 'shownTaskSeries': ['If-Else-1'], 'currentTaskSeries': [], 'solvedTaskSeries': [{'taskSeriesId': 'Algorithmic-1', 'currentSections': [{'currentSubSections': [{'duration': 7, 'exercise': {'state': {'code': \"moveForward('To}55mI6)_S@clnS`X-A');\\nmoveForward('cN6xgVR3:EAoi_G*O+s%');\\nmoveForward('4Fpi1i6(r(wn%5JKDZxK');\\nmoveForward('r0,nkc*$uzIf%t,5^=LT');\\n\", 'workspace': '<xml xmlns=\"https://developers.google.com/blockly/xml\">\\n  <block type=\"mainBlock\" id=\"initialMainBlock\" deletable=\"false\" movable=\"false\" editable=\"false\" x=\"38\" y=\"38\">\\n    <statement name=\"EXECUTE\">\\n      <block type=\"pp_Maze_moveForward\" id=\"To}55mI6)_S@clnS`X-A\">\\n        <next>\\n          <block type=\"pp_Maze_moveForward\" id=\"cN6xgVR3:EAoi_G*O+s%\">\\n            <next>\\n              <block type=\"pp_Maze_moveForward\" id=\"4Fpi1i6(r(wn%5JKDZxK\">\\n                <next>\\n                  <block type=\"pp_Maze_moveForward\" id=\"r0,nkc*$uzIf%t,5^=LT\"></block>\\n                </next>\\n              </block>\\n            </next>\\n          </block>\\n        </next>\\n      </block>\\n    </statement>\\n  </block>\\n</xml>'}, 'submitted': True, 'history': [], 'subType': 'blockly', 'evaluation': 'correct'}}, {'duration': 10, 'exercise': {'state': {'code': \"moveForward('=,61Eh1$1LvWrA,S?lUX');\\nmoveForward('Mx4kSQQPR#-8g1p8d=a`');\\nturnLeft(':],F~OIK5}NRmW(3f/a@');\\nmoveForward('iY0A_mz2F@C$!nGSukgs');\\nmoveForward('cdcRz]n_?,AkF}DJ[[yo');\\n\", 'workspace': '<xml xmlns=\"https://developers.google.com/blockly/xml\">\\n  <block type=\"mainBlock\" id=\"initialMainBlock\" deletable=\"false\" movable=\"false\" editable=\"false\" x=\"38\" y=\"38\">\\n    <statement name=\"EXECUTE\">\\n      <block type=\"pp_Maze_moveForward\" id=\"=,61Eh1$1LvWrA,S?lUX\">\\n        <next>\\n          <block type=\"pp_Maze_moveForward\" id=\"Mx4kSQQPR#-8g1p8d=a`\">\\n            <next>\\n              <block type=\"pp_Maze_turn\" id=\":],F~OIK5}NRmW(3f/a@\">\\n                <field name=\"DIRECTIONS\">LEFT</field>\\n                <next>\\n                  <block type=\"pp_Maze_moveForward\" id=\"iY0A_mz2F@C$!nGSukgs\">\\n                    <next>\\n                      <block type=\"pp_Maze_moveForward\" id=\"cdcRz]n_?,AkF}DJ[[yo\"></block>\\n                    </next>\\n                  </block>\\n                </next>\\n              </block>\\n            </next>\\n          </block>\\n        </next>\\n      </block>\\n    </statement>\\n  </block>\\n</xml>'}, 'submitted': True, 'history': [], 'subType': 'blockly', 'evaluation': 'correct'}}]}, {'currentSubSections': [{'duration': 5, 'exercise': {'state': [True, False, True, True, False], 'submitted': True, 'history': [], 'subType': 'multipleChoice', 'evaluation': 'correct'}}]}], 'sectionIdx': 1, 'subSectionIdx': 0, 'stage': 'completed', 'wentActive': '2020-10-25T13:51:55+00:00', 'lastActive': '2020-10-25T13:51:55+00:00', 'created': '2020-10-25T13:51:32+00:00'}, {'taskSeriesId': 'Algorithmic-2', 'currentSections': [{'currentSubSections': [{'duration': 15, 'exercise': {'state': {'code': \"moveForward('$,2`3%(8pDbVs@o^fI?G');\\nmoveForward('gHDmX]NOYxWi*HWwVSMa');\\nmoveForward('O*6ek^F|.^`wqX/x@%;X');\\nturnRight('%4uN%*+dYN~232jn~l5U');\\nmoveForward('7dsG#W0PYagpWGA.m*HV');\\nturnLeft('(1j)gau!^OZSG}@{@gPa');\\nmoveForward('!=~(z7Eb/|ZF3[{Kz~Wc');\\n\", 'workspace': '<xml xmlns=\"https://developers.google.com/blockly/xml\">\\n  <block type=\"mainBlock\" id=\"initialMainBlock\" deletable=\"false\" movable=\"false\" editable=\"false\" x=\"38\" y=\"38\">\\n    <statement name=\"EXECUTE\">\\n      <block type=\"pp_Maze_moveForward\" id=\"$,2`3%(8pDbVs@o^fI?G\">\\n        <next>\\n          <block type=\"pp_Maze_moveForward\" id=\"gHDmX]NOYxWi*HWwVSMa\">\\n            <next>\\n              <block type=\"pp_Maze_moveForward\" id=\"O*6ek^F|.^`wqX/x@%;X\">\\n                <next>\\n                  <block type=\"pp_Maze_turn\" id=\"%4uN%*+dYN~232jn~l5U\">\\n                    <field name=\"DIRECTIONS\">RIGHT</field>\\n                    <next>\\n                      <block type=\"pp_Maze_moveForward\" id=\"7dsG#W0PYagpWGA.m*HV\">\\n                        <next>\\n                          <block type=\"pp_Maze_turn\" id=\"(1j)gau!^OZSG}@{@gPa\">\\n                            <field name=\"DIRECTIONS\">LEFT</field>\\n                            <next>\\n                              <block type=\"pp_Maze_moveForward\" id=\"!=~(z7Eb/|ZF3[{Kz~Wc\"></block>\\n                            </next>\\n                          </block>\\n                        </next>\\n                      </block>\\n                    </next>\\n                  </block>\\n                </next>\\n              </block>\\n            </next>\\n          </block>\\n        </next>\\n      </block>\\n    </statement>\\n  </block>\\n</xml>'}, 'submitted': True, 'history': [], 'subType': 'blockly', 'evaluation': 'correct'}}, {'duration': 5, 'exercise': {'state': [True, False], 'submitted': True, 'history': [], 'subType': 'multipleChoice', 'evaluation': 'correct'}}]}], 'sectionIdx': 0, 'subSectionIdx': 1, 'stage': 'completed', 'wentActive': '2020-10-26T08:34:53+00:00', 'lastActive': '2020-10-26T08:34:53+00:00', 'created': '2020-10-26T08:34:33+00:00'}, {'taskSeriesId': 'Algorithmic-3', 'currentSections': [{'currentSubSections': [{'duration': 4, 'exercise': {'state': '<p>zwei mal nach vorne. Ein mal nach links und dan wider zwe mal nach vorne</p>', 'submitted': True, 'history': [], 'subType': 'freetext', 'evaluation': 'pending', 'rating': None}}, {'duration': 5, 'exercise': {'state': [True, True, False, False, False], 'submitted': True, 'history': [], 'subType': 'multipleChoice', 'evaluation': 'correct'}}]}], 'sectionIdx': 0, 'subSectionIdx': 1, 'stage': 'completed', 'wentActive': '2020-10-26T11:40:13+00:00', 'lastActive': '2020-10-26T11:40:13+00:00', 'created': '2020-10-26T11:40:04+00:00'}, {'taskSeriesId': 'AlgorithmicImportance', 'currentSections': [{'currentSubSections': [{'duration': 3, 'exercise': {'state': [False, False, False, False, True], 'submitted': True, 'history': [], 'subType': 'multipleChoice', 'evaluation': 'correct'}}, {'duration': 1}]}], 'sectionIdx': 0, 'subSectionIdx': 1, 'stage': 'completed', 'wentActive': '2020-10-26T11:40:27+00:00', 'lastActive': '2020-10-26T11:40:27+00:00', 'created': '2020-10-26T11:40:23+00:00'}, {'taskSeriesId': 'AlgorithmicAlltag-1', 'currentSections': [{'currentSubSections': [{'duration': 3, 'exercise': {'state': [True, False], 'submitted': True, 'history': [], 'subType': 'multipleChoice', 'evaluation': 'correct'}}, {'duration': 23, 'exercise': {'state': [0, 1, 0, 0], 'submitted': True, 'history': [], 'subType': 'survey'}}, {'duration': 10, 'exercise': {'state': {'code': \"takePhone('takePhone','rz02?:wy87xHpbd}^O%s');\\nunlockPhone('unlockPhone','sT:odNt^Q1+QKWrOQ{ak');\\nopenWhatsapp('openWhatsapp','zIp15D?wY/+cnXl@!@|A');\\nopenChat('openChat','ylTl.q[aBEfH3*uR8L+S');\\ntypeMessage('typeMessage','Id#p0BR(Q78-p/qFm`Be');\\nsendMessage('sendMessage','*IzhGWvJi[EWJT#wt=[Y');\\n\", 'workspace': '<xml xmlns=\"https://developers.google.com/blockly/xml\">\\n  <block type=\"mainBlock\" id=\"initialMainBlock\" deletable=\"false\" movable=\"false\" editable=\"false\" x=\"38\" y=\"38\">\\n    <statement name=\"EXECUTE\">\\n      <block type=\"takePhone\" id=\"rz02?:wy87xHpbd}^O%s\">\\n        <next>\\n          <block type=\"unlockPhone\" id=\"sT:odNt^Q1+QKWrOQ{ak\">\\n            <next>\\n              <block type=\"openWhatsapp\" id=\"zIp15D?wY/+cnXl@!@|A\">\\n                <next>\\n                  <block type=\"openChat\" id=\"ylTl.q[aBEfH3*uR8L+S\">\\n                    <next>\\n                      <block type=\"typeMessage\" id=\"Id#p0BR(Q78-p/qFm`Be\">\\n                        <next>\\n                          <block type=\"sendMessage\" id=\"*IzhGWvJi[EWJT#wt=[Y\"></block>\\n                        </next>\\n                      </block>\\n                    </next>\\n                  </block>\\n                </next>\\n              </block>\\n            </next>\\n          </block>\\n        </next>\\n      </block>\\n    </statement>\\n  </block>\\n</xml>'}, 'submitted': True, 'history': [], 'subType': 'blockly', 'evaluation': 'correct'}}, {'duration': 8}]}], 'sectionIdx': 0, 'subSectionIdx': 3, 'stage': 'completed', 'lastActive': '2020-10-27T13:27:09+00:00', 'created': '2020-10-26T11:40:15+00:00', 'wentActive': '2020-10-27T13:27:09+00:00'}, {'taskSeriesId': 'AlgorithmicAlltag-2', 'currentSections': [{'currentSubSections': [{'duration': 11, 'exercise': {'state': '<p>Aufstehen</p><p>Auf Toilette gehen</p><p>Anziehen</p><p>Essen</p><p>Zähne puzen</p>', 'submitted': True, 'history': [], 'subType': 'freetext', 'evaluation': 'pending', 'rating': None}}, {'duration': 1}]}], 'sectionIdx': 0, 'subSectionIdx': 1, 'stage': 'completed', 'wentActive': '2020-10-27T13:27:34+00:00', 'lastActive': '2020-10-27T13:27:34+00:00', 'created': '2020-10-27T13:27:22+00:00'}, {'taskSeriesId': 'AlgorithmicFlowchart', 'currentSections': [{'currentSubSections': [{'duration': 6, 'exercise': {'state': [True, False], 'submitted': True, 'history': [], 'subType': 'multipleChoice', 'evaluation': 'correct'}}, {'duration': 5, 'exercise': {'state': [True, False, False], 'submitted': True, 'history': [], 'subType': 'multipleChoice', 'evaluation': 'correct'}}, {'duration': 4, 'exercise': {'state': [True, False, False], 'submitted': True, 'history': [], 'subType': 'multipleChoice', 'evaluation': 'correct'}}, {'duration': 1}]}], 'sectionIdx': 0, 'subSectionIdx': 3, 'stage': 'completed', 'wentActive': '2020-10-27T13:33:34+00:00', 'lastActive': '2020-10-27T13:33:34+00:00', 'created': '2020-10-27T13:33:18+00:00'}, {'taskSeriesId': 'For-1', 'currentSections': [{'currentSubSections': [{'duration': 9, 'exercise': {'state': {'code': \"for (var i=0; i < 6; i++) {\\n  moveForward('Yd=GN:DJ_jZ^zsLivjPl');\\n}\\n\", 'workspace': '<xml xmlns=\"https://developers.google.com/blockly/xml\">\\n  <block type=\"mainBlock\" id=\"initialMainBlock\" deletable=\"false\" movable=\"false\" editable=\"false\" x=\"38\" y=\"38\">\\n    <statement name=\"EXECUTE\">\\n      <block type=\"pp_Maze_for\" id=\"(79[}rtq:7jA/IZRd*gA\">\\n        <field name=\"count\">6</field>\\n        <statement name=\"outer\">\\n          <block type=\"pp_Maze_moveForward\" id=\"Yd=GN:DJ_jZ^zsLivjPl\"></block>\\n        </statement>\\n      </block>\\n    </statement>\\n  </block>\\n</xml>'}, 'submitted': True, 'history': [], 'subType': 'blockly', 'evaluation': 'correct'}}, {'duration': 4, 'exercise': {'state': {'code': '', 'workspace': '<xml xmlns=\"https://developers.google.com/blockly/xml\">\\n  <block type=\"mainBlock\" id=\"initialMainBlock\" deletable=\"false\" movable=\"false\" editable=\"false\" x=\"38\" y=\"38\"></block>\\n</xml>'}, 'submitted': True, 'history': [], 'subType': 'blockly', 'evaluation': 'false', 'revision': True, 'helpRequested': True}}, {'duration': 2}]}], 'sectionIdx': 0, 'subSectionIdx': 2, 'stage': 'completed', 'wentActive': '2020-10-28T08:07:45+00:00', 'lastActive': '2020-10-28T08:07:45+00:00', 'created': '2020-10-28T08:07:30+00:00'}, {'taskSeriesId': 'For-2', 'currentSections': [{'currentSubSections': [{'duration': 38, 'exercise': {'state': [True, False, False, False], 'submitted': True, 'history': [], 'subType': 'multipleChoice', 'evaluation': 'correct'}}, {'duration': 55, 'exercise': {'state': '', 'submitted': True, 'history': [], 'subType': 'freetext', 'evaluation': 'pending', 'rating': None}}, {'duration': 5, 'exercise': {'state': '<p>a, es ist einfacher</p><p><br></p>', 'submitted': True, 'history': [], 'subType': 'freetext', 'evaluation': 'pending', 'rating': None}}]}], 'sectionIdx': 0, 'subSectionIdx': 2, 'stage': 'completed', 'lastActive': '2020-11-16T11:35:06+00:00', 'created': '2020-10-28T08:07:50+00:00', 'wentActive': '2020-11-16T11:35:06+00:00'}, {'taskSeriesId': 'ForAlltag', 'currentSections': [{'currentSubSections': [{'duration': 16, 'exercise': {'state': '<p>xxsjlksaijijwq</p>', 'submitted': True, 'history': [], 'subType': 'freetext', 'evaluation': 'pending', 'rating': None}}]}], 'sectionIdx': 0, 'subSectionIdx': 0, 'stage': 'completed', 'lastActive': '2020-11-16T11:35:11+00:00', 'created': '2020-10-28T08:08:43+00:00', 'wentActive': '2020-11-16T11:35:11+00:00'}, {'taskSeriesId': 'ForFlowchart', 'currentSections': [{'currentSubSections': [{'duration': 28, 'exercise': {'state': [True, False], 'submitted': True, 'history': [], 'subType': 'multipleChoice', 'evaluation': 'correct'}}, {'duration': 24, 'exercise': {'state': [False, True, False], 'submitted': True, 'history': [], 'subType': 'multipleChoice', 'evaluation': 'correct'}}, {'duration': 2}]}], 'sectionIdx': 0, 'subSectionIdx': 2, 'stage': 'completed', 'wentActive': '2020-11-16T11:38:13+00:00', 'lastActive': '2020-11-16T11:38:13+00:00', 'created': '2020-11-16T11:37:19+00:00'}, {'taskSeriesId': 'While-1', 'currentSections': [{'currentSubSections': [{'duration': 7, 'exercise': {'state': {'code': \"while(!done('TJk07.hG_h+0*A/Jlf6(')) {\\n  moveForward('+,eXtR@XOcYc?9Q5c;Vq');\\n}\\n\", 'workspace': '<xml xmlns=\"https://developers.google.com/blockly/xml\">\\n  <block type=\"mainBlock\" id=\"initialMainBlock\" deletable=\"false\" movable=\"false\" editable=\"false\" x=\"38\" y=\"38\">\\n    <statement name=\"EXECUTE\">\\n      <block type=\"pp_Maze_while\" id=\"TJk07.hG_h+0*A/Jlf6(\">\\n        <statement name=\"EXECUTE\">\\n          <block type=\"pp_Maze_moveForward\" id=\"+,eXtR@XOcYc?9Q5c;Vq\"></block>\\n        </statement>\\n      </block>\\n    </statement>\\n  </block>\\n</xml>'}, 'submitted': True, 'history': [], 'subType': 'blockly', 'evaluation': 'correct'}}, {'duration': 13, 'exercise': {'state': {'code': \"moveForward('{WWS(/?L1WDI$exF[BT$');\\nturnRight('sC5yj_cO{|2U(6TJj5t3');\\nmoveForward('v$=_Sra%?0{3M/[^(Ecl');\\nturnLeft('J:T!_Fl5Ygljr)RO2:,6');\\nwhile(!done('Eq3:t/80AhNO`0R@W*Hx')) {\\n  moveForward('_[?}mW6#XRMTY8S@Dr9@');\\n}\\n\", 'workspace': '<xml xmlns=\"https://developers.google.com/blockly/xml\">\\n  <block type=\"mainBlock\" id=\"initialMainBlock\" deletable=\"false\" movable=\"false\" editable=\"false\" x=\"38\" y=\"38\">\\n    <statement name=\"EXECUTE\">\\n      <block type=\"pp_Maze_moveForward\" id=\"{WWS(/?L1WDI$exF[BT$\">\\n        <next>\\n          <block type=\"pp_Maze_turn\" id=\"sC5yj_cO{|2U(6TJj5t3\">\\n            <field name=\"DIRECTIONS\">RIGHT</field>\\n            <next>\\n              <block type=\"pp_Maze_moveForward\" id=\"v$=_Sra%?0{3M/[^(Ecl\">\\n                <next>\\n                  <block type=\"pp_Maze_turn\" id=\"J:T!_Fl5Ygljr)RO2:,6\">\\n                    <field name=\"DIRECTIONS\">LEFT</field>\\n                    <next>\\n                      <block type=\"pp_Maze_while\" id=\"Eq3:t/80AhNO`0R@W*Hx\">\\n                        <statement name=\"EXECUTE\">\\n                          <block type=\"pp_Maze_moveForward\" id=\"_[?}mW6#XRMTY8S@Dr9@\"></block>\\n                        </statement>\\n                      </block>\\n                    </next>\\n                  </block>\\n                </next>\\n              </block>\\n            </next>\\n          </block>\\n        </next>\\n      </block>\\n    </statement>\\n  </block>\\n</xml>'}, 'submitted': True, 'history': [], 'subType': 'blockly', 'evaluation': 'correct'}}]}], 'sectionIdx': 0, 'subSectionIdx': 1, 'stage': 'completed', 'wentActive': '2020-11-16T11:38:37+00:00', 'lastActive': '2020-11-16T11:38:37+00:00', 'created': '2020-11-16T11:38:17+00:00'}, {'taskSeriesId': 'While-2', 'currentSections': [{'currentSubSections': [{'duration': 24, 'exercise': {'state': {'code': \"moveForward('vw*8BC0:b9Q=?P%-_Lsi');\\nmoveForward('jf(j^0l(UW~AKrw-=Usi');\\nturnRight('t,gYl.7KAw#2-kK!ZJF-');\\nmoveForward('dUjLw~y:KF!V26)UgCMS');\\nmoveForward('Xk,Ij0@jLmG!H!P!m0C`');\\nturnLeft('^`cHTfZo_b)*of8vFzp1');\\nmoveForward('u?L$}FG(VWtOHpN:fK5p');\\nmoveForward('*LKhh~j:GrJrJc!$1;,C');\\nturnRight('+JJ{tF0:H${^_g!7BMc~');\\nwhile(!done('OzObwrIFa:H*6R!a38*/')) {\\n  moveForward('eW*h+ar-Z0LC(02ZVGH-');\\n}\\n\", 'workspace': '<xml xmlns=\"https://developers.google.com/blockly/xml\">\\n  <block type=\"mainBlock\" id=\"initialMainBlock\" deletable=\"false\" movable=\"false\" editable=\"false\" x=\"38\" y=\"38\">\\n    <statement name=\"EXECUTE\">\\n      <block type=\"pp_Maze_moveForward\" id=\"vw*8BC0:b9Q=?P%-_Lsi\">\\n        <next>\\n          <block type=\"pp_Maze_moveForward\" id=\"jf(j^0l(UW~AKrw-=Usi\">\\n            <next>\\n              <block type=\"pp_Maze_turn\" id=\"t,gYl.7KAw#2-kK!ZJF-\">\\n                <field name=\"DIRECTIONS\">RIGHT</field>\\n                <next>\\n                  <block type=\"pp_Maze_moveForward\" id=\"dUjLw~y:KF!V26)UgCMS\">\\n                    <next>\\n                      <block type=\"pp_Maze_moveForward\" id=\"Xk,Ij0@jLmG!H!P!m0C`\">\\n                        <next>\\n                          <block type=\"pp_Maze_turn\" id=\"^`cHTfZo_b)*of8vFzp1\">\\n                            <field name=\"DIRECTIONS\">LEFT</field>\\n                            <next>\\n                              <block type=\"pp_Maze_moveForward\" id=\"u?L$}FG(VWtOHpN:fK5p\">\\n                                <next>\\n                                  <block type=\"pp_Maze_moveForward\" id=\"*LKhh~j:GrJrJc!$1;,C\">\\n                                    <next>\\n                                      <block type=\"pp_Maze_turn\" id=\"+JJ{tF0:H${^_g!7BMc~\">\\n                                        <field name=\"DIRECTIONS\">RIGHT</field>\\n                                        <next>\\n                                          <block type=\"pp_Maze_while\" id=\"OzObwrIFa:H*6R!a38*/\">\\n                                            <statement name=\"EXECUTE\">\\n                                              <block type=\"pp_Maze_moveForward\" id=\"eW*h+ar-Z0LC(02ZVGH-\"></block>\\n                                            </statement>\\n                                          </block>\\n                                        </next>\\n                                      </block>\\n                                    </next>\\n                                  </block>\\n                                </next>\\n                              </block>\\n                            </next>\\n                          </block>\\n                        </next>\\n                      </block>\\n                    </next>\\n                  </block>\\n                </next>\\n              </block>\\n            </next>\\n          </block>\\n        </next>\\n      </block>\\n    </statement>\\n  </block>\\n</xml>'}, 'submitted': True, 'history': [], 'subType': 'blockly', 'evaluation': 'correct'}}, {'duration': 13, 'exercise': {'state': [True, False], 'submitted': True, 'history': [], 'subType': 'multipleChoice', 'evaluation': 'correct'}}, {'duration': 2}]}], 'sectionIdx': 0, 'subSectionIdx': 2, 'stage': 'completed', 'wentActive': '2020-11-16T11:39:20+00:00', 'lastActive': '2020-11-16T11:39:20+00:00', 'created': '2020-11-16T11:38:41+00:00'}, {'taskSeriesId': 'While-3', 'currentSections': [{'currentSubSections': [{'duration': 11, 'exercise': {'state': [False, True], 'submitted': True, 'history': [], 'subType': 'multipleChoice', 'evaluation': 'correct'}}, {'duration': 11, 'exercise': {'state': [False, True], 'submitted': True, 'history': [], 'subType': 'multipleChoice', 'evaluation': 'correct'}}, {'duration': 5, 'exercise': {'state': '<p>gerade,rechts,gerade,links,solange gerade bis zum Ziel</p>', 'submitted': True, 'history': [], 'subType': 'freetext', 'evaluation': 'pending', 'rating': None}}]}], 'sectionIdx': 0, 'subSectionIdx': 2, 'stage': 'completed', 'wentActive': '2020-11-16T11:39:53+00:00', 'lastActive': '2020-11-16T11:39:53+00:00', 'created': '2020-11-16T11:39:26+00:00'}, {'taskSeriesId': 'WhileAlltag', 'currentSections': [{'currentSubSections': [{'duration': 5, 'exercise': {'state': {'workspace': '<xml xmlns=\"http://www.w3.org/1999/xhtml\"><block type=\"mainBlock\" id=\"initialMainBlock\" deletable=\"false\" movable=\"false\" editable=\"false\" x=\"38\" y=\"38\"><statement name=\"EXECUTE\"><block type=\"mashBanana\" id=\"mashBanana\"><next><block type=\"bananaSoft\" id=\"bananaSoft\"><statement name=\"EXECUTE\"><block type=\"marpleSyrup\" id=\"marpleSyrup\"><next><block type=\"mashBanana\" id=\"x`Q:M{S%`G#b(J%N2$J5\"></block></next></block></statement><next><block type=\"oatflakes\" id=\"oatflakes\"><next><block type=\"chocodrops\" id=\"chocodrops\"><next><block type=\"formcookies\" id=\"formcookies\"><next><block type=\"bakecookies\" id=\"bakecookies\"></block></next></block></next></block></next></block></next></block></next></block></statement></block></xml>', 'code': \"mashBanana('mashBanana','mashBanana');\\nwhile(!bananaSoft('bananaSoft','bananaSoft')) {\\n  marpleSyrup('marpleSyrup','marpleSyrup');\\n  mashBanana('mashBanana','lD;gQ/p((CV=#7~UjybP');\\n}\\noatflakes('oatflakes','oatflakes');\\nchocodrops('chocodrops','chocodrops');\\nformcookies('formcookies','formcookies');\\nbakecookies('bakecookies','bakecookies');\"}, 'submitted': True, 'history': [], 'subType': 'blockly', 'evaluation': 'false'}}, {'duration': 4, 'exercise': {'state': '<p>kwqslkwpoqq</p>', 'submitted': True, 'history': [], 'subType': 'freetext', 'evaluation': 'pending', 'rating': None}}]}], 'sectionIdx': 0, 'subSectionIdx': 1, 'stage': 'completed', 'wentActive': '2020-11-16T11:40:06+00:00', 'lastActive': '2020-11-16T11:40:06+00:00', 'created': '2020-11-16T11:39:57+00:00'}, {'taskSeriesId': 'WhileFlowchart', 'currentSections': [{'currentSubSections': [{'duration': 26, 'exercise': {'state': [True, False, False, True], 'submitted': True, 'history': [], 'subType': 'multipleChoice', 'evaluation': 'correct'}}, {'duration': 17, 'exercise': {'state': [True, False], 'submitted': True, 'history': [], 'subType': 'multipleChoice', 'evaluation': 'correct'}}]}], 'sectionIdx': 0, 'subSectionIdx': 1, 'stage': 'completed', 'wentActive': '2020-11-16T11:40:52+00:00', 'lastActive': '2020-11-16T11:40:52+00:00', 'created': '2020-11-16T11:40:09+00:00'}, {'taskSeriesId': 'WhileVertiefung-1', 'currentSections': [{'currentSubSections': [{'duration': 24, 'exercise': {'state': {'code': \"while(!done('52$jBd(KK~YX2p$:WO`E')) {\\n  moveForward('UEW@^c#NG_!AM,DWbBPr');\\n  turnLeft('CT*:?alDV~HFQ.Wgs`m_');\\n  moveForward('Gp,G;s*,mLIvQ1%m#Gy5');\\n  turnRight('SA4;v(eA_BF^5M=EHYxd');\\n}\\n\", 'workspace': '<xml xmlns=\"https://developers.google.com/blockly/xml\">\\n  <block type=\"mainBlock\" id=\"initialMainBlock\" deletable=\"false\" movable=\"false\" editable=\"false\" x=\"38\" y=\"38\">\\n    <statement name=\"EXECUTE\">\\n      <block type=\"pp_Maze_while\" id=\"52$jBd(KK~YX2p$:WO`E\">\\n        <statement name=\"EXECUTE\">\\n          <block type=\"pp_Maze_moveForward\" id=\"UEW@^c#NG_!AM,DWbBPr\">\\n            <next>\\n              <block type=\"pp_Maze_turn\" id=\"CT*:?alDV~HFQ.Wgs`m_\">\\n                <field name=\"DIRECTIONS\">LEFT</field>\\n                <next>\\n                  <block type=\"pp_Maze_moveForward\" id=\"Gp,G;s*,mLIvQ1%m#Gy5\">\\n                    <next>\\n                      <block type=\"pp_Maze_turn\" id=\"SA4;v(eA_BF^5M=EHYxd\">\\n                        <field name=\"DIRECTIONS\">RIGHT</field>\\n                      </block>\\n                    </next>\\n                  </block>\\n                </next>\\n              </block>\\n            </next>\\n          </block>\\n        </statement>\\n      </block>\\n    </statement>\\n  </block>\\n</xml>'}, 'submitted': True, 'history': [], 'subType': 'blockly', 'evaluation': 'correct'}}, {'duration': 29, 'exercise': {'state': [False, False, True, False], 'submitted': True, 'history': [], 'subType': 'multipleChoice', 'evaluation': 'correct'}}, {'duration': 2}]}], 'sectionIdx': 0, 'subSectionIdx': 2, 'stage': 'completed', 'wentActive': '2020-11-16T11:41:51+00:00', 'lastActive': '2020-11-16T11:41:51+00:00', 'created': '2020-11-16T11:40:56+00:00'}, {'taskSeriesId': 'WhileVertiefung-2', 'currentSections': [{'currentSubSections': [{'duration': 16, 'exercise': {'state': {'code': \"while(!done('6W;C5)Qu2=-=9%#k~$!*')) {\\n  moveForward('P9zwS)IOy+?QL4s],rL=');\\n}\\n\", 'workspace': '<xml xmlns=\"https://developers.google.com/blockly/xml\">\\n  <block type=\"mainBlock\" id=\"initialMainBlock\" deletable=\"false\" movable=\"false\" editable=\"false\" x=\"38\" y=\"38\">\\n    <statement name=\"EXECUTE\">\\n      <block type=\"pp_Maze_while\" id=\"6W;C5)Qu2=-=9%#k~$!*\">\\n        <statement name=\"EXECUTE\">\\n          <block type=\"pp_Maze_moveForward\" id=\"P9zwS)IOy+?QL4s],rL=\"></block>\\n        </statement>\\n      </block>\\n    </statement>\\n  </block>\\n</xml>'}, 'submitted': True, 'history': [], 'subType': 'blockly', 'evaluation': 'correct'}}, {'duration': 4, 'exercise': {'state': '<p>hakjkshiahdiasas</p>', 'submitted': True, 'history': [], 'subType': 'freetext', 'evaluation': 'pending', 'rating': None}}]}], 'sectionIdx': 0, 'subSectionIdx': 1, 'stage': 'completed', 'wentActive': '2020-11-16T11:42:15+00:00', 'lastActive': '2020-11-16T11:42:15+00:00', 'created': '2020-11-16T11:41:55+00:00'}, {'taskSeriesId': 'If-1', 'currentSections': [{'currentSubSections': [{'duration': 12, 'exercise': {'state': {'code': \"while(!done('6sA4um{mQ.Lck%!o)Q9(')) {\\n  moveForward(';}cp!Lb~h]K`T9PMC/P+');\\n  if(pathToTheRight('RsL,GB1eHbuUxr3N`{)2')) {\\n    turnRight('m@![Iq:sw@eL5mV1j`m5');\\n  }\\n}\\n\", 'workspace': '<xml xmlns=\"https://developers.google.com/blockly/xml\">\\n  <block type=\"mainBlock\" id=\"initialMainBlock\" deletable=\"false\" movable=\"false\" editable=\"false\" x=\"38\" y=\"38\">\\n    <statement name=\"EXECUTE\">\\n      <block type=\"pp_Maze_while\" id=\"6sA4um{mQ.Lck%!o)Q9(\">\\n        <statement name=\"EXECUTE\">\\n          <block type=\"pp_Maze_moveForward\" id=\";}cp!Lb~h]K`T9PMC/P+\">\\n            <next>\\n              <block type=\"pp_Maze_pathCondition\" id=\"RsL,GB1eHbuUxr3N`{)2\">\\n                <field name=\"DIRECTIONS\">RIGHT</field>\\n                <statement name=\"EXECUTE\">\\n                  <block type=\"pp_Maze_turn\" id=\"m@![Iq:sw@eL5mV1j`m5\">\\n                    <field name=\"DIRECTIONS\">RIGHT</field>\\n                  </block>\\n                </statement>\\n              </block>\\n            </next>\\n          </block>\\n        </statement>\\n      </block>\\n    </statement>\\n  </block>\\n</xml>'}, 'submitted': True, 'history': [], 'subType': 'blockly', 'evaluation': 'correct'}}, {'duration': 14, 'exercise': {'state': {'code': \"while(!done('Ya72b:-(Tx#[iUNSxye{')) {\\n  if(pathToTheLeft('[FRA`^6;,{X?#:I.!Kvs')) {\\n    turnLeft('[1^lB)`3-ueV-^SJF(_H');\\n  }\\n  moveForward('mLBXfu}r_B^9G8{yg[cm');\\n}\\n\", 'workspace': '<xml xmlns=\"https://developers.google.com/blockly/xml\">\\n  <block type=\"mainBlock\" id=\"initialMainBlock\" deletable=\"false\" movable=\"false\" editable=\"false\" x=\"38\" y=\"38\">\\n    <statement name=\"EXECUTE\">\\n      <block type=\"pp_Maze_while\" id=\"Ya72b:-(Tx#[iUNSxye{\">\\n        <statement name=\"EXECUTE\">\\n          <block type=\"pp_Maze_pathCondition\" id=\"[FRA`^6;,{X?#:I.!Kvs\">\\n            <field name=\"DIRECTIONS\">LEFT</field>\\n            <statement name=\"EXECUTE\">\\n              <block type=\"pp_Maze_turn\" id=\"[1^lB)`3-ueV-^SJF(_H\">\\n                <field name=\"DIRECTIONS\">LEFT</field>\\n              </block>\\n            </statement>\\n            <next>\\n              <block type=\"pp_Maze_moveForward\" id=\"mLBXfu}r_B^9G8{yg[cm\"></block>\\n            </next>\\n          </block>\\n        </statement>\\n      </block>\\n    </statement>\\n  </block>\\n</xml>'}, 'submitted': True, 'history': [], 'subType': 'blockly', 'evaluation': 'correct'}}, {'duration': 14, 'exercise': {'state': {'code': \"while(!done('S7bK(SN`dWL|Z3!OnADv')) {\\n  moveForward('!Vk7(HWoH~0o[okY)bPU');\\n  if(pathToTheLeft('Qwe,t2U4B1IDBB?Y{58z')) {\\n    turnLeft('U[d%^(W?-60%|b-YrtuT');\\n  }\\n}\\n\", 'workspace': '<xml xmlns=\"https://developers.google.com/blockly/xml\">\\n  <block type=\"mainBlock\" id=\"initialMainBlock\" deletable=\"false\" movable=\"false\" editable=\"false\" x=\"38\" y=\"38\">\\n    <statement name=\"EXECUTE\">\\n      <block type=\"pp_Maze_while\" id=\"S7bK(SN`dWL|Z3!OnADv\">\\n        <statement name=\"EXECUTE\">\\n          <block type=\"pp_Maze_moveForward\" id=\"!Vk7(HWoH~0o[okY)bPU\">\\n            <next>\\n              <block type=\"pp_Maze_pathCondition\" id=\"Qwe,t2U4B1IDBB?Y{58z\">\\n                <field name=\"DIRECTIONS\">LEFT</field>\\n                <statement name=\"EXECUTE\">\\n                  <block type=\"pp_Maze_turn\" id=\"U[d%^(W?-60%|b-YrtuT\">\\n                    <field name=\"DIRECTIONS\">LEFT</field>\\n                  </block>\\n                </statement>\\n              </block>\\n            </next>\\n          </block>\\n        </statement>\\n      </block>\\n    </statement>\\n  </block>\\n</xml>'}, 'submitted': True, 'history': [], 'subType': 'blockly', 'evaluation': 'correct'}}, {'duration': 3}]}], 'sectionIdx': 0, 'subSectionIdx': 3, 'stage': 'completed', 'wentActive': '2020-11-16T11:43:11+00:00', 'lastActive': '2020-11-16T11:43:11+00:00', 'created': '2020-11-16T11:42:27+00:00'}, {'taskSeriesId': 'If-2', 'currentSections': [{'currentSubSections': [{'duration': 17, 'exercise': {'state': [False, True], 'submitted': True, 'history': [], 'subType': 'multipleChoice', 'evaluation': 'correct'}}, {'duration': 24, 'exercise': {'state': {'code': \"turnRight('_cYxz:W@+,F~G{=@5{#O');\\nmoveForward('2[]jfrZ;$OLceoF6=~v@');\\nmoveForward('CBk6o^8cyeUDTn8+3^]g');\\nwhile(!done('8ye|-1zT2Z+M|FUKD##S')) {\\n  moveForward('@,DB7q=fmJL#sw}F?2,V');\\n  if(pathToTheRight('Fl.b=EzPUJ@{BXuf..F~')) {\\n    turnRight('pwb`NM(9/MF3jvxKq$(?');\\n  }\\n}\\n\", 'workspace': '<xml xmlns=\"https://developers.google.com/blockly/xml\">\\n  <block type=\"mainBlock\" id=\"initialMainBlock\" deletable=\"false\" movable=\"false\" editable=\"false\" x=\"38\" y=\"38\">\\n    <statement name=\"EXECUTE\">\\n      <block type=\"pp_Maze_turn\" id=\"_cYxz:W@+,F~G{=@5{#O\">\\n        <field name=\"DIRECTIONS\">RIGHT</field>\\n        <next>\\n          <block type=\"pp_Maze_moveForward\" id=\"2[]jfrZ;$OLceoF6=~v@\">\\n            <next>\\n              <block type=\"pp_Maze_moveForward\" id=\"CBk6o^8cyeUDTn8+3^]g\">\\n                <next>\\n                  <block type=\"pp_Maze_while\" id=\"8ye|-1zT2Z+M|FUKD##S\">\\n                    <statement name=\"EXECUTE\">\\n                      <block type=\"pp_Maze_moveForward\" id=\"@,DB7q=fmJL#sw}F?2,V\">\\n                        <next>\\n                          <block type=\"pp_Maze_pathCondition\" id=\"Fl.b=EzPUJ@{BXuf..F~\">\\n                            <field name=\"DIRECTIONS\">RIGHT</field>\\n                            <statement name=\"EXECUTE\">\\n                              <block type=\"pp_Maze_turn\" id=\"pwb`NM(9/MF3jvxKq$(?\">\\n                                <field name=\"DIRECTIONS\">RIGHT</field>\\n                              </block>\\n                            </statement>\\n                          </block>\\n                        </next>\\n                      </block>\\n                    </statement>\\n                  </block>\\n                </next>\\n              </block>\\n            </next>\\n          </block>\\n        </next>\\n      </block>\\n    </statement>\\n  </block>\\n</xml>'}, 'submitted': True, 'history': [], 'subType': 'blockly', 'evaluation': 'correct'}}]}], 'sectionIdx': 0, 'subSectionIdx': 1, 'stage': 'completed', 'wentActive': '2020-11-16T11:43:57+00:00', 'lastActive': '2020-11-16T11:43:57+00:00', 'created': '2020-11-16T11:43:16+00:00'}, {'taskSeriesId': 'LoopsVergleich-1', 'currentSections': [{'currentSubSections': [{'duration': 8, 'exercise': {'state': [True, True], 'submitted': True, 'history': [], 'subType': 'multipleChoice', 'evaluation': 'correct'}}, {'duration': 1}]}], 'sectionIdx': 0, 'subSectionIdx': 1, 'stage': 'completed', 'wentActive': '2020-11-16T11:45:21+00:00', 'lastActive': '2020-11-16T11:45:21+00:00', 'created': '2020-11-16T11:45:12+00:00'}, {'taskSeriesId': 'LoopsVergleich-2', 'currentSections': [{'currentSubSections': [{'duration': 4, 'exercise': {'state': '<p>.skishgögponokofngsfsf</p>', 'submitted': True, 'history': [], 'subType': 'freetext', 'evaluation': 'pending', 'rating': None}}, {'duration': 16, 'exercise': {'state': {'workspace': '<xml xmlns=\"http://www.w3.org/1999/xhtml\"><block type=\"mainBlock\" id=\"initialMainBlock\" deletable=\"false\" movable=\"false\" editable=\"false\" x=\"38\" y=\"38\"><statement name=\"EXECUTE\"><block type=\"pp_Maze_moveForward\" id=\"pp_Maze_moveForward\"><next><block type=\"pp_Maze_moveForward\" id=\"5Fj^d};=T4xwqSy-Z3yI\"><next><block type=\"pp_Maze_moveForward\" id=\"3g(HiQhsv809.V!mK:T%\"><next><block type=\"pp_Maze_turn\" id=\"pp_Maze_turn\"><field name=\"DIRECTIONS\">LEFT</field><next><block type=\"pp_Maze_while\" id=\"pp_Maze_while\"><statement name=\"EXECUTE\"><block type=\"pp_Maze_moveForward\" id=\"S|hWky}|t#CxGY,M?pf,\"></block></statement></block></next></block></next></block></next></block></next></block></statement></block></xml>', 'code': \"moveForward('pp_Maze_moveForward');\\nmoveForward('5Fj^d};=T4xwqSy-Z3yI');\\nmoveForward('3g(HiQhsv809.V!mK:T%');\\nturnLeft('pp_Maze_turn');\\nwhile(!done('pp_Maze_while')) {\\n  moveForward('S|hWky}|t#CxGY,M?pf,');\\n}\"}, 'submitted': True, 'history': [], 'subType': 'blockly', 'evaluation': 'false'}}]}], 'sectionIdx': 0, 'subSectionIdx': 1, 'stage': 'completed', 'wentActive': '2020-11-16T11:45:47+00:00', 'lastActive': '2020-11-16T11:45:47+00:00', 'created': '2020-11-16T11:45:26+00:00'}, {'taskSeriesId': 'LoopsVergleich-3', 'currentSections': [{'currentSubSections': [{'duration': 16, 'exercise': {'state': [True, True, True], 'submitted': True, 'history': [], 'subType': 'multipleChoice', 'evaluation': 'correct'}}, {'duration': 4, 'exercise': {'state': '<p>feeeeeeeeeefsdd</p>', 'submitted': True, 'history': [], 'subType': 'freetext', 'evaluation': 'pending', 'rating': None}}, {'duration': 2}]}], 'sectionIdx': 0, 'subSectionIdx': 2, 'stage': 'completed', 'wentActive': '2020-11-16T11:46:20+00:00', 'lastActive': '2020-11-16T11:46:20+00:00', 'created': '2020-11-16T11:45:58+00:00'}, {'taskSeriesId': 'If-3', 'currentSections': [{'currentSubSections': [{'duration': 16, 'exercise': {'state': [True, False, False, True, False, True], 'submitted': True, 'history': [], 'subType': 'multipleChoice', 'evaluation': 'correct'}}, {'duration': 33, 'exercise': {'state': {'code': \"turnRight('RcDUrk[5vnM#|{T3NhX:');\\nwhile(!done('i(*yhLqQr@r[rChBijQ0')) {\\n  if(pathToTheLeft('q)NL[hxzd2{!{rNYMS8j')) {\\n    turnLeft('4UIYJ|}m8=:%M.5R|Lxv');\\n  }\\n  moveForward('Dol;7-~PW)n+of:oOAFG');\\n}\\n\", 'workspace': '<xml xmlns=\"https://developers.google.com/blockly/xml\">\\n  <block type=\"mainBlock\" id=\"initialMainBlock\" deletable=\"false\" movable=\"false\" editable=\"false\" x=\"38\" y=\"38\">\\n    <statement name=\"EXECUTE\">\\n      <block type=\"pp_Maze_turn\" id=\"RcDUrk[5vnM#|{T3NhX:\">\\n        <field name=\"DIRECTIONS\">RIGHT</field>\\n        <next>\\n          <block type=\"pp_Maze_while\" id=\"i(*yhLqQr@r[rChBijQ0\">\\n            <statement name=\"EXECUTE\">\\n              <block type=\"pp_Maze_pathCondition\" id=\"q)NL[hxzd2{!{rNYMS8j\">\\n                <field name=\"DIRECTIONS\">LEFT</field>\\n                <statement name=\"EXECUTE\">\\n                  <block type=\"pp_Maze_turn\" id=\"4UIYJ|}m8=:%M.5R|Lxv\">\\n                    <field name=\"DIRECTIONS\">LEFT</field>\\n                  </block>\\n                </statement>\\n                <next>\\n                  <block type=\"pp_Maze_moveForward\" id=\"Dol;7-~PW)n+of:oOAFG\"></block>\\n                </next>\\n              </block>\\n            </statement>\\n          </block>\\n        </next>\\n      </block>\\n    </statement>\\n  </block>\\n</xml>'}, 'submitted': True, 'history': [], 'subType': 'blockly', 'evaluation': 'correct'}}, {'duration': 34, 'exercise': {'state': [True, True, False, False, False], 'submitted': True, 'history': [], 'subType': 'multipleChoice', 'evaluation': 'correct'}}]}], 'sectionIdx': 0, 'subSectionIdx': 2, 'stage': 'completed', 'wentActive': '2020-11-16T11:47:56+00:00', 'lastActive': '2020-11-16T11:47:56+00:00', 'created': '2020-11-16T11:46:33+00:00'}], 'revisions': [{'_id': 'For-1_0_1', 'taskSeriesId': 'For-1', 'sectionIdx': 0, 'subSectionIdx': 1, 'begin': '2020-12-02T19:30:35+00:00', 'accepted': True}, {'_id': 'WhileAlltag_0_0', 'taskSeriesId': 'WhileAlltag', 'sectionIdx': 0, 'subSectionIdx': 0, 'begin': '2020-11-16T19:40:00+00:00', 'accepted': False}, {'_id': 'LoopsVergleich-2_0_1', 'taskSeriesId': 'LoopsVergleich-2', 'sectionIdx': 0, 'subSectionIdx': 1, 'begin': '2020-11-16T19:45:46+00:00', 'accepted': False}], 'workspaceContent': {'type': 'revision', 'id': 'For-1_0_1'}, 'chat': {'messages': [{'date': '2020-10-27T13:32:30+00:00', 'sentBy': 'auto', 'message': 'Feedback wurde vergeben zu Algorithmic-3'}, {'date': '2020-10-28T08:09:08+00:00', 'sentBy': 'auto', 'message': 'Feedback wurde vergeben zu For-2'}], 'readUpTo': {'WFBQMuPvCGwwpfXJz': 2, 'GYGgx9yLqSJ4uHmJp': 2}}, 'assists': 0, 'experience': {'I_2_1': 270.25}, 'lastNotificationUpdate': '2020-11-16T11:47:59+00:00'}\n"
     ]
    }
   ],
   "source": [
    "pupils = json.load(open('pupils.json', 'r'))    # result will be a python dictionary\n",
    "\n",
    "#jeder entry ist ein schüler: zB data[0]\n",
    "len(pupils)\n",
    "#2214\n",
    "print(pupils[0])"
   ]
  },
  {
   "cell_type": "code",
   "execution_count": 23,
   "metadata": {},
   "outputs": [
    {
     "name": "stdout",
     "output_type": "stream",
     "text": [
      "dict_keys(['_id', 'classId', 'userId', 'companyId', 'partner', 'lang', 'username', 'shownTaskSeries', 'currentTaskSeries', 'solvedTaskSeries', 'revisions', 'workspaceContent', 'chat', 'assists', 'experience', 'lastNotificationUpdate'])\n",
      "dict_keys(['_id', 'classId', 'userId', 'companyId', 'partner', 'lang', 'username', 'shownTaskSeries', 'currentTaskSeries', 'solvedTaskSeries', 'revisions', 'workspaceContent', 'chat', 'assists', 'experience', 'lastNotificationUpdate'])\n"
     ]
    }
   ],
   "source": [
    "print(pupils[0].keys())\n",
    "print(pupils[1].keys())\n",
    "#['_id', 'classId', 'userId', 'companyId', 'partner', 'lang', 'username', 'shownTaskSeries', 'currentTaskSeries', 'solvedTaskSeries', 'revisions', 'workspaceContent', 'chat', 'assists', 'experience', 'lastNotificationUpdate']"
   ]
  },
  {
   "cell_type": "markdown",
   "metadata": {},
   "source": [
    "* _id\n",
    "* classId\n",
    "* userId\n",
    "* companyId\n",
    "* partner\n",
    "* lang\n",
    "* username\n",
    "* shownTaskSeries\n",
    "* currentTaskSeries\n",
    "* solvedTaskSeries\n",
    "    * taskSeriesId\n",
    "    * currentSections\n",
    "        * currentSubSections\n",
    "            * duration (in sekunden)\n",
    "            * exercise\n",
    "                * state:\n",
    "                    * text bei freitext in p tags\n",
    "                    * 0, 1, 0... bei survey\n",
    "                    * false, true, false bei MC\n",
    "                * submitted: true\n",
    "                * subType “freetext”, “survey”, “multipleChoice”\n",
    "                * history: wahrscheinlich alte versionen bei freetext\n",
    "                * falseAttempts bei MC: bool array mit erster lösung\n",
    "                * evaluation: (bool) bei freetext und MC\n",
    "                    * “false” bei mc wenn falsche lösung und keine tipps → direkt musterlösung\n",
    "                    * “correct” bei mc wenn richtige lösung\n",
    "                    * “pending” bei freitext, wenn lehrer noch nicht bewertet\n",
    "                * rating: bei freetext\n",
    "    * revisions\n",
    "        * (id, taskseriesid, was um die section zu finden)\n",
    "        * accepted: false\n",
    "        * …\n",
    "    * chat\n",
    "    * assists\n",
    "    * experience"
   ]
  },
  {
   "cell_type": "markdown",
   "metadata": {},
   "source": [
    "# EDA\n",
    "\n",
    "## Alle tasks für einen Schüler checken"
   ]
  },
  {
   "cell_type": "code",
   "execution_count": 5,
   "metadata": {},
   "outputs": [
    {
     "name": "stdout",
     "output_type": "stream",
     "text": [
      "[7, 10, 7, 10, 15, 5, 4, 5, 3, 1, 3, 23, 10, 8, 11, 1, 6, 5, 4, 1, 9, 4, 2, 38, 55, 5, 16, 28, 24, 2, 7, 13, 24, 13, 2, 11, 11, 5, 5, 4, 26, 17, 24, 29, 2, 16, 4, 12, 14, 14, 3, 17, 24, 8, 1, 4, 16, 16, 4, 2, 16, 33, 34]\n",
      "Minimal time: 1\n",
      "Maximal time: 55\n",
      "Average time in sec: 11.952380952380953\n"
     ]
    },
    {
     "data": {
      "text/plain": [
       "(array([4., 5., 3., 7., 6., 1., 3., 2., 1., 3., 3., 1., 2., 2., 1., 5., 2.,\n",
       "        0., 0., 0., 0., 0., 1., 4., 0., 1., 0., 1., 1., 0., 0., 0., 1., 1.,\n",
       "        0., 0., 0., 1., 0., 0., 0., 0., 0., 0., 0., 0., 0., 0., 0., 0., 0.,\n",
       "        0., 0., 0., 1.]),\n",
       " array([ 1.        ,  1.98181818,  2.96363636,  3.94545455,  4.92727273,\n",
       "         5.90909091,  6.89090909,  7.87272727,  8.85454545,  9.83636364,\n",
       "        10.81818182, 11.8       , 12.78181818, 13.76363636, 14.74545455,\n",
       "        15.72727273, 16.70909091, 17.69090909, 18.67272727, 19.65454545,\n",
       "        20.63636364, 21.61818182, 22.6       , 23.58181818, 24.56363636,\n",
       "        25.54545455, 26.52727273, 27.50909091, 28.49090909, 29.47272727,\n",
       "        30.45454545, 31.43636364, 32.41818182, 33.4       , 34.38181818,\n",
       "        35.36363636, 36.34545455, 37.32727273, 38.30909091, 39.29090909,\n",
       "        40.27272727, 41.25454545, 42.23636364, 43.21818182, 44.2       ,\n",
       "        45.18181818, 46.16363636, 47.14545455, 48.12727273, 49.10909091,\n",
       "        50.09090909, 51.07272727, 52.05454545, 53.03636364, 54.01818182,\n",
       "        55.        ]),\n",
       " <BarContainer object of 55 artists>)"
      ]
     },
     "execution_count": 5,
     "metadata": {},
     "output_type": "execute_result"
    },
    {
     "data": {
      "image/png": "[encoded data removed]",
      "text/plain": [
       "<Figure size 432x288 with 1 Axes>"
      ]
     },
     "metadata": {
      "needs_background": "light"
     },
     "output_type": "display_data"
    }
   ],
   "source": [
    "#[\"solvedTaskSeries\"]#[\"currentSections\"]#[\"currentSubSections\"]\n",
    "len(pupils[0][\"solvedTaskSeries\"]) #24 tasks gelöst\n",
    "pupils[0][\"solvedTaskSeries\"]\n",
    "\n",
    "durations = []\n",
    "\n",
    "for task in range(len(pupils[0][\"solvedTaskSeries\"])): #alle tasks für einen schüler\n",
    "    #print(\"task \" + str(task))\n",
    "    #print(data[0][\"solvedTaskSeries\"][task])\n",
    "    for section in pupils[0][\"solvedTaskSeries\"][task][\"currentSections\"]: #für diese tasks, alle sections\n",
    "        #print(\"section \")\n",
    "        #print(type(section)) --> dict\n",
    "        #print(section[\"currentSubSections\"][0])\n",
    "        for subsection in pupils[0][\"solvedTaskSeries\"][task][\"currentSections\"][0][\"currentSubSections\"]:\n",
    "            #print(\"subsection\")\n",
    "            #print(subsection[\"duration\"])\n",
    "            durations.append(subsection[\"duration\"])\n",
    "\n",
    "            \n",
    "#durations:\n",
    "print(durations)\n",
    "print(\"Minimal time: \" + str(min(durations)))\n",
    "print(\"Maximal time: \" + str(max(durations)))\n",
    "print(\"Average time in sec: \" + str(sum(durations)/len(durations)))       \n",
    "plt.hist(durations, bins=max(durations))"
   ]
  },
  {
   "cell_type": "markdown",
   "metadata": {},
   "source": [
    "## Nach Aufgabentyp"
   ]
  },
  {
   "cell_type": "code",
   "execution_count": 39,
   "metadata": {},
   "outputs": [
    {
     "name": "stdout",
     "output_type": "stream",
     "text": [
      "{'blockly': 213.6818086665271, 'multipleChoice': 76.4256860286948, 'freetext': 277.321554770318, 'survey': 52.75100942126514, 'inputField': 53.24590163934426, 'surveySlider': 21.224137931034484, 'noTask': 10.59476173153874}\n"
     ]
    }
   ],
   "source": [
    "tasktypes = [\"blockly\", \"multipleChoice\", \"freetext\", \"survey\", \"inputField\", \"surveySlider\", \"noTask\"]\n",
    "\n",
    "durations = { tasktype: {\"summe\": 0, \"count\": 0, \"avrg\": 0} for tasktype in tasktypes}\n",
    "\n",
    "missing_tasktype = []\n",
    "\n",
    "#for pupilnumber in range(len(pupils[0:5])): #für die ersten 5 schüler\n",
    "for pupilnumber in range(len(pupils)): #für jeden schüler\n",
    "    for tasknumber in range(len(pupils[pupilnumber][\"solvedTaskSeries\"])): #für jede seiner tasks\n",
    "        #print(pupilnumber, tasknumber)  --> macht er nur für einen? oder haben die anderen einfach keine?\n",
    "        for sectionnumber in range(len(pupils[pupilnumber][\"solvedTaskSeries\"][tasknumber][\"currentSections\"])): #für diese tasks, alle sections\n",
    "            for subsectionnumber in range(len(pupils[pupilnumber][\"solvedTaskSeries\"][tasknumber][\"currentSections\"][sectionnumber][\"currentSubSections\"])):\n",
    "                if(\"exercise\" in pupils[pupilnumber][\"solvedTaskSeries\"][tasknumber][\"currentSections\"][sectionnumber][\"currentSubSections\"][subsectionnumber].keys()): #nicht alle aufgaben haben eine exercise\n",
    "                    if pupils[pupilnumber][\"solvedTaskSeries\"][tasknumber][\"currentSections\"][sectionnumber][\"currentSubSections\"][subsectionnumber][\"exercise\"][\"subType\"] == \"blockly\":\n",
    "                        durations[\"blockly\"][\"summe\"] += pupils[pupilnumber][\"solvedTaskSeries\"][tasknumber][\"currentSections\"][sectionnumber][\"currentSubSections\"][subsectionnumber][\"duration\"]\n",
    "                        durations[\"blockly\"][\"count\"] += 1\n",
    "                    elif pupils[pupilnumber][\"solvedTaskSeries\"][tasknumber][\"currentSections\"][sectionnumber][\"currentSubSections\"][subsectionnumber][\"exercise\"][\"subType\"] == \"multipleChoice\":\n",
    "                        durations[\"multipleChoice\"][\"summe\"] += pupils[pupilnumber][\"solvedTaskSeries\"][tasknumber][\"currentSections\"][sectionnumber][\"currentSubSections\"][subsectionnumber][\"duration\"]\n",
    "                        durations[\"multipleChoice\"][\"count\"] += 1\n",
    "                    elif pupils[pupilnumber][\"solvedTaskSeries\"][tasknumber][\"currentSections\"][sectionnumber][\"currentSubSections\"][subsectionnumber][\"exercise\"][\"subType\"] == \"freetext\":\n",
    "                        durations[\"freetext\"][\"summe\"] += pupils[pupilnumber][\"solvedTaskSeries\"][tasknumber][\"currentSections\"][sectionnumber][\"currentSubSections\"][subsectionnumber][\"duration\"]\n",
    "                        durations[\"freetext\"][\"count\"] += 1\n",
    "                    elif pupils[pupilnumber][\"solvedTaskSeries\"][tasknumber][\"currentSections\"][sectionnumber][\"currentSubSections\"][subsectionnumber][\"exercise\"][\"subType\"] == \"survey\":\n",
    "                        durations[\"survey\"][\"summe\"] += pupils[pupilnumber][\"solvedTaskSeries\"][tasknumber][\"currentSections\"][sectionnumber][\"currentSubSections\"][subsectionnumber][\"duration\"]\n",
    "                        durations[\"survey\"][\"count\"] += 1\n",
    "                    elif pupils[pupilnumber][\"solvedTaskSeries\"][tasknumber][\"currentSections\"][sectionnumber][\"currentSubSections\"][subsectionnumber][\"exercise\"][\"subType\"] == \"inputField\":\n",
    "                        durations[\"inputField\"][\"summe\"] += pupils[pupilnumber][\"solvedTaskSeries\"][tasknumber][\"currentSections\"][sectionnumber][\"currentSubSections\"][subsectionnumber][\"duration\"]\n",
    "                        durations[\"inputField\"][\"count\"] += 1\n",
    "                    elif pupils[pupilnumber][\"solvedTaskSeries\"][tasknumber][\"currentSections\"][sectionnumber][\"currentSubSections\"][subsectionnumber][\"exercise\"][\"subType\"] == \"surveySlider\":\n",
    "                        durations[\"surveySlider\"][\"summe\"] += pupils[pupilnumber][\"solvedTaskSeries\"][tasknumber][\"currentSections\"][sectionnumber][\"currentSubSections\"][subsectionnumber][\"duration\"]\n",
    "                        durations[\"surveySlider\"][\"count\"] += 1\n",
    "                    else:\n",
    "                        if pupils[pupilnumber][\"solvedTaskSeries\"][tasknumber][\"currentSections\"][sectionnumber][\"currentSubSections\"][subsectionnumber][\"exercise\"][\"subType\"] not in missing_tasktype:\n",
    "                            missing_tasktype.append(pupils[pupilnumber][\"solvedTaskSeries\"][tasknumber][\"currentSections\"][sectionnumber][\"currentSubSections\"][subsectionnumber][\"exercise\"][\"subType\"])\n",
    "\n",
    "                else:\n",
    "                    durations[\"noTask\"][\"summe\"] += pupils[pupilnumber][\"solvedTaskSeries\"][tasknumber][\"currentSections\"][sectionnumber][\"currentSubSections\"][subsectionnumber][\"duration\"]\n",
    "                    durations[\"noTask\"][\"count\"] += 1\n",
    "                    #print(pupils[pupilnumber][\"solvedTaskSeries\"][tasknumber][\"currentSections\"][sectionnumber][\"currentSubSections\"][subsectionnumber][\"duration\"])\n",
    "#print(missing_tasktype)\n",
    "\n",
    "for tasktype in durations:\n",
    "    durations[tasktype][\"avrg\"] = durations[tasktype][\"summe\"]/durations[tasktype][\"count\"]\n",
    "    \n",
    "#print(durations)\n",
    "\n",
    "#avrg_durations = [durations[tasktype][\"avrg\"] for tasktype in durations]\n",
    "avrg_durations = {tasktype: durations[tasktype][\"avrg\"] for tasktype in durations}\n",
    "print(avrg_durations)"
   ]
  },
  {
   "cell_type": "code",
   "execution_count": 40,
   "metadata": {},
   "outputs": [
    {
     "data": {
      "text/plain": [
       "([<matplotlib.axis.XTick at 0x7f9488c98c90>,\n",
       "  <matplotlib.axis.XTick at 0x7f9488c7ffd0>,\n",
       "  <matplotlib.axis.XTick at 0x7f9488c982d0>,\n",
       "  <matplotlib.axis.XTick at 0x7f9488cc49d0>,\n",
       "  <matplotlib.axis.XTick at 0x7f9488cc4490>,\n",
       "  <matplotlib.axis.XTick at 0x7f9488ae0510>,\n",
       "  <matplotlib.axis.XTick at 0x7f9488ae0d10>],\n",
       " [Text(0, 0, 'blockly'),\n",
       "  Text(1, 0, 'multipleChoice'),\n",
       "  Text(2, 0, 'freetext'),\n",
       "  Text(3, 0, 'survey'),\n",
       "  Text(4, 0, 'inputField'),\n",
       "  Text(5, 0, 'surveySlider'),\n",
       "  Text(6, 0, 'noTask')])"
      ]
     },
     "execution_count": 40,
     "metadata": {},
     "output_type": "execute_result"
    },
    {
     "data": {
      "image/png": "[encoded data removed]",
      "text/plain": [
       "<Figure size 432x288 with 1 Axes>"
      ]
     },
     "metadata": {
      "needs_background": "light"
     },
     "output_type": "display_data"
    }
   ],
   "source": [
    "plt.bar(range(len(avrg_durations)), list(avrg_durations.values()), align='center')\n",
    "plt.xticks(range(len(avrg_durations)), list(avrg_durations.keys()), rotation=90)"
   ]
  },
  {
   "cell_type": "markdown",
   "metadata": {},
   "source": [
    "## Nur für das KI Paket\n",
    "\n",
    "### Wie viele Klassen haben es gemacht? Wie viele SuS?"
   ]
  },
  {
   "cell_type": "code",
   "execution_count": 152,
   "metadata": {},
   "outputs": [
    {
     "name": "stdout",
     "output_type": "stream",
     "text": [
      "{'uxfuiLT4xZA6yvE6L': {'count': 2}, 'qFEyvypMn4sAwLwtc': {'count': 26}, 'y7j9eKDPsqNkAycuy': {'count': 1}, '6Z2MmkKQKebb7nz8P': {'count': 1}, '4fyXxCKaLbCBaPbYE': {'count': 1}}\n",
      "\n",
      "Zur Zeit gibt es 26 sus, die das KI Paket bearbeitet haben\n"
     ]
    }
   ],
   "source": [
    "# taskseriesIDs vom KI Paket:\n",
    "KI_taskseries_ids = [\"AI-1-v2\", \"AI-2-v2\", \"AI-3-v2\", \"AI-4-v2\", \"ML-1\", \"ML-2\", \"ML-3\", \"Classification-1\", \"Clustering-1\", \"Classification-2\", \"Clustering-2\", \"LimitsML\", \"EvalML\", \"Impact-1\", \"Impact-2\", \"Impact-3\", \"Impact-4\", \"AIClosing\"]\n",
    "\n",
    "classIDsKI = []\n",
    "pupilsKI = []\n",
    "\n",
    "for pupilnumber in range(len(pupils)): #für jeden schüler\n",
    "    for tasknumber in range(len(pupils[pupilnumber][\"solvedTaskSeries\"])): #für jede seiner tasks\n",
    "        if(pupils[pupilnumber][\"solvedTaskSeries\"][tasknumber][\"taskSeriesId\"] in KI_taskseries_ids):\n",
    "            for sectionnumber in range(len(pupils[pupilnumber][\"solvedTaskSeries\"][tasknumber][\"currentSections\"])): #für diese tasks, alle sections\n",
    "                for subsectionnumber in range(len(pupils[pupilnumber][\"solvedTaskSeries\"][tasknumber][\"currentSections\"][sectionnumber][\"currentSubSections\"])):\n",
    "                    if(\"exercise\" in pupils[pupilnumber][\"solvedTaskSeries\"][tasknumber][\"currentSections\"][sectionnumber][\"currentSubSections\"][subsectionnumber].keys()):\n",
    "                        if pupils[pupilnumber][\"classId\"] not in classIDsKI:\n",
    "                            classIDsKI.append(pupils[pupilnumber][\"classId\"])\n",
    "                        if pupils[pupilnumber] not in pupilsKI:\n",
    "                            pupilsKI.append(pupils[pupilnumber])\n",
    "\n",
    "#print(classIDsKI) #--> ['uxfuiLT4xZA6yvE6L', 'qFEyvypMn4sAwLwtc', 'y7j9eKDPsqNkAycuy', '6Z2MmkKQKebb7nz8P', '4fyXxCKaLbCBaPbYE']\n",
    "#print(len(pupils), len(pupilsKI)) --> 31 in pupilsKI\n",
    "\n",
    "KI_classes = {classID: {\"count\": 0} for classID in classIDsKI}\n",
    "\n",
    "for pupil in pupilsKI:\n",
    "    KI_classes[pupil[\"classId\"]][\"count\"] += 1\n",
    "\n",
    "print(KI_classes)\n",
    "print(\"\")\n",
    "\n",
    "# Jetzt nur die Klassen mit genügend SuS auswählen\n",
    "final_pupils_KI = []\n",
    "min_class_size = 10\n",
    "\n",
    "for pupil in pupilsKI:\n",
    "    if(KI_classes[pupil[\"classId\"]][\"count\"] >= min_class_size):\n",
    "        final_pupils_KI.append(pupil)\n",
    "\n",
    "print(\"Zur Zeit gibt es \" + str(len(final_pupils_KI)) + \" sus, die das KI Paket bearbeitet haben\")"
   ]
  },
  {
   "cell_type": "markdown",
   "metadata": {},
   "source": [
    "### Wie viele Aufgaben haben die SuS jeweils gemacht?"
   ]
  },
  {
   "cell_type": "code",
   "execution_count": 234,
   "metadata": {},
   "outputs": [
    {
     "name": "stdout",
     "output_type": "stream",
     "text": [
      "NR tasks per pupil: [18, 18, 3, 11, 18, 10, 10, 18, 15, 11, 13, 15, 4, 2, 6, 6, 12, 11, 18, 18, 18, 3, 5, 9, 9, 1]\n",
      "Completion rates: [100, 100, 16, 61, 100, 55, 55, 100, 83, 61, 72, 83, 22, 11, 33, 33, 66, 61, 100, 100, 100, 16, 27, 50, 50, 5]\n",
      "\n",
      "\n",
      "Number SuS in each quartile: [5, 5, 7, 9]\n",
      "Percent of students that have completed these quarts: [19.23, 19.23, 26.92, 34.62]\n"
     ]
    },
    {
     "data": {
      "image/png": "[encoded data removed]",
      "text/plain": [
       "<Figure size 576x1440 with 4 Axes>"
      ]
     },
     "metadata": {
      "needs_background": "light"
     },
     "output_type": "display_data"
    },
    {
     "data": {
      "text/plain": [
       "'\\nTODO:\\n- kumulativ: wie viele SuS haben mindestens X aufgaben gelöst?\\n'"
      ]
     },
     "execution_count": 234,
     "metadata": {},
     "output_type": "execute_result"
    }
   ],
   "source": [
    "nr_tasks_per_pupil = []\n",
    "\n",
    "# Könnte für jeden SoS schauen, ob sie alle aufgaben gemacht haben.\n",
    "for pupil in final_pupils_KI:\n",
    "    nr_tasks_per_pupil.append(len(pupil[\"solvedTaskSeries\"]))\n",
    "\n",
    "print(\"NR tasks per pupil: \" + str(nr_tasks_per_pupil))\n",
    "nr_all_tasks = 18\n",
    "\n",
    "completion_rates = [int((nr_tasks/nr_all_tasks)*100) for nr_tasks in nr_tasks_per_pupil]\n",
    "print(\"Completion rates: \" + str(completion_rates))\n",
    "print(\"\\n\")\n",
    "\n",
    "\n",
    "\n",
    "\n",
    "# SUS per QUARTILE\n",
    "quartiles = [0 for quartile in range(1, 5)]\n",
    "\n",
    "for rate in completion_rates:\n",
    "    if (rate<=25):\n",
    "        quartiles[0] += 1\n",
    "    elif(rate > 25 and rate <=50):\n",
    "        quartiles[1] += 1\n",
    "    elif(rate > 50 and rate <=75):\n",
    "        quartiles[2] += 1\n",
    "    elif(rate > 75 and rate <=100):\n",
    "        quartiles[3] += 1\n",
    "\n",
    "print(\"Number SuS in each quartile: \" + str(quartiles)) \n",
    "\n",
    "# in percent\n",
    "percentage_sus_per_quart = [round((number/np.sum(quartiles))*100, 2) for number in quartiles]\n",
    "print(\"Percent of students that have completed these quarts: \" + str(percentage_sus_per_quart))\n",
    "\n",
    "\n",
    "\n",
    "\n",
    "\n",
    "# PLOTS\n",
    "fig, (ax1,ax2, ax3, ax4) = plt.subplots(nrows=4,ncols=1,figsize=(8,20))\n",
    "\n",
    "ax1 = plt.subplot(411)\n",
    "ax1.hist(nr_tasks_per_pupil, bins=np.max(nr_tasks_per_pupil)+1)\n",
    "#ax1.set_title('Numbers of Tasks')\n",
    "ax1.set_xlabel( \"Numbers of Tasks\" , size = 12 )\n",
    "ax1.set_xlim([0, max(nr_tasks_per_pupil)])\n",
    "ax1.set_ylim([0, nr_tasks_per_pupil.count(mode(nr_tasks_per_pupil))+1])\n",
    "\n",
    "ax2 = plt.subplot(412)\n",
    "ax2.hist(completion_rates, bins=np.max(completion_rate))\n",
    "ax2.set_xlim([0, max(completion_rate)])\n",
    "ax2.set_ylim([0, completion_rate.count(mode(completion_rate))+1])\n",
    "\n",
    "\n",
    "ax3 = plt.subplot(413)\n",
    "ax3.bar([elem + 0.5 for elem in range(len(quartiles))], quartiles)\n",
    "ax3.set_xlim([0, len(quartiles)])\n",
    "ax3.set_ylim([0, max(quartiles)+1])\n",
    "\n",
    "ax4 = plt.subplot(414)\n",
    "ax4.bar([elem + 0.5 for elem in range(len(percentage_sus_per_quart))], percentage_sus_per_quart)\n",
    "ax4.set_xlim([0, len(percentage_sus_per_quart)])\n",
    "ax4.set_ylim([0, max(percentage_sus_per_quart)+1])\n",
    "\n",
    "plt.show()\n",
    "\n",
    "\n",
    "\"\"\"\n",
    "TODO:\n",
    "- kumulativ: wie viele SuS haben mindestens X aufgaben gelöst?\n",
    "\"\"\""
   ]
  },
  {
   "cell_type": "code",
   "execution_count": 237,
   "metadata": {},
   "outputs": [
    {
     "name": "stdout",
     "output_type": "stream",
     "text": [
      "[  5  11  16  16  22  27  33  33  50  50  55  55  61  61  61  66  72  83\n",
      "  83 100 100 100 100 100 100 100]\n"
     ]
    }
   ],
   "source": [
    "sorted_completion_rates = np.sort(completion_rates)\n",
    "print(sorted_completion_rates)\n",
    "\n",
    "#kum_completion_rates = [elem for elem in np.sort(completion_rates) if ]"
   ]
  },
  {
   "cell_type": "markdown",
   "metadata": {},
   "source": [
    "### Durations KI Paket"
   ]
  },
  {
   "cell_type": "code",
   "execution_count": 229,
   "metadata": {},
   "outputs": [
    {
     "name": "stdout",
     "output_type": "stream",
     "text": [
      "\n",
      "\n",
      "total_duration                399.00\n",
      "total_duration_minutes          6.65\n",
      "number_tasks                    4.00\n",
      "avg_duration_per_task_secs     22.24\n",
      "dtype: float64\n",
      "\n",
      "\n",
      "total_duration                8445.00\n",
      "total_duration_minutes         140.75\n",
      "number_tasks                    80.00\n",
      "avg_duration_per_task_secs     288.11\n",
      "dtype: float64\n"
     ]
    },
    {
     "data": {
      "image/png": "[encoded data removed]",
      "text/plain": [
       "<Figure size 432x288 with 1 Axes>"
      ]
     },
     "metadata": {
      "needs_background": "light"
     },
     "output_type": "display_data"
    },
    {
     "data": {
      "image/png": "[encoded data removed]",
      "text/plain": [
       "<Figure size 432x288 with 1 Axes>"
      ]
     },
     "metadata": {
      "needs_background": "light"
     },
     "output_type": "display_data"
    },
    {
     "data": {
      "text/html": [
       "<div>\n",
       "<style scoped>\n",
       "    .dataframe tbody tr th:only-of-type {\n",
       "        vertical-align: middle;\n",
       "    }\n",
       "\n",
       "    .dataframe tbody tr th {\n",
       "        vertical-align: top;\n",
       "    }\n",
       "\n",
       "    .dataframe thead th {\n",
       "        text-align: right;\n",
       "    }\n",
       "</style>\n",
       "<table border=\"1\" class=\"dataframe\">\n",
       "  <thead>\n",
       "    <tr style=\"text-align: right;\">\n",
       "      <th></th>\n",
       "      <th>total_duration</th>\n",
       "      <th>total_duration_minutes</th>\n",
       "      <th>number_tasks</th>\n",
       "      <th>avg_duration_per_task_secs</th>\n",
       "    </tr>\n",
       "  </thead>\n",
       "  <tbody>\n",
       "    <tr>\n",
       "      <th>count</th>\n",
       "      <td>26.000000</td>\n",
       "      <td>26.000000</td>\n",
       "      <td>26.000000</td>\n",
       "      <td>26.000000</td>\n",
       "    </tr>\n",
       "    <tr>\n",
       "      <th>mean</th>\n",
       "      <td>4921.769231</td>\n",
       "      <td>82.029487</td>\n",
       "      <td>45.730769</td>\n",
       "      <td>140.498462</td>\n",
       "    </tr>\n",
       "    <tr>\n",
       "      <th>std</th>\n",
       "      <td>2355.092683</td>\n",
       "      <td>39.251545</td>\n",
       "      <td>26.785903</td>\n",
       "      <td>73.217406</td>\n",
       "    </tr>\n",
       "    <tr>\n",
       "      <th>min</th>\n",
       "      <td>399.000000</td>\n",
       "      <td>6.650000</td>\n",
       "      <td>4.000000</td>\n",
       "      <td>22.240000</td>\n",
       "    </tr>\n",
       "    <tr>\n",
       "      <th>25%</th>\n",
       "      <td>3077.500000</td>\n",
       "      <td>51.291667</td>\n",
       "      <td>24.000000</td>\n",
       "      <td>69.660000</td>\n",
       "    </tr>\n",
       "    <tr>\n",
       "      <th>50%</th>\n",
       "      <td>4607.500000</td>\n",
       "      <td>76.791667</td>\n",
       "      <td>44.000000</td>\n",
       "      <td>141.640000</td>\n",
       "    </tr>\n",
       "    <tr>\n",
       "      <th>75%</th>\n",
       "      <td>7058.750000</td>\n",
       "      <td>117.645833</td>\n",
       "      <td>76.250000</td>\n",
       "      <td>191.180000</td>\n",
       "    </tr>\n",
       "    <tr>\n",
       "      <th>max</th>\n",
       "      <td>8445.000000</td>\n",
       "      <td>140.750000</td>\n",
       "      <td>80.000000</td>\n",
       "      <td>288.110000</td>\n",
       "    </tr>\n",
       "  </tbody>\n",
       "</table>\n",
       "</div>"
      ],
      "text/plain": [
       "       total_duration  total_duration_minutes  number_tasks  \\\n",
       "count       26.000000               26.000000     26.000000   \n",
       "mean      4921.769231               82.029487     45.730769   \n",
       "std       2355.092683               39.251545     26.785903   \n",
       "min        399.000000                6.650000      4.000000   \n",
       "25%       3077.500000               51.291667     24.000000   \n",
       "50%       4607.500000               76.791667     44.000000   \n",
       "75%       7058.750000              117.645833     76.250000   \n",
       "max       8445.000000              140.750000     80.000000   \n",
       "\n",
       "       avg_duration_per_task_secs  \n",
       "count                   26.000000  \n",
       "mean                   140.498462  \n",
       "std                     73.217406  \n",
       "min                     22.240000  \n",
       "25%                     69.660000  \n",
       "50%                    141.640000  \n",
       "75%                    191.180000  \n",
       "max                    288.110000  "
      ]
     },
     "execution_count": 229,
     "metadata": {},
     "output_type": "execute_result"
    }
   ],
   "source": [
    "per_student = {str(pupil[\"_id\"]): {\"total_duration\": 0, \"total_duration_minutes\": 0,\"number_tasks\": 0, \"avg_duration_per_task_secs\": 0} for pupil in final_pupils_KI}\n",
    "\n",
    "for pupil in final_pupils_KI: #für jeden schüler\n",
    "    #print(pupil)\n",
    "    for task in pupil[\"solvedTaskSeries\"]:\n",
    "        #print(task)\n",
    "        for subsections in task[\"currentSections\"]:\n",
    "            #print(subsections)\n",
    "            for subsection in subsections[\"currentSubSections\"]:\n",
    "                #total_duration += subsection[\"duration\"]\n",
    "                #total_task_count += 1\n",
    "                per_student[pupil[\"_id\"]][\"total_duration\"] += subsection[\"duration\"]\n",
    "                per_student[pupil[\"_id\"]][\"number_tasks\"] += 1\n",
    "                pass\n",
    "    per_student[pupil[\"_id\"]][\"avg_duration_per_task_secs\"] = round(per_student[pupil[\"_id\"]][\"total_duration\"]/per_student[pupil[\"_id\"]][\"number_tasks\"], 2)\n",
    "    per_student[pupil[\"_id\"]][\"total_duration_minutes\"] = per_student[pupil[\"_id\"]][\"total_duration\"]/60\n",
    "\n",
    "#print(\"Average Duration KI Paket: \" + str(total_duration / len(final_pupils_KI)))\n",
    "#print(per_student)\n",
    "\n",
    "per_student_df = pd.DataFrame.from_dict(per_student).T\n",
    "\n",
    "print(\"\\n\")\n",
    "print(per_student_df.min())\n",
    "print(\"\\n\")\n",
    "print(per_student_df.max())\n",
    "\n",
    "#plt.hist(per_student_df[\"total_duration_minutes\"], bins=int(per_student_df[\"total_duration_minutes\"].max()))\n",
    "plt.hist(per_student_df[\"total_duration_minutes\"], bins=30)\n",
    "plt.xlabel(\"Total duration in Minutes\")\n",
    "plt.show()\n",
    "#plt.hist(per_student_df[\"avg_duration_per_task_secs\"], bins=int(per_student_df[\"avg_duration_per_task_secs\"].max())+1)\n",
    "plt.hist(per_student_df[\"avg_duration_per_task_secs\"], bins=30)\n",
    "plt.xlabel(\"Average duration per Tasks in seconds\")\n",
    "plt.show()\n",
    "\n",
    "per_student_df.describe()\n",
    "\n",
    "# TODO: plotten"
   ]
  },
  {
   "cell_type": "markdown",
   "metadata": {},
   "source": [
    "# Eine Spezifische Aufgabe auswählend"
   ]
  },
  {
   "cell_type": "code",
   "execution_count": null,
   "metadata": {},
   "outputs": [],
   "source": [
    "# TODO:\n",
    "# für jede aufgabe im KI Paket schauen, wie lange die average duration ist\n",
    "# schwerste und leichteste aufgabe (nach duration)"
   ]
  },
  {
   "cell_type": "markdown",
   "metadata": {},
   "source": [
    "# Grundlegend:\n",
    "* oberes nochmal in DF umwandeln\n",
    "\n",
    "# Was noch spannend wäre\n",
    "* freitext:\n",
    "  * antworten checken\n",
    "  * lehrer bewertungen\n",
    "  * lehrer feedback\n",
    "* hilfeanfragen\n",
    "* chat"
   ]
  },
  {
   "cell_type": "code",
   "execution_count": null,
   "metadata": {},
   "outputs": [],
   "source": []
  },
  {
   "cell_type": "code",
   "execution_count": null,
   "metadata": {},
   "outputs": [],
   "source": []
  }
 ],
 "metadata": {
  "kernelspec": {
   "display_name": "Python 3",
   "language": "python",
   "name": "python3"
  },
  "language_info": {
   "codemirror_mode": {
    "name": "ipython",
    "version": 3
   },
   "file_extension": ".py",
   "mimetype": "text/x-python",
   "name": "python",
   "nbconvert_exporter": "python",
   "pygments_lexer": "ipython3",
   "version": "3.7.6"
  }
 },
 "nbformat": 4,
 "nbformat_minor": 4
}
