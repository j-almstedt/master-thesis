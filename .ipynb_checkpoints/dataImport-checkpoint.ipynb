{
 "cells": [
  {
   "cell_type": "code",
   "execution_count": 2,
   "metadata": {},
   "outputs": [],
   "source": [
    "import json\n",
    "import numpy as np\n",
    "import pandas as pd\n",
    "import matplotlib.pyplot as plt\n",
    "import statistics \n",
    "from statistics import mode"
   ]
  },
  {
   "cell_type": "markdown",
   "metadata": {},
   "source": [
    "# Parsing the JSON to dictionary"
   ]
  },
  {
   "cell_type": "code",
   "execution_count": 34,
   "metadata": {},
   "outputs": [
    {
     "data": {
      "text/plain": [
       "2715"
      ]
     },
     "execution_count": 34,
     "metadata": {},
     "output_type": "execute_result"
    }
   ],
   "source": [
    "pupils = json.load(open('pupils.json', 'r'))    # result will be a python dictionary\n",
    "\n",
    "#jeder entry ist ein schüler: zB data[0]\n",
    "len(pupils)\n",
    "#2715"
   ]
  },
  {
   "cell_type": "code",
   "execution_count": 33,
   "metadata": {},
   "outputs": [
    {
     "name": "stdout",
     "output_type": "stream",
     "text": [
      "dict_keys(['_id', 'classId', 'userId', 'companyId', 'partner', 'lang', 'username', 'shownTaskSeries', 'currentTaskSeries', 'solvedTaskSeries', 'revisions', 'workspaceContent', 'chat', 'assists', 'experience', 'lastNotificationUpdate'])\n",
      "{'messages': [{'date': '2020-10-27T13:32:30+00:00', 'sentBy': 'auto', 'message': 'Feedback wurde vergeben zu Algorithmic-3'}, {'date': '2020-10-28T08:09:08+00:00', 'sentBy': 'auto', 'message': 'Feedback wurde vergeben zu For-2'}], 'readUpTo': {'WFBQMuPvCGwwpfXJz': 2, 'GYGgx9yLqSJ4uHmJp': 2}}\n"
     ]
    }
   ],
   "source": [
    "print(pupils[0].keys())#['_id', 'classId', 'userId', 'companyId', 'partner', 'lang', 'username', 'shownTaskSeries', 'currentTaskSeries', 'solvedTaskSeries', 'revisions', 'workspaceContent', 'chat', 'assists', 'experience', 'lastNotificationUpdate']\n",
    "#[0][\"currentSections\"][0][\"currentSubSections\"][1][\"exercise\"]\n",
    "print(pupils[0][\"chat\"]) #'sectionIdx', 'subSectionIdx', 'stage', 'wentActive', 'lastActive', 'created'\n"
   ]
  },
  {
   "cell_type": "markdown",
   "metadata": {},
   "source": [
    "* _id\n",
    "* classId\n",
    "* userId\n",
    "* companyId\n",
    "* partner\n",
    "* lang\n",
    "* username\n",
    "* shownTaskSeries\n",
    "* currentTaskSeries\n",
    "* solvedTaskSeries\n",
    "    * [] liste mit allen solvedTaskSeries\n",
    "       * taskSeriesId\n",
    "       * currentSections\n",
    "          * [] Liste mit allen Sections\n",
    "             * currentSubSections\n",
    "                * []\n",
    "                   * duration (in sekunden)\n",
    "                   * exercise\n",
    "                      * state:\n",
    "                         * text bei freitext in p tags\n",
    "                         * 0, 1, 0... bei survey\n",
    "                         * false, true, false bei MC\n",
    "                      * submitted: true\n",
    "                      * history: wahrscheinlich alte versionen bei freetext\n",
    "                      * subType “freetext”, “survey”, “multipleChoice”\n",
    "                      * falseAttempts bei MC: bool array mit erster lösung\n",
    "                      * evaluation: (bool) bei freetext und MC\n",
    "                         * “false” bei mc wenn falsche lösung und keine tipps → direkt musterlösung\n",
    "                         * “correct” bei mc wenn richtige lösung\n",
    "                         * “pending” bei freitext, wenn lehrer noch nicht bewertet\n",
    "                      * rating: bei freetext\n",
    "      * sectionIdx\n",
    "      * subSectionIdx\n",
    "      * stage\n",
    "      * wentActive\n",
    "      * lastActive\n",
    "      * created\n",
    "* revisions\n",
    "   * _id\n",
    "   * taskSeriesId\n",
    "   * sectionIdx\n",
    "   * subSectionIdx\n",
    "   * begin\n",
    "   * accepted\n",
    "* workspaceContent\n",
    "   * type: 'revision'\n",
    "   * 'id': 'For-1_0_1'\n",
    "* chat\n",
    "   * messages\n",
    "      * [] liste mit allen messages\n",
    "         * date\n",
    "         * sentBy: zB \"auto\"\n",
    "         * message: string mit message\n",
    "   * readUpTo\n",
    "* assists\n",
    "* experience\n",
    "* lastNotificationUpdate"
   ]
  },
  {
   "cell_type": "markdown",
   "metadata": {},
   "source": [
    "# EDA\n",
    "\n",
    "## Alle tasks für einen Schüler checken"
   ]
  },
  {
   "cell_type": "code",
   "execution_count": 35,
   "metadata": {},
   "outputs": [
    {
     "name": "stdout",
     "output_type": "stream",
     "text": [
      "[7, 10, 7, 10, 15, 5, 4, 5, 3, 1, 3, 23, 10, 8, 11, 1, 6, 5, 4, 1, 9, 4, 2, 38, 55, 5, 16, 28, 24, 2, 7, 13, 24, 13, 2, 11, 11, 5, 5, 4, 26, 17, 24, 29, 2, 16, 4, 12, 14, 14, 3, 17, 24, 8, 1, 4, 16, 16, 4, 2, 16, 33, 34]\n",
      "Minimal time: 1\n",
      "Maximal time: 55\n",
      "Average time in sec: 11.952380952380953\n"
     ]
    },
    {
     "data": {
      "image/png": "[encoded data removed]",
      "text/plain": [
       "<Figure size 432x288 with 1 Axes>"
      ]
     },
     "metadata": {
      "needs_background": "light"
     },
     "output_type": "display_data"
    }
   ],
   "source": [
    "#[\"solvedTaskSeries\"]#[\"currentSections\"]#[\"currentSubSections\"]\n",
    "len(pupils[0][\"solvedTaskSeries\"]) #24 tasks gelöst\n",
    "pupils[0][\"solvedTaskSeries\"]\n",
    "\n",
    "durations = []\n",
    "\n",
    "for task in range(len(pupils[0][\"solvedTaskSeries\"])): #alle tasks für einen schüler\n",
    "    #print(\"task \" + str(task))\n",
    "    #print(data[0][\"solvedTaskSeries\"][task])\n",
    "    for section in pupils[0][\"solvedTaskSeries\"][task][\"currentSections\"]: #für diese tasks, alle sections\n",
    "        #print(\"section \")\n",
    "        #print(type(section)) --> dict\n",
    "        #print(section[\"currentSubSections\"][0])\n",
    "        for subsection in pupils[0][\"solvedTaskSeries\"][task][\"currentSections\"][0][\"currentSubSections\"]:\n",
    "            #print(\"subsection\")\n",
    "            #print(subsection[\"duration\"])\n",
    "            durations.append(subsection[\"duration\"])\n",
    "\n",
    "            \n",
    "#durations:\n",
    "print(durations)\n",
    "print(\"Minimal time: \" + str(min(durations)))\n",
    "print(\"Maximal time: \" + str(max(durations)))\n",
    "print(\"Average time in sec: \" + str(sum(durations)/len(durations)))       \n",
    "plt.hist(durations, bins=max(durations))\n",
    "plt.show()"
   ]
  },
  {
   "cell_type": "markdown",
   "metadata": {},
   "source": [
    "## Durations nach Aufgabentyp"
   ]
  },
  {
   "cell_type": "code",
   "execution_count": 39,
   "metadata": {},
   "outputs": [
    {
     "name": "stdout",
     "output_type": "stream",
     "text": [
      "{'blockly': 213.6818086665271, 'multipleChoice': 76.4256860286948, 'freetext': 277.321554770318, 'survey': 52.75100942126514, 'inputField': 53.24590163934426, 'surveySlider': 21.224137931034484, 'noTask': 10.59476173153874}\n"
     ]
    }
   ],
   "source": [
    "tasktypes = [\"blockly\", \"multipleChoice\", \"freetext\", \"survey\", \"inputField\", \"surveySlider\", \"noTask\"]\n",
    "\n",
    "durations = { tasktype: {\"summe\": 0, \"count\": 0, \"avrg\": 0} for tasktype in tasktypes}\n",
    "\n",
    "missing_tasktype = []\n",
    "\n",
    "#for pupilnumber in range(len(pupils[0:5])): #für die ersten 5 schüler\n",
    "for pupilnumber in range(len(pupils)): #für jeden schüler\n",
    "    for tasknumber in range(len(pupils[pupilnumber][\"solvedTaskSeries\"])): #für jede seiner tasks\n",
    "        #print(pupilnumber, tasknumber)  --> macht er nur für einen? oder haben die anderen einfach keine?\n",
    "        for sectionnumber in range(len(pupils[pupilnumber][\"solvedTaskSeries\"][tasknumber][\"currentSections\"])): #für diese tasks, alle sections\n",
    "            for subsectionnumber in range(len(pupils[pupilnumber][\"solvedTaskSeries\"][tasknumber][\"currentSections\"][sectionnumber][\"currentSubSections\"])):\n",
    "                if(\"exercise\" in pupils[pupilnumber][\"solvedTaskSeries\"][tasknumber][\"currentSections\"][sectionnumber][\"currentSubSections\"][subsectionnumber].keys()): #nicht alle aufgaben haben eine exercise\n",
    "                    if pupils[pupilnumber][\"solvedTaskSeries\"][tasknumber][\"currentSections\"][sectionnumber][\"currentSubSections\"][subsectionnumber][\"exercise\"][\"subType\"] == \"blockly\":\n",
    "                        durations[\"blockly\"][\"summe\"] += pupils[pupilnumber][\"solvedTaskSeries\"][tasknumber][\"currentSections\"][sectionnumber][\"currentSubSections\"][subsectionnumber][\"duration\"]\n",
    "                        durations[\"blockly\"][\"count\"] += 1\n",
    "                    elif pupils[pupilnumber][\"solvedTaskSeries\"][tasknumber][\"currentSections\"][sectionnumber][\"currentSubSections\"][subsectionnumber][\"exercise\"][\"subType\"] == \"multipleChoice\":\n",
    "                        durations[\"multipleChoice\"][\"summe\"] += pupils[pupilnumber][\"solvedTaskSeries\"][tasknumber][\"currentSections\"][sectionnumber][\"currentSubSections\"][subsectionnumber][\"duration\"]\n",
    "                        durations[\"multipleChoice\"][\"count\"] += 1\n",
    "                    elif pupils[pupilnumber][\"solvedTaskSeries\"][tasknumber][\"currentSections\"][sectionnumber][\"currentSubSections\"][subsectionnumber][\"exercise\"][\"subType\"] == \"freetext\":\n",
    "                        durations[\"freetext\"][\"summe\"] += pupils[pupilnumber][\"solvedTaskSeries\"][tasknumber][\"currentSections\"][sectionnumber][\"currentSubSections\"][subsectionnumber][\"duration\"]\n",
    "                        durations[\"freetext\"][\"count\"] += 1\n",
    "                    elif pupils[pupilnumber][\"solvedTaskSeries\"][tasknumber][\"currentSections\"][sectionnumber][\"currentSubSections\"][subsectionnumber][\"exercise\"][\"subType\"] == \"survey\":\n",
    "                        durations[\"survey\"][\"summe\"] += pupils[pupilnumber][\"solvedTaskSeries\"][tasknumber][\"currentSections\"][sectionnumber][\"currentSubSections\"][subsectionnumber][\"duration\"]\n",
    "                        durations[\"survey\"][\"count\"] += 1\n",
    "                    elif pupils[pupilnumber][\"solvedTaskSeries\"][tasknumber][\"currentSections\"][sectionnumber][\"currentSubSections\"][subsectionnumber][\"exercise\"][\"subType\"] == \"inputField\":\n",
    "                        durations[\"inputField\"][\"summe\"] += pupils[pupilnumber][\"solvedTaskSeries\"][tasknumber][\"currentSections\"][sectionnumber][\"currentSubSections\"][subsectionnumber][\"duration\"]\n",
    "                        durations[\"inputField\"][\"count\"] += 1\n",
    "                    elif pupils[pupilnumber][\"solvedTaskSeries\"][tasknumber][\"currentSections\"][sectionnumber][\"currentSubSections\"][subsectionnumber][\"exercise\"][\"subType\"] == \"surveySlider\":\n",
    "                        durations[\"surveySlider\"][\"summe\"] += pupils[pupilnumber][\"solvedTaskSeries\"][tasknumber][\"currentSections\"][sectionnumber][\"currentSubSections\"][subsectionnumber][\"duration\"]\n",
    "                        durations[\"surveySlider\"][\"count\"] += 1\n",
    "                    else:\n",
    "                        if pupils[pupilnumber][\"solvedTaskSeries\"][tasknumber][\"currentSections\"][sectionnumber][\"currentSubSections\"][subsectionnumber][\"exercise\"][\"subType\"] not in missing_tasktype:\n",
    "                            missing_tasktype.append(pupils[pupilnumber][\"solvedTaskSeries\"][tasknumber][\"currentSections\"][sectionnumber][\"currentSubSections\"][subsectionnumber][\"exercise\"][\"subType\"])\n",
    "\n",
    "                else:\n",
    "                    durations[\"noTask\"][\"summe\"] += pupils[pupilnumber][\"solvedTaskSeries\"][tasknumber][\"currentSections\"][sectionnumber][\"currentSubSections\"][subsectionnumber][\"duration\"]\n",
    "                    durations[\"noTask\"][\"count\"] += 1\n",
    "                    #print(pupils[pupilnumber][\"solvedTaskSeries\"][tasknumber][\"currentSections\"][sectionnumber][\"currentSubSections\"][subsectionnumber][\"duration\"])\n",
    "#print(missing_tasktype)\n",
    "\n",
    "for tasktype in durations:\n",
    "    durations[tasktype][\"avrg\"] = durations[tasktype][\"summe\"]/durations[tasktype][\"count\"]\n",
    "    \n",
    "#print(durations)\n",
    "\n",
    "#avrg_durations = [durations[tasktype][\"avrg\"] for tasktype in durations]\n",
    "avrg_durations = {tasktype: durations[tasktype][\"avrg\"] for tasktype in durations}\n",
    "print(avrg_durations)"
   ]
  },
  {
   "cell_type": "code",
   "execution_count": 40,
   "metadata": {},
   "outputs": [
    {
     "data": {
      "text/plain": [
       "([<matplotlib.axis.XTick at 0x7f9488c98c90>,\n",
       "  <matplotlib.axis.XTick at 0x7f9488c7ffd0>,\n",
       "  <matplotlib.axis.XTick at 0x7f9488c982d0>,\n",
       "  <matplotlib.axis.XTick at 0x7f9488cc49d0>,\n",
       "  <matplotlib.axis.XTick at 0x7f9488cc4490>,\n",
       "  <matplotlib.axis.XTick at 0x7f9488ae0510>,\n",
       "  <matplotlib.axis.XTick at 0x7f9488ae0d10>],\n",
       " [Text(0, 0, 'blockly'),\n",
       "  Text(1, 0, 'multipleChoice'),\n",
       "  Text(2, 0, 'freetext'),\n",
       "  Text(3, 0, 'survey'),\n",
       "  Text(4, 0, 'inputField'),\n",
       "  Text(5, 0, 'surveySlider'),\n",
       "  Text(6, 0, 'noTask')])"
      ]
     },
     "execution_count": 40,
     "metadata": {},
     "output_type": "execute_result"
    },
    {
     "data": {
      "image/png": "[encoded data removed]",
      "text/plain": [
       "<Figure size 432x288 with 1 Axes>"
      ]
     },
     "metadata": {
      "needs_background": "light"
     },
     "output_type": "display_data"
    }
   ],
   "source": [
    "plt.bar(range(len(avrg_durations)), list(avrg_durations.values()), align='center')\n",
    "plt.xticks(range(len(avrg_durations)), list(avrg_durations.keys()), rotation=90)"
   ]
  },
  {
   "cell_type": "markdown",
   "metadata": {},
   "source": [
    "## Nur für das KI Paket\n",
    "\n",
    "### Wie viele Klassen haben es gemacht? Wie viele SuS?"
   ]
  },
  {
   "cell_type": "code",
   "execution_count": 39,
   "metadata": {},
   "outputs": [
    {
     "name": "stdout",
     "output_type": "stream",
     "text": [
      "{'uxfuiLT4xZA6yvE6L': {'count': 2}, 'qFEyvypMn4sAwLwtc': {'count': 26}, 'y7j9eKDPsqNkAycuy': {'count': 1}, '6Z2MmkKQKebb7nz8P': {'count': 1}, '4fyXxCKaLbCBaPbYE': {'count': 1}}\n",
      "\n",
      "Zur Zeit gibt es 26 sus, die das KI Paket bearbeitet haben\n"
     ]
    }
   ],
   "source": [
    "# taskseriesIDs vom KI Paket:\n",
    "KI_taskseries_ids = [\"AI-1-v2\", \"AI-2-v2\", \"AI-3-v2\", \"AI-4-v2\", \"ML-1\", \"ML-2\", \"ML-3\", \"Classification-1\", \"Clustering-1\", \"Classification-2\", \"Clustering-2\", \"LimitsML\", \"EvalML\", \"Impact-1\", \"Impact-2\", \"Impact-3\", \"Impact-4\", \"AIClosing\"]\n",
    "\n",
    "classIDsKI = []\n",
    "pupilsKI = []\n",
    "\n",
    "for pupilnumber in range(len(pupils)): #für jeden schüler\n",
    "    for tasknumber in range(len(pupils[pupilnumber][\"solvedTaskSeries\"])): #für jede seiner tasks\n",
    "        if(pupils[pupilnumber][\"solvedTaskSeries\"][tasknumber][\"taskSeriesId\"] in KI_taskseries_ids):\n",
    "            for sectionnumber in range(len(pupils[pupilnumber][\"solvedTaskSeries\"][tasknumber][\"currentSections\"])): #für diese tasks, alle sections\n",
    "                for subsectionnumber in range(len(pupils[pupilnumber][\"solvedTaskSeries\"][tasknumber][\"currentSections\"][sectionnumber][\"currentSubSections\"])):\n",
    "                    if(\"exercise\" in pupils[pupilnumber][\"solvedTaskSeries\"][tasknumber][\"currentSections\"][sectionnumber][\"currentSubSections\"][subsectionnumber].keys()):\n",
    "                        if pupils[pupilnumber][\"classId\"] not in classIDsKI:\n",
    "                            classIDsKI.append(pupils[pupilnumber][\"classId\"])\n",
    "                        if pupils[pupilnumber] not in pupilsKI:\n",
    "                            pupilsKI.append(pupils[pupilnumber])\n",
    "\n",
    "#print(classIDsKI) #--> ['uxfuiLT4xZA6yvE6L', 'qFEyvypMn4sAwLwtc', 'y7j9eKDPsqNkAycuy', '6Z2MmkKQKebb7nz8P', '4fyXxCKaLbCBaPbYE']\n",
    "#print(len(pupils), len(pupilsKI)) --> 31 in pupilsKI\n",
    "\n",
    "KI_classes = {classID: {\"count\": 0} for classID in classIDsKI}\n",
    "\n",
    "for pupil in pupilsKI:\n",
    "    KI_classes[pupil[\"classId\"]][\"count\"] += 1\n",
    "\n",
    "print(KI_classes)\n",
    "print(\"\")\n",
    "\n",
    "# Jetzt nur die Klassen mit genügend SuS auswählen\n",
    "final_pupils_KI = []\n",
    "min_class_size = 10\n",
    "\n",
    "# TODO: Klasse qFEyvypMn4sAwLwtc hatte einen fehler bei der aufgabe mit isa. da true false inverten!\n",
    "\n",
    "for pupil in pupilsKI:\n",
    "    if(KI_classes[pupil[\"classId\"]][\"count\"] >= min_class_size):\n",
    "        final_pupils_KI.append(pupil)\n",
    "\n",
    "print(\"Zur Zeit gibt es \" + str(len(final_pupils_KI)) + \" sus, die das KI Paket bearbeitet haben\")"
   ]
  },
  {
   "cell_type": "markdown",
   "metadata": {},
   "source": [
    "### Wie viele Aufgaben haben die SuS jeweils gemacht?"
   ]
  },
  {
   "cell_type": "code",
   "execution_count": 41,
   "metadata": {},
   "outputs": [
    {
     "name": "stdout",
     "output_type": "stream",
     "text": [
      "NR tasks per pupil: [18, 18, 3, 11, 18, 10, 10, 18, 15, 11, 13, 15, 4, 2, 6, 6, 12, 11, 18, 18, 18, 3, 5, 9, 9, 1]\n",
      "Completion rates: [100, 100, 16, 61, 100, 55, 55, 100, 83, 61, 72, 83, 22, 11, 33, 33, 66, 61, 100, 100, 100, 16, 27, 50, 50, 5]\n",
      "\n",
      "\n",
      "Number SuS in each quartile: [5, 5, 7, 9]\n",
      "Percent of students that have completed these quarts: [19.23, 19.23, 26.92, 34.62]\n"
     ]
    },
    {
     "ename": "NameError",
     "evalue": "name 'completion_rate' is not defined",
     "output_type": "error",
     "traceback": [
      "\u001b[0;31m---------------------------------------------------------------------------\u001b[0m",
      "\u001b[0;31mNameError\u001b[0m                                 Traceback (most recent call last)",
      "\u001b[0;32m<ipython-input-41-1b2141aed3ad>\u001b[0m in \u001b[0;36m<module>\u001b[0;34m\u001b[0m\n\u001b[1;32m     49\u001b[0m \u001b[0;34m\u001b[0m\u001b[0m\n\u001b[1;32m     50\u001b[0m \u001b[0max2\u001b[0m \u001b[0;34m=\u001b[0m \u001b[0mplt\u001b[0m\u001b[0;34m.\u001b[0m\u001b[0msubplot\u001b[0m\u001b[0;34m(\u001b[0m\u001b[0;36m412\u001b[0m\u001b[0;34m)\u001b[0m\u001b[0;34m\u001b[0m\u001b[0;34m\u001b[0m\u001b[0m\n\u001b[0;32m---> 51\u001b[0;31m \u001b[0max2\u001b[0m\u001b[0;34m.\u001b[0m\u001b[0mhist\u001b[0m\u001b[0;34m(\u001b[0m\u001b[0mcompletion_rates\u001b[0m\u001b[0;34m,\u001b[0m \u001b[0mbins\u001b[0m\u001b[0;34m=\u001b[0m\u001b[0mnp\u001b[0m\u001b[0;34m.\u001b[0m\u001b[0mmax\u001b[0m\u001b[0;34m(\u001b[0m\u001b[0mcompletion_rate\u001b[0m\u001b[0;34m)\u001b[0m\u001b[0;34m)\u001b[0m\u001b[0;34m\u001b[0m\u001b[0;34m\u001b[0m\u001b[0m\n\u001b[0m\u001b[1;32m     52\u001b[0m \u001b[0max2\u001b[0m\u001b[0;34m.\u001b[0m\u001b[0mset_xlim\u001b[0m\u001b[0;34m(\u001b[0m\u001b[0;34m[\u001b[0m\u001b[0;36m0\u001b[0m\u001b[0;34m,\u001b[0m \u001b[0mmax\u001b[0m\u001b[0;34m(\u001b[0m\u001b[0mcompletion_rates\u001b[0m\u001b[0;34m)\u001b[0m\u001b[0;34m]\u001b[0m\u001b[0;34m)\u001b[0m\u001b[0;34m\u001b[0m\u001b[0;34m\u001b[0m\u001b[0m\n\u001b[1;32m     53\u001b[0m \u001b[0max2\u001b[0m\u001b[0;34m.\u001b[0m\u001b[0mset_ylim\u001b[0m\u001b[0;34m(\u001b[0m\u001b[0;34m[\u001b[0m\u001b[0;36m0\u001b[0m\u001b[0;34m,\u001b[0m \u001b[0mcompletion_rate\u001b[0m\u001b[0;34m.\u001b[0m\u001b[0mcount\u001b[0m\u001b[0;34m(\u001b[0m\u001b[0mmode\u001b[0m\u001b[0;34m(\u001b[0m\u001b[0mcompletion_rates\u001b[0m\u001b[0;34m)\u001b[0m\u001b[0;34m)\u001b[0m\u001b[0;34m+\u001b[0m\u001b[0;36m1\u001b[0m\u001b[0;34m]\u001b[0m\u001b[0;34m)\u001b[0m\u001b[0;34m\u001b[0m\u001b[0;34m\u001b[0m\u001b[0m\n",
      "\u001b[0;31mNameError\u001b[0m: name 'completion_rate' is not defined"
     ]
    },
    {
     "data": {
      "image/png": "[encoded data removed]",
      "text/plain": [
       "<Figure size 576x1440 with 4 Axes>"
      ]
     },
     "metadata": {
      "needs_background": "light"
     },
     "output_type": "display_data"
    }
   ],
   "source": [
    "nr_tasks_per_pupil = []\n",
    "\n",
    "# Könnte für jeden SoS schauen, ob sie alle aufgaben gemacht haben.\n",
    "for pupil in final_pupils_KI:\n",
    "    nr_tasks_per_pupil.append(len(pupil[\"solvedTaskSeries\"]))\n",
    "\n",
    "print(\"NR tasks per pupil: \" + str(nr_tasks_per_pupil))\n",
    "nr_all_tasks = 18\n",
    "\n",
    "completion_rates = [int((nr_tasks/nr_all_tasks)*100) for nr_tasks in nr_tasks_per_pupil]\n",
    "print(\"Completion rates: \" + str(completion_rates))\n",
    "print(\"\\n\")\n",
    "\n",
    "\n",
    "\n",
    "\n",
    "# SUS per QUARTILE\n",
    "quartiles = [0 for quartile in range(1, 5)]\n",
    "\n",
    "for rate in completion_rates:\n",
    "    if (rate<=25):\n",
    "        quartiles[0] += 1\n",
    "    elif(rate > 25 and rate <=50):\n",
    "        quartiles[1] += 1\n",
    "    elif(rate > 50 and rate <=75):\n",
    "        quartiles[2] += 1\n",
    "    elif(rate > 75 and rate <=100):\n",
    "        quartiles[3] += 1\n",
    "\n",
    "print(\"Number SuS in each quartile: \" + str(quartiles)) \n",
    "\n",
    "# in percent\n",
    "percentage_sus_per_quart = [round((number/np.sum(quartiles))*100, 2) for number in quartiles]\n",
    "print(\"Percent of students that have completed these quarts: \" + str(percentage_sus_per_quart))\n",
    "\n",
    "\n",
    "\n",
    "\n",
    "\n",
    "# PLOTS\n",
    "fig, (ax1,ax2, ax3, ax4) = plt.subplots(nrows=4,ncols=1,figsize=(8,20))\n",
    "\n",
    "ax1 = plt.subplot(411)\n",
    "ax1.hist(nr_tasks_per_pupil, bins=np.max(nr_tasks_per_pupil)+1)\n",
    "#ax1.set_title('Numbers of Tasks')\n",
    "ax1.set_xlabel( \"Numbers of Tasks\" , size = 12 )\n",
    "ax1.set_xlim([0, max(nr_tasks_per_pupil)])\n",
    "ax1.set_ylim([0, nr_tasks_per_pupil.count(mode(nr_tasks_per_pupil))+1])\n",
    "\n",
    "ax2 = plt.subplot(412)\n",
    "ax2.hist(completion_rates, bins=np.max(completion_rate))\n",
    "ax2.set_xlim([0, max(completion_rates)])\n",
    "ax2.set_ylim([0, completion_rate.count(mode(completion_rates))+1])\n",
    "\n",
    "\n",
    "ax3 = plt.subplot(413)\n",
    "ax3.bar([elem + 0.5 for elem in range(len(quartiles))], quartiles)\n",
    "ax3.set_xlim([0, len(quartiles)])\n",
    "ax3.set_ylim([0, max(quartiles)+1])\n",
    "\n",
    "ax4 = plt.subplot(414)\n",
    "ax4.bar([elem + 0.5 for elem in range(len(percentage_sus_per_quart))], percentage_sus_per_quart)\n",
    "ax4.set_xlim([0, len(percentage_sus_per_quart)])\n",
    "ax4.set_ylim([0, max(percentage_sus_per_quart)+1])\n",
    "\n",
    "plt.show()\n",
    "\n",
    "\n",
    "\"\"\"\n",
    "TODO:\n",
    "- kumulativ: wie viele SuS haben mindestens X aufgaben gelöst?\n",
    "\"\"\""
   ]
  },
  {
   "cell_type": "code",
   "execution_count": 237,
   "metadata": {},
   "outputs": [
    {
     "name": "stdout",
     "output_type": "stream",
     "text": [
      "[  5  11  16  16  22  27  33  33  50  50  55  55  61  61  61  66  72  83\n",
      "  83 100 100 100 100 100 100 100]\n"
     ]
    }
   ],
   "source": [
    "sorted_completion_rates = np.sort(completion_rates)\n",
    "print(sorted_completion_rates)\n",
    "\n",
    "#kum_completion_rates = [elem for elem in np.sort(completion_rates) if ]"
   ]
  },
  {
   "cell_type": "markdown",
   "metadata": {},
   "source": [
    "### Durations KI Paket"
   ]
  },
  {
   "cell_type": "code",
   "execution_count": 229,
   "metadata": {},
   "outputs": [
    {
     "name": "stdout",
     "output_type": "stream",
     "text": [
      "\n",
      "\n",
      "total_duration                399.00\n",
      "total_duration_minutes          6.65\n",
      "number_tasks                    4.00\n",
      "avg_duration_per_task_secs     22.24\n",
      "dtype: float64\n",
      "\n",
      "\n",
      "total_duration                8445.00\n",
      "total_duration_minutes         140.75\n",
      "number_tasks                    80.00\n",
      "avg_duration_per_task_secs     288.11\n",
      "dtype: float64\n"
     ]
    },
    {
     "data": {
      "image/png": "[encoded data removed]",
      "text/plain": [
       "<Figure size 432x288 with 1 Axes>"
      ]
     },
     "metadata": {
      "needs_background": "light"
     },
     "output_type": "display_data"
    },
    {
     "data": {
      "image/png": "[encoded data removed]",
      "text/plain": [
       "<Figure size 432x288 with 1 Axes>"
      ]
     },
     "metadata": {
      "needs_background": "light"
     },
     "output_type": "display_data"
    },
    {
     "data": {
      "text/html": [
       "<div>\n",
       "<style scoped>\n",
       "    .dataframe tbody tr th:only-of-type {\n",
       "        vertical-align: middle;\n",
       "    }\n",
       "\n",
       "    .dataframe tbody tr th {\n",
       "        vertical-align: top;\n",
       "    }\n",
       "\n",
       "    .dataframe thead th {\n",
       "        text-align: right;\n",
       "    }\n",
       "</style>\n",
       "<table border=\"1\" class=\"dataframe\">\n",
       "  <thead>\n",
       "    <tr style=\"text-align: right;\">\n",
       "      <th></th>\n",
       "      <th>total_duration</th>\n",
       "      <th>total_duration_minutes</th>\n",
       "      <th>number_tasks</th>\n",
       "      <th>avg_duration_per_task_secs</th>\n",
       "    </tr>\n",
       "  </thead>\n",
       "  <tbody>\n",
       "    <tr>\n",
       "      <th>count</th>\n",
       "      <td>26.000000</td>\n",
       "      <td>26.000000</td>\n",
       "      <td>26.000000</td>\n",
       "      <td>26.000000</td>\n",
       "    </tr>\n",
       "    <tr>\n",
       "      <th>mean</th>\n",
       "      <td>4921.769231</td>\n",
       "      <td>82.029487</td>\n",
       "      <td>45.730769</td>\n",
       "      <td>140.498462</td>\n",
       "    </tr>\n",
       "    <tr>\n",
       "      <th>std</th>\n",
       "      <td>2355.092683</td>\n",
       "      <td>39.251545</td>\n",
       "      <td>26.785903</td>\n",
       "      <td>73.217406</td>\n",
       "    </tr>\n",
       "    <tr>\n",
       "      <th>min</th>\n",
       "      <td>399.000000</td>\n",
       "      <td>6.650000</td>\n",
       "      <td>4.000000</td>\n",
       "      <td>22.240000</td>\n",
       "    </tr>\n",
       "    <tr>\n",
       "      <th>25%</th>\n",
       "      <td>3077.500000</td>\n",
       "      <td>51.291667</td>\n",
       "      <td>24.000000</td>\n",
       "      <td>69.660000</td>\n",
       "    </tr>\n",
       "    <tr>\n",
       "      <th>50%</th>\n",
       "      <td>4607.500000</td>\n",
       "      <td>76.791667</td>\n",
       "      <td>44.000000</td>\n",
       "      <td>141.640000</td>\n",
       "    </tr>\n",
       "    <tr>\n",
       "      <th>75%</th>\n",
       "      <td>7058.750000</td>\n",
       "      <td>117.645833</td>\n",
       "      <td>76.250000</td>\n",
       "      <td>191.180000</td>\n",
       "    </tr>\n",
       "    <tr>\n",
       "      <th>max</th>\n",
       "      <td>8445.000000</td>\n",
       "      <td>140.750000</td>\n",
       "      <td>80.000000</td>\n",
       "      <td>288.110000</td>\n",
       "    </tr>\n",
       "  </tbody>\n",
       "</table>\n",
       "</div>"
      ],
      "text/plain": [
       "       total_duration  total_duration_minutes  number_tasks  \\\n",
       "count       26.000000               26.000000     26.000000   \n",
       "mean      4921.769231               82.029487     45.730769   \n",
       "std       2355.092683               39.251545     26.785903   \n",
       "min        399.000000                6.650000      4.000000   \n",
       "25%       3077.500000               51.291667     24.000000   \n",
       "50%       4607.500000               76.791667     44.000000   \n",
       "75%       7058.750000              117.645833     76.250000   \n",
       "max       8445.000000              140.750000     80.000000   \n",
       "\n",
       "       avg_duration_per_task_secs  \n",
       "count                   26.000000  \n",
       "mean                   140.498462  \n",
       "std                     73.217406  \n",
       "min                     22.240000  \n",
       "25%                     69.660000  \n",
       "50%                    141.640000  \n",
       "75%                    191.180000  \n",
       "max                    288.110000  "
      ]
     },
     "execution_count": 229,
     "metadata": {},
     "output_type": "execute_result"
    }
   ],
   "source": [
    "per_student = {str(pupil[\"_id\"]): {\"total_duration\": 0, \"total_duration_minutes\": 0,\"number_tasks\": 0, \"avg_duration_per_task_secs\": 0} for pupil in final_pupils_KI}\n",
    "\n",
    "for pupil in final_pupils_KI: #für jeden schüler\n",
    "    #print(pupil)\n",
    "    for task in pupil[\"solvedTaskSeries\"]:\n",
    "        #print(task)\n",
    "        for subsections in task[\"currentSections\"]:\n",
    "            #print(subsections)\n",
    "            for subsection in subsections[\"currentSubSections\"]:\n",
    "                #total_duration += subsection[\"duration\"]\n",
    "                #total_task_count += 1\n",
    "                per_student[pupil[\"_id\"]][\"total_duration\"] += subsection[\"duration\"]\n",
    "                per_student[pupil[\"_id\"]][\"number_tasks\"] += 1\n",
    "                pass\n",
    "    per_student[pupil[\"_id\"]][\"avg_duration_per_task_secs\"] = round(per_student[pupil[\"_id\"]][\"total_duration\"]/per_student[pupil[\"_id\"]][\"number_tasks\"], 2)\n",
    "    per_student[pupil[\"_id\"]][\"total_duration_minutes\"] = per_student[pupil[\"_id\"]][\"total_duration\"]/60\n",
    "\n",
    "#print(\"Average Duration KI Paket: \" + str(total_duration / len(final_pupils_KI)))\n",
    "#print(per_student)\n",
    "\n",
    "per_student_df = pd.DataFrame.from_dict(per_student).T\n",
    "\n",
    "print(\"\\n\")\n",
    "print(per_student_df.min())\n",
    "print(\"\\n\")\n",
    "print(per_student_df.max())\n",
    "\n",
    "#plt.hist(per_student_df[\"total_duration_minutes\"], bins=int(per_student_df[\"total_duration_minutes\"].max()))\n",
    "plt.hist(per_student_df[\"total_duration_minutes\"], bins=30)\n",
    "plt.xlabel(\"Total duration in Minutes\")\n",
    "plt.show()\n",
    "#plt.hist(per_student_df[\"avg_duration_per_task_secs\"], bins=int(per_student_df[\"avg_duration_per_task_secs\"].max())+1)\n",
    "plt.hist(per_student_df[\"avg_duration_per_task_secs\"], bins=30)\n",
    "plt.xlabel(\"Average duration per Tasks in seconds\")\n",
    "plt.show()\n",
    "\n",
    "per_student_df.describe()\n",
    "\n",
    "# TODO: plotten"
   ]
  },
  {
   "cell_type": "markdown",
   "metadata": {},
   "source": [
    "# Eine Spezifische Aufgabe auswählend"
   ]
  },
  {
   "cell_type": "code",
   "execution_count": null,
   "metadata": {},
   "outputs": [],
   "source": [
    "# TODO:\n",
    "# für jede aufgabe im KI Paket schauen, wie lange die average duration ist\n",
    "# schwerste und leichteste aufgabe (nach duration)"
   ]
  },
  {
   "cell_type": "markdown",
   "metadata": {},
   "source": [
    "# MCs"
   ]
  },
  {
   "cell_type": "code",
   "execution_count": 36,
   "metadata": {},
   "outputs": [],
   "source": [
    "# TODO\n",
    "# MC antworten bei eval"
   ]
  },
  {
   "cell_type": "markdown",
   "metadata": {},
   "source": [
    "# Freitext antworten"
   ]
  },
  {
   "cell_type": "code",
   "execution_count": 37,
   "metadata": {},
   "outputs": [],
   "source": [
    "# TODO\n",
    "# antworten checken\n",
    "# lehrer bewertungen\n",
    "# lehrer feedback"
   ]
  },
  {
   "cell_type": "markdown",
   "metadata": {},
   "source": [
    "# Reste\n",
    "* hilfeanfragen\n",
    "* zeitpunkt der aufgabe\n",
    "* chat"
   ]
  },
  {
   "cell_type": "code",
   "execution_count": null,
   "metadata": {},
   "outputs": [],
   "source": []
  },
  {
   "cell_type": "code",
   "execution_count": null,
   "metadata": {},
   "outputs": [],
   "source": []
  }
 ],
 "metadata": {
  "kernelspec": {
   "display_name": "Python 3",
   "language": "python",
   "name": "python3"
  },
  "language_info": {
   "codemirror_mode": {
    "name": "ipython",
    "version": 3
   },
   "file_extension": ".py",
   "mimetype": "text/x-python",
   "name": "python",
   "nbconvert_exporter": "python",
   "pygments_lexer": "ipython3",
   "version": "3.7.6"
  }
 },
 "nbformat": 4,
 "nbformat_minor": 4
}
