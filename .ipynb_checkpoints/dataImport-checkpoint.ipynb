{
 "cells": [
  {
   "cell_type": "code",
   "execution_count": 2,
   "metadata": {},
   "outputs": [],
   "source": [
    "import json\n",
    "import pandas as pd\n",
    "import matplotlib.pyplot as plt"
   ]
  },
  {
   "cell_type": "markdown",
   "metadata": {},
   "source": [
    "# Parsing the JSON to dictionary"
   ]
  },
  {
   "cell_type": "code",
   "execution_count": 3,
   "metadata": {},
   "outputs": [
    {
     "data": {
      "text/plain": [
       "2715"
      ]
     },
     "execution_count": 3,
     "metadata": {},
     "output_type": "execute_result"
    }
   ],
   "source": [
    "pupils = json.load(open('pupils.json', 'r'))    # result will be a python dictionary\n",
    "\n",
    "#jeder entry ist ein schüler: zB data[0]\n",
    "len(pupils)\n",
    "#2214"
   ]
  },
  {
   "cell_type": "code",
   "execution_count": 4,
   "metadata": {},
   "outputs": [
    {
     "data": {
      "text/plain": [
       "dict_keys(['_id', 'classId', 'userId', 'companyId', 'partner', 'lang', 'username', 'shownTaskSeries', 'currentTaskSeries', 'solvedTaskSeries', 'revisions', 'workspaceContent', 'chat', 'assists', 'experience', 'lastNotificationUpdate'])"
      ]
     },
     "execution_count": 4,
     "metadata": {},
     "output_type": "execute_result"
    }
   ],
   "source": [
    "pupils[0].keys()\n",
    "#['_id', 'classId', 'userId', 'companyId', 'partner', 'lang', 'username', 'shownTaskSeries', 'currentTaskSeries', 'solvedTaskSeries', 'revisions', 'workspaceContent', 'chat', 'assists', 'experience', 'lastNotificationUpdate']"
   ]
  },
  {
   "cell_type": "markdown",
   "metadata": {},
   "source": [
    "* _id\n",
    "* classId\n",
    "* userId\n",
    "* companyId\n",
    "* partner\n",
    "* lang\n",
    "* username\n",
    "* shownTaskSeries\n",
    "* currentTaskSeries\n",
    "* solvedTaskSeries\n",
    "    * taskSeriesId\n",
    "    * currentSections\n",
    "        * currentSubSections\n",
    "            * duration (in sekunden)\n",
    "            * exercise\n",
    "                * state:\n",
    "                    * text bei freitext in p tags\n",
    "                    * 0, 1, 0... bei survey\n",
    "                    * false, true, false bei MC\n",
    "                * submitted: true\n",
    "                * subType “freetext”, “survey”, “multipleChoice”\n",
    "                * history: wahrscheinlich alte versionen bei freetext\n",
    "                * falseAttempts bei MC: bool array mit erster lösung\n",
    "                * evaluation: (bool) bei freetext und MC\n",
    "                    * “false” bei mc wenn falsche lösung und keine tipps → direkt musterlösung\n",
    "                    * “correct” bei mc wenn richtige lösung\n",
    "                    * “pending” bei freitext, wenn lehrer noch nicht bewertet\n",
    "                * rating: bei freetext\n",
    "    * revisions\n",
    "        * (id, taskseriesid, was um die section zu finden)\n",
    "        * accepted: false\n",
    "        * …\n",
    "    * chat\n",
    "    * assists\n",
    "    * experience"
   ]
  },
  {
   "cell_type": "markdown",
   "metadata": {},
   "source": [
    "# EDA\n",
    "\n",
    "## Alle tasks für einen Schüler checken"
   ]
  },
  {
   "cell_type": "code",
   "execution_count": 5,
   "metadata": {},
   "outputs": [
    {
     "name": "stdout",
     "output_type": "stream",
     "text": [
      "[7, 10, 7, 10, 15, 5, 4, 5, 3, 1, 3, 23, 10, 8, 11, 1, 6, 5, 4, 1, 9, 4, 2, 38, 55, 5, 16, 28, 24, 2, 7, 13, 24, 13, 2, 11, 11, 5, 5, 4, 26, 17, 24, 29, 2, 16, 4, 12, 14, 14, 3, 17, 24, 8, 1, 4, 16, 16, 4, 2, 16, 33, 34]\n",
      "Minimal time: 1\n",
      "Maximal time: 55\n",
      "Average time in sec: 11.952380952380953\n"
     ]
    },
    {
     "data": {
      "text/plain": [
       "(array([4., 5., 3., 7., 6., 1., 3., 2., 1., 3., 3., 1., 2., 2., 1., 5., 2.,\n",
       "        0., 0., 0., 0., 0., 1., 4., 0., 1., 0., 1., 1., 0., 0., 0., 1., 1.,\n",
       "        0., 0., 0., 1., 0., 0., 0., 0., 0., 0., 0., 0., 0., 0., 0., 0., 0.,\n",
       "        0., 0., 0., 1.]),\n",
       " array([ 1.        ,  1.98181818,  2.96363636,  3.94545455,  4.92727273,\n",
       "         5.90909091,  6.89090909,  7.87272727,  8.85454545,  9.83636364,\n",
       "        10.81818182, 11.8       , 12.78181818, 13.76363636, 14.74545455,\n",
       "        15.72727273, 16.70909091, 17.69090909, 18.67272727, 19.65454545,\n",
       "        20.63636364, 21.61818182, 22.6       , 23.58181818, 24.56363636,\n",
       "        25.54545455, 26.52727273, 27.50909091, 28.49090909, 29.47272727,\n",
       "        30.45454545, 31.43636364, 32.41818182, 33.4       , 34.38181818,\n",
       "        35.36363636, 36.34545455, 37.32727273, 38.30909091, 39.29090909,\n",
       "        40.27272727, 41.25454545, 42.23636364, 43.21818182, 44.2       ,\n",
       "        45.18181818, 46.16363636, 47.14545455, 48.12727273, 49.10909091,\n",
       "        50.09090909, 51.07272727, 52.05454545, 53.03636364, 54.01818182,\n",
       "        55.        ]),\n",
       " <BarContainer object of 55 artists>)"
      ]
     },
     "execution_count": 5,
     "metadata": {},
     "output_type": "execute_result"
    },
    {
     "data": {
      "image/png": "[encoded data removed]",
      "text/plain": [
       "<Figure size 432x288 with 1 Axes>"
      ]
     },
     "metadata": {
      "needs_background": "light"
     },
     "output_type": "display_data"
    }
   ],
   "source": [
    "#[\"solvedTaskSeries\"]#[\"currentSections\"]#[\"currentSubSections\"]\n",
    "len(pupils[0][\"solvedTaskSeries\"]) #24 tasks gelöst\n",
    "pupils[0][\"solvedTaskSeries\"]\n",
    "\n",
    "durations = []\n",
    "\n",
    "for task in range(len(pupils[0][\"solvedTaskSeries\"])): #alle tasks für einen schüler\n",
    "    #print(\"task \" + str(task))\n",
    "    #print(data[0][\"solvedTaskSeries\"][task])\n",
    "    for section in pupils[0][\"solvedTaskSeries\"][task][\"currentSections\"]: #für diese tasks, alle sections\n",
    "        #print(\"section \")\n",
    "        #print(type(section)) --> dict\n",
    "        #print(section[\"currentSubSections\"][0])\n",
    "        for subsection in pupils[0][\"solvedTaskSeries\"][task][\"currentSections\"][0][\"currentSubSections\"]:\n",
    "            #print(\"subsection\")\n",
    "            #print(subsection[\"duration\"])\n",
    "            durations.append(subsection[\"duration\"])\n",
    "\n",
    "            \n",
    "#durations:\n",
    "print(durations)\n",
    "print(\"Minimal time: \" + str(min(durations)))\n",
    "print(\"Maximal time: \" + str(max(durations)))\n",
    "print(\"Average time in sec: \" + str(sum(durations)/len(durations)))       \n",
    "plt.hist(durations, bins=max(durations))"
   ]
  },
  {
   "cell_type": "code",
   "execution_count": 97,
   "metadata": {},
   "outputs": [
    {
     "name": "stdout",
     "output_type": "stream",
     "text": [
      "<class 'list'>\n"
     ]
    }
   ],
   "source": [
    "durations = []\n",
    "\n",
    "print(type(pupils))\n",
    "\n",
    "for pupil in pupils:\n",
    "    #durations.append([])\n",
    "    for task in range(len(pupils[0][\"solvedTaskSeries\"])): #alle tasks für einen schüler\n",
    "        #print(\"task \" + str(task))\n",
    "        #print(data[0][\"solvedTaskSeries\"][task])\n",
    "        for section in pupils[0][\"solvedTaskSeries\"][task][\"currentSections\"]: #für diese tasks, alle sections\n",
    "            #print(\"section \")\n",
    "            #print(type(section)) --> dict\n",
    "            #print(section[\"currentSubSections\"][0])\n",
    "            for subsection in pupils[0][\"solvedTaskSeries\"][task][\"currentSections\"][0][\"currentSubSections\"]:\n",
    "                #print(\"subsection\")\n",
    "                #print(subsection[\"duration\"])\n",
    "                #durations.append(subsection[\"duration\"])\n",
    "                pass\n",
    "\n"
   ]
  },
  {
   "cell_type": "code",
   "execution_count": null,
   "metadata": {},
   "outputs": [],
   "source": []
  },
  {
   "cell_type": "code",
   "execution_count": null,
   "metadata": {},
   "outputs": [],
   "source": []
  },
  {
   "cell_type": "code",
   "execution_count": null,
   "metadata": {},
   "outputs": [],
   "source": []
  },
  {
   "cell_type": "code",
   "execution_count": null,
   "metadata": {},
   "outputs": [],
   "source": []
  },
  {
   "cell_type": "code",
   "execution_count": 39,
   "metadata": {},
   "outputs": [
    {
     "name": "stdout",
     "output_type": "stream",
     "text": [
      "['inputField', 'surveySlider']\n"
     ]
    },
    {
     "ename": "ZeroDivisionError",
     "evalue": "division by zero",
     "output_type": "error",
     "traceback": [
      "\u001b[0;31m---------------------------------------------------------------------------\u001b[0m",
      "\u001b[0;31mZeroDivisionError\u001b[0m                         Traceback (most recent call last)",
      "\u001b[0;32m<ipython-input-39-3aa17e3d64f1>\u001b[0m in \u001b[0;36m<module>\u001b[0;34m\u001b[0m\n\u001b[1;32m     47\u001b[0m \u001b[0;34m\u001b[0m\u001b[0m\n\u001b[1;32m     48\u001b[0m \u001b[0;32mfor\u001b[0m \u001b[0mtasktype\u001b[0m \u001b[0;32min\u001b[0m \u001b[0mdurations\u001b[0m\u001b[0;34m:\u001b[0m\u001b[0;34m\u001b[0m\u001b[0;34m\u001b[0m\u001b[0m\n\u001b[0;32m---> 49\u001b[0;31m     \u001b[0mdurations\u001b[0m\u001b[0;34m[\u001b[0m\u001b[0mtasktype\u001b[0m\u001b[0;34m]\u001b[0m\u001b[0;34m[\u001b[0m\u001b[0;34m\"avrg\"\u001b[0m\u001b[0;34m]\u001b[0m \u001b[0;34m=\u001b[0m \u001b[0mdurations\u001b[0m\u001b[0;34m[\u001b[0m\u001b[0mtasktype\u001b[0m\u001b[0;34m]\u001b[0m\u001b[0;34m[\u001b[0m\u001b[0;34m\"summe\"\u001b[0m\u001b[0;34m]\u001b[0m\u001b[0;34m/\u001b[0m\u001b[0mdurations\u001b[0m\u001b[0;34m[\u001b[0m\u001b[0mtasktype\u001b[0m\u001b[0;34m]\u001b[0m\u001b[0;34m[\u001b[0m\u001b[0;34m\"count\"\u001b[0m\u001b[0;34m]\u001b[0m\u001b[0;34m\u001b[0m\u001b[0;34m\u001b[0m\u001b[0m\n\u001b[0m\u001b[1;32m     50\u001b[0m \u001b[0;34m\u001b[0m\u001b[0m\n\u001b[1;32m     51\u001b[0m \u001b[0mprint\u001b[0m\u001b[0;34m(\u001b[0m\u001b[0mdurations\u001b[0m\u001b[0;34m)\u001b[0m\u001b[0;34m\u001b[0m\u001b[0;34m\u001b[0m\u001b[0m\n",
      "\u001b[0;31mZeroDivisionError\u001b[0m: division by zero"
     ]
    }
   ],
   "source": [
    "#exercise types: \n",
    "\"\"\"\n",
    "blockly\n",
    "multipleChoice\n",
    "freetext\n",
    "survey\n",
    "\"\"\"\n",
    "\n",
    "\n",
    "tasktypes = [\"blockly\", \"multipleChoice\", \"freetext\", \"survey\", \"inputfield\", \"surveySlider\"]\n",
    "\n",
    "durations = { tasktype: {\"summe\": 0, \"count\": 0, \"avrg\": 0} for tasktype in tasktypes}\n",
    "\n",
    "missing_tasktype = []\n",
    "\n",
    "#for pupilnumber in range(len(pupils[0:5])): #für die ersten 5 schüler\n",
    "for pupilnumber in range(len(pupils)): #für jeden schüler\n",
    "    #durations.append([])\n",
    "    for tasknumber in range(len(pupils[pupilnumber][\"solvedTaskSeries\"])): #für jede seiner tasks\n",
    "        #print(pupilnumber, tasknumber)  --> macht er nur für einen? oder haben die anderen einfach keine?\n",
    "        for sectionnumber in range(len(pupils[pupilnumber][\"solvedTaskSeries\"][tasknumber][\"currentSections\"])): #für diese tasks, alle sections\n",
    "            for subsectionnumber in range(len(pupils[pupilnumber][\"solvedTaskSeries\"][tasknumber][\"currentSections\"][sectionnumber][\"currentSubSections\"])):\n",
    "                #print(pupilnumber, tasknumber, sectionnumber, subsectionnumber)\n",
    "                #print(pupils[pupilnumber][\"solvedTaskSeries\"][tasknumber][\"currentSections\"][sectionnumber][\"currentSubSections\"][subsectionnumber][\"duration\"])\n",
    "                #durations.append(subsection[\"duration\"])\n",
    "                #pass\n",
    "                #if(pupils[pupilnumber][\"solvedTaskSeries\"][tasknumber][\"currentSections\"][sectionnumber][\"currentSubSections\"][subsectionnumber][\"exercise\"]):\n",
    "                if(\"exercise\" in pupils[pupilnumber][\"solvedTaskSeries\"][tasknumber][\"currentSections\"][sectionnumber][\"currentSubSections\"][subsectionnumber].keys()): #nicht alle aufgaben haben eine exercise\n",
    "                    #print(pupils[pupilnumber][\"solvedTaskSeries\"][tasknumber][\"currentSections\"][sectionnumber][\"currentSubSections\"][subsectionnumber][\"exercise\"][\"subType\"])\n",
    "                    if pupils[pupilnumber][\"solvedTaskSeries\"][tasknumber][\"currentSections\"][sectionnumber][\"currentSubSections\"][subsectionnumber][\"exercise\"][\"subType\"] == \"blockly\":\n",
    "                        durations[\"blockly\"][\"summe\"] += pupils[pupilnumber][\"solvedTaskSeries\"][tasknumber][\"currentSections\"][sectionnumber][\"currentSubSections\"][subsectionnumber][\"duration\"]\n",
    "                        durations[\"blockly\"][\"count\"] += 1\n",
    "                    elif pupils[pupilnumber][\"solvedTaskSeries\"][tasknumber][\"currentSections\"][sectionnumber][\"currentSubSections\"][subsectionnumber][\"exercise\"][\"subType\"] == \"multipleChoice\":\n",
    "                        durations[\"multipleChoice\"][\"summe\"] += pupils[pupilnumber][\"solvedTaskSeries\"][tasknumber][\"currentSections\"][sectionnumber][\"currentSubSections\"][subsectionnumber][\"duration\"]\n",
    "                        durations[\"multipleChoice\"][\"count\"] += 1\n",
    "                    elif pupils[pupilnumber][\"solvedTaskSeries\"][tasknumber][\"currentSections\"][sectionnumber][\"currentSubSections\"][subsectionnumber][\"exercise\"][\"subType\"] == \"freetext\":\n",
    "                        durations[\"freetext\"][\"summe\"] += pupils[pupilnumber][\"solvedTaskSeries\"][tasknumber][\"currentSections\"][sectionnumber][\"currentSubSections\"][subsectionnumber][\"duration\"]\n",
    "                        durations[\"freetext\"][\"count\"] += 1\n",
    "                    elif pupils[pupilnumber][\"solvedTaskSeries\"][tasknumber][\"currentSections\"][sectionnumber][\"currentSubSections\"][subsectionnumber][\"exercise\"][\"subType\"] == \"survey\":\n",
    "                        durations[\"survey\"][\"summe\"] += pupils[pupilnumber][\"solvedTaskSeries\"][tasknumber][\"currentSections\"][sectionnumber][\"currentSubSections\"][subsectionnumber][\"duration\"]\n",
    "                        durations[\"survey\"][\"count\"] += 1\n",
    "                    elif pupils[pupilnumber][\"solvedTaskSeries\"][tasknumber][\"currentSections\"][sectionnumber][\"currentSubSections\"][subsectionnumber][\"exercise\"][\"subType\"] == \"inputField\":\n",
    "                        durations[\"inputField\"][\"summe\"] += pupils[pupilnumber][\"solvedTaskSeries\"][tasknumber][\"currentSections\"][sectionnumber][\"currentSubSections\"][subsectionnumber][\"duration\"]\n",
    "                        durations[\"inputField\"][\"count\"] += 1\n",
    "                    elif pupils[pupilnumber][\"solvedTaskSeries\"][tasknumber][\"currentSections\"][sectionnumber][\"currentSubSections\"][subsectionnumber][\"exercise\"][\"subType\"] == \"surveySlider\":\n",
    "                        durations[\"surveySlider\"][\"summe\"] += pupils[pupilnumber][\"solvedTaskSeries\"][tasknumber][\"currentSections\"][sectionnumber][\"currentSubSections\"][subsectionnumber][\"duration\"]\n",
    "                        durations[\"surveySlider\"][\"count\"] += 1\n",
    "                    else:\n",
    "                        if pupils[pupilnumber][\"solvedTaskSeries\"][tasknumber][\"currentSections\"][sectionnumber][\"currentSubSections\"][subsectionnumber][\"exercise\"][\"subType\"] not in missing_tasktype:\n",
    "                            missing_tasktype.append(pupils[pupilnumber][\"solvedTaskSeries\"][tasknumber][\"currentSections\"][sectionnumber][\"currentSubSections\"][subsectionnumber][\"exercise\"][\"subType\"])\n",
    "\n",
    "print(missing_tasktype)\n",
    "\n",
    "for tasktype in durations:\n",
    "    \n",
    "    durations[tasktype][\"avrg\"] = durations[tasktype][\"summe\"]/durations[tasktype][\"count\"]\n",
    "    \n",
    "print(durations)"
   ]
  },
  {
   "cell_type": "markdown",
   "metadata": {},
   "source": [
    "# Grundlegend:\n",
    "* für jeden schüler jede aufgabe anschauen\n",
    "    * wie viele aufgaben jeweils gemacht\n",
    "    * wie lange für die gebraucht\n",
    "    * welche typen gibt es\n",
    "* nach aufgabentyp selektieren\n",
    "* (nach einem inhaltsteil / zeitraum selektieren: zB der eine test mit den KI inhalten)\n",
    "* ist das eine an der stelle 0 richtig? will ich mit section weiter machen oder durchloopen?\n",
    "\n",
    "\n",
    "# Was spannend wäre\n",
    "\n",
    "* für alle schüler die average durations insgesamt\n",
    "* für jede aufgabe die average durations\n",
    "* schwerste / leichteste aufgaben (nach duration)\n",
    "* durations nach aufgabentyp\n",
    "* texte checken\n",
    "* hilfeanfragen\n",
    "* chat"
   ]
  },
  {
   "cell_type": "code",
   "execution_count": 28,
   "metadata": {},
   "outputs": [
    {
     "data": {
      "text/plain": [
       "[{'duration': 7,\n",
       "  'exercise': {'state': {'code': \"moveForward('To}55mI6)_S@clnS`X-A');\\nmoveForward('cN6xgVR3:EAoi_G*O+s%');\\nmoveForward('4Fpi1i6(r(wn%5JKDZxK');\\nmoveForward('r0,nkc*$uzIf%t,5^=LT');\\n\",\n",
       "    'workspace': '<xml xmlns=\"https://developers.google.com/blockly/xml\">\\n  <block type=\"mainBlock\" id=\"initialMainBlock\" deletable=\"false\" movable=\"false\" editable=\"false\" x=\"38\" y=\"38\">\\n    <statement name=\"EXECUTE\">\\n      <block type=\"pp_Maze_moveForward\" id=\"To}55mI6)_S@clnS`X-A\">\\n        <next>\\n          <block type=\"pp_Maze_moveForward\" id=\"cN6xgVR3:EAoi_G*O+s%\">\\n            <next>\\n              <block type=\"pp_Maze_moveForward\" id=\"4Fpi1i6(r(wn%5JKDZxK\">\\n                <next>\\n                  <block type=\"pp_Maze_moveForward\" id=\"r0,nkc*$uzIf%t,5^=LT\"></block>\\n                </next>\\n              </block>\\n            </next>\\n          </block>\\n        </next>\\n      </block>\\n    </statement>\\n  </block>\\n</xml>'},\n",
       "   'submitted': True,\n",
       "   'history': [],\n",
       "   'subType': 'blockly',\n",
       "   'evaluation': 'correct'}},\n",
       " {'duration': 10,\n",
       "  'exercise': {'state': {'code': \"moveForward('=,61Eh1$1LvWrA,S?lUX');\\nmoveForward('Mx4kSQQPR#-8g1p8d=a`');\\nturnLeft(':],F~OIK5}NRmW(3f/a@');\\nmoveForward('iY0A_mz2F@C$!nGSukgs');\\nmoveForward('cdcRz]n_?,AkF}DJ[[yo');\\n\",\n",
       "    'workspace': '<xml xmlns=\"https://developers.google.com/blockly/xml\">\\n  <block type=\"mainBlock\" id=\"initialMainBlock\" deletable=\"false\" movable=\"false\" editable=\"false\" x=\"38\" y=\"38\">\\n    <statement name=\"EXECUTE\">\\n      <block type=\"pp_Maze_moveForward\" id=\"=,61Eh1$1LvWrA,S?lUX\">\\n        <next>\\n          <block type=\"pp_Maze_moveForward\" id=\"Mx4kSQQPR#-8g1p8d=a`\">\\n            <next>\\n              <block type=\"pp_Maze_turn\" id=\":],F~OIK5}NRmW(3f/a@\">\\n                <field name=\"DIRECTIONS\">LEFT</field>\\n                <next>\\n                  <block type=\"pp_Maze_moveForward\" id=\"iY0A_mz2F@C$!nGSukgs\">\\n                    <next>\\n                      <block type=\"pp_Maze_moveForward\" id=\"cdcRz]n_?,AkF}DJ[[yo\"></block>\\n                    </next>\\n                  </block>\\n                </next>\\n              </block>\\n            </next>\\n          </block>\\n        </next>\\n      </block>\\n    </statement>\\n  </block>\\n</xml>'},\n",
       "   'submitted': True,\n",
       "   'history': [],\n",
       "   'subType': 'blockly',\n",
       "   'evaluation': 'correct'}}]"
      ]
     },
     "execution_count": 28,
     "metadata": {},
     "output_type": "execute_result"
    }
   ],
   "source": [
    "#data[0][\"solvedTaskSeries\"][0][\"currentSections\"]#[\"currentSubSections\"]\n",
    "data[0][\"solvedTaskSeries\"][0][\"currentSections\"][0][\"currentSubSections\"]"
   ]
  },
  {
   "cell_type": "code",
   "execution_count": null,
   "metadata": {},
   "outputs": [],
   "source": [
    "# possible to sort keys: json.dumps(x, indent=4, sort_keys=True)"
   ]
  }
 ],
 "metadata": {
  "kernelspec": {
   "display_name": "Python 3",
   "language": "python",
   "name": "python3"
  },
  "language_info": {
   "codemirror_mode": {
    "name": "ipython",
    "version": 3
   },
   "file_extension": ".py",
   "mimetype": "text/x-python",
   "name": "python",
   "nbconvert_exporter": "python",
   "pygments_lexer": "ipython3",
   "version": "3.7.6"
  }
 },
 "nbformat": 4,
 "nbformat_minor": 4
}
