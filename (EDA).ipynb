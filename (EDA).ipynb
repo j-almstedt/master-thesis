{
 "cells": [
  {
   "cell_type": "code",
   "execution_count": 1,
   "metadata": {},
   "outputs": [],
   "source": [
    "import json\n",
    "import numpy as np\n",
    "import pandas as pd\n",
    "import matplotlib.pyplot as plt\n",
    "import statistics \n",
    "import seaborn as sns\n",
    "from numpy.random import randn\n",
    "from statistics import mode\n",
    "%matplotlib inline"
   ]
  },
  {
   "cell_type": "markdown",
   "metadata": {},
   "source": [
    "# Parsing the JSON to dictionary"
   ]
  },
  {
   "cell_type": "code",
   "execution_count": 2,
   "metadata": {},
   "outputs": [
    {
     "data": {
      "text/plain": [
       "1454"
      ]
     },
     "execution_count": 2,
     "metadata": {},
     "output_type": "execute_result"
    }
   ],
   "source": [
    "pupils = json.load(open('pupils.json', 'r'))    # result will be a python dictionary\n",
    "\n",
    "#jeder entry ist ein schüler: zB data[0]\n",
    "len(pupils)\n",
    "#2715"
   ]
  },
  {
   "cell_type": "code",
   "execution_count": 3,
   "metadata": {},
   "outputs": [
    {
     "name": "stdout",
     "output_type": "stream",
     "text": [
      "dict_keys(['_id', 'classId', 'userId', 'companyId', 'lang', 'username', 'currentTaskSeries', 'solvedTaskSeries', 'revisions', 'workspaceContent', 'chat', 'assists', 'experience', 'lastNotificationUpdate'])\n",
      "{'messages': [], 'readUpTo': {}}\n"
     ]
    }
   ],
   "source": [
    "print(pupils[0].keys())#['_id', 'classId', 'userId', 'companyId', 'partner', 'lang', 'username', 'shownTaskSeries', 'currentTaskSeries', 'solvedTaskSeries', 'revisions', 'workspaceContent', 'chat', 'assists', 'experience', 'lastNotificationUpdate']\n",
    "#[0][\"currentSections\"][0][\"currentSubSections\"][1][\"exercise\"]\n",
    "print(pupils[0][\"chat\"]) #'sectionIdx', 'subSectionIdx', 'stage', 'wentActive', 'lastActive', 'created'"
   ]
  },
  {
   "cell_type": "markdown",
   "metadata": {},
   "source": [
    "* _id\n",
    "* classId\n",
    "* userId\n",
    "* companyId\n",
    "* partner\n",
    "* lang\n",
    "* username\n",
    "* shownTaskSeries\n",
    "* currentTaskSeries\n",
    "* solvedTaskSeries\n",
    "    * [] liste mit allen solvedTaskSeries\n",
    "       * taskSeriesId\n",
    "       * currentSections\n",
    "          * [] Liste mit allen Sections\n",
    "             * currentSubSections\n",
    "                * []\n",
    "                   * duration (in sekunden)\n",
    "                   * exercise\n",
    "                      * state:\n",
    "                         * text bei freitext in p tags\n",
    "                         * 0, 1, 0... bei survey\n",
    "                         * false, true, false bei MC\n",
    "                      * submitted: true\n",
    "                      * history: wahrscheinlich alte versionen bei freetext\n",
    "                      * subType “freetext”, “survey”, “multipleChoice”\n",
    "                      * falseAttempts bei MC: bool array mit erster lösung\n",
    "                      * evaluation: (bool) bei freetext und MC\n",
    "                         * “false” bei mc wenn falsche lösung und keine tipps → direkt musterlösung\n",
    "                         * “correct” bei mc wenn richtige lösung\n",
    "                         * “pending” bei freitext, wenn lehrer noch nicht bewertet\n",
    "                      * rating: bei freetext\n",
    "      * sectionIdx\n",
    "      * subSectionIdx\n",
    "      * stage\n",
    "      * wentActive\n",
    "      * lastActive\n",
    "      * created\n",
    "* revisions\n",
    "   * _id\n",
    "   * taskSeriesId\n",
    "   * sectionIdx\n",
    "   * subSectionIdx\n",
    "   * begin\n",
    "   * accepted\n",
    "* workspaceContent\n",
    "   * type: 'revision'\n",
    "   * 'id': 'For-1_0_1'\n",
    "* chat\n",
    "   * messages\n",
    "      * [] liste mit allen messages\n",
    "         * date\n",
    "         * sentBy: zB \"auto\"\n",
    "         * message: string mit message\n",
    "   * readUpTo\n",
    "* assists\n",
    "* experience\n",
    "* lastNotificationUpdate"
   ]
  },
  {
   "cell_type": "markdown",
   "metadata": {},
   "source": [
    "# EDA\n",
    "\n",
    "## Alle tasks für einen Schüler checken"
   ]
  },
  {
   "cell_type": "code",
   "execution_count": 4,
   "metadata": {},
   "outputs": [
    {
     "name": "stdout",
     "output_type": "stream",
     "text": [
      "[56, 10, 56, 10, 30, 6, 8, 2, 21, 24, 7, 9, 22, 3, 5, 2, 18, 6, 4, 2]\n",
      "Minimal time: 2\n",
      "Maximal time: 56\n",
      "Average time in sec: 15.05\n"
     ]
    },
    {
     "data": {
      "image/png": "[encoded data removed]",
      "text/plain": [
       "<Figure size 432x288 with 1 Axes>"
      ]
     },
     "metadata": {
      "needs_background": "light"
     },
     "output_type": "display_data"
    }
   ],
   "source": [
    "#[\"solvedTaskSeries\"]#[\"currentSections\"]#[\"currentSubSections\"]\n",
    "len(pupils[0][\"solvedTaskSeries\"]) #24 tasks gelöst\n",
    "pupils[0][\"solvedTaskSeries\"]\n",
    "\n",
    "durations = []\n",
    "\n",
    "for task in range(len(pupils[0][\"solvedTaskSeries\"])): #alle tasks für einen schüler\n",
    "    #print(\"task \" + str(task))\n",
    "    #print(data[0][\"solvedTaskSeries\"][task])\n",
    "    for section in pupils[0][\"solvedTaskSeries\"][task][\"currentSections\"]: #für diese tasks, alle sections\n",
    "        #print(\"section \")\n",
    "        #print(type(section)) --> dict\n",
    "        #print(section[\"currentSubSections\"][0])\n",
    "        for subsection in pupils[0][\"solvedTaskSeries\"][task][\"currentSections\"][0][\"currentSubSections\"]:\n",
    "            #print(\"subsection\")\n",
    "            #print(subsection[\"duration\"])\n",
    "            durations.append(subsection[\"duration\"])\n",
    "\n",
    "            \n",
    "#durations:\n",
    "print(durations)\n",
    "print(\"Minimal time: \" + str(min(durations)))\n",
    "print(\"Maximal time: \" + str(max(durations)))\n",
    "print(\"Average time in sec: \" + str(sum(durations)/len(durations)))       \n",
    "plt.hist(durations, bins=max(durations))\n",
    "plt.show()"
   ]
  },
  {
   "cell_type": "markdown",
   "metadata": {},
   "source": [
    "## Durations nach Aufgabentyp"
   ]
  },
  {
   "cell_type": "code",
   "execution_count": 5,
   "metadata": {},
   "outputs": [
    {
     "name": "stdout",
     "output_type": "stream",
     "text": [
      "{'blockly': 204.0857908847185, 'multipleChoice': 83.57389465401072, 'freetext': 236.7161560264543, 'survey': 46.27818302387268, 'inputField': 35.50204081632653, 'surveySlider': 16.908903544929927, 'noTask': 9.621214235868807}\n"
     ]
    }
   ],
   "source": [
    "tasktypes = [\"blockly\", \"multipleChoice\", \"freetext\", \"survey\", \"inputField\", \"surveySlider\", \"noTask\"]\n",
    "\n",
    "durations = { tasktype: {\"summe\": 0, \"count\": 0, \"avrg\": 0} for tasktype in tasktypes}\n",
    "\n",
    "missing_tasktype = []\n",
    "\n",
    "#for pupilnumber in range(len(pupils[0:5])): #für die ersten 5 schüler\n",
    "for pupilnumber in range(len(pupils)): #für jeden schüler\n",
    "    for tasknumber in range(len(pupils[pupilnumber][\"solvedTaskSeries\"])): #für jede seiner tasks\n",
    "        #print(pupilnumber, tasknumber)  --> macht er nur für einen? oder haben die anderen einfach keine?\n",
    "        for sectionnumber in range(len(pupils[pupilnumber][\"solvedTaskSeries\"][tasknumber][\"currentSections\"])): #für diese tasks, alle sections\n",
    "            for subsectionnumber in range(len(pupils[pupilnumber][\"solvedTaskSeries\"][tasknumber][\"currentSections\"][sectionnumber][\"currentSubSections\"])):\n",
    "                if(\"exercise\" in pupils[pupilnumber][\"solvedTaskSeries\"][tasknumber][\"currentSections\"][sectionnumber][\"currentSubSections\"][subsectionnumber].keys()): #nicht alle aufgaben haben eine exercise\n",
    "                    if pupils[pupilnumber][\"solvedTaskSeries\"][tasknumber][\"currentSections\"][sectionnumber][\"currentSubSections\"][subsectionnumber][\"exercise\"][\"subType\"] == \"blockly\":\n",
    "                        durations[\"blockly\"][\"summe\"] += pupils[pupilnumber][\"solvedTaskSeries\"][tasknumber][\"currentSections\"][sectionnumber][\"currentSubSections\"][subsectionnumber][\"duration\"]\n",
    "                        durations[\"blockly\"][\"count\"] += 1\n",
    "                    elif pupils[pupilnumber][\"solvedTaskSeries\"][tasknumber][\"currentSections\"][sectionnumber][\"currentSubSections\"][subsectionnumber][\"exercise\"][\"subType\"] == \"multipleChoice\":\n",
    "                        durations[\"multipleChoice\"][\"summe\"] += pupils[pupilnumber][\"solvedTaskSeries\"][tasknumber][\"currentSections\"][sectionnumber][\"currentSubSections\"][subsectionnumber][\"duration\"]\n",
    "                        durations[\"multipleChoice\"][\"count\"] += 1\n",
    "                    elif pupils[pupilnumber][\"solvedTaskSeries\"][tasknumber][\"currentSections\"][sectionnumber][\"currentSubSections\"][subsectionnumber][\"exercise\"][\"subType\"] == \"freetext\":\n",
    "                        durations[\"freetext\"][\"summe\"] += pupils[pupilnumber][\"solvedTaskSeries\"][tasknumber][\"currentSections\"][sectionnumber][\"currentSubSections\"][subsectionnumber][\"duration\"]\n",
    "                        durations[\"freetext\"][\"count\"] += 1\n",
    "                    elif pupils[pupilnumber][\"solvedTaskSeries\"][tasknumber][\"currentSections\"][sectionnumber][\"currentSubSections\"][subsectionnumber][\"exercise\"][\"subType\"] == \"survey\":\n",
    "                        durations[\"survey\"][\"summe\"] += pupils[pupilnumber][\"solvedTaskSeries\"][tasknumber][\"currentSections\"][sectionnumber][\"currentSubSections\"][subsectionnumber][\"duration\"]\n",
    "                        durations[\"survey\"][\"count\"] += 1\n",
    "                    elif pupils[pupilnumber][\"solvedTaskSeries\"][tasknumber][\"currentSections\"][sectionnumber][\"currentSubSections\"][subsectionnumber][\"exercise\"][\"subType\"] == \"inputField\":\n",
    "                        durations[\"inputField\"][\"summe\"] += pupils[pupilnumber][\"solvedTaskSeries\"][tasknumber][\"currentSections\"][sectionnumber][\"currentSubSections\"][subsectionnumber][\"duration\"]\n",
    "                        durations[\"inputField\"][\"count\"] += 1\n",
    "                    elif pupils[pupilnumber][\"solvedTaskSeries\"][tasknumber][\"currentSections\"][sectionnumber][\"currentSubSections\"][subsectionnumber][\"exercise\"][\"subType\"] == \"surveySlider\":\n",
    "                        durations[\"surveySlider\"][\"summe\"] += pupils[pupilnumber][\"solvedTaskSeries\"][tasknumber][\"currentSections\"][sectionnumber][\"currentSubSections\"][subsectionnumber][\"duration\"]\n",
    "                        durations[\"surveySlider\"][\"count\"] += 1\n",
    "                    else:\n",
    "                        if pupils[pupilnumber][\"solvedTaskSeries\"][tasknumber][\"currentSections\"][sectionnumber][\"currentSubSections\"][subsectionnumber][\"exercise\"][\"subType\"] not in missing_tasktype:\n",
    "                            missing_tasktype.append(pupils[pupilnumber][\"solvedTaskSeries\"][tasknumber][\"currentSections\"][sectionnumber][\"currentSubSections\"][subsectionnumber][\"exercise\"][\"subType\"])\n",
    "\n",
    "                else:\n",
    "                    durations[\"noTask\"][\"summe\"] += pupils[pupilnumber][\"solvedTaskSeries\"][tasknumber][\"currentSections\"][sectionnumber][\"currentSubSections\"][subsectionnumber][\"duration\"]\n",
    "                    durations[\"noTask\"][\"count\"] += 1\n",
    "                    #print(pupils[pupilnumber][\"solvedTaskSeries\"][tasknumber][\"currentSections\"][sectionnumber][\"currentSubSections\"][subsectionnumber][\"duration\"])\n",
    "#print(missing_tasktype)\n",
    "\n",
    "for tasktype in durations:\n",
    "    durations[tasktype][\"avrg\"] = durations[tasktype][\"summe\"]/durations[tasktype][\"count\"]\n",
    "    \n",
    "#print(durations)\n",
    "\n",
    "#avrg_durations = [durations[tasktype][\"avrg\"] for tasktype in durations]\n",
    "avrg_durations = {tasktype: durations[tasktype][\"avrg\"] for tasktype in durations}\n",
    "print(avrg_durations)"
   ]
  },
  {
   "cell_type": "code",
   "execution_count": 6,
   "metadata": {},
   "outputs": [
    {
     "data": {
      "text/plain": [
       "([<matplotlib.axis.XTick at 0x7fc0c2976210>,\n",
       "  <matplotlib.axis.XTick at 0x7fc0c2b9a7d0>,\n",
       "  <matplotlib.axis.XTick at 0x7fc0c2b945d0>,\n",
       "  <matplotlib.axis.XTick at 0x7fc0c2c4ad90>,\n",
       "  <matplotlib.axis.XTick at 0x7fc0c2c57310>,\n",
       "  <matplotlib.axis.XTick at 0x7fc0c2c57990>,\n",
       "  <matplotlib.axis.XTick at 0x7fc0c2c57950>],\n",
       " [Text(0, 0, 'blockly'),\n",
       "  Text(1, 0, 'multipleChoice'),\n",
       "  Text(2, 0, 'freetext'),\n",
       "  Text(3, 0, 'survey'),\n",
       "  Text(4, 0, 'inputField'),\n",
       "  Text(5, 0, 'surveySlider'),\n",
       "  Text(6, 0, 'noTask')])"
      ]
     },
     "execution_count": 6,
     "metadata": {},
     "output_type": "execute_result"
    },
    {
     "data": {
      "image/png": "[encoded data removed]",
      "text/plain": [
       "<Figure size 432x288 with 1 Axes>"
      ]
     },
     "metadata": {
      "needs_background": "light"
     },
     "output_type": "display_data"
    }
   ],
   "source": [
    "plt.bar(range(len(avrg_durations)), list(avrg_durations.values()), align='center')\n",
    "plt.xticks(range(len(avrg_durations)), list(avrg_durations.keys()), rotation=90)"
   ]
  },
  {
   "cell_type": "markdown",
   "metadata": {},
   "source": [
    "## Nur für das KI Paket\n",
    "\n",
    "### Wie viele Klassen haben es gemacht? Wie viele SuS?"
   ]
  },
  {
   "cell_type": "code",
   "execution_count": 7,
   "metadata": {},
   "outputs": [
    {
     "ename": "KeyError",
     "evalue": "'taskSeriesId'",
     "output_type": "error",
     "traceback": [
      "\u001b[0;31m---------------------------------------------------------------------------\u001b[0m",
      "\u001b[0;31mKeyError\u001b[0m                                  Traceback (most recent call last)",
      "\u001b[0;32m<ipython-input-7-3c04564d91bd>\u001b[0m in \u001b[0;36m<module>\u001b[0;34m\u001b[0m\n\u001b[1;32m      7\u001b[0m \u001b[0;32mfor\u001b[0m \u001b[0mpupilnumber\u001b[0m \u001b[0;32min\u001b[0m \u001b[0mrange\u001b[0m\u001b[0;34m(\u001b[0m\u001b[0mlen\u001b[0m\u001b[0;34m(\u001b[0m\u001b[0mpupils\u001b[0m\u001b[0;34m)\u001b[0m\u001b[0;34m)\u001b[0m\u001b[0;34m:\u001b[0m \u001b[0;31m#für jeden schüler\u001b[0m\u001b[0;34m\u001b[0m\u001b[0;34m\u001b[0m\u001b[0m\n\u001b[1;32m      8\u001b[0m     \u001b[0;32mfor\u001b[0m \u001b[0mtasknumber\u001b[0m \u001b[0;32min\u001b[0m \u001b[0mrange\u001b[0m\u001b[0;34m(\u001b[0m\u001b[0mlen\u001b[0m\u001b[0;34m(\u001b[0m\u001b[0mpupils\u001b[0m\u001b[0;34m[\u001b[0m\u001b[0mpupilnumber\u001b[0m\u001b[0;34m]\u001b[0m\u001b[0;34m[\u001b[0m\u001b[0;34m\"solvedTaskSeries\"\u001b[0m\u001b[0;34m]\u001b[0m\u001b[0;34m)\u001b[0m\u001b[0;34m)\u001b[0m\u001b[0;34m:\u001b[0m \u001b[0;31m#für jede seiner tasks\u001b[0m\u001b[0;34m\u001b[0m\u001b[0;34m\u001b[0m\u001b[0m\n\u001b[0;32m----> 9\u001b[0;31m         \u001b[0;32mif\u001b[0m\u001b[0;34m(\u001b[0m\u001b[0mpupils\u001b[0m\u001b[0;34m[\u001b[0m\u001b[0mpupilnumber\u001b[0m\u001b[0;34m]\u001b[0m\u001b[0;34m[\u001b[0m\u001b[0;34m\"solvedTaskSeries\"\u001b[0m\u001b[0;34m]\u001b[0m\u001b[0;34m[\u001b[0m\u001b[0mtasknumber\u001b[0m\u001b[0;34m]\u001b[0m\u001b[0;34m[\u001b[0m\u001b[0;34m\"taskSeriesId\"\u001b[0m\u001b[0;34m]\u001b[0m \u001b[0;32min\u001b[0m \u001b[0mKI_taskseries_ids\u001b[0m\u001b[0;34m)\u001b[0m\u001b[0;34m:\u001b[0m\u001b[0;34m\u001b[0m\u001b[0;34m\u001b[0m\u001b[0m\n\u001b[0m\u001b[1;32m     10\u001b[0m             \u001b[0;32mfor\u001b[0m \u001b[0msectionnumber\u001b[0m \u001b[0;32min\u001b[0m \u001b[0mrange\u001b[0m\u001b[0;34m(\u001b[0m\u001b[0mlen\u001b[0m\u001b[0;34m(\u001b[0m\u001b[0mpupils\u001b[0m\u001b[0;34m[\u001b[0m\u001b[0mpupilnumber\u001b[0m\u001b[0;34m]\u001b[0m\u001b[0;34m[\u001b[0m\u001b[0;34m\"solvedTaskSeries\"\u001b[0m\u001b[0;34m]\u001b[0m\u001b[0;34m[\u001b[0m\u001b[0mtasknumber\u001b[0m\u001b[0;34m]\u001b[0m\u001b[0;34m[\u001b[0m\u001b[0;34m\"currentSections\"\u001b[0m\u001b[0;34m]\u001b[0m\u001b[0;34m)\u001b[0m\u001b[0;34m)\u001b[0m\u001b[0;34m:\u001b[0m \u001b[0;31m#für diese tasks, alle sections\u001b[0m\u001b[0;34m\u001b[0m\u001b[0;34m\u001b[0m\u001b[0m\n\u001b[1;32m     11\u001b[0m                 \u001b[0;32mfor\u001b[0m \u001b[0msubsectionnumber\u001b[0m \u001b[0;32min\u001b[0m \u001b[0mrange\u001b[0m\u001b[0;34m(\u001b[0m\u001b[0mlen\u001b[0m\u001b[0;34m(\u001b[0m\u001b[0mpupils\u001b[0m\u001b[0;34m[\u001b[0m\u001b[0mpupilnumber\u001b[0m\u001b[0;34m]\u001b[0m\u001b[0;34m[\u001b[0m\u001b[0;34m\"solvedTaskSeries\"\u001b[0m\u001b[0;34m]\u001b[0m\u001b[0;34m[\u001b[0m\u001b[0mtasknumber\u001b[0m\u001b[0;34m]\u001b[0m\u001b[0;34m[\u001b[0m\u001b[0;34m\"currentSections\"\u001b[0m\u001b[0;34m]\u001b[0m\u001b[0;34m[\u001b[0m\u001b[0msectionnumber\u001b[0m\u001b[0;34m]\u001b[0m\u001b[0;34m[\u001b[0m\u001b[0;34m\"currentSubSections\"\u001b[0m\u001b[0;34m]\u001b[0m\u001b[0;34m)\u001b[0m\u001b[0;34m)\u001b[0m\u001b[0;34m:\u001b[0m\u001b[0;34m\u001b[0m\u001b[0;34m\u001b[0m\u001b[0m\n",
      "\u001b[0;31mKeyError\u001b[0m: 'taskSeriesId'"
     ]
    }
   ],
   "source": [
    "# taskseriesIDs vom KI Paket:\n",
    "KI_taskseries_ids = [\"AI-1-v2\", \"AI-2-v2\", \"AI-3-v2\", \"AI-4-v2\", \"ML-1\", \"ML-2\", \"ML-3\", \"Classification-1\", \"Clustering-1\", \"Classification-2\", \"Clustering-2\", \"LimitsML\", \"EvalML\", \"Impact-1\", \"Impact-2\", \"Impact-3\", \"Impact-4\", \"AIClosing\"]\n",
    "\n",
    "classIDsKI = []\n",
    "pupilsKI = []\n",
    "\n",
    "for pupilnumber in range(len(pupils)): #für jeden schüler\n",
    "    for tasknumber in range(len(pupils[pupilnumber][\"solvedTaskSeries\"])): #für jede seiner tasks\n",
    "        if(pupils[pupilnumber][\"solvedTaskSeries\"][tasknumber][\"taskSeriesId\"] in KI_taskseries_ids):\n",
    "            for sectionnumber in range(len(pupils[pupilnumber][\"solvedTaskSeries\"][tasknumber][\"currentSections\"])): #für diese tasks, alle sections\n",
    "                for subsectionnumber in range(len(pupils[pupilnumber][\"solvedTaskSeries\"][tasknumber][\"currentSections\"][sectionnumber][\"currentSubSections\"])):\n",
    "                    if(\"exercise\" in pupils[pupilnumber][\"solvedTaskSeries\"][tasknumber][\"currentSections\"][sectionnumber][\"currentSubSections\"][subsectionnumber].keys()):\n",
    "                        if pupils[pupilnumber][\"classId\"] not in classIDsKI:\n",
    "                            classIDsKI.append(pupils[pupilnumber][\"classId\"])\n",
    "                        if pupils[pupilnumber] not in pupilsKI:\n",
    "                            pupilsKI.append(pupils[pupilnumber])\n",
    "\n",
    "#print(classIDsKI) #--> ['uxfuiLT4xZA6yvE6L', 'qFEyvypMn4sAwLwtc', 'y7j9eKDPsqNkAycuy', '6Z2MmkKQKebb7nz8P', '4fyXxCKaLbCBaPbYE']\n",
    "#print(len(pupils), len(pupilsKI)) --> 31 in pupilsKI\n",
    "\n",
    "KI_classes = {classID: {\"count\": 0} for classID in classIDsKI}\n",
    "\n",
    "for pupil in pupilsKI:\n",
    "    KI_classes[pupil[\"classId\"]][\"count\"] += 1\n",
    "\n",
    "print(KI_classes)\n",
    "print(\"\")\n",
    "\n",
    "# Jetzt nur die Klassen mit genügend SuS auswählen\n",
    "final_pupils_KI = []\n",
    "min_class_size = 10\n",
    "\n",
    "# TODO: Klasse qFEyvypMn4sAwLwtc hatte einen fehler bei der aufgabe mit isa. da true false inverten!\n",
    "\n",
    "for pupil in pupilsKI:\n",
    "    if(KI_classes[pupil[\"classId\"]][\"count\"] >= min_class_size):\n",
    "        final_pupils_KI.append(pupil)\n",
    "\n",
    "print(\"Zur Zeit gibt es \" + str(len(final_pupils_KI)) + \" sus, die das KI Paket bearbeitet haben\")"
   ]
  },
  {
   "cell_type": "markdown",
   "metadata": {},
   "source": [
    "### Wie viele Aufgaben haben die SuS jeweils gemacht?"
   ]
  },
  {
   "cell_type": "code",
   "execution_count": 43,
   "metadata": {},
   "outputs": [
    {
     "name": "stdout",
     "output_type": "stream",
     "text": [
      "NR tasks per pupil: [18, 18, 3, 11, 18, 10, 10, 18, 15, 11, 13, 15, 4, 2, 6, 6, 12, 11, 18, 18, 18, 3, 5, 9, 9, 1]\n",
      "Completion rates: [100, 100, 16, 61, 100, 55, 55, 100, 83, 61, 72, 83, 22, 11, 33, 33, 66, 61, 100, 100, 100, 16, 27, 50, 50, 5]\n",
      "\n",
      "\n",
      "Number SuS in each quartile: [5, 5, 7, 9]\n",
      "Percent of students that have completed these quarts: [19.23, 19.23, 26.92, 34.62]\n"
     ]
    },
    {
     "data": {
      "image/png": "[encoded data removed]",
      "text/plain": [
       "<Figure size 576x1440 with 4 Axes>"
      ]
     },
     "metadata": {
      "needs_background": "light"
     },
     "output_type": "display_data"
    },
    {
     "data": {
      "text/plain": [
       "'\\nTODO:\\n- kumulativ: wie viele SuS haben mindestens X aufgaben gelöst?\\n'"
      ]
     },
     "execution_count": 43,
     "metadata": {},
     "output_type": "execute_result"
    }
   ],
   "source": [
    "nr_tasks_per_pupil = []\n",
    "\n",
    "# Könnte für jeden SoS schauen, ob sie alle aufgaben gemacht haben.\n",
    "for pupil in final_pupils_KI:\n",
    "    nr_tasks_per_pupil.append(len(pupil[\"solvedTaskSeries\"]))\n",
    "\n",
    "print(\"NR tasks per pupil: \" + str(nr_tasks_per_pupil))\n",
    "nr_all_tasks = 18\n",
    "\n",
    "completion_rates = [int((nr_tasks/nr_all_tasks)*100) for nr_tasks in nr_tasks_per_pupil]\n",
    "print(\"Completion rates: \" + str(completion_rates))\n",
    "print(\"\\n\")\n",
    "\n",
    "\n",
    "\n",
    "\n",
    "# SUS per QUARTILE\n",
    "quartiles = [0 for quartile in range(1, 5)]\n",
    "\n",
    "for rate in completion_rates:\n",
    "    if (rate<=25):\n",
    "        quartiles[0] += 1\n",
    "    elif(rate > 25 and rate <=50):\n",
    "        quartiles[1] += 1\n",
    "    elif(rate > 50 and rate <=75):\n",
    "        quartiles[2] += 1\n",
    "    elif(rate > 75 and rate <=100):\n",
    "        quartiles[3] += 1\n",
    "\n",
    "print(\"Number SuS in each quartile: \" + str(quartiles)) \n",
    "\n",
    "# in percent\n",
    "percentage_sus_per_quart = [round((number/np.sum(quartiles))*100, 2) for number in quartiles]\n",
    "print(\"Percent of students that have completed these quarts: \" + str(percentage_sus_per_quart))\n",
    "\n",
    "\n",
    "\n",
    "\n",
    "\n",
    "# PLOTS\n",
    "fig, (ax1,ax2, ax3, ax4) = plt.subplots(nrows=4,ncols=1,figsize=(8,20))\n",
    "\n",
    "ax1 = plt.subplot(411)\n",
    "ax1.hist(nr_tasks_per_pupil, bins=np.max(nr_tasks_per_pupil)+1)\n",
    "#ax1.set_title('Numbers of Tasks')\n",
    "ax1.set_xlabel( \"Numbers of Tasks\" , size = 12 )\n",
    "ax1.set_xlim([0, max(nr_tasks_per_pupil)])\n",
    "ax1.set_ylim([0, nr_tasks_per_pupil.count(mode(nr_tasks_per_pupil))+1])\n",
    "\n",
    "ax2 = plt.subplot(412)\n",
    "ax2.hist(completion_rates, bins=np.max(completion_rates))\n",
    "ax2.set_xlim([0, max(completion_rates)])\n",
    "ax2.set_ylim([0, completion_rates.count(mode(completion_rates))+1])\n",
    "\n",
    "\n",
    "ax3 = plt.subplot(413)\n",
    "ax3.bar([elem + 0.5 for elem in range(len(quartiles))], quartiles)\n",
    "ax3.set_xlim([0, len(quartiles)])\n",
    "ax3.set_ylim([0, max(quartiles)+1])\n",
    "\n",
    "ax4 = plt.subplot(414)\n",
    "ax4.bar([elem + 0.5 for elem in range(len(percentage_sus_per_quart))], percentage_sus_per_quart)\n",
    "ax4.set_xlim([0, len(percentage_sus_per_quart)])\n",
    "ax4.set_ylim([0, max(percentage_sus_per_quart)+1])\n",
    "\n",
    "plt.show()\n"
   ]
  },
  {
   "cell_type": "code",
   "execution_count": 73,
   "metadata": {},
   "outputs": [
    {
     "data": {
      "image/png": "[encoded data removed]",
      "text/plain": [
       "<Figure size 720x1440 with 2 Axes>"
      ]
     },
     "metadata": {
      "needs_background": "light"
     },
     "output_type": "display_data"
    }
   ],
   "source": [
    "sorted_nr_tasks_per_pupil = np.sort(nr_tasks_per_pupil)\n",
    "\n",
    "# Number of students with number of tasks\n",
    "number_pupils_with_this_number_of_tasks = []\n",
    "for i in range(18):\n",
    "    at_least_this_number = 0\n",
    "    for number in sorted_nr_tasks_per_pupil:\n",
    "        if number >= i+1:\n",
    "            at_least_this_number += 1\n",
    "    number_pupils_with_this_number_of_tasks.append(at_least_this_number) #anzahl zahlen mit mehr\n",
    "\n",
    "# percentage of students with each percentage of tasks\n",
    "task_percentage = [i * (100/18) for i in range(1,19)]\n",
    "pupil_percentages = [i * (100/len(final_pupils_KI)) for i in number_pupils_with_this_number_of_tasks]\n",
    "\n",
    "\n",
    "# PLOTTING\n",
    "fig, (ax1, ax2) = plt.subplots(nrows=2,ncols=1,figsize=(10,20))\n",
    "\n",
    "ax1 = plt.subplot(211)\n",
    "ax1.plot(range(1,19), number_pupils_with_this_number_of_tasks)\n",
    "ax1.set_xlabel( \"Numbers of Tasks\" , size = 12 )\n",
    "ax1.set_ylabel( \"Numbers of Students with this number of tasks\" , size = 12 )\n",
    "ax1.set_xlim([0, 18])\n",
    "ax1.set_ylim([0, len(sorted_nr_tasks_per_pupil)])\n",
    "\n",
    "ax2 = plt.subplot(212)\n",
    "ax2.plot(task_percentage, pupil_percentages)\n",
    "ax2.set_xlabel( \"Percentage of Tasks\" , size = 12 )\n",
    "ax2.set_ylabel( \"Percentage of Students with this percentage of tasks\" , size = 12 )\n",
    "ax2.set_xlim([0, 100])\n",
    "ax2.set_ylim([0, 100])\n",
    "\n",
    "plt.show()\n",
    "\n",
    "# fläche unter kurve könnte verglichen werden für verschiedene pakete? --> als proxy für abdeckung"
   ]
  },
  {
   "cell_type": "markdown",
   "metadata": {},
   "source": [
    "### Durations KI Paket"
   ]
  },
  {
   "cell_type": "code",
   "execution_count": 229,
   "metadata": {},
   "outputs": [
    {
     "name": "stdout",
     "output_type": "stream",
     "text": [
      "\n",
      "\n",
      "total_duration                399.00\n",
      "total_duration_minutes          6.65\n",
      "number_tasks                    4.00\n",
      "avg_duration_per_task_secs     22.24\n",
      "dtype: float64\n",
      "\n",
      "\n",
      "total_duration                8445.00\n",
      "total_duration_minutes         140.75\n",
      "number_tasks                    80.00\n",
      "avg_duration_per_task_secs     288.11\n",
      "dtype: float64\n"
     ]
    },
    {
     "data": {
      "image/png": "[encoded data removed]",
      "text/plain": [
       "<Figure size 432x288 with 1 Axes>"
      ]
     },
     "metadata": {
      "needs_background": "light"
     },
     "output_type": "display_data"
    },
    {
     "data": {
      "image/png": "[encoded data removed]",
      "text/plain": [
       "<Figure size 432x288 with 1 Axes>"
      ]
     },
     "metadata": {
      "needs_background": "light"
     },
     "output_type": "display_data"
    },
    {
     "data": {
      "text/html": [
       "<div>\n",
       "<style scoped>\n",
       "    .dataframe tbody tr th:only-of-type {\n",
       "        vertical-align: middle;\n",
       "    }\n",
       "\n",
       "    .dataframe tbody tr th {\n",
       "        vertical-align: top;\n",
       "    }\n",
       "\n",
       "    .dataframe thead th {\n",
       "        text-align: right;\n",
       "    }\n",
       "</style>\n",
       "<table border=\"1\" class=\"dataframe\">\n",
       "  <thead>\n",
       "    <tr style=\"text-align: right;\">\n",
       "      <th></th>\n",
       "      <th>total_duration</th>\n",
       "      <th>total_duration_minutes</th>\n",
       "      <th>number_tasks</th>\n",
       "      <th>avg_duration_per_task_secs</th>\n",
       "    </tr>\n",
       "  </thead>\n",
       "  <tbody>\n",
       "    <tr>\n",
       "      <th>count</th>\n",
       "      <td>26.000000</td>\n",
       "      <td>26.000000</td>\n",
       "      <td>26.000000</td>\n",
       "      <td>26.000000</td>\n",
       "    </tr>\n",
       "    <tr>\n",
       "      <th>mean</th>\n",
       "      <td>4921.769231</td>\n",
       "      <td>82.029487</td>\n",
       "      <td>45.730769</td>\n",
       "      <td>140.498462</td>\n",
       "    </tr>\n",
       "    <tr>\n",
       "      <th>std</th>\n",
       "      <td>2355.092683</td>\n",
       "      <td>39.251545</td>\n",
       "      <td>26.785903</td>\n",
       "      <td>73.217406</td>\n",
       "    </tr>\n",
       "    <tr>\n",
       "      <th>min</th>\n",
       "      <td>399.000000</td>\n",
       "      <td>6.650000</td>\n",
       "      <td>4.000000</td>\n",
       "      <td>22.240000</td>\n",
       "    </tr>\n",
       "    <tr>\n",
       "      <th>25%</th>\n",
       "      <td>3077.500000</td>\n",
       "      <td>51.291667</td>\n",
       "      <td>24.000000</td>\n",
       "      <td>69.660000</td>\n",
       "    </tr>\n",
       "    <tr>\n",
       "      <th>50%</th>\n",
       "      <td>4607.500000</td>\n",
       "      <td>76.791667</td>\n",
       "      <td>44.000000</td>\n",
       "      <td>141.640000</td>\n",
       "    </tr>\n",
       "    <tr>\n",
       "      <th>75%</th>\n",
       "      <td>7058.750000</td>\n",
       "      <td>117.645833</td>\n",
       "      <td>76.250000</td>\n",
       "      <td>191.180000</td>\n",
       "    </tr>\n",
       "    <tr>\n",
       "      <th>max</th>\n",
       "      <td>8445.000000</td>\n",
       "      <td>140.750000</td>\n",
       "      <td>80.000000</td>\n",
       "      <td>288.110000</td>\n",
       "    </tr>\n",
       "  </tbody>\n",
       "</table>\n",
       "</div>"
      ],
      "text/plain": [
       "       total_duration  total_duration_minutes  number_tasks  \\\n",
       "count       26.000000               26.000000     26.000000   \n",
       "mean      4921.769231               82.029487     45.730769   \n",
       "std       2355.092683               39.251545     26.785903   \n",
       "min        399.000000                6.650000      4.000000   \n",
       "25%       3077.500000               51.291667     24.000000   \n",
       "50%       4607.500000               76.791667     44.000000   \n",
       "75%       7058.750000              117.645833     76.250000   \n",
       "max       8445.000000              140.750000     80.000000   \n",
       "\n",
       "       avg_duration_per_task_secs  \n",
       "count                   26.000000  \n",
       "mean                   140.498462  \n",
       "std                     73.217406  \n",
       "min                     22.240000  \n",
       "25%                     69.660000  \n",
       "50%                    141.640000  \n",
       "75%                    191.180000  \n",
       "max                    288.110000  "
      ]
     },
     "execution_count": 229,
     "metadata": {},
     "output_type": "execute_result"
    }
   ],
   "source": [
    "per_student = {str(pupil[\"_id\"]): {\"total_duration\": 0, \"total_duration_minutes\": 0,\"number_tasks\": 0, \"avg_duration_per_task_secs\": 0} for pupil in final_pupils_KI}\n",
    "\n",
    "for pupil in final_pupils_KI: #für jeden schüler\n",
    "    #print(pupil)\n",
    "    for task in pupil[\"solvedTaskSeries\"]:\n",
    "        #print(task)\n",
    "        for subsections in task[\"currentSections\"]:\n",
    "            #print(subsections)\n",
    "            for subsection in subsections[\"currentSubSections\"]:\n",
    "                #total_duration += subsection[\"duration\"]\n",
    "                #total_task_count += 1\n",
    "                per_student[pupil[\"_id\"]][\"total_duration\"] += subsection[\"duration\"]\n",
    "                per_student[pupil[\"_id\"]][\"number_tasks\"] += 1\n",
    "                pass\n",
    "    per_student[pupil[\"_id\"]][\"avg_duration_per_task_secs\"] = round(per_student[pupil[\"_id\"]][\"total_duration\"]/per_student[pupil[\"_id\"]][\"number_tasks\"], 2)\n",
    "    per_student[pupil[\"_id\"]][\"total_duration_minutes\"] = per_student[pupil[\"_id\"]][\"total_duration\"]/60\n",
    "\n",
    "#print(\"Average Duration KI Paket: \" + str(total_duration / len(final_pupils_KI)))\n",
    "#print(per_student)\n",
    "\n",
    "per_student_df = pd.DataFrame.from_dict(per_student).T\n",
    "\n",
    "print(\"\\n\")\n",
    "print(per_student_df.min())\n",
    "print(\"\\n\")\n",
    "print(per_student_df.max())\n",
    "\n",
    "#plt.hist(per_student_df[\"total_duration_minutes\"], bins=int(per_student_df[\"total_duration_minutes\"].max()))\n",
    "plt.hist(per_student_df[\"total_duration_minutes\"], bins=30)\n",
    "plt.xlabel(\"Total duration in Minutes\")\n",
    "plt.show()\n",
    "#plt.hist(per_student_df[\"avg_duration_per_task_secs\"], bins=int(per_student_df[\"avg_duration_per_task_secs\"].max())+1)\n",
    "plt.hist(per_student_df[\"avg_duration_per_task_secs\"], bins=30)\n",
    "plt.xlabel(\"Average duration per Tasks in seconds\")\n",
    "plt.show()\n",
    "\n",
    "per_student_df.describe()"
   ]
  },
  {
   "cell_type": "markdown",
   "metadata": {},
   "source": [
    "# Eine Spezifische Aufgabe auswählend"
   ]
  },
  {
   "cell_type": "code",
   "execution_count": 1,
   "metadata": {},
   "outputs": [
    {
     "ename": "NameError",
     "evalue": "name 'pd' is not defined",
     "output_type": "error",
     "traceback": [
      "\u001b[0;31m---------------------------------------------------------------------------\u001b[0m",
      "\u001b[0;31mNameError\u001b[0m                                 Traceback (most recent call last)",
      "\u001b[0;32m<ipython-input-1-f192f371bb7b>\u001b[0m in \u001b[0;36m<module>\u001b[0;34m\u001b[0m\n\u001b[1;32m      7\u001b[0m \u001b[0;34m\u001b[0m\u001b[0m\n\u001b[1;32m      8\u001b[0m \u001b[0mcolumns\u001b[0m \u001b[0;34m=\u001b[0m \u001b[0;34m[\u001b[0m\u001b[0;34m\"_id\"\u001b[0m\u001b[0;34m,\u001b[0m \u001b[0;34m\"taskSeriesId\"\u001b[0m\u001b[0;34m,\u001b[0m \u001b[0;34m\"subsec_nr\"\u001b[0m\u001b[0;34m]\u001b[0m \u001b[0;34m+\u001b[0m \u001b[0mexercise_keys\u001b[0m\u001b[0;34m\u001b[0m\u001b[0;34m\u001b[0m\u001b[0m\n\u001b[0;32m----> 9\u001b[0;31m \u001b[0mdf\u001b[0m \u001b[0;34m=\u001b[0m \u001b[0mpd\u001b[0m\u001b[0;34m.\u001b[0m\u001b[0mDataFrame\u001b[0m\u001b[0;34m(\u001b[0m\u001b[0mcolumns\u001b[0m\u001b[0;34m=\u001b[0m\u001b[0mcolumns\u001b[0m\u001b[0;34m)\u001b[0m\u001b[0;34m\u001b[0m\u001b[0;34m\u001b[0m\u001b[0m\n\u001b[0m\u001b[1;32m     10\u001b[0m \u001b[0;34m\u001b[0m\u001b[0m\n\u001b[1;32m     11\u001b[0m \u001b[0mrow_nr\u001b[0m \u001b[0;34m=\u001b[0m \u001b[0;36m0\u001b[0m\u001b[0;34m\u001b[0m\u001b[0;34m\u001b[0m\u001b[0m\n",
      "\u001b[0;31mNameError\u001b[0m: name 'pd' is not defined"
     ]
    }
   ],
   "source": [
    "tasktypes = [\"blockly\", \"multipleChoice\", \"freetext\", \"survey\", \"inputField\", \"surveySlider\", \"noTask\"]\n",
    "exercise_keys = ['state', 'submitted', 'history', 'subType', 'evaluation', 'falseAttempts', 'hintsTaken', 'rating', 'teacherFeedback']\n",
    "\n",
    "\n",
    "columns = [\"_id\", \"taskSeriesId\", \"subsec_nr\"] + exercise_keys\n",
    "df = pd.DataFrame(columns=columns)\n",
    "\n",
    "row_nr = 0\n",
    "for pupil in final_pupils_KI:\n",
    "    for task in pupil[\"solvedTaskSeries\"]:\n",
    "        if(task[\"taskSeriesId\"] == \"EvalML\"):\n",
    "            for section in task[\"currentSections\"]:\n",
    "                subsec_nr = 1\n",
    "                for subsection in section[\"currentSubSections\"]:\n",
    "                    new_df = df.append({\"_id\": pupil[\"_id\"], 'taskSeriesId': 'EvalML', \"subsec_nr\": subsec_nr}, ignore_index=True)\n",
    "                    df = new_df.copy()\n",
    "                    if(\"exercise\" in subsection.keys()):\n",
    "                        for key in subsection[\"exercise\"].keys():\n",
    "                            df.at[row_nr, key] = subsection[\"exercise\"][key]\n",
    "                            pass\n",
    "                    subsec_nr += 1\n",
    "                    row_nr += 1\n",
    "# here we fill the df with all subsections in the EvalML taskseries\n",
    "\n",
    "#questions = [\"Wie gut hast du verstanden, was KI ist?\", \"Wie gut hast du den Unterschied zwischen spezifischer und allgemeiner KI verstanden?\", \"MC: Welche Aussagen stimmen?\", \"MC\", \"Wie gut hast du verstanden, was maschinelles Lernen ist?\", \"Wie sehr hast du das Gefühl, verstanden zu haben, was der Unterschied zwischen überwachtem und unüberwachtem Lernen ist?\", \"Beschreib noch einmal in eigenen Worten, was maschinelles Lernen ist.\", \"MC: Welche der Aussagen über maschinelles Lernen stimmen?\", \"MC: Welche Art des Lernens sind folgende Aufgaben?\", \"noTask\"]\n",
    "\n",
    "questions = {\"1\": \"Wie gut hast du verstanden, was KI ist?\", \"2\": \"Wie gut hast du den Unterschied zwischen spezifischer und allgemeiner KI verstanden?\", \"3\": \"MC: Welche Aussagen stimmen?\", \"4\": \"MC\", \"5\": \"Wie gut hast du verstanden, was maschinelles Lernen ist?\", \"6\": \"Wie sehr hast du das Gefühl, verstanden zu haben, was der Unterschied zwischen überwachtem und unüberwachtem Lernen ist?\", \"7\": \"Beschreib noch einmal in eigenen Worten, was maschinelles Lernen ist.\", \"8\": \"MC: Welche der Aussagen über maschinelles Lernen stimmen?\", \"9\": \"MC: Welche Art des Lernens sind folgende Aufgaben?\", \"10\": \"noTask\"}\n",
    "\n",
    "\n",
    "#now we separate it by the number of the subsection into different dataframes\n",
    "\"\"\"\n",
    "for value in set(df[\"subsec_nr\"].values):\n",
    "    namestring = \"df\"+str(value)\n",
    "    exec('{} = pd.DataFrame(df.loc[df[\\'subsec_nr\\'] == value])'.format(namestring))\n",
    "\"\"\"\n",
    "\n",
    "df[\"question\"] = questions[str(row[\"subsec_nr\"])]\n",
    "\n",
    "for i, row in df.iterrows():\n",
    "    #print(row[\"subsec_nr\"])\n",
    "    row[\"question\"] = questions[str(row[\"subsec_nr\"])]\n",
    "    #pass\n",
    "\n",
    "#df[\"question\"] = questions[df[\"subsec_nr\"]]\n",
    "\n",
    "df.head()"
   ]
  },
  {
   "cell_type": "code",
   "execution_count": 251,
   "metadata": {},
   "outputs": [
    {
     "name": "stdout",
     "output_type": "stream",
     "text": [
      "Wie gut hast du verstanden, was KI ist? --> Mean: 73.2\n",
      "Wie gut hast du verstanden, was KI ist? --> Median: 77.5\n",
      "\n",
      "Wie gut hast du den Unterschied zwischen spezifischer und allgemeiner KI verstanden? --> Mean: 82.5\n",
      "Wie gut hast du den Unterschied zwischen spezifischer und allgemeiner KI verstanden? --> Median: 94.0\n",
      "\n",
      "Wie gut hast du verstanden, was maschinelles Lernen ist? --> Mean: 74.3\n",
      "Wie gut hast du verstanden, was maschinelles Lernen ist? --> Median: 75.0\n",
      "\n",
      "Wie sehr hast du das Gefühl, verstanden zu haben, was der Unterschied zwischen überwachtem und unüberwachtem Lernen ist? --> Mean: 81.1\n",
      "Wie sehr hast du das Gefühl, verstanden zu haben, was der Unterschied zwischen überwachtem und unüberwachtem Lernen ist? --> Median: 87.0\n"
     ]
    },
    {
     "data": {
      "image/png": "[encoded data removed]",
      "text/plain": [
       "<Figure size 432x288 with 1 Axes>"
      ]
     },
     "metadata": {
      "needs_background": "light"
     },
     "output_type": "display_data"
    }
   ],
   "source": [
    "for i, row in df.iterrows():\n",
    "    if(row[\"subType\"] == \"surveySlider\"):\n",
    "        plt.scatter(row[\"state\"], row[\"subsec_nr\"])\n",
    "        #pass\n",
    "\n",
    "print(questions[0] + \" --> Mean: \" + str(df.loc[df[\"subsec_nr\"] == 1][\"state\"].mean()))  \n",
    "print(questions[0] + \" --> Median: \" + str(df.loc[df[\"subsec_nr\"] == 1][\"state\"].median())) \n",
    "print(\"\")\n",
    "print(questions[1] + \" --> Mean: \" + str(df.loc[df[\"subsec_nr\"] == 2][\"state\"].mean())) \n",
    "print(questions[1] + \" --> Median: \" + str(df.loc[df[\"subsec_nr\"] == 2][\"state\"].median()))\n",
    "print(\"\")\n",
    "print(questions[4] + \" --> Mean: \" + str(df.loc[df[\"subsec_nr\"] == 5][\"state\"].mean()))  \n",
    "print(questions[4] + \" --> Median: \" + str(df.loc[df[\"subsec_nr\"] == 5][\"state\"].median()))\n",
    "print(\"\")\n",
    "print(questions[5] + \" --> Mean: \" + str(df.loc[df[\"subsec_nr\"] == 6][\"state\"].mean())) \n",
    "print(questions[5] + \" --> Median: \" + str(df.loc[df[\"subsec_nr\"] == 6][\"state\"].median())) "
   ]
  },
  {
   "cell_type": "code",
   "execution_count": 41,
   "metadata": {},
   "outputs": [
    {
     "name": "stdout",
     "output_type": "stream",
     "text": [
      "<class 'int'>\n"
     ]
    },
    {
     "data": {
      "image/png": "[encoded data removed]",
      "text/plain": [
       "<Figure size 432x288 with 1 Axes>"
      ]
     },
     "metadata": {
      "needs_background": "light"
     },
     "output_type": "display_data"
    },
    {
     "data": {
      "image/png": "[encoded data removed]",
      "text/plain": [
       "<Figure size 432x288 with 1 Axes>"
      ]
     },
     "metadata": {
      "needs_background": "light"
     },
     "output_type": "display_data"
    },
    {
     "data": {
      "image/png": "[encoded data removed]",
      "text/plain": [
       "<Figure size 432x288 with 1 Axes>"
      ]
     },
     "metadata": {
      "needs_background": "light"
     },
     "output_type": "display_data"
    },
    {
     "data": {
      "image/png": "[encoded data removed]",
      "text/plain": [
       "<Figure size 432x288 with 1 Axes>"
      ]
     },
     "metadata": {
      "needs_background": "light"
     },
     "output_type": "display_data"
    }
   ],
   "source": [
    "import seaborn as sns\n",
    "\n",
    "for i in [1, 2, 5, 6]:\n",
    "    #print(df[df[\"subsec_nr\"] == i])\n",
    "    #ax = sns.boxplot(x=df[df[\"subsec_nr\"] == i])\n",
    "    ax = sns.boxplot(x=df.loc[df[\"subsec_nr\"] == i][\"state\"])\n",
    "    ax.set_title(questions[str(i)])\n",
    "    plt.show()\n",
    "\n",
    "# Boxplot:\n",
    "# Median, Box sind 50% zwischen oeberen und unterem Quartil. Interquartilsabstand.\n",
    "# Whiskers: Länge der Whisker auf maximal das 1,5-Fache des Interquartilsabstands (1,5×IQR) zu beschränken. Dabei endet der Whisker jedoch nicht genau nach dieser Länge, sondern bei dem Wert aus den Daten, der noch innerhalb dieser Grenze liegt.\n",
    "# Gibt es keine Werte außerhalb der Grenze von 1,5×IQR, wird die Länge des Whiskers durch den maximalen und minimalen Wert festgelegt.\n",
    "# --> nur einen ausreißer beim \"Was ist maschinelles Lernen\""
   ]
  },
  {
   "cell_type": "code",
   "execution_count": 252,
   "metadata": {},
   "outputs": [],
   "source": [
    "# MCs ergebnisse checken\n",
    "# freetext antworten checken (antworten, lehrer bewertung,...)\n",
    "# durations\n",
    "\n",
    "# welche subsections noch begutachten? --> welche in eval? welche sonst so?"
   ]
  },
  {
   "cell_type": "code",
   "execution_count": 24,
   "metadata": {},
   "outputs": [
    {
     "data": {
      "text/html": [
       "<div>\n",
       "<style scoped>\n",
       "    .dataframe tbody tr th:only-of-type {\n",
       "        vertical-align: middle;\n",
       "    }\n",
       "\n",
       "    .dataframe tbody tr th {\n",
       "        vertical-align: top;\n",
       "    }\n",
       "\n",
       "    .dataframe thead th {\n",
       "        text-align: right;\n",
       "    }\n",
       "</style>\n",
       "<table border=\"1\" class=\"dataframe\">\n",
       "  <thead>\n",
       "    <tr style=\"text-align: right;\">\n",
       "      <th></th>\n",
       "      <th>W</th>\n",
       "      <th>X</th>\n",
       "      <th>Y</th>\n",
       "      <th>Z</th>\n",
       "      <th>new</th>\n",
       "    </tr>\n",
       "  </thead>\n",
       "  <tbody>\n",
       "    <tr>\n",
       "      <th>B</th>\n",
       "      <td>1.195530</td>\n",
       "      <td>0.468383</td>\n",
       "      <td>0.372688</td>\n",
       "      <td>0.198315</td>\n",
       "      <td>1.568218</td>\n",
       "    </tr>\n",
       "    <tr>\n",
       "      <th>C</th>\n",
       "      <td>0.130783</td>\n",
       "      <td>0.266145</td>\n",
       "      <td>2.825187</td>\n",
       "      <td>-0.197145</td>\n",
       "      <td>2.955970</td>\n",
       "    </tr>\n",
       "    <tr>\n",
       "      <th>E</th>\n",
       "      <td>1.301416</td>\n",
       "      <td>0.665148</td>\n",
       "      <td>0.611033</td>\n",
       "      <td>0.068698</td>\n",
       "      <td>1.912450</td>\n",
       "    </tr>\n",
       "  </tbody>\n",
       "</table>\n",
       "</div>"
      ],
      "text/plain": [
       "          W         X         Y         Z       new\n",
       "B  1.195530  0.468383  0.372688  0.198315  1.568218\n",
       "C  0.130783  0.266145  2.825187 -0.197145  2.955970\n",
       "E  1.301416  0.665148  0.611033  0.068698  1.912450"
      ]
     },
     "execution_count": 24,
     "metadata": {},
     "output_type": "execute_result"
    }
   ],
   "source": [
    "# PANDAS RECAP!\n",
    "\n",
    "#creating a DF\n",
    "df1 = pd.DataFrame(randn(5,4),index='A B C D E'.split(),columns='W X Y Z'.split())\n",
    "\n",
    "#selecting columns: \n",
    "df1[['W','Z']] # Pass a list of column names\n",
    "\n",
    "#creating new columns:\n",
    "df1['new'] = df1['W'] + df1['Y']\n",
    "\n",
    "#selecting rows:\n",
    "df1.loc['A'] #based on label\n",
    "df1.iloc[2] #based on position\n",
    "\n",
    "#subsets of rows and columns:\n",
    "df1.loc['B','Y']\n",
    "df1.loc[['A','B'],['W','Y']]\n",
    "\n",
    "\n",
    "#conditional selection\n",
    "df>0 #returns df with truth values\n",
    "df[df>0] # return the dataframe and NaN where it is false\n",
    "df1[df1['W']>0]\n",
    "df1[df1['W']>0][['Y','X']] # sample some rows from this dataframe\n",
    "df1[(df1['W']>0) & (df1['Y'] > 1)] #two conditions"
   ]
  },
  {
   "cell_type": "code",
   "execution_count": 79,
   "metadata": {},
   "outputs": [
    {
     "data": {
      "text/html": [
       "<div>\n",
       "<style scoped>\n",
       "    .dataframe tbody tr th:only-of-type {\n",
       "        vertical-align: middle;\n",
       "    }\n",
       "\n",
       "    .dataframe tbody tr th {\n",
       "        vertical-align: top;\n",
       "    }\n",
       "\n",
       "    .dataframe thead th {\n",
       "        text-align: right;\n",
       "    }\n",
       "</style>\n",
       "<table border=\"1\" class=\"dataframe\">\n",
       "  <thead>\n",
       "    <tr style=\"text-align: right;\">\n",
       "      <th></th>\n",
       "      <th>A</th>\n",
       "      <th>B</th>\n",
       "    </tr>\n",
       "    <tr>\n",
       "      <th>subsec_nr</th>\n",
       "      <th></th>\n",
       "      <th></th>\n",
       "    </tr>\n",
       "  </thead>\n",
       "  <tbody>\n",
       "    <tr>\n",
       "      <th>1</th>\n",
       "      <td>-0.542106</td>\n",
       "      <td>-1.042975</td>\n",
       "    </tr>\n",
       "    <tr>\n",
       "      <th>2</th>\n",
       "      <td>1.187082</td>\n",
       "      <td>1.268756</td>\n",
       "    </tr>\n",
       "    <tr>\n",
       "      <th>3</th>\n",
       "      <td>1.809794</td>\n",
       "      <td>0.967925</td>\n",
       "    </tr>\n",
       "    <tr>\n",
       "      <th>4</th>\n",
       "      <td>-0.655562</td>\n",
       "      <td>-0.023410</td>\n",
       "    </tr>\n",
       "    <tr>\n",
       "      <th>5</th>\n",
       "      <td>1.198240</td>\n",
       "      <td>1.130571</td>\n",
       "    </tr>\n",
       "    <tr>\n",
       "      <th>6</th>\n",
       "      <td>0.112714</td>\n",
       "      <td>-0.847505</td>\n",
       "    </tr>\n",
       "    <tr>\n",
       "      <th>7</th>\n",
       "      <td>2.529616</td>\n",
       "      <td>0.796917</td>\n",
       "    </tr>\n",
       "    <tr>\n",
       "      <th>8</th>\n",
       "      <td>-0.395754</td>\n",
       "      <td>0.798019</td>\n",
       "    </tr>\n",
       "    <tr>\n",
       "      <th>9</th>\n",
       "      <td>1.275917</td>\n",
       "      <td>0.720822</td>\n",
       "    </tr>\n",
       "    <tr>\n",
       "      <th>10</th>\n",
       "      <td>-0.712700</td>\n",
       "      <td>-1.205528</td>\n",
       "    </tr>\n",
       "  </tbody>\n",
       "</table>\n",
       "</div>"
      ],
      "text/plain": [
       "                  A         B\n",
       "subsec_nr                    \n",
       "1         -0.542106 -1.042975\n",
       "2          1.187082  1.268756\n",
       "3          1.809794  0.967925\n",
       "4         -0.655562 -0.023410\n",
       "5          1.198240  1.130571\n",
       "6          0.112714 -0.847505\n",
       "7          2.529616  0.796917\n",
       "8         -0.395754  0.798019\n",
       "9          1.275917  0.720822\n",
       "10        -0.712700 -1.205528"
      ]
     },
     "execution_count": 79,
     "metadata": {},
     "output_type": "execute_result"
    }
   ],
   "source": [
    "# MULTI-INDEXING\n",
    "#ginge zb nach Schüler, nach Aufgabe und dann nach Subsection\n",
    "\n",
    "pupilid = list(df[\"_id\"])\n",
    "taskseriesid = list(df[\"taskSeriesId\"])\n",
    "subsec_nr = list(df[\"subsec_nr\"])\n",
    "\n",
    "hier_index = list(zip(pupilid,taskseriesid, subsec_nr))\n",
    "hier_index = pd.MultiIndex.from_tuples(hier_index)\n",
    "\n",
    "df3 = pd.DataFrame(np.random.randn(100,2), index=hier_index, columns=['A','B'])\n",
    "df3.index.names = [\"pupilid\", \"taskseriesid\", \"subsec_nr\"]\n",
    "\n",
    "df3\n",
    "df3.loc[\"bniRycMi5bwrXjvGy\"].loc[\"EvalML\"] #so kann man dann entries accessen! \n",
    "#.xs geht auch. weiß nicht, was der unterschied ist"
   ]
  },
  {
   "cell_type": "code",
   "execution_count": 81,
   "metadata": {},
   "outputs": [
    {
     "data": {
      "text/plain": [
       "pupilid            taskseriesid  subsec_nr\n",
       "bniRycMi5bwrXjvGy  EvalML        1           -0.542106\n",
       "                                 2            1.187082\n",
       "                                 3            1.809794\n",
       "                                 4           -0.655562\n",
       "                                 5            1.198240\n",
       "                                                ...   \n",
       "gooproPtWeTH6dtcB  EvalML        6            0.955551\n",
       "                                 7            1.201803\n",
       "                                 8            0.844916\n",
       "                                 9            1.032072\n",
       "                                 10           1.724321\n",
       "Name: A, Length: 100, dtype: float64"
      ]
     },
     "execution_count": 81,
     "metadata": {},
     "output_type": "execute_result"
    }
   ],
   "source": [
    "# MISSING VALUES\n",
    "\n",
    "df3.dropna() # drops all rows with missing values\n",
    "df3.dropna(axis=1) # all columns with missing values\n",
    "df3.dropna(thresh=2) #with a certain number of missing values\n",
    "df3['A'].fillna(value=df3['A'].mean())"
   ]
  },
  {
   "cell_type": "code",
   "execution_count": 227,
   "metadata": {},
   "outputs": [
    {
     "data": {
      "text/plain": [
       "subsec_nr\n",
       "1    73.2\n",
       "2    82.5\n",
       "5    74.3\n",
       "6    81.1\n",
       "Name: state, dtype: float64"
      ]
     },
     "execution_count": 227,
     "metadata": {},
     "output_type": "execute_result"
    }
   ],
   "source": [
    "# GROUPBY allows you to group rows of data together and call aggregate functions\n",
    "slider_by_subsec_nr = df[df[\"subType\"] == \"surveySlider\"].groupby(\"subsec_nr\") #This will create a DataFrameGroupBy object\n",
    "slider_by_subsec_nr.min() # we can then call aggregate methods off the object: .mean(), .std(), .min(), .max(), .count(), .describe()\n",
    "slider_by_subsec_nr.max()\n",
    "\n",
    "slider_by_subsec_nr[\"state\"].sum()/10 # mean geht nicht --> sum durch anzahl je gruppe"
   ]
  },
  {
   "cell_type": "code",
   "execution_count": 244,
   "metadata": {},
   "outputs": [
    {
     "data": {
      "text/html": [
       "<div>\n",
       "<style scoped>\n",
       "    .dataframe tbody tr th:only-of-type {\n",
       "        vertical-align: middle;\n",
       "    }\n",
       "\n",
       "    .dataframe tbody tr th {\n",
       "        vertical-align: top;\n",
       "    }\n",
       "\n",
       "    .dataframe thead tr th {\n",
       "        text-align: left;\n",
       "    }\n",
       "\n",
       "    .dataframe thead tr:last-of-type th {\n",
       "        text-align: right;\n",
       "    }\n",
       "</style>\n",
       "<table border=\"1\" class=\"dataframe\">\n",
       "  <thead>\n",
       "    <tr>\n",
       "      <th></th>\n",
       "      <th></th>\n",
       "      <th colspan=\"3\" halign=\"left\">state</th>\n",
       "    </tr>\n",
       "    <tr>\n",
       "      <th></th>\n",
       "      <th></th>\n",
       "      <th>max</th>\n",
       "      <th>min</th>\n",
       "      <th>sum</th>\n",
       "    </tr>\n",
       "    <tr>\n",
       "      <th>taskSeriesId</th>\n",
       "      <th>subsec_nr</th>\n",
       "      <th></th>\n",
       "      <th></th>\n",
       "      <th></th>\n",
       "    </tr>\n",
       "  </thead>\n",
       "  <tbody>\n",
       "    <tr>\n",
       "      <th rowspan=\"4\" valign=\"top\">EvalML</th>\n",
       "      <th>1</th>\n",
       "      <td>96</td>\n",
       "      <td>40</td>\n",
       "      <td>732</td>\n",
       "    </tr>\n",
       "    <tr>\n",
       "      <th>2</th>\n",
       "      <td>100</td>\n",
       "      <td>33</td>\n",
       "      <td>825</td>\n",
       "    </tr>\n",
       "    <tr>\n",
       "      <th>5</th>\n",
       "      <td>100</td>\n",
       "      <td>37</td>\n",
       "      <td>743</td>\n",
       "    </tr>\n",
       "    <tr>\n",
       "      <th>6</th>\n",
       "      <td>100</td>\n",
       "      <td>50</td>\n",
       "      <td>811</td>\n",
       "    </tr>\n",
       "  </tbody>\n",
       "</table>\n",
       "</div>"
      ],
      "text/plain": [
       "                       state         \n",
       "                         max min  sum\n",
       "taskSeriesId subsec_nr               \n",
       "EvalML       1            96  40  732\n",
       "             2           100  33  825\n",
       "             5           100  37  743\n",
       "             6           100  50  811"
      ]
     },
     "execution_count": 244,
     "metadata": {},
     "output_type": "execute_result"
    }
   ],
   "source": [
    "# man kann auch mittels pivot_table aggregieren\n",
    "pd.pivot_table(df[df[\"subType\"] == \"surveySlider\"], values='state', index=['taskSeriesId', 'subsec_nr'], aggfunc=np.sum)\n",
    "pd.pivot_table(df[df[\"subType\"] == \"surveySlider\"], index=['taskSeriesId', 'subsec_nr'], aggfunc={'state': [min, max, np.sum]})\n",
    "# also possible with different agg functions for different columns: aggfunc={'state': np.sum,'state': [min, max, np.sum]}"
   ]
  },
  {
   "cell_type": "code",
   "execution_count": null,
   "metadata": {},
   "outputs": [],
   "source": [
    "# MERGING, JOINING, CONCATENATING\n",
    "\n",
    "# concatenation: pd.concat([df1,df2,df3])\n",
    "# merging: pd.merge(left,right,how='inner',on='key')\n",
    "# Joining is a convenient method for combining the columns of two potentially differently-indexed DataFrames into a single result DataFrame\n",
    "# left.join(right)"
   ]
  },
  {
   "cell_type": "code",
   "execution_count": 233,
   "metadata": {},
   "outputs": [
    {
     "data": {
      "text/plain": [
       "taskSeriesId  subsec_nr\n",
       "EvalML        3            8\n",
       "              8            6\n",
       "              9            1\n",
       "              4            1\n",
       "dtype: int64"
      ]
     },
     "execution_count": 233,
     "metadata": {},
     "output_type": "execute_result"
    }
   ],
   "source": [
    "# USEFUL OPERATIONS\n",
    "# SORT Values\n",
    "df.sort_values(by='subsec_nr')\n",
    "\n",
    "# COUNTING\n",
    "df[df[\"subType\"] == \"surveySlider\"][\"state\"].unique() #unique values\n",
    "df[df[\"subType\"] == \"surveySlider\"][\"state\"].nunique() #number of unique values\n",
    "df[df[\"subType\"] == \"surveySlider\"][\"state\"].value_counts() #counts occurance of each value\n",
    "\n",
    "df[(df['subType'] == \"multipleChoice\") & (df['evaluation']==\"false\")] #or correct\n",
    "df[(df['subType'] == \"multipleChoice\") & (df['evaluation']==\"false\")][[\"taskSeriesId\", \"subsec_nr\"]].value_counts()\n",
    "# so kann man die Aufgaben mit den meisten Fehlern counten!"
   ]
  },
  {
   "cell_type": "code",
   "execution_count": 1,
   "metadata": {},
   "outputs": [
    {
     "data": {
      "text/plain": [
       "'\\n* df.plot.area\\n* df.plot.barh\\n* df.plot.density\\n* df.plot.hist\\n* df.plot.line\\n* df.plot.scatter\\n* df.plot.bar\\n* df.plot.box\\n* df.plot.hexbin\\n* df.plot.kde\\n* df.plot.pie\\n'"
      ]
     },
     "execution_count": 1,
     "metadata": {},
     "output_type": "execute_result"
    }
   ],
   "source": [
    "# PLOTTING\n",
    "# pandas inbuild\n",
    "\n",
    "'''\n",
    "* df.plot.area\n",
    "* df.plot.barh\n",
    "* df.plot.density\n",
    "* df.plot.hist\n",
    "* df.plot.line\n",
    "* df.plot.scatter\n",
    "* df.plot.bar\n",
    "* df.plot.box\n",
    "* df.plot.hexbin\n",
    "* df.plot.kde\n",
    "* df.plot.pie\n",
    "'''"
   ]
  },
  {
   "cell_type": "markdown",
   "metadata": {},
   "source": [
    "# Groupby\n",
    "\n",
    "grouping + then aggregating!\n",
    "\n",
    "grouped_by_pupil = df.groupby(\"pupilId\")\n",
    "\n",
    "### Iterating\n",
    "for name, group in grouped_by_pupil:\n",
    "    print (name, group)\n",
    "    \n",
    "### Selecting a group\n",
    "grouped_by_pupil.get_group(2014)\n",
    "\n",
    "### Aggregations:\n",
    "grouped['Points'].agg(np.mean)\n",
    "grouped['Points'].agg([np.sum, np.mean, np.std]) # using multiple aggregation functions at once\n",
    "\n",
    "### Transformations\n",
    "score = lambda x: (x - x.mean()) / x.std()*10\n",
    "print grouped.transform(score)\n",
    "\n",
    "### Filtration\n",
    "df.groupby('Team').filter(lambda x: len(x) >= 3)"
   ]
  },
  {
   "cell_type": "code",
   "execution_count": null,
   "metadata": {},
   "outputs": [],
   "source": []
  },
  {
   "cell_type": "code",
   "execution_count": null,
   "metadata": {},
   "outputs": [],
   "source": []
  }
 ],
 "metadata": {
  "kernelspec": {
   "display_name": "Python 3",
   "language": "python",
   "name": "python3"
  },
  "language_info": {
   "codemirror_mode": {
    "name": "ipython",
    "version": 3
   },
   "file_extension": ".py",
   "mimetype": "text/x-python",
   "name": "python",
   "nbconvert_exporter": "python",
   "pygments_lexer": "ipython3",
   "version": "3.7.6"
  }
 },
 "nbformat": 4,
 "nbformat_minor": 4
}
