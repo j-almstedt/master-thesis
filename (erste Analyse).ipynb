{
 "cells": [
  {
   "cell_type": "code",
   "execution_count": 1,
   "metadata": {},
   "outputs": [],
   "source": [
    "import json\n",
    "import math\n",
    "import scipy\n",
    "import numpy as np\n",
    "import pandas as pd\n",
    "import matplotlib.pyplot as plt\n",
    "import statistics \n",
    "import seaborn as sns\n",
    "from numpy.random import randn\n",
    "from statistics import mode\n",
    "%matplotlib inline"
   ]
  },
  {
   "cell_type": "code",
   "execution_count": 2,
   "metadata": {},
   "outputs": [
    {
     "data": {
      "text/plain": [
       "2996"
      ]
     },
     "execution_count": 2,
     "metadata": {},
     "output_type": "execute_result"
    }
   ],
   "source": [
    "pupils = json.load(open('pupils.json', 'r'))    # result will be a python dictionary\n",
    "\n",
    "#jeder entry ist ein schüler: zB data[0]\n",
    "len(pupils)\n",
    "#2715"
   ]
  },
  {
   "cell_type": "markdown",
   "metadata": {},
   "source": [
    "# Aufbau der Daten\n",
    "\n",
    "* _id\n",
    "* classId\n",
    "* userId\n",
    "* companyId\n",
    "* partner\n",
    "* lang\n",
    "* username\n",
    "* shownTaskSeries\n",
    "* currentTaskSeries\n",
    "* solvedTaskSeries\n",
    "    * [] liste mit allen solvedTaskSeries\n",
    "       * sectionIdx\n",
    "       * subSectionIdx\n",
    "       * stage\n",
    "       * wentActive\n",
    "       * lastActive\n",
    "       * created\n",
    "       * taskSeriesId\n",
    "       * currentSections\n",
    "          * [] Liste mit allen Sections\n",
    "             * currentSubSections\n",
    "                * []\n",
    "                   * duration (in sekunden)\n",
    "                   * exercise\n",
    "                      * state:\n",
    "                         * text bei freitext in p tags\n",
    "                         * 0, 1, 0... bei survey\n",
    "                         * false, true, false bei MC\n",
    "                      * submitted: true\n",
    "                      * history: wahrscheinlich alte versionen bei freetext\n",
    "                      * subType “freetext”, “survey”, “multipleChoice”\n",
    "                      * falseAttempts bei MC: bool array mit erster lösung\n",
    "                      * evaluation: (bool) bei freetext und MC\n",
    "                         * “false” bei mc wenn falsche lösung und keine tipps → direkt musterlösung\n",
    "                         * “correct” bei mc wenn richtige lösung\n",
    "                         * “pending” bei freitext, wenn lehrer noch nicht bewertet\n",
    "                      * rating: bei freetext\n",
    "* revisions\n",
    "   * _id\n",
    "   * taskSeriesId\n",
    "   * sectionIdx\n",
    "   * subSectionIdx\n",
    "   * begin\n",
    "   * accepted\n",
    "* workspaceContent\n",
    "   * type: 'revision'\n",
    "   * 'id': 'For-1_0_1'\n",
    "* chat\n",
    "   * messages\n",
    "      * [] liste mit allen messages\n",
    "         * date\n",
    "         * sentBy: zB \"auto\"\n",
    "         * message: string mit message\n",
    "   * readUpTo\n",
    "* assists\n",
    "* experience\n",
    "* lastNotificationUpdate"
   ]
  },
  {
   "cell_type": "markdown",
   "metadata": {},
   "source": [
    "# Klassen wählen, die das KI Paket gemacht haben"
   ]
  },
  {
   "cell_type": "code",
   "execution_count": 3,
   "metadata": {},
   "outputs": [
    {
     "name": "stdout",
     "output_type": "stream",
     "text": [
      "{'uxfuiLT4xZA6yvE6L': {'count': 2}, 'qFEyvypMn4sAwLwtc': {'count': 26}, 'y7j9eKDPsqNkAycuy': {'count': 1}, 'NXCw6MMERYbnzdTjc': {'count': 1}, '6Z2MmkKQKebb7nz8P': {'count': 3}, '4fyXxCKaLbCBaPbYE': {'count': 1}, 'xYWgeSPkADwSmhdmm': {'count': 2}, 'GkQSJvPTRWsLnpyR9': {'count': 14}, '7cWBWtLEcLSYDygDc': {'count': 1}}\n",
      "\n",
      "Zur Zeit gibt es 40 sus, die das KI Paket bearbeitet haben\n"
     ]
    }
   ],
   "source": [
    "# taskseriesIDs vom KI Paket:\n",
    "KI_taskseries_ids = [\"AI-1-v2\", \"AI-2-v2\", \"AI-3-v2\", \"AI-4-v2\", \"ML-1\", \"ML-2\", \"ML-3\", \"Classification-1\", \"Clustering-1\", \"Classification-2\", \"Clustering-2\", \"LimitsML\", \"EvalML\", \"Impact-1\", \"Impact-2\", \"Impact-3\", \"Impact-4\", \"AIClosing\"]\n",
    "\n",
    "classIDsKI = []\n",
    "pupilsKI = []\n",
    "\n",
    "for pupilnumber in range(len(pupils)): #für jeden schüler\n",
    "    for tasknumber in range(len(pupils[pupilnumber][\"solvedTaskSeries\"])): #für jede seiner tasks\n",
    "        if(\"taskSeriesId\" in pupils[pupilnumber][\"solvedTaskSeries\"][tasknumber].keys()):\n",
    "            if(pupils[pupilnumber][\"solvedTaskSeries\"][tasknumber][\"taskSeriesId\"] in KI_taskseries_ids):\n",
    "                for sectionnumber in range(len(pupils[pupilnumber][\"solvedTaskSeries\"][tasknumber][\"currentSections\"])): #für diese tasks, alle sections\n",
    "                    for subsectionnumber in range(len(pupils[pupilnumber][\"solvedTaskSeries\"][tasknumber][\"currentSections\"][sectionnumber][\"currentSubSections\"])):\n",
    "                        if(\"exercise\" in pupils[pupilnumber][\"solvedTaskSeries\"][tasknumber][\"currentSections\"][sectionnumber][\"currentSubSections\"][subsectionnumber].keys()):\n",
    "                            if pupils[pupilnumber][\"classId\"] not in classIDsKI:\n",
    "                                classIDsKI.append(pupils[pupilnumber][\"classId\"])\n",
    "                            if pupils[pupilnumber] not in pupilsKI:\n",
    "                                pupilsKI.append(pupils[pupilnumber])\n",
    "\n",
    "KI_classes = {classID: {\"count\": 0} for classID in classIDsKI}\n",
    "\n",
    "for pupil in pupilsKI:\n",
    "    KI_classes[pupil[\"classId\"]][\"count\"] += 1\n",
    "\n",
    "print(KI_classes)\n",
    "print(\"\")\n",
    "\n",
    "# Jetzt nur die Klassen mit genügend SuS auswählen\n",
    "final_pupils_KI = []\n",
    "min_class_size = 10\n",
    "\n",
    "for pupil in pupilsKI:\n",
    "    if(KI_classes[pupil[\"classId\"]][\"count\"] >= min_class_size):\n",
    "        final_pupils_KI.append(pupil)\n",
    "\n",
    "print(\"Zur Zeit gibt es \" + str(len(final_pupils_KI)) + \" sus, die das KI Paket bearbeitet haben\")"
   ]
  },
  {
   "cell_type": "markdown",
   "metadata": {},
   "source": [
    "## DF mit classId und pupilId konstruieren"
   ]
  },
  {
   "cell_type": "code",
   "execution_count": 4,
   "metadata": {},
   "outputs": [
    {
     "data": {
      "text/html": [
       "<div>\n",
       "<style scoped>\n",
       "    .dataframe tbody tr th:only-of-type {\n",
       "        vertical-align: middle;\n",
       "    }\n",
       "\n",
       "    .dataframe tbody tr th {\n",
       "        vertical-align: top;\n",
       "    }\n",
       "\n",
       "    .dataframe thead th {\n",
       "        text-align: right;\n",
       "    }\n",
       "</style>\n",
       "<table border=\"1\" class=\"dataframe\">\n",
       "  <thead>\n",
       "    <tr style=\"text-align: right;\">\n",
       "      <th></th>\n",
       "      <th>pupilId</th>\n",
       "      <th>classId</th>\n",
       "    </tr>\n",
       "  </thead>\n",
       "  <tbody>\n",
       "    <tr>\n",
       "      <th>0</th>\n",
       "      <td>bniRycMi5bwrXjvGy</td>\n",
       "      <td>qFEyvypMn4sAwLwtc</td>\n",
       "    </tr>\n",
       "    <tr>\n",
       "      <th>1</th>\n",
       "      <td>sqBXKssFvS8pFYAMv</td>\n",
       "      <td>qFEyvypMn4sAwLwtc</td>\n",
       "    </tr>\n",
       "    <tr>\n",
       "      <th>2</th>\n",
       "      <td>Kd6FuRsrq6QvPrkKp</td>\n",
       "      <td>qFEyvypMn4sAwLwtc</td>\n",
       "    </tr>\n",
       "    <tr>\n",
       "      <th>3</th>\n",
       "      <td>6bBwnX2mwAp2NAwNR</td>\n",
       "      <td>qFEyvypMn4sAwLwtc</td>\n",
       "    </tr>\n",
       "    <tr>\n",
       "      <th>4</th>\n",
       "      <td>ZTvPk2i77LDC8pFmu</td>\n",
       "      <td>qFEyvypMn4sAwLwtc</td>\n",
       "    </tr>\n",
       "  </tbody>\n",
       "</table>\n",
       "</div>"
      ],
      "text/plain": [
       "             pupilId            classId\n",
       "0  bniRycMi5bwrXjvGy  qFEyvypMn4sAwLwtc\n",
       "1  sqBXKssFvS8pFYAMv  qFEyvypMn4sAwLwtc\n",
       "2  Kd6FuRsrq6QvPrkKp  qFEyvypMn4sAwLwtc\n",
       "3  6bBwnX2mwAp2NAwNR  qFEyvypMn4sAwLwtc\n",
       "4  ZTvPk2i77LDC8pFmu  qFEyvypMn4sAwLwtc"
      ]
     },
     "execution_count": 4,
     "metadata": {},
     "output_type": "execute_result"
    }
   ],
   "source": [
    "class_list = [{\"pupilId\": pupil[\"_id\"], \"classId\": pupil[\"classId\"]} for pupil in final_pupils_KI]\n",
    "class_df = pd.DataFrame(class_list)\n",
    "\n",
    "class_df.head()"
   ]
  },
  {
   "cell_type": "markdown",
   "metadata": {},
   "source": [
    "#"
   ]
  },
  {
   "cell_type": "code",
   "execution_count": null,
   "metadata": {},
   "outputs": [],
   "source": []
  },
  {
   "cell_type": "markdown",
   "metadata": {},
   "source": [
    "# Alle von SuS bearbeitete Aufgaben im KI Paket in einen DF"
   ]
  },
  {
   "cell_type": "code",
   "execution_count": 5,
   "metadata": {},
   "outputs": [
    {
     "data": {
      "text/html": [
       "<div>\n",
       "<style scoped>\n",
       "    .dataframe tbody tr th:only-of-type {\n",
       "        vertical-align: middle;\n",
       "    }\n",
       "\n",
       "    .dataframe tbody tr th {\n",
       "        vertical-align: top;\n",
       "    }\n",
       "\n",
       "    .dataframe thead th {\n",
       "        text-align: right;\n",
       "    }\n",
       "</style>\n",
       "<table border=\"1\" class=\"dataframe\">\n",
       "  <thead>\n",
       "    <tr style=\"text-align: right;\">\n",
       "      <th></th>\n",
       "      <th>pupilId</th>\n",
       "      <th>taskId</th>\n",
       "      <th>taskSeriesId</th>\n",
       "      <th>duration</th>\n",
       "      <th>state</th>\n",
       "      <th>submitted</th>\n",
       "      <th>subType</th>\n",
       "      <th>evaluation</th>\n",
       "      <th>falseAttempts</th>\n",
       "      <th>hintsTaken</th>\n",
       "      <th>rating</th>\n",
       "      <th>teacherFeedback</th>\n",
       "      <th>history</th>\n",
       "    </tr>\n",
       "  </thead>\n",
       "  <tbody>\n",
       "    <tr>\n",
       "      <th>0</th>\n",
       "      <td>bniRycMi5bwrXjvGy</td>\n",
       "      <td>AI-1-v2-1-1</td>\n",
       "      <td>AI-1-v2</td>\n",
       "      <td>40</td>\n",
       "      <td>92</td>\n",
       "      <td>True</td>\n",
       "      <td>surveySlider</td>\n",
       "      <td>NaN</td>\n",
       "      <td>NaN</td>\n",
       "      <td>NaN</td>\n",
       "      <td>NaN</td>\n",
       "      <td>NaN</td>\n",
       "      <td>[]</td>\n",
       "    </tr>\n",
       "    <tr>\n",
       "      <th>1</th>\n",
       "      <td>bniRycMi5bwrXjvGy</td>\n",
       "      <td>AI-1-v2-1-2</td>\n",
       "      <td>AI-1-v2</td>\n",
       "      <td>119</td>\n",
       "      <td>&lt;p&gt;Künstliche Intelligenz ist ein Algorithmus,...</td>\n",
       "      <td>True</td>\n",
       "      <td>freetext</td>\n",
       "      <td>correct</td>\n",
       "      <td>NaN</td>\n",
       "      <td>NaN</td>\n",
       "      <td>{'content': 3, 'format': 5, 'creativity': 4}</td>\n",
       "      <td>Inhaltlich gut, etwas genauer antworten. Muste...</td>\n",
       "      <td>[]</td>\n",
       "    </tr>\n",
       "    <tr>\n",
       "      <th>2</th>\n",
       "      <td>bniRycMi5bwrXjvGy</td>\n",
       "      <td>AI-1-v2-2-1</td>\n",
       "      <td>AI-1-v2</td>\n",
       "      <td>268</td>\n",
       "      <td>[0, 0, 1, 0, 0]</td>\n",
       "      <td>True</td>\n",
       "      <td>survey</td>\n",
       "      <td>NaN</td>\n",
       "      <td>NaN</td>\n",
       "      <td>NaN</td>\n",
       "      <td>NaN</td>\n",
       "      <td>NaN</td>\n",
       "      <td>[]</td>\n",
       "    </tr>\n",
       "    <tr>\n",
       "      <th>4</th>\n",
       "      <td>bniRycMi5bwrXjvGy</td>\n",
       "      <td>AI-2-v2-1-1</td>\n",
       "      <td>AI-2-v2</td>\n",
       "      <td>94</td>\n",
       "      <td>[True, True, False, True]</td>\n",
       "      <td>True</td>\n",
       "      <td>multipleChoice</td>\n",
       "      <td>correct</td>\n",
       "      <td>NaN</td>\n",
       "      <td>NaN</td>\n",
       "      <td>NaN</td>\n",
       "      <td>NaN</td>\n",
       "      <td>[]</td>\n",
       "    </tr>\n",
       "    <tr>\n",
       "      <th>6</th>\n",
       "      <td>bniRycMi5bwrXjvGy</td>\n",
       "      <td>AI-3-v2-1-1</td>\n",
       "      <td>AI-3-v2</td>\n",
       "      <td>43</td>\n",
       "      <td>[False, False, False]</td>\n",
       "      <td>True</td>\n",
       "      <td>multipleChoice</td>\n",
       "      <td>correct</td>\n",
       "      <td>NaN</td>\n",
       "      <td>NaN</td>\n",
       "      <td>NaN</td>\n",
       "      <td>NaN</td>\n",
       "      <td>[]</td>\n",
       "    </tr>\n",
       "  </tbody>\n",
       "</table>\n",
       "</div>"
      ],
      "text/plain": [
       "             pupilId       taskId taskSeriesId duration  \\\n",
       "0  bniRycMi5bwrXjvGy  AI-1-v2-1-1      AI-1-v2       40   \n",
       "1  bniRycMi5bwrXjvGy  AI-1-v2-1-2      AI-1-v2      119   \n",
       "2  bniRycMi5bwrXjvGy  AI-1-v2-2-1      AI-1-v2      268   \n",
       "4  bniRycMi5bwrXjvGy  AI-2-v2-1-1      AI-2-v2       94   \n",
       "6  bniRycMi5bwrXjvGy  AI-3-v2-1-1      AI-3-v2       43   \n",
       "\n",
       "                                               state submitted  \\\n",
       "0                                                 92      True   \n",
       "1  <p>Künstliche Intelligenz ist ein Algorithmus,...      True   \n",
       "2                                    [0, 0, 1, 0, 0]      True   \n",
       "4                          [True, True, False, True]      True   \n",
       "6                              [False, False, False]      True   \n",
       "\n",
       "          subType evaluation falseAttempts hintsTaken  \\\n",
       "0    surveySlider        NaN           NaN        NaN   \n",
       "1        freetext    correct           NaN        NaN   \n",
       "2          survey        NaN           NaN        NaN   \n",
       "4  multipleChoice    correct           NaN        NaN   \n",
       "6  multipleChoice    correct           NaN        NaN   \n",
       "\n",
       "                                         rating  \\\n",
       "0                                           NaN   \n",
       "1  {'content': 3, 'format': 5, 'creativity': 4}   \n",
       "2                                           NaN   \n",
       "4                                           NaN   \n",
       "6                                           NaN   \n",
       "\n",
       "                                     teacherFeedback history  \n",
       "0                                                NaN      []  \n",
       "1  Inhaltlich gut, etwas genauer antworten. Muste...      []  \n",
       "2                                                NaN      []  \n",
       "4                                                NaN      []  \n",
       "6                                                NaN      []  "
      ]
     },
     "execution_count": 5,
     "metadata": {},
     "output_type": "execute_result"
    }
   ],
   "source": [
    "tasktypes = [\"blockly\", \"multipleChoice\", \"freetext\", \"survey\", \"inputField\", \"surveySlider\", \"noTask\"]\n",
    "exercise_keys = ['state', 'submitted', 'subType', 'evaluation', 'falseAttempts', 'hintsTaken', 'rating', 'teacherFeedback', \"history\"]\n",
    "\n",
    "# TODO: nehme hier alle Aufgaben von SuS, die das KI Paket bearbeitet haben, nicht nur diese Inhalte --> einschränken?\n",
    "\n",
    "columns = [\"pupilId\", \"taskId\", \"taskSeriesId\", \"duration\"] + exercise_keys\n",
    "pupil_df = pd.DataFrame(columns=columns)\n",
    "\n",
    "row_nr = 0\n",
    "for pupil in final_pupils_KI:\n",
    "    for task in pupil[\"solvedTaskSeries\"]:\n",
    "        sec_nr = 1\n",
    "        for section in task[\"currentSections\"]:\n",
    "            subsec_nr = 1\n",
    "            for subsection in section[\"currentSubSections\"]:\n",
    "                # eine neue Zeile hinzufügen für jede bearbeitete Aufgabe und id columns füllen\n",
    "                #df = df.append({\"pupilId\": pupil[\"_id\"], \"taskId\": str(task[\"taskSeriesId\"])+\"-\"+str(sec_nr)+\"-\"+str(subsec_nr),'taskSeriesId': task[\"taskSeriesId\"], \"sec_nr\": sec_nr, \"subsec_nr\": subsec_nr}, ignore_index=True)\n",
    "                pupil_df = pupil_df.append({\"pupilId\": pupil[\"_id\"], \"taskId\": str(task[\"taskSeriesId\"])+\"-\"+str(sec_nr)+\"-\"+str(subsec_nr),'taskSeriesId': task[\"taskSeriesId\"], \"duration\": subsection[\"duration\"]}, ignore_index=True)\n",
    "                subsec_nr += 1\n",
    "                if(\"exercise\" in subsection.keys()):\n",
    "                    # hier wird der eigentliche state der aufgabe in die reihe eingetragen\n",
    "                    for key in subsection[\"exercise\"].keys():\n",
    "                        pupil_df.at[row_nr, key] = subsection[\"exercise\"][key]\n",
    "                row_nr += 1\n",
    "            sec_nr +=1\n",
    "    \n",
    "# aufgaben loswerden, die nicht submitted wurden!\n",
    "pupil_df.dropna(subset=['submitted'], inplace=True)\n",
    "\n",
    "#die antworten der einen falschen aufgabe berichtigen\n",
    "for index in pupil_df.index:\n",
    "    if(pupil_df.loc[index, \"taskId\"] == \"Classification-2-1-5\"):\n",
    "        if (\"2\" in str(pupil_df.loc[index, \"falseAttempts\"])): #die SuS, die es eigentlich richtig hatten\n",
    "            pupil_df.loc[index, \"falseAttempts\"] = np.nan\n",
    "            pupil_df.loc[index, \"evaluation\"] = \"correct\"\n",
    "        elif(pupil_df.loc[index, \"pupilId\"]==\"gooproPtWeTH6dtcB\"): #der eine schüler, der es falsch hatte\n",
    "            pupil_df.loc[index, \"falseAttempts\"] = [str(pupil_df.loc[index, \"state\"])]\n",
    "            pupil_df.loc[index, \"evaluation\"] = \"false\"\n",
    "\n",
    "pupil_df.head()\n"
   ]
  },
  {
   "cell_type": "markdown",
   "metadata": {},
   "source": [
    "## DF mit taskSeries bauen"
   ]
  },
  {
   "cell_type": "code",
   "execution_count": 6,
   "metadata": {},
   "outputs": [],
   "source": [
    "#taskSeries Laden\n",
    "taskSeries = json.load(open('taskSeries.json', 'r'))    # result will be a python dictionary"
   ]
  },
  {
   "cell_type": "code",
   "execution_count": 7,
   "metadata": {},
   "outputs": [
    {
     "data": {
      "text/html": [
       "<div>\n",
       "<style scoped>\n",
       "    .dataframe tbody tr th:only-of-type {\n",
       "        vertical-align: middle;\n",
       "    }\n",
       "\n",
       "    .dataframe tbody tr th {\n",
       "        vertical-align: top;\n",
       "    }\n",
       "\n",
       "    .dataframe thead th {\n",
       "        text-align: right;\n",
       "    }\n",
       "</style>\n",
       "<table border=\"1\" class=\"dataframe\">\n",
       "  <thead>\n",
       "    <tr style=\"text-align: right;\">\n",
       "      <th></th>\n",
       "      <th>taskId</th>\n",
       "      <th>question</th>\n",
       "      <th>answers</th>\n",
       "      <th>minLabel</th>\n",
       "      <th>maxLabel</th>\n",
       "      <th>hints</th>\n",
       "      <th>sampleSolution</th>\n",
       "    </tr>\n",
       "  </thead>\n",
       "  <tbody>\n",
       "    <tr>\n",
       "      <th>0</th>\n",
       "      <td>AI-1-v2-1-1</td>\n",
       "      <td>Wie gut weißt du schon, was KI ist?</td>\n",
       "      <td>NaN</td>\n",
       "      <td>Gar nicht</td>\n",
       "      <td>Sehr gut</td>\n",
       "      <td>NaN</td>\n",
       "      <td>NaN</td>\n",
       "    </tr>\n",
       "    <tr>\n",
       "      <th>1</th>\n",
       "      <td>AI-1-v2-1-2</td>\n",
       "      <td>Was ist deiner Meinung nach Künstliche Intelli...</td>\n",
       "      <td>NaN</td>\n",
       "      <td>NaN</td>\n",
       "      <td>NaN</td>\n",
       "      <td>NaN</td>\n",
       "      <td>Die Schülerinnen und Schüler (SuS) sollen besc...</td>\n",
       "    </tr>\n",
       "    <tr>\n",
       "      <th>2</th>\n",
       "      <td>AI-1-v2-2-1</td>\n",
       "      <td>Wie viele deiner Zeichnungen hat die KI erkann...</td>\n",
       "      <td>[{'de': '0', 'en-US': '0'}, {'de': '1-2', 'en-...</td>\n",
       "      <td>NaN</td>\n",
       "      <td>NaN</td>\n",
       "      <td>NaN</td>\n",
       "      <td>NaN</td>\n",
       "    </tr>\n",
       "    <tr>\n",
       "      <th>3</th>\n",
       "      <td>AI-2-v2-1-1</td>\n",
       "      <td>Kannst du erkennen, wo KI überall drin steckt?...</td>\n",
       "      <td>[{'de': 'Der Newsfeed eines Social Network nut...</td>\n",
       "      <td>NaN</td>\n",
       "      <td>NaN</td>\n",
       "      <td>Denk an die Beispiele, die wir uns am Anfang a...</td>\n",
       "      <td>[True, True, False, True]</td>\n",
       "    </tr>\n",
       "    <tr>\n",
       "      <th>4</th>\n",
       "      <td>AI-3-v2-1-1</td>\n",
       "      <td>Was für Sachen können KI-Anwendungen?</td>\n",
       "      <td>[{'de': 'Die Anwendung, die den Facebook-Feed ...</td>\n",
       "      <td>NaN</td>\n",
       "      <td>NaN</td>\n",
       "      <td>Kann überhaupt eine dieser Anwendungen etwas, ...</td>\n",
       "      <td>[False, False, False]</td>\n",
       "    </tr>\n",
       "  </tbody>\n",
       "</table>\n",
       "</div>"
      ],
      "text/plain": [
       "        taskId                                           question  \\\n",
       "0  AI-1-v2-1-1                Wie gut weißt du schon, was KI ist?   \n",
       "1  AI-1-v2-1-2  Was ist deiner Meinung nach Künstliche Intelli...   \n",
       "2  AI-1-v2-2-1  Wie viele deiner Zeichnungen hat die KI erkann...   \n",
       "3  AI-2-v2-1-1  Kannst du erkennen, wo KI überall drin steckt?...   \n",
       "4  AI-3-v2-1-1              Was für Sachen können KI-Anwendungen?   \n",
       "\n",
       "                                             answers   minLabel  maxLabel  \\\n",
       "0                                                NaN  Gar nicht  Sehr gut   \n",
       "1                                                NaN        NaN       NaN   \n",
       "2  [{'de': '0', 'en-US': '0'}, {'de': '1-2', 'en-...        NaN       NaN   \n",
       "3  [{'de': 'Der Newsfeed eines Social Network nut...        NaN       NaN   \n",
       "4  [{'de': 'Die Anwendung, die den Facebook-Feed ...        NaN       NaN   \n",
       "\n",
       "                                               hints  \\\n",
       "0                                                NaN   \n",
       "1                                                NaN   \n",
       "2                                                NaN   \n",
       "3  Denk an die Beispiele, die wir uns am Anfang a...   \n",
       "4  Kann überhaupt eine dieser Anwendungen etwas, ...   \n",
       "\n",
       "                                      sampleSolution  \n",
       "0                                                NaN  \n",
       "1  Die Schülerinnen und Schüler (SuS) sollen besc...  \n",
       "2                                                NaN  \n",
       "3                          [True, True, False, True]  \n",
       "4                              [False, False, False]  "
      ]
     },
     "execution_count": 7,
     "metadata": {},
     "output_type": "execute_result"
    }
   ],
   "source": [
    "#KI_taskseries_ids = [\"AI-1-v2\", \"AI-2-v2\", \"AI-3-v2\", \"AI-4-v2\", \"ML-1\", \"ML-2\", \"ML-3\", \"Classification-1\", \"Clustering-1\", \"Classification-2\", \"Clustering-2\", \"LimitsML\", \"EvalML\", \"Impact-1\", \"Impact-2\", \"Impact-3\", \"Impact-4\", \"AIClosing\"]\n",
    "\n",
    "interaction_subtypes = ['multipleChoice', 'blockly', 'surveySlider', 'survey', 'inputField', 'freetext']\n",
    "columns = [\"taskId\", \"question\", \"answers\", \"minLabel\", \"maxLabel\", \"hints\", \"sampleSolution\"]\n",
    "task_df = pd.DataFrame(columns=columns)\n",
    "\n",
    "row_nr = 0\n",
    "for taskSerie in taskSeries:\n",
    "    sec_nr = 1\n",
    "    if taskSerie[\"_id\"] in KI_taskseries_ids:\n",
    "        for section in taskSerie[\"sections\"]:\n",
    "            subsec_nr = 1\n",
    "            for subsection in section[\"subSections\"]:\n",
    "                for elem in subsection[\"elements\"]:\n",
    "                    if(elem[\"subType\"] in interaction_subtypes):\n",
    "                        task_df = task_df.append({\"taskId\": str(taskSerie[\"_id\"])+\"-\"+str(sec_nr)+\"-\"+str(subsec_nr), \"question\": elem[\"question\"][\"de\"]}, ignore_index=True)\n",
    "                        #task_df = task_df.append({\"taskId\": str(taskSerie[\"_id\"])+\"-\"+str(sec_nr)+\"-\"+str(subsec_nr),'taskSeriesId': taskSerie[\"_id\"], \"sec_nr\": sec_nr, \"subsec_nr\": subsec_nr, \"subType\": elem[\"subType\"], \"question\": elem[\"question\"][\"de\"]}, ignore_index=True)\n",
    "                        if(elem[\"subType\"] == \"surveySlider\"):\n",
    "                            task_df.at[row_nr, \"minLabel\"] = elem[\"specificData\"][\"minLabel\"][\"de\"]\n",
    "                            task_df.at[row_nr, \"maxLabel\"] = elem[\"specificData\"][\"maxLabel\"][\"de\"]\n",
    "                        elif(elem[\"subType\"] == \"freetext\"):\n",
    "                            task_df.at[row_nr, \"sampleSolution\"] = elem[\"sampleSolution\"][\"de\"]\n",
    "                        elif(elem[\"subType\"] == \"survey\"):\n",
    "                            task_df.at[row_nr, \"answers\"] = elem[\"specificData\"][\"answers\"]\n",
    "                        elif(elem[\"subType\"] == \"multipleChoice\"):\n",
    "                            task_df.at[row_nr, \"answers\"] = elem[\"specificData\"][\"answers\"]\n",
    "                            task_df.at[row_nr, \"sampleSolution\"] = elem[\"sampleSolution\"][\"universal\"]\n",
    "                            if(len(elem[\"hints\"]) > 0):\n",
    "                                task_df.at[row_nr, \"hints\"] = elem[\"hints\"][0][\"de\"]\n",
    "                        elif(elem[\"subType\"] == \"inputField\"):\n",
    "                            task_df.at[row_nr, \"sampleSolution\"] = elem[\"sampleSolution\"][\"universal\"]\n",
    "                            if(len(elem[\"hints\"]) > 0):\n",
    "                                task_df.at[row_nr, \"hints\"] = elem[\"hints\"][0][\"de\"]\n",
    "                        row_nr += 1\n",
    "                subsec_nr +=1\n",
    "            sec_nr +=1\n",
    "            \n",
    "task_df.head()"
   ]
  },
  {
   "cell_type": "markdown",
   "metadata": {},
   "source": [
    "## DF mergen"
   ]
  },
  {
   "cell_type": "code",
   "execution_count": 8,
   "metadata": {},
   "outputs": [],
   "source": [
    "new_df = pd.merge(pupil_df, task_df, on='taskId')\n",
    "new_df.drop(columns=['history'], inplace=True)"
   ]
  },
  {
   "cell_type": "code",
   "execution_count": 9,
   "metadata": {},
   "outputs": [
    {
     "data": {
      "text/html": [
       "<div>\n",
       "<style scoped>\n",
       "    .dataframe tbody tr th:only-of-type {\n",
       "        vertical-align: middle;\n",
       "    }\n",
       "\n",
       "    .dataframe tbody tr th {\n",
       "        vertical-align: top;\n",
       "    }\n",
       "\n",
       "    .dataframe thead th {\n",
       "        text-align: right;\n",
       "    }\n",
       "</style>\n",
       "<table border=\"1\" class=\"dataframe\">\n",
       "  <thead>\n",
       "    <tr style=\"text-align: right;\">\n",
       "      <th></th>\n",
       "      <th>pupilId</th>\n",
       "      <th>classId</th>\n",
       "      <th>taskId</th>\n",
       "      <th>taskSeriesId</th>\n",
       "      <th>duration</th>\n",
       "      <th>state</th>\n",
       "      <th>submitted</th>\n",
       "      <th>subType</th>\n",
       "      <th>evaluation</th>\n",
       "      <th>falseAttempts</th>\n",
       "      <th>hintsTaken</th>\n",
       "      <th>rating</th>\n",
       "      <th>teacherFeedback</th>\n",
       "      <th>question</th>\n",
       "      <th>answers</th>\n",
       "      <th>minLabel</th>\n",
       "      <th>maxLabel</th>\n",
       "      <th>hints</th>\n",
       "      <th>sampleSolution</th>\n",
       "    </tr>\n",
       "  </thead>\n",
       "  <tbody>\n",
       "    <tr>\n",
       "      <th>0</th>\n",
       "      <td>bniRycMi5bwrXjvGy</td>\n",
       "      <td>qFEyvypMn4sAwLwtc</td>\n",
       "      <td>AI-1-v2-1-1</td>\n",
       "      <td>AI-1-v2</td>\n",
       "      <td>40</td>\n",
       "      <td>92</td>\n",
       "      <td>True</td>\n",
       "      <td>surveySlider</td>\n",
       "      <td>NaN</td>\n",
       "      <td>NaN</td>\n",
       "      <td>NaN</td>\n",
       "      <td>NaN</td>\n",
       "      <td>NaN</td>\n",
       "      <td>Wie gut weißt du schon, was KI ist?</td>\n",
       "      <td>NaN</td>\n",
       "      <td>Gar nicht</td>\n",
       "      <td>Sehr gut</td>\n",
       "      <td>NaN</td>\n",
       "      <td>NaN</td>\n",
       "    </tr>\n",
       "    <tr>\n",
       "      <th>1</th>\n",
       "      <td>bniRycMi5bwrXjvGy</td>\n",
       "      <td>qFEyvypMn4sAwLwtc</td>\n",
       "      <td>AI-1-v2-1-2</td>\n",
       "      <td>AI-1-v2</td>\n",
       "      <td>119</td>\n",
       "      <td>&lt;p&gt;Künstliche Intelligenz ist ein Algorithmus,...</td>\n",
       "      <td>True</td>\n",
       "      <td>freetext</td>\n",
       "      <td>correct</td>\n",
       "      <td>NaN</td>\n",
       "      <td>NaN</td>\n",
       "      <td>{'content': 3, 'format': 5, 'creativity': 4}</td>\n",
       "      <td>Inhaltlich gut, etwas genauer antworten. Muste...</td>\n",
       "      <td>Was ist deiner Meinung nach Künstliche Intelli...</td>\n",
       "      <td>NaN</td>\n",
       "      <td>NaN</td>\n",
       "      <td>NaN</td>\n",
       "      <td>NaN</td>\n",
       "      <td>Die Schülerinnen und Schüler (SuS) sollen besc...</td>\n",
       "    </tr>\n",
       "    <tr>\n",
       "      <th>2</th>\n",
       "      <td>bniRycMi5bwrXjvGy</td>\n",
       "      <td>qFEyvypMn4sAwLwtc</td>\n",
       "      <td>AI-1-v2-2-1</td>\n",
       "      <td>AI-1-v2</td>\n",
       "      <td>268</td>\n",
       "      <td>[0, 0, 1, 0, 0]</td>\n",
       "      <td>True</td>\n",
       "      <td>survey</td>\n",
       "      <td>NaN</td>\n",
       "      <td>NaN</td>\n",
       "      <td>NaN</td>\n",
       "      <td>NaN</td>\n",
       "      <td>NaN</td>\n",
       "      <td>Wie viele deiner Zeichnungen hat die KI erkann...</td>\n",
       "      <td>[{'de': '0', 'en-US': '0'}, {'de': '1-2', 'en-...</td>\n",
       "      <td>NaN</td>\n",
       "      <td>NaN</td>\n",
       "      <td>NaN</td>\n",
       "      <td>NaN</td>\n",
       "    </tr>\n",
       "    <tr>\n",
       "      <th>3</th>\n",
       "      <td>bniRycMi5bwrXjvGy</td>\n",
       "      <td>qFEyvypMn4sAwLwtc</td>\n",
       "      <td>AI-2-v2-1-1</td>\n",
       "      <td>AI-2-v2</td>\n",
       "      <td>94</td>\n",
       "      <td>[True, True, False, True]</td>\n",
       "      <td>True</td>\n",
       "      <td>multipleChoice</td>\n",
       "      <td>correct</td>\n",
       "      <td>NaN</td>\n",
       "      <td>NaN</td>\n",
       "      <td>NaN</td>\n",
       "      <td>NaN</td>\n",
       "      <td>Kannst du erkennen, wo KI überall drin steckt?...</td>\n",
       "      <td>[{'de': 'Der Newsfeed eines Social Network nut...</td>\n",
       "      <td>NaN</td>\n",
       "      <td>NaN</td>\n",
       "      <td>Denk an die Beispiele, die wir uns am Anfang a...</td>\n",
       "      <td>[True, True, False, True]</td>\n",
       "    </tr>\n",
       "    <tr>\n",
       "      <th>4</th>\n",
       "      <td>bniRycMi5bwrXjvGy</td>\n",
       "      <td>qFEyvypMn4sAwLwtc</td>\n",
       "      <td>AI-3-v2-1-1</td>\n",
       "      <td>AI-3-v2</td>\n",
       "      <td>43</td>\n",
       "      <td>[False, False, False]</td>\n",
       "      <td>True</td>\n",
       "      <td>multipleChoice</td>\n",
       "      <td>correct</td>\n",
       "      <td>NaN</td>\n",
       "      <td>NaN</td>\n",
       "      <td>NaN</td>\n",
       "      <td>NaN</td>\n",
       "      <td>Was für Sachen können KI-Anwendungen?</td>\n",
       "      <td>[{'de': 'Die Anwendung, die den Facebook-Feed ...</td>\n",
       "      <td>NaN</td>\n",
       "      <td>NaN</td>\n",
       "      <td>Kann überhaupt eine dieser Anwendungen etwas, ...</td>\n",
       "      <td>[False, False, False]</td>\n",
       "    </tr>\n",
       "  </tbody>\n",
       "</table>\n",
       "</div>"
      ],
      "text/plain": [
       "             pupilId            classId       taskId taskSeriesId duration  \\\n",
       "0  bniRycMi5bwrXjvGy  qFEyvypMn4sAwLwtc  AI-1-v2-1-1      AI-1-v2       40   \n",
       "1  bniRycMi5bwrXjvGy  qFEyvypMn4sAwLwtc  AI-1-v2-1-2      AI-1-v2      119   \n",
       "2  bniRycMi5bwrXjvGy  qFEyvypMn4sAwLwtc  AI-1-v2-2-1      AI-1-v2      268   \n",
       "3  bniRycMi5bwrXjvGy  qFEyvypMn4sAwLwtc  AI-2-v2-1-1      AI-2-v2       94   \n",
       "4  bniRycMi5bwrXjvGy  qFEyvypMn4sAwLwtc  AI-3-v2-1-1      AI-3-v2       43   \n",
       "\n",
       "                                               state submitted  \\\n",
       "0                                                 92      True   \n",
       "1  <p>Künstliche Intelligenz ist ein Algorithmus,...      True   \n",
       "2                                    [0, 0, 1, 0, 0]      True   \n",
       "3                          [True, True, False, True]      True   \n",
       "4                              [False, False, False]      True   \n",
       "\n",
       "          subType evaluation falseAttempts hintsTaken  \\\n",
       "0    surveySlider        NaN           NaN        NaN   \n",
       "1        freetext    correct           NaN        NaN   \n",
       "2          survey        NaN           NaN        NaN   \n",
       "3  multipleChoice    correct           NaN        NaN   \n",
       "4  multipleChoice    correct           NaN        NaN   \n",
       "\n",
       "                                         rating  \\\n",
       "0                                           NaN   \n",
       "1  {'content': 3, 'format': 5, 'creativity': 4}   \n",
       "2                                           NaN   \n",
       "3                                           NaN   \n",
       "4                                           NaN   \n",
       "\n",
       "                                     teacherFeedback  \\\n",
       "0                                                NaN   \n",
       "1  Inhaltlich gut, etwas genauer antworten. Muste...   \n",
       "2                                                NaN   \n",
       "3                                                NaN   \n",
       "4                                                NaN   \n",
       "\n",
       "                                            question  \\\n",
       "0                Wie gut weißt du schon, was KI ist?   \n",
       "1  Was ist deiner Meinung nach Künstliche Intelli...   \n",
       "2  Wie viele deiner Zeichnungen hat die KI erkann...   \n",
       "3  Kannst du erkennen, wo KI überall drin steckt?...   \n",
       "4              Was für Sachen können KI-Anwendungen?   \n",
       "\n",
       "                                             answers   minLabel  maxLabel  \\\n",
       "0                                                NaN  Gar nicht  Sehr gut   \n",
       "1                                                NaN        NaN       NaN   \n",
       "2  [{'de': '0', 'en-US': '0'}, {'de': '1-2', 'en-...        NaN       NaN   \n",
       "3  [{'de': 'Der Newsfeed eines Social Network nut...        NaN       NaN   \n",
       "4  [{'de': 'Die Anwendung, die den Facebook-Feed ...        NaN       NaN   \n",
       "\n",
       "                                               hints  \\\n",
       "0                                                NaN   \n",
       "1                                                NaN   \n",
       "2                                                NaN   \n",
       "3  Denk an die Beispiele, die wir uns am Anfang a...   \n",
       "4  Kann überhaupt eine dieser Anwendungen etwas, ...   \n",
       "\n",
       "                                      sampleSolution  \n",
       "0                                                NaN  \n",
       "1  Die Schülerinnen und Schüler (SuS) sollen besc...  \n",
       "2                                                NaN  \n",
       "3                          [True, True, False, True]  \n",
       "4                              [False, False, False]  "
      ]
     },
     "execution_count": 9,
     "metadata": {},
     "output_type": "execute_result"
    }
   ],
   "source": [
    "df = pd.merge(class_df, new_df, on=\"pupilId\")\n",
    "df.head()"
   ]
  },
  {
   "cell_type": "code",
   "execution_count": 34,
   "metadata": {},
   "outputs": [
    {
     "name": "stdout",
     "output_type": "stream",
     "text": [
      "1621\n"
     ]
    }
   ],
   "source": [
    "print(len(df))"
   ]
  },
  {
   "cell_type": "code",
   "execution_count": 41,
   "metadata": {},
   "outputs": [
    {
     "name": "stdout",
     "output_type": "stream",
     "text": [
      "<class 'bool'>\n"
     ]
    }
   ],
   "source": [
    "print(type(df.iloc[3][\"state\"][1]))\n",
    "\n",
    "#for key in df:\n",
    "#    print(type(df[key][0]), key)"
   ]
  },
  {
   "cell_type": "code",
   "execution_count": null,
   "metadata": {},
   "outputs": [],
   "source": []
  },
  {
   "cell_type": "markdown",
   "metadata": {},
   "source": [
    "## Pupil Performance DF"
   ]
  },
  {
   "cell_type": "code",
   "execution_count": 29,
   "metadata": {},
   "outputs": [
    {
     "data": {
      "text/html": [
       "<div>\n",
       "<style scoped>\n",
       "    .dataframe tbody tr th:only-of-type {\n",
       "        vertical-align: middle;\n",
       "    }\n",
       "\n",
       "    .dataframe tbody tr th {\n",
       "        vertical-align: top;\n",
       "    }\n",
       "\n",
       "    .dataframe thead th {\n",
       "        text-align: right;\n",
       "    }\n",
       "</style>\n",
       "<table border=\"1\" class=\"dataframe\">\n",
       "  <thead>\n",
       "    <tr style=\"text-align: right;\">\n",
       "      <th></th>\n",
       "      <th>pupilId</th>\n",
       "      <th>nr_tasks_per_pupil</th>\n",
       "      <th>total_duration in minutes</th>\n",
       "      <th>average duration per task in minutes</th>\n",
       "    </tr>\n",
       "  </thead>\n",
       "  <tbody>\n",
       "    <tr>\n",
       "      <th>0</th>\n",
       "      <td>bniRycMi5bwrXjvGy</td>\n",
       "      <td>67</td>\n",
       "      <td>71.083333</td>\n",
       "      <td>1.060945</td>\n",
       "    </tr>\n",
       "    <tr>\n",
       "      <th>1</th>\n",
       "      <td>sqBXKssFvS8pFYAMv</td>\n",
       "      <td>67</td>\n",
       "      <td>66.966667</td>\n",
       "      <td>0.999502</td>\n",
       "    </tr>\n",
       "    <tr>\n",
       "      <th>2</th>\n",
       "      <td>Kd6FuRsrq6QvPrkKp</td>\n",
       "      <td>6</td>\n",
       "      <td>37.383333</td>\n",
       "      <td>6.230556</td>\n",
       "    </tr>\n",
       "    <tr>\n",
       "      <th>3</th>\n",
       "      <td>6bBwnX2mwAp2NAwNR</td>\n",
       "      <td>36</td>\n",
       "      <td>116.100000</td>\n",
       "      <td>3.225000</td>\n",
       "    </tr>\n",
       "    <tr>\n",
       "      <th>4</th>\n",
       "      <td>ZTvPk2i77LDC8pFmu</td>\n",
       "      <td>67</td>\n",
       "      <td>60.466667</td>\n",
       "      <td>0.902488</td>\n",
       "    </tr>\n",
       "  </tbody>\n",
       "</table>\n",
       "</div>"
      ],
      "text/plain": [
       "             pupilId  nr_tasks_per_pupil  total_duration in minutes  \\\n",
       "0  bniRycMi5bwrXjvGy                  67                  71.083333   \n",
       "1  sqBXKssFvS8pFYAMv                  67                  66.966667   \n",
       "2  Kd6FuRsrq6QvPrkKp                   6                  37.383333   \n",
       "3  6bBwnX2mwAp2NAwNR                  36                 116.100000   \n",
       "4  ZTvPk2i77LDC8pFmu                  67                  60.466667   \n",
       "\n",
       "   average duration per task in minutes  \n",
       "0                              1.060945  \n",
       "1                              0.999502  \n",
       "2                              6.230556  \n",
       "3                              3.225000  \n",
       "4                              0.902488  "
      ]
     },
     "execution_count": 29,
     "metadata": {},
     "output_type": "execute_result"
    }
   ],
   "source": [
    "nr_tasks_per_pupil = []\n",
    "total_duration_per_pupil = []\n",
    "\n",
    "for pupilId in df[\"pupilId\"].unique():\n",
    "    nr_tasks_per_pupil.append(len(df[df[\"pupilId\"]==pupilId]))\n",
    "    total_duration_per_pupil.append(sum(df[df[\"pupilId\"]==pupilId][\"duration\"])/60)\n",
    "\n",
    "pupil_performance = {\"pupilId\": df[\"pupilId\"].unique(), \"nr_tasks_per_pupil\": nr_tasks_per_pupil, \"total_duration in minutes\": total_duration_per_pupil}\n",
    "pupil_performance_df = pd.DataFrame(pupil_performance)\n",
    "pupil_performance_df[\"average duration per task in minutes\"] = pupil_performance_df[\"total_duration in minutes\"]/pupil_performance_df[\"nr_tasks_per_pupil\"]\n",
    "\n",
    "pupil_performance_df.head()"
   ]
  },
  {
   "cell_type": "markdown",
   "metadata": {},
   "source": [
    "## Analyse"
   ]
  },
  {
   "cell_type": "code",
   "execution_count": 30,
   "metadata": {},
   "outputs": [
    {
     "data": {
      "image/png": "[encoded data removed]",
      "text/plain": [
       "<Figure size 432x288 with 1 Axes>"
      ]
     },
     "metadata": {
      "needs_background": "light"
     },
     "output_type": "display_data"
    }
   ],
   "source": [
    "plt.hist(pupil_performance_df[\"average duration per task in minutes\"], bins=int(np.max(pupil_performance_df[\"average duration per task in minutes\"])/0.25))\n",
    "plt.show()"
   ]
  },
  {
   "cell_type": "code",
   "execution_count": 31,
   "metadata": {},
   "outputs": [
    {
     "data": {
      "image/png": "[encoded data removed]",
      "text/plain": [
       "<Figure size 432x288 with 1 Axes>"
      ]
     },
     "metadata": {
      "needs_background": "light"
     },
     "output_type": "display_data"
    },
    {
     "data": {
      "image/png": "[encoded data removed]",
      "text/plain": [
       "<Figure size 432x288 with 1 Axes>"
      ]
     },
     "metadata": {
      "needs_background": "light"
     },
     "output_type": "display_data"
    },
    {
     "data": {
      "image/png": "[encoded data removed]",
      "text/plain": [
       "<Figure size 432x288 with 1 Axes>"
      ]
     },
     "metadata": {
      "needs_background": "light"
     },
     "output_type": "display_data"
    }
   ],
   "source": [
    "# anzahl tasks per pupil\n",
    "\n",
    "plt.hist(pupil_performance_df[\"nr_tasks_per_pupil\"], bins=4)\n",
    "plt.title(\"Tasks per SuS quartiles\")\n",
    "plt.show()\n",
    "plt.hist(pupil_performance_df[\"nr_tasks_per_pupil\"], bins=10)\n",
    "plt.title(\"Tasks per SuS decentile\")\n",
    "plt.show()\n",
    "plt.hist(pupil_performance_df[\"nr_tasks_per_pupil\"], bins=np.max(pupil_performance_df[\"nr_tasks_per_pupil\"]))\n",
    "plt.title(\"Tasks per SuS\")\n",
    "plt.show()"
   ]
  },
  {
   "cell_type": "code",
   "execution_count": 32,
   "metadata": {},
   "outputs": [
    {
     "data": {
      "text/plain": [
       "AI-1-v2-1-1    40\n",
       "AI-1-v2-1-2    40\n",
       "AI-1-v2-2-1    40\n",
       "AI-2-v2-1-1    38\n",
       "AI-3-v2-1-1    36\n",
       "               ..\n",
       "EvalML-1-8     16\n",
       "EvalML-1-5     16\n",
       "EvalML-1-6     16\n",
       "EvalML-1-7     16\n",
       "EvalML-1-2     16\n",
       "Name: taskId, Length: 67, dtype: int64"
      ]
     },
     "execution_count": 32,
     "metadata": {},
     "output_type": "execute_result"
    }
   ],
   "source": [
    "# Wie viele SuS haben die jeweilige Aufgabe gelöst?\n",
    "df[\"taskId\"].value_counts()"
   ]
  },
  {
   "cell_type": "markdown",
   "metadata": {},
   "source": [
    "## Fortschritt aller SuS im Paket"
   ]
  },
  {
   "cell_type": "code",
   "execution_count": 33,
   "metadata": {},
   "outputs": [
    {
     "name": "stdout",
     "output_type": "stream",
     "text": [
      "Mögliche Erklärung: Kein Präsenzunterricht wegen Corona?\n",
      "Mögliche Erklärung: Nicht alle Lehrer haben das Paket zuende gespielt\n"
     ]
    },
    {
     "data": {
      "image/png": "[encoded data removed]",
      "text/plain": [
       "<Figure size 720x1440 with 2 Axes>"
      ]
     },
     "metadata": {
      "needs_background": "light"
     },
     "output_type": "display_data"
    }
   ],
   "source": [
    "nr_all_tasks = len(df[\"taskId\"].unique())\n",
    "\n",
    "sorted_nr_tasks_per_pupil = np.sort(nr_tasks_per_pupil)\n",
    "\n",
    "# Number of students with number of tasks\n",
    "number_pupils_with_this_number_of_tasks = []\n",
    "for i in range(nr_all_tasks):\n",
    "    at_least_this_number = 0\n",
    "    for number in sorted_nr_tasks_per_pupil:\n",
    "        if number >= i+1:\n",
    "            at_least_this_number += 1\n",
    "    number_pupils_with_this_number_of_tasks.append(at_least_this_number) #anzahl zahlen mit mehr\n",
    "\n",
    "# percentage of students with each percentage of tasks\n",
    "task_percentage = [i * (100/nr_all_tasks) for i in range(1,nr_all_tasks+1)]\n",
    "pupil_percentages = [i * (100/len(df[\"pupilId\"].unique())) for i in number_pupils_with_this_number_of_tasks]\n",
    "\n",
    "\n",
    "# PLOTTING\n",
    "print(\"Mögliche Erklärung: Kein Präsenzunterricht wegen Corona?\")\n",
    "print(\"Mögliche Erklärung: Nicht alle Lehrer haben das Paket zuende gespielt\")\n",
    "fig, (ax1, ax2) = plt.subplots(nrows=2,ncols=1,figsize=(10,20))\n",
    "\n",
    "ax1 = plt.subplot(211)\n",
    "ax1.plot(range(1,nr_all_tasks+1), number_pupils_with_this_number_of_tasks)\n",
    "ax1.set_xlabel( \"Numbers of Tasks\" , size = 12 )\n",
    "ax1.set_ylabel( \"Numbers of Students with this number of tasks\" , size = 12 )\n",
    "ax1.set_xlim([0, nr_all_tasks])\n",
    "ax1.set_ylim([0, len(sorted_nr_tasks_per_pupil)])\n",
    "\n",
    "ax2 = plt.subplot(212)\n",
    "ax2.plot(task_percentage, pupil_percentages)\n",
    "ax2.set_xlabel( \"Percentage of Tasks\" , size = 12 )\n",
    "ax2.set_ylabel( \"Percentage of Students with this percentage of tasks\" , size = 12 )\n",
    "ax2.set_xlim([0, 100])\n",
    "ax2.set_ylim([0, 100])\n",
    "\n",
    "plt.show()"
   ]
  },
  {
   "cell_type": "code",
   "execution_count": null,
   "metadata": {},
   "outputs": [],
   "source": []
  },
  {
   "cell_type": "code",
   "execution_count": null,
   "metadata": {},
   "outputs": [],
   "source": []
  },
  {
   "cell_type": "code",
   "execution_count": null,
   "metadata": {},
   "outputs": [],
   "source": []
  },
  {
   "cell_type": "code",
   "execution_count": null,
   "metadata": {},
   "outputs": [],
   "source": []
  },
  {
   "cell_type": "code",
   "execution_count": null,
   "metadata": {},
   "outputs": [],
   "source": []
  },
  {
   "cell_type": "code",
   "execution_count": null,
   "metadata": {},
   "outputs": [],
   "source": []
  },
  {
   "cell_type": "markdown",
   "metadata": {},
   "source": [
    "# Itemanalyse\n",
    "## Surveyslider"
   ]
  },
  {
   "cell_type": "code",
   "execution_count": 10,
   "metadata": {},
   "outputs": [
    {
     "name": "stdout",
     "output_type": "stream",
     "text": [
      "AI-1-v2-1-1: Wie gut weißt du schon, was KI ist?\n",
      "min: 5\n",
      "max: 100\n",
      "median: 71.5\n",
      "mean: 69.0\n",
      "std: 21.238571587489663\n"
     ]
    },
    {
     "data": {
      "image/png": "[encoded data removed]",
      "text/plain": [
       "<Figure size 432x288 with 1 Axes>"
      ]
     },
     "metadata": {
      "needs_background": "light"
     },
     "output_type": "display_data"
    },
    {
     "name": "stdout",
     "output_type": "stream",
     "text": [
      "AI-4-v2-1-4: Wie gut hast du jetzt verstanden, was KI ist?\n",
      "min: 40\n",
      "max: 100\n",
      "median: 86.0\n",
      "mean: 79.06451612903226\n",
      "std: 19.131014058975836\n"
     ]
    },
    {
     "data": {
      "image/png": "[encoded data removed]",
      "text/plain": [
       "<Figure size 432x288 with 1 Axes>"
      ]
     },
     "metadata": {
      "needs_background": "light"
     },
     "output_type": "display_data"
    },
    {
     "name": "stdout",
     "output_type": "stream",
     "text": [
      "AI-4-v2-1-5: Wie gut hast du den Unterschied zwischen spezifischer und allgemeiner KI verstanden?\n",
      "min: 33\n",
      "max: 100\n",
      "median: 88.0\n",
      "mean: 78.96774193548387\n",
      "std: 23.08749137659863\n"
     ]
    },
    {
     "data": {
      "image/png": "[encoded data removed]",
      "text/plain": [
       "<Figure size 432x288 with 1 Axes>"
      ]
     },
     "metadata": {
      "needs_background": "light"
     },
     "output_type": "display_data"
    },
    {
     "name": "stdout",
     "output_type": "stream",
     "text": [
      "ML-2-1-1: Wie gut weißt du schon, was Maschinelles Lernen ist?\n",
      "min: 47\n",
      "max: 100\n",
      "median: 66.0\n",
      "mean: 69.51724137931035\n",
      "std: 17.620241383248437\n"
     ]
    },
    {
     "data": {
      "image/png": "[encoded data removed]",
      "text/plain": [
       "<Figure size 432x288 with 1 Axes>"
      ]
     },
     "metadata": {
      "needs_background": "light"
     },
     "output_type": "display_data"
    },
    {
     "name": "stdout",
     "output_type": "stream",
     "text": [
      "EvalML-1-1: Wie gut hast du verstanden, was KI ist? Sei dabei so ehrlich es geht damit wir diese Inhalte noch verbessern können.\n",
      "min: 31\n",
      "max: 100\n",
      "median: 77.5\n",
      "mean: 72.3125\n",
      "std: 24.143235767670692\n"
     ]
    },
    {
     "data": {
      "image/png": "[encoded data removed]",
      "text/plain": [
       "<Figure size 432x288 with 1 Axes>"
      ]
     },
     "metadata": {
      "needs_background": "light"
     },
     "output_type": "display_data"
    },
    {
     "name": "stdout",
     "output_type": "stream",
     "text": [
      "EvalML-1-2: Wie gut hast du den Unterschied zwischen spezifischer und allgemeiner KI verstanden?\n",
      "min: 1\n",
      "max: 100\n",
      "median: 87.0\n",
      "mean: 74.0625\n",
      "std: 31.269727106793454\n"
     ]
    },
    {
     "data": {
      "image/png": "[encoded data removed]",
      "text/plain": [
       "<Figure size 432x288 with 1 Axes>"
      ]
     },
     "metadata": {
      "needs_background": "light"
     },
     "output_type": "display_data"
    },
    {
     "name": "stdout",
     "output_type": "stream",
     "text": [
      "EvalML-1-5: Wie gut hast du verstanden, was maschinelles Lernen ist? Sei dabei so ehrlich es geht, damit wir diese Inhalte noch verbessern können.\n",
      "min: 24\n",
      "max: 100\n",
      "median: 71.5\n",
      "mean: 68.625\n",
      "std: 22.559181427229728\n"
     ]
    },
    {
     "data": {
      "image/png": "[encoded data removed]",
      "text/plain": [
       "<Figure size 432x288 with 1 Axes>"
      ]
     },
     "metadata": {
      "needs_background": "light"
     },
     "output_type": "display_data"
    },
    {
     "name": "stdout",
     "output_type": "stream",
     "text": [
      "EvalML-1-6: Wie sehr hast du das Gefühl, verstanden zu haben, was der Unterschied zwischen überwachtem und unüberwachtem Lernen ist?\n",
      "min: 37\n",
      "max: 100\n",
      "median: 73.5\n",
      "mean: 74.5\n",
      "std: 21.17545749210628\n"
     ]
    },
    {
     "data": {
      "image/png": "[encoded data removed]",
      "text/plain": [
       "<Figure size 432x288 with 1 Axes>"
      ]
     },
     "metadata": {
      "needs_background": "light"
     },
     "output_type": "display_data"
    },
    {
     "name": "stdout",
     "output_type": "stream",
     "text": [
      "Impact-2-1-2: Ich würde gerne in einem Land leben, dass den Alltag aller Bürger mit KI überwacht.\n",
      "min: 1\n",
      "max: 100\n",
      "median: 16.5\n",
      "mean: 21.181818181818183\n",
      "std: 23.613225437970463\n"
     ]
    },
    {
     "data": {
      "image/png": "[encoded data removed]",
      "text/plain": [
       "<Figure size 432x288 with 1 Axes>"
      ]
     },
     "metadata": {
      "needs_background": "light"
     },
     "output_type": "display_data"
    },
    {
     "name": "stdout",
     "output_type": "stream",
     "text": [
      "Impact-2-1-3: Die Überwachung des Alltags aller Bürger sehe ich sehr kritisch.\n",
      "min: 15\n",
      "max: 100\n",
      "median: 80.5\n",
      "mean: 78.13636363636364\n",
      "std: 22.476009335978567\n"
     ]
    },
    {
     "data": {
      "image/png": "[encoded data removed]",
      "text/plain": [
       "<Figure size 432x288 with 1 Axes>"
      ]
     },
     "metadata": {
      "needs_background": "light"
     },
     "output_type": "display_data"
    },
    {
     "name": "stdout",
     "output_type": "stream",
     "text": [
      "Impact-2-1-4: Mich würde es stören, mittels KI-Technologien überwacht zu werden.\n",
      "min: 15\n",
      "max: 100\n",
      "median: 83.0\n",
      "mean: 77.72727272727273\n",
      "std: 24.765917090845825\n"
     ]
    },
    {
     "data": {
      "image/png": "[encoded data removed]",
      "text/plain": [
       "<Figure size 432x288 with 1 Axes>"
      ]
     },
     "metadata": {
      "needs_background": "light"
     },
     "output_type": "display_data"
    },
    {
     "name": "stdout",
     "output_type": "stream",
     "text": [
      "Impact-2-1-5: Die Überwachung durch die Regierung bietet viele Vorteile für die Gesellschaft.\n",
      "min: 1\n",
      "max: 85\n",
      "median: 39.5\n",
      "mean: 38.13636363636363\n",
      "std: 27.18244436001445\n"
     ]
    },
    {
     "data": {
      "image/png": "[encoded data removed]",
      "text/plain": [
       "<Figure size 432x288 with 1 Axes>"
      ]
     },
     "metadata": {
      "needs_background": "light"
     },
     "output_type": "display_data"
    },
    {
     "name": "stdout",
     "output_type": "stream",
     "text": [
      "Impact-2-1-6: Ich würde nicht in einem Land leben wollen, dass meinen Alltag überwacht.\n",
      "min: 1\n",
      "max: 100\n",
      "median: 84.0\n",
      "mean: 75.95454545454545\n",
      "std: 28.36744826754992\n"
     ]
    },
    {
     "data": {
      "image/png": "[encoded data removed]",
      "text/plain": [
       "<Figure size 432x288 with 1 Axes>"
      ]
     },
     "metadata": {
      "needs_background": "light"
     },
     "output_type": "display_data"
    },
    {
     "name": "stdout",
     "output_type": "stream",
     "text": [
      "Impact-2-1-7: In einem Land mit Überwachung würde ich mich sehr sicher fühlen.\n",
      "min: 1\n",
      "max: 83\n",
      "median: 41.5\n",
      "mean: 39.81818181818182\n",
      "std: 26.865868528206786\n"
     ]
    },
    {
     "data": {
      "image/png": "[encoded data removed]",
      "text/plain": [
       "<Figure size 432x288 with 1 Axes>"
      ]
     },
     "metadata": {
      "needs_background": "light"
     },
     "output_type": "display_data"
    },
    {
     "name": "stdout",
     "output_type": "stream",
     "text": [
      "AIClosing-1-1: KI wird das Leben der Menschen verbessern.\n",
      "min: 1\n",
      "max: 100\n",
      "median: 73.5\n",
      "mean: 67.6\n",
      "std: 29.517880397445456\n"
     ]
    },
    {
     "data": {
      "image/png": "[encoded data removed]",
      "text/plain": [
       "<Figure size 432x288 with 1 Axes>"
      ]
     },
     "metadata": {
      "needs_background": "light"
     },
     "output_type": "display_data"
    },
    {
     "name": "stdout",
     "output_type": "stream",
     "text": [
      "AIClosing-1-2: Bei der Entwicklung von KI gibt es Risiken, die bedacht werden müssen\n",
      "min: 55\n",
      "max: 100\n",
      "median: 70.5\n",
      "mean: 75.8\n",
      "std: 16.922734630325593\n"
     ]
    },
    {
     "data": {
      "image/png": "[encoded data removed]",
      "text/plain": [
       "<Figure size 432x288 with 1 Axes>"
      ]
     },
     "metadata": {
      "needs_background": "light"
     },
     "output_type": "display_data"
    },
    {
     "name": "stdout",
     "output_type": "stream",
     "text": [
      "AIClosing-1-3: KI birgt eine Gefahr für die Menschheit.\n",
      "min: 21\n",
      "max: 100\n",
      "median: 53.5\n",
      "mean: 53.45\n",
      "std: 22.22960330635468\n"
     ]
    },
    {
     "data": {
      "image/png": "[encoded data removed]",
      "text/plain": [
       "<Figure size 432x288 with 1 Axes>"
      ]
     },
     "metadata": {
      "needs_background": "light"
     },
     "output_type": "display_data"
    },
    {
     "name": "stdout",
     "output_type": "stream",
     "text": [
      "AIClosing-1-4: Die Vorteile durch die Entwicklung von KI überwiegen die Risiken.\n",
      "min: 1\n",
      "max: 100\n",
      "median: 54.0\n",
      "mean: 56.75\n",
      "std: 28.76195403653931\n"
     ]
    },
    {
     "data": {
      "image/png": "[encoded data removed]",
      "text/plain": [
       "<Figure size 432x288 with 1 Axes>"
      ]
     },
     "metadata": {
      "needs_background": "light"
     },
     "output_type": "display_data"
    },
    {
     "name": "stdout",
     "output_type": "stream",
     "text": [
      "AIClosing-1-6: Hattest du Spaß?\n",
      "min: 36\n",
      "max: 100\n",
      "median: 69.5\n",
      "mean: 70.55\n",
      "std: 19.93007513123927\n"
     ]
    },
    {
     "data": {
      "image/png": "[encoded data removed]",
      "text/plain": [
       "<Figure size 432x288 with 1 Axes>"
      ]
     },
     "metadata": {
      "needs_background": "light"
     },
     "output_type": "display_data"
    },
    {
     "name": "stdout",
     "output_type": "stream",
     "text": [
      "AIClosing-1-7: Hast du etwas gelernt?\n",
      "min: 1\n",
      "max: 100\n",
      "median: 74.5\n",
      "mean: 75.55\n",
      "std: 22.476830175468297\n"
     ]
    },
    {
     "data": {
      "image/png": "[encoded data removed]",
      "text/plain": [
       "<Figure size 432x288 with 1 Axes>"
      ]
     },
     "metadata": {
      "needs_background": "light"
     },
     "output_type": "display_data"
    }
   ],
   "source": [
    "surveysliders = df[df[\"subType\"]==\"surveySlider\"]\n",
    "#surveysliders_by_taskId = df[df[\"subType\"]==\"surveySlider\"].groupby(\"taskId\")\n",
    "\n",
    "for i in surveysliders[\"taskId\"].unique():\n",
    "    print(surveysliders[surveysliders[\"taskId\"] == i][\"taskId\"].unique()[0] + \": \" + surveysliders[surveysliders[\"taskId\"] == i][\"question\"].unique()[0])\n",
    "    print(\"min: \" + str(surveysliders[surveysliders[\"taskId\"] == i][\"state\"].min()))\n",
    "    print(\"max: \" + str(surveysliders[surveysliders[\"taskId\"] == i][\"state\"].max()))\n",
    "    print(\"median: \" + str(surveysliders[surveysliders[\"taskId\"] == i][\"state\"].median()))\n",
    "    print(\"mean: \" + str(surveysliders[surveysliders[\"taskId\"] == i][\"state\"].mean()))\n",
    "    print(\"std: \" + str(surveysliders[surveysliders[\"taskId\"] == i][\"state\"].std()))\n",
    "    ax = sns.boxplot(x=surveysliders[surveysliders[\"taskId\"] == i][\"state\"])\n",
    "    plt.show()\n"
   ]
  },
  {
   "cell_type": "markdown",
   "metadata": {},
   "source": [
    "## MC\n",
    "### Barplot"
   ]
  },
  {
   "cell_type": "code",
   "execution_count": 35,
   "metadata": {},
   "outputs": [
    {
     "name": "stdout",
     "output_type": "stream",
     "text": [
      "['Die Personalisierung einer Google-Anfrage nutzt KI', 'Der Newsfeed eines Social Network nutzt KI', 'Die Startseite einer Webseite, die jedem Besucher die gleichen Inhalte anzeigt nutzt KI', 'Gesichtserkennung nutzt KI']\n"
     ]
    },
    {
     "data": {
      "image/png": "[encoded data removed]",
      "text/plain": [
       "<Figure size 432x288 with 1 Axes>"
      ]
     },
     "metadata": {
      "needs_background": "light"
     },
     "output_type": "display_data"
    },
    {
     "name": "stdout",
     "output_type": "stream",
     "text": [
      "['Das Programm zur Gesichtserkennung auf deinem Handy kann auch Auto fahren', 'Die Anwendung, die den Facebook-Feed erstellt, kann auch Schach spielen', 'Eine Sprachsteuerung wie Siri oder Alexa kann auch Gesichter erkennen']\n"
     ]
    },
    {
     "data": {
      "image/png": "[encoded data removed]",
      "text/plain": [
       "<Figure size 432x288 with 1 Axes>"
      ]
     },
     "metadata": {
      "needs_background": "light"
     },
     "output_type": "display_data"
    },
    {
     "name": "stdout",
     "output_type": "stream",
     "text": [
      "['Programme zur Bilderkennung gehören zur allgemeinen KI', 'Empfehlungssysteme gehören zur spezifischen KI', 'Eine KI aus einem Film, die eigenständige Entscheidungen trifft, mit Menschen spricht und sich am Ende gegen sie wendet, gehört zur allgemeinen KI']\n"
     ]
    },
    {
     "data": {
      "image/png": "[encoded data removed]",
      "text/plain": [
       "<Figure size 432x288 with 1 Axes>"
      ]
     },
     "metadata": {
      "needs_background": "light"
     },
     "output_type": "display_data"
    },
    {
     "name": "stdout",
     "output_type": "stream",
     "text": [
      "['KI-Anwendungen sind allgemein intelligent', 'Eine KI, die sich in einem einzigen Bereich so intelligent verhält wie ein Mensch, muss allgemeine Intelligenz besitzen', 'KI-Anwendungen zeigen intelligentes Verhalten in einem kleinen Bereich', 'Intelligentes Verhalten in einem spezifischen Bereich muss nicht gleich allgemeine Intelligenz bedeuten']\n"
     ]
    },
    {
     "data": {
      "image/png": "[encoded data removed]",
      "text/plain": [
       "<Figure size 432x288 with 1 Axes>"
      ]
     },
     "metadata": {
      "needs_background": "light"
     },
     "output_type": "display_data"
    },
    {
     "name": "stdout",
     "output_type": "stream",
     "text": [
      "['KI-Anwendungen lernen durch Erfahrung', 'Intelligentes Verhalten setzt allgemeine Intelligenz voraus', 'Heutige KI-Anwendungen gehören alle zur spezifischen KI', 'Eine KI, die in allen Bereichen so schlau ist wie ein Mensch, gibt es noch nicht', 'Ein Spam-Filter ist eine allgemeinen KI', 'KI-Anwendungen treffen eigenständige Entscheidungen', 'Spezifische KI umfasst Anwendungen, die menschenähnliche Intelligenz in einem kleinen Bereich zeigen']\n"
     ]
    },
    {
     "data": {
      "image/png": "[encoded data removed]",
      "text/plain": [
       "<Figure size 432x288 with 1 Axes>"
      ]
     },
     "metadata": {
      "needs_background": "light"
     },
     "output_type": "display_data"
    },
    {
     "name": "stdout",
     "output_type": "stream",
     "text": [
      "['Für das Training nutzen wir Daten ohne Label', 'Die Daten, die wir für das Training benutzen, heißen Trainingsdaten', 'Nach dem Training testen wir nochmal auf ein paar neuen Daten, wie gut die Vorhersagen des Algorithmus sind', 'Unser Ziel ist es, einen Algorithmus zu trainieren, der für neue Bilder das richtige Label vorhersagen kann. Also zu sagen, ob ein Bild einen Hund oder eine Katze zeigt']\n"
     ]
    },
    {
     "data": {
      "image/png": "[encoded data removed]",
      "text/plain": [
       "<Figure size 432x288 with 1 Axes>"
      ]
     },
     "metadata": {
      "needs_background": "light"
     },
     "output_type": "display_data"
    },
    {
     "name": "stdout",
     "output_type": "stream",
     "text": [
      "['Maschinelles Lernen ist ein Teilbereich der KI', 'Das überwachte und das unüberwachte Lernen unterscheiden sich zum Beispiel daran, dass wir einmal Daten mit und einmal Daten ohne Label nutzen', 'Beim unüberwachten Lernen wollen wir lernen, für neue Daten das richtige Label vorherzusagen', 'Das maschinelle Lernen beschäftigt sich mit Programmen, die selbständig in großen Datenmengen Gesetzmäßigkeiten erkennen können']\n"
     ]
    },
    {
     "data": {
      "image/png": "[encoded data removed]",
      "text/plain": [
       "<Figure size 432x288 with 1 Axes>"
      ]
     },
     "metadata": {
      "needs_background": "light"
     },
     "output_type": "display_data"
    },
    {
     "name": "stdout",
     "output_type": "stream",
     "text": [
      "['Unüberwachtes Lernen', 'Überwachtes Lernen']\n"
     ]
    },
    {
     "data": {
      "image/png": "[encoded data removed]",
      "text/plain": [
       "<Figure size 432x288 with 1 Axes>"
      ]
     },
     "metadata": {
      "needs_background": "light"
     },
     "output_type": "display_data"
    },
    {
     "name": "stdout",
     "output_type": "stream",
     "text": [
      "['Unüberwachtes Lernen', 'Überwachtes Lernen']\n"
     ]
    },
    {
     "data": {
      "image/png": "[encoded data removed]",
      "text/plain": [
       "<Figure size 432x288 with 1 Axes>"
      ]
     },
     "metadata": {
      "needs_background": "light"
     },
     "output_type": "display_data"
    },
    {
     "name": "stdout",
     "output_type": "stream",
     "text": [
      "['Unüberwachtes Lernen', 'Überwachtes Lernen']\n"
     ]
    },
    {
     "data": {
      "image/png": "[encoded data removed]",
      "text/plain": [
       "<Figure size 432x288 with 1 Axes>"
      ]
     },
     "metadata": {
      "needs_background": "light"
     },
     "output_type": "display_data"
    },
    {
     "name": "stdout",
     "output_type": "stream",
     "text": [
      "['Beim überwachten Lernen braucht man Daten ohne Label', 'Beim überwachten Lernen versucht man Struktur in Daten zu finden', 'Einen Algorithmus zu trainieren, der Bildern mit Hunden das Label “Hund” gibt, wäre ein Fall für überwachtes Lernen']\n"
     ]
    },
    {
     "data": {
      "image/png": "[encoded data removed]",
      "text/plain": [
       "<Figure size 432x288 with 1 Axes>"
      ]
     },
     "metadata": {
      "needs_background": "light"
     },
     "output_type": "display_data"
    },
    {
     "name": "stdout",
     "output_type": "stream",
     "text": [
      "['Beim unüberwachten Lernen wollen wir die richtigen Label für neue Daten vorhersagen', 'Beim unüberwachten Lernen geht es darum, Struktur in den Daten zu finden', 'Beim unüberwachten Lernen hat man keine Label für die Daten', 'Beim unüberwachten Lernen nutzt man Daten mit Label']\n"
     ]
    },
    {
     "data": {
      "image/png": "[encoded data removed]",
      "text/plain": [
       "<Figure size 432x288 with 1 Axes>"
      ]
     },
     "metadata": {
      "needs_background": "light"
     },
     "output_type": "display_data"
    },
    {
     "name": "stdout",
     "output_type": "stream",
     "text": [
      "['Die Youtuber im blauen Cluster laden öfter Videos hoch', 'Die Youtuber im roten Cluster laden öfter Videos hoch']\n"
     ]
    },
    {
     "data": {
      "image/png": "[encoded data removed]",
      "text/plain": [
       "<Figure size 432x288 with 1 Axes>"
      ]
     },
     "metadata": {
      "needs_background": "light"
     },
     "output_type": "display_data"
    },
    {
     "name": "stdout",
     "output_type": "stream",
     "text": [
      "['Josi', 'Mahmud', 'Paul', 'Isa', 'Anna']\n"
     ]
    },
    {
     "data": {
      "image/png": "[encoded data removed]",
      "text/plain": [
       "<Figure size 432x288 with 1 Axes>"
      ]
     },
     "metadata": {
      "needs_background": "light"
     },
     "output_type": "display_data"
    },
    {
     "name": "stdout",
     "output_type": "stream",
     "text": [
      "['James Bond', 'Fluch der Karibik', 'Avengers Endgame', 'Herr der Ringe', 'Hangover']\n"
     ]
    },
    {
     "data": {
      "image/png": "[encoded data removed]",
      "text/plain": [
       "<Figure size 432x288 with 1 Axes>"
      ]
     },
     "metadata": {
      "needs_background": "light"
     },
     "output_type": "display_data"
    },
    {
     "name": "stdout",
     "output_type": "stream",
     "text": [
      "['Ein Algorithmus, der ähnliche Berufe gruppiert, gehört zum überwachten Lernen', 'Ein Algorithmus, der anhand vieler alter Fälle gelernt hat, medizinische Diagnosen zu stellen, gehört zum überwachten Lernen', 'Ein Algorithmus, der dir basierend auf deinen Lieblingsfächern einen Beruf vorschlägt, könnte man mittels überwachtem Lernen umsetzen']\n"
     ]
    },
    {
     "data": {
      "image/png": "[encoded data removed]",
      "text/plain": [
       "<Figure size 432x288 with 1 Axes>"
      ]
     },
     "metadata": {
      "needs_background": "light"
     },
     "output_type": "display_data"
    },
    {
     "name": "stdout",
     "output_type": "stream",
     "text": [
      "['Der Algorithmus würde nur Hunde dieser Rasse zuverlässig als Hunde erkennen', 'Der Algorithmus würde immer noch alle Hunderassen als Hunde erkennen, weil es keine Katzen sind', 'Bei Hunden anderer Rassen ist es schwer zu sagen, ob er sie erkennen würde, aber sehr wahrscheinlich nicht so zuverlässig']\n"
     ]
    },
    {
     "data": {
      "image/png": "[encoded data removed]",
      "text/plain": [
       "<Figure size 432x288 with 1 Axes>"
      ]
     },
     "metadata": {
      "needs_background": "light"
     },
     "output_type": "display_data"
    },
    {
     "name": "stdout",
     "output_type": "stream",
     "text": [
      "['Jede KI hat allgemeine Intelligenz. Damit ist jede KI eine allgemeine KI', 'Derzeit gibt es sowohl Anwendungen, die zur spezifischen, als auch welche, die zur allgemeinen KI gehören', 'Ein Programm, dass so gut Schach spielen kann, wie Menschen, ist ein Beispiel für eine spezifische KI', 'Eine spezifische KI zeigt intelligentes Verhalten in einem kleinen Bereich', 'Eine fertige KI-Anwendung kann nicht mit Erfahrung lernen, sie bleibt, wie sie ist', 'KI kann irgendwann alles besser als der Mensch', 'Jeder Mensch wird zukünftig eine Vielzahl verschiedener KIs in seinem Alltag nutzen', 'Eine fertige KI-Anwendung kann nicht ohne Hilfe von einem Menschen funktionieren', 'KI-Anwendungen zeichnen sich dadurch aus, dass sie intelligentes Verhalten zeigen, autonom funktionieren und mit Erfahrung lernen']\n"
     ]
    },
    {
     "data": {
      "image/png": "[encoded data removed]",
      "text/plain": [
       "<Figure size 432x288 with 1 Axes>"
      ]
     },
     "metadata": {
      "needs_background": "light"
     },
     "output_type": "display_data"
    },
    {
     "name": "stdout",
     "output_type": "stream",
     "text": [
      "['Ein personalisiertes Empfehlungssystem für Musik', 'Das Sortieren von Bildern nach Datum', 'Die Erkennung von Gegenständen auf Bildern', 'Eine Nachrichtenseite, die jedem Nutzer den gleichen Inhalt präsentiert']\n"
     ]
    },
    {
     "data": {
      "image/png": "[encoded data removed]",
      "text/plain": [
       "<Figure size 432x288 with 1 Axes>"
      ]
     },
     "metadata": {
      "needs_background": "light"
     },
     "output_type": "display_data"
    },
    {
     "name": "stdout",
     "output_type": "stream",
     "text": [
      "['Beim überwachten Lernen nutzen wir Daten ohne Label', 'Wenn wir für Daten Label vorhersagen wollen, betreiben wir Clustering', 'Clustering ist ein Beispiel für unüberwachtes Lernen', 'Algorithmen des maschinellen Lernens lernen nur, was in den Daten vorhanden ist. Daher ist die Auswahl an Trainingsdaten sehr wichtig', 'Wenn wir für Daten Label vorhersagen wollen, betreiben wir überwachtes Lernen', 'Beim unüberwachten Lernen versuchen wir, Strukturen in den Daten zu entdecken', 'Algorithmen des maschinellen Lernens können aus vorhandenen Daten selbständig lernen', 'Algorithmen des maschinellen Lernens benötigen oft große Mengen an Daten, damit sie gute Ergebnisse erzielen']\n"
     ]
    },
    {
     "data": {
      "image/png": "[encoded data removed]",
      "text/plain": [
       "<Figure size 432x288 with 1 Axes>"
      ]
     },
     "metadata": {
      "needs_background": "light"
     },
     "output_type": "display_data"
    },
    {
     "name": "stdout",
     "output_type": "stream",
     "text": [
      "['Eine Webseite, die ähnliche Rezepte gruppiert, wäre eine Aufgabe für das Clustering', 'Eine Webseite, die für neue Rezepte vorhersagt, ob sie dir “gefallen” oder “nicht gefallen”, ist eine Aufgabe für das überwachte Lernen']\n"
     ]
    },
    {
     "data": {
      "image/png": "[encoded data removed]",
      "text/plain": [
       "<Figure size 432x288 with 1 Axes>"
      ]
     },
     "metadata": {
      "needs_background": "light"
     },
     "output_type": "display_data"
    },
    {
     "name": "stdout",
     "output_type": "stream",
     "text": [
      "['Der Algorithmus wurde falsch programmiert', 'Die Trainingsdaten, mit denen der Algorithmus gelernt hat, enthielten keine oder kaum Bilder von dunkelhäutigen Menschen']\n"
     ]
    },
    {
     "data": {
      "image/png": "[encoded data removed]",
      "text/plain": [
       "<Figure size 432x288 with 1 Axes>"
      ]
     },
     "metadata": {
      "needs_background": "light"
     },
     "output_type": "display_data"
    },
    {
     "name": "stdout",
     "output_type": "stream",
     "text": [
      "['LKW- und Taxifahrer', 'Angestellte im Kundenservice', 'Lehrer', 'Wissenschaftler', 'Angestellte bei einer Bank oder Versicherung', 'Pflegepersonal']\n"
     ]
    },
    {
     "data": {
      "image/png": "[encoded data removed]",
      "text/plain": [
       "<Figure size 432x288 with 1 Axes>"
      ]
     },
     "metadata": {
      "needs_background": "light"
     },
     "output_type": "display_data"
    },
    {
     "name": "stdout",
     "output_type": "stream",
     "text": [
      "['KI-Methoden können immer die richtige Diagnose stellen', 'KI-Methoden werden Ärzte komplett ersetzen', 'KI kann helfen, die richtigen Behandlungen zu empfehlen', 'KI kann helfen, die Behandlungen besser an jeden einzelnen Patienten anzupassen', 'KI kann die Erkennung von Tumoren auf Scans verbessern', 'KI kann helfen, bessere Diagnosen zu stellen', 'KI kann die medizinische Versorgung günstiger machen']\n"
     ]
    },
    {
     "data": {
      "image/png": "[encoded data removed]",
      "text/plain": [
       "<Figure size 432x288 with 1 Axes>"
      ]
     },
     "metadata": {
      "needs_background": "light"
     },
     "output_type": "display_data"
    }
   ],
   "source": [
    "multipleChoice = df[df[\"subType\"]==\"multipleChoice\"]\n",
    "\n",
    "for i in multipleChoice[\"taskId\"].unique():\n",
    "    answers = []\n",
    "    for answer in multipleChoice[multipleChoice[\"taskId\"] == i][\"answers\"]:\n",
    "        for answeritem in answer:\n",
    "            #print(answeritem)\n",
    "            answers.append(answeritem[\"de\"])\n",
    "    print(list(set(answers)))\n",
    "    #sns.barplot(x=\"day\", y=\"total_bill\", data=tips)\n",
    "    #sns.barplot(data=np.array(multipleChoice[multipleChoice[\"taskId\"] == i][\"evaluation\"].value_counts()))\n",
    "    plt.bar([\"correct\", \"false\"], np.array(multipleChoice[multipleChoice[\"taskId\"] == i][\"evaluation\"].value_counts()))\n",
    "    plt.show()"
   ]
  },
  {
   "cell_type": "markdown",
   "metadata": {},
   "source": [
    "### True - False Ratio, Torten"
   ]
  },
  {
   "cell_type": "code",
   "execution_count": 88,
   "metadata": {},
   "outputs": [
    {
     "name": "stdout",
     "output_type": "stream",
     "text": [
      "7.333333333333333\n",
      "2.0\n",
      "5.0\n",
      "2.6666666666666665\n",
      "1.4444444444444444\n",
      "9.0\n",
      "2.6\n",
      "1.0\n",
      "0.8\n",
      "8.0\n",
      "15.0\n",
      "3.5\n",
      "Index(['correct'], dtype='object')\n",
      "15.0\n",
      "4.333333333333333\n",
      "7.0\n",
      "4.5\n",
      "0.25\n",
      "9.0\n",
      "0.6666666666666666\n",
      "9.0\n",
      "Index(['correct'], dtype='object')\n",
      "6.0\n",
      "1.3333333333333333\n"
     ]
    }
   ],
   "source": [
    "for i in multipleChoice[\"taskId\"].unique():\n",
    "    if(\"correct\" in multipleChoice[multipleChoice[\"taskId\"] == i][\"evaluation\"].value_counts().keys() and \"false\" in multipleChoice[multipleChoice[\"taskId\"] == i][\"evaluation\"].value_counts().keys()):\n",
    "        print(multipleChoice[multipleChoice[\"taskId\"] == i][\"evaluation\"].value_counts()[\"correct\"]/multipleChoice[multipleChoice[\"taskId\"] == i][\"evaluation\"].value_counts()[\"false\"])\n",
    "    elif(\"correct\" in multipleChoice[multipleChoice[\"taskId\"] == i][\"evaluation\"].value_counts().keys() and not \"false\" in multipleChoice[multipleChoice[\"taskId\"] == i][\"evaluation\"].value_counts().keys()):\n",
    "        print(multipleChoice[multipleChoice[\"taskId\"] == i][\"evaluation\"].value_counts().keys())\n",
    "    elif(\"correct\" not in multipleChoice[multipleChoice[\"taskId\"] == i][\"evaluation\"].value_counts().keys() and \"false\" in multipleChoice[multipleChoice[\"taskId\"] == i][\"evaluation\"].value_counts().keys()):\n",
    "        print(multipleChoice[multipleChoice[\"taskId\"] == i][\"evaluation\"].value_counts().keys())"
   ]
  },
  {
   "cell_type": "markdown",
   "metadata": {},
   "source": [
    "## Freitext"
   ]
  },
  {
   "cell_type": "code",
   "execution_count": 11,
   "metadata": {},
   "outputs": [
    {
     "name": "stdout",
     "output_type": "stream",
     "text": [
      "268 freetext tasks have been submitted\n"
     ]
    },
    {
     "name": "stderr",
     "output_type": "stream",
     "text": [
      "/Users/jean-philipp/Documents/anaconda3/lib/python3.7/site-packages/ipykernel_launcher.py:2: SettingWithCopyWarning: \n",
      "A value is trying to be set on a copy of a slice from a DataFrame.\n",
      "Try using .loc[row_indexer,col_indexer] = value instead\n",
      "\n",
      "See the caveats in the documentation: https://pandas.pydata.org/pandas-docs/stable/user_guide/indexing.html#returning-a-view-versus-a-copy\n",
      "  \n",
      "/Users/jean-philipp/Documents/anaconda3/lib/python3.7/site-packages/ipykernel_launcher.py:3: SettingWithCopyWarning: \n",
      "A value is trying to be set on a copy of a slice from a DataFrame.\n",
      "Try using .loc[row_indexer,col_indexer] = value instead\n",
      "\n",
      "See the caveats in the documentation: https://pandas.pydata.org/pandas-docs/stable/user_guide/indexing.html#returning-a-view-versus-a-copy\n",
      "  This is separate from the ipykernel package so we can avoid doing imports until\n"
     ]
    }
   ],
   "source": [
    "freetext = df[df[\"subType\"]==\"freetext\"]\n",
    "freetext[\"state\"]=freetext[\"state\"].str.replace(\"<p>\",\"\")\n",
    "freetext[\"state\"]=freetext[\"state\"].str.replace(\"</p>\",\"\")\n",
    "print(str(len(freetext)) + \" freetext tasks have been submitted\")"
   ]
  },
  {
   "cell_type": "code",
   "execution_count": 12,
   "metadata": {},
   "outputs": [
    {
     "name": "stdout",
     "output_type": "stream",
     "text": [
      "Künstliche Intelligenz ist ein Algorithmus, der immer weiter dazu lernt um Aufgaben in den verschiedenste Bereichen zu erledigen.\n"
     ]
    }
   ],
   "source": [
    "print(freetext.iloc[0][\"state\"])"
   ]
  },
  {
   "cell_type": "code",
   "execution_count": 13,
   "metadata": {},
   "outputs": [
    {
     "data": {
      "text/html": [
       "<div>\n",
       "<style scoped>\n",
       "    .dataframe tbody tr th:only-of-type {\n",
       "        vertical-align: middle;\n",
       "    }\n",
       "\n",
       "    .dataframe tbody tr th {\n",
       "        vertical-align: top;\n",
       "    }\n",
       "\n",
       "    .dataframe thead th {\n",
       "        text-align: right;\n",
       "    }\n",
       "</style>\n",
       "<table border=\"1\" class=\"dataframe\">\n",
       "  <thead>\n",
       "    <tr style=\"text-align: right;\">\n",
       "      <th></th>\n",
       "      <th>pupilId</th>\n",
       "      <th>classId</th>\n",
       "      <th>taskId</th>\n",
       "      <th>taskSeriesId</th>\n",
       "      <th>duration</th>\n",
       "      <th>state</th>\n",
       "      <th>submitted</th>\n",
       "      <th>subType</th>\n",
       "      <th>evaluation</th>\n",
       "      <th>falseAttempts</th>\n",
       "      <th>hintsTaken</th>\n",
       "      <th>rating</th>\n",
       "      <th>teacherFeedback</th>\n",
       "      <th>question</th>\n",
       "      <th>answers</th>\n",
       "      <th>minLabel</th>\n",
       "      <th>maxLabel</th>\n",
       "      <th>hints</th>\n",
       "      <th>sampleSolution</th>\n",
       "    </tr>\n",
       "  </thead>\n",
       "  <tbody>\n",
       "    <tr>\n",
       "      <th>1</th>\n",
       "      <td>bniRycMi5bwrXjvGy</td>\n",
       "      <td>qFEyvypMn4sAwLwtc</td>\n",
       "      <td>AI-1-v2-1-2</td>\n",
       "      <td>AI-1-v2</td>\n",
       "      <td>119</td>\n",
       "      <td>Künstliche Intelligenz ist ein Algorithmus, de...</td>\n",
       "      <td>True</td>\n",
       "      <td>freetext</td>\n",
       "      <td>correct</td>\n",
       "      <td>NaN</td>\n",
       "      <td>NaN</td>\n",
       "      <td>{'content': 3, 'format': 5, 'creativity': 4}</td>\n",
       "      <td>Inhaltlich gut, etwas genauer antworten. Muste...</td>\n",
       "      <td>Was ist deiner Meinung nach Künstliche Intelli...</td>\n",
       "      <td>NaN</td>\n",
       "      <td>NaN</td>\n",
       "      <td>NaN</td>\n",
       "      <td>NaN</td>\n",
       "      <td>Die Schülerinnen und Schüler (SuS) sollen besc...</td>\n",
       "    </tr>\n",
       "    <tr>\n",
       "      <th>8</th>\n",
       "      <td>bniRycMi5bwrXjvGy</td>\n",
       "      <td>qFEyvypMn4sAwLwtc</td>\n",
       "      <td>AI-4-v2-1-3</td>\n",
       "      <td>AI-4-v2</td>\n",
       "      <td>285</td>\n",
       "      <td>Eine KI ist ein Algorithmus, der auf eine best...</td>\n",
       "      <td>True</td>\n",
       "      <td>freetext</td>\n",
       "      <td>correct</td>\n",
       "      <td>NaN</td>\n",
       "      <td>NaN</td>\n",
       "      <td>{'content': 5, 'format': 5, 'creativity': 5}</td>\n",
       "      <td></td>\n",
       "      <td>Jetzt weißt du schon mehr über KI. Sag nochmal...</td>\n",
       "      <td>NaN</td>\n",
       "      <td>NaN</td>\n",
       "      <td>NaN</td>\n",
       "      <td>NaN</td>\n",
       "      <td>KI-Anwendungen zeichnen sich aus durch intelli...</td>\n",
       "    </tr>\n",
       "    <tr>\n",
       "      <th>11</th>\n",
       "      <td>bniRycMi5bwrXjvGy</td>\n",
       "      <td>qFEyvypMn4sAwLwtc</td>\n",
       "      <td>ML-1-1-1</td>\n",
       "      <td>ML-1</td>\n",
       "      <td>203</td>\n",
       "      <td>Einem Algorithmus, der Hunde auf Bildern erken...</td>\n",
       "      <td>True</td>\n",
       "      <td>freetext</td>\n",
       "      <td>correct</td>\n",
       "      <td>NaN</td>\n",
       "      <td>NaN</td>\n",
       "      <td>{'content': 4, 'format': 5, 'creativity': 4}</td>\n",
       "      <td></td>\n",
       "      <td>Kannst du einen Algorithmus schreiben, der Hun...</td>\n",
       "      <td>NaN</td>\n",
       "      <td>NaN</td>\n",
       "      <td>NaN</td>\n",
       "      <td>NaN</td>\n",
       "      <td>Die SuS sollen sinnvolle Wenn-Dann-Regeln find...</td>\n",
       "    </tr>\n",
       "    <tr>\n",
       "      <th>16</th>\n",
       "      <td>bniRycMi5bwrXjvGy</td>\n",
       "      <td>qFEyvypMn4sAwLwtc</td>\n",
       "      <td>ML-2-1-2</td>\n",
       "      <td>ML-2</td>\n",
       "      <td>219</td>\n",
       "      <td>Beim maschinellen Lernen wird der Algorithmus ...</td>\n",
       "      <td>True</td>\n",
       "      <td>freetext</td>\n",
       "      <td>correct</td>\n",
       "      <td>NaN</td>\n",
       "      <td>NaN</td>\n",
       "      <td>{'content': 4, 'format': 5, 'creativity': 4}</td>\n",
       "      <td></td>\n",
       "      <td>Weißt du vielleicht schon etwas über das masch...</td>\n",
       "      <td>NaN</td>\n",
       "      <td>NaN</td>\n",
       "      <td>NaN</td>\n",
       "      <td>NaN</td>\n",
       "      <td>Das ist nur eine Abfrage, um über das Vorwisse...</td>\n",
       "    </tr>\n",
       "    <tr>\n",
       "      <th>35</th>\n",
       "      <td>bniRycMi5bwrXjvGy</td>\n",
       "      <td>qFEyvypMn4sAwLwtc</td>\n",
       "      <td>Clustering-2-1-1</td>\n",
       "      <td>Clustering-2</td>\n",
       "      <td>509</td>\n",
       "      <td>Für eine Make-Up-Marke würde ich am ehesten de...</td>\n",
       "      <td>True</td>\n",
       "      <td>freetext</td>\n",
       "      <td>correct</td>\n",
       "      <td>NaN</td>\n",
       "      <td>NaN</td>\n",
       "      <td>{'content': 5, 'format': 4, 'creativity': 4}</td>\n",
       "      <td></td>\n",
       "      <td>Schau dir die Mittelpunkte der Cluster genau a...</td>\n",
       "      <td>NaN</td>\n",
       "      <td>NaN</td>\n",
       "      <td>NaN</td>\n",
       "      <td>NaN</td>\n",
       "      <td>Make-Up: Cluster 1 repräsentiert es am besten....</td>\n",
       "    </tr>\n",
       "  </tbody>\n",
       "</table>\n",
       "</div>"
      ],
      "text/plain": [
       "              pupilId            classId            taskId  taskSeriesId  \\\n",
       "1   bniRycMi5bwrXjvGy  qFEyvypMn4sAwLwtc       AI-1-v2-1-2       AI-1-v2   \n",
       "8   bniRycMi5bwrXjvGy  qFEyvypMn4sAwLwtc       AI-4-v2-1-3       AI-4-v2   \n",
       "11  bniRycMi5bwrXjvGy  qFEyvypMn4sAwLwtc          ML-1-1-1          ML-1   \n",
       "16  bniRycMi5bwrXjvGy  qFEyvypMn4sAwLwtc          ML-2-1-2          ML-2   \n",
       "35  bniRycMi5bwrXjvGy  qFEyvypMn4sAwLwtc  Clustering-2-1-1  Clustering-2   \n",
       "\n",
       "   duration                                              state submitted  \\\n",
       "1       119  Künstliche Intelligenz ist ein Algorithmus, de...      True   \n",
       "8       285  Eine KI ist ein Algorithmus, der auf eine best...      True   \n",
       "11      203  Einem Algorithmus, der Hunde auf Bildern erken...      True   \n",
       "16      219  Beim maschinellen Lernen wird der Algorithmus ...      True   \n",
       "35      509  Für eine Make-Up-Marke würde ich am ehesten de...      True   \n",
       "\n",
       "     subType evaluation falseAttempts hintsTaken  \\\n",
       "1   freetext    correct           NaN        NaN   \n",
       "8   freetext    correct           NaN        NaN   \n",
       "11  freetext    correct           NaN        NaN   \n",
       "16  freetext    correct           NaN        NaN   \n",
       "35  freetext    correct           NaN        NaN   \n",
       "\n",
       "                                          rating  \\\n",
       "1   {'content': 3, 'format': 5, 'creativity': 4}   \n",
       "8   {'content': 5, 'format': 5, 'creativity': 5}   \n",
       "11  {'content': 4, 'format': 5, 'creativity': 4}   \n",
       "16  {'content': 4, 'format': 5, 'creativity': 4}   \n",
       "35  {'content': 5, 'format': 4, 'creativity': 4}   \n",
       "\n",
       "                                      teacherFeedback  \\\n",
       "1   Inhaltlich gut, etwas genauer antworten. Muste...   \n",
       "8                                                       \n",
       "11                                                      \n",
       "16                                                      \n",
       "35                                                      \n",
       "\n",
       "                                             question answers minLabel  \\\n",
       "1   Was ist deiner Meinung nach Künstliche Intelli...     NaN      NaN   \n",
       "8   Jetzt weißt du schon mehr über KI. Sag nochmal...     NaN      NaN   \n",
       "11  Kannst du einen Algorithmus schreiben, der Hun...     NaN      NaN   \n",
       "16  Weißt du vielleicht schon etwas über das masch...     NaN      NaN   \n",
       "35  Schau dir die Mittelpunkte der Cluster genau a...     NaN      NaN   \n",
       "\n",
       "   maxLabel hints                                     sampleSolution  \n",
       "1       NaN   NaN  Die Schülerinnen und Schüler (SuS) sollen besc...  \n",
       "8       NaN   NaN  KI-Anwendungen zeichnen sich aus durch intelli...  \n",
       "11      NaN   NaN  Die SuS sollen sinnvolle Wenn-Dann-Regeln find...  \n",
       "16      NaN   NaN  Das ist nur eine Abfrage, um über das Vorwisse...  \n",
       "35      NaN   NaN  Make-Up: Cluster 1 repräsentiert es am besten....  "
      ]
     },
     "execution_count": 13,
     "metadata": {},
     "output_type": "execute_result"
    }
   ],
   "source": [
    "freetext.head()"
   ]
  },
  {
   "cell_type": "markdown",
   "metadata": {},
   "source": [
    "### Länge der Abgaben"
   ]
  },
  {
   "cell_type": "code",
   "execution_count": 14,
   "metadata": {},
   "outputs": [
    {
     "name": "stdout",
     "output_type": "stream",
     "text": [
      "median length of freetext antwort: 20.5\n",
      "mean length of freetext antwort: 27.813432835820894\n",
      "std of length of freetext antwort: 23.631078673230604\n",
      "50% are between 9.0 and 44.25 words long\n",
      "min number of words: 1\n",
      "max number of words: 119\n",
      "Das sind nur die Längen der akzeptierten Antworten\n"
     ]
    },
    {
     "data": {
      "image/png": "[encoded data removed]",
      "text/plain": [
       "<Figure size 432x288 with 1 Axes>"
      ]
     },
     "metadata": {
      "needs_background": "light"
     },
     "output_type": "display_data"
    },
    {
     "data": {
      "image/png": "[encoded data removed]",
      "text/plain": [
       "<Figure size 432x288 with 1 Axes>"
      ]
     },
     "metadata": {
      "needs_background": "light"
     },
     "output_type": "display_data"
    },
    {
     "data": {
      "image/png": "[encoded data removed]",
      "text/plain": [
       "<Figure size 432x288 with 1 Axes>"
      ]
     },
     "metadata": {
      "needs_background": "light"
     },
     "output_type": "display_data"
    },
    {
     "data": {
      "image/png": "[encoded data removed]",
      "text/plain": [
       "<Figure size 432x288 with 1 Axes>"
      ]
     },
     "metadata": {
      "needs_background": "light"
     },
     "output_type": "display_data"
    }
   ],
   "source": [
    "freetext_length_characters = []\n",
    "freetext_length_words = []\n",
    "\n",
    "for index, task in freetext.iterrows():\n",
    "    freetext_length_characters.append(len(task[\"state\"]))\n",
    "    freetext_length_words.append(len(task[\"state\"].split()))\n",
    "\n",
    "print(\"median length of freetext antwort: \" + str(np.median(freetext_length_words)))\n",
    "print(\"mean length of freetext antwort: \" + str(np.mean(freetext_length_words)))\n",
    "print(\"std of length of freetext antwort: \" + str(np.std(freetext_length_words)))\n",
    "\n",
    "q75, q25 = np.percentile(freetext_length_words, [75 ,25])\n",
    "print(\"50% are between \" + str(q25) + \" and \" + str(q75) + \" words long\")\n",
    "\n",
    "print(\"min number of words: \" + str(np.min(freetext_length_words)))\n",
    "print(\"max number of words: \" + str(np.max(freetext_length_words)))\n",
    "print(\"Das sind nur die Längen der akzeptierten Antworten\")\n",
    "\n",
    "plt.hist(freetext_length_words, bins=np.max(freetext_length_words))\n",
    "plt.title(\"Anzahl Wörter in Freitext-Antworten\")\n",
    "plt.show()\n",
    "\n",
    "plt.hist(freetext_length_characters)\n",
    "plt.title(\"Anzahl Zeichen in Freitext-Antworten\")\n",
    "plt.show()\n",
    "\n",
    "sns.boxplot(freetext_length_words)\n",
    "plt.show()\n",
    "\n",
    "kde_length = sns.kdeplot(freetext_length_words)\n",
    "kde_length.set_xlim(left=0, right=np.max(freetext_length_words))\n",
    "#kde_length.set_ylim(bottom=0, top=200);\n",
    "plt.show()"
   ]
  },
  {
   "cell_type": "code",
   "execution_count": 15,
   "metadata": {},
   "outputs": [
    {
     "name": "stderr",
     "output_type": "stream",
     "text": [
      "/Users/jean-philipp/Documents/anaconda3/lib/python3.7/site-packages/ipykernel_launcher.py:1: SettingWithCopyWarning: \n",
      "A value is trying to be set on a copy of a slice from a DataFrame.\n",
      "Try using .loc[row_indexer,col_indexer] = value instead\n",
      "\n",
      "See the caveats in the documentation: https://pandas.pydata.org/pandas-docs/stable/user_guide/indexing.html#returning-a-view-versus-a-copy\n",
      "  \"\"\"Entry point for launching an IPython kernel.\n"
     ]
    }
   ],
   "source": [
    "freetext[\"number words in answer\"] = [len(string.split()) for string in freetext[\"state\"]]"
   ]
  },
  {
   "cell_type": "markdown",
   "metadata": {},
   "source": [
    "### Kurze Antworten, die noch akzeptiert wurden"
   ]
  },
  {
   "cell_type": "code",
   "execution_count": 16,
   "metadata": {},
   "outputs": [
    {
     "data": {
      "text/html": [
       "<div>\n",
       "<style scoped>\n",
       "    .dataframe tbody tr th:only-of-type {\n",
       "        vertical-align: middle;\n",
       "    }\n",
       "\n",
       "    .dataframe tbody tr th {\n",
       "        vertical-align: top;\n",
       "    }\n",
       "\n",
       "    .dataframe thead th {\n",
       "        text-align: right;\n",
       "    }\n",
       "</style>\n",
       "<table border=\"1\" class=\"dataframe\">\n",
       "  <thead>\n",
       "    <tr style=\"text-align: right;\">\n",
       "      <th></th>\n",
       "      <th>pupilId</th>\n",
       "      <th>classId</th>\n",
       "      <th>taskId</th>\n",
       "      <th>state</th>\n",
       "      <th>question</th>\n",
       "    </tr>\n",
       "  </thead>\n",
       "  <tbody>\n",
       "    <tr>\n",
       "      <th>885</th>\n",
       "      <td>gooproPtWeTH6dtcB</td>\n",
       "      <td>qFEyvypMn4sAwLwtc</td>\n",
       "      <td>Impact-2-1-1</td>\n",
       "      <td>das Gesicht ist unscharf</td>\n",
       "      <td>Was für Probleme könnten durch den Einsatz von...</td>\n",
       "    </tr>\n",
       "    <tr>\n",
       "      <th>1066</th>\n",
       "      <td>iHYe2TGnR9zgGZ6zh</td>\n",
       "      <td>GkQSJvPTRWsLnpyR9</td>\n",
       "      <td>AI-4-v2-1-3</td>\n",
       "      <td>ja&lt;br&gt;</td>\n",
       "      <td>Jetzt weißt du schon mehr über KI. Sag nochmal...</td>\n",
       "    </tr>\n",
       "    <tr>\n",
       "      <th>1069</th>\n",
       "      <td>iHYe2TGnR9zgGZ6zh</td>\n",
       "      <td>GkQSJvPTRWsLnpyR9</td>\n",
       "      <td>ML-1-1-1</td>\n",
       "      <td>nö&lt;br&gt;</td>\n",
       "      <td>Kannst du einen Algorithmus schreiben, der Hun...</td>\n",
       "    </tr>\n",
       "    <tr>\n",
       "      <th>1093</th>\n",
       "      <td>iHYe2TGnR9zgGZ6zh</td>\n",
       "      <td>GkQSJvPTRWsLnpyR9</td>\n",
       "      <td>Clustering-2-1-1</td>\n",
       "      <td>.</td>\n",
       "      <td>Schau dir die Mittelpunkte der Cluster genau a...</td>\n",
       "    </tr>\n",
       "    <tr>\n",
       "      <th>1133</th>\n",
       "      <td>5GPMWTgF29JDyeXoG</td>\n",
       "      <td>GkQSJvPTRWsLnpyR9</td>\n",
       "      <td>AI-4-v2-1-3</td>\n",
       "      <td>.</td>\n",
       "      <td>Jetzt weißt du schon mehr über KI. Sag nochmal...</td>\n",
       "    </tr>\n",
       "    <tr>\n",
       "      <th>1136</th>\n",
       "      <td>5GPMWTgF29JDyeXoG</td>\n",
       "      <td>GkQSJvPTRWsLnpyR9</td>\n",
       "      <td>ML-1-1-1</td>\n",
       "      <td>.</td>\n",
       "      <td>Kannst du einen Algorithmus schreiben, der Hun...</td>\n",
       "    </tr>\n",
       "    <tr>\n",
       "      <th>1160</th>\n",
       "      <td>5GPMWTgF29JDyeXoG</td>\n",
       "      <td>GkQSJvPTRWsLnpyR9</td>\n",
       "      <td>Clustering-2-1-1</td>\n",
       "      <td>.</td>\n",
       "      <td>Schau dir die Mittelpunkte der Cluster genau a...</td>\n",
       "    </tr>\n",
       "    <tr>\n",
       "      <th>1162</th>\n",
       "      <td>5GPMWTgF29JDyeXoG</td>\n",
       "      <td>GkQSJvPTRWsLnpyR9</td>\n",
       "      <td>LimitsML-1-2</td>\n",
       "      <td>.</td>\n",
       "      <td>Was würde passieren, wenn wir alle Bilder von ...</td>\n",
       "    </tr>\n",
       "    <tr>\n",
       "      <th>1169</th>\n",
       "      <td>5GPMWTgF29JDyeXoG</td>\n",
       "      <td>GkQSJvPTRWsLnpyR9</td>\n",
       "      <td>EvalML-1-7</td>\n",
       "      <td>.</td>\n",
       "      <td>Beschreib noch einmal in eigenen Worten, was m...</td>\n",
       "    </tr>\n",
       "    <tr>\n",
       "      <th>1173</th>\n",
       "      <td>5GPMWTgF29JDyeXoG</td>\n",
       "      <td>GkQSJvPTRWsLnpyR9</td>\n",
       "      <td>Impact-2-1-1</td>\n",
       "      <td>fehler</td>\n",
       "      <td>Was für Probleme könnten durch den Einsatz von...</td>\n",
       "    </tr>\n",
       "    <tr>\n",
       "      <th>1182</th>\n",
       "      <td>5GPMWTgF29JDyeXoG</td>\n",
       "      <td>GkQSJvPTRWsLnpyR9</td>\n",
       "      <td>Impact-3-1-3</td>\n",
       "      <td>.&lt;br&gt;</td>\n",
       "      <td>In vielen Bereichen wird der Mensch auch nicht...</td>\n",
       "    </tr>\n",
       "    <tr>\n",
       "      <th>1188</th>\n",
       "      <td>5GPMWTgF29JDyeXoG</td>\n",
       "      <td>GkQSJvPTRWsLnpyR9</td>\n",
       "      <td>AIClosing-1-5</td>\n",
       "      <td>.</td>\n",
       "      <td>Du siehst also, dass die Erwartungen der Mensc...</td>\n",
       "    </tr>\n",
       "    <tr>\n",
       "      <th>1265</th>\n",
       "      <td>Yss4MmFBusuAqSMaN</td>\n",
       "      <td>GkQSJvPTRWsLnpyR9</td>\n",
       "      <td>AI-4-v2-1-3</td>\n",
       "      <td>sie lernen selbsständig</td>\n",
       "      <td>Jetzt weißt du schon mehr über KI. Sag nochmal...</td>\n",
       "    </tr>\n",
       "    <tr>\n",
       "      <th>1292</th>\n",
       "      <td>Yss4MmFBusuAqSMaN</td>\n",
       "      <td>GkQSJvPTRWsLnpyR9</td>\n",
       "      <td>Clustering-2-1-1</td>\n",
       "      <td>1=Make-Up3=auto</td>\n",
       "      <td>Schau dir die Mittelpunkte der Cluster genau a...</td>\n",
       "    </tr>\n",
       "    <tr>\n",
       "      <th>1294</th>\n",
       "      <td>Yss4MmFBusuAqSMaN</td>\n",
       "      <td>GkQSJvPTRWsLnpyR9</td>\n",
       "      <td>LimitsML-1-2</td>\n",
       "      <td>ist ja richtig</td>\n",
       "      <td>Was würde passieren, wenn wir alle Bilder von ...</td>\n",
       "    </tr>\n",
       "    <tr>\n",
       "      <th>1301</th>\n",
       "      <td>Yss4MmFBusuAqSMaN</td>\n",
       "      <td>GkQSJvPTRWsLnpyR9</td>\n",
       "      <td>EvalML-1-7</td>\n",
       "      <td>.</td>\n",
       "      <td>Beschreib noch einmal in eigenen Worten, was m...</td>\n",
       "    </tr>\n",
       "    <tr>\n",
       "      <th>1377</th>\n",
       "      <td>Qmv6K9aQsAEKfHsK9</td>\n",
       "      <td>GkQSJvPTRWsLnpyR9</td>\n",
       "      <td>ML-1-1-1</td>\n",
       "      <td>Ich denke schon</td>\n",
       "      <td>Kannst du einen Algorithmus schreiben, der Hun...</td>\n",
       "    </tr>\n",
       "    <tr>\n",
       "      <th>1401</th>\n",
       "      <td>Qmv6K9aQsAEKfHsK9</td>\n",
       "      <td>GkQSJvPTRWsLnpyR9</td>\n",
       "      <td>Clustering-2-1-1</td>\n",
       "      <td>6zjmnh</td>\n",
       "      <td>Schau dir die Mittelpunkte der Cluster genau a...</td>\n",
       "    </tr>\n",
       "    <tr>\n",
       "      <th>1410</th>\n",
       "      <td>Qmv6K9aQsAEKfHsK9</td>\n",
       "      <td>GkQSJvPTRWsLnpyR9</td>\n",
       "      <td>EvalML-1-7</td>\n",
       "      <td>Kein Plan</td>\n",
       "      <td>Beschreib noch einmal in eigenen Worten, was m...</td>\n",
       "    </tr>\n",
       "    <tr>\n",
       "      <th>1466</th>\n",
       "      <td>DK2rx5xPL6KCEobJE</td>\n",
       "      <td>GkQSJvPTRWsLnpyR9</td>\n",
       "      <td>Clustering-2-1-1</td>\n",
       "      <td>cluster 1 Make-Up-Marke</td>\n",
       "      <td>Schau dir die Mittelpunkte der Cluster genau a...</td>\n",
       "    </tr>\n",
       "    <tr>\n",
       "      <th>1531</th>\n",
       "      <td>eSpxJKMm99HohczFv</td>\n",
       "      <td>GkQSJvPTRWsLnpyR9</td>\n",
       "      <td>EvalML-1-7</td>\n",
       "      <td>Maschienen lernen</td>\n",
       "      <td>Beschreib noch einmal in eigenen Worten, was m...</td>\n",
       "    </tr>\n",
       "    <tr>\n",
       "      <th>1562</th>\n",
       "      <td>gDspq39jnffCNv8E2</td>\n",
       "      <td>GkQSJvPTRWsLnpyR9</td>\n",
       "      <td>AI-4-v2-1-3</td>\n",
       "      <td>.</td>\n",
       "      <td>Jetzt weißt du schon mehr über KI. Sag nochmal...</td>\n",
       "    </tr>\n",
       "    <tr>\n",
       "      <th>1598</th>\n",
       "      <td>gDspq39jnffCNv8E2</td>\n",
       "      <td>GkQSJvPTRWsLnpyR9</td>\n",
       "      <td>EvalML-1-7</td>\n",
       "      <td>keine arnung</td>\n",
       "      <td>Beschreib noch einmal in eigenen Worten, was m...</td>\n",
       "    </tr>\n",
       "  </tbody>\n",
       "</table>\n",
       "</div>"
      ],
      "text/plain": [
       "                pupilId            classId            taskId  \\\n",
       "885   gooproPtWeTH6dtcB  qFEyvypMn4sAwLwtc      Impact-2-1-1   \n",
       "1066  iHYe2TGnR9zgGZ6zh  GkQSJvPTRWsLnpyR9       AI-4-v2-1-3   \n",
       "1069  iHYe2TGnR9zgGZ6zh  GkQSJvPTRWsLnpyR9          ML-1-1-1   \n",
       "1093  iHYe2TGnR9zgGZ6zh  GkQSJvPTRWsLnpyR9  Clustering-2-1-1   \n",
       "1133  5GPMWTgF29JDyeXoG  GkQSJvPTRWsLnpyR9       AI-4-v2-1-3   \n",
       "1136  5GPMWTgF29JDyeXoG  GkQSJvPTRWsLnpyR9          ML-1-1-1   \n",
       "1160  5GPMWTgF29JDyeXoG  GkQSJvPTRWsLnpyR9  Clustering-2-1-1   \n",
       "1162  5GPMWTgF29JDyeXoG  GkQSJvPTRWsLnpyR9      LimitsML-1-2   \n",
       "1169  5GPMWTgF29JDyeXoG  GkQSJvPTRWsLnpyR9        EvalML-1-7   \n",
       "1173  5GPMWTgF29JDyeXoG  GkQSJvPTRWsLnpyR9      Impact-2-1-1   \n",
       "1182  5GPMWTgF29JDyeXoG  GkQSJvPTRWsLnpyR9      Impact-3-1-3   \n",
       "1188  5GPMWTgF29JDyeXoG  GkQSJvPTRWsLnpyR9     AIClosing-1-5   \n",
       "1265  Yss4MmFBusuAqSMaN  GkQSJvPTRWsLnpyR9       AI-4-v2-1-3   \n",
       "1292  Yss4MmFBusuAqSMaN  GkQSJvPTRWsLnpyR9  Clustering-2-1-1   \n",
       "1294  Yss4MmFBusuAqSMaN  GkQSJvPTRWsLnpyR9      LimitsML-1-2   \n",
       "1301  Yss4MmFBusuAqSMaN  GkQSJvPTRWsLnpyR9        EvalML-1-7   \n",
       "1377  Qmv6K9aQsAEKfHsK9  GkQSJvPTRWsLnpyR9          ML-1-1-1   \n",
       "1401  Qmv6K9aQsAEKfHsK9  GkQSJvPTRWsLnpyR9  Clustering-2-1-1   \n",
       "1410  Qmv6K9aQsAEKfHsK9  GkQSJvPTRWsLnpyR9        EvalML-1-7   \n",
       "1466  DK2rx5xPL6KCEobJE  GkQSJvPTRWsLnpyR9  Clustering-2-1-1   \n",
       "1531  eSpxJKMm99HohczFv  GkQSJvPTRWsLnpyR9        EvalML-1-7   \n",
       "1562  gDspq39jnffCNv8E2  GkQSJvPTRWsLnpyR9       AI-4-v2-1-3   \n",
       "1598  gDspq39jnffCNv8E2  GkQSJvPTRWsLnpyR9        EvalML-1-7   \n",
       "\n",
       "                          state  \\\n",
       "885   das Gesicht ist unscharf    \n",
       "1066                     ja<br>   \n",
       "1069                     nö<br>   \n",
       "1093                          .   \n",
       "1133                          .   \n",
       "1136                          .   \n",
       "1160                          .   \n",
       "1162                          .   \n",
       "1169                          .   \n",
       "1173                     fehler   \n",
       "1182                      .<br>   \n",
       "1188                          .   \n",
       "1265   sie lernen selbsständig    \n",
       "1292            1=Make-Up3=auto   \n",
       "1294             ist ja richtig   \n",
       "1301                          .   \n",
       "1377           Ich denke schon    \n",
       "1401                     6zjmnh   \n",
       "1410                 Kein Plan    \n",
       "1466   cluster 1 Make-Up-Marke    \n",
       "1531          Maschienen lernen   \n",
       "1562                          .   \n",
       "1598               keine arnung   \n",
       "\n",
       "                                               question  \n",
       "885   Was für Probleme könnten durch den Einsatz von...  \n",
       "1066  Jetzt weißt du schon mehr über KI. Sag nochmal...  \n",
       "1069  Kannst du einen Algorithmus schreiben, der Hun...  \n",
       "1093  Schau dir die Mittelpunkte der Cluster genau a...  \n",
       "1133  Jetzt weißt du schon mehr über KI. Sag nochmal...  \n",
       "1136  Kannst du einen Algorithmus schreiben, der Hun...  \n",
       "1160  Schau dir die Mittelpunkte der Cluster genau a...  \n",
       "1162  Was würde passieren, wenn wir alle Bilder von ...  \n",
       "1169  Beschreib noch einmal in eigenen Worten, was m...  \n",
       "1173  Was für Probleme könnten durch den Einsatz von...  \n",
       "1182  In vielen Bereichen wird der Mensch auch nicht...  \n",
       "1188  Du siehst also, dass die Erwartungen der Mensc...  \n",
       "1265  Jetzt weißt du schon mehr über KI. Sag nochmal...  \n",
       "1292  Schau dir die Mittelpunkte der Cluster genau a...  \n",
       "1294  Was würde passieren, wenn wir alle Bilder von ...  \n",
       "1301  Beschreib noch einmal in eigenen Worten, was m...  \n",
       "1377  Kannst du einen Algorithmus schreiben, der Hun...  \n",
       "1401  Schau dir die Mittelpunkte der Cluster genau a...  \n",
       "1410  Beschreib noch einmal in eigenen Worten, was m...  \n",
       "1466  Schau dir die Mittelpunkte der Cluster genau a...  \n",
       "1531  Beschreib noch einmal in eigenen Worten, was m...  \n",
       "1562  Jetzt weißt du schon mehr über KI. Sag nochmal...  \n",
       "1598  Beschreib noch einmal in eigenen Worten, was m...  "
      ]
     },
     "execution_count": 16,
     "metadata": {},
     "output_type": "execute_result"
    }
   ],
   "source": [
    "#was sind die kurzen antworten, die akzeptiert wurden?\n",
    "freetext[(freetext[\"number words in answer\"]<5) & (freetext[\"taskId\"] != \"AIClosing-1-8\") & (freetext[\"taskId\"] != \"ML-2-1-2\")& (freetext[\"taskId\"] != \"AI-1-v2-1-2\")][[\"pupilId\", \"classId\", \"taskId\", \"state\", \"question\"]]"
   ]
  },
  {
   "cell_type": "markdown",
   "metadata": {},
   "source": [
    "Erst noch die Antworten auf Fragen rausnehmen, zu denen SuS noch nichts wissen müssen.\n",
    "Scheinen wenige SuS zu sein, von denen die Antworten trotzdem akzeptiert wurden.\n",
    "\n",
    "vllt musste ein account hochgespielt werden"
   ]
  },
  {
   "cell_type": "code",
   "execution_count": 17,
   "metadata": {},
   "outputs": [
    {
     "data": {
      "image/png": "[encoded data removed]",
      "text/plain": [
       "<Figure size 432x288 with 1 Axes>"
      ]
     },
     "metadata": {
      "needs_background": "light"
     },
     "output_type": "display_data"
    }
   ],
   "source": [
    "freetext[(freetext[\"number words in answer\"]<5) & (freetext[\"taskId\"] != \"AIClosing-1-8\")& (freetext[\"taskId\"] != \"ML-2-1-2\")& (freetext[\"taskId\"] != \"AI-1-v2-1-2\")][\"pupilId\"].value_counts()\n",
    "\n",
    "plt.hist(freetext[(freetext[\"number words in answer\"]<5) & (freetext[\"taskId\"] != \"AIClosing-1-8\")& (freetext[\"taskId\"] != \"ML-2-1-2\")& (freetext[\"taskId\"] != \"AI-1-v2-1-2\")][\"pupilId\"].value_counts())\n",
    "plt.show()"
   ]
  },
  {
   "cell_type": "code",
   "execution_count": 18,
   "metadata": {},
   "outputs": [
    {
     "data": {
      "text/html": [
       "<div>\n",
       "<style scoped>\n",
       "    .dataframe tbody tr th:only-of-type {\n",
       "        vertical-align: middle;\n",
       "    }\n",
       "\n",
       "    .dataframe tbody tr th {\n",
       "        vertical-align: top;\n",
       "    }\n",
       "\n",
       "    .dataframe thead th {\n",
       "        text-align: right;\n",
       "    }\n",
       "</style>\n",
       "<table border=\"1\" class=\"dataframe\">\n",
       "  <thead>\n",
       "    <tr style=\"text-align: right;\">\n",
       "      <th></th>\n",
       "      <th>pupilId</th>\n",
       "      <th>classId</th>\n",
       "      <th>taskId</th>\n",
       "      <th>state</th>\n",
       "      <th>question</th>\n",
       "    </tr>\n",
       "  </thead>\n",
       "  <tbody>\n",
       "    <tr>\n",
       "      <th>508</th>\n",
       "      <td>TLqNCrX4jaYixjtv7</td>\n",
       "      <td>qFEyvypMn4sAwLwtc</td>\n",
       "      <td>LimitsML-1-2</td>\n",
       "      <td>Dann erkennt der Algorithmus Seehunde als Hunde.</td>\n",
       "      <td>Was würde passieren, wenn wir alle Bilder von ...</td>\n",
       "    </tr>\n",
       "    <tr>\n",
       "      <th>760</th>\n",
       "      <td>3hiSwDCiw9HeyHg7f</td>\n",
       "      <td>qFEyvypMn4sAwLwtc</td>\n",
       "      <td>Impact-3-1-3</td>\n",
       "      <td>Es können Fehler von Menschenverhindert werden.</td>\n",
       "      <td>In vielen Bereichen wird der Mensch auch nicht...</td>\n",
       "    </tr>\n",
       "    <tr>\n",
       "      <th>818</th>\n",
       "      <td>jRT6yzZ2ip5ab5ZFM</td>\n",
       "      <td>qFEyvypMn4sAwLwtc</td>\n",
       "      <td>Impact-2-1-1</td>\n",
       "      <td>Man könnte damit verbrechen fälschen</td>\n",
       "      <td>Was für Probleme könnten durch den Einsatz von...</td>\n",
       "    </tr>\n",
       "    <tr>\n",
       "      <th>872</th>\n",
       "      <td>gooproPtWeTH6dtcB</td>\n",
       "      <td>qFEyvypMn4sAwLwtc</td>\n",
       "      <td>Clustering-2-1-1</td>\n",
       "      <td>&lt;span style=\"color: rgb(51, 51, 51);\"&gt;⠀&lt;/span&gt;</td>\n",
       "      <td>Schau dir die Mittelpunkte der Cluster genau a...</td>\n",
       "    </tr>\n",
       "    <tr>\n",
       "      <th>874</th>\n",
       "      <td>gooproPtWeTH6dtcB</td>\n",
       "      <td>qFEyvypMn4sAwLwtc</td>\n",
       "      <td>LimitsML-1-2</td>\n",
       "      <td>&lt;span style=\"color: rgb(51, 51, 51);\"&gt;⠀&lt;/span&gt;</td>\n",
       "      <td>Was würde passieren, wenn wir alle Bilder von ...</td>\n",
       "    </tr>\n",
       "    <tr>\n",
       "      <th>881</th>\n",
       "      <td>gooproPtWeTH6dtcB</td>\n",
       "      <td>qFEyvypMn4sAwLwtc</td>\n",
       "      <td>EvalML-1-7</td>\n",
       "      <td>&lt;span style=\"color: rgb(51, 51, 51);\"&gt;⠀&lt;/span&gt;...</td>\n",
       "      <td>Beschreib noch einmal in eigenen Worten, was m...</td>\n",
       "    </tr>\n",
       "    <tr>\n",
       "      <th>885</th>\n",
       "      <td>gooproPtWeTH6dtcB</td>\n",
       "      <td>qFEyvypMn4sAwLwtc</td>\n",
       "      <td>Impact-2-1-1</td>\n",
       "      <td>das Gesicht ist unscharf</td>\n",
       "      <td>Was für Probleme könnten durch den Einsatz von...</td>\n",
       "    </tr>\n",
       "    <tr>\n",
       "      <th>894</th>\n",
       "      <td>gooproPtWeTH6dtcB</td>\n",
       "      <td>qFEyvypMn4sAwLwtc</td>\n",
       "      <td>Impact-3-1-3</td>\n",
       "      <td>sicher werden die Kooperation mit Ki vorteile ...</td>\n",
       "      <td>In vielen Bereichen wird der Mensch auch nicht...</td>\n",
       "    </tr>\n",
       "    <tr>\n",
       "      <th>900</th>\n",
       "      <td>gooproPtWeTH6dtcB</td>\n",
       "      <td>qFEyvypMn4sAwLwtc</td>\n",
       "      <td>AIClosing-1-5</td>\n",
       "      <td>&lt;span style=\"color: rgb(51, 51, 51);\"&gt;⠀&lt;/span&gt;</td>\n",
       "      <td>Du siehst also, dass die Erwartungen der Mensc...</td>\n",
       "    </tr>\n",
       "    <tr>\n",
       "      <th>1066</th>\n",
       "      <td>iHYe2TGnR9zgGZ6zh</td>\n",
       "      <td>GkQSJvPTRWsLnpyR9</td>\n",
       "      <td>AI-4-v2-1-3</td>\n",
       "      <td>ja&lt;br&gt;</td>\n",
       "      <td>Jetzt weißt du schon mehr über KI. Sag nochmal...</td>\n",
       "    </tr>\n",
       "    <tr>\n",
       "      <th>1069</th>\n",
       "      <td>iHYe2TGnR9zgGZ6zh</td>\n",
       "      <td>GkQSJvPTRWsLnpyR9</td>\n",
       "      <td>ML-1-1-1</td>\n",
       "      <td>nö&lt;br&gt;</td>\n",
       "      <td>Kannst du einen Algorithmus schreiben, der Hun...</td>\n",
       "    </tr>\n",
       "    <tr>\n",
       "      <th>1093</th>\n",
       "      <td>iHYe2TGnR9zgGZ6zh</td>\n",
       "      <td>GkQSJvPTRWsLnpyR9</td>\n",
       "      <td>Clustering-2-1-1</td>\n",
       "      <td>.</td>\n",
       "      <td>Schau dir die Mittelpunkte der Cluster genau a...</td>\n",
       "    </tr>\n",
       "    <tr>\n",
       "      <th>1095</th>\n",
       "      <td>iHYe2TGnR9zgGZ6zh</td>\n",
       "      <td>GkQSJvPTRWsLnpyR9</td>\n",
       "      <td>LimitsML-1-2</td>\n",
       "      <td>sie würden nicht erkant werden</td>\n",
       "      <td>Was würde passieren, wenn wir alle Bilder von ...</td>\n",
       "    </tr>\n",
       "    <tr>\n",
       "      <th>1102</th>\n",
       "      <td>iHYe2TGnR9zgGZ6zh</td>\n",
       "      <td>GkQSJvPTRWsLnpyR9</td>\n",
       "      <td>EvalML-1-7</td>\n",
       "      <td>Das die Maschiene durch Erfahrung lernt</td>\n",
       "      <td>Beschreib noch einmal in eigenen Worten, was m...</td>\n",
       "    </tr>\n",
       "    <tr>\n",
       "      <th>1133</th>\n",
       "      <td>5GPMWTgF29JDyeXoG</td>\n",
       "      <td>GkQSJvPTRWsLnpyR9</td>\n",
       "      <td>AI-4-v2-1-3</td>\n",
       "      <td>.</td>\n",
       "      <td>Jetzt weißt du schon mehr über KI. Sag nochmal...</td>\n",
       "    </tr>\n",
       "    <tr>\n",
       "      <th>1136</th>\n",
       "      <td>5GPMWTgF29JDyeXoG</td>\n",
       "      <td>GkQSJvPTRWsLnpyR9</td>\n",
       "      <td>ML-1-1-1</td>\n",
       "      <td>.</td>\n",
       "      <td>Kannst du einen Algorithmus schreiben, der Hun...</td>\n",
       "    </tr>\n",
       "    <tr>\n",
       "      <th>1160</th>\n",
       "      <td>5GPMWTgF29JDyeXoG</td>\n",
       "      <td>GkQSJvPTRWsLnpyR9</td>\n",
       "      <td>Clustering-2-1-1</td>\n",
       "      <td>.</td>\n",
       "      <td>Schau dir die Mittelpunkte der Cluster genau a...</td>\n",
       "    </tr>\n",
       "    <tr>\n",
       "      <th>1162</th>\n",
       "      <td>5GPMWTgF29JDyeXoG</td>\n",
       "      <td>GkQSJvPTRWsLnpyR9</td>\n",
       "      <td>LimitsML-1-2</td>\n",
       "      <td>.</td>\n",
       "      <td>Was würde passieren, wenn wir alle Bilder von ...</td>\n",
       "    </tr>\n",
       "    <tr>\n",
       "      <th>1169</th>\n",
       "      <td>5GPMWTgF29JDyeXoG</td>\n",
       "      <td>GkQSJvPTRWsLnpyR9</td>\n",
       "      <td>EvalML-1-7</td>\n",
       "      <td>.</td>\n",
       "      <td>Beschreib noch einmal in eigenen Worten, was m...</td>\n",
       "    </tr>\n",
       "    <tr>\n",
       "      <th>1173</th>\n",
       "      <td>5GPMWTgF29JDyeXoG</td>\n",
       "      <td>GkQSJvPTRWsLnpyR9</td>\n",
       "      <td>Impact-2-1-1</td>\n",
       "      <td>fehler</td>\n",
       "      <td>Was für Probleme könnten durch den Einsatz von...</td>\n",
       "    </tr>\n",
       "    <tr>\n",
       "      <th>1182</th>\n",
       "      <td>5GPMWTgF29JDyeXoG</td>\n",
       "      <td>GkQSJvPTRWsLnpyR9</td>\n",
       "      <td>Impact-3-1-3</td>\n",
       "      <td>.&lt;br&gt;</td>\n",
       "      <td>In vielen Bereichen wird der Mensch auch nicht...</td>\n",
       "    </tr>\n",
       "    <tr>\n",
       "      <th>1188</th>\n",
       "      <td>5GPMWTgF29JDyeXoG</td>\n",
       "      <td>GkQSJvPTRWsLnpyR9</td>\n",
       "      <td>AIClosing-1-5</td>\n",
       "      <td>.</td>\n",
       "      <td>Du siehst also, dass die Erwartungen der Mensc...</td>\n",
       "    </tr>\n",
       "    <tr>\n",
       "      <th>1265</th>\n",
       "      <td>Yss4MmFBusuAqSMaN</td>\n",
       "      <td>GkQSJvPTRWsLnpyR9</td>\n",
       "      <td>AI-4-v2-1-3</td>\n",
       "      <td>sie lernen selbsständig</td>\n",
       "      <td>Jetzt weißt du schon mehr über KI. Sag nochmal...</td>\n",
       "    </tr>\n",
       "    <tr>\n",
       "      <th>1292</th>\n",
       "      <td>Yss4MmFBusuAqSMaN</td>\n",
       "      <td>GkQSJvPTRWsLnpyR9</td>\n",
       "      <td>Clustering-2-1-1</td>\n",
       "      <td>1=Make-Up3=auto</td>\n",
       "      <td>Schau dir die Mittelpunkte der Cluster genau a...</td>\n",
       "    </tr>\n",
       "    <tr>\n",
       "      <th>1294</th>\n",
       "      <td>Yss4MmFBusuAqSMaN</td>\n",
       "      <td>GkQSJvPTRWsLnpyR9</td>\n",
       "      <td>LimitsML-1-2</td>\n",
       "      <td>ist ja richtig</td>\n",
       "      <td>Was würde passieren, wenn wir alle Bilder von ...</td>\n",
       "    </tr>\n",
       "    <tr>\n",
       "      <th>1301</th>\n",
       "      <td>Yss4MmFBusuAqSMaN</td>\n",
       "      <td>GkQSJvPTRWsLnpyR9</td>\n",
       "      <td>EvalML-1-7</td>\n",
       "      <td>.</td>\n",
       "      <td>Beschreib noch einmal in eigenen Worten, was m...</td>\n",
       "    </tr>\n",
       "    <tr>\n",
       "      <th>1305</th>\n",
       "      <td>Yss4MmFBusuAqSMaN</td>\n",
       "      <td>GkQSJvPTRWsLnpyR9</td>\n",
       "      <td>Impact-2-1-1</td>\n",
       "      <td>man kann alles mögliche damit machen</td>\n",
       "      <td>Was für Probleme könnten durch den Einsatz von...</td>\n",
       "    </tr>\n",
       "    <tr>\n",
       "      <th>1320</th>\n",
       "      <td>Yss4MmFBusuAqSMaN</td>\n",
       "      <td>GkQSJvPTRWsLnpyR9</td>\n",
       "      <td>AIClosing-1-5</td>\n",
       "      <td>KI`s können denn Menschen bei gewissen dingen ...</td>\n",
       "      <td>Du siehst also, dass die Erwartungen der Mensc...</td>\n",
       "    </tr>\n",
       "    <tr>\n",
       "      <th>1374</th>\n",
       "      <td>Qmv6K9aQsAEKfHsK9</td>\n",
       "      <td>GkQSJvPTRWsLnpyR9</td>\n",
       "      <td>AI-4-v2-1-3</td>\n",
       "      <td>Die KI ist eine Küstlich intiligentz</td>\n",
       "      <td>Jetzt weißt du schon mehr über KI. Sag nochmal...</td>\n",
       "    </tr>\n",
       "    <tr>\n",
       "      <th>1377</th>\n",
       "      <td>Qmv6K9aQsAEKfHsK9</td>\n",
       "      <td>GkQSJvPTRWsLnpyR9</td>\n",
       "      <td>ML-1-1-1</td>\n",
       "      <td>Ich denke schon</td>\n",
       "      <td>Kannst du einen Algorithmus schreiben, der Hun...</td>\n",
       "    </tr>\n",
       "    <tr>\n",
       "      <th>1401</th>\n",
       "      <td>Qmv6K9aQsAEKfHsK9</td>\n",
       "      <td>GkQSJvPTRWsLnpyR9</td>\n",
       "      <td>Clustering-2-1-1</td>\n",
       "      <td>6zjmnh</td>\n",
       "      <td>Schau dir die Mittelpunkte der Cluster genau a...</td>\n",
       "    </tr>\n",
       "    <tr>\n",
       "      <th>1403</th>\n",
       "      <td>Qmv6K9aQsAEKfHsK9</td>\n",
       "      <td>GkQSJvPTRWsLnpyR9</td>\n",
       "      <td>LimitsML-1-2</td>\n",
       "      <td>Der Algurütmuss würde es nicht erkennen</td>\n",
       "      <td>Was würde passieren, wenn wir alle Bilder von ...</td>\n",
       "    </tr>\n",
       "    <tr>\n",
       "      <th>1410</th>\n",
       "      <td>Qmv6K9aQsAEKfHsK9</td>\n",
       "      <td>GkQSJvPTRWsLnpyR9</td>\n",
       "      <td>EvalML-1-7</td>\n",
       "      <td>Kein Plan</td>\n",
       "      <td>Beschreib noch einmal in eigenen Worten, was m...</td>\n",
       "    </tr>\n",
       "    <tr>\n",
       "      <th>1423</th>\n",
       "      <td>Qmv6K9aQsAEKfHsK9</td>\n",
       "      <td>GkQSJvPTRWsLnpyR9</td>\n",
       "      <td>Impact-3-1-3</td>\n",
       "      <td>Die Jobs würde immer pervekt ausgeführt werden</td>\n",
       "      <td>In vielen Bereichen wird der Mensch auch nicht...</td>\n",
       "    </tr>\n",
       "    <tr>\n",
       "      <th>1466</th>\n",
       "      <td>DK2rx5xPL6KCEobJE</td>\n",
       "      <td>GkQSJvPTRWsLnpyR9</td>\n",
       "      <td>Clustering-2-1-1</td>\n",
       "      <td>cluster 1 Make-Up-Marke</td>\n",
       "      <td>Schau dir die Mittelpunkte der Cluster genau a...</td>\n",
       "    </tr>\n",
       "    <tr>\n",
       "      <th>1531</th>\n",
       "      <td>eSpxJKMm99HohczFv</td>\n",
       "      <td>GkQSJvPTRWsLnpyR9</td>\n",
       "      <td>EvalML-1-7</td>\n",
       "      <td>Maschienen lernen</td>\n",
       "      <td>Beschreib noch einmal in eigenen Worten, was m...</td>\n",
       "    </tr>\n",
       "    <tr>\n",
       "      <th>1562</th>\n",
       "      <td>gDspq39jnffCNv8E2</td>\n",
       "      <td>GkQSJvPTRWsLnpyR9</td>\n",
       "      <td>AI-4-v2-1-3</td>\n",
       "      <td>.</td>\n",
       "      <td>Jetzt weißt du schon mehr über KI. Sag nochmal...</td>\n",
       "    </tr>\n",
       "    <tr>\n",
       "      <th>1589</th>\n",
       "      <td>gDspq39jnffCNv8E2</td>\n",
       "      <td>GkQSJvPTRWsLnpyR9</td>\n",
       "      <td>Clustering-2-1-1</td>\n",
       "      <td>Beauty, Vlogs weil sie haben viele views&lt;br&gt;</td>\n",
       "      <td>Schau dir die Mittelpunkte der Cluster genau a...</td>\n",
       "    </tr>\n",
       "    <tr>\n",
       "      <th>1598</th>\n",
       "      <td>gDspq39jnffCNv8E2</td>\n",
       "      <td>GkQSJvPTRWsLnpyR9</td>\n",
       "      <td>EvalML-1-7</td>\n",
       "      <td>keine arnung</td>\n",
       "      <td>Beschreib noch einmal in eigenen Worten, was m...</td>\n",
       "    </tr>\n",
       "    <tr>\n",
       "      <th>1611</th>\n",
       "      <td>gDspq39jnffCNv8E2</td>\n",
       "      <td>GkQSJvPTRWsLnpyR9</td>\n",
       "      <td>Impact-3-1-3</td>\n",
       "      <td>Menschen müssen nicht mehr so schwer arbeiten</td>\n",
       "      <td>In vielen Bereichen wird der Mensch auch nicht...</td>\n",
       "    </tr>\n",
       "  </tbody>\n",
       "</table>\n",
       "</div>"
      ],
      "text/plain": [
       "                pupilId            classId            taskId  \\\n",
       "508   TLqNCrX4jaYixjtv7  qFEyvypMn4sAwLwtc      LimitsML-1-2   \n",
       "760   3hiSwDCiw9HeyHg7f  qFEyvypMn4sAwLwtc      Impact-3-1-3   \n",
       "818   jRT6yzZ2ip5ab5ZFM  qFEyvypMn4sAwLwtc      Impact-2-1-1   \n",
       "872   gooproPtWeTH6dtcB  qFEyvypMn4sAwLwtc  Clustering-2-1-1   \n",
       "874   gooproPtWeTH6dtcB  qFEyvypMn4sAwLwtc      LimitsML-1-2   \n",
       "881   gooproPtWeTH6dtcB  qFEyvypMn4sAwLwtc        EvalML-1-7   \n",
       "885   gooproPtWeTH6dtcB  qFEyvypMn4sAwLwtc      Impact-2-1-1   \n",
       "894   gooproPtWeTH6dtcB  qFEyvypMn4sAwLwtc      Impact-3-1-3   \n",
       "900   gooproPtWeTH6dtcB  qFEyvypMn4sAwLwtc     AIClosing-1-5   \n",
       "1066  iHYe2TGnR9zgGZ6zh  GkQSJvPTRWsLnpyR9       AI-4-v2-1-3   \n",
       "1069  iHYe2TGnR9zgGZ6zh  GkQSJvPTRWsLnpyR9          ML-1-1-1   \n",
       "1093  iHYe2TGnR9zgGZ6zh  GkQSJvPTRWsLnpyR9  Clustering-2-1-1   \n",
       "1095  iHYe2TGnR9zgGZ6zh  GkQSJvPTRWsLnpyR9      LimitsML-1-2   \n",
       "1102  iHYe2TGnR9zgGZ6zh  GkQSJvPTRWsLnpyR9        EvalML-1-7   \n",
       "1133  5GPMWTgF29JDyeXoG  GkQSJvPTRWsLnpyR9       AI-4-v2-1-3   \n",
       "1136  5GPMWTgF29JDyeXoG  GkQSJvPTRWsLnpyR9          ML-1-1-1   \n",
       "1160  5GPMWTgF29JDyeXoG  GkQSJvPTRWsLnpyR9  Clustering-2-1-1   \n",
       "1162  5GPMWTgF29JDyeXoG  GkQSJvPTRWsLnpyR9      LimitsML-1-2   \n",
       "1169  5GPMWTgF29JDyeXoG  GkQSJvPTRWsLnpyR9        EvalML-1-7   \n",
       "1173  5GPMWTgF29JDyeXoG  GkQSJvPTRWsLnpyR9      Impact-2-1-1   \n",
       "1182  5GPMWTgF29JDyeXoG  GkQSJvPTRWsLnpyR9      Impact-3-1-3   \n",
       "1188  5GPMWTgF29JDyeXoG  GkQSJvPTRWsLnpyR9     AIClosing-1-5   \n",
       "1265  Yss4MmFBusuAqSMaN  GkQSJvPTRWsLnpyR9       AI-4-v2-1-3   \n",
       "1292  Yss4MmFBusuAqSMaN  GkQSJvPTRWsLnpyR9  Clustering-2-1-1   \n",
       "1294  Yss4MmFBusuAqSMaN  GkQSJvPTRWsLnpyR9      LimitsML-1-2   \n",
       "1301  Yss4MmFBusuAqSMaN  GkQSJvPTRWsLnpyR9        EvalML-1-7   \n",
       "1305  Yss4MmFBusuAqSMaN  GkQSJvPTRWsLnpyR9      Impact-2-1-1   \n",
       "1320  Yss4MmFBusuAqSMaN  GkQSJvPTRWsLnpyR9     AIClosing-1-5   \n",
       "1374  Qmv6K9aQsAEKfHsK9  GkQSJvPTRWsLnpyR9       AI-4-v2-1-3   \n",
       "1377  Qmv6K9aQsAEKfHsK9  GkQSJvPTRWsLnpyR9          ML-1-1-1   \n",
       "1401  Qmv6K9aQsAEKfHsK9  GkQSJvPTRWsLnpyR9  Clustering-2-1-1   \n",
       "1403  Qmv6K9aQsAEKfHsK9  GkQSJvPTRWsLnpyR9      LimitsML-1-2   \n",
       "1410  Qmv6K9aQsAEKfHsK9  GkQSJvPTRWsLnpyR9        EvalML-1-7   \n",
       "1423  Qmv6K9aQsAEKfHsK9  GkQSJvPTRWsLnpyR9      Impact-3-1-3   \n",
       "1466  DK2rx5xPL6KCEobJE  GkQSJvPTRWsLnpyR9  Clustering-2-1-1   \n",
       "1531  eSpxJKMm99HohczFv  GkQSJvPTRWsLnpyR9        EvalML-1-7   \n",
       "1562  gDspq39jnffCNv8E2  GkQSJvPTRWsLnpyR9       AI-4-v2-1-3   \n",
       "1589  gDspq39jnffCNv8E2  GkQSJvPTRWsLnpyR9  Clustering-2-1-1   \n",
       "1598  gDspq39jnffCNv8E2  GkQSJvPTRWsLnpyR9        EvalML-1-7   \n",
       "1611  gDspq39jnffCNv8E2  GkQSJvPTRWsLnpyR9      Impact-3-1-3   \n",
       "\n",
       "                                                  state  \\\n",
       "508    Dann erkennt der Algorithmus Seehunde als Hunde.   \n",
       "760     Es können Fehler von Menschenverhindert werden.   \n",
       "818               Man könnte damit verbrechen fälschen    \n",
       "872      <span style=\"color: rgb(51, 51, 51);\">⠀</span>   \n",
       "874      <span style=\"color: rgb(51, 51, 51);\">⠀</span>   \n",
       "881   <span style=\"color: rgb(51, 51, 51);\">⠀</span>...   \n",
       "885                           das Gesicht ist unscharf    \n",
       "894   sicher werden die Kooperation mit Ki vorteile ...   \n",
       "900      <span style=\"color: rgb(51, 51, 51);\">⠀</span>   \n",
       "1066                                             ja<br>   \n",
       "1069                                             nö<br>   \n",
       "1093                                                  .   \n",
       "1095                     sie würden nicht erkant werden   \n",
       "1102            Das die Maschiene durch Erfahrung lernt   \n",
       "1133                                                  .   \n",
       "1136                                                  .   \n",
       "1160                                                  .   \n",
       "1162                                                  .   \n",
       "1169                                                  .   \n",
       "1173                                             fehler   \n",
       "1182                                              .<br>   \n",
       "1188                                                  .   \n",
       "1265                           sie lernen selbsständig    \n",
       "1292                                    1=Make-Up3=auto   \n",
       "1294                                     ist ja richtig   \n",
       "1301                                                  .   \n",
       "1305               man kann alles mögliche damit machen   \n",
       "1320  KI`s können denn Menschen bei gewissen dingen ...   \n",
       "1374              Die KI ist eine Küstlich intiligentz    \n",
       "1377                                   Ich denke schon    \n",
       "1401                                             6zjmnh   \n",
       "1403           Der Algurütmuss würde es nicht erkennen    \n",
       "1410                                         Kein Plan    \n",
       "1423    Die Jobs würde immer pervekt ausgeführt werden    \n",
       "1466                           cluster 1 Make-Up-Marke    \n",
       "1531                                  Maschienen lernen   \n",
       "1562                                                  .   \n",
       "1589       Beauty, Vlogs weil sie haben viele views<br>   \n",
       "1598                                       keine arnung   \n",
       "1611     Menschen müssen nicht mehr so schwer arbeiten    \n",
       "\n",
       "                                               question  \n",
       "508   Was würde passieren, wenn wir alle Bilder von ...  \n",
       "760   In vielen Bereichen wird der Mensch auch nicht...  \n",
       "818   Was für Probleme könnten durch den Einsatz von...  \n",
       "872   Schau dir die Mittelpunkte der Cluster genau a...  \n",
       "874   Was würde passieren, wenn wir alle Bilder von ...  \n",
       "881   Beschreib noch einmal in eigenen Worten, was m...  \n",
       "885   Was für Probleme könnten durch den Einsatz von...  \n",
       "894   In vielen Bereichen wird der Mensch auch nicht...  \n",
       "900   Du siehst also, dass die Erwartungen der Mensc...  \n",
       "1066  Jetzt weißt du schon mehr über KI. Sag nochmal...  \n",
       "1069  Kannst du einen Algorithmus schreiben, der Hun...  \n",
       "1093  Schau dir die Mittelpunkte der Cluster genau a...  \n",
       "1095  Was würde passieren, wenn wir alle Bilder von ...  \n",
       "1102  Beschreib noch einmal in eigenen Worten, was m...  \n",
       "1133  Jetzt weißt du schon mehr über KI. Sag nochmal...  \n",
       "1136  Kannst du einen Algorithmus schreiben, der Hun...  \n",
       "1160  Schau dir die Mittelpunkte der Cluster genau a...  \n",
       "1162  Was würde passieren, wenn wir alle Bilder von ...  \n",
       "1169  Beschreib noch einmal in eigenen Worten, was m...  \n",
       "1173  Was für Probleme könnten durch den Einsatz von...  \n",
       "1182  In vielen Bereichen wird der Mensch auch nicht...  \n",
       "1188  Du siehst also, dass die Erwartungen der Mensc...  \n",
       "1265  Jetzt weißt du schon mehr über KI. Sag nochmal...  \n",
       "1292  Schau dir die Mittelpunkte der Cluster genau a...  \n",
       "1294  Was würde passieren, wenn wir alle Bilder von ...  \n",
       "1301  Beschreib noch einmal in eigenen Worten, was m...  \n",
       "1305  Was für Probleme könnten durch den Einsatz von...  \n",
       "1320  Du siehst also, dass die Erwartungen der Mensc...  \n",
       "1374  Jetzt weißt du schon mehr über KI. Sag nochmal...  \n",
       "1377  Kannst du einen Algorithmus schreiben, der Hun...  \n",
       "1401  Schau dir die Mittelpunkte der Cluster genau a...  \n",
       "1403  Was würde passieren, wenn wir alle Bilder von ...  \n",
       "1410  Beschreib noch einmal in eigenen Worten, was m...  \n",
       "1423  In vielen Bereichen wird der Mensch auch nicht...  \n",
       "1466  Schau dir die Mittelpunkte der Cluster genau a...  \n",
       "1531  Beschreib noch einmal in eigenen Worten, was m...  \n",
       "1562  Jetzt weißt du schon mehr über KI. Sag nochmal...  \n",
       "1589  Schau dir die Mittelpunkte der Cluster genau a...  \n",
       "1598  Beschreib noch einmal in eigenen Worten, was m...  \n",
       "1611  In vielen Bereichen wird der Mensch auch nicht...  "
      ]
     },
     "execution_count": 18,
     "metadata": {},
     "output_type": "execute_result"
    }
   ],
   "source": [
    "# kleiner als IQR25\n",
    "freetext[(freetext[\"number words in answer\"]<9) & (freetext[\"taskId\"] != \"AIClosing-1-8\")& (freetext[\"taskId\"] != \"ML-2-1-2\")& (freetext[\"taskId\"] != \"AI-1-v2-1-2\")][[\"pupilId\", \"classId\", \"taskId\", \"state\", \"question\"]]"
   ]
  },
  {
   "cell_type": "code",
   "execution_count": 19,
   "metadata": {},
   "outputs": [
    {
     "data": {
      "text/plain": [
       "5GPMWTgF29JDyeXoG    8\n",
       "Qmv6K9aQsAEKfHsK9    6\n",
       "Yss4MmFBusuAqSMaN    6\n",
       "gooproPtWeTH6dtcB    6\n",
       "iHYe2TGnR9zgGZ6zh    5\n",
       "gDspq39jnffCNv8E2    4\n",
       "jRT6yzZ2ip5ab5ZFM    1\n",
       "TLqNCrX4jaYixjtv7    1\n",
       "DK2rx5xPL6KCEobJE    1\n",
       "3hiSwDCiw9HeyHg7f    1\n",
       "eSpxJKMm99HohczFv    1\n",
       "Name: pupilId, dtype: int64"
      ]
     },
     "execution_count": 19,
     "metadata": {},
     "output_type": "execute_result"
    }
   ],
   "source": [
    "freetext[(freetext[\"number words in answer\"]<9) & (freetext[\"taskId\"] != \"AIClosing-1-8\")& (freetext[\"taskId\"] != \"ML-2-1-2\")& (freetext[\"taskId\"] != \"AI-1-v2-1-2\")][\"pupilId\"].value_counts()"
   ]
  },
  {
   "cell_type": "markdown",
   "metadata": {},
   "source": [
    "### Gibt es noch pending antworten?"
   ]
  },
  {
   "cell_type": "code",
   "execution_count": 20,
   "metadata": {},
   "outputs": [
    {
     "data": {
      "text/html": [
       "<div>\n",
       "<style scoped>\n",
       "    .dataframe tbody tr th:only-of-type {\n",
       "        vertical-align: middle;\n",
       "    }\n",
       "\n",
       "    .dataframe tbody tr th {\n",
       "        vertical-align: top;\n",
       "    }\n",
       "\n",
       "    .dataframe thead th {\n",
       "        text-align: right;\n",
       "    }\n",
       "</style>\n",
       "<table border=\"1\" class=\"dataframe\">\n",
       "  <thead>\n",
       "    <tr style=\"text-align: right;\">\n",
       "      <th></th>\n",
       "      <th>pupilId</th>\n",
       "      <th>classId</th>\n",
       "      <th>taskId</th>\n",
       "      <th>taskSeriesId</th>\n",
       "      <th>duration</th>\n",
       "      <th>state</th>\n",
       "      <th>submitted</th>\n",
       "      <th>subType</th>\n",
       "      <th>evaluation</th>\n",
       "      <th>falseAttempts</th>\n",
       "      <th>hintsTaken</th>\n",
       "      <th>rating</th>\n",
       "      <th>teacherFeedback</th>\n",
       "      <th>question</th>\n",
       "      <th>answers</th>\n",
       "      <th>minLabel</th>\n",
       "      <th>maxLabel</th>\n",
       "      <th>hints</th>\n",
       "      <th>sampleSolution</th>\n",
       "      <th>number words in answer</th>\n",
       "    </tr>\n",
       "  </thead>\n",
       "  <tbody>\n",
       "    <tr>\n",
       "      <th>175</th>\n",
       "      <td>6bBwnX2mwAp2NAwNR</td>\n",
       "      <td>qFEyvypMn4sAwLwtc</td>\n",
       "      <td>Clustering-2-1-1</td>\n",
       "      <td>Clustering-2</td>\n",
       "      <td>845</td>\n",
       "      <td>Das 1. Cluster repräsentiert am Besten eine Ma...</td>\n",
       "      <td>True</td>\n",
       "      <td>freetext</td>\n",
       "      <td>pending</td>\n",
       "      <td>NaN</td>\n",
       "      <td>NaN</td>\n",
       "      <td>None</td>\n",
       "      <td>NaN</td>\n",
       "      <td>Schau dir die Mittelpunkte der Cluster genau a...</td>\n",
       "      <td>NaN</td>\n",
       "      <td>NaN</td>\n",
       "      <td>NaN</td>\n",
       "      <td>NaN</td>\n",
       "      <td>Make-Up: Cluster 1 repräsentiert es am besten....</td>\n",
       "      <td>96</td>\n",
       "    </tr>\n",
       "    <tr>\n",
       "      <th>376</th>\n",
       "      <td>Ay6mfswm3SFcQdNJg</td>\n",
       "      <td>qFEyvypMn4sAwLwtc</td>\n",
       "      <td>AIClosing-1-5</td>\n",
       "      <td>AIClosing</td>\n",
       "      <td>223</td>\n",
       "      <td>Die Bedenken die solche Personen äußern sind n...</td>\n",
       "      <td>True</td>\n",
       "      <td>freetext</td>\n",
       "      <td>pending</td>\n",
       "      <td>NaN</td>\n",
       "      <td>NaN</td>\n",
       "      <td>None</td>\n",
       "      <td>NaN</td>\n",
       "      <td>Du siehst also, dass die Erwartungen der Mensc...</td>\n",
       "      <td>NaN</td>\n",
       "      <td>NaN</td>\n",
       "      <td>NaN</td>\n",
       "      <td>NaN</td>\n",
       "      <td>Hier können die SuS nochmal alles, was sie übe...</td>\n",
       "      <td>48</td>\n",
       "    </tr>\n",
       "    <tr>\n",
       "      <th>379</th>\n",
       "      <td>Ay6mfswm3SFcQdNJg</td>\n",
       "      <td>qFEyvypMn4sAwLwtc</td>\n",
       "      <td>AIClosing-1-8</td>\n",
       "      <td>AIClosing</td>\n",
       "      <td>243</td>\n",
       "      <td>Ich fand das Design und die Idee dieser Plattf...</td>\n",
       "      <td>True</td>\n",
       "      <td>freetext</td>\n",
       "      <td>pending</td>\n",
       "      <td>NaN</td>\n",
       "      <td>NaN</td>\n",
       "      <td>None</td>\n",
       "      <td>NaN</td>\n",
       "      <td>Wir wollen diesen Kurs natürlich noch verbesse...</td>\n",
       "      <td>NaN</td>\n",
       "      <td>NaN</td>\n",
       "      <td>NaN</td>\n",
       "      <td>NaN</td>\n",
       "      <td>Die SuS können hier noch etwas loswerden. Ist ...</td>\n",
       "      <td>66</td>\n",
       "    </tr>\n",
       "    <tr>\n",
       "      <th>470</th>\n",
       "      <td>dotjrftFetJme4iPH</td>\n",
       "      <td>qFEyvypMn4sAwLwtc</td>\n",
       "      <td>Clustering-2-1-1</td>\n",
       "      <td>Clustering-2</td>\n",
       "      <td>1154</td>\n",
       "      <td>Die Clusternummer 1 wäre für die Make-Up-Marke...</td>\n",
       "      <td>True</td>\n",
       "      <td>freetext</td>\n",
       "      <td>pending</td>\n",
       "      <td>NaN</td>\n",
       "      <td>NaN</td>\n",
       "      <td>None</td>\n",
       "      <td>NaN</td>\n",
       "      <td>Schau dir die Mittelpunkte der Cluster genau a...</td>\n",
       "      <td>NaN</td>\n",
       "      <td>NaN</td>\n",
       "      <td>NaN</td>\n",
       "      <td>NaN</td>\n",
       "      <td>Make-Up: Cluster 1 repräsentiert es am besten....</td>\n",
       "      <td>76</td>\n",
       "    </tr>\n",
       "    <tr>\n",
       "      <th>604</th>\n",
       "      <td>MRSj5LqwWj6WSoj4E</td>\n",
       "      <td>qFEyvypMn4sAwLwtc</td>\n",
       "      <td>ML-2-1-2</td>\n",
       "      <td>ML-2</td>\n",
       "      <td>445</td>\n",
       "      <td>Das maschinelles Lernen ist ein Begriff für da...</td>\n",
       "      <td>True</td>\n",
       "      <td>freetext</td>\n",
       "      <td>pending</td>\n",
       "      <td>NaN</td>\n",
       "      <td>NaN</td>\n",
       "      <td>None</td>\n",
       "      <td>NaN</td>\n",
       "      <td>Weißt du vielleicht schon etwas über das masch...</td>\n",
       "      <td>NaN</td>\n",
       "      <td>NaN</td>\n",
       "      <td>NaN</td>\n",
       "      <td>NaN</td>\n",
       "      <td>Das ist nur eine Abfrage, um über das Vorwisse...</td>\n",
       "      <td>28</td>\n",
       "    </tr>\n",
       "    <tr>\n",
       "      <th>702</th>\n",
       "      <td>C2BW6tdii778v4RfL</td>\n",
       "      <td>qFEyvypMn4sAwLwtc</td>\n",
       "      <td>Clustering-2-1-1</td>\n",
       "      <td>Clustering-2</td>\n",
       "      <td>189</td>\n",
       "      <td>Cluster 1 repräsentiert eine Make-Up-Marke, da...</td>\n",
       "      <td>True</td>\n",
       "      <td>freetext</td>\n",
       "      <td>pending</td>\n",
       "      <td>NaN</td>\n",
       "      <td>NaN</td>\n",
       "      <td>None</td>\n",
       "      <td>NaN</td>\n",
       "      <td>Schau dir die Mittelpunkte der Cluster genau a...</td>\n",
       "      <td>NaN</td>\n",
       "      <td>NaN</td>\n",
       "      <td>NaN</td>\n",
       "      <td>NaN</td>\n",
       "      <td>Make-Up: Cluster 1 repräsentiert es am besten....</td>\n",
       "      <td>38</td>\n",
       "    </tr>\n",
       "    <tr>\n",
       "      <th>951</th>\n",
       "      <td>R8CkqGDeQXZmHxTuk</td>\n",
       "      <td>qFEyvypMn4sAwLwtc</td>\n",
       "      <td>Clustering-2-1-1</td>\n",
       "      <td>Clustering-2</td>\n",
       "      <td>200</td>\n",
       "      <td>Ich denke die nummer 1, weil mehr mädchen benu...</td>\n",
       "      <td>True</td>\n",
       "      <td>freetext</td>\n",
       "      <td>pending</td>\n",
       "      <td>NaN</td>\n",
       "      <td>NaN</td>\n",
       "      <td>None</td>\n",
       "      <td>NaN</td>\n",
       "      <td>Schau dir die Mittelpunkte der Cluster genau a...</td>\n",
       "      <td>NaN</td>\n",
       "      <td>NaN</td>\n",
       "      <td>NaN</td>\n",
       "      <td>NaN</td>\n",
       "      <td>Make-Up: Cluster 1 repräsentiert es am besten....</td>\n",
       "      <td>35</td>\n",
       "    </tr>\n",
       "    <tr>\n",
       "      <th>978</th>\n",
       "      <td>j3AkifkKRR3t3NeoT</td>\n",
       "      <td>qFEyvypMn4sAwLwtc</td>\n",
       "      <td>Clustering-2-1-1</td>\n",
       "      <td>Clustering-2</td>\n",
       "      <td>406</td>\n",
       "      <td>Ich denke, dass Cluster 1 am ehesten eine Make...</td>\n",
       "      <td>True</td>\n",
       "      <td>freetext</td>\n",
       "      <td>pending</td>\n",
       "      <td>NaN</td>\n",
       "      <td>NaN</td>\n",
       "      <td>None</td>\n",
       "      <td>NaN</td>\n",
       "      <td>Schau dir die Mittelpunkte der Cluster genau a...</td>\n",
       "      <td>NaN</td>\n",
       "      <td>NaN</td>\n",
       "      <td>NaN</td>\n",
       "      <td>NaN</td>\n",
       "      <td>Make-Up: Cluster 1 repräsentiert es am besten....</td>\n",
       "      <td>64</td>\n",
       "    </tr>\n",
       "  </tbody>\n",
       "</table>\n",
       "</div>"
      ],
      "text/plain": [
       "               pupilId            classId            taskId  taskSeriesId  \\\n",
       "175  6bBwnX2mwAp2NAwNR  qFEyvypMn4sAwLwtc  Clustering-2-1-1  Clustering-2   \n",
       "376  Ay6mfswm3SFcQdNJg  qFEyvypMn4sAwLwtc     AIClosing-1-5     AIClosing   \n",
       "379  Ay6mfswm3SFcQdNJg  qFEyvypMn4sAwLwtc     AIClosing-1-8     AIClosing   \n",
       "470  dotjrftFetJme4iPH  qFEyvypMn4sAwLwtc  Clustering-2-1-1  Clustering-2   \n",
       "604  MRSj5LqwWj6WSoj4E  qFEyvypMn4sAwLwtc          ML-2-1-2          ML-2   \n",
       "702  C2BW6tdii778v4RfL  qFEyvypMn4sAwLwtc  Clustering-2-1-1  Clustering-2   \n",
       "951  R8CkqGDeQXZmHxTuk  qFEyvypMn4sAwLwtc  Clustering-2-1-1  Clustering-2   \n",
       "978  j3AkifkKRR3t3NeoT  qFEyvypMn4sAwLwtc  Clustering-2-1-1  Clustering-2   \n",
       "\n",
       "    duration                                              state submitted  \\\n",
       "175      845  Das 1. Cluster repräsentiert am Besten eine Ma...      True   \n",
       "376      223  Die Bedenken die solche Personen äußern sind n...      True   \n",
       "379      243  Ich fand das Design und die Idee dieser Plattf...      True   \n",
       "470     1154  Die Clusternummer 1 wäre für die Make-Up-Marke...      True   \n",
       "604      445  Das maschinelles Lernen ist ein Begriff für da...      True   \n",
       "702      189  Cluster 1 repräsentiert eine Make-Up-Marke, da...      True   \n",
       "951      200  Ich denke die nummer 1, weil mehr mädchen benu...      True   \n",
       "978      406  Ich denke, dass Cluster 1 am ehesten eine Make...      True   \n",
       "\n",
       "      subType evaluation falseAttempts hintsTaken rating teacherFeedback  \\\n",
       "175  freetext    pending           NaN        NaN   None             NaN   \n",
       "376  freetext    pending           NaN        NaN   None             NaN   \n",
       "379  freetext    pending           NaN        NaN   None             NaN   \n",
       "470  freetext    pending           NaN        NaN   None             NaN   \n",
       "604  freetext    pending           NaN        NaN   None             NaN   \n",
       "702  freetext    pending           NaN        NaN   None             NaN   \n",
       "951  freetext    pending           NaN        NaN   None             NaN   \n",
       "978  freetext    pending           NaN        NaN   None             NaN   \n",
       "\n",
       "                                              question answers minLabel  \\\n",
       "175  Schau dir die Mittelpunkte der Cluster genau a...     NaN      NaN   \n",
       "376  Du siehst also, dass die Erwartungen der Mensc...     NaN      NaN   \n",
       "379  Wir wollen diesen Kurs natürlich noch verbesse...     NaN      NaN   \n",
       "470  Schau dir die Mittelpunkte der Cluster genau a...     NaN      NaN   \n",
       "604  Weißt du vielleicht schon etwas über das masch...     NaN      NaN   \n",
       "702  Schau dir die Mittelpunkte der Cluster genau a...     NaN      NaN   \n",
       "951  Schau dir die Mittelpunkte der Cluster genau a...     NaN      NaN   \n",
       "978  Schau dir die Mittelpunkte der Cluster genau a...     NaN      NaN   \n",
       "\n",
       "    maxLabel hints                                     sampleSolution  \\\n",
       "175      NaN   NaN  Make-Up: Cluster 1 repräsentiert es am besten....   \n",
       "376      NaN   NaN  Hier können die SuS nochmal alles, was sie übe...   \n",
       "379      NaN   NaN  Die SuS können hier noch etwas loswerden. Ist ...   \n",
       "470      NaN   NaN  Make-Up: Cluster 1 repräsentiert es am besten....   \n",
       "604      NaN   NaN  Das ist nur eine Abfrage, um über das Vorwisse...   \n",
       "702      NaN   NaN  Make-Up: Cluster 1 repräsentiert es am besten....   \n",
       "951      NaN   NaN  Make-Up: Cluster 1 repräsentiert es am besten....   \n",
       "978      NaN   NaN  Make-Up: Cluster 1 repräsentiert es am besten....   \n",
       "\n",
       "     number words in answer  \n",
       "175                      96  \n",
       "376                      48  \n",
       "379                      66  \n",
       "470                      76  \n",
       "604                      28  \n",
       "702                      38  \n",
       "951                      35  \n",
       "978                      64  "
      ]
     },
     "execution_count": 20,
     "metadata": {},
     "output_type": "execute_result"
    }
   ],
   "source": [
    "freetext[(freetext[\"evaluation\"] == \"pending\")]"
   ]
  },
  {
   "cell_type": "markdown",
   "metadata": {},
   "source": [
    "### Welche Antworten wurden nicht akzeptiert?"
   ]
  },
  {
   "cell_type": "code",
   "execution_count": 21,
   "metadata": {},
   "outputs": [
    {
     "data": {
      "text/plain": [
       "'\\nLehrer geben nur wenig zurück! Und benutzen auch selten Feedback, oder?\\n'"
      ]
     },
     "execution_count": 21,
     "metadata": {},
     "output_type": "execute_result"
    }
   ],
   "source": [
    "# evaluation kann sein: correct, pending, false\n",
    "freetext[(freetext[\"evaluation\"] == \"false\")]\n",
    "\n",
    "# 7 abgaben, die nur einen punkt enthalten (2 davon wieder zu ML-2-1-2, also eig egal!).\n",
    "# Bei einer Abgabe wurde der Text von Wikipedia kopiert\n",
    "# eine war ein kurzer Satz\n",
    "# Abgaben von 4 SuS\n",
    "# Die Lehrer haben dabei nur an einer Stelle feedback gegeben!\n",
    "\n",
    "'''\n",
    "Lehrer geben nur wenig zurück! Und benutzen auch selten Feedback, oder?\n",
    "'''"
   ]
  },
  {
   "cell_type": "markdown",
   "metadata": {},
   "source": [
    "### Wurden Antworten mehrfach zurück gegeben?"
   ]
  },
  {
   "cell_type": "code",
   "execution_count": 36,
   "metadata": {},
   "outputs": [
    {
     "name": "stdout",
     "output_type": "stream",
     "text": [
      "1\n",
      "1\n",
      "1\n",
      "1\n",
      "1\n",
      "1\n",
      "1\n",
      "1\n",
      "1\n"
     ]
    }
   ],
   "source": [
    "for i, task in freetext[freetext[\"evaluation\"] == \"false\"].iterrows():\n",
    "    print(len(task[\"falseAttempts\"]))"
   ]
  },
  {
   "cell_type": "markdown",
   "metadata": {},
   "source": [
    "Es gibt keine Antworten, die mehrfach zurückgegeben wurden"
   ]
  },
  {
   "cell_type": "markdown",
   "metadata": {},
   "source": [
    "### Teacher Feedback"
   ]
  },
  {
   "cell_type": "code",
   "execution_count": 43,
   "metadata": {},
   "outputs": [
    {
     "data": {
      "text/plain": [
       "                                                                                                                              255\n",
       "K.I. ist erstmal ein Programm, das in einem Computer angewandt wird, damit dieser beispielsweise Muster erkennt.                1\n",
       "Tolle Antwort!                                                                                                                  1\n",
       "Wikipedia kopiert!                                                                                                              1\n",
       "Achte auf die Rechtschreibung bzw. Groß und Kleinschreibung. Inhaltlich könnte noch mehr kommen!                                1\n",
       "Inhaltlich gut, etwas genauer antworten. Mustererkennung ist hier ein wichtiges Aufgabenbeispiel oder maschinelles Lernen.      1\n",
       "Name: teacherFeedback, dtype: int64"
      ]
     },
     "execution_count": 43,
     "metadata": {},
     "output_type": "execute_result"
    }
   ],
   "source": [
    "freetext[\"teacherFeedback\"].value_counts()"
   ]
  },
  {
   "cell_type": "markdown",
   "metadata": {},
   "source": [
    "Es wurde nur 5 mal Feedback gegeben:\n",
    "* K.I. ist erstmal ein Programm, das in einem Computer angewandt wird, damit dieser beispielsweise Muster erkennt.\n",
    "* Tolle Antwort!    \n",
    "* Wikipedia kopiert!\n",
    "* Achte auf die Rechtschreibung bzw. Groß und Kleinschreibung. Inhaltlich könnte noch mehr kommen!\n",
    "* Inhaltlich gut, etwas genauer antworten. Mustererkennung ist hier ein wichtiges Aufgabenbeispiel oder maschinelles Lernen."
   ]
  },
  {
   "cell_type": "markdown",
   "metadata": {},
   "source": [
    "### Ratings"
   ]
  },
  {
   "cell_type": "code",
   "execution_count": 51,
   "metadata": {},
   "outputs": [
    {
     "ename": "TypeError",
     "evalue": "unhashable type: 'dict'",
     "output_type": "error",
     "traceback": [
      "\u001b[0;31m---------------------------------------------------------------------------\u001b[0m",
      "\u001b[0;31mTypeError\u001b[0m                                 Traceback (most recent call last)",
      "\u001b[0;32mpandas/_libs/hashtable_class_helper.pxi\u001b[0m in \u001b[0;36mpandas._libs.hashtable.PyObjectHashTable.map_locations\u001b[0;34m()\u001b[0m\n",
      "\u001b[0;31mTypeError\u001b[0m: unhashable type: 'dict'"
     ]
    },
    {
     "name": "stderr",
     "output_type": "stream",
     "text": [
      "Exception ignored in: 'pandas._libs.index.IndexEngine._call_map_locations'\n",
      "Traceback (most recent call last):\n",
      "  File \"pandas/_libs/hashtable_class_helper.pxi\", line 1709, in pandas._libs.hashtable.PyObjectHashTable.map_locations\n",
      "TypeError: unhashable type: 'dict'\n"
     ]
    },
    {
     "data": {
      "text/plain": [
       "{'content': 5, 'format': 5, 'creativity': 5}    116\n",
       "{'content': 5, 'format': 5, 'creativity': 4}     34\n",
       "{'content': 4, 'format': 5, 'creativity': 4}     21\n",
       "{'content': 0, 'format': 0, 'creativity': 0}      7\n",
       "{'content': 4, 'format': 4, 'creativity': 4}      7\n",
       "{'content': 4, 'format': 3, 'creativity': 4}      7\n",
       "{'content': 4, 'format': 5, 'creativity': 3}      5\n",
       "{'content': 3, 'format': 4, 'creativity': 3}      5\n",
       "{'content': 1, 'format': 1, 'creativity': 1}      5\n",
       "{'content': 4, 'format': 4, 'creativity': 5}      5\n",
       "{'content': 3, 'format': 4, 'creativity': 4}      4\n",
       "{'content': 4, 'format': 2, 'creativity': 4}      4\n",
       "{'content': 5, 'format': 3, 'creativity': 4}      4\n",
       "{'content': 5, 'format': 4, 'creativity': 4}      4\n",
       "{'content': 3, 'format': 5, 'creativity': 4}      3\n",
       "{'content': 3, 'format': 2, 'creativity': 4}      3\n",
       "{'content': 4, 'format': 3, 'creativity': 5}      2\n",
       "{'content': 3, 'format': 3, 'creativity': 3}      2\n",
       "{'content': 3, 'format': 5, 'creativity': 3}      2\n",
       "{'content': 2, 'format': 2, 'creativity': 3}      2\n",
       "{'content': 5, 'format': 4, 'creativity': 5}      2\n",
       "{'content': 2, 'format': 2, 'creativity': 2}      1\n",
       "{'content': 4, 'format': 5, 'creativity': 5}      1\n",
       "{'content': 3, 'format': 3, 'creativity': 4}      1\n",
       "{'content': 3, 'format': 2, 'creativity': 3}      1\n",
       "{'content': 3, 'format': 4, 'creativity': 5}      1\n",
       "{'content': 4, 'format': 3, 'creativity': 3}      1\n",
       "{'content': 5, 'format': 5, 'creativity': 3}      1\n",
       "{'content': 5, 'format': 2, 'creativity': 4}      1\n",
       "{'content': 2, 'format': 3, 'creativity': 3}      1\n",
       "{'content': 2, 'format': 4, 'creativity': 3}      1\n",
       "{'content': 5, 'format': 5, 'creativity': 0}      1\n",
       "{'content': 5, 'format': 0, 'creativity': 0}      1\n",
       "{'content': 4, 'format': 2, 'creativity': 5}      1\n",
       "{'content': 3, 'format': 2, 'creativity': 2}      1\n",
       "{'content': 4, 'format': 2, 'creativity': 3}      1\n",
       "{'content': 3, 'format': 1, 'creativity': 4}      1\n",
       "Name: rating, dtype: int64"
      ]
     },
     "execution_count": 51,
     "metadata": {},
     "output_type": "execute_result"
    }
   ],
   "source": [
    "freetext[freetext[\"evaluation\"] != \"pending\"][\"rating\"].value_counts()"
   ]
  },
  {
   "cell_type": "code",
   "execution_count": 22,
   "metadata": {},
   "outputs": [
    {
     "name": "stderr",
     "output_type": "stream",
     "text": [
      "/Users/jean-philipp/Documents/anaconda3/lib/python3.7/site-packages/ipykernel_launcher.py:17: SettingWithCopyWarning: \n",
      "A value is trying to be set on a copy of a slice from a DataFrame.\n",
      "Try using .loc[row_indexer,col_indexer] = value instead\n",
      "\n",
      "See the caveats in the documentation: https://pandas.pydata.org/pandas-docs/stable/user_guide/indexing.html#returning-a-view-versus-a-copy\n",
      "/Users/jean-philipp/Documents/anaconda3/lib/python3.7/site-packages/ipykernel_launcher.py:18: SettingWithCopyWarning: \n",
      "A value is trying to be set on a copy of a slice from a DataFrame.\n",
      "Try using .loc[row_indexer,col_indexer] = value instead\n",
      "\n",
      "See the caveats in the documentation: https://pandas.pydata.org/pandas-docs/stable/user_guide/indexing.html#returning-a-view-versus-a-copy\n",
      "/Users/jean-philipp/Documents/anaconda3/lib/python3.7/site-packages/ipykernel_launcher.py:19: SettingWithCopyWarning: \n",
      "A value is trying to be set on a copy of a slice from a DataFrame.\n",
      "Try using .loc[row_indexer,col_indexer] = value instead\n",
      "\n",
      "See the caveats in the documentation: https://pandas.pydata.org/pandas-docs/stable/user_guide/indexing.html#returning-a-view-versus-a-copy\n"
     ]
    },
    {
     "data": {
      "text/html": [
       "<div>\n",
       "<style scoped>\n",
       "    .dataframe tbody tr th:only-of-type {\n",
       "        vertical-align: middle;\n",
       "    }\n",
       "\n",
       "    .dataframe tbody tr th {\n",
       "        vertical-align: top;\n",
       "    }\n",
       "\n",
       "    .dataframe thead th {\n",
       "        text-align: right;\n",
       "    }\n",
       "</style>\n",
       "<table border=\"1\" class=\"dataframe\">\n",
       "  <thead>\n",
       "    <tr style=\"text-align: right;\">\n",
       "      <th></th>\n",
       "      <th>pupilId</th>\n",
       "      <th>classId</th>\n",
       "      <th>taskId</th>\n",
       "      <th>taskSeriesId</th>\n",
       "      <th>duration</th>\n",
       "      <th>state</th>\n",
       "      <th>submitted</th>\n",
       "      <th>subType</th>\n",
       "      <th>evaluation</th>\n",
       "      <th>falseAttempts</th>\n",
       "      <th>...</th>\n",
       "      <th>question</th>\n",
       "      <th>answers</th>\n",
       "      <th>minLabel</th>\n",
       "      <th>maxLabel</th>\n",
       "      <th>hints</th>\n",
       "      <th>sampleSolution</th>\n",
       "      <th>number words in answer</th>\n",
       "      <th>rating_content</th>\n",
       "      <th>rating_format</th>\n",
       "      <th>rating_creativity</th>\n",
       "    </tr>\n",
       "  </thead>\n",
       "  <tbody>\n",
       "    <tr>\n",
       "      <th>1</th>\n",
       "      <td>bniRycMi5bwrXjvGy</td>\n",
       "      <td>qFEyvypMn4sAwLwtc</td>\n",
       "      <td>AI-1-v2-1-2</td>\n",
       "      <td>AI-1-v2</td>\n",
       "      <td>119</td>\n",
       "      <td>Künstliche Intelligenz ist ein Algorithmus, de...</td>\n",
       "      <td>True</td>\n",
       "      <td>freetext</td>\n",
       "      <td>correct</td>\n",
       "      <td>NaN</td>\n",
       "      <td>...</td>\n",
       "      <td>Was ist deiner Meinung nach Künstliche Intelli...</td>\n",
       "      <td>NaN</td>\n",
       "      <td>NaN</td>\n",
       "      <td>NaN</td>\n",
       "      <td>NaN</td>\n",
       "      <td>Die Schülerinnen und Schüler (SuS) sollen besc...</td>\n",
       "      <td>18</td>\n",
       "      <td>3.0</td>\n",
       "      <td>5.0</td>\n",
       "      <td>4.0</td>\n",
       "    </tr>\n",
       "    <tr>\n",
       "      <th>8</th>\n",
       "      <td>bniRycMi5bwrXjvGy</td>\n",
       "      <td>qFEyvypMn4sAwLwtc</td>\n",
       "      <td>AI-4-v2-1-3</td>\n",
       "      <td>AI-4-v2</td>\n",
       "      <td>285</td>\n",
       "      <td>Eine KI ist ein Algorithmus, der auf eine best...</td>\n",
       "      <td>True</td>\n",
       "      <td>freetext</td>\n",
       "      <td>correct</td>\n",
       "      <td>NaN</td>\n",
       "      <td>...</td>\n",
       "      <td>Jetzt weißt du schon mehr über KI. Sag nochmal...</td>\n",
       "      <td>NaN</td>\n",
       "      <td>NaN</td>\n",
       "      <td>NaN</td>\n",
       "      <td>NaN</td>\n",
       "      <td>KI-Anwendungen zeichnen sich aus durch intelli...</td>\n",
       "      <td>58</td>\n",
       "      <td>5.0</td>\n",
       "      <td>5.0</td>\n",
       "      <td>5.0</td>\n",
       "    </tr>\n",
       "    <tr>\n",
       "      <th>11</th>\n",
       "      <td>bniRycMi5bwrXjvGy</td>\n",
       "      <td>qFEyvypMn4sAwLwtc</td>\n",
       "      <td>ML-1-1-1</td>\n",
       "      <td>ML-1</td>\n",
       "      <td>203</td>\n",
       "      <td>Einem Algorithmus, der Hunde auf Bildern erken...</td>\n",
       "      <td>True</td>\n",
       "      <td>freetext</td>\n",
       "      <td>correct</td>\n",
       "      <td>NaN</td>\n",
       "      <td>...</td>\n",
       "      <td>Kannst du einen Algorithmus schreiben, der Hun...</td>\n",
       "      <td>NaN</td>\n",
       "      <td>NaN</td>\n",
       "      <td>NaN</td>\n",
       "      <td>NaN</td>\n",
       "      <td>Die SuS sollen sinnvolle Wenn-Dann-Regeln find...</td>\n",
       "      <td>58</td>\n",
       "      <td>4.0</td>\n",
       "      <td>5.0</td>\n",
       "      <td>4.0</td>\n",
       "    </tr>\n",
       "    <tr>\n",
       "      <th>16</th>\n",
       "      <td>bniRycMi5bwrXjvGy</td>\n",
       "      <td>qFEyvypMn4sAwLwtc</td>\n",
       "      <td>ML-2-1-2</td>\n",
       "      <td>ML-2</td>\n",
       "      <td>219</td>\n",
       "      <td>Beim maschinellen Lernen wird der Algorithmus ...</td>\n",
       "      <td>True</td>\n",
       "      <td>freetext</td>\n",
       "      <td>correct</td>\n",
       "      <td>NaN</td>\n",
       "      <td>...</td>\n",
       "      <td>Weißt du vielleicht schon etwas über das masch...</td>\n",
       "      <td>NaN</td>\n",
       "      <td>NaN</td>\n",
       "      <td>NaN</td>\n",
       "      <td>NaN</td>\n",
       "      <td>Das ist nur eine Abfrage, um über das Vorwisse...</td>\n",
       "      <td>59</td>\n",
       "      <td>4.0</td>\n",
       "      <td>5.0</td>\n",
       "      <td>4.0</td>\n",
       "    </tr>\n",
       "    <tr>\n",
       "      <th>35</th>\n",
       "      <td>bniRycMi5bwrXjvGy</td>\n",
       "      <td>qFEyvypMn4sAwLwtc</td>\n",
       "      <td>Clustering-2-1-1</td>\n",
       "      <td>Clustering-2</td>\n",
       "      <td>509</td>\n",
       "      <td>Für eine Make-Up-Marke würde ich am ehesten de...</td>\n",
       "      <td>True</td>\n",
       "      <td>freetext</td>\n",
       "      <td>correct</td>\n",
       "      <td>NaN</td>\n",
       "      <td>...</td>\n",
       "      <td>Schau dir die Mittelpunkte der Cluster genau a...</td>\n",
       "      <td>NaN</td>\n",
       "      <td>NaN</td>\n",
       "      <td>NaN</td>\n",
       "      <td>NaN</td>\n",
       "      <td>Make-Up: Cluster 1 repräsentiert es am besten....</td>\n",
       "      <td>58</td>\n",
       "      <td>5.0</td>\n",
       "      <td>4.0</td>\n",
       "      <td>4.0</td>\n",
       "    </tr>\n",
       "  </tbody>\n",
       "</table>\n",
       "<p>5 rows × 23 columns</p>\n",
       "</div>"
      ],
      "text/plain": [
       "              pupilId            classId            taskId  taskSeriesId  \\\n",
       "1   bniRycMi5bwrXjvGy  qFEyvypMn4sAwLwtc       AI-1-v2-1-2       AI-1-v2   \n",
       "8   bniRycMi5bwrXjvGy  qFEyvypMn4sAwLwtc       AI-4-v2-1-3       AI-4-v2   \n",
       "11  bniRycMi5bwrXjvGy  qFEyvypMn4sAwLwtc          ML-1-1-1          ML-1   \n",
       "16  bniRycMi5bwrXjvGy  qFEyvypMn4sAwLwtc          ML-2-1-2          ML-2   \n",
       "35  bniRycMi5bwrXjvGy  qFEyvypMn4sAwLwtc  Clustering-2-1-1  Clustering-2   \n",
       "\n",
       "   duration                                              state submitted  \\\n",
       "1       119  Künstliche Intelligenz ist ein Algorithmus, de...      True   \n",
       "8       285  Eine KI ist ein Algorithmus, der auf eine best...      True   \n",
       "11      203  Einem Algorithmus, der Hunde auf Bildern erken...      True   \n",
       "16      219  Beim maschinellen Lernen wird der Algorithmus ...      True   \n",
       "35      509  Für eine Make-Up-Marke würde ich am ehesten de...      True   \n",
       "\n",
       "     subType evaluation falseAttempts  ...  \\\n",
       "1   freetext    correct           NaN  ...   \n",
       "8   freetext    correct           NaN  ...   \n",
       "11  freetext    correct           NaN  ...   \n",
       "16  freetext    correct           NaN  ...   \n",
       "35  freetext    correct           NaN  ...   \n",
       "\n",
       "                                             question answers minLabel  \\\n",
       "1   Was ist deiner Meinung nach Künstliche Intelli...     NaN      NaN   \n",
       "8   Jetzt weißt du schon mehr über KI. Sag nochmal...     NaN      NaN   \n",
       "11  Kannst du einen Algorithmus schreiben, der Hun...     NaN      NaN   \n",
       "16  Weißt du vielleicht schon etwas über das masch...     NaN      NaN   \n",
       "35  Schau dir die Mittelpunkte der Cluster genau a...     NaN      NaN   \n",
       "\n",
       "   maxLabel hints                                     sampleSolution  \\\n",
       "1       NaN   NaN  Die Schülerinnen und Schüler (SuS) sollen besc...   \n",
       "8       NaN   NaN  KI-Anwendungen zeichnen sich aus durch intelli...   \n",
       "11      NaN   NaN  Die SuS sollen sinnvolle Wenn-Dann-Regeln find...   \n",
       "16      NaN   NaN  Das ist nur eine Abfrage, um über das Vorwisse...   \n",
       "35      NaN   NaN  Make-Up: Cluster 1 repräsentiert es am besten....   \n",
       "\n",
       "   number words in answer rating_content rating_format  rating_creativity  \n",
       "1                      18            3.0           5.0                4.0  \n",
       "8                      58            5.0           5.0                5.0  \n",
       "11                     58            4.0           5.0                4.0  \n",
       "16                     59            4.0           5.0                4.0  \n",
       "35                     58            5.0           4.0                4.0  \n",
       "\n",
       "[5 rows x 23 columns]"
      ]
     },
     "execution_count": 22,
     "metadata": {},
     "output_type": "execute_result"
    }
   ],
   "source": [
    "# Added a columns for each rating \n",
    "rating_content = []\n",
    "rating_format = []\n",
    "rating_creativity = []\n",
    "\n",
    "for i, task in freetext.iterrows():\n",
    "    if(task[\"evaluation\"] != \"pending\"):\n",
    "        rating_content.append(task[\"rating\"][\"content\"])\n",
    "        rating_format.append(task[\"rating\"][\"format\"])\n",
    "        rating_creativity.append(task[\"rating\"][\"creativity\"])\n",
    "    else:\n",
    "        rating_content.append(np.nan)\n",
    "        rating_format.append(np.nan)\n",
    "        rating_creativity.append(np.nan)\n",
    "        \n",
    "\n",
    "freetext[\"rating_content\"] = rating_content    \n",
    "freetext[\"rating_format\"] = rating_format \n",
    "freetext[\"rating_creativity\"] = rating_creativity\n",
    "\n",
    "freetext.head()"
   ]
  },
  {
   "cell_type": "code",
   "execution_count": 23,
   "metadata": {},
   "outputs": [
    {
     "name": "stdout",
     "output_type": "stream",
     "text": [
      "content\n",
      "5.0    164\n",
      "4.0     55\n",
      "3.0     24\n",
      "0.0      7\n",
      "1.0      5\n",
      "2.0      5\n",
      "Name: rating_content, dtype: int64\n",
      "format\n",
      "5.0    184\n",
      "4.0     29\n",
      "3.0     18\n",
      "2.0     15\n",
      "0.0      8\n",
      "1.0      6\n",
      "Name: rating_format, dtype: int64\n",
      "creativity\n",
      "5.0    128\n",
      "4.0     94\n",
      "3.0     22\n",
      "0.0      9\n",
      "1.0      5\n",
      "2.0      2\n",
      "Name: rating_creativity, dtype: int64\n"
     ]
    }
   ],
   "source": [
    "print(\"content\")\n",
    "print(freetext[\"rating_content\"].value_counts())\n",
    "print(\"format\")\n",
    "print(freetext[\"rating_format\"].value_counts())\n",
    "print(\"creativity\")\n",
    "print(freetext[\"rating_creativity\"].value_counts())"
   ]
  },
  {
   "cell_type": "code",
   "execution_count": 24,
   "metadata": {},
   "outputs": [
    {
     "name": "stdout",
     "output_type": "stream",
     "text": [
      "IQR75 Content Rating: 5.0\n",
      "Median Content Rating: 5.0\n",
      "IQR25 Content Rating: 4.0\n",
      "Mean Content Rating: 4.334615384615384\n",
      "Std Content Rating: 1.1366084190365908\n",
      "\n",
      "IQR75 format Rating: 5.0\n",
      "Median format Rating: 5.0\n",
      "IQR25 format Rating: 4.0\n",
      "Mean format Rating: 4.3307692307692305\n",
      "Std format Rating: 1.2642325829010392\n",
      "\n",
      "IQR75 creativity Rating: 5.0\n",
      "Median creativity Rating: 4.0\n",
      "IQR25 creativity Rating: 4.0\n",
      "Mean creativity Rating: 4.196153846153846\n",
      "Std creativity Rating: 1.1384810289391913\n",
      "\n"
     ]
    },
    {
     "name": "stderr",
     "output_type": "stream",
     "text": [
      "/Users/jean-philipp/Documents/anaconda3/lib/python3.7/site-packages/numpy/lib/histograms.py:839: RuntimeWarning: invalid value encountered in greater_equal\n",
      "  keep = (tmp_a >= first_edge)\n",
      "/Users/jean-philipp/Documents/anaconda3/lib/python3.7/site-packages/numpy/lib/histograms.py:840: RuntimeWarning: invalid value encountered in less_equal\n",
      "  keep &= (tmp_a <= last_edge)\n"
     ]
    },
    {
     "data": {
      "image/png": "[encoded data removed]",
      "text/plain": [
       "<Figure size 432x288 with 1 Axes>"
      ]
     },
     "metadata": {
      "needs_background": "light"
     },
     "output_type": "display_data"
    },
    {
     "data": {
      "image/png": "[encoded data removed]",
      "text/plain": [
       "<Figure size 432x288 with 1 Axes>"
      ]
     },
     "metadata": {
      "needs_background": "light"
     },
     "output_type": "display_data"
    },
    {
     "data": {
      "image/png": "[encoded data removed]",
      "text/plain": [
       "<Figure size 432x288 with 1 Axes>"
      ]
     },
     "metadata": {
      "needs_background": "light"
     },
     "output_type": "display_data"
    },
    {
     "data": {
      "image/png": "[encoded data removed]",
      "text/plain": [
       "<Figure size 432x288 with 1 Axes>"
      ]
     },
     "metadata": {
      "needs_background": "light"
     },
     "output_type": "display_data"
    },
    {
     "data": {
      "image/png": "[encoded data removed]",
      "text/plain": [
       "<Figure size 432x288 with 1 Axes>"
      ]
     },
     "metadata": {
      "needs_background": "light"
     },
     "output_type": "display_data"
    },
    {
     "data": {
      "image/png": "[encoded data removed]",
      "text/plain": [
       "<Figure size 432x288 with 1 Axes>"
      ]
     },
     "metadata": {
      "needs_background": "light"
     },
     "output_type": "display_data"
    },
    {
     "data": {
      "image/png": "[encoded data removed]",
      "text/plain": [
       "<Figure size 720x1440 with 3 Axes>"
      ]
     },
     "metadata": {},
     "output_type": "display_data"
    }
   ],
   "source": [
    "print(\"IQR75 Content Rating: \" + str(np.percentile(freetext[freetext[\"evaluation\"] != \"pending\"][\"rating_content\"], 75)))\n",
    "print(\"Median Content Rating: \" + str(np.nanmedian(freetext[\"rating_content\"])))\n",
    "print(\"IQR25 Content Rating: \" + str(np.percentile(freetext[freetext[\"evaluation\"] != \"pending\"][\"rating_content\"], 25)))\n",
    "print(\"Mean Content Rating: \" + str(np.mean(freetext[\"rating_content\"])))\n",
    "print(\"Std Content Rating: \" + str(np.std(freetext[\"rating_content\"])))\n",
    "print(\"\")\n",
    "\n",
    "print(\"IQR75 format Rating: \" + str(np.percentile(freetext[freetext[\"evaluation\"] != \"pending\"][\"rating_format\"], 75)))\n",
    "print(\"Median format Rating: \" + str(np.nanmedian(freetext[\"rating_format\"])))\n",
    "print(\"IQR25 format Rating: \" + str(np.percentile(freetext[freetext[\"evaluation\"] != \"pending\"][\"rating_format\"], 25)))\n",
    "print(\"Mean format Rating: \" + str(np.mean(freetext[\"rating_format\"])))\n",
    "print(\"Std format Rating: \" + str(np.std(freetext[\"rating_format\"])))\n",
    "print(\"\")\n",
    "\n",
    "print(\"IQR75 creativity Rating: \" + str(np.percentile(freetext[freetext[\"evaluation\"] != \"pending\"][\"rating_creativity\"], 75)))\n",
    "print(\"Median creativity Rating: \" + str(np.nanmedian(freetext[\"rating_creativity\"])))\n",
    "print(\"IQR25 creativity Rating: \" + str(np.percentile(freetext[freetext[\"evaluation\"] != \"pending\"][\"rating_creativity\"], 25)))\n",
    "print(\"Mean creativity Rating: \" + str(np.mean(freetext[\"rating_creativity\"])))\n",
    "print(\"Std creativity Rating: \" + str(np.std(freetext[\"rating_creativity\"])))\n",
    "print(\"\")\n",
    "\n",
    "\n",
    "plt.hist(freetext[\"rating_content\"])\n",
    "plt.title(\"Content\")\n",
    "plt.show()\n",
    "plt.hist(freetext[\"rating_format\"])\n",
    "plt.title(\"Format\")\n",
    "plt.show()\n",
    "plt.hist(freetext[\"rating_creativity\"])\n",
    "plt.title(\"Creativity\")\n",
    "plt.show()\n",
    "\n",
    "\n",
    "#boxplots bringen eig nichts!\n",
    "sns.boxplot(freetext[freetext[\"evaluation\"] != \"pending\"][\"rating_content\"])\n",
    "plt.show()\n",
    "sns.boxplot(freetext[freetext[\"evaluation\"] != \"pending\"][\"rating_format\"])\n",
    "plt.show()\n",
    "sns.boxplot(freetext[freetext[\"evaluation\"] != \"pending\"][\"rating_creativity\"])\n",
    "plt.show()\n",
    "\n",
    "\n",
    "# Pie charts\n",
    "content_data = freetext[freetext[\"evaluation\"] != \"pending\"].groupby(\"rating_content\")[\"rating_content\"].sum()\n",
    "format_data = freetext[freetext[\"evaluation\"] != \"pending\"].groupby(\"rating_format\")[\"rating_content\"].sum()\n",
    "creativity_data = freetext[freetext[\"evaluation\"] != \"pending\"].groupby(\"rating_creativity\")[\"rating_content\"].sum()\n",
    "labels = [\"0\", \"1\", \"2\", \"3\", \"4\", \"5\"]\n",
    "#content_labels = freetext[freetext[\"evaluation\"] != \"pending\"][\"rating_content\"].unique()\n",
    "\n",
    "fig, (ax1, ax2, ax3) = plt.subplots(3, 1, figsize=[10,20])\n",
    "\n",
    "ax1.pie(x=content_data, autopct=\"%.1f%%\", explode = (0.2, 0.2, 0.2, 0.2, 0.1, 0.1), labels=labels, pctdistance=0.5)\n",
    "ax2.pie(x=format_data, autopct=\"%.1f%%\", explode = (0.2, 0.2, 0.2, 0.2, 0.1, 0.1), labels=labels, pctdistance=0.5)\n",
    "ax3.pie(x=creativity_data, autopct=\"%.1f%%\", explode = (0.2, 0.2, 0.2, 0.2, 0.1, 0.1), labels=labels, pctdistance=0.5)\n",
    "plt.tight_layout()\n",
    "plt.show()"
   ]
  },
  {
   "cell_type": "code",
   "execution_count": 148,
   "metadata": {},
   "outputs": [
    {
     "data": {
      "image/png": "[encoded data removed]",
      "text/plain": [
       "<Figure size 432x288 with 1 Axes>"
      ]
     },
     "metadata": {
      "needs_background": "light"
     },
     "output_type": "display_data"
    },
    {
     "data": {
      "image/png": "[encoded data removed]",
      "text/plain": [
       "<Figure size 432x288 with 1 Axes>"
      ]
     },
     "metadata": {
      "needs_background": "light"
     },
     "output_type": "display_data"
    }
   ],
   "source": [
    "# durations\n",
    "plt.hist(freetext[\"duration\"], bins=50)\n",
    "plt.show()\n",
    "\n",
    "plt.hist(freetext[\"duration\"]/60, bins=int(np.max(freetext[\"duration\"])/60))\n",
    "plt.show()"
   ]
  },
  {
   "cell_type": "code",
   "execution_count": 155,
   "metadata": {},
   "outputs": [
    {
     "data": {
      "text/html": [
       "<div>\n",
       "<style scoped>\n",
       "    .dataframe tbody tr th:only-of-type {\n",
       "        vertical-align: middle;\n",
       "    }\n",
       "\n",
       "    .dataframe tbody tr th {\n",
       "        vertical-align: top;\n",
       "    }\n",
       "\n",
       "    .dataframe thead th {\n",
       "        text-align: right;\n",
       "    }\n",
       "</style>\n",
       "<table border=\"1\" class=\"dataframe\">\n",
       "  <thead>\n",
       "    <tr style=\"text-align: right;\">\n",
       "      <th></th>\n",
       "      <th>pupilId</th>\n",
       "      <th>classId</th>\n",
       "      <th>taskId</th>\n",
       "      <th>duration</th>\n",
       "      <th>state</th>\n",
       "      <th>number words in answer</th>\n",
       "    </tr>\n",
       "  </thead>\n",
       "  <tbody>\n",
       "    <tr>\n",
       "      <th>135</th>\n",
       "      <td>Kd6FuRsrq6QvPrkKp</td>\n",
       "      <td>qFEyvypMn4sAwLwtc</td>\n",
       "      <td>AI-1-v2-1-2</td>\n",
       "      <td>979</td>\n",
       "      <td>Künstliche Intelligenz heißt, dass ein Roboter...</td>\n",
       "      <td>55</td>\n",
       "    </tr>\n",
       "    <tr>\n",
       "      <th>141</th>\n",
       "      <td>6bBwnX2mwAp2NAwNR</td>\n",
       "      <td>qFEyvypMn4sAwLwtc</td>\n",
       "      <td>AI-1-v2-1-2</td>\n",
       "      <td>968</td>\n",
       "      <td>Künstliche Intelligenz bedeutet, dass ein Robo...</td>\n",
       "      <td>58</td>\n",
       "    </tr>\n",
       "    <tr>\n",
       "      <th>148</th>\n",
       "      <td>6bBwnX2mwAp2NAwNR</td>\n",
       "      <td>qFEyvypMn4sAwLwtc</td>\n",
       "      <td>AI-4-v2-1-3</td>\n",
       "      <td>932</td>\n",
       "      <td>KI (Künstliche Intelligenz) unterscheidet man ...</td>\n",
       "      <td>108</td>\n",
       "    </tr>\n",
       "    <tr>\n",
       "      <th>175</th>\n",
       "      <td>6bBwnX2mwAp2NAwNR</td>\n",
       "      <td>qFEyvypMn4sAwLwtc</td>\n",
       "      <td>Clustering-2-1-1</td>\n",
       "      <td>845</td>\n",
       "      <td>Das 1. Cluster repräsentiert am Besten eine Ma...</td>\n",
       "      <td>96</td>\n",
       "    </tr>\n",
       "    <tr>\n",
       "      <th>381</th>\n",
       "      <td>hn2oJ5p2CwPfG44wx</td>\n",
       "      <td>qFEyvypMn4sAwLwtc</td>\n",
       "      <td>AI-1-v2-1-2</td>\n",
       "      <td>818</td>\n",
       "      <td>Bei Künstlichen Intelligenzen wird durch das D...</td>\n",
       "      <td>34</td>\n",
       "    </tr>\n",
       "    <tr>\n",
       "      <th>396</th>\n",
       "      <td>hn2oJ5p2CwPfG44wx</td>\n",
       "      <td>qFEyvypMn4sAwLwtc</td>\n",
       "      <td>ML-2-1-2</td>\n",
       "      <td>786</td>\n",
       "      <td>Maschinelles Lernen wird auch \"deep learning\" ...</td>\n",
       "      <td>60</td>\n",
       "    </tr>\n",
       "    <tr>\n",
       "      <th>415</th>\n",
       "      <td>hn2oJ5p2CwPfG44wx</td>\n",
       "      <td>qFEyvypMn4sAwLwtc</td>\n",
       "      <td>Clustering-2-1-1</td>\n",
       "      <td>770</td>\n",
       "      <td>Das Beauty, Vlogs repräsentiert am ehesten ein...</td>\n",
       "      <td>75</td>\n",
       "    </tr>\n",
       "    <tr>\n",
       "      <th>436</th>\n",
       "      <td>dotjrftFetJme4iPH</td>\n",
       "      <td>qFEyvypMn4sAwLwtc</td>\n",
       "      <td>AI-1-v2-1-2</td>\n",
       "      <td>1063</td>\n",
       "      <td>Meiner Meinung nach, künstliche Intelligenz is...</td>\n",
       "      <td>34</td>\n",
       "    </tr>\n",
       "    <tr>\n",
       "      <th>470</th>\n",
       "      <td>dotjrftFetJme4iPH</td>\n",
       "      <td>qFEyvypMn4sAwLwtc</td>\n",
       "      <td>Clustering-2-1-1</td>\n",
       "      <td>1154</td>\n",
       "      <td>Die Clusternummer 1 wäre für die Make-Up-Marke...</td>\n",
       "      <td>76</td>\n",
       "    </tr>\n",
       "    <tr>\n",
       "      <th>472</th>\n",
       "      <td>TLqNCrX4jaYixjtv7</td>\n",
       "      <td>qFEyvypMn4sAwLwtc</td>\n",
       "      <td>AI-1-v2-1-2</td>\n",
       "      <td>1125</td>\n",
       "      <td>Künstliche Intelligenz ist wenn Programme durc...</td>\n",
       "      <td>66</td>\n",
       "    </tr>\n",
       "    <tr>\n",
       "      <th>479</th>\n",
       "      <td>TLqNCrX4jaYixjtv7</td>\n",
       "      <td>qFEyvypMn4sAwLwtc</td>\n",
       "      <td>AI-4-v2-1-3</td>\n",
       "      <td>778</td>\n",
       "      <td>Es gibt spezifische KI und die Vorstellung von...</td>\n",
       "      <td>41</td>\n",
       "    </tr>\n",
       "    <tr>\n",
       "      <th>519</th>\n",
       "      <td>kdqG4fXAK64zdrqN8</td>\n",
       "      <td>qFEyvypMn4sAwLwtc</td>\n",
       "      <td>AI-1-v2-1-2</td>\n",
       "      <td>1100</td>\n",
       "      <td>Künstliche Intelligenz sorgt für die Digitalis...</td>\n",
       "      <td>47</td>\n",
       "    </tr>\n",
       "    <tr>\n",
       "      <th>574</th>\n",
       "      <td>7eqvpzMXwFGaYWHou</td>\n",
       "      <td>qFEyvypMn4sAwLwtc</td>\n",
       "      <td>AI-1-v2-1-2</td>\n",
       "      <td>958</td>\n",
       "      <td>&lt;span style=\"background-color: rgb(232, 234, 2...</td>\n",
       "      <td>67</td>\n",
       "    </tr>\n",
       "    <tr>\n",
       "      <th>585</th>\n",
       "      <td>Z9DkQMmtiPiHtteME</td>\n",
       "      <td>qFEyvypMn4sAwLwtc</td>\n",
       "      <td>AI-1-v2-1-2</td>\n",
       "      <td>920</td>\n",
       "      <td>&lt;span style=\"background-color: rgb(248, 246, 2...</td>\n",
       "      <td>50</td>\n",
       "    </tr>\n",
       "    <tr>\n",
       "      <th>607</th>\n",
       "      <td>XKrLvRHLaM7yDisR6</td>\n",
       "      <td>qFEyvypMn4sAwLwtc</td>\n",
       "      <td>AI-1-v2-1-2</td>\n",
       "      <td>811</td>\n",
       "      <td>Künstliche Intelligenz (KI) ist ein weitreiche...</td>\n",
       "      <td>53</td>\n",
       "    </tr>\n",
       "    <tr>\n",
       "      <th>617</th>\n",
       "      <td>XKrLvRHLaM7yDisR6</td>\n",
       "      <td>qFEyvypMn4sAwLwtc</td>\n",
       "      <td>ML-1-1-1</td>\n",
       "      <td>793</td>\n",
       "      <td>&lt;pre class=\"ql-syntax\" spellcheck=\"false\"&gt;Es i...</td>\n",
       "      <td>28</td>\n",
       "    </tr>\n",
       "    <tr>\n",
       "      <th>675</th>\n",
       "      <td>C2BW6tdii778v4RfL</td>\n",
       "      <td>qFEyvypMn4sAwLwtc</td>\n",
       "      <td>AI-4-v2-1-3</td>\n",
       "      <td>1141</td>\n",
       "      <td>&lt;span style=\"color: rgb(32, 33, 36);\"&gt;Die KI i...</td>\n",
       "      <td>24</td>\n",
       "    </tr>\n",
       "    <tr>\n",
       "      <th>678</th>\n",
       "      <td>C2BW6tdii778v4RfL</td>\n",
       "      <td>qFEyvypMn4sAwLwtc</td>\n",
       "      <td>ML-1-1-1</td>\n",
       "      <td>1060</td>\n",
       "      <td>es ist ein Hund, wenn es  4 Pfoten hat. es ist...</td>\n",
       "      <td>50</td>\n",
       "    </tr>\n",
       "    <tr>\n",
       "      <th>918</th>\n",
       "      <td>Absyuhryq96KZL2Cs</td>\n",
       "      <td>qFEyvypMn4sAwLwtc</td>\n",
       "      <td>AI-4-v2-1-3</td>\n",
       "      <td>1280</td>\n",
       "      <td>- KI wird inn der Zukunft in autos sein&lt;ul&gt;&lt;li...</td>\n",
       "      <td>23</td>\n",
       "    </tr>\n",
       "    <tr>\n",
       "      <th>921</th>\n",
       "      <td>Absyuhryq96KZL2Cs</td>\n",
       "      <td>qFEyvypMn4sAwLwtc</td>\n",
       "      <td>ML-1-1-1</td>\n",
       "      <td>1060</td>\n",
       "      <td>&lt;h3&gt;-“Es ist ein Hund, wenn es vier Pfoten hat...</td>\n",
       "      <td>53</td>\n",
       "    </tr>\n",
       "  </tbody>\n",
       "</table>\n",
       "</div>"
      ],
      "text/plain": [
       "               pupilId            classId            taskId duration  \\\n",
       "135  Kd6FuRsrq6QvPrkKp  qFEyvypMn4sAwLwtc       AI-1-v2-1-2      979   \n",
       "141  6bBwnX2mwAp2NAwNR  qFEyvypMn4sAwLwtc       AI-1-v2-1-2      968   \n",
       "148  6bBwnX2mwAp2NAwNR  qFEyvypMn4sAwLwtc       AI-4-v2-1-3      932   \n",
       "175  6bBwnX2mwAp2NAwNR  qFEyvypMn4sAwLwtc  Clustering-2-1-1      845   \n",
       "381  hn2oJ5p2CwPfG44wx  qFEyvypMn4sAwLwtc       AI-1-v2-1-2      818   \n",
       "396  hn2oJ5p2CwPfG44wx  qFEyvypMn4sAwLwtc          ML-2-1-2      786   \n",
       "415  hn2oJ5p2CwPfG44wx  qFEyvypMn4sAwLwtc  Clustering-2-1-1      770   \n",
       "436  dotjrftFetJme4iPH  qFEyvypMn4sAwLwtc       AI-1-v2-1-2     1063   \n",
       "470  dotjrftFetJme4iPH  qFEyvypMn4sAwLwtc  Clustering-2-1-1     1154   \n",
       "472  TLqNCrX4jaYixjtv7  qFEyvypMn4sAwLwtc       AI-1-v2-1-2     1125   \n",
       "479  TLqNCrX4jaYixjtv7  qFEyvypMn4sAwLwtc       AI-4-v2-1-3      778   \n",
       "519  kdqG4fXAK64zdrqN8  qFEyvypMn4sAwLwtc       AI-1-v2-1-2     1100   \n",
       "574  7eqvpzMXwFGaYWHou  qFEyvypMn4sAwLwtc       AI-1-v2-1-2      958   \n",
       "585  Z9DkQMmtiPiHtteME  qFEyvypMn4sAwLwtc       AI-1-v2-1-2      920   \n",
       "607  XKrLvRHLaM7yDisR6  qFEyvypMn4sAwLwtc       AI-1-v2-1-2      811   \n",
       "617  XKrLvRHLaM7yDisR6  qFEyvypMn4sAwLwtc          ML-1-1-1      793   \n",
       "675  C2BW6tdii778v4RfL  qFEyvypMn4sAwLwtc       AI-4-v2-1-3     1141   \n",
       "678  C2BW6tdii778v4RfL  qFEyvypMn4sAwLwtc          ML-1-1-1     1060   \n",
       "918  Absyuhryq96KZL2Cs  qFEyvypMn4sAwLwtc       AI-4-v2-1-3     1280   \n",
       "921  Absyuhryq96KZL2Cs  qFEyvypMn4sAwLwtc          ML-1-1-1     1060   \n",
       "\n",
       "                                                 state  number words in answer  \n",
       "135  Künstliche Intelligenz heißt, dass ein Roboter...                      55  \n",
       "141  Künstliche Intelligenz bedeutet, dass ein Robo...                      58  \n",
       "148  KI (Künstliche Intelligenz) unterscheidet man ...                     108  \n",
       "175  Das 1. Cluster repräsentiert am Besten eine Ma...                      96  \n",
       "381  Bei Künstlichen Intelligenzen wird durch das D...                      34  \n",
       "396  Maschinelles Lernen wird auch \"deep learning\" ...                      60  \n",
       "415  Das Beauty, Vlogs repräsentiert am ehesten ein...                      75  \n",
       "436  Meiner Meinung nach, künstliche Intelligenz is...                      34  \n",
       "470  Die Clusternummer 1 wäre für die Make-Up-Marke...                      76  \n",
       "472  Künstliche Intelligenz ist wenn Programme durc...                      66  \n",
       "479  Es gibt spezifische KI und die Vorstellung von...                      41  \n",
       "519  Künstliche Intelligenz sorgt für die Digitalis...                      47  \n",
       "574  <span style=\"background-color: rgb(232, 234, 2...                      67  \n",
       "585  <span style=\"background-color: rgb(248, 246, 2...                      50  \n",
       "607  Künstliche Intelligenz (KI) ist ein weitreiche...                      53  \n",
       "617  <pre class=\"ql-syntax\" spellcheck=\"false\">Es i...                      28  \n",
       "675  <span style=\"color: rgb(32, 33, 36);\">Die KI i...                      24  \n",
       "678  es ist ein Hund, wenn es  4 Pfoten hat. es ist...                      50  \n",
       "918  - KI wird inn der Zukunft in autos sein<ul><li...                      23  \n",
       "921  <h3>-“Es ist ein Hund, wenn es vier Pfoten hat...                      53  "
      ]
     },
     "execution_count": 155,
     "metadata": {},
     "output_type": "execute_result"
    }
   ],
   "source": [
    "# Welche Antworten haben besonders lange gebraucht?\n",
    "freetext[freetext[\"duration\"] > 700][[\"pupilId\", \"classId\", \"taskId\", \"duration\", \"state\", \"number words in answer\"]]"
   ]
  },
  {
   "cell_type": "code",
   "execution_count": 154,
   "metadata": {},
   "outputs": [
    {
     "data": {
      "text/plain": [
       "AI-1-v2-1-2         9\n",
       "AI-4-v2-1-3         4\n",
       "Clustering-2-1-1    3\n",
       "ML-1-1-1            3\n",
       "ML-2-1-2            1\n",
       "Name: taskId, dtype: int64"
      ]
     },
     "execution_count": 154,
     "metadata": {},
     "output_type": "execute_result"
    }
   ],
   "source": [
    "# Bei welchen Aufgaben sind die antworten besonders lang?\n",
    "freetext[freetext[\"duration\"] > 700][\"taskId\"].value_counts()"
   ]
  },
  {
   "cell_type": "code",
   "execution_count": 167,
   "metadata": {},
   "outputs": [],
   "source": [
    "# sind das die schüler, die dann auch nciht weit gekommen sind?\n",
    "slow_freetext_pupils = freetext[freetext[\"duration\"] > 700][\"pupilId\"].unique()"
   ]
  },
  {
   "cell_type": "code",
   "execution_count": 25,
   "metadata": {},
   "outputs": [
    {
     "ename": "NameError",
     "evalue": "name 'pupil_performance_df' is not defined",
     "output_type": "error",
     "traceback": [
      "\u001b[0;31m---------------------------------------------------------------------------\u001b[0m",
      "\u001b[0;31mNameError\u001b[0m                                 Traceback (most recent call last)",
      "\u001b[0;32m<ipython-input-25-85e32cc9e5c5>\u001b[0m in \u001b[0;36m<module>\u001b[0;34m\u001b[0m\n\u001b[0;32m----> 1\u001b[0;31m \u001b[0mpupil_performance_df\u001b[0m\u001b[0;34m.\u001b[0m\u001b[0mhead\u001b[0m\u001b[0;34m(\u001b[0m\u001b[0;34m)\u001b[0m\u001b[0;34m\u001b[0m\u001b[0;34m\u001b[0m\u001b[0m\n\u001b[0m",
      "\u001b[0;31mNameError\u001b[0m: name 'pupil_performance_df' is not defined"
     ]
    }
   ],
   "source": [
    "pupil_performance_df.head()"
   ]
  },
  {
   "cell_type": "code",
   "execution_count": 172,
   "metadata": {},
   "outputs": [
    {
     "data": {
      "text/html": [
       "<div>\n",
       "<style scoped>\n",
       "    .dataframe tbody tr th:only-of-type {\n",
       "        vertical-align: middle;\n",
       "    }\n",
       "\n",
       "    .dataframe tbody tr th {\n",
       "        vertical-align: top;\n",
       "    }\n",
       "\n",
       "    .dataframe thead th {\n",
       "        text-align: right;\n",
       "    }\n",
       "</style>\n",
       "<table border=\"1\" class=\"dataframe\">\n",
       "  <thead>\n",
       "    <tr style=\"text-align: right;\">\n",
       "      <th></th>\n",
       "      <th>pupilId</th>\n",
       "      <th>nr_tasks_per_pupil</th>\n",
       "      <th>total_duration in minutes</th>\n",
       "      <th>average duration per task in minutes</th>\n",
       "    </tr>\n",
       "  </thead>\n",
       "  <tbody>\n",
       "    <tr>\n",
       "      <th>2</th>\n",
       "      <td>Kd6FuRsrq6QvPrkKp</td>\n",
       "      <td>6</td>\n",
       "      <td>37.383333</td>\n",
       "      <td>6.230556</td>\n",
       "    </tr>\n",
       "    <tr>\n",
       "      <th>3</th>\n",
       "      <td>6bBwnX2mwAp2NAwNR</td>\n",
       "      <td>36</td>\n",
       "      <td>116.100000</td>\n",
       "      <td>3.225000</td>\n",
       "    </tr>\n",
       "    <tr>\n",
       "      <th>8</th>\n",
       "      <td>hn2oJ5p2CwPfG44wx</td>\n",
       "      <td>55</td>\n",
       "      <td>123.700000</td>\n",
       "      <td>2.249091</td>\n",
       "    </tr>\n",
       "    <tr>\n",
       "      <th>9</th>\n",
       "      <td>dotjrftFetJme4iPH</td>\n",
       "      <td>36</td>\n",
       "      <td>118.616667</td>\n",
       "      <td>3.294907</td>\n",
       "    </tr>\n",
       "    <tr>\n",
       "      <th>10</th>\n",
       "      <td>TLqNCrX4jaYixjtv7</td>\n",
       "      <td>47</td>\n",
       "      <td>124.450000</td>\n",
       "      <td>2.647872</td>\n",
       "    </tr>\n",
       "    <tr>\n",
       "      <th>11</th>\n",
       "      <td>kdqG4fXAK64zdrqN8</td>\n",
       "      <td>55</td>\n",
       "      <td>123.450000</td>\n",
       "      <td>2.244545</td>\n",
       "    </tr>\n",
       "    <tr>\n",
       "      <th>12</th>\n",
       "      <td>7eqvpzMXwFGaYWHou</td>\n",
       "      <td>11</td>\n",
       "      <td>43.800000</td>\n",
       "      <td>3.981818</td>\n",
       "    </tr>\n",
       "    <tr>\n",
       "      <th>13</th>\n",
       "      <td>Z9DkQMmtiPiHtteME</td>\n",
       "      <td>4</td>\n",
       "      <td>25.950000</td>\n",
       "      <td>6.487500</td>\n",
       "    </tr>\n",
       "    <tr>\n",
       "      <th>15</th>\n",
       "      <td>XKrLvRHLaM7yDisR6</td>\n",
       "      <td>23</td>\n",
       "      <td>91.550000</td>\n",
       "      <td>3.980435</td>\n",
       "    </tr>\n",
       "    <tr>\n",
       "      <th>17</th>\n",
       "      <td>C2BW6tdii778v4RfL</td>\n",
       "      <td>36</td>\n",
       "      <td>85.033333</td>\n",
       "      <td>2.362037</td>\n",
       "    </tr>\n",
       "    <tr>\n",
       "      <th>22</th>\n",
       "      <td>Absyuhryq96KZL2Cs</td>\n",
       "      <td>15</td>\n",
       "      <td>63.150000</td>\n",
       "      <td>4.210000</td>\n",
       "    </tr>\n",
       "  </tbody>\n",
       "</table>\n",
       "</div>"
      ],
      "text/plain": [
       "              pupilId  nr_tasks_per_pupil  total_duration in minutes  \\\n",
       "2   Kd6FuRsrq6QvPrkKp                   6                  37.383333   \n",
       "3   6bBwnX2mwAp2NAwNR                  36                 116.100000   \n",
       "8   hn2oJ5p2CwPfG44wx                  55                 123.700000   \n",
       "9   dotjrftFetJme4iPH                  36                 118.616667   \n",
       "10  TLqNCrX4jaYixjtv7                  47                 124.450000   \n",
       "11  kdqG4fXAK64zdrqN8                  55                 123.450000   \n",
       "12  7eqvpzMXwFGaYWHou                  11                  43.800000   \n",
       "13  Z9DkQMmtiPiHtteME                   4                  25.950000   \n",
       "15  XKrLvRHLaM7yDisR6                  23                  91.550000   \n",
       "17  C2BW6tdii778v4RfL                  36                  85.033333   \n",
       "22  Absyuhryq96KZL2Cs                  15                  63.150000   \n",
       "\n",
       "    average duration per task in minutes  \n",
       "2                               6.230556  \n",
       "3                               3.225000  \n",
       "8                               2.249091  \n",
       "9                               3.294907  \n",
       "10                              2.647872  \n",
       "11                              2.244545  \n",
       "12                              3.981818  \n",
       "13                              6.487500  \n",
       "15                              3.980435  \n",
       "17                              2.362037  \n",
       "22                              4.210000  "
      ]
     },
     "execution_count": 172,
     "metadata": {},
     "output_type": "execute_result"
    }
   ],
   "source": [
    "#for pupilId in freetext[freetext[\"duration\"] > 700][\"pupilId\"].unique():\n",
    "#    print(pupil_performance_df[pupil_performance_df[\"pupilId\"] == pupilId])\n",
    "\n",
    "pupil_performance_df[pupil_performance_df[\"pupilId\"].isin(slow_freetext_pupils)]\n",
    "\n",
    "'''\n",
    "manche nicht weit gekommen\n",
    "die anderen sind eher langsame arbeiter, glaube ich\n",
    "'''\n"
   ]
  },
  {
   "cell_type": "code",
   "execution_count": 157,
   "metadata": {},
   "outputs": [
    {
     "data": {
      "text/plain": [
       "<seaborn.axisgrid.PairGrid at 0x7f8821747a10>"
      ]
     },
     "execution_count": 157,
     "metadata": {},
     "output_type": "execute_result"
    },
    {
     "data": {
      "image/png": "[encoded data removed]",
      "text/plain": [
       "<Figure size 360x360 with 6 Axes>"
      ]
     },
     "metadata": {
      "needs_background": "light"
     },
     "output_type": "display_data"
    }
   ],
   "source": [
    "sns.pairplot(freetext[[\"duration\", 'number words in answer']])\n"
   ]
  },
  {
   "cell_type": "code",
   "execution_count": 179,
   "metadata": {},
   "outputs": [
    {
     "ename": "TypeError",
     "evalue": "No loop matching the specified signature and casting was found for ufunc svd_n_s",
     "output_type": "error",
     "traceback": [
      "\u001b[0;31m---------------------------------------------------------------------------\u001b[0m",
      "\u001b[0;31mTypeError\u001b[0m                                 Traceback (most recent call last)",
      "\u001b[0;32m<ipython-input-179-a9fb74c27a06>\u001b[0m in \u001b[0;36m<module>\u001b[0;34m\u001b[0m\n\u001b[1;32m      1\u001b[0m \u001b[0mlmdata\u001b[0m \u001b[0;34m=\u001b[0m \u001b[0mfreetext\u001b[0m\u001b[0;34m[\u001b[0m\u001b[0mfreetext\u001b[0m\u001b[0;34m[\u001b[0m\u001b[0;34m\"evaluation\"\u001b[0m\u001b[0;34m]\u001b[0m \u001b[0;34m!=\u001b[0m \u001b[0;34m\"pending\"\u001b[0m\u001b[0;34m]\u001b[0m\u001b[0;34m\u001b[0m\u001b[0;34m\u001b[0m\u001b[0m\n\u001b[0;32m----> 2\u001b[0;31m \u001b[0msns\u001b[0m\u001b[0;34m.\u001b[0m\u001b[0mlmplot\u001b[0m\u001b[0;34m(\u001b[0m\u001b[0mdata\u001b[0m\u001b[0;34m=\u001b[0m\u001b[0mlmdata\u001b[0m\u001b[0;34m,\u001b[0m \u001b[0mx\u001b[0m\u001b[0;34m=\u001b[0m\u001b[0;34m\"duration\"\u001b[0m\u001b[0;34m,\u001b[0m \u001b[0my\u001b[0m\u001b[0;34m=\u001b[0m\u001b[0;34m\"number words in answer\"\u001b[0m\u001b[0;34m)\u001b[0m\u001b[0;34m\u001b[0m\u001b[0;34m\u001b[0m\u001b[0m\n\u001b[0m",
      "\u001b[0;32m~/Documents/anaconda3/lib/python3.7/site-packages/seaborn/regression.py\u001b[0m in \u001b[0;36mlmplot\u001b[0;34m(x, y, data, hue, col, row, palette, col_wrap, height, aspect, markers, sharex, sharey, hue_order, col_order, row_order, legend, legend_out, x_estimator, x_bins, x_ci, scatter, fit_reg, ci, n_boot, units, seed, order, logistic, lowess, robust, logx, x_partial, y_partial, truncate, x_jitter, y_jitter, scatter_kws, line_kws, size)\u001b[0m\n\u001b[1;32m    614\u001b[0m         \u001b[0mscatter_kws\u001b[0m\u001b[0;34m=\u001b[0m\u001b[0mscatter_kws\u001b[0m\u001b[0;34m,\u001b[0m \u001b[0mline_kws\u001b[0m\u001b[0;34m=\u001b[0m\u001b[0mline_kws\u001b[0m\u001b[0;34m,\u001b[0m\u001b[0;34m\u001b[0m\u001b[0;34m\u001b[0m\u001b[0m\n\u001b[1;32m    615\u001b[0m         )\n\u001b[0;32m--> 616\u001b[0;31m     \u001b[0mfacets\u001b[0m\u001b[0;34m.\u001b[0m\u001b[0mmap_dataframe\u001b[0m\u001b[0;34m(\u001b[0m\u001b[0mregplot\u001b[0m\u001b[0;34m,\u001b[0m \u001b[0mx\u001b[0m\u001b[0;34m,\u001b[0m \u001b[0my\u001b[0m\u001b[0;34m,\u001b[0m \u001b[0;34m**\u001b[0m\u001b[0mregplot_kws\u001b[0m\u001b[0;34m)\u001b[0m\u001b[0;34m\u001b[0m\u001b[0;34m\u001b[0m\u001b[0m\n\u001b[0m\u001b[1;32m    617\u001b[0m \u001b[0;34m\u001b[0m\u001b[0m\n\u001b[1;32m    618\u001b[0m     \u001b[0;31m# Add a legend\u001b[0m\u001b[0;34m\u001b[0m\u001b[0;34m\u001b[0m\u001b[0;34m\u001b[0m\u001b[0m\n",
      "\u001b[0;32m~/Documents/anaconda3/lib/python3.7/site-packages/seaborn/axisgrid.py\u001b[0m in \u001b[0;36mmap_dataframe\u001b[0;34m(self, func, *args, **kwargs)\u001b[0m\n\u001b[1;32m    826\u001b[0m \u001b[0;34m\u001b[0m\u001b[0m\n\u001b[1;32m    827\u001b[0m             \u001b[0;31m# Draw the plot\u001b[0m\u001b[0;34m\u001b[0m\u001b[0;34m\u001b[0m\u001b[0;34m\u001b[0m\u001b[0m\n\u001b[0;32m--> 828\u001b[0;31m             \u001b[0mself\u001b[0m\u001b[0;34m.\u001b[0m\u001b[0m_facet_plot\u001b[0m\u001b[0;34m(\u001b[0m\u001b[0mfunc\u001b[0m\u001b[0;34m,\u001b[0m \u001b[0max\u001b[0m\u001b[0;34m,\u001b[0m \u001b[0margs\u001b[0m\u001b[0;34m,\u001b[0m \u001b[0mkwargs\u001b[0m\u001b[0;34m)\u001b[0m\u001b[0;34m\u001b[0m\u001b[0;34m\u001b[0m\u001b[0m\n\u001b[0m\u001b[1;32m    829\u001b[0m \u001b[0;34m\u001b[0m\u001b[0m\n\u001b[1;32m    830\u001b[0m         \u001b[0;31m# Finalize the annotations and layout\u001b[0m\u001b[0;34m\u001b[0m\u001b[0;34m\u001b[0m\u001b[0;34m\u001b[0m\u001b[0m\n",
      "\u001b[0;32m~/Documents/anaconda3/lib/python3.7/site-packages/seaborn/axisgrid.py\u001b[0m in \u001b[0;36m_facet_plot\u001b[0;34m(self, func, ax, plot_args, plot_kwargs)\u001b[0m\n\u001b[1;32m    844\u001b[0m \u001b[0;34m\u001b[0m\u001b[0m\n\u001b[1;32m    845\u001b[0m         \u001b[0;31m# Draw the plot\u001b[0m\u001b[0;34m\u001b[0m\u001b[0;34m\u001b[0m\u001b[0;34m\u001b[0m\u001b[0m\n\u001b[0;32m--> 846\u001b[0;31m         \u001b[0mfunc\u001b[0m\u001b[0;34m(\u001b[0m\u001b[0;34m*\u001b[0m\u001b[0mplot_args\u001b[0m\u001b[0;34m,\u001b[0m \u001b[0;34m**\u001b[0m\u001b[0mplot_kwargs\u001b[0m\u001b[0;34m)\u001b[0m\u001b[0;34m\u001b[0m\u001b[0;34m\u001b[0m\u001b[0m\n\u001b[0m\u001b[1;32m    847\u001b[0m \u001b[0;34m\u001b[0m\u001b[0m\n\u001b[1;32m    848\u001b[0m         \u001b[0;31m# Sort out the supporting information\u001b[0m\u001b[0;34m\u001b[0m\u001b[0;34m\u001b[0m\u001b[0;34m\u001b[0m\u001b[0m\n",
      "\u001b[0;32m~/Documents/anaconda3/lib/python3.7/site-packages/seaborn/regression.py\u001b[0m in \u001b[0;36mregplot\u001b[0;34m(x, y, data, x_estimator, x_bins, x_ci, scatter, fit_reg, ci, n_boot, units, seed, order, logistic, lowess, robust, logx, x_partial, y_partial, truncate, dropna, x_jitter, y_jitter, label, color, marker, scatter_kws, line_kws, ax)\u001b[0m\n\u001b[1;32m    815\u001b[0m     \u001b[0mscatter_kws\u001b[0m\u001b[0;34m[\u001b[0m\u001b[0;34m\"marker\"\u001b[0m\u001b[0;34m]\u001b[0m \u001b[0;34m=\u001b[0m \u001b[0mmarker\u001b[0m\u001b[0;34m\u001b[0m\u001b[0;34m\u001b[0m\u001b[0m\n\u001b[1;32m    816\u001b[0m     \u001b[0mline_kws\u001b[0m \u001b[0;34m=\u001b[0m \u001b[0;34m{\u001b[0m\u001b[0;34m}\u001b[0m \u001b[0;32mif\u001b[0m \u001b[0mline_kws\u001b[0m \u001b[0;32mis\u001b[0m \u001b[0;32mNone\u001b[0m \u001b[0;32melse\u001b[0m \u001b[0mcopy\u001b[0m\u001b[0;34m.\u001b[0m\u001b[0mcopy\u001b[0m\u001b[0;34m(\u001b[0m\u001b[0mline_kws\u001b[0m\u001b[0;34m)\u001b[0m\u001b[0;34m\u001b[0m\u001b[0;34m\u001b[0m\u001b[0m\n\u001b[0;32m--> 817\u001b[0;31m     \u001b[0mplotter\u001b[0m\u001b[0;34m.\u001b[0m\u001b[0mplot\u001b[0m\u001b[0;34m(\u001b[0m\u001b[0max\u001b[0m\u001b[0;34m,\u001b[0m \u001b[0mscatter_kws\u001b[0m\u001b[0;34m,\u001b[0m \u001b[0mline_kws\u001b[0m\u001b[0;34m)\u001b[0m\u001b[0;34m\u001b[0m\u001b[0;34m\u001b[0m\u001b[0m\n\u001b[0m\u001b[1;32m    818\u001b[0m     \u001b[0;32mreturn\u001b[0m \u001b[0max\u001b[0m\u001b[0;34m\u001b[0m\u001b[0;34m\u001b[0m\u001b[0m\n\u001b[1;32m    819\u001b[0m \u001b[0;34m\u001b[0m\u001b[0m\n",
      "\u001b[0;32m~/Documents/anaconda3/lib/python3.7/site-packages/seaborn/regression.py\u001b[0m in \u001b[0;36mplot\u001b[0;34m(self, ax, scatter_kws, line_kws)\u001b[0m\n\u001b[1;32m    367\u001b[0m \u001b[0;34m\u001b[0m\u001b[0m\n\u001b[1;32m    368\u001b[0m         \u001b[0;32mif\u001b[0m \u001b[0mself\u001b[0m\u001b[0;34m.\u001b[0m\u001b[0mfit_reg\u001b[0m\u001b[0;34m:\u001b[0m\u001b[0;34m\u001b[0m\u001b[0;34m\u001b[0m\u001b[0m\n\u001b[0;32m--> 369\u001b[0;31m             \u001b[0mself\u001b[0m\u001b[0;34m.\u001b[0m\u001b[0mlineplot\u001b[0m\u001b[0;34m(\u001b[0m\u001b[0max\u001b[0m\u001b[0;34m,\u001b[0m \u001b[0mline_kws\u001b[0m\u001b[0;34m)\u001b[0m\u001b[0;34m\u001b[0m\u001b[0;34m\u001b[0m\u001b[0m\n\u001b[0m\u001b[1;32m    370\u001b[0m \u001b[0;34m\u001b[0m\u001b[0m\n\u001b[1;32m    371\u001b[0m         \u001b[0;31m# Label the axes\u001b[0m\u001b[0;34m\u001b[0m\u001b[0;34m\u001b[0m\u001b[0;34m\u001b[0m\u001b[0m\n",
      "\u001b[0;32m~/Documents/anaconda3/lib/python3.7/site-packages/seaborn/regression.py\u001b[0m in \u001b[0;36mlineplot\u001b[0;34m(self, ax, kws)\u001b[0m\n\u001b[1;32m    410\u001b[0m         \u001b[0;34m\"\"\"Draw the model.\"\"\"\u001b[0m\u001b[0;34m\u001b[0m\u001b[0;34m\u001b[0m\u001b[0m\n\u001b[1;32m    411\u001b[0m         \u001b[0;31m# Fit the regression model\u001b[0m\u001b[0;34m\u001b[0m\u001b[0;34m\u001b[0m\u001b[0;34m\u001b[0m\u001b[0m\n\u001b[0;32m--> 412\u001b[0;31m         \u001b[0mgrid\u001b[0m\u001b[0;34m,\u001b[0m \u001b[0myhat\u001b[0m\u001b[0;34m,\u001b[0m \u001b[0merr_bands\u001b[0m \u001b[0;34m=\u001b[0m \u001b[0mself\u001b[0m\u001b[0;34m.\u001b[0m\u001b[0mfit_regression\u001b[0m\u001b[0;34m(\u001b[0m\u001b[0max\u001b[0m\u001b[0;34m)\u001b[0m\u001b[0;34m\u001b[0m\u001b[0;34m\u001b[0m\u001b[0m\n\u001b[0m\u001b[1;32m    413\u001b[0m         \u001b[0medges\u001b[0m \u001b[0;34m=\u001b[0m \u001b[0mgrid\u001b[0m\u001b[0;34m[\u001b[0m\u001b[0;36m0\u001b[0m\u001b[0;34m]\u001b[0m\u001b[0;34m,\u001b[0m \u001b[0mgrid\u001b[0m\u001b[0;34m[\u001b[0m\u001b[0;34m-\u001b[0m\u001b[0;36m1\u001b[0m\u001b[0;34m]\u001b[0m\u001b[0;34m\u001b[0m\u001b[0;34m\u001b[0m\u001b[0m\n\u001b[1;32m    414\u001b[0m \u001b[0;34m\u001b[0m\u001b[0m\n",
      "\u001b[0;32m~/Documents/anaconda3/lib/python3.7/site-packages/seaborn/regression.py\u001b[0m in \u001b[0;36mfit_regression\u001b[0;34m(self, ax, x_range, grid)\u001b[0m\n\u001b[1;32m    218\u001b[0m             \u001b[0myhat\u001b[0m\u001b[0;34m,\u001b[0m \u001b[0myhat_boots\u001b[0m \u001b[0;34m=\u001b[0m \u001b[0mself\u001b[0m\u001b[0;34m.\u001b[0m\u001b[0mfit_logx\u001b[0m\u001b[0;34m(\u001b[0m\u001b[0mgrid\u001b[0m\u001b[0;34m)\u001b[0m\u001b[0;34m\u001b[0m\u001b[0;34m\u001b[0m\u001b[0m\n\u001b[1;32m    219\u001b[0m         \u001b[0;32melse\u001b[0m\u001b[0;34m:\u001b[0m\u001b[0;34m\u001b[0m\u001b[0;34m\u001b[0m\u001b[0m\n\u001b[0;32m--> 220\u001b[0;31m             \u001b[0myhat\u001b[0m\u001b[0;34m,\u001b[0m \u001b[0myhat_boots\u001b[0m \u001b[0;34m=\u001b[0m \u001b[0mself\u001b[0m\u001b[0;34m.\u001b[0m\u001b[0mfit_fast\u001b[0m\u001b[0;34m(\u001b[0m\u001b[0mgrid\u001b[0m\u001b[0;34m)\u001b[0m\u001b[0;34m\u001b[0m\u001b[0;34m\u001b[0m\u001b[0m\n\u001b[0m\u001b[1;32m    221\u001b[0m \u001b[0;34m\u001b[0m\u001b[0m\n\u001b[1;32m    222\u001b[0m         \u001b[0;31m# Compute the confidence interval at each grid point\u001b[0m\u001b[0;34m\u001b[0m\u001b[0;34m\u001b[0m\u001b[0;34m\u001b[0m\u001b[0m\n",
      "\u001b[0;32m~/Documents/anaconda3/lib/python3.7/site-packages/seaborn/regression.py\u001b[0m in \u001b[0;36mfit_fast\u001b[0;34m(self, grid)\u001b[0m\n\u001b[1;32m    235\u001b[0m         \u001b[0mX\u001b[0m\u001b[0;34m,\u001b[0m \u001b[0my\u001b[0m \u001b[0;34m=\u001b[0m \u001b[0mnp\u001b[0m\u001b[0;34m.\u001b[0m\u001b[0mc_\u001b[0m\u001b[0;34m[\u001b[0m\u001b[0mnp\u001b[0m\u001b[0;34m.\u001b[0m\u001b[0mones\u001b[0m\u001b[0;34m(\u001b[0m\u001b[0mlen\u001b[0m\u001b[0;34m(\u001b[0m\u001b[0mself\u001b[0m\u001b[0;34m.\u001b[0m\u001b[0mx\u001b[0m\u001b[0;34m)\u001b[0m\u001b[0;34m)\u001b[0m\u001b[0;34m,\u001b[0m \u001b[0mself\u001b[0m\u001b[0;34m.\u001b[0m\u001b[0mx\u001b[0m\u001b[0;34m]\u001b[0m\u001b[0;34m,\u001b[0m \u001b[0mself\u001b[0m\u001b[0;34m.\u001b[0m\u001b[0my\u001b[0m\u001b[0;34m\u001b[0m\u001b[0;34m\u001b[0m\u001b[0m\n\u001b[1;32m    236\u001b[0m         \u001b[0mgrid\u001b[0m \u001b[0;34m=\u001b[0m \u001b[0mnp\u001b[0m\u001b[0;34m.\u001b[0m\u001b[0mc_\u001b[0m\u001b[0;34m[\u001b[0m\u001b[0mnp\u001b[0m\u001b[0;34m.\u001b[0m\u001b[0mones\u001b[0m\u001b[0;34m(\u001b[0m\u001b[0mlen\u001b[0m\u001b[0;34m(\u001b[0m\u001b[0mgrid\u001b[0m\u001b[0;34m)\u001b[0m\u001b[0;34m)\u001b[0m\u001b[0;34m,\u001b[0m \u001b[0mgrid\u001b[0m\u001b[0;34m]\u001b[0m\u001b[0;34m\u001b[0m\u001b[0;34m\u001b[0m\u001b[0m\n\u001b[0;32m--> 237\u001b[0;31m         \u001b[0myhat\u001b[0m \u001b[0;34m=\u001b[0m \u001b[0mgrid\u001b[0m\u001b[0;34m.\u001b[0m\u001b[0mdot\u001b[0m\u001b[0;34m(\u001b[0m\u001b[0mreg_func\u001b[0m\u001b[0;34m(\u001b[0m\u001b[0mX\u001b[0m\u001b[0;34m,\u001b[0m \u001b[0my\u001b[0m\u001b[0;34m)\u001b[0m\u001b[0;34m)\u001b[0m\u001b[0;34m\u001b[0m\u001b[0;34m\u001b[0m\u001b[0m\n\u001b[0m\u001b[1;32m    238\u001b[0m         \u001b[0;32mif\u001b[0m \u001b[0mself\u001b[0m\u001b[0;34m.\u001b[0m\u001b[0mci\u001b[0m \u001b[0;32mis\u001b[0m \u001b[0;32mNone\u001b[0m\u001b[0;34m:\u001b[0m\u001b[0;34m\u001b[0m\u001b[0;34m\u001b[0m\u001b[0m\n\u001b[1;32m    239\u001b[0m             \u001b[0;32mreturn\u001b[0m \u001b[0myhat\u001b[0m\u001b[0;34m,\u001b[0m \u001b[0;32mNone\u001b[0m\u001b[0;34m\u001b[0m\u001b[0;34m\u001b[0m\u001b[0m\n",
      "\u001b[0;32m~/Documents/anaconda3/lib/python3.7/site-packages/seaborn/regression.py\u001b[0m in \u001b[0;36mreg_func\u001b[0;34m(_x, _y)\u001b[0m\n\u001b[1;32m    231\u001b[0m         \u001b[0;34m\"\"\"Low-level regression and prediction using linear algebra.\"\"\"\u001b[0m\u001b[0;34m\u001b[0m\u001b[0;34m\u001b[0m\u001b[0m\n\u001b[1;32m    232\u001b[0m         \u001b[0;32mdef\u001b[0m \u001b[0mreg_func\u001b[0m\u001b[0;34m(\u001b[0m\u001b[0m_x\u001b[0m\u001b[0;34m,\u001b[0m \u001b[0m_y\u001b[0m\u001b[0;34m)\u001b[0m\u001b[0;34m:\u001b[0m\u001b[0;34m\u001b[0m\u001b[0;34m\u001b[0m\u001b[0m\n\u001b[0;32m--> 233\u001b[0;31m             \u001b[0;32mreturn\u001b[0m \u001b[0mnp\u001b[0m\u001b[0;34m.\u001b[0m\u001b[0mlinalg\u001b[0m\u001b[0;34m.\u001b[0m\u001b[0mpinv\u001b[0m\u001b[0;34m(\u001b[0m\u001b[0m_x\u001b[0m\u001b[0;34m)\u001b[0m\u001b[0;34m.\u001b[0m\u001b[0mdot\u001b[0m\u001b[0;34m(\u001b[0m\u001b[0m_y\u001b[0m\u001b[0;34m)\u001b[0m\u001b[0;34m\u001b[0m\u001b[0;34m\u001b[0m\u001b[0m\n\u001b[0m\u001b[1;32m    234\u001b[0m \u001b[0;34m\u001b[0m\u001b[0m\n\u001b[1;32m    235\u001b[0m         \u001b[0mX\u001b[0m\u001b[0;34m,\u001b[0m \u001b[0my\u001b[0m \u001b[0;34m=\u001b[0m \u001b[0mnp\u001b[0m\u001b[0;34m.\u001b[0m\u001b[0mc_\u001b[0m\u001b[0;34m[\u001b[0m\u001b[0mnp\u001b[0m\u001b[0;34m.\u001b[0m\u001b[0mones\u001b[0m\u001b[0;34m(\u001b[0m\u001b[0mlen\u001b[0m\u001b[0;34m(\u001b[0m\u001b[0mself\u001b[0m\u001b[0;34m.\u001b[0m\u001b[0mx\u001b[0m\u001b[0;34m)\u001b[0m\u001b[0;34m)\u001b[0m\u001b[0;34m,\u001b[0m \u001b[0mself\u001b[0m\u001b[0;34m.\u001b[0m\u001b[0mx\u001b[0m\u001b[0;34m]\u001b[0m\u001b[0;34m,\u001b[0m \u001b[0mself\u001b[0m\u001b[0;34m.\u001b[0m\u001b[0my\u001b[0m\u001b[0;34m\u001b[0m\u001b[0;34m\u001b[0m\u001b[0m\n",
      "\u001b[0;32m<__array_function__ internals>\u001b[0m in \u001b[0;36mpinv\u001b[0;34m(*args, **kwargs)\u001b[0m\n",
      "\u001b[0;32m~/Documents/anaconda3/lib/python3.7/site-packages/numpy/linalg/linalg.py\u001b[0m in \u001b[0;36mpinv\u001b[0;34m(a, rcond, hermitian)\u001b[0m\n\u001b[1;32m   1959\u001b[0m         \u001b[0;32mreturn\u001b[0m \u001b[0mwrap\u001b[0m\u001b[0;34m(\u001b[0m\u001b[0mres\u001b[0m\u001b[0;34m)\u001b[0m\u001b[0;34m\u001b[0m\u001b[0;34m\u001b[0m\u001b[0m\n\u001b[1;32m   1960\u001b[0m     \u001b[0ma\u001b[0m \u001b[0;34m=\u001b[0m \u001b[0ma\u001b[0m\u001b[0;34m.\u001b[0m\u001b[0mconjugate\u001b[0m\u001b[0;34m(\u001b[0m\u001b[0;34m)\u001b[0m\u001b[0;34m\u001b[0m\u001b[0;34m\u001b[0m\u001b[0m\n\u001b[0;32m-> 1961\u001b[0;31m     \u001b[0mu\u001b[0m\u001b[0;34m,\u001b[0m \u001b[0ms\u001b[0m\u001b[0;34m,\u001b[0m \u001b[0mvt\u001b[0m \u001b[0;34m=\u001b[0m \u001b[0msvd\u001b[0m\u001b[0;34m(\u001b[0m\u001b[0ma\u001b[0m\u001b[0;34m,\u001b[0m \u001b[0mfull_matrices\u001b[0m\u001b[0;34m=\u001b[0m\u001b[0;32mFalse\u001b[0m\u001b[0;34m,\u001b[0m \u001b[0mhermitian\u001b[0m\u001b[0;34m=\u001b[0m\u001b[0mhermitian\u001b[0m\u001b[0;34m)\u001b[0m\u001b[0;34m\u001b[0m\u001b[0;34m\u001b[0m\u001b[0m\n\u001b[0m\u001b[1;32m   1962\u001b[0m \u001b[0;34m\u001b[0m\u001b[0m\n\u001b[1;32m   1963\u001b[0m     \u001b[0;31m# discard small singular values\u001b[0m\u001b[0;34m\u001b[0m\u001b[0;34m\u001b[0m\u001b[0;34m\u001b[0m\u001b[0m\n",
      "\u001b[0;32m<__array_function__ internals>\u001b[0m in \u001b[0;36msvd\u001b[0;34m(*args, **kwargs)\u001b[0m\n",
      "\u001b[0;32m~/Documents/anaconda3/lib/python3.7/site-packages/numpy/linalg/linalg.py\u001b[0m in \u001b[0;36msvd\u001b[0;34m(a, full_matrices, compute_uv, hermitian)\u001b[0m\n\u001b[1;32m   1624\u001b[0m \u001b[0;34m\u001b[0m\u001b[0m\n\u001b[1;32m   1625\u001b[0m         \u001b[0msignature\u001b[0m \u001b[0;34m=\u001b[0m \u001b[0;34m'D->DdD'\u001b[0m \u001b[0;32mif\u001b[0m \u001b[0misComplexType\u001b[0m\u001b[0;34m(\u001b[0m\u001b[0mt\u001b[0m\u001b[0;34m)\u001b[0m \u001b[0;32melse\u001b[0m \u001b[0;34m'd->ddd'\u001b[0m\u001b[0;34m\u001b[0m\u001b[0;34m\u001b[0m\u001b[0m\n\u001b[0;32m-> 1626\u001b[0;31m         \u001b[0mu\u001b[0m\u001b[0;34m,\u001b[0m \u001b[0ms\u001b[0m\u001b[0;34m,\u001b[0m \u001b[0mvh\u001b[0m \u001b[0;34m=\u001b[0m \u001b[0mgufunc\u001b[0m\u001b[0;34m(\u001b[0m\u001b[0ma\u001b[0m\u001b[0;34m,\u001b[0m \u001b[0msignature\u001b[0m\u001b[0;34m=\u001b[0m\u001b[0msignature\u001b[0m\u001b[0;34m,\u001b[0m \u001b[0mextobj\u001b[0m\u001b[0;34m=\u001b[0m\u001b[0mextobj\u001b[0m\u001b[0;34m)\u001b[0m\u001b[0;34m\u001b[0m\u001b[0;34m\u001b[0m\u001b[0m\n\u001b[0m\u001b[1;32m   1627\u001b[0m         \u001b[0mu\u001b[0m \u001b[0;34m=\u001b[0m \u001b[0mu\u001b[0m\u001b[0;34m.\u001b[0m\u001b[0mastype\u001b[0m\u001b[0;34m(\u001b[0m\u001b[0mresult_t\u001b[0m\u001b[0;34m,\u001b[0m \u001b[0mcopy\u001b[0m\u001b[0;34m=\u001b[0m\u001b[0;32mFalse\u001b[0m\u001b[0;34m)\u001b[0m\u001b[0;34m\u001b[0m\u001b[0;34m\u001b[0m\u001b[0m\n\u001b[1;32m   1628\u001b[0m         \u001b[0ms\u001b[0m \u001b[0;34m=\u001b[0m \u001b[0ms\u001b[0m\u001b[0;34m.\u001b[0m\u001b[0mastype\u001b[0m\u001b[0;34m(\u001b[0m\u001b[0m_realType\u001b[0m\u001b[0;34m(\u001b[0m\u001b[0mresult_t\u001b[0m\u001b[0;34m)\u001b[0m\u001b[0;34m,\u001b[0m \u001b[0mcopy\u001b[0m\u001b[0;34m=\u001b[0m\u001b[0;32mFalse\u001b[0m\u001b[0;34m)\u001b[0m\u001b[0;34m\u001b[0m\u001b[0;34m\u001b[0m\u001b[0m\n",
      "\u001b[0;31mTypeError\u001b[0m: No loop matching the specified signature and casting was found for ufunc svd_n_s"
     ]
    },
    {
     "data": {
      "image/png": "[encoded data removed]",
      "text/plain": [
       "<Figure size 360x360 with 1 Axes>"
      ]
     },
     "metadata": {
      "needs_background": "light"
     },
     "output_type": "display_data"
    }
   ],
   "source": [
    "lmdata = freetext[freetext[\"evaluation\"] != \"pending\"]\n",
    "sns.lmplot(data=lmdata, x=\"duration\", y=\"number words in answer\")\n",
    "\n",
    "# problem seems to be scipy: should be <1.3.0"
   ]
  },
  {
   "cell_type": "code",
   "execution_count": 26,
   "metadata": {},
   "outputs": [
    {
     "name": "stdout",
     "output_type": "stream",
     "text": [
      "spearman coeff duration+content: -0.05774405609854682 p-value: 0.3537279037095544\n",
      "spearman coeff duration+format: 0.07490480132060759 p-value: 0.22871495516461926\n",
      "spearman coeff duration+creativity: -0.09021440397121602 p-value: 0.14688738819038427\n",
      "spearman coeff answerlength+content: 0.006235424482870653 p-value: 0.9202969154973344\n",
      "spearman coeff answerlength+format: 0.10091941779472066 p-value: 0.10446472334223415\n",
      "spearman coeff answerlength+creativity: -0.07882070157663901 p-value: 0.20522913355889036\n"
     ]
    }
   ],
   "source": [
    "# correlation mit kategorischen daten für [\"duration\", 'number words in answer', \"rating_content\", 'rating_format', 'rating_creativity']\n",
    "rho1, p1 = scipy.stats.spearmanr(freetext[freetext[\"evaluation\"] != \"pending\"]['duration'], freetext[freetext[\"evaluation\"] != \"pending\"]['rating_content'])\n",
    "rho2, p2 = scipy.stats.spearmanr(freetext[freetext[\"evaluation\"] != \"pending\"]['duration'], freetext[freetext[\"evaluation\"] != \"pending\"]['rating_format'])\n",
    "rho3, p3 = scipy.stats.spearmanr(freetext[freetext[\"evaluation\"] != \"pending\"]['duration'], freetext[freetext[\"evaluation\"] != \"pending\"]['rating_creativity'])\n",
    "rho4, p4 = scipy.stats.spearmanr(freetext[freetext[\"evaluation\"] != \"pending\"]['number words in answer'], freetext[freetext[\"evaluation\"] != \"pending\"]['rating_content'])\n",
    "rho5, p5 = scipy.stats.spearmanr(freetext[freetext[\"evaluation\"] != \"pending\"]['number words in answer'], freetext[freetext[\"evaluation\"] != \"pending\"]['rating_format'])\n",
    "rho6, p6 = scipy.stats.spearmanr(freetext[freetext[\"evaluation\"] != \"pending\"]['number words in answer'], freetext[freetext[\"evaluation\"] != \"pending\"]['rating_creativity'])\n",
    "\n",
    "print(\"spearman coeff duration+content: \" + str(rho1) + \" p-value: \" + str(p1))\n",
    "print(\"spearman coeff duration+format: \" + str(rho2) + \" p-value: \" + str(p2))\n",
    "print(\"spearman coeff duration+creativity: \" + str(rho3) + \" p-value: \" + str(p3))\n",
    "print(\"spearman coeff answerlength+content: \" + str(rho4) + \" p-value: \" + str(p4))\n",
    "print(\"spearman coeff answerlength+format: \" + str(rho5) + \" p-value: \" + str(p5))\n",
    "print(\"spearman coeff answerlength+creativity: \" + str(rho6) + \" p-value: \" + str(p6))\n",
    "\n",
    "#unter 0.05 ist signifikant\n",
    "# für coefficients nochmal nachschauen, ab wann wie stark"
   ]
  },
  {
   "cell_type": "code",
   "execution_count": 28,
   "metadata": {},
   "outputs": [
    {
     "name": "stdout",
     "output_type": "stream",
     "text": [
      "spearman coeff content+format: 0.6898912018686403 p-value: 4.5102844236676357e-38\n",
      "spearman coeff content+creat: 0.6847138328329063 p-value: 2.5890141237812365e-37\n",
      "spearman coeff format+creat: 0.5501659435236037 p-value: 5.675264570471399e-22\n"
     ]
    }
   ],
   "source": [
    "rho7, p7 = scipy.stats.spearmanr(freetext[freetext[\"evaluation\"] != \"pending\"]['rating_content'], freetext[freetext[\"evaluation\"] != \"pending\"]['rating_format'])\n",
    "rho8, p8 = scipy.stats.spearmanr(freetext[freetext[\"evaluation\"] != \"pending\"]['rating_content'], freetext[freetext[\"evaluation\"] != \"pending\"]['rating_creativity'])\n",
    "rho9, p9 = scipy.stats.spearmanr(freetext[freetext[\"evaluation\"] != \"pending\"]['rating_format'], freetext[freetext[\"evaluation\"] != \"pending\"]['rating_creativity'])\n",
    "\n",
    "print(\"spearman coeff content+format: \" + str(rho7) + \" p-value: \" + str(p7))\n",
    "print(\"spearman coeff content+creat: \" + str(rho8) + \" p-value: \" + str(p8))\n",
    "print(\"spearman coeff format+creat: \" + str(rho9) + \" p-value: \" + str(p9))"
   ]
  },
  {
   "cell_type": "code",
   "execution_count": null,
   "metadata": {},
   "outputs": [],
   "source": []
  },
  {
   "cell_type": "code",
   "execution_count": null,
   "metadata": {},
   "outputs": [],
   "source": []
  },
  {
   "cell_type": "markdown",
   "metadata": {},
   "source": [
    "## Textfelder"
   ]
  },
  {
   "cell_type": "code",
   "execution_count": null,
   "metadata": {},
   "outputs": [],
   "source": []
  },
  {
   "cell_type": "code",
   "execution_count": null,
   "metadata": {},
   "outputs": [],
   "source": []
  },
  {
   "cell_type": "markdown",
   "metadata": {},
   "source": [
    "# Hilfeanfragen"
   ]
  },
  {
   "cell_type": "code",
   "execution_count": null,
   "metadata": {},
   "outputs": [],
   "source": []
  },
  {
   "cell_type": "code",
   "execution_count": null,
   "metadata": {},
   "outputs": [],
   "source": []
  },
  {
   "cell_type": "markdown",
   "metadata": {},
   "source": [
    "# Durations\n",
    "## nach Aufgabentyp"
   ]
  },
  {
   "cell_type": "code",
   "execution_count": 32,
   "metadata": {},
   "outputs": [
    {
     "data": {
      "image/png": "[encoded data removed]",
      "text/plain": [
       "<Figure size 432x288 with 1 Axes>"
      ]
     },
     "metadata": {
      "needs_background": "light"
     },
     "output_type": "display_data"
    }
   ],
   "source": [
    "df.groupby(\"subType\")[\"duration\"].hist(bins=100)\n",
    "# TODO: vllt als 3d histogram? https://matplotlib.org/stable/gallery/mplot3d/hist3d.html\n",
    "\n",
    "for subType in df.groupby(\"subType\"):\n",
    "    #print(subType[\"duration\"])\n",
    "    #subType[\"duration\"].hist()\n",
    "    plt.show()\n",
    "    \n",
    "#groupby(\"taskId\")\n",
    "#groupby(\"pupilId\")"
   ]
  },
  {
   "cell_type": "code",
   "execution_count": null,
   "metadata": {},
   "outputs": [],
   "source": []
  },
  {
   "cell_type": "code",
   "execution_count": null,
   "metadata": {},
   "outputs": [],
   "source": []
  },
  {
   "cell_type": "markdown",
   "metadata": {},
   "source": []
  },
  {
   "cell_type": "code",
   "execution_count": null,
   "metadata": {},
   "outputs": [],
   "source": []
  },
  {
   "cell_type": "code",
   "execution_count": null,
   "metadata": {},
   "outputs": [],
   "source": []
  },
  {
   "cell_type": "code",
   "execution_count": null,
   "metadata": {},
   "outputs": [],
   "source": []
  },
  {
   "cell_type": "code",
   "execution_count": null,
   "metadata": {},
   "outputs": [],
   "source": []
  },
  {
   "cell_type": "code",
   "execution_count": null,
   "metadata": {},
   "outputs": [],
   "source": []
  },
  {
   "cell_type": "code",
   "execution_count": null,
   "metadata": {},
   "outputs": [],
   "source": []
  },
  {
   "cell_type": "code",
   "execution_count": null,
   "metadata": {},
   "outputs": [],
   "source": []
  },
  {
   "cell_type": "markdown",
   "metadata": {},
   "source": []
  },
  {
   "cell_type": "code",
   "execution_count": null,
   "metadata": {},
   "outputs": [],
   "source": []
  },
  {
   "cell_type": "code",
   "execution_count": null,
   "metadata": {},
   "outputs": [],
   "source": []
  },
  {
   "cell_type": "code",
   "execution_count": null,
   "metadata": {},
   "outputs": [],
   "source": []
  },
  {
   "cell_type": "code",
   "execution_count": null,
   "metadata": {},
   "outputs": [],
   "source": []
  },
  {
   "cell_type": "code",
   "execution_count": null,
   "metadata": {},
   "outputs": [],
   "source": []
  },
  {
   "cell_type": "code",
   "execution_count": null,
   "metadata": {},
   "outputs": [],
   "source": []
  },
  {
   "cell_type": "code",
   "execution_count": null,
   "metadata": {},
   "outputs": [],
   "source": []
  },
  {
   "cell_type": "code",
   "execution_count": null,
   "metadata": {},
   "outputs": [],
   "source": []
  },
  {
   "cell_type": "code",
   "execution_count": null,
   "metadata": {},
   "outputs": [],
   "source": []
  },
  {
   "cell_type": "code",
   "execution_count": null,
   "metadata": {},
   "outputs": [],
   "source": []
  },
  {
   "cell_type": "code",
   "execution_count": null,
   "metadata": {},
   "outputs": [],
   "source": []
  }
 ],
 "metadata": {
  "kernelspec": {
   "display_name": "Python 3",
   "language": "python",
   "name": "python3"
  },
  "language_info": {
   "codemirror_mode": {
    "name": "ipython",
    "version": 3
   },
   "file_extension": ".py",
   "mimetype": "text/x-python",
   "name": "python",
   "nbconvert_exporter": "python",
   "pygments_lexer": "ipython3",
   "version": "3.7.6"
  }
 },
 "nbformat": 4,
 "nbformat_minor": 4
}
